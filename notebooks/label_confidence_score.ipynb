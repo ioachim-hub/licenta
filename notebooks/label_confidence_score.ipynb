{
 "cells": [
  {
   "cell_type": "code",
   "execution_count": 1,
   "metadata": {},
   "outputs": [],
   "source": [
    "import json\n",
    "\n",
    "with open(\"../data/processed/scrapped.json\", \"rb\") as f:\n",
    "    data = json.load(f)\n",
    "\n"
   ]
  },
  {
   "cell_type": "code",
   "execution_count": 4,
   "metadata": {},
   "outputs": [
    {
     "data": {
      "text/plain": [
       "dict_keys(['_id', 'site', 'domain', 'title', 'content', 'date', 'label', 'searched', 'alike_news', 'content_keywords', 'title_keywords'])"
      ]
     },
     "execution_count": 4,
     "metadata": {},
     "output_type": "execute_result"
    }
   ],
   "source": [
    "data[0].keys()"
   ]
  },
  {
   "cell_type": "code",
   "execution_count": 2,
   "metadata": {},
   "outputs": [],
   "source": [
    "import json\n",
    "\n",
    "with open(\"./domains.json\", \"rb\") as f:\n",
    "    domains = json.load(f)\n"
   ]
  },
  {
   "cell_type": "code",
   "execution_count": 3,
   "metadata": {},
   "outputs": [
    {
     "name": "stdout",
     "output_type": "stream",
     "text": [
      "Minimun trust score: -0.1\n",
      "Maximun trust score: 6.7\n"
     ]
    }
   ],
   "source": [
    "minimun_ts: float = 999\n",
    "maximun_ts: float = 0\n",
    "\n",
    "ts_list = []\n",
    "\n",
    "for key, value in domains.items():\n",
    "    if float(value[\"trust_score\"]) < minimun_ts:\n",
    "        minimun_ts = float(value[\"trust_score\"])\n",
    "    if float(value[\"trust_score\"]) > maximun_ts:\n",
    "        maximun_ts = float(value[\"trust_score\"])\n",
    "    ts_list.append(float(value[\"trust_score\"]))\n",
    "\n",
    "print(f\"Minimun trust score: {minimun_ts}\")\n",
    "print(f\"Maximun trust score: {maximun_ts}\")"
   ]
  },
  {
   "cell_type": "code",
   "execution_count": 4,
   "metadata": {},
   "outputs": [
    {
     "name": "stdout",
     "output_type": "stream",
     "text": [
      "Minimun score: 1.0\n",
      "Maximun score: 73.0\n"
     ]
    }
   ],
   "source": [
    "minimun_score: float = 999\n",
    "maximun_score: float = 0\n",
    "score_list = []\n",
    "\n",
    "for key, value in domains.items():\n",
    "    if float(value[\"score\"]) < minimun_score:\n",
    "        minimun_score = float(value[\"score\"])\n",
    "    if float(value[\"score\"]) > maximun_score:\n",
    "        maximun_score = float(value[\"score\"])\n",
    "    score_list.append(float(value[\"score\"]))\n",
    "\n",
    "print(f\"Minimun score: {minimun_score}\")\n",
    "print(f\"Maximun score: {maximun_score}\")"
   ]
  },
  {
   "cell_type": "code",
   "execution_count": 5,
   "metadata": {},
   "outputs": [],
   "source": [
    "import numpy as np\n",
    "from sklearn.preprocessing import MinMaxScaler\n",
    "\n",
    "\n",
    "ts_scaller = MinMaxScaler()\n",
    "score_scaller = MinMaxScaler()\n",
    "\n",
    "ts_scallered = ts_scaller.fit_transform(np.array(ts_list).reshape(-1, 1))\n",
    "score_scallered = score_scaller.fit_transform(np.array(score_list).reshape(-1, 1))\n"
   ]
  },
  {
   "cell_type": "code",
   "execution_count": 6,
   "metadata": {},
   "outputs": [],
   "source": [
    "# lowercase keys\n",
    "domains_lc = {}\n",
    "for key, value in domains.items():\n",
    "    domains_lc[key.lower()] = value\n"
   ]
  },
  {
   "cell_type": "markdown",
   "metadata": {},
   "source": [
    "```json\n",
    "{\n",
    "    \"_id\": \"\",\n",
    "    \"site\": \"\",\n",
    "    \"domain\": \"\",\n",
    "    \"title\": \"\",\n",
    "    \"content\": \"\",\n",
    "    \"date\": \"\",\n",
    "    \"label\": 1,\n",
    "    \"searched\": 0,\n",
    "    \"alike_news\": [],\n",
    "    \"content_keywords\": [\n",
    "        {\n",
    "            \"url\": \"\",\n",
    "            \"title\": \"\",\n",
    "            \"text\": \"\",\n",
    "            \"is_similar\": 0,\n",
    "            \"slug\": \"\",\n",
    "            \"meta\": \"\",\n",
    "        },\n",
    "        {}\n",
    "    ],\n",
    "    \"title_keywords\": [],\n",
    "}\n",
    "```"
   ]
  },
  {
   "cell_type": "code",
   "execution_count": 7,
   "metadata": {},
   "outputs": [],
   "source": [
    "def remove_www(domain: str):\n",
    "    domain = domain.replace(\"feed\", \"\")\n",
    "    if domain.startswith(\"https://\"):\n",
    "        domain = domain[8:]\n",
    "\n",
    "    if domain.startswith(\"http://\"):\n",
    "        domain = domain[7:]\n",
    "\n",
    "    if domain.startswith(\"www.\"):\n",
    "        return domain[4:-1]\n",
    "    return domain[:-1]\n",
    "\n",
    "\n",
    "def extract_domain_from_url(url: str):\n",
    "    return url.split(\"/\")[2]\n"
   ]
  },
  {
   "cell_type": "code",
   "execution_count": 12,
   "metadata": {},
   "outputs": [],
   "source": [
    "import statistics\n",
    "\n",
    "for entry in data:\n",
    "    site = entry[\"site\"]\n",
    "    if site not in domains_lc.keys():\n",
    "        site = remove_www(site)\n",
    "    try:\n",
    "        values = [score_scaller.transform([[domains_lc[site][\"score\"]]])[0][0]]\n",
    "    except Exception:\n",
    "        values = [score_scaller.transform([[domains_lc[\"www.\" + site][\"score\"]]])[0][0]]\n",
    "    try:\n",
    "        weights = [1 - ts_scaller.transform([[domains_lc[site][\"trust_score\"]]])[0][0]]\n",
    "    except Exception:\n",
    "        weights = [1 - ts_scaller.transform([[domains_lc[\"www.\" + site][\"trust_score\"]]])[0][0]]\n",
    "\n",
    "    if site == \"timesnewroman.ro\":\n",
    "        entry[\"label\"] = 0\n",
    "        continue\n",
    "\n",
    "    for news in entry[\"alike_news\"]:\n",
    "        if news is not None:\n",
    "            if \"has_similar_content\" in news.keys() or \"has_similar_title\" in news.keys():\n",
    "                if news[\"has_similar_content\"] or news[\"has_similar_title\"]:\n",
    "                    if \"wikipedia\" in news[\"url\"]:\n",
    "                        values.append(1)\n",
    "                        weights.append(1)\n",
    "                    else:\n",
    "                        site = extract_domain_from_url(news[\"url\"])\n",
    "                        if site not in domains_lc.keys():\n",
    "                            site = remove_www(site)\n",
    "                    try:\n",
    "                        values.append(score_scaller.transform([[domains_lc[site][\"score\"]]])[0][0])\n",
    "                        weights.append(\n",
    "                            1 - ts_scaller.transform([[domains_lc[site][\"trust_score\"]]])[0][0]\n",
    "                        )\n",
    "                    except KeyError:\n",
    "                        values.append(0.5)\n",
    "                        weights.append(0.5)\n",
    "\n",
    "    entry[\"label\"] = statistics.harmonic_mean(values, weights=weights)\n"
   ]
  },
  {
   "cell_type": "code",
   "execution_count": 25,
   "metadata": {},
   "outputs": [],
   "source": [
    "for entry in data:\n",
    "    entry[\"label\"] = round(entry[\"label\"], 2)"
   ]
  },
  {
   "cell_type": "markdown",
   "metadata": {},
   "source": [
    "```json\n",
    "{\n",
    "    \"_id\": \"\",\n",
    "    \"site\": \"\",\n",
    "    \"domain\": \"\",\n",
    "    \"title\": \"\",\n",
    "    \"content\": \"\",\n",
    "    \"date\": \"\",\n",
    "    \"label\": 1,\n",
    "    \"searched\": 0,\n",
    "    \"alike_news\": [\n",
    "        {\n",
    "            \"url\": \"\",\n",
    "            \"title\": \"\",\n",
    "            \"text\": \"\",\n",
    "            \"is_similar\": 0,\n",
    "            \"slug\": \"\",\n",
    "            \"meta\": \"\",\n",
    "        },\n",
    "        {}\n",
    "    ],\n",
    "    \"content_keywords\": [],\n",
    "    \"title_keywords\": [],\n",
    "}\n",
    "```"
   ]
  },
  {
   "cell_type": "code",
   "execution_count": 13,
   "metadata": {},
   "outputs": [],
   "source": [
    "for entry in data:\n",
    "    del entry[\"searched\"]\n",
    "    del entry[\"alike_news\"]\n",
    "    del entry[\"content_keywords\"]\n",
    "    del entry[\"title_keywords\"]"
   ]
  },
  {
   "cell_type": "code",
   "execution_count": 27,
   "metadata": {},
   "outputs": [],
   "source": [
    "import pandas as pd\n",
    "\n",
    "df = pd.DataFrame(data)"
   ]
  },
  {
   "cell_type": "code",
   "execution_count": 28,
   "metadata": {},
   "outputs": [],
   "source": [
    "df[\"date\"] = [pd.Timestamp(x[\"$date\"]) for x in df[\"date\"]]"
   ]
  },
  {
   "cell_type": "code",
   "execution_count": 29,
   "metadata": {},
   "outputs": [],
   "source": [
    "df[\"_id\"] = [x[\"$oid\"] for x in df[\"_id\"]]"
   ]
  },
  {
   "cell_type": "code",
   "execution_count": 30,
   "metadata": {},
   "outputs": [
    {
     "name": "stderr",
     "output_type": "stream",
     "text": [
      "/tmp/ipykernel_28054/1263213858.py:1: SettingWithCopyWarning:\n",
      "\n",
      "\n",
      "A value is trying to be set on a copy of a slice from a DataFrame.\n",
      "Try using .loc[row_indexer,col_indexer] = value instead\n",
      "\n",
      "See the caveats in the documentation: https://pandas.pydata.org/pandas-docs/stable/user_guide/indexing.html#returning-a-view-versus-a-copy\n",
      "\n"
     ]
    }
   ],
   "source": [
    "df[df[\"site\"] == \"https://www.timesnewroman.ro/\"][\"label\"] = 0"
   ]
  },
  {
   "cell_type": "code",
   "execution_count": 31,
   "metadata": {},
   "outputs": [],
   "source": [
    "df.to_parquet(\"../data/raw/scrapped_data/celery_scrapped_data/scrappedv2.gzip\", compression='gzip')"
   ]
  },
  {
   "cell_type": "code",
   "execution_count": 19,
   "metadata": {},
   "outputs": [
    {
     "data": {
      "text/plain": [
       "array(['https://www.digi24.ro/', 'https://www.aktual24.ro/',\n",
       "       'https://www.timesnewroman.ro/', 'https://caplimpede.ro/',\n",
       "       'https://www.activenews.ro/', 'https://www.biziday.ro/',\n",
       "       'https://www.biziday.ro/feed', 'https://infoalert.ro/'],\n",
       "      dtype=object)"
      ]
     },
     "execution_count": 19,
     "metadata": {},
     "output_type": "execute_result"
    }
   ],
   "source": [
    "df.site.unique()"
   ]
  },
  {
   "cell_type": "code",
   "execution_count": 22,
   "metadata": {},
   "outputs": [
    {
     "data": {
      "text/html": [
       "<div>\n",
       "<style scoped>\n",
       "    .dataframe tbody tr th:only-of-type {\n",
       "        vertical-align: middle;\n",
       "    }\n",
       "\n",
       "    .dataframe tbody tr th {\n",
       "        vertical-align: top;\n",
       "    }\n",
       "\n",
       "    .dataframe thead th {\n",
       "        text-align: right;\n",
       "    }\n",
       "</style>\n",
       "<table border=\"1\" class=\"dataframe\">\n",
       "  <thead>\n",
       "    <tr style=\"text-align: right;\">\n",
       "      <th></th>\n",
       "      <th>_id</th>\n",
       "      <th>site</th>\n",
       "      <th>domain</th>\n",
       "      <th>title</th>\n",
       "      <th>content</th>\n",
       "      <th>date</th>\n",
       "      <th>label</th>\n",
       "    </tr>\n",
       "  </thead>\n",
       "  <tbody>\n",
       "    <tr>\n",
       "      <th>0</th>\n",
       "      <td>62740edcedb541967dd03cb6</td>\n",
       "      <td>https://www.digi24.ro/</td>\n",
       "      <td>stiri/externe</td>\n",
       "      <td>Bursele asiatice în declin, petrolul în cădere...</td>\n",
       "      <td>Bursele asiatice înregistrau scăderi pe linie ...</td>\n",
       "      <td>2020-03-12 09:31:00+00:00</td>\n",
       "      <td>0.763889</td>\n",
       "    </tr>\n",
       "    <tr>\n",
       "      <th>1</th>\n",
       "      <td>62740edcedb541967dd03cb7</td>\n",
       "      <td>https://www.digi24.ro/</td>\n",
       "      <td>stiri/externe</td>\n",
       "      <td>Ministrul britanic al sănătății: Nu vom ezita ...</td>\n",
       "      <td>Matt Hancock, ministrul britanic al sănătății,...</td>\n",
       "      <td>2020-07-30 11:46:00+00:00</td>\n",
       "      <td>0.763889</td>\n",
       "    </tr>\n",
       "    <tr>\n",
       "      <th>2</th>\n",
       "      <td>62740edcedb541967dd03cbd</td>\n",
       "      <td>https://www.digi24.ro/</td>\n",
       "      <td>stiri/actualitate</td>\n",
       "      <td>Cum a pierdut PSD majoritatea în Biroul Perman...</td>\n",
       "      <td>Absența senatorului PSD Ion Ganea de la întrun...</td>\n",
       "      <td>2020-10-27 18:58:00+00:00</td>\n",
       "      <td>0.763889</td>\n",
       "    </tr>\n",
       "    <tr>\n",
       "      <th>3</th>\n",
       "      <td>62740edcedb541967dd03cb5</td>\n",
       "      <td>https://www.digi24.ro/</td>\n",
       "      <td>stiri/externe</td>\n",
       "      <td>Șase turiști faliți au fost salvați după 25 de...</td>\n",
       "      <td>Șase turiști care locuiau într-o peșteră din I...</td>\n",
       "      <td>2020-04-21 11:54:00+00:00</td>\n",
       "      <td>0.763889</td>\n",
       "    </tr>\n",
       "    <tr>\n",
       "      <th>4</th>\n",
       "      <td>62740edcedb541967dd03cbe</td>\n",
       "      <td>https://www.digi24.ro/</td>\n",
       "      <td>stiri/actualitate</td>\n",
       "      <td>Coronavirus. Pensionarul de la MAI care a minț...</td>\n",
       "      <td>Bărbatul de 60 de ani infectat cu coronavirus ...</td>\n",
       "      <td>2020-03-11 13:44:00+00:00</td>\n",
       "      <td>0.763889</td>\n",
       "    </tr>\n",
       "  </tbody>\n",
       "</table>\n",
       "</div>"
      ],
      "text/plain": [
       "                        _id                    site             domain  \\\n",
       "0  62740edcedb541967dd03cb6  https://www.digi24.ro/      stiri/externe   \n",
       "1  62740edcedb541967dd03cb7  https://www.digi24.ro/      stiri/externe   \n",
       "2  62740edcedb541967dd03cbd  https://www.digi24.ro/  stiri/actualitate   \n",
       "3  62740edcedb541967dd03cb5  https://www.digi24.ro/      stiri/externe   \n",
       "4  62740edcedb541967dd03cbe  https://www.digi24.ro/  stiri/actualitate   \n",
       "\n",
       "                                               title  \\\n",
       "0  Bursele asiatice în declin, petrolul în cădere...   \n",
       "1  Ministrul britanic al sănătății: Nu vom ezita ...   \n",
       "2  Cum a pierdut PSD majoritatea în Biroul Perman...   \n",
       "3  Șase turiști faliți au fost salvați după 25 de...   \n",
       "4  Coronavirus. Pensionarul de la MAI care a minț...   \n",
       "\n",
       "                                             content  \\\n",
       "0  Bursele asiatice înregistrau scăderi pe linie ...   \n",
       "1  Matt Hancock, ministrul britanic al sănătății,...   \n",
       "2  Absența senatorului PSD Ion Ganea de la întrun...   \n",
       "3  Șase turiști care locuiau într-o peșteră din I...   \n",
       "4  Bărbatul de 60 de ani infectat cu coronavirus ...   \n",
       "\n",
       "                       date     label  \n",
       "0 2020-03-12 09:31:00+00:00  0.763889  \n",
       "1 2020-07-30 11:46:00+00:00  0.763889  \n",
       "2 2020-10-27 18:58:00+00:00  0.763889  \n",
       "3 2020-04-21 11:54:00+00:00  0.763889  \n",
       "4 2020-03-11 13:44:00+00:00  0.763889  "
      ]
     },
     "execution_count": 22,
     "metadata": {},
     "output_type": "execute_result"
    }
   ],
   "source": [
    "df.head()"
   ]
  }
 ],
 "metadata": {
  "interpreter": {
   "hash": "370c45c36568df420e0621ad65c468f2f5bbcd1be324cc5f2c0a2f77966e1542"
  },
  "kernelspec": {
   "display_name": "Python 3.10.4 ('licenta-env': venv)",
   "language": "python",
   "name": "python3"
  },
  "language_info": {
   "codemirror_mode": {
    "name": "ipython",
    "version": 3
   },
   "file_extension": ".py",
   "mimetype": "text/x-python",
   "name": "python",
   "nbconvert_exporter": "python",
   "pygments_lexer": "ipython3",
   "version": "3.10.4"
  },
  "orig_nbformat": 4
 },
 "nbformat": 4,
 "nbformat_minor": 2
}
