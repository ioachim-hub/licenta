{
 "cells": [
  {
   "cell_type": "code",
   "execution_count": 21,
   "metadata": {},
   "outputs": [],
   "source": [
    "from transformers import AutoTokenizer, AutoModel\n",
    "import torch"
   ]
  },
  {
   "cell_type": "code",
   "execution_count": 22,
   "metadata": {},
   "outputs": [],
   "source": [
    "tokenizer = AutoTokenizer.from_pretrained('sentence-transformers/all-MiniLM-L6-v2')\n",
    "model = AutoModel.from_pretrained('sentence-transformers/all-MiniLM-L6-v2')"
   ]
  },
  {
   "cell_type": "code",
   "execution_count": 23,
   "metadata": {},
   "outputs": [],
   "source": [
    "# sentences = [\n",
    "#     \"Metrorex a semnat cu Alstom un contract de 2,45 miliarde de lei pentru mentenanța trenurilor pe 15 ani\",\n",
    "#     \"Umrechner Rumänischer Leu zu Euro | RON/EURUmrechner vom Rumänischen Leu (RON) zum Euro und umgekehrt\",\n",
    "#     \"Metroul din București - Wikipedia - Metroul din București\",\n",
    "#     \"Magistrala M5 de metrou Drumul Taberei - Eroilor 2 - 'In cati ani va fi aici statia ta de metrou?' - HotNews.ro Magistrala M5 de metrou Drumul Taberei - Eroilor 2 - 'In cati ani va fi aici statia ta de metrou?' Rușii au aruncat în luptă cel mai modern tanc al lor. Ucrainenilor le-au trebuit doar câteva zile pentru a ”vâna” primul T-90M - FOTO                       Moscova cere importuri paralele pentru a ocoli restricțiile și a reduce penuria: de la telefoane la mașini                       fanatik.ro: Exclusiv. Criminalul fetiței de 4 ani incendiate la Arad, condamnat definitiv. Bărbatul va plăti mai puțini bani părinților. Tatăl...                       Primăria Capitalei vrea să obțină 1 milion de lei pe zi din parcările publice / Accesul mașinilor pe trotuar ar urma să fie blocat de stâlpișori                       Institutul pentru Studiul Războiului: Operațiunea ucraineană din jurul Harkovului se transformă într-o contraofensivă de succes / Rușii nu au...                       Generalul (r) american Mike Repass, după ce a vizitat Ucraina: Lanțul de aprovizionare e slab, NATO se mișcă prea încet / Ce îi trebuie Ucrainei...          Intra în contul tau folosind adresa de e-mail si parola Creaza un cont nou pe HotNews.ro VIDEO O dronă Bayraktar a distrus o navă de debarcare rusească de lângă Insula Șerpilor / Ucrainenii fac ravagii de 10 zile pe insula ocupată de ruși ​Fonduri UE 2022: Microgranturile și granturile de 5.000-120.000 EUR publicate în Monitorul oficial. Descarcă OUG 61/2022, cu condățiile de finanțare și Lista codurilor CAEN Șeful OMS a ajuns în Ucraina / El va evalua modul în care OMS își poate spori sprijinul în zonă Cum a ajuns Craiova în topul destinațiilor europene de Paște. Incursiune în „bucătăria” celui mai vizitat site de travel din Europa Premieră: Deutsche Bahn și Siemens Mobility prezintă noul tren pe hidrogen și trailerul cu rezervorul de stocare a hidrogenului 8 cazuri suspecte de hepatită de origine necunoscută la copii, anchetate în Argentina Armata Roșie face sâmbătă repetiția pentru parada de Ziua Victoriei / Avionul Apocalipsei va zbura peste Piața Roșie Dincolo de narativul „pericolului românesc” pentru Republica Moldova Steaua, 36 de ani de la câștigarea Cupei Campionilor Europeni - Mesajele eroilor de la Sevilla Ungaria anunță că va construi 317 km. de autostrăzi noi și va adăuga benzi pe alți 265 km. de autostradă Coreea de Nord a lansat sâmbătă dimineață o rachetă balistică de pe un submarin / Phenianul pare să pregătească și un test cu focoase nucleare Digi24: VIDEO CTP: Cine se întreabă ce caută Jill Biden la baza „Mihail Kogălniceanu” înseamnă că nu s-a documentat IGPF: Peste 8.000 de ucraineni au intrat vineri în ţară FOTO Protestul inedit al lui Lewis Hamilton - Campionul mondial ar putea lua o decizie radicală Fizica cuantică ar putea explica mutațiile din ADN / Programatorul român care s-a viralizat pe Twitter / Armata chineză, păcălită de un avion din „Top Gun Maverick” VIDEO Primele imagini cu dronele kamikaze Switchblade care îi lovesc pe soldații ruși Guvernul a prelungit valabilitatea asigurărilor de garanții emise de City Insurance pentru a salva contracte de peste 2,9 miliarde de euro O fregata rusă ar fi fost lovită cu rachete de ucraineni - informații neconfirmate / Nava Amiral Makarov ar fi fost atacată cu rachete Neptun / Reacția Kremlinului - UDAPTE Moscova cere importuri paralele pentru a ocoli restricțiile și a reduce penuria: de la telefoane la mașini VIDEO Un nou incendiu uriaș a izbucnit în Rusia / Tot mai multe speculații privind acțiuni ale unor grupuri de sabotori Un expert a calculat cât îl costă pe Vladimir Putin războiul din Ucraina în fiecare zi LIVE Război în Ucraina, ziua 73: Operațiunea ucraineană de lângă Harkov devine o contraofensivă de succes / Rușii au pierdut deja un T-90M, cel mai modern tanc al lor Dincolo de narativul „pericolului românesc” pentru Republica Moldova Libia: un deceniu de instabilitate – Incursiune în istorie Este libertatea academică în pericol? Despre dezechilibrul ideologic și deriva către... CESE marchează Ziua Europei 2022 (#EuropeDay2022) cu atenția îndreptată asupra... Noile tendințe în agresiunea împotriva Ucrainei, sancțiunile occidentale și arma... Fonduri UE 2022: Microgranturile și granturile de 5.000-120.000 EUR publicate în Monitorul oficial. Descarcă OUG 61/2022, cu condățiile de finanțare și Lista codurilor CAEN Românii au obținut aproape 63.000 de credite de la Banca Transilvania, în primele 3 luni ale anului 2022 Telefoanele chinezești Honor, prezentate oficial pe piața românească, după desprinderea mărcii de Huawei Fonduri UE de câte 5.000-120.000 Euro: S-a anunțat când se înscriu la finanțare SRL, PFA, II agroalimentare GDPR în România: 2 firme amendate cu 8.000 euro, pentru SMS-uri și camere video la birou Jill Biden, întâlnire cu Carmen Iohannis și vizită la o școală care găzduiește elevi ucraineni Ucrainenii susțin că au lovit o fregată rusească în Marea Neagră Klaus Iohannis a discutat cu Maia Sandu despre tensiunile din Transnistria Ciolacu: Eu nu am pensie specială. Și nu voi avea niciodată România și Lituania susțin eliminarea dependenței energetice a Uniunii\"\n",
    "#     \"Metrorex versus Underground - o comparație între metroul din București și metroul din Londra | ContributorsMetrorex versus Underground – o comparație între metroul din București și metroul din Londra\",\n",
    "#     \"Metroul spre Otopeni, o nouă amânare - Observator de IlfovMetroul spre Otopeni, o nouă amânare\",\n",
    "#     \"Forumul Metrou Ușor - Lucrări de modernizare și extindere a infrastructurii - Despre inelul median - 'autostrada suspendata'\",\n",
    "#     \"Economica.net - Aplicatie Mobil - Economica.netAplicatie Mobil\"\n",
    "# ]\n",
    "\n",
    "sentences = [\n",
    "    \"Franța a trecut de 100.000 de cazuri noi de COVID pe zi. Italia și Irlanda ating noi praguri record\",\n",
    "    \"Franța a trecut de 100.000 de cazuri noi de COVID pe zi. Italia și Irlanda ating noi praguri record | Digi24 Franța a trecut de 100.000 de cazuri noi de COVID pe zi. Italia și Irlanda ating noi praguri record\",\n",
    "    \"COVID-19 situation update for the EU/EEA, as of 4 May 2022COVID-19 situation update for the EU/EEA, as of 4 May 2022\",\n",
    "    \"Franța a trecut de 100.000 de cazuri noi de COVID pe zi. Italia și Irlanda ating noi praguri record - Cazuri COVID 1 februarie 2022 Franța a trecut de 100.000 de cazuri noi de COVID pe zi. Italia și Irlanda ating noi praguri record\",\n",
    "    \"COVID in Europe: Netherlands to reopen shops, gyms, and hairdressers | Euronews      Euronews    Euronews     COVID in Europe: Netherlands to reopen shops, gyms, and hairdressers\",\n",
    "    \"Daily Covid-19 infections top 100,000 in France google-play-badge_ENDaily Covid-19 infections top 100,000 in France\",\n",
    "    \"World food company - Danone\",\n",
    "    \"Irlanda retrasa a octubre la relajación de las restricciones de viaje por el virus | ReutersIrlanda retrasa a octubre la relajación de las restricciones de viaje por el virus\",\n",
    "    \"Franta a trecut de 100.000 de cazuri noi de COVID pe zi. Italia si Irlanda ating noi praguri record\",\n",
    "    \"Irland: COVID-19: Reise-Updates und Beschränkungen | SkyscannerIrland: Reise-Updates und COVID-19-Reisebeschränkungen\"\n",
    "]\n",
    "\n",
    "\"\"\"\n",
    "array([[0.9479401 , 0.23961058, 0.9379337 , 0.18119809, 0.3923966 ,\n",
    "        0.12238012, 0.12626758, 1.0000001 , 0.2618574 ]], dtype=float32)\n",
    "        \"\"\"\n",
    "\n",
    "# initialize dictionary to store tokenized sentences\n",
    "tokens = {'input_ids': [], 'attention_mask': []}\n",
    "\n",
    "for sentence in sentences:\n",
    "    # encode each sentence and append to dictionary\n",
    "    new_tokens = tokenizer.encode_plus(sentence, max_length=128,\n",
    "                                       truncation=True, padding='max_length',\n",
    "                                       return_tensors='pt')\n",
    "    tokens['input_ids'].append(new_tokens['input_ids'][0])\n",
    "    tokens['attention_mask'].append(new_tokens['attention_mask'][0])\n",
    "\n",
    "# reformat list of tensors into single tensor\n",
    "tokens['input_ids'] = torch.stack(tokens['input_ids'])\n",
    "tokens['attention_mask'] = torch.stack(tokens['attention_mask'])"
   ]
  },
  {
   "cell_type": "code",
   "execution_count": 24,
   "metadata": {},
   "outputs": [],
   "source": [
    "outputs = model(**tokens)"
   ]
  },
  {
   "cell_type": "code",
   "execution_count": 25,
   "metadata": {},
   "outputs": [],
   "source": [
    "embeddings = outputs.last_hidden_state"
   ]
  },
  {
   "cell_type": "code",
   "execution_count": 26,
   "metadata": {},
   "outputs": [],
   "source": [
    "attention_mask = tokens['attention_mask']"
   ]
  },
  {
   "cell_type": "code",
   "execution_count": 27,
   "metadata": {},
   "outputs": [
    {
     "data": {
      "text/plain": [
       "torch.Size([10, 128, 384])"
      ]
     },
     "execution_count": 27,
     "metadata": {},
     "output_type": "execute_result"
    }
   ],
   "source": [
    "mask = attention_mask.unsqueeze(-1).expand(embeddings.size()).float()\n",
    "mask.shape"
   ]
  },
  {
   "cell_type": "code",
   "execution_count": 28,
   "metadata": {},
   "outputs": [],
   "source": [
    "masked_embeddings = embeddings * mask"
   ]
  },
  {
   "cell_type": "code",
   "execution_count": 29,
   "metadata": {},
   "outputs": [],
   "source": [
    "summed = torch.sum(masked_embeddings, 1)"
   ]
  },
  {
   "cell_type": "code",
   "execution_count": 30,
   "metadata": {},
   "outputs": [],
   "source": [
    "summed_mask = torch.clamp(mask.sum(1), min=1e-9)"
   ]
  },
  {
   "cell_type": "code",
   "execution_count": 31,
   "metadata": {},
   "outputs": [],
   "source": [
    "mean_pooled = summed / summed_mask"
   ]
  },
  {
   "cell_type": "code",
   "execution_count": 32,
   "metadata": {},
   "outputs": [],
   "source": [
    "from sklearn.metrics.pairwise import cosine_similarity"
   ]
  },
  {
   "cell_type": "code",
   "execution_count": 33,
   "metadata": {},
   "outputs": [
    {
     "data": {
      "text/plain": [
       "array([[0.9479401 , 0.23961058, 0.9379337 , 0.18119809, 0.3923966 ,\n",
       "        0.12238012, 0.12626758, 1.0000001 , 0.2618574 ]], dtype=float32)"
      ]
     },
     "execution_count": 33,
     "metadata": {},
     "output_type": "execute_result"
    }
   ],
   "source": [
    "# convert from PyTorch tensor to numpy array\n",
    "mean_pooled = mean_pooled.detach().numpy()\n",
    "\n",
    "# calculate\n",
    "cosine_similarity(\n",
    "    [mean_pooled[0]],\n",
    "    mean_pooled[1:]\n",
    ")"
   ]
  },
  {
   "cell_type": "code",
   "execution_count": null,
   "metadata": {},
   "outputs": [],
   "source": []
  }
 ],
 "metadata": {
  "interpreter": {
   "hash": "370c45c36568df420e0621ad65c468f2f5bbcd1be324cc5f2c0a2f77966e1542"
  },
  "kernelspec": {
   "display_name": "Python 3.10.4 ('licenta-env': venv)",
   "language": "python",
   "name": "python3"
  },
  "language_info": {
   "codemirror_mode": {
    "name": "ipython",
    "version": 3
   },
   "file_extension": ".py",
   "mimetype": "text/x-python",
   "name": "python",
   "nbconvert_exporter": "python",
   "pygments_lexer": "ipython3",
   "version": "3.10.4"
  },
  "orig_nbformat": 4
 },
 "nbformat": 4,
 "nbformat_minor": 2
}
