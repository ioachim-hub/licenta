{
 "cells": [
  {
   "cell_type": "code",
   "execution_count": 1,
   "metadata": {},
   "outputs": [],
   "source": [
    "import pandas as pd\n",
    "df_balanced = pd.read_parquet(\"../data/processed/scrapped_cleaned_valid_and_fake_balanced.gzip\")"
   ]
  },
  {
   "cell_type": "code",
   "execution_count": 3,
   "metadata": {},
   "outputs": [],
   "source": [
    "df_balanced[\"searched\"] = [0 for _ in range(len(df_balanced))]"
   ]
  },
  {
   "cell_type": "code",
   "execution_count": 29,
   "metadata": {},
   "outputs": [],
   "source": [
    "balanced = df_balanced.to_dict(\"records\")"
   ]
  },
  {
   "cell_type": "code",
   "execution_count": 30,
   "metadata": {},
   "outputs": [],
   "source": [
    "for entry in balanced:\n",
    "    del entry[\"_id\"]\n",
    "    entry[\"date\"] = {\n",
    "        \"$date\": entry[\"date\"].isoformat()\n",
    "    }"
   ]
  },
  {
   "cell_type": "code",
   "execution_count": 31,
   "metadata": {},
   "outputs": [],
   "source": [
    "import json\n",
    "with open(\"../data/processed/data.json\", \"w\", encoding=\"utf8\") as f:\n",
    "    f.write(json.dumps(balanced, indent=4, ensure_ascii=False))"
   ]
  }
 ],
 "metadata": {
  "interpreter": {
   "hash": "370c45c36568df420e0621ad65c468f2f5bbcd1be324cc5f2c0a2f77966e1542"
  },
  "kernelspec": {
   "display_name": "Python 3.10.4 ('licenta-env': venv)",
   "language": "python",
   "name": "python3"
  },
  "language_info": {
   "codemirror_mode": {
    "name": "ipython",
    "version": 3
   },
   "file_extension": ".py",
   "mimetype": "text/x-python",
   "name": "python",
   "nbconvert_exporter": "python",
   "pygments_lexer": "ipython3",
   "version": "3.10.4"
  },
  "orig_nbformat": 4
 },
 "nbformat": 4,
 "nbformat_minor": 2
}
