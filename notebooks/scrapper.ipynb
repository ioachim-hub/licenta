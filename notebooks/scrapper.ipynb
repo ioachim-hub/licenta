{
 "cells": [
  {
   "cell_type": "code",
   "execution_count": 1,
   "metadata": {},
   "outputs": [],
   "source": [
    "from facebook_scraper import get_posts\n",
    "import pickle\n",
    "import os, os.path\n"
   ]
  },
  {
   "cell_type": "code",
   "execution_count": 28,
   "metadata": {},
   "outputs": [],
   "source": [
    "number = len([name for name in os.listdir(f'../scrapped_data/{site}') if os.path.isfile(name)])"
   ]
  },
  {
   "cell_type": "code",
   "execution_count": null,
   "metadata": {},
   "outputs": [],
   "source": [
    "site = 'mapn.ro'\n",
    "\n",
    "number = len([name for name in os.listdir(f'../scrapped_data/{site}') if os.path.isfile(name)])\n",
    "\n",
    "for post in get_posts(account=site, credentials=['ioachim.lihor@gmail.com', '@.Chiml999'], pages=200):\n",
    "    with open(f'../scrapped_data/{site}/{number}', 'wb') as o:\n",
    "        pickle.dump(post, o, protocol=pickle.HIGHEST_PROTOCOL)\n",
    "    number += 1"
   ]
  },
  {
   "cell_type": "code",
   "execution_count": null,
   "metadata": {},
   "outputs": [],
   "source": [
    "site = 'klausiohannis'\n",
    "\n",
    "number = len([name for name in os.listdir(f'../scrapped_data/{site}') if os.path.isfile(name)])\n",
    "\n",
    "for post in get_posts(account=site, credentials=['ioachim.lihor@gmail.com', '@.Chiml999'], pages=200):\n",
    "    with open(f'../scrapped_data/{site}/{number}', 'wb') as o:\n",
    "        pickle.dump(post, o, protocol=pickle.HIGHEST_PROTOCOL)\n",
    "    number += 1"
   ]
  },
  {
   "cell_type": "code",
   "execution_count": null,
   "metadata": {},
   "outputs": [],
   "source": [
    "site = 'mae.romania'\n",
    "\n",
    "number = len([name for name in os.listdir(f'../scrapped_data/{site}') if os.path.isfile(name)])\n",
    "\n",
    "for post in get_posts(account=site, credentials=['ioachim.lihor@gmail.com', '@.Chiml999'], pages=200):\n",
    "    with open(f'../scrapped_data/{site}/{number}', 'wb') as o:\n",
    "        pickle.dump(post, o, protocol=pickle.HIGHEST_PROTOCOL)\n",
    "    number += 1"
   ]
  },
  {
   "cell_type": "code",
   "execution_count": null,
   "metadata": {},
   "outputs": [],
   "source": [
    "site = 'ministeruldeinterne'\n",
    "\n",
    "number = len([name for name in os.listdir(f'../scrapped_data/{site}') if os.path.isfile(name)])\n",
    "\n",
    "for post in get_posts(account=site, credentials=['ioachim.lihor@gmail.com', '@.Chiml999'], pages=200):\n",
    "    with open(f'../scrapped_data/{site}/{number}', 'wb') as o:\n",
    "        pickle.dump(post, o, protocol=pickle.HIGHEST_PROTOCOL)\n",
    "    number += 1"
   ]
  },
  {
   "cell_type": "code",
   "execution_count": null,
   "metadata": {},
   "outputs": [],
   "source": [
    "site = 'guv.ro'\n",
    "\n",
    "number = len([name for name in os.listdir(f'../scrapped_data/{site}') if os.path.isfile(name)])\n",
    "\n",
    "for post in get_posts(account=site, credentials=['ioachim.lihor@gmail.com', '@.Chiml999'], pages=200):\n",
    "    with open(f'../scrapped_data/{site}/{number}', 'wb') as o:\n",
    "        pickle.dump(post, o, protocol=pickle.HIGHEST_PROTOCOL)\n",
    "    number += 1"
   ]
  },
  {
   "cell_type": "code",
   "execution_count": null,
   "metadata": {},
   "outputs": [],
   "source": [
    "site = 'MinisterulSanatatii'\n",
    "\n",
    "number = len([name for name in os.listdir(f'../scrapped_data/{site}') if os.path.isfile(name)])\n",
    "\n",
    "for post in get_posts(account=site, credentials=['ioachim.lihor@gmail.com', '@.Chiml999'], pages=200):\n",
    "    with open(f'../scrapped_data/{site}/{number}.json', 'wb') as o:\n",
    "        pickle.dump(post, o, protocol=pickle.HIGHEST_PROTOCOL)\n",
    "    number += 1"
   ]
  },
  {
   "cell_type": "code",
   "execution_count": 4,
   "metadata": {},
   "outputs": [],
   "source": [
    "import pickle\n",
    "\n",
    "text = []\n",
    "\n",
    "\n",
    "for site in os.listdir(f'../scrapped_data'):\n",
    "    for file in os.listdir(f'../scrapped_data/{site}'):\n",
    "        o = open(f\"../scrapped_data/{site}/{file}\", \"rb\")\n",
    "        data = pickle.load(o)\n",
    "        text.append(data['text'])\n",
    "\n"
   ]
  },
  {
   "cell_type": "code",
   "execution_count": 7,
   "metadata": {},
   "outputs": [],
   "source": [
    "import pandas as pd\n",
    "\n",
    "df = pd.DataFrame(text, columns=['text'])"
   ]
  },
  {
   "cell_type": "code",
   "execution_count": 10,
   "metadata": {},
   "outputs": [],
   "source": [
    "df.to_csv(\"../clear_dataset/official-ro.csv\")"
   ]
  }
 ],
 "metadata": {
  "interpreter": {
   "hash": "360107e863d662f3e91367e067513630a536b3700f3dc094c8c3d24929c9753a"
  },
  "kernelspec": {
   "display_name": "Python 3.9.9 64-bit ('cleaner': venv)",
   "language": "python",
   "name": "python3"
  },
  "language_info": {
   "codemirror_mode": {
    "name": "ipython",
    "version": 3
   },
   "file_extension": ".py",
   "mimetype": "text/x-python",
   "name": "python",
   "nbconvert_exporter": "python",
   "pygments_lexer": "ipython3",
   "version": "3.9.9"
  },
  "orig_nbformat": 4
 },
 "nbformat": 4,
 "nbformat_minor": 2
}
