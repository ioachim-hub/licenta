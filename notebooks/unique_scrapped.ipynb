{
 "cells": [
  {
   "cell_type": "code",
   "execution_count": 1,
   "metadata": {},
   "outputs": [],
   "source": [
    "from typing import Any\n",
    "import json\n",
    "import pandas as pd"
   ]
  },
  {
   "cell_type": "code",
   "execution_count": 2,
   "metadata": {},
   "outputs": [],
   "source": [
    "obj : Any\n",
    "with open(\"../data/raw/scrapped_data/celery_scrapped_data/scrapped.json\", \"rb\") as o:\n",
    "    obj = json.load(o)"
   ]
  },
  {
   "cell_type": "code",
   "execution_count": 3,
   "metadata": {},
   "outputs": [
    {
     "data": {
      "text/plain": [
       "{'_id': {'$oid': '6236578dc5bb343ef23eba06'},\n",
       " 'site': 'https://www.aktual24.ro/',\n",
       " 'domain': 'category/analize/',\n",
       " 'link': 'https://www.aktual24.ro/surpriza-nu-putin-profita-de-pe-urma-disensiunilor-dintre-ue-si-sua-in-privinta-sanctiunilor-la-adresa-rusiei/',\n",
       " 'title': 'Surpriza: Cine profita de pe urma disensiunilor dintre UE si SUA in privinta sanctiunilor la adresa Rusiei',\n",
       " 'content': 'Editorialistul revistei Time, Ian Bremmer, considera ca tara care va avea cel mai mult de profitat de pe urma conflictului dintre puterile occidentale in privinta Rusiei este China comunista.Intr-un editorial publicat pe time.com, Bremmer evidentiaza disensiunile dintre Statele Unite si Uniunea Europeana in privinta reactiei fata de Rusia, afirmand ca impasul fundamental sta in strategia care trebuie adoptata pentru a-l obliga pe Putin sa “dea inapoi”.“Problema momentului este daca e cazul ca Ucrainei sa i se furnizeze arme. Administratia Obama, Marea Britanie si Canada iau acest scenariu in calcul. La Washington sunt politicieni, precum senatorul John McCain, care chiar forteaza adoptarea unei decizii in acest sens. Insa Germania, cea mai puternica voce din UE in domeniul politicii externe, se opune categoric acestei idei.Acest dezacord arata un conflict mai profund. Dorinta SUA nu este de a apara Ucraina, ci de a pedepsi Rusia. Washigton isi poate permite deteriorarea relatiilor economice cu Moscova: in 2013, Rusia a fost doar al 23-lea mare partener economic al SUA, reprezentand doar 1% din totalul schimburilor comerciale ale Americii. Insa pentru UE, Rusia este al treilea mare partener comercial, relatiile cu aceasta tara reprezentand 10% din totalul schimburilor comerciale. In acest context, in care multe tari europene depind din punct de vedere economic de Rusia, de la gaze pana la sprijin bancar si financiar, a pedepsi Rusia inseamna a pedepsi si Europa.Obama pare nehotarat in privinta furnizarii de arme Ucrainei, dar doreste sa creasca presiunea asupra lui Putin. El se teme ca negocierile ii vor permite liderului rus sa castige timp pentru a destabiliza in continuare si falimenta Ucraina, de aceea vrea ca sanctiunile sa fie inasprite. UE doreste mentinerea sanctiunilor existente, foarte multe guverne europene fiind foarte nehotarate in privinta altora noi. De ce sa accepte ca economiile proprii sa aiba de suferit, daca nu cred ca Putin isi va schimba abordarea?In realitate, nici negocierile, nici sanctiunile nu il vor face pe Putin sa cedeze. Dar cum conflictul din Ucraina se intensifica, este foarte probabil ca UE si SUA sa se angajeze pe drumuri diferite in relatia cu Rusia. Aceasta situatie va avea un impact negativ asupra amandurora.Daca solidaritatea dintre SUA si UE se sparge, cine va fi marele castigator? In niciun caz Putin. Cu atitudinea sa neclintita va obtine o Ucraina faramitata, o relatie distrusa cu Occidentul si o economie in cadere. Insa China va avea de castigat.China nu este de acord cu atitudinea Vestului, privind necesitatea unui puternic raspuns international la agresiunea Rusiei. Cum Rusia se reorienteaza catre Est, China va adopta o strategie mai dura de negociere in relatiile economice cu aceasta tara, in acelasi timp asigurandu-se ca relatiile cu America si UE vor continua sa se dezvolte. Tactica de a juca si cu unii si cu ceilalti inca functioneaza foarte bine in cazul Chinei.Si avand in vedere disensiunile in crestere dintre partenerii transatlantici, relatii mai bune cu China ar trebui sa fie mai importante acum ca niciodata”, concluzioneaza editorialistul Time.Sursa: Time.comIti place aktual24.ro? Urmareste fluxul de stiri aktual24.ro si pe Facebook',\n",
       " 'date': {'$date': '2015-03-02T00:00:00Z'}}"
      ]
     },
     "execution_count": 3,
     "metadata": {},
     "output_type": "execute_result"
    }
   ],
   "source": [
    "obj[0]"
   ]
  },
  {
   "cell_type": "code",
   "execution_count": 4,
   "metadata": {},
   "outputs": [],
   "source": [
    "uniq_dict: dict[str, dict[str, Any]] = {}\n",
    "for o in obj:\n",
    "    if o[\"link\"] in uniq_dict.keys():\n",
    "        if o[\"title\"] != uniq_dict[o[\"link\"]][\"title\"] and uniq_dict[o[\"link\"]][\"title\"] == \"\":\n",
    "            uniq_dict[\"link\"][\"title\"] = o[\"title\"]\n",
    "        if o[\"content\"] != uniq_dict[o[\"link\"]][\"content\"] and uniq_dict[o[\"link\"]][\"content\"] == \"\":\n",
    "            uniq_dict[\"link\"][\"content\"] = o[\"content\"]\n",
    "    else:\n",
    "        uniq_dict[o[\"link\"]] = o\n"
   ]
  },
  {
   "cell_type": "code",
   "execution_count": 5,
   "metadata": {},
   "outputs": [
    {
     "data": {
      "text/plain": [
       "78064"
      ]
     },
     "execution_count": 5,
     "metadata": {},
     "output_type": "execute_result"
    }
   ],
   "source": [
    "len(uniq_dict)"
   ]
  },
  {
   "cell_type": "code",
   "execution_count": 6,
   "metadata": {},
   "outputs": [
    {
     "data": {
      "text/plain": [
       "88197"
      ]
     },
     "execution_count": 6,
     "metadata": {},
     "output_type": "execute_result"
    }
   ],
   "source": [
    "len(obj)"
   ]
  },
  {
   "cell_type": "markdown",
   "metadata": {},
   "source": [
    "Create unique values"
   ]
  },
  {
   "cell_type": "code",
   "execution_count": 7,
   "metadata": {},
   "outputs": [],
   "source": [
    "for key in uniq_dict:\n",
    "    uniq_dict[key][\"_id\"] = uniq_dict[key][\"_id\"][\"$oid\"]\n"
   ]
  },
  {
   "cell_type": "code",
   "execution_count": 8,
   "metadata": {},
   "outputs": [],
   "source": [
    "for key in uniq_dict:\n",
    "    uniq_dict[key][\"date\"] = uniq_dict[key][\"date\"][\"$date\"]\n"
   ]
  },
  {
   "cell_type": "code",
   "execution_count": 9,
   "metadata": {},
   "outputs": [],
   "source": [
    "uniq_list = [x for x in uniq_dict.values()]"
   ]
  },
  {
   "cell_type": "code",
   "execution_count": 10,
   "metadata": {},
   "outputs": [
    {
     "data": {
      "text/plain": [
       "{'_id': '6236578dc5bb343ef23eba06',\n",
       " 'site': 'https://www.aktual24.ro/',\n",
       " 'domain': 'category/analize/',\n",
       " 'link': 'https://www.aktual24.ro/surpriza-nu-putin-profita-de-pe-urma-disensiunilor-dintre-ue-si-sua-in-privinta-sanctiunilor-la-adresa-rusiei/',\n",
       " 'title': 'Surpriza: Cine profita de pe urma disensiunilor dintre UE si SUA in privinta sanctiunilor la adresa Rusiei',\n",
       " 'content': 'Editorialistul revistei Time, Ian Bremmer, considera ca tara care va avea cel mai mult de profitat de pe urma conflictului dintre puterile occidentale in privinta Rusiei este China comunista.Intr-un editorial publicat pe time.com, Bremmer evidentiaza disensiunile dintre Statele Unite si Uniunea Europeana in privinta reactiei fata de Rusia, afirmand ca impasul fundamental sta in strategia care trebuie adoptata pentru a-l obliga pe Putin sa “dea inapoi”.“Problema momentului este daca e cazul ca Ucrainei sa i se furnizeze arme. Administratia Obama, Marea Britanie si Canada iau acest scenariu in calcul. La Washington sunt politicieni, precum senatorul John McCain, care chiar forteaza adoptarea unei decizii in acest sens. Insa Germania, cea mai puternica voce din UE in domeniul politicii externe, se opune categoric acestei idei.Acest dezacord arata un conflict mai profund. Dorinta SUA nu este de a apara Ucraina, ci de a pedepsi Rusia. Washigton isi poate permite deteriorarea relatiilor economice cu Moscova: in 2013, Rusia a fost doar al 23-lea mare partener economic al SUA, reprezentand doar 1% din totalul schimburilor comerciale ale Americii. Insa pentru UE, Rusia este al treilea mare partener comercial, relatiile cu aceasta tara reprezentand 10% din totalul schimburilor comerciale. In acest context, in care multe tari europene depind din punct de vedere economic de Rusia, de la gaze pana la sprijin bancar si financiar, a pedepsi Rusia inseamna a pedepsi si Europa.Obama pare nehotarat in privinta furnizarii de arme Ucrainei, dar doreste sa creasca presiunea asupra lui Putin. El se teme ca negocierile ii vor permite liderului rus sa castige timp pentru a destabiliza in continuare si falimenta Ucraina, de aceea vrea ca sanctiunile sa fie inasprite. UE doreste mentinerea sanctiunilor existente, foarte multe guverne europene fiind foarte nehotarate in privinta altora noi. De ce sa accepte ca economiile proprii sa aiba de suferit, daca nu cred ca Putin isi va schimba abordarea?In realitate, nici negocierile, nici sanctiunile nu il vor face pe Putin sa cedeze. Dar cum conflictul din Ucraina se intensifica, este foarte probabil ca UE si SUA sa se angajeze pe drumuri diferite in relatia cu Rusia. Aceasta situatie va avea un impact negativ asupra amandurora.Daca solidaritatea dintre SUA si UE se sparge, cine va fi marele castigator? In niciun caz Putin. Cu atitudinea sa neclintita va obtine o Ucraina faramitata, o relatie distrusa cu Occidentul si o economie in cadere. Insa China va avea de castigat.China nu este de acord cu atitudinea Vestului, privind necesitatea unui puternic raspuns international la agresiunea Rusiei. Cum Rusia se reorienteaza catre Est, China va adopta o strategie mai dura de negociere in relatiile economice cu aceasta tara, in acelasi timp asigurandu-se ca relatiile cu America si UE vor continua sa se dezvolte. Tactica de a juca si cu unii si cu ceilalti inca functioneaza foarte bine in cazul Chinei.Si avand in vedere disensiunile in crestere dintre partenerii transatlantici, relatii mai bune cu China ar trebui sa fie mai importante acum ca niciodata”, concluzioneaza editorialistul Time.Sursa: Time.comIti place aktual24.ro? Urmareste fluxul de stiri aktual24.ro si pe Facebook',\n",
       " 'date': '2015-03-02T00:00:00Z'}"
      ]
     },
     "execution_count": 10,
     "metadata": {},
     "output_type": "execute_result"
    }
   ],
   "source": [
    "uniq_list[0]"
   ]
  },
  {
   "cell_type": "code",
   "execution_count": 12,
   "metadata": {},
   "outputs": [],
   "source": [
    "df = pd.DataFrame(uniq_list)\n"
   ]
  },
  {
   "cell_type": "code",
   "execution_count": 13,
   "metadata": {},
   "outputs": [],
   "source": [
    "df.to_parquet(\"../data/raw/scrapped_data/celery_scrapped_data/scrapped_fake.gzip\")\n"
   ]
  },
  {
   "cell_type": "code",
   "execution_count": 14,
   "metadata": {},
   "outputs": [],
   "source": [
    "df = pd.read_parquet(\"../data/raw/scrapped_data/celery_scrapped_data/scrapped_fake.gzip\")"
   ]
  }
 ],
 "metadata": {
  "interpreter": {
   "hash": "ad6fb52b133632c022ef432d36f1fb015b2521118402e90bfda3af52f5ffd485"
  },
  "kernelspec": {
   "display_name": "Python 3.10.2 ('licenta-env': venv)",
   "language": "python",
   "name": "python3"
  },
  "language_info": {
   "codemirror_mode": {
    "name": "ipython",
    "version": 3
   },
   "file_extension": ".py",
   "mimetype": "text/x-python",
   "name": "python",
   "nbconvert_exporter": "python",
   "pygments_lexer": "ipython3",
   "version": "3.10.2"
  },
  "orig_nbformat": 4
 },
 "nbformat": 4,
 "nbformat_minor": 2
}
