{
 "cells": [
  {
   "cell_type": "code",
   "execution_count": 14,
   "metadata": {},
   "outputs": [],
   "source": [
    "from typing import Tuple\n",
    "import pandas as pd\n",
    "import numpy as np"
   ]
  },
  {
   "cell_type": "markdown",
   "metadata": {},
   "source": [
    "# Preprocess the text\n",
    "Eliminate numbers, punctuation signs"
   ]
  },
  {
   "cell_type": "code",
   "execution_count": 15,
   "metadata": {},
   "outputs": [],
   "source": [
    "import re\n",
    "\n",
    "def preprocessing(text:str) -> str:\n",
    "    text = re.sub(r'[\\t\\n]', ' ', text) # remove tabs and newlines\n",
    "    text = re.sub(r'[0-9][0-9]\\.|[0-9]\\.', ' ', text) # remove lists\n",
    "    text = re.sub(r'\\[[0-9]+\\]', ' ', text) # remove citatinos - ex: [321]\n",
    "    text = re.sub(r'\\\\', ' ', text) # remove '\\' from word\\'s\n",
    "    text = re.sub(r'\\[.+\\]', ' ', text) # remove [word] - ex: [edit]\n",
    "    text = re.sub(r'\\(|\\)', ' ', text) # remove ()\n",
    "    text = re.sub(r'[=\\-\\+]+', ' ', text) # remove ()\n",
    "    text = re.sub(r' +', ' ', text) # reduce spaces to one space\n",
    "    text = re.sub(r'\\.+', '.', text) # replace ... with .\n",
    "    return text"
   ]
  },
  {
   "cell_type": "markdown",
   "metadata": {},
   "source": [
    "# Add BERT specific tags [CLS][SEP]"
   ]
  },
  {
   "cell_type": "code",
   "execution_count": 16,
   "metadata": {},
   "outputs": [],
   "source": [
    "def split_add_tags_text(text: str) -> str:\n",
    "    final_article: str = \"[CLS]\"\n",
    "    text: str = preprocessing(text)\n",
    "    article: list[str] = text.split(\". \")\n",
    "    for sentence in article:\n",
    "        final_article = f\"{final_article} {sentence}. [SEP]\"\n",
    "    \n",
    "    final_article = re.sub('\\.\\.', '.', final_article) # replace ... with .\n",
    "    return final_article"
   ]
  },
  {
   "cell_type": "markdown",
   "metadata": {},
   "source": [
    "# Truncate the text after proportion (128 start, 384 end)"
   ]
  },
  {
   "cell_type": "code",
   "execution_count": 17,
   "metadata": {},
   "outputs": [],
   "source": [
    "def truncate_text(text: str, start: int, end: int) -> str:\n",
    "\n",
    "    # text_cleaned: str = preprocessing(text)\n",
    "    text_cleaned: str = split_add_tags_text(text) # just for bert\n",
    "    \n",
    "    words: list[str] = text_cleaned.split(\" \")\n",
    "    words: list[str] = words[:start] + words[-end:]\n",
    "\n",
    "    text_truncated: str= \" \".join(word for word in words)\n",
    "\n",
    "    return text_truncated"
   ]
  },
  {
   "cell_type": "code",
   "execution_count": 4,
   "metadata": {},
   "outputs": [],
   "source": [
    "df_raw = pd.read_csv(\"Raw_Dataset.csv\")"
   ]
  },
  {
   "cell_type": "code",
   "execution_count": 18,
   "metadata": {},
   "outputs": [],
   "source": [
    "def apply_fun(row) -> Tuple[str, str, int]:\n",
    "    title_row: str = row['title']\n",
    "    # title_cleaned: str = preprocessing(title_row)\n",
    "    title_cleaned: str = split_add_tags_text(title_row) # just for bert\n",
    "\n",
    "    text_row: str = row['text']\n",
    "    text_cleaned: str = truncate_text(text_row, 42, 86)\n",
    "\n",
    "    return [title_cleaned,  text_cleaned, row.label]"
   ]
  },
  {
   "cell_type": "code",
   "execution_count": 19,
   "metadata": {},
   "outputs": [],
   "source": [
    "cleaned_data = df_raw.apply(apply_fun, axis=1, result_type='expand')"
   ]
  },
  {
   "cell_type": "code",
   "execution_count": 20,
   "metadata": {},
   "outputs": [],
   "source": [
    "df_cleaned_data = pd.DataFrame(cleaned_data)\n",
    "df_cleaned_data.columns = ['title', 'text', 'label']"
   ]
  },
  {
   "cell_type": "code",
   "execution_count": 21,
   "metadata": {},
   "outputs": [],
   "source": [
    "df_cleaned_data[\"index\"] = range(1, len(df_cleaned_data) + 1)\n",
    "df_cleaned_data = df_cleaned_data.set_index(\"index\")"
   ]
  },
  {
   "cell_type": "code",
   "execution_count": 22,
   "metadata": {},
   "outputs": [],
   "source": [
    "df_cleaned_data.to_csv(f\"../CleanedDataset/Cleaned_Data-{128}-bert.csv\")"
   ]
  },
  {
   "cell_type": "code",
   "execution_count": 2,
   "metadata": {},
   "outputs": [],
   "source": [
    "df_cleaned_data = pd.read_csv(\"Cleaned_Data.csv\")"
   ]
  },
  {
   "cell_type": "code",
   "execution_count": 11,
   "metadata": {},
   "outputs": [
    {
     "name": "stderr",
     "output_type": "stream",
     "text": [
      "2021-12-05 08:47:22.975555: W tensorflow/stream_executor/platform/default/dso_loader.cc:64] Could not load dynamic library 'libcudart.so.11.0'; dlerror: libcudart.so.11.0: cannot open shared object file: No such file or directory\n",
      "2021-12-05 08:47:22.975981: I tensorflow/stream_executor/cuda/cudart_stub.cc:29] Ignore above cudart dlerror if you do not have a GPU set up on your machine.\n",
      "2021-12-05 08:47:34.395154: I tensorflow/stream_executor/cuda/cuda_gpu_executor.cc:939] successful NUMA node read from SysFS had negative value (-1), but there must be at least one NUMA node, so returning NUMA node zero\n",
      "2021-12-05 08:47:34.396642: W tensorflow/stream_executor/platform/default/dso_loader.cc:64] Could not load dynamic library 'libcudart.so.11.0'; dlerror: libcudart.so.11.0: cannot open shared object file: No such file or directory\n",
      "2021-12-05 08:47:34.396899: W tensorflow/stream_executor/platform/default/dso_loader.cc:64] Could not load dynamic library 'libcublas.so.11'; dlerror: libcublas.so.11: cannot open shared object file: No such file or directory\n",
      "2021-12-05 08:47:34.397048: W tensorflow/stream_executor/platform/default/dso_loader.cc:64] Could not load dynamic library 'libcublasLt.so.11'; dlerror: libcublasLt.so.11: cannot open shared object file: No such file or directory\n",
      "2021-12-05 08:47:34.397122: W tensorflow/stream_executor/platform/default/dso_loader.cc:64] Could not load dynamic library 'libcufft.so.10'; dlerror: libcufft.so.10: cannot open shared object file: No such file or directory\n",
      "2021-12-05 08:47:34.397176: W tensorflow/stream_executor/platform/default/dso_loader.cc:64] Could not load dynamic library 'libcurand.so.10'; dlerror: libcurand.so.10: cannot open shared object file: No such file or directory\n",
      "2021-12-05 08:47:34.397235: W tensorflow/stream_executor/platform/default/dso_loader.cc:64] Could not load dynamic library 'libcusolver.so.11'; dlerror: libcusolver.so.11: cannot open shared object file: No such file or directory\n",
      "2021-12-05 08:47:34.397307: W tensorflow/stream_executor/platform/default/dso_loader.cc:64] Could not load dynamic library 'libcusparse.so.11'; dlerror: libcusparse.so.11: cannot open shared object file: No such file or directory\n",
      "2021-12-05 08:47:34.397407: W tensorflow/stream_executor/platform/default/dso_loader.cc:64] Could not load dynamic library 'libcudnn.so.8'; dlerror: libcudnn.so.8: cannot open shared object file: No such file or directory\n",
      "2021-12-05 08:47:34.397425: W tensorflow/core/common_runtime/gpu/gpu_device.cc:1850] Cannot dlopen some GPU libraries. Please make sure the missing libraries mentioned above are installed properly if you would like to use GPU. Follow the guide at https://www.tensorflow.org/install/gpu for how to download and setup the required libraries for your platform.\n",
      "Skipping registering GPU devices...\n",
      "2021-12-05 08:47:34.397834: I tensorflow/core/platform/cpu_feature_guard.cc:151] This TensorFlow binary is optimized with oneAPI Deep Neural Network Library (oneDNN) to use the following CPU instructions in performance-critical operations:  AVX2 FMA\n",
      "To enable them in other operations, rebuild TensorFlow with the appropriate compiler flags.\n"
     ]
    }
   ],
   "source": [
    "import pandas_tfrecords\n",
    "pandas_tfrecords.pd2tf(df_cleaned_data, \"Cleaned_Data.tfrecord\")"
   ]
  },
  {
   "cell_type": "markdown",
   "metadata": {},
   "source": [
    "## Data Understanding"
   ]
  },
  {
   "cell_type": "code",
   "execution_count": 7,
   "metadata": {},
   "outputs": [
    {
     "data": {
      "text/plain": [
       "12.777840936461294"
      ]
     },
     "execution_count": 7,
     "metadata": {},
     "output_type": "execute_result"
    }
   ],
   "source": [
    "np.mean([len(str(x).split(\" \")) for x in df_cleaned_data[\"title\"].values.tolist()])"
   ]
  },
  {
   "cell_type": "code",
   "execution_count": 8,
   "metadata": {},
   "outputs": [
    {
     "data": {
      "text/plain": [
       "409.03751625800857"
      ]
     },
     "execution_count": 8,
     "metadata": {},
     "output_type": "execute_result"
    }
   ],
   "source": [
    "np.mean([len(str(x).split(\" \")) for x in df_cleaned_data[\"text\"].values.tolist()])"
   ]
  }
 ],
 "metadata": {
  "interpreter": {
   "hash": "360107e863d662f3e91367e067513630a536b3700f3dc094c8c3d24929c9753a"
  },
  "kernelspec": {
   "display_name": "Python 3.9.9 64-bit ('cleaner': venv)",
   "language": "python",
   "name": "python3"
  },
  "language_info": {
   "codemirror_mode": {
    "name": "ipython",
    "version": 3
   },
   "file_extension": ".py",
   "mimetype": "text/x-python",
   "name": "python",
   "nbconvert_exporter": "python",
   "pygments_lexer": "ipython3",
   "version": "3.9.9"
  },
  "orig_nbformat": 4
 },
 "nbformat": 4,
 "nbformat_minor": 2
}
