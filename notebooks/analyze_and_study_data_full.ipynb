{
 "cells": [
  {
   "cell_type": "code",
   "execution_count": 5,
   "metadata": {},
   "outputs": [],
   "source": [
    "import re\n",
    "import pickle\n",
    "\n",
    "import spacy\n",
    "import numpy as np\n",
    "import pandas as pd\n",
    "from src.cleaner.model import Cleaner\n",
    "import plotly.express as px"
   ]
  },
  {
   "cell_type": "code",
   "execution_count": 46,
   "metadata": {},
   "outputs": [],
   "source": [
    "import json\n",
    "with open(\"../data/processed/scrapped.json\", \"r\") as f:\n",
    "    data = json.load(f)"
   ]
  },
  {
   "cell_type": "code",
   "execution_count": 2,
   "metadata": {},
   "outputs": [],
   "source": [
    "import plotly.io as pio\n",
    "pio.renderers.default = \"notebook_connected\""
   ]
  },
  {
   "cell_type": "code",
   "execution_count": 6,
   "metadata": {},
   "outputs": [],
   "source": [
    "df1 = pd.read_parquet(\"../data/processed/scrapped_cleaned.gzip\")"
   ]
  },
  {
   "cell_type": "code",
   "execution_count": 7,
   "metadata": {},
   "outputs": [],
   "source": [
    "df2 = pd.read_parquet(\"../data/processed/scrapped_cleaned_fake.gzip\")\n"
   ]
  },
  {
   "cell_type": "code",
   "execution_count": 8,
   "metadata": {},
   "outputs": [],
   "source": [
    "df = pd.concat([df1, df2])"
   ]
  },
  {
   "cell_type": "markdown",
   "metadata": {},
   "source": [
    "226748 - inainte de curatare si balansare"
   ]
  },
  {
   "cell_type": "code",
   "execution_count": 11,
   "metadata": {},
   "outputs": [
    {
     "data": {
      "text/plain": [
       "array(['https://www.timesnewroman.ro/', 'https://www.biziday.ro/',\n",
       "       'https://www.biziday.ro/feed', 'https://www.digi24.ro/',\n",
       "       'https://www.aktual24.ro/', 'https://www.activenews.ro/',\n",
       "       'https://infoalert.ro/', 'https://caplimpede.ro/'], dtype=object)"
      ]
     },
     "execution_count": 11,
     "metadata": {},
     "output_type": "execute_result"
    }
   ],
   "source": [
    "df.site.unique()"
   ]
  },
  {
   "cell_type": "code",
   "execution_count": 42,
   "metadata": {},
   "outputs": [
    {
     "data": {
      "text/plain": [
       "53611"
      ]
     },
     "execution_count": 42,
     "metadata": {},
     "output_type": "execute_result"
    }
   ],
   "source": [
    "len(df[df.site == \"https://www.aktual24.ro/\"])"
   ]
  },
  {
   "cell_type": "code",
   "execution_count": 44,
   "metadata": {},
   "outputs": [
    {
     "data": {
      "text/plain": [
       "Timestamp('2022-03-20 00:00:00+0000', tz='UTC')"
      ]
     },
     "execution_count": 44,
     "metadata": {},
     "output_type": "execute_result"
    }
   ],
   "source": [
    "np.array([pd.Timestamp(x) for x in df[df.site == \"https://www.aktual24.ro/\"].date]).max()"
   ]
  },
  {
   "cell_type": "code",
   "execution_count": 10,
   "metadata": {},
   "outputs": [
    {
     "data": {
      "text/plain": [
       "226748"
      ]
     },
     "execution_count": 10,
     "metadata": {},
     "output_type": "execute_result"
    }
   ],
   "source": [
    "len(df)"
   ]
  },
  {
   "cell_type": "markdown",
   "metadata": {},
   "source": [
    "# License stats"
   ]
  },
  {
   "cell_type": "code",
   "execution_count": 7,
   "metadata": {},
   "outputs": [
    {
     "name": "stdout",
     "output_type": "stream",
     "text": [
      "['https://www.timesnewroman.ro/' 'https://www.biziday.ro/'\n",
      " 'https://www.biziday.ro/feed' 'https://www.digi24.ro/'\n",
      " 'https://www.aktual24.ro/' 'https://www.activenews.ro/'\n",
      " 'https://infoalert.ro/' 'https://caplimpede.ro/']\n"
     ]
    }
   ],
   "source": [
    "print(df.site.unique())"
   ]
  },
  {
   "cell_type": "code",
   "execution_count": 9,
   "metadata": {},
   "outputs": [
    {
     "ename": "KeyError",
     "evalue": "'https://www.timesnewroman.ro/'",
     "output_type": "error",
     "traceback": [
      "\u001b[0;31m---------------------------------------------------------------------------\u001b[0m",
      "\u001b[0;31mKeyError\u001b[0m                                  Traceback (most recent call last)",
      "File \u001b[0;32m~/Licenta/Project/licenta/licenta-env/lib64/python3.10/site-packages/pandas/core/indexes/base.py:3361\u001b[0m, in \u001b[0;36mIndex.get_loc\u001b[0;34m(self, key, method, tolerance)\u001b[0m\n\u001b[1;32m   <a href='file:///home/ioachimlihor/Licenta/Project/licenta/licenta-env/lib64/python3.10/site-packages/pandas/core/indexes/base.py?line=3359'>3360</a>\u001b[0m \u001b[39mtry\u001b[39;00m:\n\u001b[0;32m-> <a href='file:///home/ioachimlihor/Licenta/Project/licenta/licenta-env/lib64/python3.10/site-packages/pandas/core/indexes/base.py?line=3360'>3361</a>\u001b[0m     \u001b[39mreturn\u001b[39;00m \u001b[39mself\u001b[39;49m\u001b[39m.\u001b[39;49m_engine\u001b[39m.\u001b[39;49mget_loc(casted_key)\n\u001b[1;32m   <a href='file:///home/ioachimlihor/Licenta/Project/licenta/licenta-env/lib64/python3.10/site-packages/pandas/core/indexes/base.py?line=3361'>3362</a>\u001b[0m \u001b[39mexcept\u001b[39;00m \u001b[39mKeyError\u001b[39;00m \u001b[39mas\u001b[39;00m err:\n",
      "File \u001b[0;32m~/Licenta/Project/licenta/licenta-env/lib64/python3.10/site-packages/pandas/_libs/index.pyx:76\u001b[0m, in \u001b[0;36mpandas._libs.index.IndexEngine.get_loc\u001b[0;34m()\u001b[0m\n",
      "File \u001b[0;32m~/Licenta/Project/licenta/licenta-env/lib64/python3.10/site-packages/pandas/_libs/index.pyx:103\u001b[0m, in \u001b[0;36mpandas._libs.index.IndexEngine.get_loc\u001b[0;34m()\u001b[0m\n",
      "File \u001b[0;32m~/Licenta/Project/licenta/licenta-env/lib64/python3.10/site-packages/pandas/_libs/index.pyx:135\u001b[0m, in \u001b[0;36mpandas._libs.index.IndexEngine._get_loc_duplicates\u001b[0;34m()\u001b[0m\n",
      "File \u001b[0;32mpandas/_libs/index_class_helper.pxi:118\u001b[0m, in \u001b[0;36mpandas._libs.index.Int64Engine._maybe_get_bool_indexer\u001b[0;34m()\u001b[0m\n",
      "File \u001b[0;32mpandas/_libs/index_class_helper.pxi:105\u001b[0m, in \u001b[0;36mpandas._libs.index.Int64Engine._check_type\u001b[0;34m()\u001b[0m\n",
      "\u001b[0;31mKeyError\u001b[0m: 'https://www.timesnewroman.ro/'",
      "\nThe above exception was the direct cause of the following exception:\n",
      "\u001b[0;31mKeyError\u001b[0m                                  Traceback (most recent call last)",
      "\u001b[1;32m/home/ioachimlihor/Licenta/Project/licenta/notebooks/analyze_and_study_data_full.ipynb Cell 8'\u001b[0m in \u001b[0;36m<cell line: 1>\u001b[0;34m()\u001b[0m\n\u001b[0;32m----> <a href='vscode-notebook-cell:/home/ioachimlihor/Licenta/Project/licenta/notebooks/analyze_and_study_data_full.ipynb#ch0000078?line=0'>1</a>\u001b[0m \u001b[39mprint\u001b[39m(df[\u001b[39m\"\u001b[39m\u001b[39msite\u001b[39m\u001b[39m\"\u001b[39m][\u001b[39m\"\u001b[39m\u001b[39mhttps://www.timesnewroman.ro/\u001b[39m\u001b[39m\"\u001b[39m]\u001b[39m.\u001b[39munique())\n",
      "File \u001b[0;32m~/Licenta/Project/licenta/licenta-env/lib64/python3.10/site-packages/pandas/core/series.py:942\u001b[0m, in \u001b[0;36mSeries.__getitem__\u001b[0;34m(self, key)\u001b[0m\n\u001b[1;32m    <a href='file:///home/ioachimlihor/Licenta/Project/licenta/licenta-env/lib64/python3.10/site-packages/pandas/core/series.py?line=938'>939</a>\u001b[0m     \u001b[39mreturn\u001b[39;00m \u001b[39mself\u001b[39m\u001b[39m.\u001b[39m_values[key]\n\u001b[1;32m    <a href='file:///home/ioachimlihor/Licenta/Project/licenta/licenta-env/lib64/python3.10/site-packages/pandas/core/series.py?line=940'>941</a>\u001b[0m \u001b[39melif\u001b[39;00m key_is_scalar:\n\u001b[0;32m--> <a href='file:///home/ioachimlihor/Licenta/Project/licenta/licenta-env/lib64/python3.10/site-packages/pandas/core/series.py?line=941'>942</a>\u001b[0m     \u001b[39mreturn\u001b[39;00m \u001b[39mself\u001b[39;49m\u001b[39m.\u001b[39;49m_get_value(key)\n\u001b[1;32m    <a href='file:///home/ioachimlihor/Licenta/Project/licenta/licenta-env/lib64/python3.10/site-packages/pandas/core/series.py?line=943'>944</a>\u001b[0m \u001b[39mif\u001b[39;00m is_hashable(key):\n\u001b[1;32m    <a href='file:///home/ioachimlihor/Licenta/Project/licenta/licenta-env/lib64/python3.10/site-packages/pandas/core/series.py?line=944'>945</a>\u001b[0m     \u001b[39m# Otherwise index.get_value will raise InvalidIndexError\u001b[39;00m\n\u001b[1;32m    <a href='file:///home/ioachimlihor/Licenta/Project/licenta/licenta-env/lib64/python3.10/site-packages/pandas/core/series.py?line=945'>946</a>\u001b[0m     \u001b[39mtry\u001b[39;00m:\n\u001b[1;32m    <a href='file:///home/ioachimlihor/Licenta/Project/licenta/licenta-env/lib64/python3.10/site-packages/pandas/core/series.py?line=946'>947</a>\u001b[0m         \u001b[39m# For labels that don't resolve as scalars like tuples and frozensets\u001b[39;00m\n",
      "File \u001b[0;32m~/Licenta/Project/licenta/licenta-env/lib64/python3.10/site-packages/pandas/core/series.py:1051\u001b[0m, in \u001b[0;36mSeries._get_value\u001b[0;34m(self, label, takeable)\u001b[0m\n\u001b[1;32m   <a href='file:///home/ioachimlihor/Licenta/Project/licenta/licenta-env/lib64/python3.10/site-packages/pandas/core/series.py?line=1047'>1048</a>\u001b[0m     \u001b[39mreturn\u001b[39;00m \u001b[39mself\u001b[39m\u001b[39m.\u001b[39m_values[label]\n\u001b[1;32m   <a href='file:///home/ioachimlihor/Licenta/Project/licenta/licenta-env/lib64/python3.10/site-packages/pandas/core/series.py?line=1049'>1050</a>\u001b[0m \u001b[39m# Similar to Index.get_value, but we do not fall back to positional\u001b[39;00m\n\u001b[0;32m-> <a href='file:///home/ioachimlihor/Licenta/Project/licenta/licenta-env/lib64/python3.10/site-packages/pandas/core/series.py?line=1050'>1051</a>\u001b[0m loc \u001b[39m=\u001b[39m \u001b[39mself\u001b[39;49m\u001b[39m.\u001b[39;49mindex\u001b[39m.\u001b[39;49mget_loc(label)\n\u001b[1;32m   <a href='file:///home/ioachimlihor/Licenta/Project/licenta/licenta-env/lib64/python3.10/site-packages/pandas/core/series.py?line=1051'>1052</a>\u001b[0m \u001b[39mreturn\u001b[39;00m \u001b[39mself\u001b[39m\u001b[39m.\u001b[39mindex\u001b[39m.\u001b[39m_get_values_for_loc(\u001b[39mself\u001b[39m, loc, label)\n",
      "File \u001b[0;32m~/Licenta/Project/licenta/licenta-env/lib64/python3.10/site-packages/pandas/core/indexes/base.py:3363\u001b[0m, in \u001b[0;36mIndex.get_loc\u001b[0;34m(self, key, method, tolerance)\u001b[0m\n\u001b[1;32m   <a href='file:///home/ioachimlihor/Licenta/Project/licenta/licenta-env/lib64/python3.10/site-packages/pandas/core/indexes/base.py?line=3360'>3361</a>\u001b[0m         \u001b[39mreturn\u001b[39;00m \u001b[39mself\u001b[39m\u001b[39m.\u001b[39m_engine\u001b[39m.\u001b[39mget_loc(casted_key)\n\u001b[1;32m   <a href='file:///home/ioachimlihor/Licenta/Project/licenta/licenta-env/lib64/python3.10/site-packages/pandas/core/indexes/base.py?line=3361'>3362</a>\u001b[0m     \u001b[39mexcept\u001b[39;00m \u001b[39mKeyError\u001b[39;00m \u001b[39mas\u001b[39;00m err:\n\u001b[0;32m-> <a href='file:///home/ioachimlihor/Licenta/Project/licenta/licenta-env/lib64/python3.10/site-packages/pandas/core/indexes/base.py?line=3362'>3363</a>\u001b[0m         \u001b[39mraise\u001b[39;00m \u001b[39mKeyError\u001b[39;00m(key) \u001b[39mfrom\u001b[39;00m \u001b[39merr\u001b[39;00m\n\u001b[1;32m   <a href='file:///home/ioachimlihor/Licenta/Project/licenta/licenta-env/lib64/python3.10/site-packages/pandas/core/indexes/base.py?line=3364'>3365</a>\u001b[0m \u001b[39mif\u001b[39;00m is_scalar(key) \u001b[39mand\u001b[39;00m isna(key) \u001b[39mand\u001b[39;00m \u001b[39mnot\u001b[39;00m \u001b[39mself\u001b[39m\u001b[39m.\u001b[39mhasnans:\n\u001b[1;32m   <a href='file:///home/ioachimlihor/Licenta/Project/licenta/licenta-env/lib64/python3.10/site-packages/pandas/core/indexes/base.py?line=3365'>3366</a>\u001b[0m     \u001b[39mraise\u001b[39;00m \u001b[39mKeyError\u001b[39;00m(key)\n",
      "\u001b[0;31mKeyError\u001b[0m: 'https://www.timesnewroman.ro/'"
     ]
    }
   ],
   "source": [
    "print(df[\"site\"][\"https://www.timesnewroman.ro/\"].unique())"
   ]
  },
  {
   "cell_type": "code",
   "execution_count": 9,
   "metadata": {},
   "outputs": [],
   "source": [
    "df = df[[\"site\", \"title\", \"domain\", \"content\", \"date\"]]"
   ]
  },
  {
   "cell_type": "code",
   "execution_count": 11,
   "metadata": {},
   "outputs": [
    {
     "name": "stderr",
     "output_type": "stream",
     "text": [
      "/tmp/ipykernel_83705/1543302685.py:1: SettingWithCopyWarning:\n",
      "\n",
      "\n",
      "A value is trying to be set on a copy of a slice from a DataFrame.\n",
      "Try using .loc[row_indexer,col_indexer] = value instead\n",
      "\n",
      "See the caveats in the documentation: https://pandas.pydata.org/pandas-docs/stable/user_guide/indexing.html#returning-a-view-versus-a-copy\n",
      "\n"
     ]
    }
   ],
   "source": [
    "df[\"date\"] = [pd.Timestamp(x) for x in df[\"date\"]]"
   ]
  },
  {
   "cell_type": "code",
   "execution_count": 12,
   "metadata": {},
   "outputs": [],
   "source": [
    "df.to_parquet(\"../data/processed/scrapped_cleaned_valid_and_fake.gzip\")"
   ]
  },
  {
   "cell_type": "code",
   "execution_count": 3,
   "metadata": {},
   "outputs": [],
   "source": [
    "df = pd.read_parquet(\"../data/processed/scrapped_cleaned_valid_and_fake.gzip\")\n"
   ]
  },
  {
   "cell_type": "markdown",
   "metadata": {},
   "source": [
    "# View cleaned data"
   ]
  },
  {
   "cell_type": "code",
   "execution_count": 6,
   "metadata": {},
   "outputs": [
    {
     "data": {
      "text/plain": [
       "Index(['_id', 'site', 'domain', 'title', 'content', 'date', 'link',\n",
       "       'title_skipped_because_min_length', 'title_skipped_alpha_count',\n",
       "       'title_skipped_because_max_numeric',\n",
       "       'title_skipped_because_max_non_ascii',\n",
       "       'title_skipped_because_forbidden_chars',\n",
       "       'content_skipped_because_min_length', 'content_skipped_alpha_count',\n",
       "       'content_skipped_because_max_numeric',\n",
       "       'content_skipped_because_max_non_ascii',\n",
       "       'content_skipped_because_forbidden_chars'],\n",
       "      dtype='object')"
      ]
     },
     "execution_count": 6,
     "metadata": {},
     "output_type": "execute_result"
    }
   ],
   "source": [
    "df.columns"
   ]
  },
  {
   "cell_type": "markdown",
   "metadata": {},
   "source": [
    "# Words and sentences frequencies and count"
   ]
  },
  {
   "cell_type": "code",
   "execution_count": 5,
   "metadata": {},
   "outputs": [],
   "source": [
    "domain_number = []\n",
    "\n",
    "for domain in df[\"domain\"].unique():\n",
    "    domain_number.append(\n",
    "        {\n",
    "            \"domain\": domain,\n",
    "            \"length\": len(df[df.domain == domain]),\n",
    "            \"type\": \"valid\" if (\"stiri\" in domain) or (\"\" == domain) else \"fake\",\n",
    "        }\n",
    "    )\n",
    "\n",
    "\n",
    "fig = px.histogram(domain_number, x=\"domain\", y=\"length\", color=\"type\", text_auto=\".2s\")\n",
    "fig.write_html(f\"../visualization/charts/article_count_per_domain.html\")\n",
    "fig.write_image(f\"../visualization/charts/article_count_per_domain.png\")\n"
   ]
  },
  {
   "cell_type": "code",
   "execution_count": 6,
   "metadata": {},
   "outputs": [],
   "source": [
    "domain_number = []\n",
    "time_ = pd.Timestamp(\"2010-01-01 00:00:00+0000\", tz=\"UTC\")\n",
    "year = pd.Timedelta(days=366)\n",
    "while time_ < pd.Timestamp.utcnow():\n",
    "    df_ = df[(df.date > time_) & (df.date <= time_ + year)]\n",
    "    for domain in df[\"domain\"].unique():\n",
    "        domain_number.append(\n",
    "            {\n",
    "                \"domain\": domain,\n",
    "                \"length\": len(df_[df_.domain == domain]),\n",
    "                \"type\": \"valid\" if (\"stiri\" in domain) or (\"\" == domain) else \"fake\",\n",
    "                \"year\": time_,\n",
    "            }\n",
    "        )\n",
    "    time_ += year\n",
    "\n",
    "\n",
    "fig = px.histogram(domain_number, x=\"domain\", y=\"length\", color=\"year\", text_auto=\".2s\")\n",
    "fig.write_html(f\"../visualization/charts/article_count_per_domain_per_year.html\")\n",
    "fig.write_image(f\"../visualization/charts/article_count_per_domain_per_year.png\")\n"
   ]
  },
  {
   "cell_type": "code",
   "execution_count": 7,
   "metadata": {},
   "outputs": [],
   "source": [
    "domain_number = []\n",
    "time_ = pd.Timestamp(\"2010-01-01 00:00:00+0000\", tz=\"UTC\")\n",
    "year = pd.Timedelta(days=366)\n",
    "while time_ < pd.Timestamp.utcnow():\n",
    "    df_ = df[(df.date > time_) & (df.date <= time_ + year)]\n",
    "    for domain in df[\"domain\"].unique():\n",
    "        domain_number.append(\n",
    "            {\n",
    "                \"domain\": domain,\n",
    "                \"length\": len(df_[df_.domain == domain]),\n",
    "                \"type\": \"valid\" if (\"stiri\" in domain) or (\"\" == domain) else \"fake\",\n",
    "                \"year\": time_,\n",
    "            }\n",
    "        )\n",
    "    time_ += year\n",
    "\n",
    "\n",
    "fig = px.histogram(\n",
    "    domain_number, x=\"domain\", y=\"length\", color=\"year\", text_auto=\".2s\", barmode=\"group\"\n",
    ")\n",
    "fig.write_html(f\"../visualization/charts/article_count_per_domain_per_year_groupbar.html\")\n",
    "fig.write_image(f\"../visualization/charts/article_count_per_domain_per_year_groupbar.png\")\n"
   ]
  },
  {
   "cell_type": "markdown",
   "metadata": {},
   "source": [
    "word count by domain"
   ]
  },
  {
   "cell_type": "code",
   "execution_count": 8,
   "metadata": {},
   "outputs": [],
   "source": [
    "domain_word_count = []\n",
    "for domain in df[\"domain\"].unique():\n",
    "    word_count: int = 0\n",
    "    for news in df[df.domain == domain][\"content\"]:\n",
    "        word_count += len(news.split(\" \"))\n",
    "    domain_word_count.append(\n",
    "        {\n",
    "            \"domain\": domain,\n",
    "            \"word_count\": word_count,\n",
    "            \"type\": \"valid\" if (\"stiri\" in domain) or (\"\" == domain) else \"fake\",\n",
    "        }\n",
    "    )\n",
    "\n",
    "\n",
    "fig = px.histogram(domain_word_count, x=\"domain\", y=\"word_count\", color=\"type\", text_auto=\".2s\")\n",
    "fig.write_html(f\"../visualization/charts/word_count_per_domain.html\")\n",
    "fig.write_image(f\"../visualization/charts/word_count_per_domain.png\")\n"
   ]
  },
  {
   "cell_type": "code",
   "execution_count": 9,
   "metadata": {},
   "outputs": [],
   "source": [
    "domain_number = []\n",
    "time_ = pd.Timestamp(\"2010-01-01 00:00:00+0000\", tz=\"UTC\")\n",
    "year = pd.Timedelta(days=366)\n",
    "while time_ < pd.Timestamp.utcnow():\n",
    "    df_ = df[(df.date > time_) & (df.date <= time_ + year)]\n",
    "    for domain in df[\"domain\"].unique():\n",
    "        word_count: int = 0\n",
    "        for news in df_[df_.domain == domain][\"content\"]:\n",
    "            word_count += len(news.split(\" \"))\n",
    "        domain_number.append(\n",
    "            {\n",
    "                \"domain\": domain,\n",
    "                \"word_count\": word_count,\n",
    "                \"type\": \"valid\" if (\"stiri\" in domain) or (\"\" == domain) else \"fake\",\n",
    "                \"year\": time_,\n",
    "            }\n",
    "        )\n",
    "    time_ += year\n",
    "\n",
    "\n",
    "fig = px.histogram(domain_number, x=\"domain\", y=\"word_count\", color=\"year\", text_auto=\".2s\")\n",
    "fig.write_html(f\"../visualization/charts/word_count_per_domain_per_year.html\")\n",
    "fig.write_image(f\"../visualization/charts/word_count_per_domain_per_year.png\")\n"
   ]
  },
  {
   "cell_type": "code",
   "execution_count": 10,
   "metadata": {},
   "outputs": [],
   "source": [
    "domain_number = []\n",
    "time_ = pd.Timestamp(\"2010-01-01 00:00:00+0000\", tz=\"UTC\")\n",
    "year = pd.Timedelta(days=366)\n",
    "while time_ < pd.Timestamp.utcnow():\n",
    "    df_ = df[(df.date > time_) & (df.date <= time_ + year)]\n",
    "    for domain in df[\"domain\"].unique():\n",
    "        word_count: int = 0\n",
    "        for news in df_[df_.domain == domain][\"content\"]:\n",
    "            word_count += len(news.split(\" \"))\n",
    "        domain_number.append(\n",
    "            {\n",
    "                \"domain\": domain,\n",
    "                \"word_count\": word_count,\n",
    "                \"type\": \"valid\" if (\"stiri\" in domain) or (\"\" == domain) else \"fake\",\n",
    "                \"year\": time_,\n",
    "            }\n",
    "        )\n",
    "    time_ += year\n",
    "\n",
    "\n",
    "fig = px.histogram(\n",
    "    domain_number, x=\"domain\", y=\"word_count\", color=\"year\", text_auto=\".2s\", barmode=\"group\"\n",
    ")\n",
    "fig.write_html(f\"../visualization/charts/word_count_per_domain_per_year_groupbar.html\")\n",
    "fig.write_image(f\"../visualization/charts/word_count_per_domain_per_year_groupbar.png\")\n"
   ]
  },
  {
   "cell_type": "markdown",
   "metadata": {},
   "source": [
    "sentence count by domain"
   ]
  },
  {
   "cell_type": "code",
   "execution_count": 11,
   "metadata": {},
   "outputs": [],
   "source": [
    "domain_sentence_count = []\n",
    "for domain in df[\"domain\"].unique():\n",
    "    sentence_count: int = 0\n",
    "    for news in df[df.domain == domain][\"content\"]:\n",
    "        sentence_count += len(news.split(\".\"))\n",
    "    domain_sentence_count.append(\n",
    "        {\n",
    "            \"domain\": domain,\n",
    "            \"sentence_count\": sentence_count,\n",
    "            \"type\": \"valid\" if (\"stiri\" in domain) or (\"\" == domain) else \"fake\",\n",
    "        }\n",
    "    )\n",
    "\n",
    "\n",
    "fig = px.histogram(\n",
    "    domain_sentence_count, x=\"domain\", y=\"sentence_count\", color=\"type\", text_auto=\".2s\"\n",
    ")\n",
    "fig.write_html(f\"../visualization/charts/sentence_count_per_domain.html\")\n",
    "fig.write_image(f\"../visualization/charts/sentence_count_per_domain.png\")\n"
   ]
  },
  {
   "cell_type": "code",
   "execution_count": 12,
   "metadata": {},
   "outputs": [],
   "source": [
    "domain_sentence_count = []\n",
    "time_ = pd.Timestamp(\"2010-01-01 00:00:00+0000\", tz=\"UTC\")\n",
    "year = pd.Timedelta(days=366)\n",
    "while time_ < pd.Timestamp.utcnow():\n",
    "    df_ = df[(df.date > time_) & (df.date <= time_ + year)]\n",
    "    for domain in df[\"domain\"].unique():\n",
    "        sentence_count: int = 0\n",
    "        for news in df_[df_.domain == domain][\"content\"]:\n",
    "            sentence_count += len(news.split(\".\"))\n",
    "        domain_sentence_count.append(\n",
    "            {\n",
    "                \"domain\": domain,\n",
    "                \"sentence_count\": sentence_count,\n",
    "                \"type\": \"valid\" if (\"stiri\" in domain) or (\"\" == domain) else \"fake\",\n",
    "                \"year\": time_,\n",
    "            }\n",
    "        )\n",
    "    time_ += year\n",
    "\n",
    "\n",
    "fig = px.histogram(\n",
    "    domain_sentence_count,\n",
    "    x=\"domain\",\n",
    "    y=\"sentence_count\",\n",
    "    color=\"year\",\n",
    "    text_auto=\".2s\",\n",
    "    barmode=\"group\",\n",
    ")\n",
    "fig.write_html(f\"../visualization/charts/sentence_count_per_domain_per_year_groupbar.html\")\n",
    "fig.write_image(f\"../visualization/charts/sentence_count_per_domain_per_year_groupbar.png\")\n"
   ]
  },
  {
   "cell_type": "code",
   "execution_count": 13,
   "metadata": {},
   "outputs": [],
   "source": [
    "domain_sentence_count = []\n",
    "time_ = pd.Timestamp(\"2010-01-01 00:00:00+0000\", tz=\"UTC\")\n",
    "year = pd.Timedelta(days=366)\n",
    "while time_ < pd.Timestamp.utcnow():\n",
    "    df_ = df[(df.date > time_) & (df.date <= time_ + year)]\n",
    "    for domain in df[\"domain\"].unique():\n",
    "        sentence_count: int = 0\n",
    "        for news in df_[df_.domain == domain][\"content\"]:\n",
    "            sentence_count += len(news.split(\".\"))\n",
    "        domain_sentence_count.append(\n",
    "            {\n",
    "                \"domain\": domain,\n",
    "                \"sentence_count\": sentence_count,\n",
    "                \"type\": \"valid\" if (\"stiri\" in domain) or (\"\" == domain) else \"fake\",\n",
    "                \"year\": time_,\n",
    "            }\n",
    "        )\n",
    "    time_ += year\n",
    "\n",
    "\n",
    "fig = px.histogram(\n",
    "    domain_sentence_count, x=\"domain\", y=\"sentence_count\", color=\"year\", text_auto=\".2s\"\n",
    ")\n",
    "fig.write_html(f\"../visualization/charts/sentence_count_per_domain_per_year.html\")\n",
    "fig.write_image(f\"../visualization/charts/sentence_count_per_domain_per_year.png\")\n"
   ]
  },
  {
   "cell_type": "code",
   "execution_count": 14,
   "metadata": {},
   "outputs": [
    {
     "ename": "ValueError",
     "evalue": "Vertical spacing cannot be greater than (1 / (rows - 1)) = 0.029412.\nThe resulting plot would have 35 rows (rows=35).\nUse the facet_row_spacing argument to adjust this spacing.",
     "output_type": "error",
     "traceback": [
      "\u001b[0;31m---------------------------------------------------------------------------\u001b[0m",
      "\u001b[0;31mValueError\u001b[0m                                Traceback (most recent call last)",
      "\u001b[1;32m/home/ioachimlihor/Licenta/Project/licenta/notebooks/analyze_and_study_data_full.ipynb Cell 24'\u001b[0m in \u001b[0;36m<cell line: 2>\u001b[0;34m()\u001b[0m\n\u001b[1;32m      <a href='vscode-notebook-cell:/home/ioachimlihor/Licenta/Project/licenta/notebooks/analyze_and_study_data_full.ipynb#ch0000026?line=0'>1</a>\u001b[0m years \u001b[39m=\u001b[39m [domain[\u001b[39m\"\u001b[39m\u001b[39myear\u001b[39m\u001b[39m\"\u001b[39m] \u001b[39mfor\u001b[39;00m domain \u001b[39min\u001b[39;00m domain_sentence_count]\n\u001b[0;32m----> <a href='vscode-notebook-cell:/home/ioachimlihor/Licenta/Project/licenta/notebooks/analyze_and_study_data_full.ipynb#ch0000026?line=1'>2</a>\u001b[0m fig \u001b[39m=\u001b[39m px\u001b[39m.\u001b[39mbar(domain_sentence_count, x\u001b[39m=\u001b[39m\u001b[39m\"\u001b[39m\u001b[39mdomain\u001b[39m\u001b[39m\"\u001b[39m, y\u001b[39m=\u001b[39m\u001b[39m\"\u001b[39m\u001b[39msentence_count\u001b[39m\u001b[39m\"\u001b[39m, color\u001b[39m=\u001b[39m\u001b[39m\"\u001b[39m\u001b[39mdomain\u001b[39m\u001b[39m\"\u001b[39m, barmode\u001b[39m=\u001b[39m\u001b[39m\"\u001b[39m\u001b[39mgroup\u001b[39m\u001b[39m\"\u001b[39m,\n\u001b[1;32m      <a href='vscode-notebook-cell:/home/ioachimlihor/Licenta/Project/licenta/notebooks/analyze_and_study_data_full.ipynb#ch0000026?line=2'>3</a>\u001b[0m              facet_row\u001b[39m=\u001b[39m\u001b[39m\"\u001b[39m\u001b[39mdomain\u001b[39m\u001b[39m\"\u001b[39m, facet_col\u001b[39m=\u001b[39m\u001b[39m\"\u001b[39m\u001b[39myear\u001b[39m\u001b[39m\"\u001b[39m,\n\u001b[1;32m      <a href='vscode-notebook-cell:/home/ioachimlihor/Licenta/Project/licenta/notebooks/analyze_and_study_data_full.ipynb#ch0000026?line=3'>4</a>\u001b[0m              category_orders\u001b[39m=\u001b[39m{\u001b[39m\"\u001b[39m\u001b[39mday\u001b[39m\u001b[39m\"\u001b[39m: [time_ ],\n\u001b[1;32m      <a href='vscode-notebook-cell:/home/ioachimlihor/Licenta/Project/licenta/notebooks/analyze_and_study_data_full.ipynb#ch0000026?line=4'>5</a>\u001b[0m                               \u001b[39m\"\u001b[39m\u001b[39mdomain\u001b[39m\u001b[39m\"\u001b[39m: [\u001b[39m\"\u001b[39m\u001b[39mfake\u001b[39m\u001b[39m\"\u001b[39m, \u001b[39m\"\u001b[39m\u001b[39mvalid\u001b[39m\u001b[39m\"\u001b[39m]})\n\u001b[1;32m      <a href='vscode-notebook-cell:/home/ioachimlihor/Licenta/Project/licenta/notebooks/analyze_and_study_data_full.ipynb#ch0000026?line=5'>6</a>\u001b[0m fig\u001b[39m.\u001b[39mwrite_html(\u001b[39mf\u001b[39m\u001b[39m\"\u001b[39m\u001b[39m../visualization/charts/sentence_count_per_domain_per_year_groupbar.html\u001b[39m\u001b[39m\"\u001b[39m)\n\u001b[1;32m      <a href='vscode-notebook-cell:/home/ioachimlihor/Licenta/Project/licenta/notebooks/analyze_and_study_data_full.ipynb#ch0000026?line=6'>7</a>\u001b[0m fig\u001b[39m.\u001b[39mwrite_image(\u001b[39mf\u001b[39m\u001b[39m\"\u001b[39m\u001b[39m../visualization/charts/sentence_count_per_domain_per_year_groupbar.png\u001b[39m\u001b[39m\"\u001b[39m)\n",
      "File \u001b[0;32m~/Licenta/Project/licenta/licenta-env/lib64/python3.10/site-packages/plotly/express/_chart_types.py:368\u001b[0m, in \u001b[0;36mbar\u001b[0;34m(data_frame, x, y, color, pattern_shape, facet_row, facet_col, facet_col_wrap, facet_row_spacing, facet_col_spacing, hover_name, hover_data, custom_data, text, base, error_x, error_x_minus, error_y, error_y_minus, animation_frame, animation_group, category_orders, labels, color_discrete_sequence, color_discrete_map, color_continuous_scale, pattern_shape_sequence, pattern_shape_map, range_color, color_continuous_midpoint, opacity, orientation, barmode, log_x, log_y, range_x, range_y, text_auto, title, template, width, height)\u001b[0m\n\u001b[1;32m    <a href='file:///home/ioachimlihor/Licenta/Project/licenta/licenta-env/lib64/python3.10/site-packages/plotly/express/_chart_types.py?line=319'>320</a>\u001b[0m \u001b[39mdef\u001b[39;00m \u001b[39mbar\u001b[39m(\n\u001b[1;32m    <a href='file:///home/ioachimlihor/Licenta/Project/licenta/licenta-env/lib64/python3.10/site-packages/plotly/express/_chart_types.py?line=320'>321</a>\u001b[0m     data_frame\u001b[39m=\u001b[39m\u001b[39mNone\u001b[39;00m,\n\u001b[1;32m    <a href='file:///home/ioachimlihor/Licenta/Project/licenta/licenta-env/lib64/python3.10/site-packages/plotly/express/_chart_types.py?line=321'>322</a>\u001b[0m     x\u001b[39m=\u001b[39m\u001b[39mNone\u001b[39;00m,\n\u001b[0;32m   (...)\u001b[0m\n\u001b[1;32m    <a href='file:///home/ioachimlihor/Licenta/Project/licenta/licenta-env/lib64/python3.10/site-packages/plotly/express/_chart_types.py?line=361'>362</a>\u001b[0m     height\u001b[39m=\u001b[39m\u001b[39mNone\u001b[39;00m,\n\u001b[1;32m    <a href='file:///home/ioachimlihor/Licenta/Project/licenta/licenta-env/lib64/python3.10/site-packages/plotly/express/_chart_types.py?line=362'>363</a>\u001b[0m ):\n\u001b[1;32m    <a href='file:///home/ioachimlihor/Licenta/Project/licenta/licenta-env/lib64/python3.10/site-packages/plotly/express/_chart_types.py?line=363'>364</a>\u001b[0m     \u001b[39m\"\"\"\u001b[39;00m\n\u001b[1;32m    <a href='file:///home/ioachimlihor/Licenta/Project/licenta/licenta-env/lib64/python3.10/site-packages/plotly/express/_chart_types.py?line=364'>365</a>\u001b[0m \u001b[39m    In a bar plot, each row of `data_frame` is represented as a rectangular\u001b[39;00m\n\u001b[1;32m    <a href='file:///home/ioachimlihor/Licenta/Project/licenta/licenta-env/lib64/python3.10/site-packages/plotly/express/_chart_types.py?line=365'>366</a>\u001b[0m \u001b[39m    mark.\u001b[39;00m\n\u001b[1;32m    <a href='file:///home/ioachimlihor/Licenta/Project/licenta/licenta-env/lib64/python3.10/site-packages/plotly/express/_chart_types.py?line=366'>367</a>\u001b[0m \u001b[39m    \"\"\"\u001b[39;00m\n\u001b[0;32m--> <a href='file:///home/ioachimlihor/Licenta/Project/licenta/licenta-env/lib64/python3.10/site-packages/plotly/express/_chart_types.py?line=367'>368</a>\u001b[0m     \u001b[39mreturn\u001b[39;00m make_figure(\n\u001b[1;32m    <a href='file:///home/ioachimlihor/Licenta/Project/licenta/licenta-env/lib64/python3.10/site-packages/plotly/express/_chart_types.py?line=368'>369</a>\u001b[0m         args\u001b[39m=\u001b[39;49m\u001b[39mlocals\u001b[39;49m(),\n\u001b[1;32m    <a href='file:///home/ioachimlihor/Licenta/Project/licenta/licenta-env/lib64/python3.10/site-packages/plotly/express/_chart_types.py?line=369'>370</a>\u001b[0m         constructor\u001b[39m=\u001b[39;49mgo\u001b[39m.\u001b[39;49mBar,\n\u001b[1;32m    <a href='file:///home/ioachimlihor/Licenta/Project/licenta/licenta-env/lib64/python3.10/site-packages/plotly/express/_chart_types.py?line=370'>371</a>\u001b[0m         trace_patch\u001b[39m=\u001b[39;49m\u001b[39mdict\u001b[39;49m(textposition\u001b[39m=\u001b[39;49m\u001b[39m\"\u001b[39;49m\u001b[39mauto\u001b[39;49m\u001b[39m\"\u001b[39;49m),\n\u001b[1;32m    <a href='file:///home/ioachimlihor/Licenta/Project/licenta/licenta-env/lib64/python3.10/site-packages/plotly/express/_chart_types.py?line=371'>372</a>\u001b[0m         layout_patch\u001b[39m=\u001b[39;49m\u001b[39mdict\u001b[39;49m(barmode\u001b[39m=\u001b[39;49mbarmode),\n\u001b[1;32m    <a href='file:///home/ioachimlihor/Licenta/Project/licenta/licenta-env/lib64/python3.10/site-packages/plotly/express/_chart_types.py?line=372'>373</a>\u001b[0m     )\n",
      "File \u001b[0;32m~/Licenta/Project/licenta/licenta-env/lib64/python3.10/site-packages/plotly/express/_core.py:2182\u001b[0m, in \u001b[0;36mmake_figure\u001b[0;34m(args, constructor, trace_patch, layout_patch)\u001b[0m\n\u001b[1;32m   <a href='file:///home/ioachimlihor/Licenta/Project/licenta/licenta-env/lib64/python3.10/site-packages/plotly/express/_core.py?line=2178'>2179</a>\u001b[0m \u001b[39mif\u001b[39;00m args\u001b[39m.\u001b[39mget(\u001b[39m\"\u001b[39m\u001b[39mmarginal_y\u001b[39m\u001b[39m\"\u001b[39m) \u001b[39mis\u001b[39;00m \u001b[39mnot\u001b[39;00m \u001b[39mNone\u001b[39;00m:\n\u001b[1;32m   <a href='file:///home/ioachimlihor/Licenta/Project/licenta/licenta-env/lib64/python3.10/site-packages/plotly/express/_core.py?line=2179'>2180</a>\u001b[0m     ncols \u001b[39m+\u001b[39m\u001b[39m=\u001b[39m \u001b[39m1\u001b[39m\n\u001b[0;32m-> <a href='file:///home/ioachimlihor/Licenta/Project/licenta/licenta-env/lib64/python3.10/site-packages/plotly/express/_core.py?line=2181'>2182</a>\u001b[0m fig \u001b[39m=\u001b[39m init_figure(\n\u001b[1;32m   <a href='file:///home/ioachimlihor/Licenta/Project/licenta/licenta-env/lib64/python3.10/site-packages/plotly/express/_core.py?line=2182'>2183</a>\u001b[0m     args, subplot_type, frame_list, nrows, ncols, col_labels, row_labels\n\u001b[1;32m   <a href='file:///home/ioachimlihor/Licenta/Project/licenta/licenta-env/lib64/python3.10/site-packages/plotly/express/_core.py?line=2183'>2184</a>\u001b[0m )\n\u001b[1;32m   <a href='file:///home/ioachimlihor/Licenta/Project/licenta/licenta-env/lib64/python3.10/site-packages/plotly/express/_core.py?line=2185'>2186</a>\u001b[0m \u001b[39m# Position traces in subplots\u001b[39;00m\n\u001b[1;32m   <a href='file:///home/ioachimlihor/Licenta/Project/licenta/licenta-env/lib64/python3.10/site-packages/plotly/express/_core.py?line=2186'>2187</a>\u001b[0m \u001b[39mfor\u001b[39;00m frame \u001b[39min\u001b[39;00m frame_list:\n",
      "File \u001b[0;32m~/Licenta/Project/licenta/licenta-env/lib64/python3.10/site-packages/plotly/express/_core.py:2324\u001b[0m, in \u001b[0;36minit_figure\u001b[0;34m(args, subplot_type, frame_list, nrows, ncols, col_labels, row_labels)\u001b[0m\n\u001b[1;32m   <a href='file:///home/ioachimlihor/Licenta/Project/licenta/licenta-env/lib64/python3.10/site-packages/plotly/express/_core.py?line=2321'>2322</a>\u001b[0m \u001b[39mexcept\u001b[39;00m \u001b[39mValueError\u001b[39;00m \u001b[39mas\u001b[39;00m e:\n\u001b[1;32m   <a href='file:///home/ioachimlihor/Licenta/Project/licenta/licenta-env/lib64/python3.10/site-packages/plotly/express/_core.py?line=2322'>2323</a>\u001b[0m     _spacing_error_translator(e, \u001b[39m\"\u001b[39m\u001b[39mHorizontal\u001b[39m\u001b[39m\"\u001b[39m, \u001b[39m\"\u001b[39m\u001b[39mfacet_col_spacing\u001b[39m\u001b[39m\"\u001b[39m)\n\u001b[0;32m-> <a href='file:///home/ioachimlihor/Licenta/Project/licenta/licenta-env/lib64/python3.10/site-packages/plotly/express/_core.py?line=2323'>2324</a>\u001b[0m     _spacing_error_translator(e, \u001b[39m\"\u001b[39;49m\u001b[39mVertical\u001b[39;49m\u001b[39m\"\u001b[39;49m, \u001b[39m\"\u001b[39;49m\u001b[39mfacet_row_spacing\u001b[39;49m\u001b[39m\"\u001b[39;49m)\n\u001b[1;32m   <a href='file:///home/ioachimlihor/Licenta/Project/licenta/licenta-env/lib64/python3.10/site-packages/plotly/express/_core.py?line=2325'>2326</a>\u001b[0m \u001b[39m# Remove explicit font size of row/col titles so template can take over\u001b[39;00m\n\u001b[1;32m   <a href='file:///home/ioachimlihor/Licenta/Project/licenta/licenta-env/lib64/python3.10/site-packages/plotly/express/_core.py?line=2326'>2327</a>\u001b[0m \u001b[39mfor\u001b[39;00m annot \u001b[39min\u001b[39;00m fig\u001b[39m.\u001b[39mlayout\u001b[39m.\u001b[39mannotations:\n",
      "File \u001b[0;32m~/Licenta/Project/licenta/licenta-env/lib64/python3.10/site-packages/plotly/express/_core.py:2303\u001b[0m, in \u001b[0;36minit_figure.<locals>._spacing_error_translator\u001b[0;34m(e, direction, facet_arg)\u001b[0m\n\u001b[1;32m   <a href='file:///home/ioachimlihor/Licenta/Project/licenta/licenta-env/lib64/python3.10/site-packages/plotly/express/_core.py?line=2294'>2295</a>\u001b[0m \u001b[39mif\u001b[39;00m (\u001b[39m\"\u001b[39m\u001b[39m%s\u001b[39;00m\u001b[39m spacing\u001b[39m\u001b[39m\"\u001b[39m \u001b[39m%\u001b[39m (direction,)) \u001b[39min\u001b[39;00m e\u001b[39m.\u001b[39margs[\u001b[39m0\u001b[39m]:\n\u001b[1;32m   <a href='file:///home/ioachimlihor/Licenta/Project/licenta/licenta-env/lib64/python3.10/site-packages/plotly/express/_core.py?line=2295'>2296</a>\u001b[0m     e\u001b[39m.\u001b[39margs \u001b[39m=\u001b[39m (\n\u001b[1;32m   <a href='file:///home/ioachimlihor/Licenta/Project/licenta/licenta-env/lib64/python3.10/site-packages/plotly/express/_core.py?line=2296'>2297</a>\u001b[0m         e\u001b[39m.\u001b[39margs[\u001b[39m0\u001b[39m]\n\u001b[1;32m   <a href='file:///home/ioachimlihor/Licenta/Project/licenta/licenta-env/lib64/python3.10/site-packages/plotly/express/_core.py?line=2297'>2298</a>\u001b[0m         \u001b[39m+\u001b[39m \u001b[39m\"\"\"\u001b[39m\n\u001b[0;32m   (...)\u001b[0m\n\u001b[1;32m   <a href='file:///home/ioachimlihor/Licenta/Project/licenta/licenta-env/lib64/python3.10/site-packages/plotly/express/_core.py?line=2300'>2301</a>\u001b[0m         ),\n\u001b[1;32m   <a href='file:///home/ioachimlihor/Licenta/Project/licenta/licenta-env/lib64/python3.10/site-packages/plotly/express/_core.py?line=2301'>2302</a>\u001b[0m     )\n\u001b[0;32m-> <a href='file:///home/ioachimlihor/Licenta/Project/licenta/licenta-env/lib64/python3.10/site-packages/plotly/express/_core.py?line=2302'>2303</a>\u001b[0m     \u001b[39mraise\u001b[39;00m e\n",
      "File \u001b[0;32m~/Licenta/Project/licenta/licenta-env/lib64/python3.10/site-packages/plotly/express/_core.py:2307\u001b[0m, in \u001b[0;36minit_figure\u001b[0;34m(args, subplot_type, frame_list, nrows, ncols, col_labels, row_labels)\u001b[0m\n\u001b[1;32m   <a href='file:///home/ioachimlihor/Licenta/Project/licenta/licenta-env/lib64/python3.10/site-packages/plotly/express/_core.py?line=2304'>2305</a>\u001b[0m \u001b[39m# Create figure with subplots\u001b[39;00m\n\u001b[1;32m   <a href='file:///home/ioachimlihor/Licenta/Project/licenta/licenta-env/lib64/python3.10/site-packages/plotly/express/_core.py?line=2305'>2306</a>\u001b[0m \u001b[39mtry\u001b[39;00m:\n\u001b[0;32m-> <a href='file:///home/ioachimlihor/Licenta/Project/licenta/licenta-env/lib64/python3.10/site-packages/plotly/express/_core.py?line=2306'>2307</a>\u001b[0m     fig \u001b[39m=\u001b[39m make_subplots(\n\u001b[1;32m   <a href='file:///home/ioachimlihor/Licenta/Project/licenta/licenta-env/lib64/python3.10/site-packages/plotly/express/_core.py?line=2307'>2308</a>\u001b[0m         rows\u001b[39m=\u001b[39;49mnrows,\n\u001b[1;32m   <a href='file:///home/ioachimlihor/Licenta/Project/licenta/licenta-env/lib64/python3.10/site-packages/plotly/express/_core.py?line=2308'>2309</a>\u001b[0m         cols\u001b[39m=\u001b[39;49mncols,\n\u001b[1;32m   <a href='file:///home/ioachimlihor/Licenta/Project/licenta/licenta-env/lib64/python3.10/site-packages/plotly/express/_core.py?line=2309'>2310</a>\u001b[0m         specs\u001b[39m=\u001b[39;49mspecs,\n\u001b[1;32m   <a href='file:///home/ioachimlihor/Licenta/Project/licenta/licenta-env/lib64/python3.10/site-packages/plotly/express/_core.py?line=2310'>2311</a>\u001b[0m         shared_xaxes\u001b[39m=\u001b[39;49m\u001b[39m\"\u001b[39;49m\u001b[39mall\u001b[39;49m\u001b[39m\"\u001b[39;49m,\n\u001b[1;32m   <a href='file:///home/ioachimlihor/Licenta/Project/licenta/licenta-env/lib64/python3.10/site-packages/plotly/express/_core.py?line=2311'>2312</a>\u001b[0m         shared_yaxes\u001b[39m=\u001b[39;49m\u001b[39m\"\u001b[39;49m\u001b[39mall\u001b[39;49m\u001b[39m\"\u001b[39;49m,\n\u001b[1;32m   <a href='file:///home/ioachimlihor/Licenta/Project/licenta/licenta-env/lib64/python3.10/site-packages/plotly/express/_core.py?line=2312'>2313</a>\u001b[0m         row_titles\u001b[39m=\u001b[39;49m[] \u001b[39mif\u001b[39;49;00m facet_col_wrap \u001b[39melse\u001b[39;49;00m \u001b[39mlist\u001b[39;49m(\u001b[39mreversed\u001b[39;49m(row_labels)),\n\u001b[1;32m   <a href='file:///home/ioachimlihor/Licenta/Project/licenta/licenta-env/lib64/python3.10/site-packages/plotly/express/_core.py?line=2313'>2314</a>\u001b[0m         column_titles\u001b[39m=\u001b[39;49m[] \u001b[39mif\u001b[39;49;00m facet_col_wrap \u001b[39melse\u001b[39;49;00m col_labels,\n\u001b[1;32m   <a href='file:///home/ioachimlihor/Licenta/Project/licenta/licenta-env/lib64/python3.10/site-packages/plotly/express/_core.py?line=2314'>2315</a>\u001b[0m         subplot_titles\u001b[39m=\u001b[39;49msubplot_labels \u001b[39mif\u001b[39;49;00m facet_col_wrap \u001b[39melse\u001b[39;49;00m [],\n\u001b[1;32m   <a href='file:///home/ioachimlihor/Licenta/Project/licenta/licenta-env/lib64/python3.10/site-packages/plotly/express/_core.py?line=2315'>2316</a>\u001b[0m         horizontal_spacing\u001b[39m=\u001b[39;49mhorizontal_spacing,\n\u001b[1;32m   <a href='file:///home/ioachimlihor/Licenta/Project/licenta/licenta-env/lib64/python3.10/site-packages/plotly/express/_core.py?line=2316'>2317</a>\u001b[0m         vertical_spacing\u001b[39m=\u001b[39;49mvertical_spacing,\n\u001b[1;32m   <a href='file:///home/ioachimlihor/Licenta/Project/licenta/licenta-env/lib64/python3.10/site-packages/plotly/express/_core.py?line=2317'>2318</a>\u001b[0m         row_heights\u001b[39m=\u001b[39;49mrow_heights,\n\u001b[1;32m   <a href='file:///home/ioachimlihor/Licenta/Project/licenta/licenta-env/lib64/python3.10/site-packages/plotly/express/_core.py?line=2318'>2319</a>\u001b[0m         column_widths\u001b[39m=\u001b[39;49mcolumn_widths,\n\u001b[1;32m   <a href='file:///home/ioachimlihor/Licenta/Project/licenta/licenta-env/lib64/python3.10/site-packages/plotly/express/_core.py?line=2319'>2320</a>\u001b[0m         start_cell\u001b[39m=\u001b[39;49m\u001b[39m\"\u001b[39;49m\u001b[39mbottom-left\u001b[39;49m\u001b[39m\"\u001b[39;49m,\n\u001b[1;32m   <a href='file:///home/ioachimlihor/Licenta/Project/licenta/licenta-env/lib64/python3.10/site-packages/plotly/express/_core.py?line=2320'>2321</a>\u001b[0m     )\n\u001b[1;32m   <a href='file:///home/ioachimlihor/Licenta/Project/licenta/licenta-env/lib64/python3.10/site-packages/plotly/express/_core.py?line=2321'>2322</a>\u001b[0m \u001b[39mexcept\u001b[39;00m \u001b[39mValueError\u001b[39;00m \u001b[39mas\u001b[39;00m e:\n\u001b[1;32m   <a href='file:///home/ioachimlihor/Licenta/Project/licenta/licenta-env/lib64/python3.10/site-packages/plotly/express/_core.py?line=2322'>2323</a>\u001b[0m     _spacing_error_translator(e, \u001b[39m\"\u001b[39m\u001b[39mHorizontal\u001b[39m\u001b[39m\"\u001b[39m, \u001b[39m\"\u001b[39m\u001b[39mfacet_col_spacing\u001b[39m\u001b[39m\"\u001b[39m)\n",
      "File \u001b[0;32m~/Licenta/Project/licenta/licenta-env/lib64/python3.10/site-packages/plotly/subplots.py:567\u001b[0m, in \u001b[0;36mmake_subplots\u001b[0;34m(rows, cols, shared_xaxes, shared_yaxes, start_cell, print_grid, horizontal_spacing, vertical_spacing, subplot_titles, column_widths, row_heights, specs, insets, column_titles, row_titles, x_title, y_title, figure, **kwargs)\u001b[0m\n\u001b[1;32m    <a href='file:///home/ioachimlihor/Licenta/Project/licenta/licenta-env/lib64/python3.10/site-packages/plotly/subplots.py?line=564'>565</a>\u001b[0m         vertical_spacing \u001b[39m=\u001b[39m \u001b[39m0.3\u001b[39m \u001b[39m/\u001b[39m rows\n\u001b[1;32m    <a href='file:///home/ioachimlihor/Licenta/Project/licenta/licenta-env/lib64/python3.10/site-packages/plotly/subplots.py?line=565'>566</a>\u001b[0m \u001b[39m# check vertical_spacing can be satisfied:\u001b[39;00m\n\u001b[0;32m--> <a href='file:///home/ioachimlihor/Licenta/Project/licenta/licenta-env/lib64/python3.10/site-packages/plotly/subplots.py?line=566'>567</a>\u001b[0m _check_hv_spacing(rows, vertical_spacing, \u001b[39m\"\u001b[39;49m\u001b[39mVertical\u001b[39;49m\u001b[39m\"\u001b[39;49m, \u001b[39m\"\u001b[39;49m\u001b[39mrows\u001b[39;49m\u001b[39m\"\u001b[39;49m, \u001b[39m\"\u001b[39;49m\u001b[39mrows\u001b[39;49m\u001b[39m\"\u001b[39;49m)\n\u001b[1;32m    <a href='file:///home/ioachimlihor/Licenta/Project/licenta/licenta-env/lib64/python3.10/site-packages/plotly/subplots.py?line=568'>569</a>\u001b[0m \u001b[39m# ### subplot titles ###\u001b[39;00m\n\u001b[1;32m    <a href='file:///home/ioachimlihor/Licenta/Project/licenta/licenta-env/lib64/python3.10/site-packages/plotly/subplots.py?line=569'>570</a>\u001b[0m \u001b[39mif\u001b[39;00m subplot_titles \u001b[39mis\u001b[39;00m \u001b[39mNone\u001b[39;00m:\n",
      "File \u001b[0;32m~/Licenta/Project/licenta/licenta-env/lib64/python3.10/site-packages/plotly/subplots.py:540\u001b[0m, in \u001b[0;36mmake_subplots.<locals>._check_hv_spacing\u001b[0;34m(dimsize, spacing, name, dimvarname, dimname)\u001b[0m\n\u001b[1;32m    <a href='file:///home/ioachimlihor/Licenta/Project/licenta/licenta-env/lib64/python3.10/site-packages/plotly/subplots.py?line=537'>538</a>\u001b[0m         max_spacing \u001b[39m=\u001b[39m \u001b[39m1.0\u001b[39m \u001b[39m/\u001b[39m \u001b[39mfloat\u001b[39m(dimsize \u001b[39m-\u001b[39m \u001b[39m1\u001b[39m)\n\u001b[1;32m    <a href='file:///home/ioachimlihor/Licenta/Project/licenta/licenta-env/lib64/python3.10/site-packages/plotly/subplots.py?line=538'>539</a>\u001b[0m         \u001b[39mif\u001b[39;00m spacing \u001b[39m>\u001b[39m max_spacing:\n\u001b[0;32m--> <a href='file:///home/ioachimlihor/Licenta/Project/licenta/licenta-env/lib64/python3.10/site-packages/plotly/subplots.py?line=539'>540</a>\u001b[0m             \u001b[39mraise\u001b[39;00m \u001b[39mValueError\u001b[39;00m(\n\u001b[1;32m    <a href='file:///home/ioachimlihor/Licenta/Project/licenta/licenta-env/lib64/python3.10/site-packages/plotly/subplots.py?line=540'>541</a>\u001b[0m                 \u001b[39m\"\"\"{name} spacing cannot be greater than (1 / ({dimvarname} - 1)) = {max_spacing:f}.\u001b[39;00m\n\u001b[1;32m    <a href='file:///home/ioachimlihor/Licenta/Project/licenta/licenta-env/lib64/python3.10/site-packages/plotly/subplots.py?line=541'>542</a>\u001b[0m \u001b[39mThe resulting plot would have {dimsize} {dimname} ({dimvarname}={dimsize}).\"\"\"\u001b[39;00m\u001b[39m.\u001b[39mformat(\n\u001b[1;32m    <a href='file:///home/ioachimlihor/Licenta/Project/licenta/licenta-env/lib64/python3.10/site-packages/plotly/subplots.py?line=542'>543</a>\u001b[0m                     dimvarname\u001b[39m=\u001b[39mdimvarname,\n\u001b[1;32m    <a href='file:///home/ioachimlihor/Licenta/Project/licenta/licenta-env/lib64/python3.10/site-packages/plotly/subplots.py?line=543'>544</a>\u001b[0m                     name\u001b[39m=\u001b[39mname,\n\u001b[1;32m    <a href='file:///home/ioachimlihor/Licenta/Project/licenta/licenta-env/lib64/python3.10/site-packages/plotly/subplots.py?line=544'>545</a>\u001b[0m                     dimname\u001b[39m=\u001b[39mdimname,\n\u001b[1;32m    <a href='file:///home/ioachimlihor/Licenta/Project/licenta/licenta-env/lib64/python3.10/site-packages/plotly/subplots.py?line=545'>546</a>\u001b[0m                     max_spacing\u001b[39m=\u001b[39mmax_spacing,\n\u001b[1;32m    <a href='file:///home/ioachimlihor/Licenta/Project/licenta/licenta-env/lib64/python3.10/site-packages/plotly/subplots.py?line=546'>547</a>\u001b[0m                     dimsize\u001b[39m=\u001b[39mdimsize,\n\u001b[1;32m    <a href='file:///home/ioachimlihor/Licenta/Project/licenta/licenta-env/lib64/python3.10/site-packages/plotly/subplots.py?line=547'>548</a>\u001b[0m                 )\n\u001b[1;32m    <a href='file:///home/ioachimlihor/Licenta/Project/licenta/licenta-env/lib64/python3.10/site-packages/plotly/subplots.py?line=548'>549</a>\u001b[0m             )\n",
      "\u001b[0;31mValueError\u001b[0m: Vertical spacing cannot be greater than (1 / (rows - 1)) = 0.029412.\nThe resulting plot would have 35 rows (rows=35).\nUse the facet_row_spacing argument to adjust this spacing."
     ]
    }
   ],
   "source": [
    "years = [domain[\"year\"] for domain in domain_sentence_count]\n",
    "fig = px.bar(domain_sentence_count, x=\"domain\", y=\"sentence_count\", color=\"domain\", barmode=\"group\",\n",
    "             facet_row=\"domain\", facet_col=\"year\",\n",
    "             category_orders={\"day\": [time_ ],\n",
    "                              \"domain\": [\"fake\", \"valid\"]})\n",
    "fig.write_html(f\"../visualization/charts/sentence_count_per_domain_per_year_groupbar.html\")\n",
    "fig.write_image(f\"../visualization/charts/sentence_count_per_domain_per_year_groupbar.png\")\n"
   ]
  },
  {
   "cell_type": "markdown",
   "metadata": {},
   "source": [
    "average word length by domain"
   ]
  },
  {
   "cell_type": "code",
   "execution_count": 15,
   "metadata": {},
   "outputs": [],
   "source": [
    "domain_word_count = []\n",
    "for domain in df[\"domain\"].unique():\n",
    "    word_count: list[int] = []\n",
    "    for news in df[df.domain == domain][\"content\"]:\n",
    "        word_count.append(np.mean([len(news) for news in  news.split(\" \")]))\n",
    "    domain_word_count.append(\n",
    "        {\n",
    "            \"domain\": domain,\n",
    "            \"word_length_average\": np.mean(word_count),\n",
    "            \"type\": \"valid\" if (\"stiri\" in domain) or (\"\" == domain) else \"fake\",\n",
    "        }\n",
    "    )\n",
    "\n",
    "\n",
    "fig = px.histogram(\n",
    "    domain_word_count, x=\"domain\", y=\"word_length_average\", color=\"type\", text_auto=\".2s\"\n",
    ")\n",
    "fig.write_html(f\"../visualization/charts/average_word_length_by_domain.html\")\n",
    "fig.write_image(f\"../visualization/charts/average_word_length_by_domain.png\")\n"
   ]
  },
  {
   "cell_type": "markdown",
   "metadata": {},
   "source": [
    "average sentence length by domain"
   ]
  },
  {
   "cell_type": "code",
   "execution_count": 16,
   "metadata": {},
   "outputs": [],
   "source": [
    "domain_word_count = []\n",
    "for domain in df[\"domain\"].unique():\n",
    "    sentence_average: list[int] = []\n",
    "    for news in df[df.domain == domain][\"content\"]:\n",
    "        sentence_average.append(np.mean([len(news) for news in  news.split(\".\")]))\n",
    "    domain_word_count.append(\n",
    "        {\n",
    "            \"domain\": domain,\n",
    "            \"sentence_length_average\": np.mean(sentence_average),\n",
    "            \"type\": \"valid\" if (\"stiri\" in domain) or (\"\" == domain) else \"fake\",\n",
    "        }\n",
    "    )\n",
    "\n",
    "\n",
    "fig = px.histogram(\n",
    "    domain_word_count, x=\"domain\", y=\"sentence_length_average\", color=\"type\", text_auto=\".2s\"\n",
    ")\n",
    "fig.write_html(f\"../visualization/charts/average_sentence_length_by_domain.html\")\n",
    "fig.write_image(f\"../visualization/charts/average_sentence_length_by_domain.png\")\n"
   ]
  },
  {
   "cell_type": "markdown",
   "metadata": {},
   "source": [
    "sentiment analysis per domains"
   ]
  },
  {
   "cell_type": "code",
   "execution_count": null,
   "metadata": {},
   "outputs": [],
   "source": []
  },
  {
   "cell_type": "markdown",
   "metadata": {},
   "source": [
    "```\n",
    "pip install -U pip setuptools wheel\n",
    "pip install -U 'spacy[cuda113]'\n",
    "python -m spacy ro_core_news_sm\n",
    "```"
   ]
  },
  {
   "cell_type": "markdown",
   "metadata": {},
   "source": [
    "# NER by domain"
   ]
  },
  {
   "cell_type": "code",
   "execution_count": null,
   "metadata": {},
   "outputs": [],
   "source": [
    "nlp = spacy.load(\"ro_core_news_sm\")\n",
    "\n",
    "domain_word_count1 = []\n",
    "for domain in df[\"domain\"].unique():\n",
    "    ner_object_frequecy: dict[str, int] = {}\n",
    "    ner_tag_object: dict[str, list[str]] = {}\n",
    "\n",
    "    print(domain)\n",
    "\n",
    "    for news in tqdm.tqdm(df[df.domain == domain][\"content\"]):\n",
    "        doc = nlp(news)\n",
    "        for ent in doc.ents:\n",
    "\n",
    "            if ent.text not in ner_object_frequecy.keys():\n",
    "                ner_object_frequecy[ent.text] = 1\n",
    "            else:\n",
    "                ner_object_frequecy[ent.text] += 1\n",
    "\n",
    "            if ent.label_ not in ner_tag_object.keys():\n",
    "                ner_tag_object[ent.label_] = [ent.text]\n",
    "            else:\n",
    "                ner_tag_object[ent.label_].append(ent.text)\n",
    "    domain_word_count1.append(\n",
    "        {\n",
    "            \"domain\": domain,\n",
    "            \"ner_object_frequecy\": ner_object_frequecy,\n",
    "            \"ner_tag_object\": ner_tag_object,\n",
    "            \"type\": \"valid\" if (\"stiri\" in domain) or (\"\" == domain) else \"fake\",\n",
    "        }\n",
    "    )\n"
   ]
  },
  {
   "cell_type": "code",
   "execution_count": null,
   "metadata": {},
   "outputs": [],
   "source": [
    "import gzip\n",
    "import pickle\n",
    "with gzip.open(f\"../models/pickles/docs_per_domain_{domain.replace('/', '_')}.gzip\", \"wb\") as o:\n",
    "    pickle.dump(domain_word_count1, o)"
   ]
  },
  {
   "cell_type": "code",
   "execution_count": 25,
   "metadata": {},
   "outputs": [],
   "source": [
    "domains = [domain for domain in df[\"domain\"].unique()]"
   ]
  },
  {
   "cell_type": "code",
   "execution_count": null,
   "metadata": {},
   "outputs": [],
   "source": [
    "import gzip\n",
    "import pickle\n",
    "with gzip.open(f\"../models/pickles/docs_per_domain_{domain.replace('/', '_')}.gzip\", \"rb\") as o:\n",
    "    domain_word_count = pickle.load(o)"
   ]
  },
  {
   "cell_type": "markdown",
   "metadata": {},
   "source": [
    "Create nlp objects"
   ]
  },
  {
   "cell_type": "code",
   "execution_count": 66,
   "metadata": {},
   "outputs": [
    {
     "data": {
      "text/plain": [
       "array(['monden/', 'it-stiinta/', 'sport/', 'politic/', 'life-death/', '',\n",
       "       'stiri/economie', 'stiri/externe', 'stiri/actualitate',\n",
       "       'stiri/actualitate/politica', 'stiri/sport', 'stiri/sci-tech'],\n",
       "      dtype=object)"
      ]
     },
     "execution_count": 66,
     "metadata": {},
     "output_type": "execute_result"
    }
   ],
   "source": [
    "df[\"domain\"].unique()"
   ]
  },
  {
   "cell_type": "code",
   "execution_count": 6,
   "metadata": {},
   "outputs": [
    {
     "name": "stdout",
     "output_type": "stream",
     "text": [
      "stiri/externe\n"
     ]
    },
    {
     "name": "stderr",
     "output_type": "stream",
     "text": [
      "100%|██████████| 26892/26892 [37:00<00:00, 12.11it/s]  \n"
     ]
    }
   ],
   "source": [
    "import tqdm\n",
    "import gzip\n",
    "import pickle\n",
    "\n",
    "nlp = spacy.load(\"ro_core_news_sm\")\n",
    "\n",
    "for domain in df[\"domain\"].unique():\n",
    "    ner_object_frequecy: dict[str, int] = {}\n",
    "    ner_tag_object: dict[str, list[str]] = {}\n",
    "\n",
    "    print(domain)\n",
    "\n",
    "    docs = []\n",
    "\n",
    "    for news in tqdm.tqdm(df[df.domain == domain][\"content\"]):\n",
    "        docs.append(nlp(news))\n",
    "\n",
    "    domain_dict = {\n",
    "        \"domain\": domain,\n",
    "        \"docs\": docs,\n",
    "    }\n",
    "\n",
    "    with gzip.open(f\"../models/pickles/docs_per_domain_{domain.replace('/', '_')}.gzip\", \"wb\") as o:\n",
    "        pickle.dump(domain_dict, o)\n"
   ]
  },
  {
   "cell_type": "code",
   "execution_count": 4,
   "metadata": {},
   "outputs": [
    {
     "name": "stdout",
     "output_type": "stream",
     "text": [
      "category/news/\n"
     ]
    },
    {
     "name": "stderr",
     "output_type": "stream",
     "text": [
      "100%|██████████| 18684/18684 [00:07<00:00, 2396.60it/s]\n"
     ]
    },
    {
     "name": "stdout",
     "output_type": "stream",
     "text": [
      "category/externe/\n"
     ]
    },
    {
     "name": "stderr",
     "output_type": "stream",
     "text": [
      "100%|██████████| 5820/5820 [00:02<00:00, 2777.67it/s]\n"
     ]
    },
    {
     "name": "stdout",
     "output_type": "stream",
     "text": [
      "category/life/\n"
     ]
    },
    {
     "name": "stderr",
     "output_type": "stream",
     "text": [
      "100%|██████████| 1209/1209 [00:00<00:00, 3461.16it/s]\n"
     ]
    },
    {
     "name": "stdout",
     "output_type": "stream",
     "text": [
      "category/politica/\n"
     ]
    },
    {
     "name": "stderr",
     "output_type": "stream",
     "text": [
      "100%|██████████| 26386/26386 [00:20<00:00, 1285.80it/s]\n"
     ]
    },
    {
     "name": "stdout",
     "output_type": "stream",
     "text": [
      "category/opinii/\n"
     ]
    },
    {
     "name": "stderr",
     "output_type": "stream",
     "text": [
      "100%|██████████| 207/207 [00:00<00:00, 921.11it/s]\n"
     ]
    },
    {
     "name": "stdout",
     "output_type": "stream",
     "text": [
      "category/money/\n"
     ]
    },
    {
     "name": "stderr",
     "output_type": "stream",
     "text": [
      "100%|██████████| 260/260 [00:00<00:00, 1606.95it/s]\n"
     ]
    },
    {
     "name": "stdout",
     "output_type": "stream",
     "text": [
      "stiri/\n"
     ]
    },
    {
     "name": "stderr",
     "output_type": "stream",
     "text": [
      "100%|██████████| 4176/4176 [00:00<00:00, 5329.61it/s]\n"
     ]
    },
    {
     "name": "stdout",
     "output_type": "stream",
     "text": [
      "category/curiozitati-staiti-ca/\n"
     ]
    },
    {
     "name": "stderr",
     "output_type": "stream",
     "text": [
      "100%|██████████| 17/17 [00:00<00:00, 212.54it/s]\n"
     ]
    },
    {
     "name": "stdout",
     "output_type": "stream",
     "text": [
      "category/actualitate/\n"
     ]
    },
    {
     "name": "stderr",
     "output_type": "stream",
     "text": [
      "100%|██████████| 5/5 [00:00<00:00, 99.89it/s]\n"
     ]
    },
    {
     "name": "stdout",
     "output_type": "stream",
     "text": [
      "category/stiri-din-romania/\n"
     ]
    },
    {
     "name": "stderr",
     "output_type": "stream",
     "text": [
      "100%|██████████| 14/14 [00:00<00:00, 275.50it/s]\n"
     ]
    },
    {
     "name": "stdout",
     "output_type": "stream",
     "text": [
      "category/mistere-de-pe-mapamond/\n"
     ]
    },
    {
     "name": "stderr",
     "output_type": "stream",
     "text": [
      "100%|██████████| 5/5 [00:00<00:00, 90.59it/s]\n"
     ]
    },
    {
     "name": "stdout",
     "output_type": "stream",
     "text": [
      "category/sanatate-si-medicina/\n"
     ]
    },
    {
     "name": "stderr",
     "output_type": "stream",
     "text": [
      "100%|██████████| 9/9 [00:00<00:00, 184.61it/s]\n"
     ]
    },
    {
     "name": "stdout",
     "output_type": "stream",
     "text": [
      "category/stiri-de-pe-mapamond/\n"
     ]
    },
    {
     "name": "stderr",
     "output_type": "stream",
     "text": [
      "100%|██████████| 4/4 [00:00<00:00, 80.78it/s]\n"
     ]
    },
    {
     "name": "stdout",
     "output_type": "stream",
     "text": [
      "category/stirile-zilei/\n"
     ]
    },
    {
     "name": "stderr",
     "output_type": "stream",
     "text": [
      "100%|██████████| 13793/13793 [00:03<00:00, 3589.88it/s]\n"
     ]
    },
    {
     "name": "stdout",
     "output_type": "stream",
     "text": [
      "category/stiri-sanatate-stiri-fitness-stiri-slabire/\n"
     ]
    },
    {
     "name": "stderr",
     "output_type": "stream",
     "text": [
      "100%|██████████| 2241/2241 [00:00<00:00, 4252.17it/s]\n"
     ]
    },
    {
     "name": "stdout",
     "output_type": "stream",
     "text": [
      "category/stiri-internationale/\n"
     ]
    },
    {
     "name": "stderr",
     "output_type": "stream",
     "text": [
      "100%|██████████| 1080/1080 [00:00<00:00, 2696.66it/s]\n"
     ]
    },
    {
     "name": "stdout",
     "output_type": "stream",
     "text": [
      "category/timp-liber/\n"
     ]
    },
    {
     "name": "stderr",
     "output_type": "stream",
     "text": [
      "100%|██████████| 704/704 [00:00<00:00, 1760.12it/s]\n"
     ]
    },
    {
     "name": "stdout",
     "output_type": "stream",
     "text": [
      "category/stiri-politica/\n"
     ]
    },
    {
     "name": "stderr",
     "output_type": "stream",
     "text": [
      "100%|██████████| 811/811 [00:00<00:00, 2267.35it/s]\n"
     ]
    },
    {
     "name": "stdout",
     "output_type": "stream",
     "text": [
      "category/utile/\n"
     ]
    },
    {
     "name": "stderr",
     "output_type": "stream",
     "text": [
      "100%|██████████| 1257/1257 [00:00<00:00, 3896.43it/s]\n"
     ]
    },
    {
     "name": "stdout",
     "output_type": "stream",
     "text": [
      "covid/\n"
     ]
    },
    {
     "name": "stderr",
     "output_type": "stream",
     "text": [
      "100%|██████████| 234/234 [00:00<00:00, 2540.93it/s]\n"
     ]
    }
   ],
   "source": [
    "import tqdm\n",
    "import gzip\n",
    "import pickle\n",
    "\n",
    "for domain in df[\"domain\"].unique():\n",
    "    ner_object_frequecy: dict[str, int] = {}\n",
    "    ner_tag_object: dict[str, list[str]] = {}\n",
    "\n",
    "    with gzip.open(f\"../models/pickles/docs_per_domain_{domain.replace('/', '_')}.gzip\", \"rb\") as o:\n",
    "        domain_dict = pickle.load(o)\n",
    "\n",
    "    print(domain)\n",
    "\n",
    "    for doc in tqdm.tqdm(domain_dict[\"docs\"]):\n",
    "        for ent in doc.ents:\n",
    "\n",
    "            if ent.text not in ner_object_frequecy.keys():\n",
    "                ner_object_frequecy[ent.text] = 1\n",
    "            else:\n",
    "                ner_object_frequecy[ent.text] += 1\n",
    "\n",
    "            if ent.label_ not in ner_tag_object.keys():\n",
    "                ner_tag_object[ent.label_] = [ent.text]\n",
    "            else:\n",
    "                ner_tag_object[ent.label_].append(ent.text)\n",
    "\n",
    "    with gzip.open(f\"../models/pickles/ner_per_domain_{domain.replace('/', '_')}.gzip\", \"wb\") as o:\n",
    "        pickle.dump(\n",
    "            {\n",
    "                \"domain\": domain,\n",
    "                \"ner_object_frequecy\": ner_object_frequecy,\n",
    "                \"ner_tag_object\": ner_tag_object,\n",
    "                \"type\": \"valid\" if (\"stiri\" in domain) or (\"\" == domain) else \"fake\",\n",
    "            },\n",
    "            o,\n",
    "        )\n"
   ]
  },
  {
   "cell_type": "markdown",
   "metadata": {},
   "source": [
    "## Plot NER"
   ]
  },
  {
   "cell_type": "code",
   "execution_count": 5,
   "metadata": {},
   "outputs": [],
   "source": [
    "import gzip\n",
    "import pickle\n",
    "domain_word_count = []\n",
    "for domain in df[\"domain\"].unique():\n",
    "    with gzip.open(f\"../models/pickles/ner_per_domain_{domain.replace('/', '_')}.gzip\", \"rb\") as o:\n",
    "        domain_dict = pickle.load(o)\n",
    "\n",
    "    domain_word_count.append(domain_dict)"
   ]
  },
  {
   "cell_type": "code",
   "execution_count": 6,
   "metadata": {},
   "outputs": [],
   "source": [
    "domains = []\n",
    "for domain in domain_word_count:\n",
    "    for tag in domain[\"ner_tag_object\"]:\n",
    "        domains.append(\n",
    "            {\n",
    "                \"domain\": domain[\"domain\"],\n",
    "                \"type\": domain[\"type\"],\n",
    "                \"tag\": tag,\n",
    "                \"tag_length\": len(domain[\"ner_tag_object\"][tag]),\n",
    "            }\n",
    "        )\n",
    "\n",
    "fig = px.histogram(domains, x=\"tag\", y=\"tag_length\", color=\"domain\", text_auto=\".2s\")\n",
    "fig.write_html(f\"../visualization/charts/NER_domain_count_per_tag.html\")\n",
    "fig.write_image(f\"../visualization/charts/NER_domain_count_per_tag.png\")\n"
   ]
  },
  {
   "cell_type": "code",
   "execution_count": 7,
   "metadata": {},
   "outputs": [],
   "source": [
    "domains = []\n",
    "for domain in domain_word_count:\n",
    "    for tag in domain[\"ner_tag_object\"]:\n",
    "        domains.append(\n",
    "            {\n",
    "                \"domain\": domain[\"domain\"],\n",
    "                \"type\": domain[\"type\"],\n",
    "                \"tag\": tag,\n",
    "                \"tag_length\": len(domain[\"ner_tag_object\"][tag]),\n",
    "            }\n",
    "        )\n",
    "        \n",
    "fig = px.histogram(\n",
    "    domains, x=\"domain\", y=\"tag_length\", color=\"tag\", text_auto=\".2s\"\n",
    ")\n",
    "fig.write_html(f\"../visualization/charts/NER_tag_count_per_domain.html\")\n",
    "fig.write_image(f\"../visualization/charts/NER_tag_count_per_domain.png\")"
   ]
  },
  {
   "cell_type": "code",
   "execution_count": 8,
   "metadata": {},
   "outputs": [],
   "source": [
    "domains = []\n",
    "for domain in domain_word_count:\n",
    "    for tag in domain[\"ner_tag_object\"]:\n",
    "        domains.append(\n",
    "            {\n",
    "                \"domain\": domain[\"domain\"],\n",
    "                \"type\": domain[\"type\"],\n",
    "                \"tag\": tag,\n",
    "                \"tag_length\": len(domain[\"ner_tag_object\"][tag]),\n",
    "            }\n",
    "        )\n",
    "\n",
    "fig = px.histogram(\n",
    "    domains, x=\"domain\", y=\"tag_length\", color=\"tag\", text_auto=\".2s\", barmode=\"group\"\n",
    ")\n",
    "fig.write_html(f\"../visualization/charts/NER_tag_count_per_domain_groupbar.html\")\n",
    "fig.write_image(f\"../visualization/charts/NER_tag_count_per_domain_groupbar.png\")\n"
   ]
  },
  {
   "cell_type": "code",
   "execution_count": 9,
   "metadata": {},
   "outputs": [],
   "source": [
    "domains = []\n",
    "for domain in domain_word_count:\n",
    "    sorted_tags = dict(\n",
    "        sorted(domain[\"ner_object_frequecy\"].items(), key=lambda item: item[1], reverse=True)\n",
    "    )\n",
    "    index: int = 10\n",
    "\n",
    "    for word in sorted_tags:\n",
    "        domains.append(\n",
    "            {\n",
    "                \"domain\": domain[\"domain\"],\n",
    "                \"type\": domain[\"type\"],\n",
    "                \"word\": word,\n",
    "                \"word_freq\": domain[\"ner_object_frequecy\"][word],\n",
    "            }\n",
    "        )\n",
    "        index -= 1\n",
    "        if index == 0:\n",
    "            break\n",
    "\n",
    "fig = px.histogram(domains, x=\"domain\", y=\"word_freq\", color=\"word\", text_auto=\".2s\")\n",
    "fig.write_html(f\"../visualization/charts/NER_word_count_per_domain_groupbar.html\")\n",
    "fig.write_image(f\"../visualization/charts/NER_word_count_per_domain_groupbar.png\")\n"
   ]
  },
  {
   "cell_type": "code",
   "execution_count": 10,
   "metadata": {},
   "outputs": [],
   "source": [
    "domains = []\n",
    "for domain in domain_word_count:\n",
    "    sorted_tags = dict(\n",
    "        sorted(domain[\"ner_object_frequecy\"].items(), key=lambda item: item[1], reverse=True)\n",
    "    )\n",
    "    index: int = 10\n",
    "\n",
    "    for word in sorted_tags:\n",
    "        tag_: str = \"\"\n",
    "        for tag in domain[\"ner_tag_object\"]:\n",
    "            if word in domain[\"ner_tag_object\"][tag]:\n",
    "                tag_ = tag\n",
    "                break\n",
    "\n",
    "        domains.append(\n",
    "            {\n",
    "                \"domain\": domain[\"domain\"],\n",
    "                \"type\": domain[\"type\"],\n",
    "                \"word\": word,\n",
    "                \"word_freq\": domain[\"ner_object_frequecy\"][word],\n",
    "                \"tag\": tag_,\n",
    "            }\n",
    "        )\n",
    "        index -= 1\n",
    "        if index == 0:\n",
    "            break\n",
    "\n",
    "\n",
    "fig = px.histogram(\n",
    "    domains, x=\"domain\", y=\"word_freq\", color=\"word\", text_auto=\".2s\", barmode=\"group\"\n",
    ")\n",
    "fig.write_html(\n",
    "    f\"../visualization/charts/NER_top_10_words_by_frequency_per_domain_groupbar.html\"\n",
    ")\n",
    "fig.write_image(\n",
    "    f\"../visualization/charts/NER_top_10_words_by_frequency_per_domain_groupbar.png\"\n",
    ")\n"
   ]
  },
  {
   "cell_type": "code",
   "execution_count": 11,
   "metadata": {},
   "outputs": [],
   "source": [
    "domains = []\n",
    "for domain in domain_word_count:\n",
    "    sorted_tags = dict(\n",
    "        sorted(domain[\"ner_object_frequecy\"].items(), key=lambda item: item[1], reverse=True)\n",
    "    )\n",
    "    index: int = 10\n",
    "\n",
    "    for word in sorted_tags:\n",
    "        tag_: str = \"\"\n",
    "        for tag in domain[\"ner_tag_object\"]:\n",
    "            if word in domain[\"ner_tag_object\"][tag]:\n",
    "                tag_ = tag\n",
    "                break\n",
    "\n",
    "        domains.append(\n",
    "            {\n",
    "                \"domain\": domain[\"domain\"],\n",
    "                \"type\": domain[\"type\"],\n",
    "                \"word\": word,\n",
    "                \"word_freq\": domain[\"ner_object_frequecy\"][word],\n",
    "                \"tag\": tag_,\n",
    "            }\n",
    "        )\n",
    "        index -= 1\n",
    "        if index == 0:\n",
    "            break\n",
    "\n",
    "fig = px.histogram(\n",
    "    domains, x=\"domain\", y=\"word_freq\", color=\"tag\", text_auto=\".2s\", barmode=\"group\"\n",
    ")\n",
    "\n",
    "fig.write_html(\n",
    "    f\"../visualization/charts/NER_top_10_tags_by_frequency_per_domain_groupbar.html\"\n",
    ")\n",
    "fig.write_image(\n",
    "    f\"../visualization/charts/NER_top_10_tags_by_frequency_per_domain_groupbar.png\"\n",
    ")\n"
   ]
  },
  {
   "cell_type": "markdown",
   "metadata": {},
   "source": [
    "# N-grams"
   ]
  },
  {
   "cell_type": "code",
   "execution_count": null,
   "metadata": {},
   "outputs": [],
   "source": [
    "# TODO ?"
   ]
  },
  {
   "cell_type": "markdown",
   "metadata": {},
   "source": [
    "# Keyword extraction"
   ]
  },
  {
   "cell_type": "markdown",
   "metadata": {},
   "source": [
    "wait for domain_docs execution"
   ]
  },
  {
   "cell_type": "code",
   "execution_count": 6,
   "metadata": {},
   "outputs": [],
   "source": [
    "import gzip\n",
    "import tqdm\n",
    "import spacy\n",
    "import pickle\n",
    "import string\n",
    "import gc\n"
   ]
  },
  {
   "cell_type": "code",
   "execution_count": 10,
   "metadata": {},
   "outputs": [],
   "source": [
    "import json\n",
    "import pydantic\n",
    "\n",
    "\n",
    "class CeleryConfig(pydantic.BaseModel):\n",
    "    pass\n",
    "\n",
    "\n",
    "class SiteConfig(pydantic.BaseModel):\n",
    "    url: str\n",
    "    type: str\n",
    "    routes: list[str]\n",
    "    confidence: float\n",
    "\n",
    "\n",
    "class MongoDB(pydantic.BaseModel):\n",
    "    pass\n",
    "\n",
    "\n",
    "class Config(pydantic.BaseModel):\n",
    "    mongodb: MongoDB\n",
    "    celery: CeleryConfig\n",
    "    site: list[SiteConfig]\n",
    "\n",
    "\n",
    "with open(\"../cluster/configs/celery-beat/config.json\", \"r\") as f:\n",
    "    sites_cfg = Config.parse_raw(json.dumps(dict(json.load(f))))\n",
    "\n",
    "sites_cfg_site_routes = {}\n",
    "for site in sites_cfg.site:\n",
    "    sites_cfg_site_routes[site.confidence] = set(site.routes)\n",
    "\n",
    "\n",
    "def valid_or_fake(domain_name: str):\n",
    "    for confidence, domains in sites_cfg_site_routes.items():\n",
    "        if domain_name in domains:\n",
    "            if confidence >= 0.5:\n",
    "                return True\n",
    "            else:\n",
    "                return False\n"
   ]
  },
  {
   "cell_type": "code",
   "execution_count": 7,
   "metadata": {},
   "outputs": [
    {
     "name": "stdout",
     "output_type": "stream",
     "text": [
      "stiri/actualitate/politica\n"
     ]
    },
    {
     "name": "stderr",
     "output_type": "stream",
     "text": [
      "100%|██████████| 32783/32783 [00:23<00:00, 1383.65it/s]\n"
     ]
    },
    {
     "name": "stdout",
     "output_type": "stream",
     "text": [
      "stiri/sport\n"
     ]
    },
    {
     "name": "stderr",
     "output_type": "stream",
     "text": [
      "100%|██████████| 3404/3404 [00:02<00:00, 1569.15it/s]\n"
     ]
    },
    {
     "name": "stdout",
     "output_type": "stream",
     "text": [
      "stiri/sci-tech\n"
     ]
    },
    {
     "name": "stderr",
     "output_type": "stream",
     "text": [
      "100%|██████████| 2208/2208 [00:00<00:00, 2713.78it/s]\n"
     ]
    },
    {
     "name": "stdout",
     "output_type": "stream",
     "text": [
      "category/analize/\n"
     ]
    },
    {
     "name": "stderr",
     "output_type": "stream",
     "text": [
      "100%|██████████| 1045/1045 [00:00<00:00, 1770.26it/s]\n"
     ]
    },
    {
     "name": "stdout",
     "output_type": "stream",
     "text": [
      "category/news/\n"
     ]
    },
    {
     "name": "stderr",
     "output_type": "stream",
     "text": [
      "100%|██████████| 18684/18684 [00:09<00:00, 1882.59it/s]\n"
     ]
    },
    {
     "name": "stdout",
     "output_type": "stream",
     "text": [
      "category/externe/\n"
     ]
    },
    {
     "name": "stderr",
     "output_type": "stream",
     "text": [
      "100%|██████████| 5820/5820 [00:01<00:00, 3308.14it/s]\n"
     ]
    },
    {
     "name": "stdout",
     "output_type": "stream",
     "text": [
      "category/life/\n"
     ]
    },
    {
     "name": "stderr",
     "output_type": "stream",
     "text": [
      "100%|██████████| 1209/1209 [00:00<00:00, 3796.58it/s]\n"
     ]
    },
    {
     "name": "stdout",
     "output_type": "stream",
     "text": [
      "category/politica/\n"
     ]
    },
    {
     "name": "stderr",
     "output_type": "stream",
     "text": [
      "100%|██████████| 26386/26386 [00:21<00:00, 1221.43it/s]\n"
     ]
    },
    {
     "name": "stdout",
     "output_type": "stream",
     "text": [
      "category/opinii/\n"
     ]
    },
    {
     "name": "stderr",
     "output_type": "stream",
     "text": [
      "100%|██████████| 207/207 [00:00<00:00, 470.70it/s]\n"
     ]
    },
    {
     "name": "stdout",
     "output_type": "stream",
     "text": [
      "category/money/\n"
     ]
    },
    {
     "name": "stderr",
     "output_type": "stream",
     "text": [
      "100%|██████████| 260/260 [00:00<00:00, 1589.16it/s]\n"
     ]
    },
    {
     "name": "stdout",
     "output_type": "stream",
     "text": [
      "stiri/\n"
     ]
    },
    {
     "name": "stderr",
     "output_type": "stream",
     "text": [
      "100%|██████████| 4176/4176 [00:00<00:00, 6633.80it/s]\n"
     ]
    },
    {
     "name": "stdout",
     "output_type": "stream",
     "text": [
      "category/curiozitati-staiti-ca/\n"
     ]
    },
    {
     "name": "stderr",
     "output_type": "stream",
     "text": [
      "100%|██████████| 17/17 [00:00<00:00, 200.99it/s]\n"
     ]
    },
    {
     "name": "stdout",
     "output_type": "stream",
     "text": [
      "category/actualitate/\n"
     ]
    },
    {
     "name": "stderr",
     "output_type": "stream",
     "text": [
      "100%|██████████| 5/5 [00:00<00:00, 82.92it/s]\n"
     ]
    },
    {
     "name": "stdout",
     "output_type": "stream",
     "text": [
      "category/stiri-din-romania/\n"
     ]
    },
    {
     "name": "stderr",
     "output_type": "stream",
     "text": [
      "100%|██████████| 14/14 [00:00<00:00, 180.17it/s]\n"
     ]
    },
    {
     "name": "stdout",
     "output_type": "stream",
     "text": [
      "category/mistere-de-pe-mapamond/\n"
     ]
    },
    {
     "name": "stderr",
     "output_type": "stream",
     "text": [
      "100%|██████████| 5/5 [00:00<00:00, 62.15it/s]\n"
     ]
    },
    {
     "name": "stdout",
     "output_type": "stream",
     "text": [
      "category/sanatate-si-medicina/\n"
     ]
    },
    {
     "name": "stderr",
     "output_type": "stream",
     "text": [
      "100%|██████████| 9/9 [00:00<00:00, 125.77it/s]\n"
     ]
    },
    {
     "name": "stdout",
     "output_type": "stream",
     "text": [
      "category/stiri-de-pe-mapamond/\n"
     ]
    },
    {
     "name": "stderr",
     "output_type": "stream",
     "text": [
      "100%|██████████| 4/4 [00:00<00:00, 60.67it/s]\n"
     ]
    },
    {
     "name": "stdout",
     "output_type": "stream",
     "text": [
      "category/stirile-zilei/\n"
     ]
    },
    {
     "name": "stderr",
     "output_type": "stream",
     "text": [
      "100%|██████████| 13793/13793 [00:03<00:00, 3920.98it/s]\n"
     ]
    },
    {
     "name": "stdout",
     "output_type": "stream",
     "text": [
      "category/stiri-sanatate-stiri-fitness-stiri-slabire/\n"
     ]
    },
    {
     "name": "stderr",
     "output_type": "stream",
     "text": [
      "100%|██████████| 2241/2241 [00:00<00:00, 4191.33it/s]\n"
     ]
    },
    {
     "name": "stdout",
     "output_type": "stream",
     "text": [
      "category/stiri-internationale/\n"
     ]
    },
    {
     "name": "stderr",
     "output_type": "stream",
     "text": [
      "100%|██████████| 1080/1080 [00:00<00:00, 3277.57it/s]\n"
     ]
    },
    {
     "name": "stdout",
     "output_type": "stream",
     "text": [
      "category/timp-liber/\n"
     ]
    },
    {
     "name": "stderr",
     "output_type": "stream",
     "text": [
      "100%|██████████| 704/704 [00:00<00:00, 2440.55it/s]\n"
     ]
    },
    {
     "name": "stdout",
     "output_type": "stream",
     "text": [
      "category/stiri-politica/\n"
     ]
    },
    {
     "name": "stderr",
     "output_type": "stream",
     "text": [
      "100%|██████████| 811/811 [00:00<00:00, 2481.16it/s]\n"
     ]
    },
    {
     "name": "stdout",
     "output_type": "stream",
     "text": [
      "category/utile/\n"
     ]
    },
    {
     "name": "stderr",
     "output_type": "stream",
     "text": [
      "100%|██████████| 1257/1257 [00:00<00:00, 5044.77it/s]\n"
     ]
    },
    {
     "name": "stdout",
     "output_type": "stream",
     "text": [
      "covid/\n"
     ]
    },
    {
     "name": "stderr",
     "output_type": "stream",
     "text": [
      "100%|██████████| 234/234 [00:00<00:00, 2490.05it/s]\n"
     ]
    }
   ],
   "source": [
    "nlp = spacy.load(\"ro_core_news_sm\")\n",
    "pos_tag = [\"PROPN\", \"ADJ\", \"NOUN\"]\n",
    "\n",
    "domain_word_count1 = []\n",
    "for domain in df[\"domain\"].unique():\n",
    "\n",
    "    print(domain)\n",
    "\n",
    "    with gzip.open(f\"../models/pickles/docs_per_domain_{domain.replace('/', '_')}.gzip\", \"rb\") as o:\n",
    "        domain_word_count = pickle.load(o)\n",
    "\n",
    "    ner_object_frequecy: dict[str, int] = {}\n",
    "    ner_tag_object: dict[str, list[str]] = {}\n",
    "\n",
    "    for doc in tqdm.tqdm(domain_word_count[\"docs\"]):\n",
    "        for doc, ent in zip(doc, doc.ents):\n",
    "\n",
    "            if doc.text in nlp.Defaults.stop_words or doc.text in string.punctuation:\n",
    "                continue\n",
    "\n",
    "            if doc.pos_ in pos_tag:\n",
    "                if ent.text not in ner_object_frequecy.keys():\n",
    "                    ner_object_frequecy[ent.text] = 1\n",
    "                else:\n",
    "                    ner_object_frequecy[ent.text] += 1\n",
    "\n",
    "                if ent.label_ not in ner_tag_object.keys():\n",
    "                    ner_tag_object[ent.label_] = [ent.text]\n",
    "                else:\n",
    "                    ner_tag_object[ent.label_].append(ent.text)\n",
    "\n",
    "    sorted_tags = dict(sorted(ner_object_frequecy.items(), key=lambda item: item[1], reverse=True))\n",
    "    index: int = 10\n",
    "\n",
    "    del domain_word_count\n",
    "\n",
    "    gc.collect()\n",
    "\n",
    "    domains = []\n",
    "    for word in sorted_tags:\n",
    "        tag_: str = \"\"\n",
    "        for tag in ner_tag_object:\n",
    "            if word in ner_tag_object[tag]:\n",
    "                tag_ = tag\n",
    "                break\n",
    "\n",
    "        domains.append(\n",
    "            {\n",
    "                \"domain\": domain,\n",
    "                \"type\": \"valid\" if valid_or_fake(domain) else \"fake\",\n",
    "                \"word\": word,\n",
    "                \"word_freq\": ner_object_frequecy[word],\n",
    "                \"tag\": tag_,\n",
    "            }\n",
    "        )\n",
    "        index -= 1\n",
    "        if index == 0:\n",
    "            break\n",
    "\n",
    "    fig = px.histogram(\n",
    "        domains, x=\"word\", y=\"word_freq\", color=\"tag\", text_auto=\".2s\", barmode=\"group\"\n",
    "    )\n",
    "    fig.write_html(f\"../visualization/charts/KeyWord_{domain.replace('/', '_')}_NER_tag.html\")\n",
    "    fig.write_image(f\"../visualization/charts/KeyWord_{domain.replace('/', '_')}_NER_tag.png\")\n",
    "\n",
    "    del fig\n",
    "    gc.collect()\n"
   ]
  },
  {
   "cell_type": "markdown",
   "metadata": {},
   "source": [
    "# TF-IDF"
   ]
  },
  {
   "cell_type": "code",
   "execution_count": 8,
   "metadata": {},
   "outputs": [],
   "source": [
    "import tqdm\n",
    "import sklearn.feature_extraction.text as skltext"
   ]
  },
  {
   "cell_type": "code",
   "execution_count": 11,
   "metadata": {},
   "outputs": [
    {
     "name": "stderr",
     "output_type": "stream",
     "text": [
      "100%|██████████| 33/33 [01:31<00:00,  2.77s/it]\n"
     ]
    }
   ],
   "source": [
    "tfidf_domain = []\n",
    "for domain in tqdm.tqdm(df[\"domain\"].unique()):\n",
    "    \n",
    "    vectorizer = skltext.TfidfVectorizer()\n",
    "    tfidf = vectorizer.fit_transform(df[df.domain == domain][\"content\"])\n",
    "\n",
    "    tfidf_domain.append(\n",
    "        {\n",
    "            \"domain\": domain,\n",
    "            \"tfidf\": tfidf,\n",
    "            \"type\": \"valid\" if valid_or_fake(domain) else \"fake\",\n",
    "            \"vectorizer\": vectorizer\n",
    "        }\n",
    "    )"
   ]
  },
  {
   "cell_type": "code",
   "execution_count": 12,
   "metadata": {},
   "outputs": [],
   "source": [
    "# import gzip\n",
    "# import pickle\n",
    "# with gzip.open(\"../models/pickles/tfidf_per_domain_all.gzip\", \"wb\") as o:\n",
    "#     pickle.dump(tfidf_domain, o)"
   ]
  },
  {
   "cell_type": "code",
   "execution_count": null,
   "metadata": {},
   "outputs": [],
   "source": [
    "import gzip\n",
    "import pickle\n",
    "with gzip.open(\"../models/pickles/tfidf_per_domain_all.gzip\", \"rb\") as o:\n",
    "    tfidf_domain = pickle.load(o)"
   ]
  },
  {
   "cell_type": "code",
   "execution_count": 13,
   "metadata": {},
   "outputs": [
    {
     "name": "stderr",
     "output_type": "stream",
     "text": [
      "/home/ioachimlihor/.local/lib/python3.10/site-packages/sklearn/utils/deprecation.py:87: FutureWarning:\n",
      "\n",
      "Function get_feature_names is deprecated; get_feature_names is deprecated in 1.0 and will be removed in 1.2. Please use get_feature_names_out instead.\n",
      "\n",
      "/tmp/ipykernel_17809/3647615034.py:18: SettingWithCopyWarning:\n",
      "\n",
      "\n",
      "A value is trying to be set on a copy of a slice from a DataFrame.\n",
      "Try using .loc[row_indexer,col_indexer] = value instead\n",
      "\n",
      "See the caveats in the documentation: https://pandas.pydata.org/pandas-docs/stable/user_guide/indexing.html#returning-a-view-versus-a-copy\n",
      "\n"
     ]
    }
   ],
   "source": [
    "df_total: pd.DataFrame = pd.DataFrame(columns=[\"TF-IDF\", \"features\", \"domain\", \"type\"])\n",
    "\n",
    "for domain in tfidf_domain:\n",
    "    tfidf_list = domain[\"tfidf\"][0].T.todense()\n",
    "    df = pd.DataFrame(\n",
    "        list(\n",
    "            zip(\n",
    "                tfidf_list,\n",
    "                domain[\"vectorizer\"].get_feature_names(),\n",
    "                [domain[\"domain\"] for _ in range(len(tfidf_list))],\n",
    "                [domain[\"type\"] for _ in range(len(tfidf_list))],\n",
    "            )\n",
    "        ),\n",
    "        columns=[\"TF-IDF\", \"features\", \"domain\", \"type\"],\n",
    "    )\n",
    "    df = df.sort_values(\"TF-IDF\", ascending=False)\n",
    "    df_ = df.head(25)\n",
    "    df_[\"TF-IDF\"] = [elem.item(0) for elem in df_[\"TF-IDF\"]]\n",
    "\n",
    "    df_total = pd.concat([df_total, df_])\n"
   ]
  },
  {
   "cell_type": "code",
   "execution_count": 15,
   "metadata": {},
   "outputs": [],
   "source": [
    "for domain in df_total[\"domain\"].unique():\n",
    "    fig = px.histogram(\n",
    "        df_total[df_total.domain == domain],\n",
    "        x=\"domain\",\n",
    "        y=\"TF-IDF\",\n",
    "        color=\"features\",\n",
    "        text_auto=\".2s\",\n",
    "        barmode=\"group\",\n",
    "        title=f\"{domain}\",\n",
    "    )\n",
    "    fig.write_html(f\"../visualization/charts/TFIDF_{domain.replace('/', '_')}_NER_tag.html\")\n",
    "    fig.write_image(f\"../visualization/charts/TFIDF_{domain.replace('/', '_')}_NER_tag.png\")\n",
    "\n"
   ]
  },
  {
   "cell_type": "markdown",
   "metadata": {},
   "source": [
    "# Plot POS"
   ]
  },
  {
   "cell_type": "code",
   "execution_count": 16,
   "metadata": {},
   "outputs": [],
   "source": [
    "import tqdm"
   ]
  },
  {
   "cell_type": "code",
   "execution_count": 22,
   "metadata": {},
   "outputs": [
    {
     "ename": "KeyboardInterrupt",
     "evalue": "",
     "output_type": "error",
     "traceback": [
      "\u001b[0;31m---------------------------------------------------------------------------\u001b[0m",
      "\u001b[0;31mKeyboardInterrupt\u001b[0m                         Traceback (most recent call last)",
      "\u001b[0;31mKeyboardInterrupt\u001b[0m: "
     ]
    }
   ],
   "source": [
    "nlp = spacy.load(\"ro_core_news_sm\")\n",
    "\n",
    "domain_word_count = []\n",
    "for domain in df[\"domain\"].unique():\n",
    "    print(domain)\n",
    "    pos_object_frequecy: dict[str, int] = {}\n",
    "    pos_tag_object: dict[str, list[str]] = {}\n",
    "\n",
    "    for news in tqdm.tqdm(df[df.domain == domain][\"content\"]):\n",
    "        doc = nlp(news)\n",
    "        for ent in doc:\n",
    "\n",
    "            if ent.text not in pos_object_frequecy.keys():\n",
    "                pos_object_frequecy[ent.text] = 1\n",
    "            else:\n",
    "                pos_object_frequecy[ent.text] += 1\n",
    "\n",
    "            if ent.pos_ not in pos_tag_object.keys():\n",
    "                pos_tag_object[ent.pos_] = [ent.text]\n",
    "            else:\n",
    "                pos_tag_object[ent.pos_].append(ent.text)\n",
    "    domain_word_count.append(\n",
    "        {\n",
    "            \"domain\": domain,\n",
    "            \"pos_object_frequecy\": pos_object_frequecy,\n",
    "            \"pos_tag_object\": pos_tag_object,\n",
    "            \"type\": \"valid\" if valid_or_fake(domain) else \"fake\",\n",
    "        }\n",
    "    )\n"
   ]
  },
  {
   "cell_type": "code",
   "execution_count": 81,
   "metadata": {},
   "outputs": [],
   "source": [
    "# import gzip\n",
    "# import pickle\n",
    "# with gzip.open(\"../models/pickles/pos_per_domain.gzip\", \"wb\") as o:\n",
    "#     pickle.dump(domain_word_count, o)"
   ]
  },
  {
   "cell_type": "code",
   "execution_count": 17,
   "metadata": {},
   "outputs": [],
   "source": [
    "import gzip\n",
    "import pickle\n",
    "with gzip.open(\"../models/pickles/pos_per_domain.gzip\", \"rb\") as o:\n",
    "    domain_word_count_valid = pickle.load(o)"
   ]
  },
  {
   "cell_type": "code",
   "execution_count": 18,
   "metadata": {},
   "outputs": [],
   "source": [
    "import gzip\n",
    "import pickle\n",
    "with gzip.open(\"../models/pickles/pos_per_domain.gzip\", \"rb\") as o:\n",
    "    domain_word_count_fake = pickle.load(o)"
   ]
  },
  {
   "cell_type": "code",
   "execution_count": 19,
   "metadata": {},
   "outputs": [],
   "source": [
    "domain_word_count = domain_word_count_valid"
   ]
  },
  {
   "cell_type": "code",
   "execution_count": 20,
   "metadata": {},
   "outputs": [],
   "source": [
    "domain_word_count.extend(domain_word_count_fake)"
   ]
  },
  {
   "cell_type": "code",
   "execution_count": 21,
   "metadata": {},
   "outputs": [],
   "source": [
    "domains = []\n",
    "for domain in domain_word_count:\n",
    "    for tag in domain[\"pos_tag_object\"]:\n",
    "        domains.append(\n",
    "            {\n",
    "                \"domain\": domain[\"domain\"],\n",
    "                \"type\": domain[\"type\"],\n",
    "                \"tag\": tag,\n",
    "                \"tag_length\": len(domain[\"pos_tag_object\"][tag]),\n",
    "            }\n",
    "        )\n",
    "\n",
    "fig = px.histogram(domains, x=\"tag\", y=\"tag_length\", color=\"domain\", text_auto=\".2s\")\n",
    "fig.write_html(f\"../visualization/charts/POS_domain_count_per_tag.html\")\n",
    "fig.write_image(f\"../visualization/charts/POS_domain_count_per_tag.png\")\n"
   ]
  },
  {
   "cell_type": "code",
   "execution_count": null,
   "metadata": {},
   "outputs": [],
   "source": [
    "domains = []\n",
    "for domain in domain_word_count:\n",
    "    for tag in domain[\"pos_tag_object\"]:\n",
    "        domains.append(\n",
    "            {\n",
    "                \"domain\": domain[\"domain\"],\n",
    "                \"type\": domain[\"type\"],\n",
    "                \"tag\": tag,\n",
    "                \"tag_length\": len(domain[\"pos_tag_object\"][tag]),\n",
    "            }\n",
    "        )\n",
    "        \n",
    "fig = px.histogram(\n",
    "    domains, x=\"domain\", y=\"tag_length\", color=\"tag\", text_auto=\".2s\"\n",
    ")\n",
    "fig.write_html(f\"../visualization/charts/POS_tag_count_per_domain.html\")\n",
    "fig.write_image(f\"../visualization/charts/POS_tag_count_per_domain.png\")"
   ]
  },
  {
   "cell_type": "code",
   "execution_count": 23,
   "metadata": {},
   "outputs": [],
   "source": [
    "domains = []\n",
    "for domain in domain_word_count:\n",
    "    for tag in domain[\"pos_tag_object\"]:\n",
    "        domains.append(\n",
    "            {\n",
    "                \"domain\": domain[\"domain\"],\n",
    "                \"type\": domain[\"type\"],\n",
    "                \"tag\": tag,\n",
    "                \"tag_length\": len(domain[\"pos_tag_object\"][tag]),\n",
    "            }\n",
    "        )\n",
    "        \n",
    "fig = px.histogram(\n",
    "    domains, x=\"domain\", y=\"tag_length\", color=\"tag\", text_auto=\".2s\", barmode='group'\n",
    ")\n",
    "fig.write_html(f\"../visualization/charts/POS_tag_count_per_domain_groupbar.html\")\n",
    "fig.write_image(f\"../visualization/charts/POS_tag_count_per_domain_groupbar.png\")"
   ]
  },
  {
   "cell_type": "code",
   "execution_count": 24,
   "metadata": {},
   "outputs": [],
   "source": [
    "domains = []\n",
    "for domain in domain_word_count:\n",
    "    sorted_tags = dict(sorted(domain[\"pos_object_frequecy\"].items(), key=lambda item: item[1],  reverse=True))\n",
    "    index: int = 10\n",
    "\n",
    "    for word in sorted_tags:\n",
    "        domains.append(\n",
    "            {\n",
    "                \"domain\": domain[\"domain\"],\n",
    "                \"type\": domain[\"type\"],\n",
    "                \"word\": word,\n",
    "                \"word_freq\": domain[\"pos_object_frequecy\"][word],\n",
    "            }\n",
    "        )\n",
    "        index -= 1\n",
    "        if index == 0:\n",
    "            break\n",
    "\n",
    "fig = px.histogram(\n",
    "    domains, x=\"domain\", y=\"word_freq\", color=\"word\", text_auto=\".2s\"\n",
    ")\n",
    "fig.write_html(f\"../visualization/charts/POS_top_10_words_by_frequency_per_tag_per_domain.html\")\n",
    "fig.write_image(f\"../visualization/charts/POS_top_10_words_by_frequency_per_tag_per_domain.png\")"
   ]
  },
  {
   "cell_type": "code",
   "execution_count": 25,
   "metadata": {},
   "outputs": [],
   "source": [
    "domains = []\n",
    "for domain in domain_word_count:\n",
    "    sorted_tags = dict(\n",
    "        sorted(domain[\"pos_object_frequecy\"].items(), key=lambda item: item[1], reverse=True)\n",
    "    )\n",
    "    index: int = 10\n",
    "\n",
    "    for word in sorted_tags:\n",
    "        tag_: str = \"\"\n",
    "        for tag in domain[\"pos_tag_object\"]:\n",
    "            if word in domain[\"pos_tag_object\"][tag]:\n",
    "                tag_ = tag\n",
    "                break\n",
    "\n",
    "        domains.append(\n",
    "            {\n",
    "                \"domain\": domain[\"domain\"],\n",
    "                \"type\": domain[\"type\"],\n",
    "                \"word\": word,\n",
    "                \"word_freq\": domain[\"pos_object_frequecy\"][word],\n",
    "                \"tag\": tag_,\n",
    "            }\n",
    "        )\n",
    "        index -= 1\n",
    "        if index == 0:\n",
    "            break\n",
    "\n",
    "\n",
    "fig = px.histogram(\n",
    "    domains, x=\"domain\", y=\"word_freq\", color=\"word\", text_auto=\".2s\", barmode='group'\n",
    ")\n",
    "fig.write_html(f\"../visualization/charts/POS_top_10_words_by_frequency_per_tag_per_domain_groupbar.html\")\n",
    "fig.write_image(f\"../visualization/charts/POS_top_10_words_by_frequency_per_tag_per_domain_groupbar.png\")"
   ]
  },
  {
   "cell_type": "code",
   "execution_count": 26,
   "metadata": {},
   "outputs": [],
   "source": [
    "domains = []\n",
    "for domain in domain_word_count:\n",
    "    sorted_tags = dict(\n",
    "        sorted(domain[\"pos_object_frequecy\"].items(), key=lambda item: item[1], reverse=True)\n",
    "    )\n",
    "    index: int = 10\n",
    "\n",
    "    for word in sorted_tags:\n",
    "        tag_: str = \"\"\n",
    "        for tag in domain[\"pos_tag_object\"]:\n",
    "            if word in domain[\"pos_tag_object\"][tag]:\n",
    "                tag_ = tag\n",
    "                break\n",
    "\n",
    "        domains.append(\n",
    "            {\n",
    "                \"domain\": domain[\"domain\"],\n",
    "                \"type\": domain[\"type\"],\n",
    "                \"word\": word,\n",
    "                \"word_freq\": domain[\"pos_object_frequecy\"][word],\n",
    "                \"tag\": tag_,\n",
    "            }\n",
    "        )\n",
    "        index -= 1\n",
    "        if index == 0:\n",
    "            break\n",
    "\n",
    "fig = px.histogram(domains, x=\"domain\", y=\"word_freq\", color=\"tag\", text_auto=\".2s\", barmode='group')\n",
    "fig.write_html(f\"../visualization/charts/POS_top_10_words_by_frequency_per_domain_per_tag_groupbar.html\")\n",
    "fig.write_image(f\"../visualization/charts/POS_top_10_words_by_frequency_per_domain_per_tag_groupbar.png\")"
   ]
  }
 ],
 "metadata": {
  "interpreter": {
   "hash": "370c45c36568df420e0621ad65c468f2f5bbcd1be324cc5f2c0a2f77966e1542"
  },
  "kernelspec": {
   "display_name": "Python 3.10.4 ('licenta-env': venv)",
   "language": "python",
   "name": "python3"
  },
  "language_info": {
   "codemirror_mode": {
    "name": "ipython",
    "version": 3
   },
   "file_extension": ".py",
   "mimetype": "text/x-python",
   "name": "python",
   "nbconvert_exporter": "python",
   "pygments_lexer": "ipython3",
   "version": "3.10.4"
  },
  "orig_nbformat": 4
 },
 "nbformat": 4,
 "nbformat_minor": 2
}
