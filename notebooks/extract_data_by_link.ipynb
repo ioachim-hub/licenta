{
 "cells": [
  {
   "cell_type": "code",
   "execution_count": 26,
   "metadata": {},
   "outputs": [],
   "source": [
    "import re\n",
    "import dataclasses\n",
    "\n",
    "import bs4\n",
    "import requests_html\n"
   ]
  },
  {
   "cell_type": "code",
   "execution_count": null,
   "metadata": {},
   "outputs": [],
   "source": [
    "@dataclasses.dataclass\n",
    "class NewsInfo:\n",
    "    title: str\n",
    "    content: str\n"
   ]
  },
  {
   "cell_type": "code",
   "execution_count": 2,
   "metadata": {},
   "outputs": [],
   "source": [
    "def extract_from_news(url: str) -> NewsInfo:\n",
    "    empty_return = NewsInfo(\"\", \"\")\n",
    "    if url.split(\".\")[-1] in [\"pdf\", \"doc\", \"docx\", \"xls\", \"xlsx\", \"txt\"]:\n",
    "        return empty_return\n",
    "\n",
    "    if url.split(\".\")[-1] in [\"jpg\", \"jpeg\", \"png\"]:\n",
    "        return empty_return\n",
    "\n",
    "    if \".pdf\" in url:\n",
    "        return empty_return\n",
    "\n",
    "    session = requests_html.HTMLSession()\n",
    "    data = session.get(url, timeout=10)\n",
    "\n",
    "    if \"PDF\" in data.text:\n",
    "        return empty_return\n",
    "\n",
    "    soup = bs4.BeautifulSoup(data.text)\n",
    "    # title: str = \" \".join([p.text for p in soup.find_all(\"title\")])\n",
    "    title = \" \".join([p.text for p in soup.find_all(\"h1\")])\n",
    "    title = clean_text(title)\n",
    "\n",
    "    content: str = \" \".join([p.text for p in soup.find_all(\"p\")])\n",
    "    content = clean_text(content)\n",
    "\n",
    "    content = \" \".join([word for word in content.split(\" \")[: min(len(content.split(\" \")), 1000)]])\n",
    "\n",
    "    return NewsInfo(title=title, content=content)\n"
   ]
  },
  {
   "cell_type": "code",
   "execution_count": 59,
   "metadata": {},
   "outputs": [],
   "source": [
    "ak24_signature = re.compile(r\"Mai mult despre: .+ Aktual24\")\n",
    "tnr_signature = re.compile(r\"Noi tocmai ne-am desfăcut câte o bere TNR. .+ comentariu.\")\n",
    "biziday_signature = re.compile(r\"Echipa Biziday .+ Susține echipa Biziday\")\n",
    "infoalert_signature = re.compile(r\"Te așteptăm .+ mai jos:\")\n",
    "activenews_signature = re.compile(r\"Pentru că suntem cenzurați pe Facebook .+\")\n",
    "\n",
    "spaces = re.compile(r\"\\s+\")\n",
    "\n",
    "\n",
    "def clean_text(text: str) -> str:\n",
    "    text = text.replace(\"\\n\", \" \")\n",
    "    text = text.replace(\"\\r\", \" \")\n",
    "    text = text.replace(\"\\t\", \" \")\n",
    "    text = text.replace(\"\\xa0\", \" \")\n",
    "    text = text.replace(\"•\", \" \")\n",
    "    text = text.replace(\"\\u2022\", \" \")\n",
    "    text = text.replace(\"\\u25e6\", \" \")\n",
    "    text = text.replace(\" +\", \" \")\n",
    "    text = text.strip()\n",
    "    text = spaces.sub(\" \", text)\n",
    "    text = ak24_signature.sub(\"\", text)\n",
    "    text = tnr_signature.sub(\"\", text)\n",
    "    text = biziday_signature.sub(\"\", text)\n",
    "    text = infoalert_signature.sub(\"\", text)\n",
    "    text = activenews_signature.sub(\"\", text)\n",
    "    return text\n"
   ]
  },
  {
   "cell_type": "code",
   "execution_count": 13,
   "metadata": {},
   "outputs": [],
   "source": [
    "def extract_from_news(url: str) -> NewsInfo:\n",
    "    empty_return = NewsInfo(\"\", \"\")\n",
    "    if url.split(\".\")[-1] in [\"pdf\", \"doc\", \"docx\", \"xls\", \"xlsx\", \"txt\"]:\n",
    "        return empty_return\n",
    "\n",
    "    if url.split(\".\")[-1] in [\"jpg\", \"jpeg\", \"png\"]:\n",
    "        return empty_return\n",
    "\n",
    "    if \".pdf\" in url:\n",
    "        return empty_return\n",
    "\n",
    "    session = requests_html.HTMLSession()\n",
    "    data = session.get(url, timeout=10)\n",
    "\n",
    "    if \"PDF\" in data.text:\n",
    "        return empty_return\n",
    "\n",
    "    soup = bs4.BeautifulSoup(data.text)\n",
    "    # title: str = \" \".join([p.text for p in soup.find_all(\"title\")])\n",
    "    title = \" \".join([p.text for p in soup.find_all(\"h1\")])\n",
    "    title = clean_text(title)\n",
    "\n",
    "    content: str = \" \".join([p.text for p in soup.find_all(\"p\")])\n",
    "    content = clean_text(content)\n",
    "\n",
    "    content = \" \".join([word for word in content.split(\" \")[: min(len(content.split(\" \")), 1000)]])\n",
    "\n",
    "    return NewsInfo(title=title, content=content)\n"
   ]
  },
  {
   "cell_type": "markdown",
   "metadata": {},
   "source": [
    "Digi24"
   ]
  },
  {
   "cell_type": "code",
   "execution_count": 20,
   "metadata": {},
   "outputs": [
    {
     "name": "stdout",
     "output_type": "stream",
     "text": [
      "{'title': 'Proces civil uriaș împotriva Rusiei. Sute de avocați dau în judecată regimul Putin, mercenarii și oligarhii care susțin războiul', 'content': 'Un consorțiu de avocați ucraineni și internaționali se pregătește să lanseze o acțiune civilă în masă împotriva statului rus, precum și a contractorilor militari privați, dar și împotriva oamenilor de afaceri care susțin efortul de război al Rusiei în Ucraina, în încercarea de a obține despăgubiri financiare pentru milioanele de victime ucrainene cauzate de invazia rusă începută de armata lui Vladimir Putin pe 24 februarie, transmite în exclusivitate The Guardian.  Echipa, formată din sute de avocați și mai multe firme de avocatură importante, intenționează să introducă „acțiuni multiple în diferite jurisdicții împotriva unor ținte diferite”, inclusiv Regatul Unit și SUA, a declarat Jason McCue, un avocat din Londra care coordonează inițiativa, într-un interviu direct de la Kiev. Planul constă în folosirea hotărârilor judecătorești din Marea Britanie și SUA pentru a sechestra bunurile rusești de pe tot globul. Țintele ar putea include statul rus și contractori militari privați, cum ar fi Grupul Wagner, despre care se crede că a fost activ în Ucraina. Dar McCue a spus că printre țintele împotriva cărora se vor intenta procese vor include, de asemenea, oameni de afaceri care au legături cu acești mercenari și care susțin efortul de război rusesc. Avocatul britanic crede că se va putea astfel urmări bunurile care au fost deja afectate de sancțiuni, precum și pe cele care încă nu au intrat în aria sancțiunilor occidentale până acum. Acțiunea colectivă va fi un caz privat, independent de statul ucrainean. Dar, potrivit lui McCue, va fi nevoie de acces la dovezile și informațiile Ucrainei. Deputatul și omul de afaceri ucrainean Serhiy Taruta este unul dintre susținătorii inițiativei, facilitând întâlniri ale avocaților și anchetatorilor cu oficialii ucraineni. Taruta, care este de origine din Mariupol și a avut investiții în acest oraș, și-a pierdut o mare parte din afaceri când Rusia și forțele sale au preluat mai mult de jumătate din regiunea Donbas în 2014. De data aceasta, omul de afaceri ucrainean și-a pierdut prieteni, colegi și un văr, pe măsură ce armata rusă a bombardat Mariupol și l-a distrus înainte să-l cucerească. „Ucrainenii au așteptat 20 de ani pentru urmărirea lui [Pavlo] Lazarenko, iar acum opt pentru MH17”, a declarat Taruta, referindu-se la un caz împotriva fostului prim-ministru al Ucrainei, care a delapidat milioane de oameni, dar și la un caz aflat în desfășurare la Haga privind doborârea în 2014 a zborului Malaysian Airlines. „Trebuie să dezvoltăm un mecanism mai rapid [de compensare]”, a spus deputatul ucrainean. „Căile normale sunt prea lente”, a precizat Serhiy Taruta. Citește și: Cum ar trebui să funcționeze un „Plan Marshall” pentru Ucraina. Reconstrucția țării după invazia rusă ar scurta drumul aderării la UE Ucraina a început deja urmărirea penală a soldaților ruși capturați pentru crime de război, iar alte cazuri de crime de război ar putea fi judecate ulterior în instanțele internaționale. Dar cererile de despăgubiri pentru daunele de război sunt mai complicate, iar McCue a spus că o parte a ideii din spatele lansării rapide a cazului a fost pentru că despăgubirile la nivel de stat sunt rareori posibile. „Adesea, când se ajunge la negocieri, problema reparațiilor cauzate de distrugeri este pusă deoparte pentru a se concentra eforturile colective pe sustenabilitatea păcii”, a mai spus avocatul britanic. Potrivit lui Serhiy Taruta, persoanele care au suferit pierderea unei persoane dragi sau a proprietății ori care au fost rănite vor fi primii beneficiari ai despăgubirilor.  Vor urma apoi instituțiile de stat și locale și abia apoi întreprinderile. Deputatul ucrainean a estimat că cererea totală potențială ar putea fi de nu mai puțin de 1 miliard de dolari, adică undeva în jurul sumei de 793,9 miliarde de lire sterline. Citește și:  Pagubele provocate de invazia trupelor rusești în Ucraina depășesc 100 de miliarde de dolari, potrivit oficialilor ucraineni Un număr de echipe de anchetatori s-au alăturat demersului pentru a ajuta echipa să găsească bunuri ale oamenilor de afaceri ruși despre care cred că sunt complici la efortul de război al regimului de la Kremlin. Printre cei care sunt implicați în efortul de lucru al anchetei se numără Bellingcat, un grup care investighează de câțiva ani activitățile Grupului Wagner și ale altor contractori militari privați ruși. „Monitorizăm îndeaproape activitatea unităților de mercenari din Rusia în Ucraina”, a declarat Christo Grozev, directorul executiv al Bellingcat. „Credem că o cercetare mai profundă în lanțul de comandă al Grupului Wagner și în ceea ce privește legăturile sale cu autoritățile oficiale ruse nu numai că ar contribui la a face dreptate pentru victimele invaziei și familiile lor, ci va aduce și mai multă conștientizare și transparență a publicului cu privire la modul în care se comportă Rusia în acest război”, a mai spus Grozev. O parte cheie a cazului va implica pledoaria că invazia Rusiei nu este doar un război agresiv, ci se încadrează, cel puțin parțial, în definiția legală a terorismului, ceea ce ar face mai ușoară procedura urmăririi și confiscării bunurilor. „Toate echipele juridice din diferite țări sunt mulțumite că avem ceea ce ne trebuie”, a spus McCue. „Echipa este foarte solidă”, a adăugat acesta. McCue are o vastă experiență în cazuri similare, dar la scară mai mică. Prima victorie a fost câștigată în numele victimelor bombardamentului Omagh din 1998, în care patru bărbați au fost găsiți răspunzători pentru bombardament și li s-a ordonat să plătească despăgubiri familiilor victimelor. „Poliția avea dovezile necesare, dar nimeni nu a fost acuzat din cauza procesului de pace”, a spus McCue, care a descris modul în care familiile l-au abordat. „Așadar, am făcut o acțiune civilă și am câștigat, Am reușit să luăm case la doi dintre acuzați”. Cazul Ucrainei, care are o amploare mult mai mare, ar urma probabil să funcționeze pe principii similare, deși se va concentra mai mult pe obținerea de compensații financiare pentru persoanele care au suferit pierderea celor dragi, a proprietății sau a afacerilor. „Cazul Omagh nu a fost despre bani, ci despre a dovedi cine a făcut-o. Acest caz este despre bani”, a spus McCue. Avocatul britanic a recunoscut că va fi o muncă enormă înainte de'}\n"
     ]
    }
   ],
   "source": [
    "url = \"https://www.digi24.ro/stiri/externe/proces-civil-urias-impotriva-rusiei-sute-de-avocati-dau-in-judecata-regimul-putin-mercenarii-si-oligarhii-care-sustin-razboiul-1958925\"\n",
    "print(extract_from_news(url).__dict__)\n"
   ]
  },
  {
   "cell_type": "code",
   "execution_count": 34,
   "metadata": {},
   "outputs": [
    {
     "name": "stdout",
     "output_type": "stream",
     "text": [
      "{'title': 'Putin si incordeaza muschii. A ordonat noi exercitii nucleare, inclusiv cu rachete intercontinentale', 'content': 'AK-24 | 1 iunie 2022  externe Fortele nucleare ruse fac exercitii nucleare in regiunea rusa Ivanovo, situata la 1.000 de kilometri de Kiev, potrivit Ministerul rus al Apararii. Aproape 1.000 de militari participa la manevre intense cu 100 de vehicule, inclusiv lansatoare de rachete balistice intercontinentale (ICBM) de tip Yars. Aceste exercitii vin in conditiile in care in urma cu doar cateva zile armata rusa a anuntat ca a testat cu succes un nou tir de racheta de croaziera hipersonica Zircon, racheta despre care Putin a spus ca este „invincibila” Racheta a fost lansata de pe fregata Amiral Gorskov din Marea Barent in directia unei tinte din Marea Alba, in zona Arcticii, potrivit unui comunicat al Ministerului rus al Apararii. Primul tir oficial cu Zircon dateaza din octombrie 2020, presedintele Vladimir Putin salutand atunci un „eveniment major”. Luna trecuta, Rusia a testat cu succes si noua racheta intercontinentala, Sarmat, poreclita Satan, ce poate fi echipata cu focoase nucleare si poate atinge teritoriul SUA. Mai mult despre: Putin exerciții nucleare, Rusia exercitii nucleare Ivanovo, vladimir putin © 2022 Aktual24'}\n"
     ]
    }
   ],
   "source": [
    "url = \"https://www.aktual24.ro/putin-si-incordeaza-muschii-a-ordonat-noi-exercitii-nucleare-inclusiv-cu-rachete-intercontinentale/\"\n",
    "print(extract_from_news(url).__dict__)\n"
   ]
  },
  {
   "cell_type": "code",
   "execution_count": 22,
   "metadata": {},
   "outputs": [
    {
     "name": "stdout",
     "output_type": "stream",
     "text": [
      "{'title': 'Hackerii Anonymous avertizeaza Rusia: „S-a deschis sezonul de vanatoare”', 'content': 'Grupul de hackeri Anonymous au transmis un nou mesaj Rusiei: „S-a deschis sezonul „de vânătoare” pentru site-urile instituțiilor guvernamentale”, avertizează hackerii și promit că liderul de la Kremlin se va „confrunta cu atacuri cibernetice fără precedent din toate colţurile lumii”, scrie Observatornews.ro. În urmă cu nouă zile, hackerii din grupul Anonymous a declarat ”război cibernetic” Rusiei şi preşedintelui Vladimir Putin după invazia rusă în Ucraina şi au cerut Moscovei să-şi retragă trupele din această ţară. Pe 7 martie, Anonymous a transmis că a piratat serviciile ruseşti de streaming Wink şi Ivi şi canalele TV în direct Russia 24, Channel One, Moscow 24, pentru a difuza imagini ale invaziei din Ucraina, după ce televiziunile fidele Kremlinului au prezentat invazia Ucrainei ca pe o operaţiune de eliberare a fraţilor de peste graniţă, în care nu sunt loviţi civili, ci doar obiective militare. Roskomnadzor, autoritatea de reglementarea a comunicaţiilor din Rusia, a dat ordin presei ruse să nu utilezeze cuvintele „invazie” sau „atac” atunci când face referire la situaţia din Ucraina, informează Reuters. „Subliniem că doar sursele oficiale ruse dispun de informaţii actuale şi fiabile”, se arată în comunicatul Roskomnadzor. Presa rusă se poate referi la acţiunea din Ucraina folosind sintagma „operaţiune militară specială” care are drept scop „menţinerea păcii”.'}\n"
     ]
    }
   ],
   "source": [
    "https://caplimpede.ro/hackerii-anonymous-avertizeaza-rusia-s-a-deschis-sezonul-de-vanatoare/url = \"\"\n",
    "print(extract_from_news(url).__dict__)"
   ]
  },
  {
   "cell_type": "code",
   "execution_count": 37,
   "metadata": {},
   "outputs": [
    {
     "name": "stdout",
     "output_type": "stream",
     "text": [
      "{'title': 'Borcea a golit 3 Jumbo-uri și încă tot nu are destule cadouri pentru câți copii are', 'content': 'Numai Cristi Borcea să nu fii de Ziua copiilor. A alergat mai ceva ca un maratonist în ultimele zile după cadouri, dar încă e departe de a fi terminat. Deși a golit complet trei magazine Jumbo, Cristi Borcea nu are nici măcar acum destule cadouri pentru toți copiii pe care îi are.     „Dacă aș putea să dau timpul înapoi, probabil aș face mult mai puțin sex“, oftează Borcea. „Poate n-a fost chiar cea mai bună ideea să fac sex de 2-3 ori pe oră, dacă mă limitam la sex o dată la 6 ore, ca orice om normal, nu ajungeam aici. Sau măcar dacă mai alternam și eu, să fi făcut sex și cu bărbați, nu doar cu femei. Dar aia e, acum e prea târziu pentru astfel de regrete.“ Ca o consolare, Cristi Borcea se poate alina cu faptul că va intra în Cartea Recordurilor pentru străduința sa. „Mi-au spus că o să am două recorduri, unul pentru persoana care a golit în cel mai scurt timp în magazin Jumbo, iar al doilea pentru cel mai lung șir de tiruri încărcate cu jucării pentru copii“, a spus cel mai prolific tată al României. Noi tocmai ne-am desfăcut câte o bere TNR. Tu ce mai aștepți? bereatnr.ro/shop Trebuie să fii autentificat pentru a publica un comentariu.'}\n"
     ]
    }
   ],
   "source": [
    "url = \"https://www.timesnewroman.ro/monden/borcea-a-golit-3-jumbo-uri-si-inca-tot-nu-are-destule-cadouri-pentru-cati-copii-are/\"\n",
    "print(extract_from_news(url).__dict__)"
   ]
  },
  {
   "cell_type": "code",
   "execution_count": 45,
   "metadata": {},
   "outputs": [
    {
     "name": "stdout",
     "output_type": "stream",
     "text": [
      "{'title': 'Cod Galben de furtuni în nordul Munteniei, în Carpații Meridionali și în aproape toată Moldova, până la ora 21. Se vor semnala descărcări electrice, ploi torențiale, vânt și grindină.', 'content': 'Administrația Națională de meteorologie a emis o avertizare de Cod Galben de instabilitatea atmosferică accentuată, valabil de la ora 12:00 până la ora 21:00. În intervalul menționat în Carpații Meridionali, local în Moldova, precum și în nordul Munteniei, se vor înregistra frecvente descărcări electrice, averse torențiale, intensificări de scurtă durată ale vântului, vijelii și grindină. Cantităţile de apă vor depăşi 20-30 l/mp şi izolat 40 l/mp. Astfel de manifestări vor fi pe arii restrânse și în centrul și sud-estul țării, precum și în restul zonelor montane. '}\n"
     ]
    }
   ],
   "source": [
    "url = \"https://www.biziday.ro/216715-2/\"\n",
    "print(extract_from_news(url).__dict__)"
   ]
  }
 ],
 "metadata": {
  "interpreter": {
   "hash": "370c45c36568df420e0621ad65c468f2f5bbcd1be324cc5f2c0a2f77966e1542"
  },
  "kernelspec": {
   "display_name": "Python 3.10.4 ('licenta-env': venv)",
   "language": "python",
   "name": "python3"
  },
  "language_info": {
   "codemirror_mode": {
    "name": "ipython",
    "version": 3
   },
   "file_extension": ".py",
   "mimetype": "text/x-python",
   "name": "python",
   "nbconvert_exporter": "python",
   "pygments_lexer": "ipython3",
   "version": "3.10.4"
  },
  "orig_nbformat": 4
 },
 "nbformat": 4,
 "nbformat_minor": 2
}
