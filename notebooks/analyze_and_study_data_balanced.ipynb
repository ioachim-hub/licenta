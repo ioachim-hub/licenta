{
 "cells": [
  {
   "cell_type": "code",
   "execution_count": 29,
   "metadata": {},
   "outputs": [],
   "source": [
    "import re\n",
    "import pickle\n",
    "\n",
    "import spacy\n",
    "import numpy as np\n",
    "import pandas as pd\n",
    "\n",
    "from src.cleaner.model import Cleaner\n",
    "import plotly.express as px\n"
   ]
  },
  {
   "cell_type": "code",
   "execution_count": 30,
   "metadata": {},
   "outputs": [],
   "source": [
    "import plotly.io as pio\n",
    "\n",
    "pio.renderers.default = \"notebook_connected\"\n"
   ]
  },
  {
   "cell_type": "code",
   "execution_count": 31,
   "metadata": {},
   "outputs": [],
   "source": [
    "df = pd.read_parquet(\"../data/processed/scrapped_cleaned_valid_and_fake_balanced.gzip\")\n"
   ]
  },
  {
   "cell_type": "code",
   "execution_count": 4,
   "metadata": {},
   "outputs": [],
   "source": [
    "df[\"date\"] = [pd.Timestamp(x) for x in df[\"date\"]]\n"
   ]
  },
  {
   "cell_type": "code",
   "execution_count": 4,
   "metadata": {},
   "outputs": [],
   "source": [
    "import json\n",
    "import pydantic\n",
    "\n",
    "\n",
    "class CeleryConfig(pydantic.BaseModel):\n",
    "    pass\n",
    "\n",
    "\n",
    "class SiteConfig(pydantic.BaseModel):\n",
    "    url: str\n",
    "    type: str\n",
    "    routes: list[str]\n",
    "    confidence: float\n",
    "\n",
    "\n",
    "class MongoDB(pydantic.BaseModel):\n",
    "    pass\n",
    "\n",
    "\n",
    "class Config(pydantic.BaseModel):\n",
    "    mongodb: MongoDB\n",
    "    celery: CeleryConfig\n",
    "    site: list[SiteConfig]\n",
    "\n",
    "\n",
    "with open(\"../cluster/configs/celery-beat/config.json\", \"r\") as f:\n",
    "    sites_cfg = Config.parse_raw(json.dumps(dict(json.load(f))))\n",
    "\n",
    "sites_cfg_site_routes = {}\n",
    "for site in sites_cfg.site:\n",
    "    sites_cfg_site_routes[site.confidence] = set(site.routes)\n",
    "\n",
    "\n",
    "def valid_or_fake(domain_name: str):\n",
    "    for confidence, domains in sites_cfg_site_routes.items():\n",
    "        if domain_name in domains:\n",
    "            if confidence >= 0.5:\n",
    "                return True\n",
    "            else:\n",
    "                return False\n"
   ]
  },
  {
   "cell_type": "markdown",
   "metadata": {},
   "source": [
    "# Words and sentences frequencies and count"
   ]
  },
  {
   "cell_type": "code",
   "execution_count": 16,
   "metadata": {},
   "outputs": [],
   "source": [
    "domain_number = []\n",
    "\n",
    "for domain in df[\"domain\"].unique():\n",
    "    domain_number.append(\n",
    "        {\n",
    "            \"domain\": domain,\n",
    "            \"length\": len(df[df.domain == domain]),\n",
    "            \"type\": \"valid\" if valid_or_fake(domain) else \"fake\",\n",
    "        }\n",
    "    )\n",
    "\n",
    "\n",
    "fig = px.histogram(domain_number, x=\"domain\", y=\"length\", color=\"type\", text_auto=\".2s\")\n",
    "fig.write_html(f\"../visualization/charts/article_count_per_domain.html\")\n",
    "fig.write_image(f\"../visualization/charts/article_count_per_domain.png\")\n"
   ]
  },
  {
   "cell_type": "code",
   "execution_count": 17,
   "metadata": {},
   "outputs": [],
   "source": [
    "domain_number = []\n",
    "time_ = pd.Timestamp(\"2010-01-01 00:00:00+0000\", tz=\"UTC\")\n",
    "year = pd.Timedelta(days=366)\n",
    "while time_ < pd.Timestamp.utcnow():\n",
    "    df_ = df[(df.date > time_) & (df.date <= time_ + year)]\n",
    "    for domain in df[\"domain\"].unique():\n",
    "        domain_number.append(\n",
    "            {\n",
    "                \"domain\": domain,\n",
    "                \"length\": len(df_[df_.domain == domain]),\n",
    "                \"type\": \"valid\" if valid_or_fake(domain) else \"fake\",\n",
    "                \"year\": time_,\n",
    "            }\n",
    "        )\n",
    "    time_ += year\n",
    "\n",
    "\n",
    "fig = px.histogram(domain_number, x=\"domain\", y=\"length\", color=\"year\", text_auto=\".2s\")\n",
    "fig.write_html(f\"../visualization/charts/article_count_per_domain_per_year.html\")\n",
    "fig.write_image(f\"../visualization/charts/article_count_per_domain_per_year.png\")\n"
   ]
  },
  {
   "cell_type": "code",
   "execution_count": 18,
   "metadata": {},
   "outputs": [],
   "source": [
    "domain_number = []\n",
    "time_ = pd.Timestamp(\"2010-01-01 00:00:00+0000\", tz=\"UTC\")\n",
    "year = pd.Timedelta(days=366)\n",
    "while time_ < pd.Timestamp.utcnow():\n",
    "    df_ = df[(df.date > time_) & (df.date <= time_ + year)]\n",
    "    for domain in df[\"domain\"].unique():\n",
    "        domain_number.append(\n",
    "            {\n",
    "                \"domain\": domain,\n",
    "                \"length\": len(df_[df_.domain == domain]),\n",
    "                \"type\": \"valid\" if valid_or_fake(domain) else \"fake\",\n",
    "                \"year\": time_,\n",
    "            }\n",
    "        )\n",
    "    time_ += year\n",
    "\n",
    "\n",
    "fig = px.histogram(\n",
    "    domain_number, x=\"domain\", y=\"length\", color=\"year\", text_auto=\".2s\", barmode=\"group\"\n",
    ")\n",
    "fig.write_html(f\"../visualization/charts/article_count_per_domain_per_year_groupbar.html\")\n",
    "fig.write_image(f\"../visualization/charts/article_count_per_domain_per_year_groupbar.png\")\n"
   ]
  },
  {
   "cell_type": "markdown",
   "metadata": {},
   "source": [
    "word count by domain"
   ]
  },
  {
   "cell_type": "code",
   "execution_count": 19,
   "metadata": {},
   "outputs": [],
   "source": [
    "domain_word_count = []\n",
    "for domain in df[\"domain\"].unique():\n",
    "    word_count: int = 0\n",
    "    for news in df[df.domain == domain][\"content\"]:\n",
    "        word_count += len(news.split(\" \"))\n",
    "    domain_word_count.append(\n",
    "        {\n",
    "            \"domain\": domain,\n",
    "            \"word_count\": word_count,\n",
    "            \"type\": \"valid\" if valid_or_fake(domain) else \"fake\",\n",
    "        }\n",
    "    )\n",
    "\n",
    "\n",
    "fig = px.histogram(domain_word_count, x=\"domain\", y=\"word_count\", color=\"type\", text_auto=\".2s\")\n",
    "fig.write_html(f\"../visualization/charts/word_count_per_domain.html\")\n",
    "fig.write_image(f\"../visualization/charts/word_count_per_domain.png\")\n"
   ]
  },
  {
   "cell_type": "code",
   "execution_count": 20,
   "metadata": {},
   "outputs": [],
   "source": [
    "domain_number = []\n",
    "time_ = pd.Timestamp(\"2010-01-01 00:00:00+0000\", tz=\"UTC\")\n",
    "year = pd.Timedelta(days=366)\n",
    "while time_ < pd.Timestamp.utcnow():\n",
    "    df_ = df[(df.date > time_) & (df.date <= time_ + year)]\n",
    "    for domain in df[\"domain\"].unique():\n",
    "        word_count: int = 0\n",
    "        for news in df_[df_.domain == domain][\"content\"]:\n",
    "            word_count += len(news.split(\" \"))\n",
    "        domain_number.append(\n",
    "            {\n",
    "                \"domain\": domain,\n",
    "                \"word_count\": word_count,\n",
    "                \"type\": \"valid\" if valid_or_fake(domain) else \"fake\",\n",
    "                \"year\": time_,\n",
    "            }\n",
    "        )\n",
    "    time_ += year\n",
    "\n",
    "\n",
    "fig = px.histogram(domain_number, x=\"domain\", y=\"word_count\", color=\"year\", text_auto=\".2s\")\n",
    "fig.write_html(f\"../visualization/charts/word_count_per_domain_per_year.html\")\n",
    "fig.write_image(f\"../visualization/charts/word_count_per_domain_per_year.png\")\n"
   ]
  },
  {
   "cell_type": "code",
   "execution_count": 21,
   "metadata": {},
   "outputs": [],
   "source": [
    "domain_number = []\n",
    "time_ = pd.Timestamp(\"2010-01-01 00:00:00+0000\", tz=\"UTC\")\n",
    "year = pd.Timedelta(days=366)\n",
    "while time_ < pd.Timestamp.utcnow():\n",
    "    df_ = df[(df.date > time_) & (df.date <= time_ + year)]\n",
    "    for domain in df[\"domain\"].unique():\n",
    "        word_count: int = 0\n",
    "        for news in df_[df_.domain == domain][\"content\"]:\n",
    "            word_count += len(news.split(\" \"))\n",
    "        domain_number.append(\n",
    "            {\n",
    "                \"domain\": domain,\n",
    "                \"word_count\": word_count,\n",
    "                \"type\": \"valid\" if valid_or_fake(domain) else \"fake\",\n",
    "                \"year\": time_,\n",
    "            }\n",
    "        )\n",
    "    time_ += year\n",
    "\n",
    "\n",
    "fig = px.histogram(\n",
    "    domain_number, x=\"domain\", y=\"word_count\", color=\"year\", text_auto=\".2s\", barmode=\"group\"\n",
    ")\n",
    "fig.write_html(f\"../visualization/charts/word_count_per_domain_per_year_groupbar.html\")\n",
    "fig.write_image(f\"../visualization/charts/word_count_per_domain_per_year_groupbar.png\")\n"
   ]
  },
  {
   "cell_type": "markdown",
   "metadata": {},
   "source": [
    "sentence count by domain"
   ]
  },
  {
   "cell_type": "code",
   "execution_count": 22,
   "metadata": {},
   "outputs": [],
   "source": [
    "domain_sentence_count = []\n",
    "for domain in df[\"domain\"].unique():\n",
    "    sentence_count: int = 0\n",
    "    for news in df[df.domain == domain][\"content\"]:\n",
    "        sentence_count += len(news.split(\".\"))\n",
    "    domain_sentence_count.append(\n",
    "        {\n",
    "            \"domain\": domain,\n",
    "            \"sentence_count\": sentence_count,\n",
    "            \"type\": \"valid\" if valid_or_fake(domain) else \"fake\",\n",
    "        }\n",
    "    )\n",
    "\n",
    "\n",
    "fig = px.histogram(\n",
    "    domain_sentence_count, x=\"domain\", y=\"sentence_count\", color=\"type\", text_auto=\".2s\"\n",
    ")\n",
    "fig.write_html(f\"../visualization/charts/sentence_count_per_domain.html\")\n",
    "fig.write_image(f\"../visualization/charts/sentence_count_per_domain.png\")\n"
   ]
  },
  {
   "cell_type": "code",
   "execution_count": 23,
   "metadata": {},
   "outputs": [],
   "source": [
    "domain_sentence_count = []\n",
    "time_ = pd.Timestamp(\"2010-01-01 00:00:00+0000\", tz=\"UTC\")\n",
    "year = pd.Timedelta(days=366)\n",
    "while time_ < pd.Timestamp.utcnow():\n",
    "    df_ = df[(df.date > time_) & (df.date <= time_ + year)]\n",
    "    for domain in df[\"domain\"].unique():\n",
    "        sentence_count: int = 0\n",
    "        for news in df_[df_.domain == domain][\"content\"]:\n",
    "            sentence_count += len(news.split(\".\"))\n",
    "        domain_sentence_count.append(\n",
    "            {\n",
    "                \"domain\": domain,\n",
    "                \"sentence_count\": sentence_count,\n",
    "                \"type\": \"valid\" if valid_or_fake(domain) else \"fake\",\n",
    "                \"year\": time_,\n",
    "            }\n",
    "        )\n",
    "    time_ += year\n",
    "\n",
    "\n",
    "fig = px.histogram(\n",
    "    domain_sentence_count,\n",
    "    x=\"domain\",\n",
    "    y=\"sentence_count\",\n",
    "    color=\"year\",\n",
    "    text_auto=\".2s\",\n",
    "    barmode=\"group\",\n",
    ")\n",
    "fig.write_html(f\"../visualization/charts/sentence_count_per_domain_per_year_groupbar.html\")\n",
    "fig.write_image(f\"../visualization/charts/sentence_count_per_domain_per_year_groupbar.png\")\n"
   ]
  },
  {
   "cell_type": "code",
   "execution_count": 24,
   "metadata": {},
   "outputs": [],
   "source": [
    "domain_sentence_count = []\n",
    "time_ = pd.Timestamp(\"2010-01-01 00:00:00+0000\", tz=\"UTC\")\n",
    "year = pd.Timedelta(days=366)\n",
    "while time_ < pd.Timestamp.utcnow():\n",
    "    df_ = df[(df.date > time_) & (df.date <= time_ + year)]\n",
    "    for domain in df[\"domain\"].unique():\n",
    "        sentence_count: int = 0\n",
    "        for news in df_[df_.domain == domain][\"content\"]:\n",
    "            sentence_count += len(news.split(\".\"))\n",
    "        domain_sentence_count.append(\n",
    "            {\n",
    "                \"domain\": domain,\n",
    "                \"sentence_count\": sentence_count,\n",
    "                \"type\": \"valid\" if valid_or_fake(domain) else \"fake\",\n",
    "                \"year\": time_,\n",
    "            }\n",
    "        )\n",
    "    time_ += year\n",
    "\n",
    "\n",
    "fig = px.histogram(\n",
    "    domain_sentence_count, x=\"domain\", y=\"sentence_count\", color=\"year\", text_auto=\".2s\"\n",
    ")\n",
    "fig.write_html(f\"../visualization/charts/sentence_count_per_domain_per_year.html\")\n",
    "fig.write_image(f\"../visualization/charts/sentence_count_per_domain_per_year.png\")\n"
   ]
  },
  {
   "cell_type": "markdown",
   "metadata": {},
   "source": [
    "average word length by domain"
   ]
  },
  {
   "cell_type": "code",
   "execution_count": 25,
   "metadata": {},
   "outputs": [],
   "source": [
    "domain_word_count = []\n",
    "for domain in df[\"domain\"].unique():\n",
    "    word_count: list[int] = []\n",
    "    for news in df[df.domain == domain][\"content\"]:\n",
    "        word_count.append(np.mean([len(news) for news in news.split(\" \")]))\n",
    "    domain_word_count.append(\n",
    "        {\n",
    "            \"domain\": domain,\n",
    "            \"word_length_average\": np.mean(word_count),\n",
    "            \"type\": \"valid\" if valid_or_fake(domain) else \"fake\",\n",
    "        }\n",
    "    )\n",
    "\n",
    "\n",
    "fig = px.histogram(\n",
    "    domain_word_count, x=\"domain\", y=\"word_length_average\", color=\"type\", text_auto=\".2s\"\n",
    ")\n",
    "fig.write_html(f\"../visualization/charts/average_word_length_by_domain.html\")\n",
    "fig.write_image(f\"../visualization/charts/average_word_length_by_domain.png\")\n"
   ]
  },
  {
   "cell_type": "markdown",
   "metadata": {},
   "source": [
    "average sentence length by domain"
   ]
  },
  {
   "cell_type": "code",
   "execution_count": 26,
   "metadata": {},
   "outputs": [],
   "source": [
    "domain_word_count = []\n",
    "for domain in df[\"domain\"].unique():\n",
    "    sentence_average: list[int] = []\n",
    "    for news in df[df.domain == domain][\"content\"]:\n",
    "        sentence_average.append(np.mean([len(news) for news in news.split(\".\")]))\n",
    "    domain_word_count.append(\n",
    "        {\n",
    "            \"domain\": domain,\n",
    "            \"sentence_length_average\": np.mean(sentence_average),\n",
    "            \"type\": \"valid\" if valid_or_fake(domain) else \"fake\",\n",
    "        }\n",
    "    )\n",
    "\n",
    "\n",
    "fig = px.histogram(\n",
    "    domain_word_count, x=\"domain\", y=\"sentence_length_average\", color=\"type\", text_auto=\".2s\"\n",
    ")\n",
    "fig.write_html(f\"../visualization/charts/average_sentence_length_by_domain.html\")\n",
    "fig.write_image(f\"../visualization/charts/average_sentence_length_by_domain.png\")\n"
   ]
  },
  {
   "cell_type": "markdown",
   "metadata": {},
   "source": [
    "sentiment analysis per domains"
   ]
  },
  {
   "cell_type": "code",
   "execution_count": null,
   "metadata": {},
   "outputs": [],
   "source": []
  },
  {
   "cell_type": "markdown",
   "metadata": {},
   "source": [
    "```\n",
    "pip install -U pip setuptools wheel\n",
    "pip install -U 'spacy[cuda113]'\n",
    "python -m spacy ro_core_news_sm\n",
    "```"
   ]
  },
  {
   "cell_type": "markdown",
   "metadata": {},
   "source": [
    "# NER by domain"
   ]
  },
  {
   "cell_type": "code",
   "execution_count": 5,
   "metadata": {},
   "outputs": [
    {
     "data": {
      "text/plain": [
       "array(['stiri/actualitate', 'stiri/externe', 'stiri/actualitate/politica',\n",
       "       'stiri/economie', 'stiri/sci-tech', 'stiri/sport',\n",
       "       'category/politica/', 'monden/', 'category/news/',\n",
       "       'category/externe/', 'politic/', 'category/opinii/', 'life-death/',\n",
       "       'category/stiri-politica/', 'it-stiinta/',\n",
       "       'category/stiri-sanatate-stiri-fitness-stiri-slabire/',\n",
       "       'category/analize/', 'category/stirile-zilei/',\n",
       "       'category/stiri-internationale/', 'stiri/', 'category/life/',\n",
       "       'covid/', 'sport/', '', 'category/stiri-de-pe-mapamond/',\n",
       "       'category/utile/', 'category/timp-liber/', 'category/money/',\n",
       "       'category/sanatate-si-medicina/',\n",
       "       'category/mistere-de-pe-mapamond/', 'category/stiri-din-romania/',\n",
       "       'category/actualitate/', 'category/curiozitati-staiti-ca/'],\n",
       "      dtype=object)"
      ]
     },
     "execution_count": 5,
     "metadata": {},
     "output_type": "execute_result"
    }
   ],
   "source": [
    "df[\"domain\"].unique()"
   ]
  },
  {
   "cell_type": "code",
   "execution_count": 8,
   "metadata": {},
   "outputs": [
    {
     "name": "stdout",
     "output_type": "stream",
     "text": [
      "stiri/economie\n"
     ]
    },
    {
     "name": "stderr",
     "output_type": "stream",
     "text": [
      "100%|██████████| 8388/8388 [13:16<00:00, 10.54it/s]\n"
     ]
    },
    {
     "name": "stdout",
     "output_type": "stream",
     "text": [
      "stiri/sci-tech\n"
     ]
    },
    {
     "name": "stderr",
     "output_type": "stream",
     "text": [
      "100%|██████████| 822/822 [01:15<00:00, 10.83it/s]\n"
     ]
    },
    {
     "name": "stdout",
     "output_type": "stream",
     "text": [
      "stiri/sport\n"
     ]
    },
    {
     "name": "stderr",
     "output_type": "stream",
     "text": [
      "100%|██████████| 1500/1500 [02:12<00:00, 11.33it/s]\n"
     ]
    },
    {
     "name": "stdout",
     "output_type": "stream",
     "text": [
      "category/politica/\n"
     ]
    },
    {
     "name": "stderr",
     "output_type": "stream",
     "text": [
      "100%|██████████| 19032/19032 [24:52<00:00, 12.75it/s] \n"
     ]
    },
    {
     "name": "stdout",
     "output_type": "stream",
     "text": [
      "monden/\n"
     ]
    },
    {
     "name": "stderr",
     "output_type": "stream",
     "text": [
      "100%|██████████| 2779/2779 [01:51<00:00, 25.02it/s]\n"
     ]
    },
    {
     "name": "stdout",
     "output_type": "stream",
     "text": [
      "category/news/\n"
     ]
    },
    {
     "name": "stderr",
     "output_type": "stream",
     "text": [
      "100%|██████████| 11063/11063 [13:37<00:00, 13.52it/s]\n"
     ]
    },
    {
     "name": "stdout",
     "output_type": "stream",
     "text": [
      "category/externe/\n"
     ]
    },
    {
     "name": "stderr",
     "output_type": "stream",
     "text": [
      "100%|██████████| 2970/2970 [03:02<00:00, 16.23it/s]\n"
     ]
    },
    {
     "name": "stdout",
     "output_type": "stream",
     "text": [
      "politic/\n"
     ]
    },
    {
     "name": "stderr",
     "output_type": "stream",
     "text": [
      "100%|██████████| 1628/1628 [01:03<00:00, 25.57it/s]\n"
     ]
    },
    {
     "name": "stdout",
     "output_type": "stream",
     "text": [
      "category/opinii/\n"
     ]
    },
    {
     "name": "stderr",
     "output_type": "stream",
     "text": [
      "100%|██████████| 126/126 [00:14<00:00,  8.70it/s]\n"
     ]
    },
    {
     "name": "stdout",
     "output_type": "stream",
     "text": [
      "life-death/\n"
     ]
    },
    {
     "name": "stderr",
     "output_type": "stream",
     "text": [
      "100%|██████████| 2227/2227 [01:25<00:00, 26.04it/s]\n"
     ]
    },
    {
     "name": "stdout",
     "output_type": "stream",
     "text": [
      "category/stiri-politica/\n"
     ]
    },
    {
     "name": "stderr",
     "output_type": "stream",
     "text": [
      "100%|██████████| 288/288 [00:19<00:00, 14.87it/s]\n"
     ]
    },
    {
     "name": "stdout",
     "output_type": "stream",
     "text": [
      "it-stiinta/\n"
     ]
    },
    {
     "name": "stderr",
     "output_type": "stream",
     "text": [
      "100%|██████████| 807/807 [00:31<00:00, 25.64it/s]\n"
     ]
    },
    {
     "name": "stdout",
     "output_type": "stream",
     "text": [
      "category/stiri-sanatate-stiri-fitness-stiri-slabire/\n"
     ]
    },
    {
     "name": "stderr",
     "output_type": "stream",
     "text": [
      "100%|██████████| 569/569 [00:37<00:00, 15.14it/s]\n"
     ]
    },
    {
     "name": "stdout",
     "output_type": "stream",
     "text": [
      "category/analize/\n"
     ]
    },
    {
     "name": "stderr",
     "output_type": "stream",
     "text": [
      "100%|██████████| 711/711 [01:21<00:00,  8.75it/s]\n"
     ]
    },
    {
     "name": "stdout",
     "output_type": "stream",
     "text": [
      "category/stirile-zilei/\n"
     ]
    },
    {
     "name": "stderr",
     "output_type": "stream",
     "text": [
      "100%|██████████| 1718/1718 [01:42<00:00, 16.83it/s]\n"
     ]
    },
    {
     "name": "stdout",
     "output_type": "stream",
     "text": [
      "category/stiri-internationale/\n"
     ]
    },
    {
     "name": "stderr",
     "output_type": "stream",
     "text": [
      "100%|██████████| 277/277 [00:16<00:00, 16.84it/s]\n"
     ]
    },
    {
     "name": "stdout",
     "output_type": "stream",
     "text": [
      "stiri/\n"
     ]
    },
    {
     "name": "stderr",
     "output_type": "stream",
     "text": [
      "100%|██████████| 2865/2865 [01:34<00:00, 30.23it/s]\n"
     ]
    },
    {
     "name": "stdout",
     "output_type": "stream",
     "text": [
      "category/life/\n"
     ]
    },
    {
     "name": "stderr",
     "output_type": "stream",
     "text": [
      "100%|██████████| 284/284 [00:15<00:00, 18.47it/s]\n"
     ]
    },
    {
     "name": "stdout",
     "output_type": "stream",
     "text": [
      "covid/\n"
     ]
    },
    {
     "name": "stderr",
     "output_type": "stream",
     "text": [
      "100%|██████████| 188/188 [00:05<00:00, 35.45it/s]\n"
     ]
    },
    {
     "name": "stdout",
     "output_type": "stream",
     "text": [
      "sport/\n"
     ]
    },
    {
     "name": "stderr",
     "output_type": "stream",
     "text": [
      "100%|██████████| 339/339 [00:13<00:00, 25.72it/s]\n"
     ]
    },
    {
     "name": "stdout",
     "output_type": "stream",
     "text": [
      "\n"
     ]
    },
    {
     "name": "stderr",
     "output_type": "stream",
     "text": [
      "100%|██████████| 672/672 [00:39<00:00, 16.99it/s]\n"
     ]
    },
    {
     "name": "stdout",
     "output_type": "stream",
     "text": [
      "category/stiri-de-pe-mapamond/\n"
     ]
    },
    {
     "name": "stderr",
     "output_type": "stream",
     "text": [
      "100%|██████████| 4/4 [00:00<00:00, 19.98it/s]\n"
     ]
    },
    {
     "name": "stdout",
     "output_type": "stream",
     "text": [
      "category/utile/\n"
     ]
    },
    {
     "name": "stderr",
     "output_type": "stream",
     "text": [
      "100%|██████████| 337/337 [00:21<00:00, 15.74it/s]\n"
     ]
    },
    {
     "name": "stdout",
     "output_type": "stream",
     "text": [
      "category/timp-liber/\n"
     ]
    },
    {
     "name": "stderr",
     "output_type": "stream",
     "text": [
      "100%|██████████| 154/154 [00:12<00:00, 11.93it/s]\n"
     ]
    },
    {
     "name": "stdout",
     "output_type": "stream",
     "text": [
      "category/money/\n"
     ]
    },
    {
     "name": "stderr",
     "output_type": "stream",
     "text": [
      "100%|██████████| 125/125 [00:09<00:00, 12.85it/s]\n"
     ]
    },
    {
     "name": "stdout",
     "output_type": "stream",
     "text": [
      "category/sanatate-si-medicina/\n"
     ]
    },
    {
     "name": "stderr",
     "output_type": "stream",
     "text": [
      "100%|██████████| 2/2 [00:00<00:00,  7.88it/s]\n"
     ]
    },
    {
     "name": "stdout",
     "output_type": "stream",
     "text": [
      "category/mistere-de-pe-mapamond/\n"
     ]
    },
    {
     "name": "stderr",
     "output_type": "stream",
     "text": [
      "100%|██████████| 2/2 [00:00<00:00,  6.33it/s]\n"
     ]
    },
    {
     "name": "stdout",
     "output_type": "stream",
     "text": [
      "category/stiri-din-romania/\n"
     ]
    },
    {
     "name": "stderr",
     "output_type": "stream",
     "text": [
      "100%|██████████| 4/4 [00:00<00:00, 22.07it/s]\n"
     ]
    },
    {
     "name": "stdout",
     "output_type": "stream",
     "text": [
      "category/actualitate/\n"
     ]
    },
    {
     "name": "stderr",
     "output_type": "stream",
     "text": [
      "100%|██████████| 4/4 [00:00<00:00, 30.30it/s]\n"
     ]
    },
    {
     "name": "stdout",
     "output_type": "stream",
     "text": [
      "category/curiozitati-staiti-ca/\n"
     ]
    },
    {
     "name": "stderr",
     "output_type": "stream",
     "text": [
      "100%|██████████| 4/4 [00:00<00:00,  9.92it/s]\n"
     ]
    }
   ],
   "source": [
    "import tqdm\n",
    "import gzip\n",
    "import pickle\n",
    "\n",
    "nlp = spacy.load(\"ro_core_news_sm\")\n",
    "\n",
    "for domain in [\n",
    "    \"stiri/economie\",\n",
    "    \"stiri/sci-tech\",\n",
    "    \"stiri/sport\",\n",
    "    \"category/politica/\",\n",
    "    \"monden/\",\n",
    "    \"category/news/\",\n",
    "    \"category/externe/\",\n",
    "    \"politic/\",\n",
    "    \"category/opinii/\",\n",
    "    \"life-death/\",\n",
    "    \"category/stiri-politica/\",\n",
    "    \"it-stiinta/\",\n",
    "    \"category/stiri-sanatate-stiri-fitness-stiri-slabire/\",\n",
    "    \"category/analize/\",\n",
    "    \"category/stirile-zilei/\",\n",
    "    \"category/stiri-internationale/\",\n",
    "    \"stiri/\",\n",
    "    \"category/life/\",\n",
    "    \"covid/\",\n",
    "    \"sport/\",\n",
    "    \"\",\n",
    "    \"category/stiri-de-pe-mapamond/\",\n",
    "    \"category/utile/\",\n",
    "    \"category/timp-liber/\",\n",
    "    \"category/money/\",\n",
    "    \"category/sanatate-si-medicina/\",\n",
    "    \"category/mistere-de-pe-mapamond/\",\n",
    "    \"category/stiri-din-romania/\",\n",
    "    \"category/actualitate/\",\n",
    "    \"category/curiozitati-staiti-ca/\",\n",
    "]:  # df[\"domain\"].unique():\n",
    "    ner_object_frequecy: dict[str, int] = {}\n",
    "    ner_tag_object: dict[str, list[str]] = {}\n",
    "\n",
    "    print(domain)\n",
    "\n",
    "    docs = []\n",
    "\n",
    "    for news in tqdm.tqdm(df[df.domain == domain][\"content\"]):\n",
    "        docs.append(nlp(news))\n",
    "\n",
    "    domain_dict = {\n",
    "        \"domain\": domain,\n",
    "        \"docs\": docs,\n",
    "    }\n",
    "\n",
    "    with gzip.open(\n",
    "        f\"../models/pickles/docs_per_domain_{domain.replace('/', '_')}_balanced.gzip\", \"wb\"\n",
    "    ) as o:\n",
    "        pickle.dump(domain_dict, o)\n"
   ]
  },
  {
   "cell_type": "code",
   "execution_count": 9,
   "metadata": {},
   "outputs": [
    {
     "name": "stdout",
     "output_type": "stream",
     "text": [
      "stiri/actualitate\n"
     ]
    },
    {
     "name": "stderr",
     "output_type": "stream",
     "text": [
      "100%|██████████| 14727/14727 [00:06<00:00, 2330.84it/s]\n"
     ]
    },
    {
     "name": "stdout",
     "output_type": "stream",
     "text": [
      "stiri/externe\n"
     ]
    },
    {
     "name": "stderr",
     "output_type": "stream",
     "text": [
      "100%|██████████| 8922/8922 [00:03<00:00, 2344.09it/s]\n"
     ]
    },
    {
     "name": "stdout",
     "output_type": "stream",
     "text": [
      "stiri/actualitate/politica\n"
     ]
    },
    {
     "name": "stderr",
     "output_type": "stream",
     "text": [
      "100%|██████████| 13476/13476 [00:05<00:00, 2392.08it/s]\n"
     ]
    },
    {
     "name": "stdout",
     "output_type": "stream",
     "text": [
      "stiri/economie\n"
     ]
    },
    {
     "name": "stderr",
     "output_type": "stream",
     "text": [
      "100%|██████████| 8388/8388 [00:03<00:00, 2286.69it/s]\n"
     ]
    },
    {
     "name": "stdout",
     "output_type": "stream",
     "text": [
      "stiri/sci-tech\n"
     ]
    },
    {
     "name": "stderr",
     "output_type": "stream",
     "text": [
      "100%|██████████| 822/822 [00:00<00:00, 2212.74it/s]\n"
     ]
    },
    {
     "name": "stdout",
     "output_type": "stream",
     "text": [
      "stiri/sport\n"
     ]
    },
    {
     "name": "stderr",
     "output_type": "stream",
     "text": [
      "100%|██████████| 1500/1500 [00:00<00:00, 1586.10it/s]\n"
     ]
    },
    {
     "name": "stdout",
     "output_type": "stream",
     "text": [
      "category/politica/\n"
     ]
    },
    {
     "name": "stderr",
     "output_type": "stream",
     "text": [
      "100%|██████████| 19032/19032 [00:08<00:00, 2310.88it/s]\n"
     ]
    },
    {
     "name": "stdout",
     "output_type": "stream",
     "text": [
      "monden/\n"
     ]
    },
    {
     "name": "stderr",
     "output_type": "stream",
     "text": [
      "100%|██████████| 2779/2779 [00:00<00:00, 4965.02it/s]\n"
     ]
    },
    {
     "name": "stdout",
     "output_type": "stream",
     "text": [
      "category/news/\n"
     ]
    },
    {
     "name": "stderr",
     "output_type": "stream",
     "text": [
      "100%|██████████| 11063/11063 [00:04<00:00, 2453.25it/s]\n"
     ]
    },
    {
     "name": "stdout",
     "output_type": "stream",
     "text": [
      "category/externe/\n"
     ]
    },
    {
     "name": "stderr",
     "output_type": "stream",
     "text": [
      "100%|██████████| 2970/2970 [00:01<00:00, 2628.29it/s]\n"
     ]
    },
    {
     "name": "stdout",
     "output_type": "stream",
     "text": [
      "politic/\n"
     ]
    },
    {
     "name": "stderr",
     "output_type": "stream",
     "text": [
      "100%|██████████| 1628/1628 [00:00<00:00, 4599.02it/s]\n"
     ]
    },
    {
     "name": "stdout",
     "output_type": "stream",
     "text": [
      "category/opinii/\n"
     ]
    },
    {
     "name": "stderr",
     "output_type": "stream",
     "text": [
      "100%|██████████| 126/126 [00:00<00:00, 1315.10it/s]\n"
     ]
    },
    {
     "name": "stdout",
     "output_type": "stream",
     "text": [
      "life-death/\n"
     ]
    },
    {
     "name": "stderr",
     "output_type": "stream",
     "text": [
      "100%|██████████| 2227/2227 [00:00<00:00, 5334.77it/s]\n"
     ]
    },
    {
     "name": "stdout",
     "output_type": "stream",
     "text": [
      "category/stiri-politica/\n"
     ]
    },
    {
     "name": "stderr",
     "output_type": "stream",
     "text": [
      "100%|██████████| 288/288 [00:00<00:00, 1711.16it/s]\n"
     ]
    },
    {
     "name": "stdout",
     "output_type": "stream",
     "text": [
      "it-stiinta/\n"
     ]
    },
    {
     "name": "stderr",
     "output_type": "stream",
     "text": [
      "100%|██████████| 807/807 [00:00<00:00, 3411.86it/s]\n"
     ]
    },
    {
     "name": "stdout",
     "output_type": "stream",
     "text": [
      "category/stiri-sanatate-stiri-fitness-stiri-slabire/\n"
     ]
    },
    {
     "name": "stderr",
     "output_type": "stream",
     "text": [
      "100%|██████████| 569/569 [00:00<00:00, 3182.28it/s]\n"
     ]
    },
    {
     "name": "stdout",
     "output_type": "stream",
     "text": [
      "category/analize/\n"
     ]
    },
    {
     "name": "stderr",
     "output_type": "stream",
     "text": [
      "100%|██████████| 711/711 [00:00<00:00, 1624.33it/s]\n"
     ]
    },
    {
     "name": "stdout",
     "output_type": "stream",
     "text": [
      "category/stirile-zilei/\n"
     ]
    },
    {
     "name": "stderr",
     "output_type": "stream",
     "text": [
      "100%|██████████| 1718/1718 [00:00<00:00, 2884.92it/s]\n"
     ]
    },
    {
     "name": "stdout",
     "output_type": "stream",
     "text": [
      "category/stiri-internationale/\n"
     ]
    },
    {
     "name": "stderr",
     "output_type": "stream",
     "text": [
      "100%|██████████| 277/277 [00:00<00:00, 1962.31it/s]\n"
     ]
    },
    {
     "name": "stdout",
     "output_type": "stream",
     "text": [
      "stiri/\n"
     ]
    },
    {
     "name": "stderr",
     "output_type": "stream",
     "text": [
      "100%|██████████| 2865/2865 [00:00<00:00, 5175.94it/s]\n"
     ]
    },
    {
     "name": "stdout",
     "output_type": "stream",
     "text": [
      "category/life/\n"
     ]
    },
    {
     "name": "stderr",
     "output_type": "stream",
     "text": [
      "100%|██████████| 284/284 [00:00<00:00, 2017.61it/s]\n"
     ]
    },
    {
     "name": "stdout",
     "output_type": "stream",
     "text": [
      "covid/\n"
     ]
    },
    {
     "name": "stderr",
     "output_type": "stream",
     "text": [
      "100%|██████████| 188/188 [00:00<00:00, 2390.29it/s]\n"
     ]
    },
    {
     "name": "stdout",
     "output_type": "stream",
     "text": [
      "sport/\n"
     ]
    },
    {
     "name": "stderr",
     "output_type": "stream",
     "text": [
      "100%|██████████| 339/339 [00:00<00:00, 2805.70it/s]\n"
     ]
    },
    {
     "name": "stdout",
     "output_type": "stream",
     "text": [
      "\n"
     ]
    },
    {
     "name": "stderr",
     "output_type": "stream",
     "text": [
      "100%|██████████| 672/672 [00:00<00:00, 1641.30it/s]\n"
     ]
    },
    {
     "name": "stdout",
     "output_type": "stream",
     "text": [
      "category/stiri-de-pe-mapamond/\n"
     ]
    },
    {
     "name": "stderr",
     "output_type": "stream",
     "text": [
      "100%|██████████| 4/4 [00:00<00:00, 82.85it/s]\n"
     ]
    },
    {
     "name": "stdout",
     "output_type": "stream",
     "text": [
      "category/utile/\n"
     ]
    },
    {
     "name": "stderr",
     "output_type": "stream",
     "text": [
      "100%|██████████| 337/337 [00:00<00:00, 2970.52it/s]\n"
     ]
    },
    {
     "name": "stdout",
     "output_type": "stream",
     "text": [
      "category/timp-liber/\n"
     ]
    },
    {
     "name": "stderr",
     "output_type": "stream",
     "text": [
      "100%|██████████| 154/154 [00:00<00:00, 1371.23it/s]\n"
     ]
    },
    {
     "name": "stdout",
     "output_type": "stream",
     "text": [
      "category/money/\n"
     ]
    },
    {
     "name": "stderr",
     "output_type": "stream",
     "text": [
      "100%|██████████| 125/125 [00:00<00:00, 1359.34it/s]\n"
     ]
    },
    {
     "name": "stdout",
     "output_type": "stream",
     "text": [
      "category/sanatate-si-medicina/\n"
     ]
    },
    {
     "name": "stderr",
     "output_type": "stream",
     "text": [
      "100%|██████████| 2/2 [00:00<00:00, 36.06it/s]\n"
     ]
    },
    {
     "name": "stdout",
     "output_type": "stream",
     "text": [
      "category/mistere-de-pe-mapamond/\n"
     ]
    },
    {
     "name": "stderr",
     "output_type": "stream",
     "text": [
      "100%|██████████| 2/2 [00:00<00:00, 45.09it/s]\n"
     ]
    },
    {
     "name": "stdout",
     "output_type": "stream",
     "text": [
      "category/stiri-din-romania/\n"
     ]
    },
    {
     "name": "stderr",
     "output_type": "stream",
     "text": [
      "100%|██████████| 4/4 [00:00<00:00, 93.29it/s]\n"
     ]
    },
    {
     "name": "stdout",
     "output_type": "stream",
     "text": [
      "category/actualitate/\n"
     ]
    },
    {
     "name": "stderr",
     "output_type": "stream",
     "text": [
      "100%|██████████| 4/4 [00:00<00:00, 87.24it/s]\n"
     ]
    },
    {
     "name": "stdout",
     "output_type": "stream",
     "text": [
      "category/curiozitati-staiti-ca/\n"
     ]
    },
    {
     "name": "stderr",
     "output_type": "stream",
     "text": [
      "100%|██████████| 4/4 [00:00<00:00, 80.05it/s]\n"
     ]
    }
   ],
   "source": [
    "import tqdm\n",
    "import gzip\n",
    "import pickle\n",
    "\n",
    "for domain in df[\"domain\"].unique():\n",
    "    ner_object_frequecy: dict[str, int] = {}\n",
    "    ner_tag_object: dict[str, list[str]] = {}\n",
    "\n",
    "    with gzip.open(f\"../models/pickles/docs_per_domain_{domain.replace('/', '_')}_balanced.gzip\", \"rb\") as o:\n",
    "        domain_dict = pickle.load(o)\n",
    "\n",
    "    print(domain)\n",
    "\n",
    "    for doc in tqdm.tqdm(domain_dict[\"docs\"]):\n",
    "        for ent in doc.ents:\n",
    "\n",
    "            if ent.text not in ner_object_frequecy.keys():\n",
    "                ner_object_frequecy[ent.text] = 1\n",
    "            else:\n",
    "                ner_object_frequecy[ent.text] += 1\n",
    "\n",
    "            if ent.label_ not in ner_tag_object.keys():\n",
    "                ner_tag_object[ent.label_] = [ent.text]\n",
    "            else:\n",
    "                ner_tag_object[ent.label_].append(ent.text)\n",
    "\n",
    "    with gzip.open(f\"../models/pickles/ner_per_domain_{domain.replace('/', '_')}_balanced.gzip\", \"wb\") as o:\n",
    "        pickle.dump(\n",
    "            {\n",
    "                \"domain\": domain,\n",
    "                \"ner_object_frequecy\": ner_object_frequecy,\n",
    "                \"ner_tag_object\": ner_tag_object,\n",
    "                \"type\": \"valid\" if (\"stiri\" in domain) or (\"\" == domain) else \"fake\",\n",
    "            },\n",
    "            o,\n",
    "        )\n"
   ]
  },
  {
   "cell_type": "markdown",
   "metadata": {},
   "source": [
    "## Plot NER"
   ]
  },
  {
   "cell_type": "code",
   "execution_count": 10,
   "metadata": {},
   "outputs": [],
   "source": [
    "import gzip\n",
    "import pickle\n",
    "\n",
    "domain_word_count = []\n",
    "for domain in df[\"domain\"].unique():\n",
    "    with gzip.open(f\"../models/pickles/ner_per_domain_{domain.replace('/', '_')}_balanced.gzip\", \"rb\") as o:\n",
    "        domain_dict = pickle.load(o)\n",
    "\n",
    "    domain_word_count.append(domain_dict)\n"
   ]
  },
  {
   "cell_type": "code",
   "execution_count": 11,
   "metadata": {},
   "outputs": [],
   "source": [
    "domains = []\n",
    "for domain in domain_word_count:\n",
    "    for tag in domain[\"ner_tag_object\"]:\n",
    "        domains.append(\n",
    "            {\n",
    "                \"domain\": domain[\"domain\"],\n",
    "                \"type\": domain[\"type\"],\n",
    "                \"tag\": tag,\n",
    "                \"tag_length\": len(domain[\"ner_tag_object\"][tag]),\n",
    "            }\n",
    "        )\n",
    "\n",
    "fig = px.histogram(domains, x=\"tag\", y=\"tag_length\", color=\"domain\", text_auto=\".2s\")\n",
    "fig.write_html(f\"../visualization/charts/NER_domain_count_per_tag.html\")\n",
    "fig.write_image(f\"../visualization/charts/NER_domain_count_per_tag.png\")\n"
   ]
  },
  {
   "cell_type": "code",
   "execution_count": 12,
   "metadata": {},
   "outputs": [],
   "source": [
    "domains = []\n",
    "for domain in domain_word_count:\n",
    "    for tag in domain[\"ner_tag_object\"]:\n",
    "        domains.append(\n",
    "            {\n",
    "                \"domain\": domain[\"domain\"],\n",
    "                \"type\": domain[\"type\"],\n",
    "                \"tag\": tag,\n",
    "                \"tag_length\": len(domain[\"ner_tag_object\"][tag]),\n",
    "            }\n",
    "        )\n",
    "\n",
    "fig = px.histogram(domains, x=\"domain\", y=\"tag_length\", color=\"tag\", text_auto=\".2s\")\n",
    "fig.write_html(f\"../visualization/charts/NER_tag_count_per_domain.html\")\n",
    "fig.write_image(f\"../visualization/charts/NER_tag_count_per_domain.png\")\n"
   ]
  },
  {
   "cell_type": "code",
   "execution_count": 13,
   "metadata": {},
   "outputs": [],
   "source": [
    "domains = []\n",
    "for domain in domain_word_count:\n",
    "    for tag in domain[\"ner_tag_object\"]:\n",
    "        domains.append(\n",
    "            {\n",
    "                \"domain\": domain[\"domain\"],\n",
    "                \"type\": domain[\"type\"],\n",
    "                \"tag\": tag,\n",
    "                \"tag_length\": len(domain[\"ner_tag_object\"][tag]),\n",
    "            }\n",
    "        )\n",
    "\n",
    "fig = px.histogram(\n",
    "    domains, x=\"domain\", y=\"tag_length\", color=\"tag\", text_auto=\".2s\", barmode=\"group\"\n",
    ")\n",
    "fig.write_html(f\"../visualization/charts/NER_tag_count_per_domain_groupbar.html\")\n",
    "fig.write_image(f\"../visualization/charts/NER_tag_count_per_domain_groupbar.png\")\n"
   ]
  },
  {
   "cell_type": "code",
   "execution_count": 14,
   "metadata": {},
   "outputs": [],
   "source": [
    "domains = []\n",
    "for domain in domain_word_count:\n",
    "    sorted_tags = dict(\n",
    "        sorted(domain[\"ner_object_frequecy\"].items(), key=lambda item: item[1], reverse=True)\n",
    "    )\n",
    "    index: int = 10\n",
    "\n",
    "    for word in sorted_tags:\n",
    "        domains.append(\n",
    "            {\n",
    "                \"domain\": domain[\"domain\"],\n",
    "                \"type\": domain[\"type\"],\n",
    "                \"word\": word,\n",
    "                \"word_freq\": domain[\"ner_object_frequecy\"][word],\n",
    "            }\n",
    "        )\n",
    "        index -= 1\n",
    "        if index == 0:\n",
    "            break\n",
    "\n",
    "fig = px.histogram(domains, x=\"domain\", y=\"word_freq\", color=\"word\", text_auto=\".2s\")\n",
    "fig.write_html(f\"../visualization/charts/NER_word_count_per_domain_groupbar.html\")\n",
    "fig.write_image(f\"../visualization/charts/NER_word_count_per_domain_groupbar.png\")\n"
   ]
  },
  {
   "cell_type": "code",
   "execution_count": 15,
   "metadata": {},
   "outputs": [],
   "source": [
    "domains = []\n",
    "for domain in domain_word_count:\n",
    "    sorted_tags = dict(\n",
    "        sorted(domain[\"ner_object_frequecy\"].items(), key=lambda item: item[1], reverse=True)\n",
    "    )\n",
    "    index: int = 10\n",
    "\n",
    "    for word in sorted_tags:\n",
    "        tag_: str = \"\"\n",
    "        for tag in domain[\"ner_tag_object\"]:\n",
    "            if word in domain[\"ner_tag_object\"][tag]:\n",
    "                tag_ = tag\n",
    "                break\n",
    "\n",
    "        domains.append(\n",
    "            {\n",
    "                \"domain\": domain[\"domain\"],\n",
    "                \"type\": domain[\"type\"],\n",
    "                \"word\": word,\n",
    "                \"word_freq\": domain[\"ner_object_frequecy\"][word],\n",
    "                \"tag\": tag_,\n",
    "            }\n",
    "        )\n",
    "        index -= 1\n",
    "        if index == 0:\n",
    "            break\n",
    "\n",
    "\n",
    "fig = px.histogram(\n",
    "    domains, x=\"domain\", y=\"word_freq\", color=\"word\", text_auto=\".2s\", barmode=\"group\"\n",
    ")\n",
    "fig.write_html(f\"../visualization/charts/NER_top_10_words_by_frequency_per_domain_groupbar.html\")\n",
    "fig.write_image(f\"../visualization/charts/NER_top_10_words_by_frequency_per_domain_groupbar.png\")\n"
   ]
  },
  {
   "cell_type": "code",
   "execution_count": 16,
   "metadata": {},
   "outputs": [],
   "source": [
    "domains = []\n",
    "for domain in domain_word_count:\n",
    "    sorted_tags = dict(\n",
    "        sorted(domain[\"ner_object_frequecy\"].items(), key=lambda item: item[1], reverse=True)\n",
    "    )\n",
    "    index: int = 10\n",
    "\n",
    "    for word in sorted_tags:\n",
    "        tag_: str = \"\"\n",
    "        for tag in domain[\"ner_tag_object\"]:\n",
    "            if word in domain[\"ner_tag_object\"][tag]:\n",
    "                tag_ = tag\n",
    "                break\n",
    "\n",
    "        domains.append(\n",
    "            {\n",
    "                \"domain\": domain[\"domain\"],\n",
    "                \"type\": domain[\"type\"],\n",
    "                \"word\": word,\n",
    "                \"word_freq\": domain[\"ner_object_frequecy\"][word],\n",
    "                \"tag\": tag_,\n",
    "            }\n",
    "        )\n",
    "        index -= 1\n",
    "        if index == 0:\n",
    "            break\n",
    "\n",
    "fig = px.histogram(\n",
    "    domains, x=\"domain\", y=\"word_freq\", color=\"tag\", text_auto=\".2s\", barmode=\"group\"\n",
    ")\n",
    "\n",
    "fig.write_html(f\"../visualization/charts/NER_top_10_tags_by_frequency_per_domain_groupbar.html\")\n",
    "fig.write_image(f\"../visualization/charts/NER_top_10_tags_by_frequency_per_domain_groupbar.png\")\n"
   ]
  },
  {
   "cell_type": "markdown",
   "metadata": {},
   "source": [
    "# N-grams"
   ]
  },
  {
   "cell_type": "code",
   "execution_count": null,
   "metadata": {},
   "outputs": [],
   "source": [
    "# TODO ?\n"
   ]
  },
  {
   "cell_type": "markdown",
   "metadata": {},
   "source": [
    "# Keyword extraction"
   ]
  },
  {
   "cell_type": "markdown",
   "metadata": {},
   "source": [
    "wait for domain_docs execution"
   ]
  },
  {
   "cell_type": "code",
   "execution_count": 17,
   "metadata": {},
   "outputs": [],
   "source": [
    "import gzip\n",
    "import tqdm\n",
    "import spacy\n",
    "import pickle\n",
    "import string\n",
    "import gc\n"
   ]
  },
  {
   "cell_type": "code",
   "execution_count": 18,
   "metadata": {},
   "outputs": [],
   "source": [
    "import json\n",
    "import pydantic\n",
    "\n",
    "\n",
    "class CeleryConfig(pydantic.BaseModel):\n",
    "    pass\n",
    "\n",
    "\n",
    "class SiteConfig(pydantic.BaseModel):\n",
    "    url: str\n",
    "    type: str\n",
    "    routes: list[str]\n",
    "    confidence: float\n",
    "\n",
    "\n",
    "class MongoDB(pydantic.BaseModel):\n",
    "    pass\n",
    "\n",
    "\n",
    "class Config(pydantic.BaseModel):\n",
    "    mongodb: MongoDB\n",
    "    celery: CeleryConfig\n",
    "    site: list[SiteConfig]\n",
    "\n",
    "\n",
    "with open(\"../cluster/configs/celery-beat/config.json\", \"r\") as f:\n",
    "    sites_cfg = Config.parse_raw(json.dumps(dict(json.load(f))))\n",
    "\n",
    "sites_cfg_site_routes = {}\n",
    "for site in sites_cfg.site:\n",
    "    sites_cfg_site_routes[site.confidence] = set(site.routes)\n",
    "\n",
    "\n",
    "def valid_or_fake(domain_name: str):\n",
    "    for confidence, domains in sites_cfg_site_routes.items():\n",
    "        if domain_name in domains:\n",
    "            if confidence >= 0.5:\n",
    "                return True\n",
    "            else:\n",
    "                return False\n"
   ]
  },
  {
   "cell_type": "code",
   "execution_count": 20,
   "metadata": {},
   "outputs": [
    {
     "name": "stdout",
     "output_type": "stream",
     "text": [
      "stiri/actualitate\n"
     ]
    },
    {
     "name": "stderr",
     "output_type": "stream",
     "text": [
      "100%|██████████| 14727/14727 [00:03<00:00, 3827.54it/s]\n"
     ]
    },
    {
     "name": "stdout",
     "output_type": "stream",
     "text": [
      "stiri/externe\n"
     ]
    },
    {
     "name": "stderr",
     "output_type": "stream",
     "text": [
      "100%|██████████| 8922/8922 [00:02<00:00, 3670.64it/s]\n"
     ]
    },
    {
     "name": "stdout",
     "output_type": "stream",
     "text": [
      "stiri/actualitate/politica\n"
     ]
    },
    {
     "name": "stderr",
     "output_type": "stream",
     "text": [
      "100%|██████████| 13476/13476 [00:03<00:00, 3896.38it/s]\n"
     ]
    },
    {
     "name": "stdout",
     "output_type": "stream",
     "text": [
      "stiri/economie\n"
     ]
    },
    {
     "name": "stderr",
     "output_type": "stream",
     "text": [
      "100%|██████████| 8388/8388 [00:02<00:00, 3323.20it/s]\n"
     ]
    },
    {
     "name": "stdout",
     "output_type": "stream",
     "text": [
      "stiri/sci-tech\n"
     ]
    },
    {
     "name": "stderr",
     "output_type": "stream",
     "text": [
      "100%|██████████| 822/822 [00:00<00:00, 3247.30it/s]\n"
     ]
    },
    {
     "name": "stdout",
     "output_type": "stream",
     "text": [
      "stiri/sport\n"
     ]
    },
    {
     "name": "stderr",
     "output_type": "stream",
     "text": [
      "100%|██████████| 1500/1500 [00:00<00:00, 2339.59it/s]\n"
     ]
    },
    {
     "name": "stdout",
     "output_type": "stream",
     "text": [
      "category/politica/\n"
     ]
    },
    {
     "name": "stderr",
     "output_type": "stream",
     "text": [
      "100%|██████████| 19032/19032 [00:05<00:00, 3493.73it/s]\n"
     ]
    },
    {
     "name": "stdout",
     "output_type": "stream",
     "text": [
      "monden/\n"
     ]
    },
    {
     "name": "stderr",
     "output_type": "stream",
     "text": [
      "100%|██████████| 2779/2779 [00:00<00:00, 7943.12it/s]\n"
     ]
    },
    {
     "name": "stdout",
     "output_type": "stream",
     "text": [
      "category/news/\n"
     ]
    },
    {
     "name": "stderr",
     "output_type": "stream",
     "text": [
      "100%|██████████| 11063/11063 [00:03<00:00, 3519.68it/s]\n"
     ]
    },
    {
     "name": "stdout",
     "output_type": "stream",
     "text": [
      "category/externe/\n"
     ]
    },
    {
     "name": "stderr",
     "output_type": "stream",
     "text": [
      "100%|██████████| 2970/2970 [00:00<00:00, 3677.03it/s]\n"
     ]
    },
    {
     "name": "stdout",
     "output_type": "stream",
     "text": [
      "politic/\n"
     ]
    },
    {
     "name": "stderr",
     "output_type": "stream",
     "text": [
      "100%|██████████| 1628/1628 [00:00<00:00, 6438.48it/s]\n"
     ]
    },
    {
     "name": "stdout",
     "output_type": "stream",
     "text": [
      "category/opinii/\n"
     ]
    },
    {
     "name": "stderr",
     "output_type": "stream",
     "text": [
      "100%|██████████| 126/126 [00:00<00:00, 1381.88it/s]\n"
     ]
    },
    {
     "name": "stdout",
     "output_type": "stream",
     "text": [
      "life-death/\n"
     ]
    },
    {
     "name": "stderr",
     "output_type": "stream",
     "text": [
      "100%|██████████| 2227/2227 [00:00<00:00, 7247.12it/s]\n"
     ]
    },
    {
     "name": "stdout",
     "output_type": "stream",
     "text": [
      "category/stiri-politica/\n"
     ]
    },
    {
     "name": "stderr",
     "output_type": "stream",
     "text": [
      "100%|██████████| 288/288 [00:00<00:00, 2309.82it/s]\n"
     ]
    },
    {
     "name": "stdout",
     "output_type": "stream",
     "text": [
      "it-stiinta/\n"
     ]
    },
    {
     "name": "stderr",
     "output_type": "stream",
     "text": [
      "100%|██████████| 807/807 [00:00<00:00, 5841.80it/s]\n"
     ]
    },
    {
     "name": "stdout",
     "output_type": "stream",
     "text": [
      "category/stiri-sanatate-stiri-fitness-stiri-slabire/\n"
     ]
    },
    {
     "name": "stderr",
     "output_type": "stream",
     "text": [
      "100%|██████████| 569/569 [00:00<00:00, 3640.49it/s]\n"
     ]
    },
    {
     "name": "stdout",
     "output_type": "stream",
     "text": [
      "category/analize/\n"
     ]
    },
    {
     "name": "stderr",
     "output_type": "stream",
     "text": [
      "100%|██████████| 711/711 [00:00<00:00, 1928.07it/s]\n"
     ]
    },
    {
     "name": "stdout",
     "output_type": "stream",
     "text": [
      "category/stirile-zilei/\n"
     ]
    },
    {
     "name": "stderr",
     "output_type": "stream",
     "text": [
      "100%|██████████| 1718/1718 [00:00<00:00, 3492.38it/s]\n"
     ]
    },
    {
     "name": "stdout",
     "output_type": "stream",
     "text": [
      "category/stiri-internationale/\n"
     ]
    },
    {
     "name": "stderr",
     "output_type": "stream",
     "text": [
      "100%|██████████| 277/277 [00:00<00:00, 2365.83it/s]\n"
     ]
    },
    {
     "name": "stdout",
     "output_type": "stream",
     "text": [
      "stiri/\n"
     ]
    },
    {
     "name": "stderr",
     "output_type": "stream",
     "text": [
      "100%|██████████| 2865/2865 [00:00<00:00, 5654.99it/s]\n"
     ]
    },
    {
     "name": "stdout",
     "output_type": "stream",
     "text": [
      "category/life/\n"
     ]
    },
    {
     "name": "stderr",
     "output_type": "stream",
     "text": [
      "100%|██████████| 284/284 [00:00<00:00, 2760.18it/s]\n"
     ]
    },
    {
     "name": "stdout",
     "output_type": "stream",
     "text": [
      "covid/\n"
     ]
    },
    {
     "name": "stderr",
     "output_type": "stream",
     "text": [
      "100%|██████████| 188/188 [00:00<00:00, 2372.14it/s]\n"
     ]
    },
    {
     "name": "stdout",
     "output_type": "stream",
     "text": [
      "sport/\n"
     ]
    },
    {
     "name": "stderr",
     "output_type": "stream",
     "text": [
      "100%|██████████| 339/339 [00:00<00:00, 2927.51it/s]\n"
     ]
    },
    {
     "name": "stdout",
     "output_type": "stream",
     "text": [
      "\n"
     ]
    },
    {
     "name": "stderr",
     "output_type": "stream",
     "text": [
      "100%|██████████| 672/672 [00:00<00:00, 2526.45it/s]\n"
     ]
    },
    {
     "name": "stdout",
     "output_type": "stream",
     "text": [
      "category/stiri-de-pe-mapamond/\n"
     ]
    },
    {
     "name": "stderr",
     "output_type": "stream",
     "text": [
      "100%|██████████| 4/4 [00:00<00:00, 53.23it/s]\n"
     ]
    },
    {
     "name": "stdout",
     "output_type": "stream",
     "text": [
      "category/utile/\n"
     ]
    },
    {
     "name": "stderr",
     "output_type": "stream",
     "text": [
      "100%|██████████| 337/337 [00:00<00:00, 2983.40it/s]\n"
     ]
    },
    {
     "name": "stdout",
     "output_type": "stream",
     "text": [
      "category/timp-liber/\n"
     ]
    },
    {
     "name": "stderr",
     "output_type": "stream",
     "text": [
      "100%|██████████| 154/154 [00:00<00:00, 1396.54it/s]\n"
     ]
    },
    {
     "name": "stdout",
     "output_type": "stream",
     "text": [
      "category/money/\n"
     ]
    },
    {
     "name": "stderr",
     "output_type": "stream",
     "text": [
      "100%|██████████| 125/125 [00:00<00:00, 1221.88it/s]\n"
     ]
    },
    {
     "name": "stdout",
     "output_type": "stream",
     "text": [
      "category/sanatate-si-medicina/\n"
     ]
    },
    {
     "name": "stderr",
     "output_type": "stream",
     "text": [
      "100%|██████████| 2/2 [00:00<00:00, 28.17it/s]\n"
     ]
    },
    {
     "name": "stdout",
     "output_type": "stream",
     "text": [
      "category/mistere-de-pe-mapamond/\n"
     ]
    },
    {
     "name": "stderr",
     "output_type": "stream",
     "text": [
      "100%|██████████| 2/2 [00:00<00:00, 28.75it/s]\n"
     ]
    },
    {
     "name": "stdout",
     "output_type": "stream",
     "text": [
      "category/stiri-din-romania/\n"
     ]
    },
    {
     "name": "stderr",
     "output_type": "stream",
     "text": [
      "100%|██████████| 4/4 [00:00<00:00, 56.24it/s]\n"
     ]
    },
    {
     "name": "stdout",
     "output_type": "stream",
     "text": [
      "category/actualitate/\n"
     ]
    },
    {
     "name": "stderr",
     "output_type": "stream",
     "text": [
      "100%|██████████| 4/4 [00:00<00:00, 61.14it/s]\n"
     ]
    },
    {
     "name": "stdout",
     "output_type": "stream",
     "text": [
      "category/curiozitati-staiti-ca/\n"
     ]
    },
    {
     "name": "stderr",
     "output_type": "stream",
     "text": [
      "100%|██████████| 4/4 [00:00<00:00, 44.99it/s]\n"
     ]
    }
   ],
   "source": [
    "nlp = spacy.load(\"ro_core_news_sm\")\n",
    "pos_tag = [\"PROPN\", \"ADJ\", \"NOUN\"]\n",
    "\n",
    "domain_word_count1 = []\n",
    "for domain in df[\"domain\"].unique():\n",
    "\n",
    "    print(domain)\n",
    "\n",
    "    with gzip.open(f\"../models/pickles/docs_per_domain_{domain.replace('/', '_')}_balanced.gzip\", \"rb\") as o:\n",
    "        domain_word_count = pickle.load(o)\n",
    "\n",
    "    ner_object_frequecy: dict[str, int] = {}\n",
    "    ner_tag_object: dict[str, list[str]] = {}\n",
    "\n",
    "    for doc in tqdm.tqdm(domain_word_count[\"docs\"]):\n",
    "        for doc, ent in zip(doc, doc.ents):\n",
    "\n",
    "            if doc.text in nlp.Defaults.stop_words or doc.text in string.punctuation:\n",
    "                continue\n",
    "\n",
    "            if doc.pos_ in pos_tag:\n",
    "                if ent.text not in ner_object_frequecy.keys():\n",
    "                    ner_object_frequecy[ent.text] = 1\n",
    "                else:\n",
    "                    ner_object_frequecy[ent.text] += 1\n",
    "\n",
    "                if ent.label_ not in ner_tag_object.keys():\n",
    "                    ner_tag_object[ent.label_] = [ent.text]\n",
    "                else:\n",
    "                    ner_tag_object[ent.label_].append(ent.text)\n",
    "\n",
    "    sorted_tags = dict(sorted(ner_object_frequecy.items(), key=lambda item: item[1], reverse=True))\n",
    "    index: int = 10\n",
    "\n",
    "    del domain_word_count\n",
    "\n",
    "    gc.collect()\n",
    "\n",
    "    domains = []\n",
    "    for word in sorted_tags:\n",
    "        tag_: str = \"\"\n",
    "        for tag in ner_tag_object:\n",
    "            if word in ner_tag_object[tag]:\n",
    "                tag_ = tag\n",
    "                break\n",
    "\n",
    "        domains.append(\n",
    "            {\n",
    "                \"domain\": domain,\n",
    "                \"type\": \"valid\" if valid_or_fake(domain) else \"fake\",\n",
    "                \"word\": word,\n",
    "                \"word_freq\": ner_object_frequecy[word],\n",
    "                \"tag\": tag_,\n",
    "            }\n",
    "        )\n",
    "        index -= 1\n",
    "        if index == 0:\n",
    "            break\n",
    "\n",
    "    fig = px.histogram(\n",
    "        domains, x=\"word\", y=\"word_freq\", color=\"tag\", text_auto=\".2s\", barmode=\"group\"\n",
    "    )\n",
    "    fig.write_html(f\"../visualization/charts/KeyWord_{domain.replace('/', '_')}_NER_tag.html\")\n",
    "    fig.write_image(f\"../visualization/charts/KeyWord_{domain.replace('/', '_')}_NER_tag.png\")\n",
    "\n",
    "    del fig\n",
    "    gc.collect()\n"
   ]
  },
  {
   "cell_type": "markdown",
   "metadata": {},
   "source": [
    "# TF-IDF"
   ]
  },
  {
   "cell_type": "code",
   "execution_count": 21,
   "metadata": {},
   "outputs": [],
   "source": [
    "import tqdm\n",
    "import sklearn.feature_extraction.text as skltext\n"
   ]
  },
  {
   "cell_type": "code",
   "execution_count": 22,
   "metadata": {},
   "outputs": [
    {
     "name": "stderr",
     "output_type": "stream",
     "text": [
      "100%|██████████| 33/33 [00:35<00:00,  1.08s/it]\n"
     ]
    }
   ],
   "source": [
    "tfidf_domain = []\n",
    "for domain in tqdm.tqdm(df[\"domain\"].unique()):\n",
    "\n",
    "    vectorizer = skltext.TfidfVectorizer()\n",
    "    tfidf = vectorizer.fit_transform(df[df.domain == domain][\"content\"])\n",
    "\n",
    "    tfidf_domain.append(\n",
    "        {\n",
    "            \"domain\": domain,\n",
    "            \"tfidf\": tfidf,\n",
    "            \"type\": \"valid\" if valid_or_fake(domain) else \"fake\",\n",
    "            \"vectorizer\": vectorizer,\n",
    "        }\n",
    "    )\n"
   ]
  },
  {
   "cell_type": "code",
   "execution_count": 24,
   "metadata": {},
   "outputs": [],
   "source": [
    "# import gzip\n",
    "# import pickle\n",
    "# with gzip.open(\"../models/pickles/tfidf_per_domain_all_balanced.gzip\", \"wb\") as o:\n",
    "#     pickle.dump(tfidf_domain, o)\n"
   ]
  },
  {
   "cell_type": "code",
   "execution_count": 23,
   "metadata": {},
   "outputs": [
    {
     "ename": "FileNotFoundError",
     "evalue": "[Errno 2] No such file or directory: '../models/pickles/tfidf_per_domain_all_balanced.gzip'",
     "output_type": "error",
     "traceback": [
      "\u001b[0;31m---------------------------------------------------------------------------\u001b[0m",
      "\u001b[0;31mFileNotFoundError\u001b[0m                         Traceback (most recent call last)",
      "\u001b[1;32m/home/ioachimlihor/Licenta/Project/licenta/notebooks/analyze_and_study_data_balanced.ipynb Cell 48'\u001b[0m in \u001b[0;36m<cell line: 4>\u001b[0;34m()\u001b[0m\n\u001b[1;32m      <a href='vscode-notebook-cell:/home/ioachimlihor/Licenta/Project/licenta/notebooks/analyze_and_study_data_balanced.ipynb#ch0000052?line=0'>1</a>\u001b[0m \u001b[39mimport\u001b[39;00m \u001b[39mgzip\u001b[39;00m\n\u001b[1;32m      <a href='vscode-notebook-cell:/home/ioachimlihor/Licenta/Project/licenta/notebooks/analyze_and_study_data_balanced.ipynb#ch0000052?line=1'>2</a>\u001b[0m \u001b[39mimport\u001b[39;00m \u001b[39mpickle\u001b[39;00m\n\u001b[0;32m----> <a href='vscode-notebook-cell:/home/ioachimlihor/Licenta/Project/licenta/notebooks/analyze_and_study_data_balanced.ipynb#ch0000052?line=3'>4</a>\u001b[0m \u001b[39mwith\u001b[39;00m gzip\u001b[39m.\u001b[39mopen(\u001b[39m\"\u001b[39m\u001b[39m../models/pickles/tfidf_per_domain_all_balanced.gzip\u001b[39m\u001b[39m\"\u001b[39m, \u001b[39m\"\u001b[39m\u001b[39mrb\u001b[39m\u001b[39m\"\u001b[39m) \u001b[39mas\u001b[39;00m o:\n\u001b[1;32m      <a href='vscode-notebook-cell:/home/ioachimlihor/Licenta/Project/licenta/notebooks/analyze_and_study_data_balanced.ipynb#ch0000052?line=4'>5</a>\u001b[0m     tfidf_domain \u001b[39m=\u001b[39m pickle\u001b[39m.\u001b[39mload(o)\n",
      "File \u001b[0;32m/usr/lib64/python3.10/gzip.py:58\u001b[0m, in \u001b[0;36mopen\u001b[0;34m(filename, mode, compresslevel, encoding, errors, newline)\u001b[0m\n\u001b[1;32m     <a href='file:///usr/lib64/python3.10/gzip.py?line=55'>56</a>\u001b[0m gz_mode \u001b[39m=\u001b[39m mode\u001b[39m.\u001b[39mreplace(\u001b[39m\"\u001b[39m\u001b[39mt\u001b[39m\u001b[39m\"\u001b[39m, \u001b[39m\"\u001b[39m\u001b[39m\"\u001b[39m)\n\u001b[1;32m     <a href='file:///usr/lib64/python3.10/gzip.py?line=56'>57</a>\u001b[0m \u001b[39mif\u001b[39;00m \u001b[39misinstance\u001b[39m(filename, (\u001b[39mstr\u001b[39m, \u001b[39mbytes\u001b[39m, os\u001b[39m.\u001b[39mPathLike)):\n\u001b[0;32m---> <a href='file:///usr/lib64/python3.10/gzip.py?line=57'>58</a>\u001b[0m     binary_file \u001b[39m=\u001b[39m GzipFile(filename, gz_mode, compresslevel)\n\u001b[1;32m     <a href='file:///usr/lib64/python3.10/gzip.py?line=58'>59</a>\u001b[0m \u001b[39melif\u001b[39;00m \u001b[39mhasattr\u001b[39m(filename, \u001b[39m\"\u001b[39m\u001b[39mread\u001b[39m\u001b[39m\"\u001b[39m) \u001b[39mor\u001b[39;00m \u001b[39mhasattr\u001b[39m(filename, \u001b[39m\"\u001b[39m\u001b[39mwrite\u001b[39m\u001b[39m\"\u001b[39m):\n\u001b[1;32m     <a href='file:///usr/lib64/python3.10/gzip.py?line=59'>60</a>\u001b[0m     binary_file \u001b[39m=\u001b[39m GzipFile(\u001b[39mNone\u001b[39;00m, gz_mode, compresslevel, filename)\n",
      "File \u001b[0;32m/usr/lib64/python3.10/gzip.py:174\u001b[0m, in \u001b[0;36mGzipFile.__init__\u001b[0;34m(self, filename, mode, compresslevel, fileobj, mtime)\u001b[0m\n\u001b[1;32m    <a href='file:///usr/lib64/python3.10/gzip.py?line=171'>172</a>\u001b[0m     mode \u001b[39m+\u001b[39m\u001b[39m=\u001b[39m \u001b[39m'\u001b[39m\u001b[39mb\u001b[39m\u001b[39m'\u001b[39m\n\u001b[1;32m    <a href='file:///usr/lib64/python3.10/gzip.py?line=172'>173</a>\u001b[0m \u001b[39mif\u001b[39;00m fileobj \u001b[39mis\u001b[39;00m \u001b[39mNone\u001b[39;00m:\n\u001b[0;32m--> <a href='file:///usr/lib64/python3.10/gzip.py?line=173'>174</a>\u001b[0m     fileobj \u001b[39m=\u001b[39m \u001b[39mself\u001b[39m\u001b[39m.\u001b[39mmyfileobj \u001b[39m=\u001b[39m builtins\u001b[39m.\u001b[39;49mopen(filename, mode \u001b[39mor\u001b[39;49;00m \u001b[39m'\u001b[39;49m\u001b[39mrb\u001b[39;49m\u001b[39m'\u001b[39;49m)\n\u001b[1;32m    <a href='file:///usr/lib64/python3.10/gzip.py?line=174'>175</a>\u001b[0m \u001b[39mif\u001b[39;00m filename \u001b[39mis\u001b[39;00m \u001b[39mNone\u001b[39;00m:\n\u001b[1;32m    <a href='file:///usr/lib64/python3.10/gzip.py?line=175'>176</a>\u001b[0m     filename \u001b[39m=\u001b[39m \u001b[39mgetattr\u001b[39m(fileobj, \u001b[39m'\u001b[39m\u001b[39mname\u001b[39m\u001b[39m'\u001b[39m, \u001b[39m'\u001b[39m\u001b[39m'\u001b[39m)\n",
      "\u001b[0;31mFileNotFoundError\u001b[0m: [Errno 2] No such file or directory: '../models/pickles/tfidf_per_domain_all_balanced.gzip'"
     ]
    }
   ],
   "source": [
    "import gzip\n",
    "import pickle\n",
    "\n",
    "with gzip.open(\"../models/pickles/tfidf_per_domain_all_balanced.gzip\", \"rb\") as o:\n",
    "    tfidf_domain = pickle.load(o)\n"
   ]
  },
  {
   "cell_type": "code",
   "execution_count": 25,
   "metadata": {},
   "outputs": [
    {
     "name": "stderr",
     "output_type": "stream",
     "text": [
      "/home/ioachimlihor/.local/lib/python3.10/site-packages/sklearn/utils/deprecation.py:87: FutureWarning:\n",
      "\n",
      "Function get_feature_names is deprecated; get_feature_names is deprecated in 1.0 and will be removed in 1.2. Please use get_feature_names_out instead.\n",
      "\n",
      "/tmp/ipykernel_40461/3647615034.py:18: SettingWithCopyWarning:\n",
      "\n",
      "\n",
      "A value is trying to be set on a copy of a slice from a DataFrame.\n",
      "Try using .loc[row_indexer,col_indexer] = value instead\n",
      "\n",
      "See the caveats in the documentation: https://pandas.pydata.org/pandas-docs/stable/user_guide/indexing.html#returning-a-view-versus-a-copy\n",
      "\n"
     ]
    }
   ],
   "source": [
    "df_total: pd.DataFrame = pd.DataFrame(columns=[\"TF-IDF\", \"features\", \"domain\", \"type\"])\n",
    "\n",
    "for domain in tfidf_domain:\n",
    "    tfidf_list = domain[\"tfidf\"][0].T.todense()\n",
    "    df = pd.DataFrame(\n",
    "        list(\n",
    "            zip(\n",
    "                tfidf_list,\n",
    "                domain[\"vectorizer\"].get_feature_names(),\n",
    "                [domain[\"domain\"] for _ in range(len(tfidf_list))],\n",
    "                [domain[\"type\"] for _ in range(len(tfidf_list))],\n",
    "            )\n",
    "        ),\n",
    "        columns=[\"TF-IDF\", \"features\", \"domain\", \"type\"],\n",
    "    )\n",
    "    df = df.sort_values(\"TF-IDF\", ascending=False)\n",
    "    df_ = df.head(25)\n",
    "    df_[\"TF-IDF\"] = [elem.item(0) for elem in df_[\"TF-IDF\"]]\n",
    "\n",
    "    df_total = pd.concat([df_total, df_])\n"
   ]
  },
  {
   "cell_type": "code",
   "execution_count": 26,
   "metadata": {},
   "outputs": [],
   "source": [
    "for domain in df_total[\"domain\"].unique():\n",
    "    fig = px.histogram(\n",
    "        df_total[df_total.domain == domain],\n",
    "        x=\"domain\",\n",
    "        y=\"TF-IDF\",\n",
    "        color=\"features\",\n",
    "        text_auto=\".2s\",\n",
    "        barmode=\"group\",\n",
    "        title=f\"{domain}\",\n",
    "    )\n",
    "    fig.write_html(f\"../visualization/charts/TFIDF_{domain.replace('/', '_')}_NER_tag.html\")\n",
    "    fig.write_image(f\"../visualization/charts/TFIDF_{domain.replace('/', '_')}_NER_tag.png\")\n"
   ]
  },
  {
   "cell_type": "markdown",
   "metadata": {},
   "source": [
    "# Plot POS"
   ]
  },
  {
   "cell_type": "code",
   "execution_count": 32,
   "metadata": {},
   "outputs": [],
   "source": [
    "import tqdm\n"
   ]
  },
  {
   "cell_type": "code",
   "execution_count": 33,
   "metadata": {},
   "outputs": [
    {
     "name": "stdout",
     "output_type": "stream",
     "text": [
      "stiri/actualitate\n"
     ]
    },
    {
     "name": "stderr",
     "output_type": "stream",
     "text": [
      "100%|██████████| 14727/14727 [19:39<00:00, 12.49it/s]\n"
     ]
    },
    {
     "name": "stdout",
     "output_type": "stream",
     "text": [
      "stiri/externe\n"
     ]
    },
    {
     "name": "stderr",
     "output_type": "stream",
     "text": [
      "100%|██████████| 8922/8922 [10:04<00:00, 14.77it/s]\n"
     ]
    },
    {
     "name": "stdout",
     "output_type": "stream",
     "text": [
      "stiri/actualitate/politica\n"
     ]
    },
    {
     "name": "stderr",
     "output_type": "stream",
     "text": [
      "100%|██████████| 13476/13476 [16:16<00:00, 13.81it/s]\n"
     ]
    },
    {
     "name": "stdout",
     "output_type": "stream",
     "text": [
      "stiri/economie\n"
     ]
    },
    {
     "name": "stderr",
     "output_type": "stream",
     "text": [
      "100%|██████████| 8388/8388 [10:18<00:00, 13.56it/s]\n"
     ]
    },
    {
     "name": "stdout",
     "output_type": "stream",
     "text": [
      "stiri/sci-tech\n"
     ]
    },
    {
     "name": "stderr",
     "output_type": "stream",
     "text": [
      "100%|██████████| 822/822 [01:06<00:00, 12.28it/s]\n"
     ]
    },
    {
     "name": "stdout",
     "output_type": "stream",
     "text": [
      "stiri/sport\n"
     ]
    },
    {
     "name": "stderr",
     "output_type": "stream",
     "text": [
      "100%|██████████| 1500/1500 [01:59<00:00, 12.57it/s]\n"
     ]
    },
    {
     "name": "stdout",
     "output_type": "stream",
     "text": [
      "category/politica/\n"
     ]
    },
    {
     "name": "stderr",
     "output_type": "stream",
     "text": [
      "100%|██████████| 19032/19032 [24:01<00:00, 13.20it/s] \n"
     ]
    },
    {
     "name": "stdout",
     "output_type": "stream",
     "text": [
      "monden/\n"
     ]
    },
    {
     "name": "stderr",
     "output_type": "stream",
     "text": [
      "100%|██████████| 2779/2779 [01:50<00:00, 25.24it/s]\n"
     ]
    },
    {
     "name": "stdout",
     "output_type": "stream",
     "text": [
      "category/news/\n"
     ]
    },
    {
     "name": "stderr",
     "output_type": "stream",
     "text": [
      "100%|██████████| 11063/11063 [15:19<00:00, 12.03it/s]\n"
     ]
    },
    {
     "name": "stdout",
     "output_type": "stream",
     "text": [
      "category/externe/\n"
     ]
    },
    {
     "name": "stderr",
     "output_type": "stream",
     "text": [
      "100%|██████████| 2970/2970 [03:13<00:00, 15.38it/s]\n"
     ]
    },
    {
     "name": "stdout",
     "output_type": "stream",
     "text": [
      "politic/\n"
     ]
    },
    {
     "name": "stderr",
     "output_type": "stream",
     "text": [
      "100%|██████████| 1628/1628 [01:07<00:00, 24.08it/s]\n"
     ]
    },
    {
     "name": "stdout",
     "output_type": "stream",
     "text": [
      "category/opinii/\n"
     ]
    },
    {
     "name": "stderr",
     "output_type": "stream",
     "text": [
      "100%|██████████| 126/126 [00:14<00:00,  8.53it/s]\n"
     ]
    },
    {
     "name": "stdout",
     "output_type": "stream",
     "text": [
      "life-death/\n"
     ]
    },
    {
     "name": "stderr",
     "output_type": "stream",
     "text": [
      "100%|██████████| 2227/2227 [01:32<00:00, 24.20it/s]\n"
     ]
    },
    {
     "name": "stdout",
     "output_type": "stream",
     "text": [
      "category/stiri-politica/\n"
     ]
    },
    {
     "name": "stderr",
     "output_type": "stream",
     "text": [
      "100%|██████████| 288/288 [00:20<00:00, 14.19it/s]\n"
     ]
    },
    {
     "name": "stdout",
     "output_type": "stream",
     "text": [
      "it-stiinta/\n"
     ]
    },
    {
     "name": "stderr",
     "output_type": "stream",
     "text": [
      "100%|██████████| 807/807 [00:34<00:00, 23.70it/s]\n"
     ]
    },
    {
     "name": "stdout",
     "output_type": "stream",
     "text": [
      "category/stiri-sanatate-stiri-fitness-stiri-slabire/\n"
     ]
    },
    {
     "name": "stderr",
     "output_type": "stream",
     "text": [
      "100%|██████████| 569/569 [00:39<00:00, 14.29it/s]\n"
     ]
    },
    {
     "name": "stdout",
     "output_type": "stream",
     "text": [
      "category/analize/\n"
     ]
    },
    {
     "name": "stderr",
     "output_type": "stream",
     "text": [
      "100%|██████████| 711/711 [01:28<00:00,  8.08it/s]\n"
     ]
    },
    {
     "name": "stdout",
     "output_type": "stream",
     "text": [
      "category/stirile-zilei/\n"
     ]
    },
    {
     "name": "stderr",
     "output_type": "stream",
     "text": [
      "100%|██████████| 1718/1718 [01:47<00:00, 16.04it/s]\n"
     ]
    },
    {
     "name": "stdout",
     "output_type": "stream",
     "text": [
      "category/stiri-internationale/\n"
     ]
    },
    {
     "name": "stderr",
     "output_type": "stream",
     "text": [
      "100%|██████████| 277/277 [00:17<00:00, 15.96it/s]\n"
     ]
    },
    {
     "name": "stdout",
     "output_type": "stream",
     "text": [
      "stiri/\n"
     ]
    },
    {
     "name": "stderr",
     "output_type": "stream",
     "text": [
      "100%|██████████| 2865/2865 [01:40<00:00, 28.37it/s]\n"
     ]
    },
    {
     "name": "stdout",
     "output_type": "stream",
     "text": [
      "category/life/\n"
     ]
    },
    {
     "name": "stderr",
     "output_type": "stream",
     "text": [
      "100%|██████████| 284/284 [00:16<00:00, 17.03it/s]\n"
     ]
    },
    {
     "name": "stdout",
     "output_type": "stream",
     "text": [
      "covid/\n"
     ]
    },
    {
     "name": "stderr",
     "output_type": "stream",
     "text": [
      "100%|██████████| 188/188 [00:05<00:00, 35.24it/s]\n"
     ]
    },
    {
     "name": "stdout",
     "output_type": "stream",
     "text": [
      "sport/\n"
     ]
    },
    {
     "name": "stderr",
     "output_type": "stream",
     "text": [
      "100%|██████████| 339/339 [00:13<00:00, 24.40it/s]\n"
     ]
    },
    {
     "name": "stdout",
     "output_type": "stream",
     "text": [
      "\n"
     ]
    },
    {
     "name": "stderr",
     "output_type": "stream",
     "text": [
      "100%|██████████| 672/672 [00:41<00:00, 16.03it/s]\n"
     ]
    },
    {
     "name": "stdout",
     "output_type": "stream",
     "text": [
      "category/stiri-de-pe-mapamond/\n"
     ]
    },
    {
     "name": "stderr",
     "output_type": "stream",
     "text": [
      "100%|██████████| 4/4 [00:00<00:00, 17.26it/s]\n"
     ]
    },
    {
     "name": "stdout",
     "output_type": "stream",
     "text": [
      "category/utile/\n"
     ]
    },
    {
     "name": "stderr",
     "output_type": "stream",
     "text": [
      "100%|██████████| 337/337 [00:22<00:00, 14.87it/s]\n"
     ]
    },
    {
     "name": "stdout",
     "output_type": "stream",
     "text": [
      "category/timp-liber/\n"
     ]
    },
    {
     "name": "stderr",
     "output_type": "stream",
     "text": [
      "100%|██████████| 154/154 [00:13<00:00, 11.28it/s]\n"
     ]
    },
    {
     "name": "stdout",
     "output_type": "stream",
     "text": [
      "category/money/\n"
     ]
    },
    {
     "name": "stderr",
     "output_type": "stream",
     "text": [
      "100%|██████████| 125/125 [00:10<00:00, 12.08it/s]\n"
     ]
    },
    {
     "name": "stdout",
     "output_type": "stream",
     "text": [
      "category/sanatate-si-medicina/\n"
     ]
    },
    {
     "name": "stderr",
     "output_type": "stream",
     "text": [
      "100%|██████████| 2/2 [00:00<00:00,  7.58it/s]\n"
     ]
    },
    {
     "name": "stdout",
     "output_type": "stream",
     "text": [
      "category/mistere-de-pe-mapamond/\n"
     ]
    },
    {
     "name": "stderr",
     "output_type": "stream",
     "text": [
      "100%|██████████| 2/2 [00:00<00:00,  6.15it/s]\n"
     ]
    },
    {
     "name": "stdout",
     "output_type": "stream",
     "text": [
      "category/stiri-din-romania/\n"
     ]
    },
    {
     "name": "stderr",
     "output_type": "stream",
     "text": [
      "100%|██████████| 4/4 [00:00<00:00, 22.44it/s]\n"
     ]
    },
    {
     "name": "stdout",
     "output_type": "stream",
     "text": [
      "category/actualitate/\n"
     ]
    },
    {
     "name": "stderr",
     "output_type": "stream",
     "text": [
      "100%|██████████| 4/4 [00:00<00:00, 24.33it/s]\n"
     ]
    },
    {
     "name": "stdout",
     "output_type": "stream",
     "text": [
      "category/curiozitati-staiti-ca/\n"
     ]
    },
    {
     "name": "stderr",
     "output_type": "stream",
     "text": [
      "100%|██████████| 4/4 [00:00<00:00,  9.65it/s]\n"
     ]
    }
   ],
   "source": [
    "nlp = spacy.load(\"ro_core_news_sm\")\n",
    "\n",
    "domain_word_count = []\n",
    "for domain in df[\"domain\"].unique():\n",
    "    print(domain)\n",
    "    pos_object_frequecy: dict[str, int] = {}\n",
    "    pos_tag_object: dict[str, list[str]] = {}\n",
    "\n",
    "    for news in tqdm.tqdm(df[df.domain == domain][\"content\"]):\n",
    "        doc = nlp(news)\n",
    "        for ent in doc:\n",
    "\n",
    "            if ent.text not in pos_object_frequecy.keys():\n",
    "                pos_object_frequecy[ent.text] = 1\n",
    "            else:\n",
    "                pos_object_frequecy[ent.text] += 1\n",
    "\n",
    "            if ent.pos_ not in pos_tag_object.keys():\n",
    "                pos_tag_object[ent.pos_] = [ent.text]\n",
    "            else:\n",
    "                pos_tag_object[ent.pos_].append(ent.text)\n",
    "    domain_word_count.append(\n",
    "        {\n",
    "            \"domain\": domain,\n",
    "            \"pos_object_frequecy\": pos_object_frequecy,\n",
    "            \"pos_tag_object\": pos_tag_object,\n",
    "            \"type\": \"valid\" if valid_or_fake(domain) else \"fake\",\n",
    "        }\n",
    "    )\n"
   ]
  },
  {
   "cell_type": "code",
   "execution_count": 34,
   "metadata": {},
   "outputs": [],
   "source": [
    "import gzip\n",
    "import pickle\n",
    "\n",
    "with gzip.open(\"../models/pickles/pos_per_domain_balanced.gzip\", \"wb\") as o:\n",
    "    pickle.dump(domain_word_count, o)\n"
   ]
  },
  {
   "cell_type": "code",
   "execution_count": 18,
   "metadata": {},
   "outputs": [],
   "source": [
    "# import gzip\n",
    "# import pickle\n",
    "\n",
    "# with gzip.open(\"../models/pickles/pos_per_domain_balanced.gzip\", \"rb\") as o:\n",
    "#     domain_word_count_fake = pickle.load(o)\n"
   ]
  },
  {
   "cell_type": "code",
   "execution_count": 35,
   "metadata": {},
   "outputs": [],
   "source": [
    "domains = []\n",
    "for domain in domain_word_count:\n",
    "    for tag in domain[\"pos_tag_object\"]:\n",
    "        domains.append(\n",
    "            {\n",
    "                \"domain\": domain[\"domain\"],\n",
    "                \"type\": domain[\"type\"],\n",
    "                \"tag\": tag,\n",
    "                \"tag_length\": len(domain[\"pos_tag_object\"][tag]),\n",
    "            }\n",
    "        )\n",
    "\n",
    "fig = px.histogram(domains, x=\"tag\", y=\"tag_length\", color=\"domain\", text_auto=\".2s\")\n",
    "fig.write_html(f\"../visualization/charts/POS_domain_count_per_tag.html\")\n",
    "fig.write_image(f\"../visualization/charts/POS_domain_count_per_tag.png\")\n"
   ]
  },
  {
   "cell_type": "code",
   "execution_count": 36,
   "metadata": {},
   "outputs": [],
   "source": [
    "domains = []\n",
    "for domain in domain_word_count:\n",
    "    for tag in domain[\"pos_tag_object\"]:\n",
    "        domains.append(\n",
    "            {\n",
    "                \"domain\": domain[\"domain\"],\n",
    "                \"type\": domain[\"type\"],\n",
    "                \"tag\": tag,\n",
    "                \"tag_length\": len(domain[\"pos_tag_object\"][tag]),\n",
    "            }\n",
    "        )\n",
    "\n",
    "fig = px.histogram(domains, x=\"domain\", y=\"tag_length\", color=\"tag\", text_auto=\".2s\")\n",
    "fig.write_html(f\"../visualization/charts/POS_tag_count_per_domain.html\")\n",
    "fig.write_image(f\"../visualization/charts/POS_tag_count_per_domain.png\")\n"
   ]
  },
  {
   "cell_type": "code",
   "execution_count": 37,
   "metadata": {},
   "outputs": [],
   "source": [
    "domains = []\n",
    "for domain in domain_word_count:\n",
    "    for tag in domain[\"pos_tag_object\"]:\n",
    "        domains.append(\n",
    "            {\n",
    "                \"domain\": domain[\"domain\"],\n",
    "                \"type\": domain[\"type\"],\n",
    "                \"tag\": tag,\n",
    "                \"tag_length\": len(domain[\"pos_tag_object\"][tag]),\n",
    "            }\n",
    "        )\n",
    "\n",
    "fig = px.histogram(\n",
    "    domains, x=\"domain\", y=\"tag_length\", color=\"tag\", text_auto=\".2s\", barmode=\"group\"\n",
    ")\n",
    "fig.write_html(f\"../visualization/charts/POS_tag_count_per_domain_groupbar.html\")\n",
    "fig.write_image(f\"../visualization/charts/POS_tag_count_per_domain_groupbar.png\")\n"
   ]
  },
  {
   "cell_type": "code",
   "execution_count": 38,
   "metadata": {},
   "outputs": [],
   "source": [
    "domains = []\n",
    "for domain in domain_word_count:\n",
    "    sorted_tags = dict(\n",
    "        sorted(domain[\"pos_object_frequecy\"].items(), key=lambda item: item[1], reverse=True)\n",
    "    )\n",
    "    index: int = 10\n",
    "\n",
    "    for word in sorted_tags:\n",
    "        domains.append(\n",
    "            {\n",
    "                \"domain\": domain[\"domain\"],\n",
    "                \"type\": domain[\"type\"],\n",
    "                \"word\": word,\n",
    "                \"word_freq\": domain[\"pos_object_frequecy\"][word],\n",
    "            }\n",
    "        )\n",
    "        index -= 1\n",
    "        if index == 0:\n",
    "            break\n",
    "\n",
    "fig = px.histogram(domains, x=\"domain\", y=\"word_freq\", color=\"word\", text_auto=\".2s\")\n",
    "fig.write_html(f\"../visualization/charts/POS_top_10_words_by_frequency_per_tag_per_domain.html\")\n",
    "fig.write_image(f\"../visualization/charts/POS_top_10_words_by_frequency_per_tag_per_domain.png\")\n"
   ]
  },
  {
   "cell_type": "code",
   "execution_count": 39,
   "metadata": {},
   "outputs": [],
   "source": [
    "domains = []\n",
    "for domain in domain_word_count:\n",
    "    sorted_tags = dict(\n",
    "        sorted(domain[\"pos_object_frequecy\"].items(), key=lambda item: item[1], reverse=True)\n",
    "    )\n",
    "    index: int = 10\n",
    "\n",
    "    for word in sorted_tags:\n",
    "        tag_: str = \"\"\n",
    "        for tag in domain[\"pos_tag_object\"]:\n",
    "            if word in domain[\"pos_tag_object\"][tag]:\n",
    "                tag_ = tag\n",
    "                break\n",
    "\n",
    "        domains.append(\n",
    "            {\n",
    "                \"domain\": domain[\"domain\"],\n",
    "                \"type\": domain[\"type\"],\n",
    "                \"word\": word,\n",
    "                \"word_freq\": domain[\"pos_object_frequecy\"][word],\n",
    "                \"tag\": tag_,\n",
    "            }\n",
    "        )\n",
    "        index -= 1\n",
    "        if index == 0:\n",
    "            break\n",
    "\n",
    "\n",
    "fig = px.histogram(\n",
    "    domains, x=\"domain\", y=\"word_freq\", color=\"word\", text_auto=\".2s\", barmode=\"group\"\n",
    ")\n",
    "fig.write_html(\n",
    "    f\"../visualization/charts/POS_top_10_words_by_frequency_per_tag_per_domain_groupbar.html\"\n",
    ")\n",
    "fig.write_image(\n",
    "    f\"../visualization/charts/POS_top_10_words_by_frequency_per_tag_per_domain_groupbar.png\"\n",
    ")\n"
   ]
  },
  {
   "cell_type": "code",
   "execution_count": 40,
   "metadata": {},
   "outputs": [],
   "source": [
    "domains = []\n",
    "for domain in domain_word_count:\n",
    "    sorted_tags = dict(\n",
    "        sorted(domain[\"pos_object_frequecy\"].items(), key=lambda item: item[1], reverse=True)\n",
    "    )\n",
    "    index: int = 10\n",
    "\n",
    "    for word in sorted_tags:\n",
    "        tag_: str = \"\"\n",
    "        for tag in domain[\"pos_tag_object\"]:\n",
    "            if word in domain[\"pos_tag_object\"][tag]:\n",
    "                tag_ = tag\n",
    "                break\n",
    "\n",
    "        domains.append(\n",
    "            {\n",
    "                \"domain\": domain[\"domain\"],\n",
    "                \"type\": domain[\"type\"],\n",
    "                \"word\": word,\n",
    "                \"word_freq\": domain[\"pos_object_frequecy\"][word],\n",
    "                \"tag\": tag_,\n",
    "            }\n",
    "        )\n",
    "        index -= 1\n",
    "        if index == 0:\n",
    "            break\n",
    "\n",
    "fig = px.histogram(\n",
    "    domains, x=\"domain\", y=\"word_freq\", color=\"tag\", text_auto=\".2s\", barmode=\"group\"\n",
    ")\n",
    "fig.write_html(\n",
    "    f\"../visualization/charts/POS_top_10_words_by_frequency_per_domain_per_tag_groupbar.html\"\n",
    ")\n",
    "fig.write_image(\n",
    "    f\"../visualization/charts/POS_top_10_words_by_frequency_per_domain_per_tag_groupbar.png\"\n",
    ")\n"
   ]
  }
 ],
 "metadata": {
  "interpreter": {
   "hash": "ad6fb52b133632c022ef432d36f1fb015b2521118402e90bfda3af52f5ffd485"
  },
  "kernelspec": {
   "display_name": "Python 3.10.2 ('licenta-env': venv)",
   "language": "python",
   "name": "python3"
  },
  "language_info": {
   "codemirror_mode": {
    "name": "ipython",
    "version": 3
   },
   "file_extension": ".py",
   "mimetype": "text/x-python",
   "name": "python",
   "nbconvert_exporter": "python",
   "pygments_lexer": "ipython3",
   "version": "3.10.3"
  },
  "orig_nbformat": 4
 },
 "nbformat": 4,
 "nbformat_minor": 2
}
