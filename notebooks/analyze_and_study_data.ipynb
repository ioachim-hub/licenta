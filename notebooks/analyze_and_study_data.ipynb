{
 "cells": [
  {
   "cell_type": "code",
   "execution_count": 6,
   "metadata": {},
   "outputs": [],
   "source": [
    "import re\n",
    "import pickle\n",
    "\n",
    "import spacy\n",
    "import numpy as np\n",
    "import pandas as pd\n",
    "\n",
    "from src.cleaner.model import Cleaner\n",
    "import plotly.express as px"
   ]
  },
  {
   "cell_type": "code",
   "execution_count": 2,
   "metadata": {},
   "outputs": [],
   "source": [
    "import plotly.io as pio\n",
    "pio.renderers.default = \"notebook_connected\""
   ]
  },
  {
   "cell_type": "code",
   "execution_count": 3,
   "metadata": {},
   "outputs": [],
   "source": [
    "df = pd.read_parquet(\"../data/processed/scrapped_cleaned.gzip\")"
   ]
  },
  {
   "cell_type": "code",
   "execution_count": 135,
   "metadata": {},
   "outputs": [
    {
     "data": {
      "text/plain": [
       "Index(['_id', 'site', 'domain', 'title', 'content', 'date', 'link',\n",
       "       'title_skipped_because_min_length', 'title_skipped_alpha_count',\n",
       "       'title_skipped_because_max_numeric',\n",
       "       'title_skipped_because_max_non_ascii',\n",
       "       'title_skipped_because_forbidden_chars',\n",
       "       'content_skipped_because_min_length', 'content_skipped_alpha_count',\n",
       "       'content_skipped_because_max_numeric',\n",
       "       'content_skipped_because_max_non_ascii',\n",
       "       'content_skipped_because_forbidden_chars'],\n",
       "      dtype='object')"
      ]
     },
     "execution_count": 135,
     "metadata": {},
     "output_type": "execute_result"
    }
   ],
   "source": [
    "df.columns"
   ]
  },
  {
   "cell_type": "code",
   "execution_count": 136,
   "metadata": {},
   "outputs": [],
   "source": [
    "with open(\"../data/processed/stats/scrapped.pickle\", \"rb\") as o:\n",
    "    stats = pickle.load(o)"
   ]
  },
  {
   "cell_type": "code",
   "execution_count": 41,
   "metadata": {},
   "outputs": [
    {
     "data": {
      "text/plain": [
       "{'title_skipped_because_min_length': array([7714,   75], dtype=uint64),\n",
       " 'title_skipped_alpha_count': array([  7, 476], dtype=uint64),\n",
       " 'title_skipped_because_max_numeric': array([  59, 3983], dtype=uint64),\n",
       " 'title_skipped_because_max_non_ascii': array([0, 0], dtype=uint64),\n",
       " 'title_skipped_because_forbidden_chars': array([  7, 591], dtype=uint64),\n",
       " 'content_skipped_because_min_length': array([   9325, 1081111], dtype=uint64),\n",
       " 'content_skipped_alpha_count': array([    38, 118124], dtype=uint64),\n",
       " 'content_skipped_because_max_numeric': array([   26, 35149], dtype=uint64),\n",
       " 'content_skipped_because_max_non_ascii': array([0, 0], dtype=uint64),\n",
       " 'content_skipped_because_forbidden_chars': array([    63, 213157], dtype=uint64)}"
      ]
     },
     "execution_count": 41,
     "metadata": {},
     "output_type": "execute_result"
    }
   ],
   "source": [
    "stats"
   ]
  },
  {
   "cell_type": "code",
   "execution_count": 42,
   "metadata": {},
   "outputs": [
    {
     "name": "stdout",
     "output_type": "stream",
     "text": [
      "\n",
      "Cleaning statistics:\n",
      "title Skipped because line length was below minimum (lines/chars): [7714   75]\n",
      "title Skipped because line had forbidden characters (lines/chars): [  7 591]\n",
      "title Skipped because alpha count was below minimum (lines/chars): [  7 476]\n",
      "title Skipped because digit count was above maximum (lines/chars): [  59 3983]\n",
      "title Skipped because too many non-ascii characters (lines/chars): [0 0]\n",
      "content Skipped because line length was below minimum (lines/chars): [   9325 1081111]\n",
      "content Skipped because line had forbidden characters (lines/chars): [    63 213157]\n",
      "content Skipped because alpha count was below minimum (lines/chars): [    38 118124]\n",
      "content Skipped because digit count was above maximum (lines/chars): [   26 35149]\n",
      "content Skipped because too many non-ascii characters (lines/chars): [0 0]\n"
     ]
    }
   ],
   "source": [
    "cleaner = Cleaner(columns=[\"title\", \"content\"])\n",
    "\n",
    "cleaner.print_stats(stats=stats)"
   ]
  },
  {
   "cell_type": "code",
   "execution_count": 137,
   "metadata": {},
   "outputs": [],
   "source": [
    "with open(\"contents.txt\", \"w\") as o:\n",
    "    o.write(\"\\n\\n\".join([title for title in df[\"content\"]]))"
   ]
  },
  {
   "cell_type": "code",
   "execution_count": 3,
   "metadata": {},
   "outputs": [
    {
     "data": {
      "text/html": [
       "<div>\n",
       "<style scoped>\n",
       "    .dataframe tbody tr th:only-of-type {\n",
       "        vertical-align: middle;\n",
       "    }\n",
       "\n",
       "    .dataframe tbody tr th {\n",
       "        vertical-align: top;\n",
       "    }\n",
       "\n",
       "    .dataframe thead th {\n",
       "        text-align: right;\n",
       "    }\n",
       "</style>\n",
       "<table border=\"1\" class=\"dataframe\">\n",
       "  <thead>\n",
       "    <tr style=\"text-align: right;\">\n",
       "      <th></th>\n",
       "      <th>_id</th>\n",
       "      <th>site</th>\n",
       "      <th>domain</th>\n",
       "      <th>title</th>\n",
       "      <th>content</th>\n",
       "      <th>date</th>\n",
       "      <th>link</th>\n",
       "      <th>title_skipped_because_min_length</th>\n",
       "      <th>title_skipped_alpha_count</th>\n",
       "      <th>title_skipped_because_max_numeric</th>\n",
       "      <th>title_skipped_because_max_non_ascii</th>\n",
       "      <th>title_skipped_because_forbidden_chars</th>\n",
       "      <th>content_skipped_because_min_length</th>\n",
       "      <th>content_skipped_alpha_count</th>\n",
       "      <th>content_skipped_because_max_numeric</th>\n",
       "      <th>content_skipped_because_max_non_ascii</th>\n",
       "      <th>content_skipped_because_forbidden_chars</th>\n",
       "    </tr>\n",
       "  </thead>\n",
       "  <tbody>\n",
       "    <tr>\n",
       "      <th>0</th>\n",
       "      <td>621a40c1e811eb1197fac818</td>\n",
       "      <td>https://www.timesnewroman.ro/</td>\n",
       "      <td>monden/</td>\n",
       "      <td>Megan Fox e mai bună în dormitor decât în baie</td>\n",
       "      <td>Ca să arate că nu este chiar perfectă, Megan F...</td>\n",
       "      <td>2009-10-01 00:00:00+00:00</td>\n",
       "      <td></td>\n",
       "      <td>[0, 0]</td>\n",
       "      <td>[0, 0]</td>\n",
       "      <td>[0, 0]</td>\n",
       "      <td>[0, 0]</td>\n",
       "      <td>[0, 0]</td>\n",
       "      <td>[0, 0]</td>\n",
       "      <td>[0, 0]</td>\n",
       "      <td>[0, 0]</td>\n",
       "      <td>[0, 0]</td>\n",
       "      <td>[0, 0]</td>\n",
       "    </tr>\n",
       "    <tr>\n",
       "      <th>1</th>\n",
       "      <td>621a40b7e811eb1197fac810</td>\n",
       "      <td>https://www.timesnewroman.ro/</td>\n",
       "      <td>monden/</td>\n",
       "      <td></td>\n",
       "      <td>Un coreean a fost arestat pentru că a violat, ...</td>\n",
       "      <td>2009-09-11 00:00:00+00:00</td>\n",
       "      <td></td>\n",
       "      <td>[1, 20]</td>\n",
       "      <td>[0, 0]</td>\n",
       "      <td>[0, 0]</td>\n",
       "      <td>[0, 0]</td>\n",
       "      <td>[0, 0]</td>\n",
       "      <td>[0, 0]</td>\n",
       "      <td>[0, 0]</td>\n",
       "      <td>[0, 0]</td>\n",
       "      <td>[0, 0]</td>\n",
       "      <td>[0, 0]</td>\n",
       "    </tr>\n",
       "    <tr>\n",
       "      <th>2</th>\n",
       "      <td>621a40c1e811eb1197fac81f</td>\n",
       "      <td>https://www.timesnewroman.ro/</td>\n",
       "      <td>monden/</td>\n",
       "      <td>Departamentul de scouting de la Radio Zu</td>\n",
       "      <td>Morar și Buzdugan au împrumutat la Radio Zu mo...</td>\n",
       "      <td>2009-09-18 00:00:00+00:00</td>\n",
       "      <td></td>\n",
       "      <td>[0, 0]</td>\n",
       "      <td>[0, 0]</td>\n",
       "      <td>[0, 0]</td>\n",
       "      <td>[0, 0]</td>\n",
       "      <td>[0, 0]</td>\n",
       "      <td>[0, 0]</td>\n",
       "      <td>[0, 0]</td>\n",
       "      <td>[0, 0]</td>\n",
       "      <td>[0, 0]</td>\n",
       "      <td>[0, 0]</td>\n",
       "    </tr>\n",
       "    <tr>\n",
       "      <th>3</th>\n",
       "      <td>621a40c1e811eb1197fac822</td>\n",
       "      <td>https://www.timesnewroman.ro/</td>\n",
       "      <td>monden/</td>\n",
       "      <td></td>\n",
       "      <td>Într-un articol emoționant din ziarul de dumin...</td>\n",
       "      <td>2009-09-14 00:00:00+00:00</td>\n",
       "      <td></td>\n",
       "      <td>[1, 5]</td>\n",
       "      <td>[0, 0]</td>\n",
       "      <td>[0, 0]</td>\n",
       "      <td>[0, 0]</td>\n",
       "      <td>[0, 0]</td>\n",
       "      <td>[0, 0]</td>\n",
       "      <td>[0, 0]</td>\n",
       "      <td>[0, 0]</td>\n",
       "      <td>[0, 0]</td>\n",
       "      <td>[0, 0]</td>\n",
       "    </tr>\n",
       "    <tr>\n",
       "      <th>4</th>\n",
       "      <td>621a40cbe811eb1197fac824</td>\n",
       "      <td>https://www.timesnewroman.ro/</td>\n",
       "      <td>monden/</td>\n",
       "      <td></td>\n",
       "      <td>Alina Plugaru mi-a înseninat ziua. Nimic nu cr...</td>\n",
       "      <td>2009-11-01 00:00:00+00:00</td>\n",
       "      <td></td>\n",
       "      <td>[1, 25]</td>\n",
       "      <td>[0, 0]</td>\n",
       "      <td>[0, 0]</td>\n",
       "      <td>[0, 0]</td>\n",
       "      <td>[0, 0]</td>\n",
       "      <td>[0, 0]</td>\n",
       "      <td>[0, 0]</td>\n",
       "      <td>[0, 0]</td>\n",
       "      <td>[0, 0]</td>\n",
       "      <td>[0, 0]</td>\n",
       "    </tr>\n",
       "    <tr>\n",
       "      <th>...</th>\n",
       "      <td>...</td>\n",
       "      <td>...</td>\n",
       "      <td>...</td>\n",
       "      <td>...</td>\n",
       "      <td>...</td>\n",
       "      <td>...</td>\n",
       "      <td>...</td>\n",
       "      <td>...</td>\n",
       "      <td>...</td>\n",
       "      <td>...</td>\n",
       "      <td>...</td>\n",
       "      <td>...</td>\n",
       "      <td>...</td>\n",
       "      <td>...</td>\n",
       "      <td>...</td>\n",
       "      <td>...</td>\n",
       "      <td>...</td>\n",
       "    </tr>\n",
       "    <tr>\n",
       "      <th>156392</th>\n",
       "      <td>622b3cbc7fed76a032c94043</td>\n",
       "      <td>https://www.digi24.ro/</td>\n",
       "      <td>stiri/externe</td>\n",
       "      <td>Forțele ruse încearcă să încercuiască principa...</td>\n",
       "      <td>Forțele ruse caută să încercuiască principalel...</td>\n",
       "      <td>2022-03-11 10:41:00+00:00</td>\n",
       "      <td>https://www.digi24.ro/stiri/externe/fortele-ru...</td>\n",
       "      <td>[0, 0]</td>\n",
       "      <td>[0, 0]</td>\n",
       "      <td>[0, 0]</td>\n",
       "      <td>[0, 0]</td>\n",
       "      <td>[0, 0]</td>\n",
       "      <td>[0, 0]</td>\n",
       "      <td>[0, 0]</td>\n",
       "      <td>[0, 0]</td>\n",
       "      <td>[0, 0]</td>\n",
       "      <td>[0, 0]</td>\n",
       "    </tr>\n",
       "    <tr>\n",
       "      <th>156393</th>\n",
       "      <td>622b3cbc7fed76a032c94044</td>\n",
       "      <td>https://www.digi24.ro/</td>\n",
       "      <td>stiri/externe</td>\n",
       "      <td>SUA vor acorda Columbiei statutul de aliat maj...</td>\n",
       "      <td>Președintele american Joe Biden l-a primit joi...</td>\n",
       "      <td>2022-03-11 10:35:00+00:00</td>\n",
       "      <td>https://www.digi24.ro/stiri/externe/sua-vor-ac...</td>\n",
       "      <td>[0, 0]</td>\n",
       "      <td>[0, 0]</td>\n",
       "      <td>[0, 0]</td>\n",
       "      <td>[0, 0]</td>\n",
       "      <td>[0, 0]</td>\n",
       "      <td>[0, 0]</td>\n",
       "      <td>[0, 0]</td>\n",
       "      <td>[0, 0]</td>\n",
       "      <td>[0, 0]</td>\n",
       "      <td>[0, 0]</td>\n",
       "    </tr>\n",
       "    <tr>\n",
       "      <th>156394</th>\n",
       "      <td>622b3cbc7fed76a032c94045</td>\n",
       "      <td>https://www.digi24.ro/</td>\n",
       "      <td>stiri/externe</td>\n",
       "      <td>Foto O dronă ucraineană de recunoaștere s-a pr...</td>\n",
       "      <td>O dronă ucraineană de recunoaștere s-a prăbuși...</td>\n",
       "      <td>2022-03-11 10:28:00+00:00</td>\n",
       "      <td>https://www.digi24.ro/stiri/externe/o-drona-uc...</td>\n",
       "      <td>[0, 0]</td>\n",
       "      <td>[0, 0]</td>\n",
       "      <td>[0, 0]</td>\n",
       "      <td>[0, 0]</td>\n",
       "      <td>[0, 0]</td>\n",
       "      <td>[0, 0]</td>\n",
       "      <td>[0, 0]</td>\n",
       "      <td>[0, 0]</td>\n",
       "      <td>[0, 0]</td>\n",
       "      <td>[0, 0]</td>\n",
       "    </tr>\n",
       "    <tr>\n",
       "      <th>156395</th>\n",
       "      <td>622b3cbc7fed76a032c94046</td>\n",
       "      <td>https://www.digi24.ro/</td>\n",
       "      <td>stiri/externe</td>\n",
       "      <td>Noua invenție a propagandei ruse: Păsări migra...</td>\n",
       "      <td>Ministerul rus al Apărării răspândește noi inf...</td>\n",
       "      <td>2022-03-11 10:08:00+00:00</td>\n",
       "      <td>https://www.digi24.ro/stiri/externe/noua-inven...</td>\n",
       "      <td>[0, 0]</td>\n",
       "      <td>[0, 0]</td>\n",
       "      <td>[0, 0]</td>\n",
       "      <td>[0, 0]</td>\n",
       "      <td>[0, 0]</td>\n",
       "      <td>[0, 0]</td>\n",
       "      <td>[0, 0]</td>\n",
       "      <td>[0, 0]</td>\n",
       "      <td>[0, 0]</td>\n",
       "      <td>[0, 0]</td>\n",
       "    </tr>\n",
       "    <tr>\n",
       "      <th>156396</th>\n",
       "      <td>622b4acae6d83a3012731803</td>\n",
       "      <td>https://www.digi24.ro/</td>\n",
       "      <td>stiri/externe</td>\n",
       "      <td>Live Text Război în Ucraina. Armata rusă a bom...</td>\n",
       "      <td>Noi bombardamente au avut loc, vineri dimineaț...</td>\n",
       "      <td>2022-03-11 14:21:00+00:00</td>\n",
       "      <td>https://www.digi24.ro/stiri/externe/razboi-in-...</td>\n",
       "      <td>[0, 0]</td>\n",
       "      <td>[0, 0]</td>\n",
       "      <td>[0, 0]</td>\n",
       "      <td>[0, 0]</td>\n",
       "      <td>[0, 0]</td>\n",
       "      <td>[0, 0]</td>\n",
       "      <td>[0, 0]</td>\n",
       "      <td>[0, 0]</td>\n",
       "      <td>[0, 0]</td>\n",
       "      <td>[0, 0]</td>\n",
       "    </tr>\n",
       "  </tbody>\n",
       "</table>\n",
       "<p>148684 rows × 17 columns</p>\n",
       "</div>"
      ],
      "text/plain": [
       "                             _id                           site  \\\n",
       "0       621a40c1e811eb1197fac818  https://www.timesnewroman.ro/   \n",
       "1       621a40b7e811eb1197fac810  https://www.timesnewroman.ro/   \n",
       "2       621a40c1e811eb1197fac81f  https://www.timesnewroman.ro/   \n",
       "3       621a40c1e811eb1197fac822  https://www.timesnewroman.ro/   \n",
       "4       621a40cbe811eb1197fac824  https://www.timesnewroman.ro/   \n",
       "...                          ...                            ...   \n",
       "156392  622b3cbc7fed76a032c94043         https://www.digi24.ro/   \n",
       "156393  622b3cbc7fed76a032c94044         https://www.digi24.ro/   \n",
       "156394  622b3cbc7fed76a032c94045         https://www.digi24.ro/   \n",
       "156395  622b3cbc7fed76a032c94046         https://www.digi24.ro/   \n",
       "156396  622b4acae6d83a3012731803         https://www.digi24.ro/   \n",
       "\n",
       "               domain                                              title  \\\n",
       "0             monden/     Megan Fox e mai bună în dormitor decât în baie   \n",
       "1             monden/                                                      \n",
       "2             monden/           Departamentul de scouting de la Radio Zu   \n",
       "3             monden/                                                      \n",
       "4             monden/                                                      \n",
       "...               ...                                                ...   \n",
       "156392  stiri/externe  Forțele ruse încearcă să încercuiască principa...   \n",
       "156393  stiri/externe  SUA vor acorda Columbiei statutul de aliat maj...   \n",
       "156394  stiri/externe  Foto O dronă ucraineană de recunoaștere s-a pr...   \n",
       "156395  stiri/externe  Noua invenție a propagandei ruse: Păsări migra...   \n",
       "156396  stiri/externe  Live Text Război în Ucraina. Armata rusă a bom...   \n",
       "\n",
       "                                                  content  \\\n",
       "0       Ca să arate că nu este chiar perfectă, Megan F...   \n",
       "1       Un coreean a fost arestat pentru că a violat, ...   \n",
       "2       Morar și Buzdugan au împrumutat la Radio Zu mo...   \n",
       "3       Într-un articol emoționant din ziarul de dumin...   \n",
       "4       Alina Plugaru mi-a înseninat ziua. Nimic nu cr...   \n",
       "...                                                   ...   \n",
       "156392  Forțele ruse caută să încercuiască principalel...   \n",
       "156393  Președintele american Joe Biden l-a primit joi...   \n",
       "156394  O dronă ucraineană de recunoaștere s-a prăbuși...   \n",
       "156395  Ministerul rus al Apărării răspândește noi inf...   \n",
       "156396  Noi bombardamente au avut loc, vineri dimineaț...   \n",
       "\n",
       "                            date  \\\n",
       "0      2009-10-01 00:00:00+00:00   \n",
       "1      2009-09-11 00:00:00+00:00   \n",
       "2      2009-09-18 00:00:00+00:00   \n",
       "3      2009-09-14 00:00:00+00:00   \n",
       "4      2009-11-01 00:00:00+00:00   \n",
       "...                          ...   \n",
       "156392 2022-03-11 10:41:00+00:00   \n",
       "156393 2022-03-11 10:35:00+00:00   \n",
       "156394 2022-03-11 10:28:00+00:00   \n",
       "156395 2022-03-11 10:08:00+00:00   \n",
       "156396 2022-03-11 14:21:00+00:00   \n",
       "\n",
       "                                                     link  \\\n",
       "0                                                           \n",
       "1                                                           \n",
       "2                                                           \n",
       "3                                                           \n",
       "4                                                           \n",
       "...                                                   ...   \n",
       "156392  https://www.digi24.ro/stiri/externe/fortele-ru...   \n",
       "156393  https://www.digi24.ro/stiri/externe/sua-vor-ac...   \n",
       "156394  https://www.digi24.ro/stiri/externe/o-drona-uc...   \n",
       "156395  https://www.digi24.ro/stiri/externe/noua-inven...   \n",
       "156396  https://www.digi24.ro/stiri/externe/razboi-in-...   \n",
       "\n",
       "       title_skipped_because_min_length title_skipped_alpha_count  \\\n",
       "0                                [0, 0]                    [0, 0]   \n",
       "1                               [1, 20]                    [0, 0]   \n",
       "2                                [0, 0]                    [0, 0]   \n",
       "3                                [1, 5]                    [0, 0]   \n",
       "4                               [1, 25]                    [0, 0]   \n",
       "...                                 ...                       ...   \n",
       "156392                           [0, 0]                    [0, 0]   \n",
       "156393                           [0, 0]                    [0, 0]   \n",
       "156394                           [0, 0]                    [0, 0]   \n",
       "156395                           [0, 0]                    [0, 0]   \n",
       "156396                           [0, 0]                    [0, 0]   \n",
       "\n",
       "       title_skipped_because_max_numeric title_skipped_because_max_non_ascii  \\\n",
       "0                                 [0, 0]                              [0, 0]   \n",
       "1                                 [0, 0]                              [0, 0]   \n",
       "2                                 [0, 0]                              [0, 0]   \n",
       "3                                 [0, 0]                              [0, 0]   \n",
       "4                                 [0, 0]                              [0, 0]   \n",
       "...                                  ...                                 ...   \n",
       "156392                            [0, 0]                              [0, 0]   \n",
       "156393                            [0, 0]                              [0, 0]   \n",
       "156394                            [0, 0]                              [0, 0]   \n",
       "156395                            [0, 0]                              [0, 0]   \n",
       "156396                            [0, 0]                              [0, 0]   \n",
       "\n",
       "       title_skipped_because_forbidden_chars  \\\n",
       "0                                     [0, 0]   \n",
       "1                                     [0, 0]   \n",
       "2                                     [0, 0]   \n",
       "3                                     [0, 0]   \n",
       "4                                     [0, 0]   \n",
       "...                                      ...   \n",
       "156392                                [0, 0]   \n",
       "156393                                [0, 0]   \n",
       "156394                                [0, 0]   \n",
       "156395                                [0, 0]   \n",
       "156396                                [0, 0]   \n",
       "\n",
       "       content_skipped_because_min_length content_skipped_alpha_count  \\\n",
       "0                                  [0, 0]                      [0, 0]   \n",
       "1                                  [0, 0]                      [0, 0]   \n",
       "2                                  [0, 0]                      [0, 0]   \n",
       "3                                  [0, 0]                      [0, 0]   \n",
       "4                                  [0, 0]                      [0, 0]   \n",
       "...                                   ...                         ...   \n",
       "156392                             [0, 0]                      [0, 0]   \n",
       "156393                             [0, 0]                      [0, 0]   \n",
       "156394                             [0, 0]                      [0, 0]   \n",
       "156395                             [0, 0]                      [0, 0]   \n",
       "156396                             [0, 0]                      [0, 0]   \n",
       "\n",
       "       content_skipped_because_max_numeric  \\\n",
       "0                                   [0, 0]   \n",
       "1                                   [0, 0]   \n",
       "2                                   [0, 0]   \n",
       "3                                   [0, 0]   \n",
       "4                                   [0, 0]   \n",
       "...                                    ...   \n",
       "156392                              [0, 0]   \n",
       "156393                              [0, 0]   \n",
       "156394                              [0, 0]   \n",
       "156395                              [0, 0]   \n",
       "156396                              [0, 0]   \n",
       "\n",
       "       content_skipped_because_max_non_ascii  \\\n",
       "0                                     [0, 0]   \n",
       "1                                     [0, 0]   \n",
       "2                                     [0, 0]   \n",
       "3                                     [0, 0]   \n",
       "4                                     [0, 0]   \n",
       "...                                      ...   \n",
       "156392                                [0, 0]   \n",
       "156393                                [0, 0]   \n",
       "156394                                [0, 0]   \n",
       "156395                                [0, 0]   \n",
       "156396                                [0, 0]   \n",
       "\n",
       "       content_skipped_because_forbidden_chars  \n",
       "0                                       [0, 0]  \n",
       "1                                       [0, 0]  \n",
       "2                                       [0, 0]  \n",
       "3                                       [0, 0]  \n",
       "4                                       [0, 0]  \n",
       "...                                        ...  \n",
       "156392                                  [0, 0]  \n",
       "156393                                  [0, 0]  \n",
       "156394                                  [0, 0]  \n",
       "156395                                  [0, 0]  \n",
       "156396                                  [0, 0]  \n",
       "\n",
       "[148684 rows x 17 columns]"
      ]
     },
     "execution_count": 3,
     "metadata": {},
     "output_type": "execute_result"
    }
   ],
   "source": [
    "df"
   ]
  },
  {
   "cell_type": "code",
   "execution_count": 62,
   "metadata": {},
   "outputs": [
    {
     "data": {
      "text/plain": [
       "'Prima reacție a celor 18.000 de angajați Microsoft în momentul în care au fost anunțați că sunt concediați a fost ”Are you sure you want to fire me? Yes / No / Cancel”;'"
      ]
     },
     "execution_count": 62,
     "metadata": {},
     "output_type": "execute_result"
    }
   ],
   "source": [
    "line = \"- Prima reacție a celor 18.000 de angajați Microsoft în momentul în care au fost anunțați că sunt concediați a fost ”Are you sure you want to fire me? Yes / No / Cancel”;\"\n",
    "r6 = re.compile(r\"- \")\n",
    "\n",
    "r6.sub(\"\", line)"
   ]
  },
  {
   "cell_type": "code",
   "execution_count": 109,
   "metadata": {},
   "outputs": [
    {
     "data": {
      "text/plain": [
       "'(a)'"
      ]
     },
     "execution_count": 109,
     "metadata": {},
     "output_type": "execute_result"
    }
   ],
   "source": [
    "line = \"( a)\"\n",
    "a = re.compile(r\"\\( (.+)\\)\")\n",
    "a.sub(r\"(\\1)\", line)"
   ]
  },
  {
   "cell_type": "code",
   "execution_count": 111,
   "metadata": {},
   "outputs": [
    {
     "data": {
      "text/plain": [
       "'a asd fds erw red'"
      ]
     },
     "execution_count": 111,
     "metadata": {},
     "output_type": "execute_result"
    }
   ],
   "source": [
    "line = \"<a asd fds erw red>\"\n",
    "a = re.compile(r\"<(.+)>\")\n",
    "a.sub(r\"\\1\", line)"
   ]
  },
  {
   "cell_type": "code",
   "execution_count": 123,
   "metadata": {},
   "outputs": [
    {
     "data": {
      "text/plain": [
       "' În satul Olimpic fiecare se cunoaște cu fiecare, asta și pentru că au numele scrise pe tricouri. Cel mai bogat om din sat e preotul satului Olimpic, fiindcă are o biserică medaliată toată cu aur. Primarul satului olimpic i-a împroprietărit pe țăranii din sat cu loturi olimpice. În localitate există și curva satului Olimpic, care face sex cu clanul sportivilor. Țăranii din satul Olimpic au intrat în campanie agricolă și recoltează de pe câmp sulițe, discuri și ciocane. Există o veche rivalitate între satul Olimpic și satul vecin. Principalele canale media sunt postul de radio Antena Satelor Olimpice și emisiunea TV Viața Satului Olimpic . Bătrânii satului Olimpic au o vorbă: Sportivul care e fără de păcat are voie să arunce primul cu sulița. Primarul satului a cerut Comitetului Olimpic ca satul Olimpic să devină municipiu10. Primarul din satul Olimpic le-a promis sătenilor că dacă va fi reales le va face și un teren de sport.'"
      ]
     },
     "execution_count": 123,
     "metadata": {},
     "output_type": "execute_result"
    }
   ],
   "source": [
    "line = \"\"\"\n",
    "1. În satul Olimpic fiecare se cunoaște cu fiecare, asta și pentru că au numele scrise pe tricouri.\n",
    "2. Cel mai bogat om din sat e preotul satului Olimpic, fiindcă are o biserică medaliată toată cu aur.\n",
    "3. Primarul satului olimpic i-a împroprietărit pe țăranii din sat cu loturi olimpice.4. În localitate există și curva satului Olimpic, care face sex cu clanul sportivilor.\n",
    "5. Țăranii din satul Olimpic au intrat în campanie agricolă și recoltează de pe câmp sulițe, discuri și ciocane.\n",
    "6. Există o veche rivalitate între satul Olimpic și satul vecin.\n",
    "7. Principalele canale media sunt postul de radio Antena Satelor Olimpice și emisiunea TV Viața Satului Olimpic .\n",
    "8. Bătrânii satului Olimpic au o vorbă: Sportivul care e fără de păcat are voie să arunce primul cu sulița.\n",
    "9. Primarul satului a cerut Comitetului Olimpic ca satul Olimpic să devină municipiu\n",
    "10. Primarul din satul Olimpic le-a promis sătenilor că dacă va fi reales le va face și un teren de sport.\n",
    "\"\"\"\n",
    "\n",
    "r6 = re.compile(r\"[1-9]+\\.\")\n",
    "\n",
    "line = r6.sub(\"\", line)\n",
    "line = line.replace(\"\\n\", '')\n",
    "\n",
    "line"
   ]
  },
  {
   "cell_type": "code",
   "execution_count": 129,
   "metadata": {},
   "outputs": [
    {
     "data": {
      "text/plain": [
       "' O rachetă balistică lansată din Tiraspol ajunge la București în 35 de minute. Calculați înălțimea maximă atinsă. (1 punct.) Estimați numărul de victime. (2 puncte); O brigadă de tancuri pleacă din Moscova simultan cu o brigadă care pleacă din Odessa. Desenați un AK-47, tancurile oricum sunt pe drum; (1 punct); Se dă o populație în Crimeea. Care este intersecția dintre mulțimea celor care vor anexarea și mulțimea celor deportați în Siberia? (1 punct;) Relieful României este:a.) Favorabil unei invazii pe mare;b) Favorabil unui desant aerian;c) E suficient Vasile Ernu; Sașa are un lagăr cu 50 de locuri în Siberia. În fiecare zi îi vin 2 prizonieri și îi moare unul. După cât timp va trebui Sașa să mai construiască un lagăr? Se dă următorul enunț în limba română: “Ana are mere”. Este adevărat că Ana are mere?a) Nu știu, eu vorbesc doar limba moldovenească (1 punct;);b) Da (deportat Siberia). Vladimir Putin se află într-o pădure cu 2000 de urși, dar are doar 6 gloanțe pe țeavă. În cât timp va omorî el toți urșii?a.) Depinde de debitul de apă al pârâului în care îi îneacă (2 puncte);b) Urșii au fost îndepărtați deja pentru că amenințau drepturile minorității ruse din pădure (1 punct). Limba oficială a României estea) Limba română (0 puncte);b) Limba maghiară (3 puncte);c) Davai ceas (9 puncte); Versurile “Ce-ți doresc eu ție, dulce Românie” vă sugerează:a.) Dezmembrarea Poloniei;b) Invadarea Cehoslovaciei;c) Cernobîl;10. Primul gulag a fost înființat în 1918 iar KGB-ul a luat ființă în  Calculați vârsta lui Ion Iliescu.* Se acordă o invazie din oficiu'"
      ]
     },
     "execution_count": 129,
     "metadata": {},
     "output_type": "execute_result"
    }
   ],
   "source": [
    "line = \"\"\"\n",
    "1. O rachetă balistică lansată din Tiraspol ajunge la București în 35 de minute. Calculați înălțimea maximă atinsă. (1 punct.) Estimați numărul de victime. (2 puncte);2. O brigadă de tancuri pleacă din Moscova simultan cu o brigadă care pleacă din Odessa. Desenați un AK-47, tancurile oricum sunt pe drum; (1 punct);3. Se dă o populație în Crimeea. Care este intersecția dintre mulțimea celor care vor anexarea și mulțimea celor deportați în Siberia? (1 punct;)4. Relieful României este:\n",
    "a.) Favorabil unei invazii pe mare;\n",
    "b) Favorabil unui desant aerian;\n",
    "c) E suficient Vasile Ernu;5. Sașa are un lagăr cu 50 de locuri în Siberia. În fiecare zi îi vin 2 prizonieri și îi moare unul. După cât timp va trebui Sașa să mai construiască un lagăr?6. Se dă următorul enunț în limba română: “Ana are mere”. Este adevărat că Ana are mere?\n",
    "a) Nu știu, eu vorbesc doar limba moldovenească (1 punct;);\n",
    "b) Da (deportat Siberia).7. Vladimir Putin se află într-o pădure cu 2000 de urși, dar are doar 6 gloanțe pe țeavă. În cât timp va omorî el toți urșii?\n",
    "a.) Depinde de debitul de apă al pârâului în care îi îneacă (2 puncte);\n",
    "b) Urșii au fost îndepărtați deja pentru că amenințau drepturile minorității ruse din pădure (1 punct).8. Limba oficială a României este\n",
    "a) Limba română (0 puncte);\n",
    "b) Limba maghiară (3 puncte);\n",
    "c) Davai ceas (9 puncte);9. Versurile “Ce-ți doresc eu ție, dulce Românie” vă sugerează:\n",
    "a.) Dezmembrarea Poloniei;\n",
    "b) Invadarea Cehoslovaciei;\n",
    "c) Cernobîl;10. Primul gulag a fost înființat în 1918 iar KGB-ul a luat ființă în 1954. Calculați vârsta lui Ion Iliescu.* Se acordă o invazie din oficiu\n",
    "\"\"\"\n",
    "\n",
    "r6 = re.compile(r\"[1-9]+\\.\")\n",
    "r14 = re.compile(r\"\\b[a-zA-Z]\\.?\\)\\b\")\n",
    "\n",
    "line = r6.sub(\"\", line)\n",
    "line = r14.sub(\"\", line)\n",
    "line = line.replace(\"\\n\", '')\n",
    "\n",
    "\n",
    "line"
   ]
  },
  {
   "cell_type": "code",
   "execution_count": 128,
   "metadata": {},
   "outputs": [
    {
     "data": {
      "text/plain": [
       "'\\nMai multe asociații civice participă, sâmbătă, la o manifestație de solidaritate cu poporul ucrainean în fața Ambasadei Ucrainei la București, potrivit News.ro. S-a scandat ”Ucraina” și ”Zelenski”, fiind intonat imnul țării vecine. Apoi, participanții s-au deplasat la Ambasada Rusiei pentru a protesta față de invadarea Ucrainei și pentru a cere oprirea războiului. Un tânăr a aruncat cu ouă înspre clădirea Ambasadei, fiind luat de jandarmi pentru verificări.\\n\\nProteste mult mai ample decât la București au avut loc în alte capitale europene. La Londra, Paris, Nicosia, Berlin, Atena, Helsinki, Madrid și Milano zeci de mii de oameni au defilat cu steaguri ucrainene și cu pancarde împotriva războiului.\\nUn miting pe care organizatorii l-au estimat la 20.000 de persoane a avut loc în capitala Elveției, Berna, unde steagul ucrainean a fost arborat deasupra sediului consiliului municipal.\\n\\nÎn America Latină, protestatarii s-au alăturat mitingurilor de vineri din Argentina, Brazilia, Mexic și Peru, scandând “Trăiască Ucraina”.\\nLa Sidney, câteva sute de oameni au mărșăluit printr-o ploaie torențială, scandând “Ucraina va învinge!”, în timp ce protestatarii de la Tokyo au cerut expulzarea Rusiei din Consiliul de Securitate al Națiunilor Unite.\\nSurse alternative: Reuters, BBC, News.ro\\nEchipa Biziday nu a solicitat și nu a acceptat nicio formă de finanțare din fonduri guvernamentale. Spațiile de publicitate sunt limitate, iar reclama neinvazivă.\\nDacă îți place ce facem, poți contribui tu pentru susținerea echipei Biziday.\\nSusține echipa Biziday\\nMai multe știri\\n'"
      ]
     },
     "execution_count": 128,
     "metadata": {},
     "output_type": "execute_result"
    }
   ],
   "source": [
    "line = \"\"\"\n",
    "Mai multe asociații civice participă, sâmbătă, la o manifestație de solidaritate cu poporul ucrainean în fața Ambasadei Ucrainei la București, potrivit News.ro. S-a scandat ”Ucraina” și ”Zelenski”, fiind intonat imnul țării vecine. Apoi, participanții s-au deplasat la Ambasada Rusiei pentru a protesta față de invadarea Ucrainei și pentru a cere oprirea războiului. Un tânăr a aruncat cu ouă înspre clădirea Ambasadei, fiind luat de jandarmi pentru verificări.\n",
    "/* (c)AdOcean 2003-2019, thinkdigital_ro.biziday.ro.Allsite.inread */ ado.slave('adoceanthinkdigitalrowpirewlpdy', {myMaster: 'GSn6F4G5Q0eNI0MxfDC.T321AeMGSQbf6B3d2t8hqU3.L7'});\n",
    "Proteste mult mai ample decât la București au avut loc în alte capitale europene. La Londra, Paris, Nicosia, Berlin, Atena, Helsinki, Madrid și Milano zeci de mii de oameni au defilat cu steaguri ucrainene și cu pancarde împotriva războiului.\n",
    "Un miting pe care organizatorii l-au estimat la 20.000 de persoane a avut loc în capitala Elveției, Berna, unde steagul ucrainean a fost arborat deasupra sediului consiliului municipal.\n",
    "/* (c)AdOcean 2003-2019, thinkdigital_ro.biziday.ro.Allsite.rectangle_300x250_2 */ ado.slave('adoceanthinkdigitalrouaniqssjrc', {myMaster: 'GSn6F4G5Q0eNI0MxfDC.T321AeMGSQbf6B3d2t8hqU3.L7'});\n",
    "În America Latină, protestatarii s-au alăturat mitingurilor de vineri din Argentina, Brazilia, Mexic și Peru, scandând “Trăiască Ucraina”.\n",
    "La Sidney, câteva sute de oameni au mărșăluit printr-o ploaie torențială, scandând “Ucraina va învinge!”, în timp ce protestatarii de la Tokyo au cerut expulzarea Rusiei din Consiliul de Securitate al Națiunilor Unite.\n",
    "Surse alternative: Reuters, BBC, News.ro\n",
    "Echipa Biziday nu a solicitat și nu a acceptat nicio formă de finanțare din fonduri guvernamentale. Spațiile de publicitate sunt limitate, iar reclama neinvazivă.\n",
    "Dacă îți place ce facem, poți contribui tu pentru susținerea echipei Biziday.\n",
    "Susține echipa Biziday\n",
    "Mai multe știri\n",
    "\"\"\"\n",
    "\n",
    "r6 = re.compile(r\"\\/\\*.+\")\n",
    "\n",
    "line = r6.sub(\"\", line)\n",
    "line"
   ]
  },
  {
   "cell_type": "code",
   "execution_count": 130,
   "metadata": {},
   "outputs": [
    {
     "data": {
      "text/plain": [
       "'\\n\\nTotuși, un răspuns din partea guvernului de la Ankara care să confirme afirmațiile liderului ucrainean nu a venit încă. Conform Convenției de la Montreux cu privire la statutul strâmtorilor, din 1936, Turcia deține controlul asupra strâmtorilor Bosfor și Dardanele și poate limita trecerea navelor de luptă în timpul războiului sau dacă se simte amenințată.\\nVineri, ministrul turc de externe a precizat că nu poate restricționa accesul navelor de război rusești în Marea Neagră prin strâmtorile sale, așa cum a cerut Ucraina, din cauza unei clauze regăsite într-un pact internațional care prevede că navele au dreptul să se întoarcă la bazele militare de unde au fost detașate.\\nEchipa Biziday nu a solicitat și nu a acceptat nicio formă de finanțare din fonduri guvernamentale. Spațiile de publicitate sunt limitate, iar reclama neinvazivă.\\nDacă îți place ce facem, poți contribui tu pentru susținerea echipei Biziday.\\nSusține echipa Biziday\\nMai multe știri\\n\\n\\n'"
      ]
     },
     "execution_count": 130,
     "metadata": {},
     "output_type": "execute_result"
    }
   ],
   "source": [
    "line = \"\"\"\n",
    "@ZelenskyyUa) February 26,2022\n",
    "Totuși, un răspuns din partea guvernului de la Ankara care să confirme afirmațiile liderului ucrainean nu a venit încă. Conform Convenției de la Montreux cu privire la statutul strâmtorilor, din 1936, Turcia deține controlul asupra strâmtorilor Bosfor și Dardanele și poate limita trecerea navelor de luptă în timpul războiului sau dacă se simte amenințată.\n",
    "Vineri, ministrul turc de externe a precizat că nu poate restricționa accesul navelor de război rusești în Marea Neagră prin strâmtorile sale, așa cum a cerut Ucraina, din cauza unei clauze regăsite într-un pact internațional care prevede că navele au dreptul să se întoarcă la bazele militare de unde au fost detașate.\n",
    "Echipa Biziday nu a solicitat și nu a acceptat nicio formă de finanțare din fonduri guvernamentale. Spațiile de publicitate sunt limitate, iar reclama neinvazivă.\n",
    "Dacă îți place ce facem, poți contribui tu pentru susținerea echipei Biziday.\n",
    "Susține echipa Biziday\n",
    "Mai multe știri\n",
    "\n",
    "@@@@@@@RALee85 @200_zoka @jpg2t785 @Danspiun @TheDeadDistrict @Rebel44CZ @@\n",
    "\"\"\"\n",
    "\n",
    "r6 = re.compile(r\"@.+\")\n",
    "\n",
    "line = r6.sub(\"\", line)\n",
    "line"
   ]
  },
  {
   "cell_type": "code",
   "execution_count": 132,
   "metadata": {},
   "outputs": [
    {
     "data": {
      "text/plain": [
       "'\\nAmbasada Rusiei în Franța a solicitat explicații din partea autorităților de la Paris cu privire la oprirea navei de marfă.\\nStatele membre UE au convenit vineri să înghețe activele europene ale președintelui rus Vladimir Putin și ale lui Serghei Lavrov, ministrul de Externe al Rusiei. Anterior, atât UE cât și SUA au anunțat un set de sancțiuni economice care vizează mai multe persoane și companii rusești, ca răspuns la invazia Ucrainei.\\n\\n \\n \\n \\n \\n'"
      ]
     },
     "execution_count": 132,
     "metadata": {},
     "output_type": "execute_result"
    }
   ],
   "source": [
    "line = \"\"\"\n",
    "Ambasada Rusiei în Franța a solicitat explicații din partea autorităților de la Paris cu privire la oprirea navei de marfă.\n",
    "Statele membre UE au convenit vineri să înghețe activele europene ale președintelui rus Vladimir Putin și ale lui Serghei Lavrov, ministrul de Externe al Rusiei. Anterior, atât UE cât și SUA au anunțat un set de sancțiuni economice care vizează mai multe persoane și companii rusești, ca răspuns la invazia Ucrainei.\n",
    "Surse alternative: Sky News, Reuters\n",
    "Echipa Biziday nu a solicitat și nu a acceptat nicio formă de finanțare din fonduri guvernamentale. Spațiile de publicitate sunt limitate, iar reclama neinvazivă.\n",
    "Dacă îți place ce facem, poți contribui tu pentru susținerea echipei Biziday.\n",
    "Susține echipa Biziday\n",
    "Mai multe știri\n",
    "\"\"\"\n",
    "\n",
    "r17 = re.compile(r\"Surse alternative:.+\")\n",
    "\n",
    "line = line.replace(\"Mai multe știri\", \" \")\n",
    "line = line.replace(\"Susține echipa Biziday\", \" \")\n",
    "line = line.replace(\n",
    "    \"Dacă îți place ce facem, poți contribui tu pentru susținerea echipei Biziday.\", \" \"\n",
    ")\n",
    "line = line.replace(\n",
    "    \"Echipa Biziday nu a solicitat și nu a acceptat nicio\"\n",
    "    + \" formă de finanțare din fonduri guvernamentale. Spațiile de publicitate sunt limitate, iar reclama neinvazivă.\",\n",
    "    \" \",\n",
    ")\n",
    "r17.sub(\"\", line)"
   ]
  },
  {
   "cell_type": "markdown",
   "metadata": {},
   "source": [
    "REZULTATE BACALAUREAT\n",
    "\n",
    "REZULTATE EVALUARE NAȚIONALĂ\n",
    "\n",
    "Rezultate Admitere Liceu\n",
    "\n",
    "Prezența la vot în județul\n",
    "\n",
    "Răspuns: \n"
   ]
  },
  {
   "cell_type": "code",
   "execution_count": 3,
   "metadata": {},
   "outputs": [],
   "source": [
    "from wordcloud import WordCloud\n",
    "import time\n",
    "import advertools as adv\n",
    "\n",
    "wc = WordCloud(background_color = 'white', width = 3840, height = 2160)"
   ]
  },
  {
   "cell_type": "markdown",
   "metadata": {},
   "source": [
    "Min date: Timestamp('2007-03-29 00:00:00+0000', tz='UTC')"
   ]
  },
  {
   "cell_type": "code",
   "execution_count": 4,
   "metadata": {},
   "outputs": [],
   "source": [
    "stop_words = adv.stopwords[\"romanian\"]\n",
    "stop_words.add(\"însă\")\n",
    "stop_words.add(\"și\")\n",
    "stop_words.add(\"şi\")\n",
    "stop_words.add(\"Şi\")\n",
    "stop_words.add(\"de\")\n",
    "stop_words.add(\"cu\")\n",
    "stop_words.add(\"în\")\n",
    "stop_words.add(\"din\")\n",
    "stop_words.add(\"spune\")\n",
    "stop_words.add(\"spus\")\n",
    "stop_words.add(\"trebuie\")\n",
    "stop_words.add(\"într o\")\n",
    "stop_words.add(\"într un\")\n",
    "stop_words.add(\"făcut\")\n",
    "stop_words.add(\"dacă\")\n",
    "stop_words.add(\"așa\")\n",
    "stop_words.add(\"s au\")\n",
    "stop_words.add(\"într\")\n"
   ]
  },
  {
   "cell_type": "markdown",
   "metadata": {},
   "source": [
    "Wordcloud for all data"
   ]
  },
  {
   "cell_type": "code",
   "execution_count": 225,
   "metadata": {},
   "outputs": [],
   "source": [
    "time_ = pd.Timestamp(\"2010-01-01 00:00:00+0000\", tz=\"UTC\")\n",
    "year = pd.Timedelta(days=366)\n",
    "while time_ < pd.Timestamp.utcnow():\n",
    "    sentences = \"\"\n",
    "    for sentence in df[(df.date > time_) & (df.date <= time_ + year)][\"content\"]:\n",
    "        sentences += sentence\n",
    "    for stop_word in stop_words:\n",
    "        sentences = re.sub(fr\"\\b({stop_word})\\b\", \" \", sentences, flags=re.I)\n",
    "    sentences = re.sub(r\"\\b[a-zA-Z1-9]\\b\", \" \", sentences, flags=re.I)\n",
    "    sentences = re.sub(r\"\\bs\\b\", \" \", sentences)\n",
    "    sentences = re.sub(r\"\\bS\\b\", \" \", sentences)\n",
    "    sentences = re.sub(\" +\", \" \", sentences).strip()\n",
    "\n",
    "    wc.generate_from_text(sentences)\n",
    "    num_words = len(sentences.split(\" \"))\n",
    "    wc.to_file(f\"content_{time_}_{num_words}.png\")\n",
    "    time_ += year\n"
   ]
  },
  {
   "cell_type": "markdown",
   "metadata": {},
   "source": [
    "Wordcloud for fake/valid data splitted"
   ]
  },
  {
   "cell_type": "code",
   "execution_count": null,
   "metadata": {},
   "outputs": [],
   "source": [
    "time_ = pd.Timestamp(\"2010-01-01 00:00:00+0000\", tz=\"UTC\")\n",
    "year = pd.Timedelta(days=366)\n",
    "while time_ < pd.Timestamp.utcnow():\n",
    "    sentences = \"\"\n",
    "    for sentence in df[\n",
    "        (df.date > time_) & (df.date <= time_ + year) & (df.site == \"https://www.timesnewroman.ro/\")\n",
    "    ][\"content\"]:\n",
    "        sentences += sentence\n",
    "    for stop_word in stop_words:\n",
    "        sentences = re.sub(fr\"\\b({stop_word})\\b\", \" \", sentences, flags=re.I)\n",
    "    sentences = re.sub(r\"\\b[a-zA-Z1-9]\\b\", \" \", sentences, flags=re.I)\n",
    "    sentences = re.sub(r\"\\bs\\b\", \" \", sentences)\n",
    "    sentences = re.sub(r\"\\bS\\b\", \" \", sentences)\n",
    "    sentences = re.sub(\" +\", \" \", sentences).strip()\n",
    "\n",
    "    wc.generate_from_text(sentences)\n",
    "    num_words = len(sentences.split(\" \"))\n",
    "    wc.to_file(f\"content_{time_}_{num_words}_fake.png\")\n",
    "    time_ += year"
   ]
  },
  {
   "cell_type": "code",
   "execution_count": 5,
   "metadata": {},
   "outputs": [],
   "source": [
    "time_ = pd.Timestamp(\"2010-01-01 00:00:00+0000\", tz=\"UTC\")\n",
    "year = pd.Timedelta(days=366)\n",
    "while time_ < pd.Timestamp.utcnow():\n",
    "    sentences = \"\"\n",
    "    for sentence in df[\n",
    "        (df.date > time_) & (df.date <= time_ + year) & (df.site != \"https://www.timesnewroman.ro/\")\n",
    "    ][\"content\"]:\n",
    "        sentences += sentence\n",
    "    for stop_word in stop_words:\n",
    "        sentences = re.sub(fr\"\\b({stop_word})\\b\", \" \", sentences, flags=re.I)\n",
    "    sentences = re.sub(r\"\\b[a-zA-Z1-9]\\b\", \" \", sentences, flags=re.I)\n",
    "    sentences = re.sub(r\"\\bs\\b\", \" \", sentences)\n",
    "    sentences = re.sub(r\"\\bS\\b\", \" \", sentences)\n",
    "    sentences = re.sub(\" +\", \" \", sentences).strip()\n",
    "    if sentences != \"\":\n",
    "        wc.generate_from_text(sentences)\n",
    "        num_words = len(sentences.split(\" \"))\n",
    "        wc.to_file(f\"content_{time_}_{num_words}_valid.png\")\n",
    "    time_ += year\n",
    "\n"
   ]
  },
  {
   "cell_type": "code",
   "execution_count": 229,
   "metadata": {},
   "outputs": [
    {
     "data": {
      "text/plain": [
       "274"
      ]
     },
     "execution_count": 229,
     "metadata": {},
     "output_type": "execute_result"
    }
   ],
   "source": [
    "from stop_words import get_stop_words\n",
    "stop_words = get_stop_words('ro')\n",
    "len(stop_words)"
   ]
  },
  {
   "cell_type": "code",
   "execution_count": 213,
   "metadata": {},
   "outputs": [],
   "source": [
    "sentences = \"\"\"\n",
    "1. În satul Olimpic fiecare se cunoaște cu fiecare, asta și pentru că au numele scrise pe tricouri.\n",
    "2. Cel mai bogat om din sat e preotul satului Olimpic, fiindcă are o biserică medaliată toată cu aur.\n",
    "3. Primarul satului olimpic i-a împroprietărit pe țăranii din sat cu loturi olimpice.\n",
    "4. În localitate există și curva satului Olimpic, care face sex cu clanul sportivilor.\n",
    "5. Țăranii din satul Olimpic au intrat în campanie agricolă și recoltează de pe câmp sulițe, discuri și ciocane.\n",
    "6. Există o veche rivalitate între satul Olimpic și satul vecin.\n",
    "7. Principalele canale media sunt postul de radio Antena Satelor Olimpice și emisiunea TV Viața Satului Olimpic .\n",
    "8. Bătrânii satului Olimpic au o vorbă: Sportivul care e fără de păcat are voie să arunce primul cu sulița.\n",
    "9. Primarul satului a cerut Comitetului Olimpic ca satul Olimpic să devină municipiu\n",
    "10. Primarul din satul Olimpic le-a promis sătenilor că dacă va fi reales le va face și un teren de sport.\n",
    "\"\"\"\n",
    "for stop_word in stop_words:\n",
    "    sentences = re.sub(fr\" {stop_word} \", \" \", sentences, flags=re.I)\n"
   ]
  },
  {
   "cell_type": "code",
   "execution_count": 214,
   "metadata": {},
   "outputs": [
    {
     "data": {
      "text/plain": [
       "'\\n1. satul Olimpic cunoaște fiecare, numele scrise tricouri.\\n2. bogat om sat preotul satului Olimpic, fiindcă biserică medaliată aur.\\n3. Primarul satului olimpic i-a împroprietărit țăranii sat loturi olimpice.4. localitate există curva satului Olimpic, sex clanul sportivilor.\\n5. Țăranii satul Olimpic intrat campanie agricolă recoltează câmp sulițe, discuri ciocane.\\n6. Există veche rivalitate satul Olimpic satul vecin.\\n7. Principalele canale media postul radio Antena Satelor Olimpice emisiunea TV Viața Satului Olimpic .\\n8. Bătrânii satului Olimpic vorbă: Sportivul păcat voie arunce sulița.\\n9. Primarul satului cerut Comitetului Olimpic satul Olimpic devină municipiu\\n10. Primarul satul Olimpic le-a promis sătenilor reales teren sport.\\n'"
      ]
     },
     "execution_count": 214,
     "metadata": {},
     "output_type": "execute_result"
    }
   ],
   "source": [
    "sentences"
   ]
  },
  {
   "cell_type": "code",
   "execution_count": 191,
   "metadata": {},
   "outputs": [
    {
     "data": {
      "text/plain": [
       "'Ana  mere   pere faine   ana  sda  '"
      ]
     },
     "execution_count": 191,
     "metadata": {},
     "output_type": "execute_result"
    }
   ],
   "source": [
    "sentences = \"Ana are mere multe si pere faine si la ana la sda la \"\n",
    "for stop_word in stop_words:\n",
    "    sentences = re.sub(fr\"\\b{stop_word}\\b\", \"\", sentences)\n",
    "\n",
    "sentences"
   ]
  },
  {
   "cell_type": "code",
   "execution_count": null,
   "metadata": {},
   "outputs": [],
   "source": [
    "sentences = \"Ana are mere multe si pere faine si la la la\"\n",
    "\n",
    "for stop_word in adv.stopwords[\"romanian\"]:\n",
    "    sentences = re.sub(fr\" {stop_word} \",\" \", sentences)\n",
    "\n",
    "sentences"
   ]
  },
  {
   "cell_type": "markdown",
   "metadata": {},
   "source": [
    "https://monkeylearn.com/text-analysis/"
   ]
  },
  {
   "cell_type": "markdown",
   "metadata": {},
   "source": [
    "plot the count of news by domain (for fake/valid news and both)"
   ]
  },
  {
   "cell_type": "code",
   "execution_count": 4,
   "metadata": {},
   "outputs": [
    {
     "data": {
      "text/html": [
       "        <script type=\"text/javascript\">\n",
       "        window.PlotlyConfig = {MathJaxConfig: 'local'};\n",
       "        if (window.MathJax) {MathJax.Hub.Config({SVG: {font: \"STIX-Web\"}});}\n",
       "        if (typeof require !== 'undefined') {\n",
       "        require.undef(\"plotly\");\n",
       "        requirejs.config({\n",
       "            paths: {\n",
       "                'plotly': ['https://cdn.plot.ly/plotly-2.9.0.min']\n",
       "            }\n",
       "        });\n",
       "        require(['plotly'], function(Plotly) {\n",
       "            window._Plotly = Plotly;\n",
       "        });\n",
       "        }\n",
       "        </script>\n",
       "        "
      ]
     },
     "metadata": {},
     "output_type": "display_data"
    },
    {
     "data": {
      "text/html": [
       "<div>                            <div id=\"1698f048-d98c-4d24-a116-29a4a45276b1\" class=\"plotly-graph-div\" style=\"height:525px; width:100%;\"></div>            <script type=\"text/javascript\">                require([\"plotly\"], function(Plotly) {                    window.PLOTLYENV=window.PLOTLYENV || {};                                    if (document.getElementById(\"1698f048-d98c-4d24-a116-29a4a45276b1\")) {                    Plotly.newPlot(                        \"1698f048-d98c-4d24-a116-29a4a45276b1\",                        [{\"alignmentgroup\":\"True\",\"bingroup\":\"x\",\"histfunc\":\"sum\",\"hovertemplate\":\"type=fake<br>domain=%{x}<br>sum of length=%{y}<extra></extra>\",\"legendgroup\":\"fake\",\"marker\":{\"color\":\"#636efa\",\"pattern\":{\"shape\":\"\"}},\"name\":\"fake\",\"offsetgroup\":\"fake\",\"orientation\":\"v\",\"showlegend\":true,\"texttemplate\":\"%{value:.2s}\",\"x\":[\"monden/\",\"it-stiinta/\",\"sport/\",\"politic/\",\"life-death/\"],\"xaxis\":\"x\",\"y\":[6360,1503,1167,5209,6264],\"yaxis\":\"y\",\"type\":\"histogram\"},{\"alignmentgroup\":\"True\",\"bingroup\":\"x\",\"histfunc\":\"sum\",\"hovertemplate\":\"type=valid<br>domain=%{x}<br>sum of length=%{y}<extra></extra>\",\"legendgroup\":\"valid\",\"marker\":{\"color\":\"#EF553B\",\"pattern\":{\"shape\":\"\"}},\"name\":\"valid\",\"offsetgroup\":\"valid\",\"orientation\":\"v\",\"showlegend\":true,\"texttemplate\":\"%{value:.2s}\",\"x\":[\"\",\"stiri/economie\",\"stiri/externe\",\"stiri/actualitate\",\"stiri/actualitate/politica\",\"stiri/sport\",\"stiri/sci-tech\"],\"xaxis\":\"x\",\"y\":[2772,19362,26892,40760,32783,3404,2208],\"yaxis\":\"y\",\"type\":\"histogram\"}],                        {\"template\":{\"data\":{\"bar\":[{\"error_x\":{\"color\":\"#2a3f5f\"},\"error_y\":{\"color\":\"#2a3f5f\"},\"marker\":{\"line\":{\"color\":\"#E5ECF6\",\"width\":0.5},\"pattern\":{\"fillmode\":\"overlay\",\"size\":10,\"solidity\":0.2}},\"type\":\"bar\"}],\"barpolar\":[{\"marker\":{\"line\":{\"color\":\"#E5ECF6\",\"width\":0.5},\"pattern\":{\"fillmode\":\"overlay\",\"size\":10,\"solidity\":0.2}},\"type\":\"barpolar\"}],\"carpet\":[{\"aaxis\":{\"endlinecolor\":\"#2a3f5f\",\"gridcolor\":\"white\",\"linecolor\":\"white\",\"minorgridcolor\":\"white\",\"startlinecolor\":\"#2a3f5f\"},\"baxis\":{\"endlinecolor\":\"#2a3f5f\",\"gridcolor\":\"white\",\"linecolor\":\"white\",\"minorgridcolor\":\"white\",\"startlinecolor\":\"#2a3f5f\"},\"type\":\"carpet\"}],\"choropleth\":[{\"colorbar\":{\"outlinewidth\":0,\"ticks\":\"\"},\"type\":\"choropleth\"}],\"contour\":[{\"colorbar\":{\"outlinewidth\":0,\"ticks\":\"\"},\"colorscale\":[[0.0,\"#0d0887\"],[0.1111111111111111,\"#46039f\"],[0.2222222222222222,\"#7201a8\"],[0.3333333333333333,\"#9c179e\"],[0.4444444444444444,\"#bd3786\"],[0.5555555555555556,\"#d8576b\"],[0.6666666666666666,\"#ed7953\"],[0.7777777777777778,\"#fb9f3a\"],[0.8888888888888888,\"#fdca26\"],[1.0,\"#f0f921\"]],\"type\":\"contour\"}],\"contourcarpet\":[{\"colorbar\":{\"outlinewidth\":0,\"ticks\":\"\"},\"type\":\"contourcarpet\"}],\"heatmap\":[{\"colorbar\":{\"outlinewidth\":0,\"ticks\":\"\"},\"colorscale\":[[0.0,\"#0d0887\"],[0.1111111111111111,\"#46039f\"],[0.2222222222222222,\"#7201a8\"],[0.3333333333333333,\"#9c179e\"],[0.4444444444444444,\"#bd3786\"],[0.5555555555555556,\"#d8576b\"],[0.6666666666666666,\"#ed7953\"],[0.7777777777777778,\"#fb9f3a\"],[0.8888888888888888,\"#fdca26\"],[1.0,\"#f0f921\"]],\"type\":\"heatmap\"}],\"heatmapgl\":[{\"colorbar\":{\"outlinewidth\":0,\"ticks\":\"\"},\"colorscale\":[[0.0,\"#0d0887\"],[0.1111111111111111,\"#46039f\"],[0.2222222222222222,\"#7201a8\"],[0.3333333333333333,\"#9c179e\"],[0.4444444444444444,\"#bd3786\"],[0.5555555555555556,\"#d8576b\"],[0.6666666666666666,\"#ed7953\"],[0.7777777777777778,\"#fb9f3a\"],[0.8888888888888888,\"#fdca26\"],[1.0,\"#f0f921\"]],\"type\":\"heatmapgl\"}],\"histogram\":[{\"marker\":{\"pattern\":{\"fillmode\":\"overlay\",\"size\":10,\"solidity\":0.2}},\"type\":\"histogram\"}],\"histogram2d\":[{\"colorbar\":{\"outlinewidth\":0,\"ticks\":\"\"},\"colorscale\":[[0.0,\"#0d0887\"],[0.1111111111111111,\"#46039f\"],[0.2222222222222222,\"#7201a8\"],[0.3333333333333333,\"#9c179e\"],[0.4444444444444444,\"#bd3786\"],[0.5555555555555556,\"#d8576b\"],[0.6666666666666666,\"#ed7953\"],[0.7777777777777778,\"#fb9f3a\"],[0.8888888888888888,\"#fdca26\"],[1.0,\"#f0f921\"]],\"type\":\"histogram2d\"}],\"histogram2dcontour\":[{\"colorbar\":{\"outlinewidth\":0,\"ticks\":\"\"},\"colorscale\":[[0.0,\"#0d0887\"],[0.1111111111111111,\"#46039f\"],[0.2222222222222222,\"#7201a8\"],[0.3333333333333333,\"#9c179e\"],[0.4444444444444444,\"#bd3786\"],[0.5555555555555556,\"#d8576b\"],[0.6666666666666666,\"#ed7953\"],[0.7777777777777778,\"#fb9f3a\"],[0.8888888888888888,\"#fdca26\"],[1.0,\"#f0f921\"]],\"type\":\"histogram2dcontour\"}],\"mesh3d\":[{\"colorbar\":{\"outlinewidth\":0,\"ticks\":\"\"},\"type\":\"mesh3d\"}],\"parcoords\":[{\"line\":{\"colorbar\":{\"outlinewidth\":0,\"ticks\":\"\"}},\"type\":\"parcoords\"}],\"pie\":[{\"automargin\":true,\"type\":\"pie\"}],\"scatter\":[{\"marker\":{\"colorbar\":{\"outlinewidth\":0,\"ticks\":\"\"}},\"type\":\"scatter\"}],\"scatter3d\":[{\"line\":{\"colorbar\":{\"outlinewidth\":0,\"ticks\":\"\"}},\"marker\":{\"colorbar\":{\"outlinewidth\":0,\"ticks\":\"\"}},\"type\":\"scatter3d\"}],\"scattercarpet\":[{\"marker\":{\"colorbar\":{\"outlinewidth\":0,\"ticks\":\"\"}},\"type\":\"scattercarpet\"}],\"scattergeo\":[{\"marker\":{\"colorbar\":{\"outlinewidth\":0,\"ticks\":\"\"}},\"type\":\"scattergeo\"}],\"scattergl\":[{\"marker\":{\"colorbar\":{\"outlinewidth\":0,\"ticks\":\"\"}},\"type\":\"scattergl\"}],\"scattermapbox\":[{\"marker\":{\"colorbar\":{\"outlinewidth\":0,\"ticks\":\"\"}},\"type\":\"scattermapbox\"}],\"scatterpolar\":[{\"marker\":{\"colorbar\":{\"outlinewidth\":0,\"ticks\":\"\"}},\"type\":\"scatterpolar\"}],\"scatterpolargl\":[{\"marker\":{\"colorbar\":{\"outlinewidth\":0,\"ticks\":\"\"}},\"type\":\"scatterpolargl\"}],\"scatterternary\":[{\"marker\":{\"colorbar\":{\"outlinewidth\":0,\"ticks\":\"\"}},\"type\":\"scatterternary\"}],\"surface\":[{\"colorbar\":{\"outlinewidth\":0,\"ticks\":\"\"},\"colorscale\":[[0.0,\"#0d0887\"],[0.1111111111111111,\"#46039f\"],[0.2222222222222222,\"#7201a8\"],[0.3333333333333333,\"#9c179e\"],[0.4444444444444444,\"#bd3786\"],[0.5555555555555556,\"#d8576b\"],[0.6666666666666666,\"#ed7953\"],[0.7777777777777778,\"#fb9f3a\"],[0.8888888888888888,\"#fdca26\"],[1.0,\"#f0f921\"]],\"type\":\"surface\"}],\"table\":[{\"cells\":{\"fill\":{\"color\":\"#EBF0F8\"},\"line\":{\"color\":\"white\"}},\"header\":{\"fill\":{\"color\":\"#C8D4E3\"},\"line\":{\"color\":\"white\"}},\"type\":\"table\"}]},\"layout\":{\"annotationdefaults\":{\"arrowcolor\":\"#2a3f5f\",\"arrowhead\":0,\"arrowwidth\":1},\"autotypenumbers\":\"strict\",\"coloraxis\":{\"colorbar\":{\"outlinewidth\":0,\"ticks\":\"\"}},\"colorscale\":{\"diverging\":[[0,\"#8e0152\"],[0.1,\"#c51b7d\"],[0.2,\"#de77ae\"],[0.3,\"#f1b6da\"],[0.4,\"#fde0ef\"],[0.5,\"#f7f7f7\"],[0.6,\"#e6f5d0\"],[0.7,\"#b8e186\"],[0.8,\"#7fbc41\"],[0.9,\"#4d9221\"],[1,\"#276419\"]],\"sequential\":[[0.0,\"#0d0887\"],[0.1111111111111111,\"#46039f\"],[0.2222222222222222,\"#7201a8\"],[0.3333333333333333,\"#9c179e\"],[0.4444444444444444,\"#bd3786\"],[0.5555555555555556,\"#d8576b\"],[0.6666666666666666,\"#ed7953\"],[0.7777777777777778,\"#fb9f3a\"],[0.8888888888888888,\"#fdca26\"],[1.0,\"#f0f921\"]],\"sequentialminus\":[[0.0,\"#0d0887\"],[0.1111111111111111,\"#46039f\"],[0.2222222222222222,\"#7201a8\"],[0.3333333333333333,\"#9c179e\"],[0.4444444444444444,\"#bd3786\"],[0.5555555555555556,\"#d8576b\"],[0.6666666666666666,\"#ed7953\"],[0.7777777777777778,\"#fb9f3a\"],[0.8888888888888888,\"#fdca26\"],[1.0,\"#f0f921\"]]},\"colorway\":[\"#636efa\",\"#EF553B\",\"#00cc96\",\"#ab63fa\",\"#FFA15A\",\"#19d3f3\",\"#FF6692\",\"#B6E880\",\"#FF97FF\",\"#FECB52\"],\"font\":{\"color\":\"#2a3f5f\"},\"geo\":{\"bgcolor\":\"white\",\"lakecolor\":\"white\",\"landcolor\":\"#E5ECF6\",\"showlakes\":true,\"showland\":true,\"subunitcolor\":\"white\"},\"hoverlabel\":{\"align\":\"left\"},\"hovermode\":\"closest\",\"mapbox\":{\"style\":\"light\"},\"paper_bgcolor\":\"white\",\"plot_bgcolor\":\"#E5ECF6\",\"polar\":{\"angularaxis\":{\"gridcolor\":\"white\",\"linecolor\":\"white\",\"ticks\":\"\"},\"bgcolor\":\"#E5ECF6\",\"radialaxis\":{\"gridcolor\":\"white\",\"linecolor\":\"white\",\"ticks\":\"\"}},\"scene\":{\"xaxis\":{\"backgroundcolor\":\"#E5ECF6\",\"gridcolor\":\"white\",\"gridwidth\":2,\"linecolor\":\"white\",\"showbackground\":true,\"ticks\":\"\",\"zerolinecolor\":\"white\"},\"yaxis\":{\"backgroundcolor\":\"#E5ECF6\",\"gridcolor\":\"white\",\"gridwidth\":2,\"linecolor\":\"white\",\"showbackground\":true,\"ticks\":\"\",\"zerolinecolor\":\"white\"},\"zaxis\":{\"backgroundcolor\":\"#E5ECF6\",\"gridcolor\":\"white\",\"gridwidth\":2,\"linecolor\":\"white\",\"showbackground\":true,\"ticks\":\"\",\"zerolinecolor\":\"white\"}},\"shapedefaults\":{\"line\":{\"color\":\"#2a3f5f\"}},\"ternary\":{\"aaxis\":{\"gridcolor\":\"white\",\"linecolor\":\"white\",\"ticks\":\"\"},\"baxis\":{\"gridcolor\":\"white\",\"linecolor\":\"white\",\"ticks\":\"\"},\"bgcolor\":\"#E5ECF6\",\"caxis\":{\"gridcolor\":\"white\",\"linecolor\":\"white\",\"ticks\":\"\"}},\"title\":{\"x\":0.05},\"xaxis\":{\"automargin\":true,\"gridcolor\":\"white\",\"linecolor\":\"white\",\"ticks\":\"\",\"title\":{\"standoff\":15},\"zerolinecolor\":\"white\",\"zerolinewidth\":2},\"yaxis\":{\"automargin\":true,\"gridcolor\":\"white\",\"linecolor\":\"white\",\"ticks\":\"\",\"title\":{\"standoff\":15},\"zerolinecolor\":\"white\",\"zerolinewidth\":2}}},\"xaxis\":{\"anchor\":\"y\",\"domain\":[0.0,1.0],\"title\":{\"text\":\"domain\"}},\"yaxis\":{\"anchor\":\"x\",\"domain\":[0.0,1.0],\"title\":{\"text\":\"sum of length\"}},\"legend\":{\"title\":{\"text\":\"type\"},\"tracegroupgap\":0},\"margin\":{\"t\":60},\"barmode\":\"relative\"},                        {\"responsive\": true}                    ).then(function(){\n",
       "                            \n",
       "var gd = document.getElementById('1698f048-d98c-4d24-a116-29a4a45276b1');\n",
       "var x = new MutationObserver(function (mutations, observer) {{\n",
       "        var display = window.getComputedStyle(gd).display;\n",
       "        if (!display || display === 'none') {{\n",
       "            console.log([gd, 'removed!']);\n",
       "            Plotly.purge(gd);\n",
       "            observer.disconnect();\n",
       "        }}\n",
       "}});\n",
       "\n",
       "// Listen for the removal of the full notebook cells\n",
       "var notebookContainer = gd.closest('#notebook-container');\n",
       "if (notebookContainer) {{\n",
       "    x.observe(notebookContainer, {childList: true});\n",
       "}}\n",
       "\n",
       "// Listen for the clearing of the current output cell\n",
       "var outputEl = gd.closest('.output');\n",
       "if (outputEl) {{\n",
       "    x.observe(outputEl, {childList: true});\n",
       "}}\n",
       "\n",
       "                        })                };                });            </script>        </div>"
      ]
     },
     "metadata": {},
     "output_type": "display_data"
    }
   ],
   "source": [
    "domain_number = []\n",
    "\n",
    "for domain in df[\"domain\"].unique():\n",
    "    domain_number.append(\n",
    "        {\n",
    "            \"domain\": domain,\n",
    "            \"length\": len(df[df.domain == domain]),\n",
    "            \"type\": \"valid\" if (\"stiri\" in domain) or (\"\" == domain) else \"fake\",\n",
    "        }\n",
    "    )\n",
    "\n",
    "\n",
    "fig = px.histogram(domain_number, x=\"domain\", y=\"length\", color=\"type\", text_auto=\".2s\")\n",
    "fig.show()\n"
   ]
  },
  {
   "cell_type": "code",
   "execution_count": 17,
   "metadata": {},
   "outputs": [
    {
     "data": {
      "text/html": [
       "<div>                            <div id=\"1b3b1214-f9d7-46e5-a85e-6c7ac1b055cd\" class=\"plotly-graph-div\" style=\"height:525px; width:100%;\"></div>            <script type=\"text/javascript\">                require([\"plotly\"], function(Plotly) {                    window.PLOTLYENV=window.PLOTLYENV || {};                                    if (document.getElementById(\"1b3b1214-f9d7-46e5-a85e-6c7ac1b055cd\")) {                    Plotly.newPlot(                        \"1b3b1214-f9d7-46e5-a85e-6c7ac1b055cd\",                        [{\"alignmentgroup\":\"True\",\"bingroup\":\"x\",\"histfunc\":\"sum\",\"hovertemplate\":\"year=2010-01-01 00:00:00+00:00<br>domain=%{x}<br>sum of length=%{y}<extra></extra>\",\"legendgroup\":\"2010-01-01 00:00:00+00:00\",\"marker\":{\"color\":\"#636efa\",\"pattern\":{\"shape\":\"\"}},\"name\":\"2010-01-01 00:00:00+00:00\",\"offsetgroup\":\"2010-01-01 00:00:00+00:00\",\"orientation\":\"v\",\"showlegend\":true,\"texttemplate\":\"%{value:.2s}\",\"x\":[\"monden/\",\"it-stiinta/\",\"sport/\",\"politic/\",\"life-death/\",\"\",\"stiri/economie\",\"stiri/externe\",\"stiri/actualitate\",\"stiri/actualitate/politica\",\"stiri/sport\",\"stiri/sci-tech\"],\"xaxis\":\"x\",\"y\":[181,2,104,303,609,0,0,0,0,0,0,0],\"yaxis\":\"y\",\"type\":\"histogram\"},{\"alignmentgroup\":\"True\",\"bingroup\":\"x\",\"histfunc\":\"sum\",\"hovertemplate\":\"year=2011-01-02 00:00:00+00:00<br>domain=%{x}<br>sum of length=%{y}<extra></extra>\",\"legendgroup\":\"2011-01-02 00:00:00+00:00\",\"marker\":{\"color\":\"#EF553B\",\"pattern\":{\"shape\":\"\"}},\"name\":\"2011-01-02 00:00:00+00:00\",\"offsetgroup\":\"2011-01-02 00:00:00+00:00\",\"orientation\":\"v\",\"showlegend\":true,\"texttemplate\":\"%{value:.2s}\",\"x\":[\"monden/\",\"it-stiinta/\",\"sport/\",\"politic/\",\"life-death/\",\"\",\"stiri/economie\",\"stiri/externe\",\"stiri/actualitate\",\"stiri/actualitate/politica\",\"stiri/sport\",\"stiri/sci-tech\"],\"xaxis\":\"x\",\"y\":[296,2,78,278,364,0,0,0,0,0,0,0],\"yaxis\":\"y\",\"type\":\"histogram\"},{\"alignmentgroup\":\"True\",\"bingroup\":\"x\",\"histfunc\":\"sum\",\"hovertemplate\":\"year=2012-01-03 00:00:00+00:00<br>domain=%{x}<br>sum of length=%{y}<extra></extra>\",\"legendgroup\":\"2012-01-03 00:00:00+00:00\",\"marker\":{\"color\":\"#00cc96\",\"pattern\":{\"shape\":\"\"}},\"name\":\"2012-01-03 00:00:00+00:00\",\"offsetgroup\":\"2012-01-03 00:00:00+00:00\",\"orientation\":\"v\",\"showlegend\":true,\"texttemplate\":\"%{value:.2s}\",\"x\":[\"monden/\",\"it-stiinta/\",\"sport/\",\"politic/\",\"life-death/\",\"\",\"stiri/economie\",\"stiri/externe\",\"stiri/actualitate\",\"stiri/actualitate/politica\",\"stiri/sport\",\"stiri/sci-tech\"],\"xaxis\":\"x\",\"y\":[469,2,130,471,469,0,0,0,0,0,0,0],\"yaxis\":\"y\",\"type\":\"histogram\"},{\"alignmentgroup\":\"True\",\"bingroup\":\"x\",\"histfunc\":\"sum\",\"hovertemplate\":\"year=2013-01-03 00:00:00+00:00<br>domain=%{x}<br>sum of length=%{y}<extra></extra>\",\"legendgroup\":\"2013-01-03 00:00:00+00:00\",\"marker\":{\"color\":\"#ab63fa\",\"pattern\":{\"shape\":\"\"}},\"name\":\"2013-01-03 00:00:00+00:00\",\"offsetgroup\":\"2013-01-03 00:00:00+00:00\",\"orientation\":\"v\",\"showlegend\":true,\"texttemplate\":\"%{value:.2s}\",\"x\":[\"monden/\",\"it-stiinta/\",\"sport/\",\"politic/\",\"life-death/\",\"\",\"stiri/economie\",\"stiri/externe\",\"stiri/actualitate\",\"stiri/actualitate/politica\",\"stiri/sport\",\"stiri/sci-tech\"],\"xaxis\":\"x\",\"y\":[543,77,176,543,557,0,0,0,0,1561,0,0],\"yaxis\":\"y\",\"type\":\"histogram\"},{\"alignmentgroup\":\"True\",\"bingroup\":\"x\",\"histfunc\":\"sum\",\"hovertemplate\":\"year=2014-01-04 00:00:00+00:00<br>domain=%{x}<br>sum of length=%{y}<extra></extra>\",\"legendgroup\":\"2014-01-04 00:00:00+00:00\",\"marker\":{\"color\":\"#FFA15A\",\"pattern\":{\"shape\":\"\"}},\"name\":\"2014-01-04 00:00:00+00:00\",\"offsetgroup\":\"2014-01-04 00:00:00+00:00\",\"orientation\":\"v\",\"showlegend\":true,\"texttemplate\":\"%{value:.2s}\",\"x\":[\"monden/\",\"it-stiinta/\",\"sport/\",\"politic/\",\"life-death/\",\"\",\"stiri/economie\",\"stiri/externe\",\"stiri/actualitate\",\"stiri/actualitate/politica\",\"stiri/sport\",\"stiri/sci-tech\"],\"xaxis\":\"x\",\"y\":[550,174,153,598,438,0,0,0,0,2960,0,0],\"yaxis\":\"y\",\"type\":\"histogram\"},{\"alignmentgroup\":\"True\",\"bingroup\":\"x\",\"histfunc\":\"sum\",\"hovertemplate\":\"year=2015-01-05 00:00:00+00:00<br>domain=%{x}<br>sum of length=%{y}<extra></extra>\",\"legendgroup\":\"2015-01-05 00:00:00+00:00\",\"marker\":{\"color\":\"#19d3f3\",\"pattern\":{\"shape\":\"\"}},\"name\":\"2015-01-05 00:00:00+00:00\",\"offsetgroup\":\"2015-01-05 00:00:00+00:00\",\"orientation\":\"v\",\"showlegend\":true,\"texttemplate\":\"%{value:.2s}\",\"x\":[\"monden/\",\"it-stiinta/\",\"sport/\",\"politic/\",\"life-death/\",\"\",\"stiri/economie\",\"stiri/externe\",\"stiri/actualitate\",\"stiri/actualitate/politica\",\"stiri/sport\",\"stiri/sci-tech\"],\"xaxis\":\"x\",\"y\":[544,146,88,569,424,0,142,0,0,2401,0,0],\"yaxis\":\"y\",\"type\":\"histogram\"},{\"alignmentgroup\":\"True\",\"bingroup\":\"x\",\"histfunc\":\"sum\",\"hovertemplate\":\"year=2016-01-06 00:00:00+00:00<br>domain=%{x}<br>sum of length=%{y}<extra></extra>\",\"legendgroup\":\"2016-01-06 00:00:00+00:00\",\"marker\":{\"color\":\"#FF6692\",\"pattern\":{\"shape\":\"\"}},\"name\":\"2016-01-06 00:00:00+00:00\",\"offsetgroup\":\"2016-01-06 00:00:00+00:00\",\"orientation\":\"v\",\"showlegend\":true,\"texttemplate\":\"%{value:.2s}\",\"x\":[\"monden/\",\"it-stiinta/\",\"sport/\",\"politic/\",\"life-death/\",\"\",\"stiri/economie\",\"stiri/externe\",\"stiri/actualitate\",\"stiri/actualitate/politica\",\"stiri/sport\",\"stiri/sci-tech\"],\"xaxis\":\"x\",\"y\":[523,131,70,541,475,0,2796,0,0,2757,0,0],\"yaxis\":\"y\",\"type\":\"histogram\"},{\"alignmentgroup\":\"True\",\"bingroup\":\"x\",\"histfunc\":\"sum\",\"hovertemplate\":\"year=2017-01-06 00:00:00+00:00<br>domain=%{x}<br>sum of length=%{y}<extra></extra>\",\"legendgroup\":\"2017-01-06 00:00:00+00:00\",\"marker\":{\"color\":\"#B6E880\",\"pattern\":{\"shape\":\"\"}},\"name\":\"2017-01-06 00:00:00+00:00\",\"offsetgroup\":\"2017-01-06 00:00:00+00:00\",\"orientation\":\"v\",\"showlegend\":true,\"texttemplate\":\"%{value:.2s}\",\"x\":[\"monden/\",\"it-stiinta/\",\"sport/\",\"politic/\",\"life-death/\",\"\",\"stiri/economie\",\"stiri/externe\",\"stiri/actualitate\",\"stiri/actualitate/politica\",\"stiri/sport\",\"stiri/sci-tech\"],\"xaxis\":\"x\",\"y\":[560,154,45,499,477,0,5510,0,0,4101,0,0],\"yaxis\":\"y\",\"type\":\"histogram\"},{\"alignmentgroup\":\"True\",\"bingroup\":\"x\",\"histfunc\":\"sum\",\"hovertemplate\":\"year=2018-01-07 00:00:00+00:00<br>domain=%{x}<br>sum of length=%{y}<extra></extra>\",\"legendgroup\":\"2018-01-07 00:00:00+00:00\",\"marker\":{\"color\":\"#FF97FF\",\"pattern\":{\"shape\":\"\"}},\"name\":\"2018-01-07 00:00:00+00:00\",\"offsetgroup\":\"2018-01-07 00:00:00+00:00\",\"orientation\":\"v\",\"showlegend\":true,\"texttemplate\":\"%{value:.2s}\",\"x\":[\"monden/\",\"it-stiinta/\",\"sport/\",\"politic/\",\"life-death/\",\"\",\"stiri/economie\",\"stiri/externe\",\"stiri/actualitate\",\"stiri/actualitate/politica\",\"stiri/sport\",\"stiri/sci-tech\"],\"xaxis\":\"x\",\"y\":[577,230,60,415,489,0,3925,0,4405,5260,1036,0],\"yaxis\":\"y\",\"type\":\"histogram\"},{\"alignmentgroup\":\"True\",\"bingroup\":\"x\",\"histfunc\":\"sum\",\"hovertemplate\":\"year=2019-01-08 00:00:00+00:00<br>domain=%{x}<br>sum of length=%{y}<extra></extra>\",\"legendgroup\":\"2019-01-08 00:00:00+00:00\",\"marker\":{\"color\":\"#FECB52\",\"pattern\":{\"shape\":\"\"}},\"name\":\"2019-01-08 00:00:00+00:00\",\"offsetgroup\":\"2019-01-08 00:00:00+00:00\",\"orientation\":\"v\",\"showlegend\":true,\"texttemplate\":\"%{value:.2s}\",\"x\":[\"monden/\",\"it-stiinta/\",\"sport/\",\"politic/\",\"life-death/\",\"\",\"stiri/economie\",\"stiri/externe\",\"stiri/actualitate\",\"stiri/actualitate/politica\",\"stiri/sport\",\"stiri/sci-tech\"],\"xaxis\":\"x\",\"y\":[724,201,57,347,465,0,2320,19,15505,6133,1063,0],\"yaxis\":\"y\",\"type\":\"histogram\"},{\"alignmentgroup\":\"True\",\"bingroup\":\"x\",\"histfunc\":\"sum\",\"hovertemplate\":\"year=2020-01-09 00:00:00+00:00<br>domain=%{x}<br>sum of length=%{y}<extra></extra>\",\"legendgroup\":\"2020-01-09 00:00:00+00:00\",\"marker\":{\"color\":\"#636efa\",\"pattern\":{\"shape\":\"\"}},\"name\":\"2020-01-09 00:00:00+00:00\",\"offsetgroup\":\"2020-01-09 00:00:00+00:00\",\"orientation\":\"v\",\"showlegend\":true,\"texttemplate\":\"%{value:.2s}\",\"x\":[\"monden/\",\"it-stiinta/\",\"sport/\",\"politic/\",\"life-death/\",\"\",\"stiri/economie\",\"stiri/externe\",\"stiri/actualitate\",\"stiri/actualitate/politica\",\"stiri/sport\",\"stiri/sci-tech\"],\"xaxis\":\"x\",\"y\":[629,173,41,273,581,0,2373,12126,17001,3635,499,760],\"yaxis\":\"y\",\"type\":\"histogram\"},{\"alignmentgroup\":\"True\",\"bingroup\":\"x\",\"histfunc\":\"sum\",\"hovertemplate\":\"year=2021-01-09 00:00:00+00:00<br>domain=%{x}<br>sum of length=%{y}<extra></extra>\",\"legendgroup\":\"2021-01-09 00:00:00+00:00\",\"marker\":{\"color\":\"#EF553B\",\"pattern\":{\"shape\":\"\"}},\"name\":\"2021-01-09 00:00:00+00:00\",\"offsetgroup\":\"2021-01-09 00:00:00+00:00\",\"orientation\":\"v\",\"showlegend\":true,\"texttemplate\":\"%{value:.2s}\",\"x\":[\"monden/\",\"it-stiinta/\",\"sport/\",\"politic/\",\"life-death/\",\"\",\"stiri/economie\",\"stiri/externe\",\"stiri/actualitate\",\"stiri/actualitate/politica\",\"stiri/sport\",\"stiri/sci-tech\"],\"xaxis\":\"x\",\"y\":[626,185,102,249,582,0,1908,11986,3849,3530,709,1315],\"yaxis\":\"y\",\"type\":\"histogram\"},{\"alignmentgroup\":\"True\",\"bingroup\":\"x\",\"histfunc\":\"sum\",\"hovertemplate\":\"year=2022-01-10 00:00:00+00:00<br>domain=%{x}<br>sum of length=%{y}<extra></extra>\",\"legendgroup\":\"2022-01-10 00:00:00+00:00\",\"marker\":{\"color\":\"#00cc96\",\"pattern\":{\"shape\":\"\"}},\"name\":\"2022-01-10 00:00:00+00:00\",\"offsetgroup\":\"2022-01-10 00:00:00+00:00\",\"orientation\":\"v\",\"showlegend\":true,\"texttemplate\":\"%{value:.2s}\",\"x\":[\"monden/\",\"it-stiinta/\",\"sport/\",\"politic/\",\"life-death/\",\"\",\"stiri/economie\",\"stiri/externe\",\"stiri/actualitate\",\"stiri/actualitate/politica\",\"stiri/sport\",\"stiri/sci-tech\"],\"xaxis\":\"x\",\"y\":[96,26,22,56,96,2772,388,2761,0,445,97,133],\"yaxis\":\"y\",\"type\":\"histogram\"}],                        {\"template\":{\"data\":{\"bar\":[{\"error_x\":{\"color\":\"#2a3f5f\"},\"error_y\":{\"color\":\"#2a3f5f\"},\"marker\":{\"line\":{\"color\":\"#E5ECF6\",\"width\":0.5},\"pattern\":{\"fillmode\":\"overlay\",\"size\":10,\"solidity\":0.2}},\"type\":\"bar\"}],\"barpolar\":[{\"marker\":{\"line\":{\"color\":\"#E5ECF6\",\"width\":0.5},\"pattern\":{\"fillmode\":\"overlay\",\"size\":10,\"solidity\":0.2}},\"type\":\"barpolar\"}],\"carpet\":[{\"aaxis\":{\"endlinecolor\":\"#2a3f5f\",\"gridcolor\":\"white\",\"linecolor\":\"white\",\"minorgridcolor\":\"white\",\"startlinecolor\":\"#2a3f5f\"},\"baxis\":{\"endlinecolor\":\"#2a3f5f\",\"gridcolor\":\"white\",\"linecolor\":\"white\",\"minorgridcolor\":\"white\",\"startlinecolor\":\"#2a3f5f\"},\"type\":\"carpet\"}],\"choropleth\":[{\"colorbar\":{\"outlinewidth\":0,\"ticks\":\"\"},\"type\":\"choropleth\"}],\"contour\":[{\"colorbar\":{\"outlinewidth\":0,\"ticks\":\"\"},\"colorscale\":[[0.0,\"#0d0887\"],[0.1111111111111111,\"#46039f\"],[0.2222222222222222,\"#7201a8\"],[0.3333333333333333,\"#9c179e\"],[0.4444444444444444,\"#bd3786\"],[0.5555555555555556,\"#d8576b\"],[0.6666666666666666,\"#ed7953\"],[0.7777777777777778,\"#fb9f3a\"],[0.8888888888888888,\"#fdca26\"],[1.0,\"#f0f921\"]],\"type\":\"contour\"}],\"contourcarpet\":[{\"colorbar\":{\"outlinewidth\":0,\"ticks\":\"\"},\"type\":\"contourcarpet\"}],\"heatmap\":[{\"colorbar\":{\"outlinewidth\":0,\"ticks\":\"\"},\"colorscale\":[[0.0,\"#0d0887\"],[0.1111111111111111,\"#46039f\"],[0.2222222222222222,\"#7201a8\"],[0.3333333333333333,\"#9c179e\"],[0.4444444444444444,\"#bd3786\"],[0.5555555555555556,\"#d8576b\"],[0.6666666666666666,\"#ed7953\"],[0.7777777777777778,\"#fb9f3a\"],[0.8888888888888888,\"#fdca26\"],[1.0,\"#f0f921\"]],\"type\":\"heatmap\"}],\"heatmapgl\":[{\"colorbar\":{\"outlinewidth\":0,\"ticks\":\"\"},\"colorscale\":[[0.0,\"#0d0887\"],[0.1111111111111111,\"#46039f\"],[0.2222222222222222,\"#7201a8\"],[0.3333333333333333,\"#9c179e\"],[0.4444444444444444,\"#bd3786\"],[0.5555555555555556,\"#d8576b\"],[0.6666666666666666,\"#ed7953\"],[0.7777777777777778,\"#fb9f3a\"],[0.8888888888888888,\"#fdca26\"],[1.0,\"#f0f921\"]],\"type\":\"heatmapgl\"}],\"histogram\":[{\"marker\":{\"pattern\":{\"fillmode\":\"overlay\",\"size\":10,\"solidity\":0.2}},\"type\":\"histogram\"}],\"histogram2d\":[{\"colorbar\":{\"outlinewidth\":0,\"ticks\":\"\"},\"colorscale\":[[0.0,\"#0d0887\"],[0.1111111111111111,\"#46039f\"],[0.2222222222222222,\"#7201a8\"],[0.3333333333333333,\"#9c179e\"],[0.4444444444444444,\"#bd3786\"],[0.5555555555555556,\"#d8576b\"],[0.6666666666666666,\"#ed7953\"],[0.7777777777777778,\"#fb9f3a\"],[0.8888888888888888,\"#fdca26\"],[1.0,\"#f0f921\"]],\"type\":\"histogram2d\"}],\"histogram2dcontour\":[{\"colorbar\":{\"outlinewidth\":0,\"ticks\":\"\"},\"colorscale\":[[0.0,\"#0d0887\"],[0.1111111111111111,\"#46039f\"],[0.2222222222222222,\"#7201a8\"],[0.3333333333333333,\"#9c179e\"],[0.4444444444444444,\"#bd3786\"],[0.5555555555555556,\"#d8576b\"],[0.6666666666666666,\"#ed7953\"],[0.7777777777777778,\"#fb9f3a\"],[0.8888888888888888,\"#fdca26\"],[1.0,\"#f0f921\"]],\"type\":\"histogram2dcontour\"}],\"mesh3d\":[{\"colorbar\":{\"outlinewidth\":0,\"ticks\":\"\"},\"type\":\"mesh3d\"}],\"parcoords\":[{\"line\":{\"colorbar\":{\"outlinewidth\":0,\"ticks\":\"\"}},\"type\":\"parcoords\"}],\"pie\":[{\"automargin\":true,\"type\":\"pie\"}],\"scatter\":[{\"marker\":{\"colorbar\":{\"outlinewidth\":0,\"ticks\":\"\"}},\"type\":\"scatter\"}],\"scatter3d\":[{\"line\":{\"colorbar\":{\"outlinewidth\":0,\"ticks\":\"\"}},\"marker\":{\"colorbar\":{\"outlinewidth\":0,\"ticks\":\"\"}},\"type\":\"scatter3d\"}],\"scattercarpet\":[{\"marker\":{\"colorbar\":{\"outlinewidth\":0,\"ticks\":\"\"}},\"type\":\"scattercarpet\"}],\"scattergeo\":[{\"marker\":{\"colorbar\":{\"outlinewidth\":0,\"ticks\":\"\"}},\"type\":\"scattergeo\"}],\"scattergl\":[{\"marker\":{\"colorbar\":{\"outlinewidth\":0,\"ticks\":\"\"}},\"type\":\"scattergl\"}],\"scattermapbox\":[{\"marker\":{\"colorbar\":{\"outlinewidth\":0,\"ticks\":\"\"}},\"type\":\"scattermapbox\"}],\"scatterpolar\":[{\"marker\":{\"colorbar\":{\"outlinewidth\":0,\"ticks\":\"\"}},\"type\":\"scatterpolar\"}],\"scatterpolargl\":[{\"marker\":{\"colorbar\":{\"outlinewidth\":0,\"ticks\":\"\"}},\"type\":\"scatterpolargl\"}],\"scatterternary\":[{\"marker\":{\"colorbar\":{\"outlinewidth\":0,\"ticks\":\"\"}},\"type\":\"scatterternary\"}],\"surface\":[{\"colorbar\":{\"outlinewidth\":0,\"ticks\":\"\"},\"colorscale\":[[0.0,\"#0d0887\"],[0.1111111111111111,\"#46039f\"],[0.2222222222222222,\"#7201a8\"],[0.3333333333333333,\"#9c179e\"],[0.4444444444444444,\"#bd3786\"],[0.5555555555555556,\"#d8576b\"],[0.6666666666666666,\"#ed7953\"],[0.7777777777777778,\"#fb9f3a\"],[0.8888888888888888,\"#fdca26\"],[1.0,\"#f0f921\"]],\"type\":\"surface\"}],\"table\":[{\"cells\":{\"fill\":{\"color\":\"#EBF0F8\"},\"line\":{\"color\":\"white\"}},\"header\":{\"fill\":{\"color\":\"#C8D4E3\"},\"line\":{\"color\":\"white\"}},\"type\":\"table\"}]},\"layout\":{\"annotationdefaults\":{\"arrowcolor\":\"#2a3f5f\",\"arrowhead\":0,\"arrowwidth\":1},\"autotypenumbers\":\"strict\",\"coloraxis\":{\"colorbar\":{\"outlinewidth\":0,\"ticks\":\"\"}},\"colorscale\":{\"diverging\":[[0,\"#8e0152\"],[0.1,\"#c51b7d\"],[0.2,\"#de77ae\"],[0.3,\"#f1b6da\"],[0.4,\"#fde0ef\"],[0.5,\"#f7f7f7\"],[0.6,\"#e6f5d0\"],[0.7,\"#b8e186\"],[0.8,\"#7fbc41\"],[0.9,\"#4d9221\"],[1,\"#276419\"]],\"sequential\":[[0.0,\"#0d0887\"],[0.1111111111111111,\"#46039f\"],[0.2222222222222222,\"#7201a8\"],[0.3333333333333333,\"#9c179e\"],[0.4444444444444444,\"#bd3786\"],[0.5555555555555556,\"#d8576b\"],[0.6666666666666666,\"#ed7953\"],[0.7777777777777778,\"#fb9f3a\"],[0.8888888888888888,\"#fdca26\"],[1.0,\"#f0f921\"]],\"sequentialminus\":[[0.0,\"#0d0887\"],[0.1111111111111111,\"#46039f\"],[0.2222222222222222,\"#7201a8\"],[0.3333333333333333,\"#9c179e\"],[0.4444444444444444,\"#bd3786\"],[0.5555555555555556,\"#d8576b\"],[0.6666666666666666,\"#ed7953\"],[0.7777777777777778,\"#fb9f3a\"],[0.8888888888888888,\"#fdca26\"],[1.0,\"#f0f921\"]]},\"colorway\":[\"#636efa\",\"#EF553B\",\"#00cc96\",\"#ab63fa\",\"#FFA15A\",\"#19d3f3\",\"#FF6692\",\"#B6E880\",\"#FF97FF\",\"#FECB52\"],\"font\":{\"color\":\"#2a3f5f\"},\"geo\":{\"bgcolor\":\"white\",\"lakecolor\":\"white\",\"landcolor\":\"#E5ECF6\",\"showlakes\":true,\"showland\":true,\"subunitcolor\":\"white\"},\"hoverlabel\":{\"align\":\"left\"},\"hovermode\":\"closest\",\"mapbox\":{\"style\":\"light\"},\"paper_bgcolor\":\"white\",\"plot_bgcolor\":\"#E5ECF6\",\"polar\":{\"angularaxis\":{\"gridcolor\":\"white\",\"linecolor\":\"white\",\"ticks\":\"\"},\"bgcolor\":\"#E5ECF6\",\"radialaxis\":{\"gridcolor\":\"white\",\"linecolor\":\"white\",\"ticks\":\"\"}},\"scene\":{\"xaxis\":{\"backgroundcolor\":\"#E5ECF6\",\"gridcolor\":\"white\",\"gridwidth\":2,\"linecolor\":\"white\",\"showbackground\":true,\"ticks\":\"\",\"zerolinecolor\":\"white\"},\"yaxis\":{\"backgroundcolor\":\"#E5ECF6\",\"gridcolor\":\"white\",\"gridwidth\":2,\"linecolor\":\"white\",\"showbackground\":true,\"ticks\":\"\",\"zerolinecolor\":\"white\"},\"zaxis\":{\"backgroundcolor\":\"#E5ECF6\",\"gridcolor\":\"white\",\"gridwidth\":2,\"linecolor\":\"white\",\"showbackground\":true,\"ticks\":\"\",\"zerolinecolor\":\"white\"}},\"shapedefaults\":{\"line\":{\"color\":\"#2a3f5f\"}},\"ternary\":{\"aaxis\":{\"gridcolor\":\"white\",\"linecolor\":\"white\",\"ticks\":\"\"},\"baxis\":{\"gridcolor\":\"white\",\"linecolor\":\"white\",\"ticks\":\"\"},\"bgcolor\":\"#E5ECF6\",\"caxis\":{\"gridcolor\":\"white\",\"linecolor\":\"white\",\"ticks\":\"\"}},\"title\":{\"x\":0.05},\"xaxis\":{\"automargin\":true,\"gridcolor\":\"white\",\"linecolor\":\"white\",\"ticks\":\"\",\"title\":{\"standoff\":15},\"zerolinecolor\":\"white\",\"zerolinewidth\":2},\"yaxis\":{\"automargin\":true,\"gridcolor\":\"white\",\"linecolor\":\"white\",\"ticks\":\"\",\"title\":{\"standoff\":15},\"zerolinecolor\":\"white\",\"zerolinewidth\":2}}},\"xaxis\":{\"anchor\":\"y\",\"domain\":[0.0,1.0],\"title\":{\"text\":\"domain\"}},\"yaxis\":{\"anchor\":\"x\",\"domain\":[0.0,1.0],\"title\":{\"text\":\"sum of length\"}},\"legend\":{\"title\":{\"text\":\"year\"},\"tracegroupgap\":0},\"margin\":{\"t\":60},\"barmode\":\"relative\"},                        {\"responsive\": true}                    ).then(function(){\n",
       "                            \n",
       "var gd = document.getElementById('1b3b1214-f9d7-46e5-a85e-6c7ac1b055cd');\n",
       "var x = new MutationObserver(function (mutations, observer) {{\n",
       "        var display = window.getComputedStyle(gd).display;\n",
       "        if (!display || display === 'none') {{\n",
       "            console.log([gd, 'removed!']);\n",
       "            Plotly.purge(gd);\n",
       "            observer.disconnect();\n",
       "        }}\n",
       "}});\n",
       "\n",
       "// Listen for the removal of the full notebook cells\n",
       "var notebookContainer = gd.closest('#notebook-container');\n",
       "if (notebookContainer) {{\n",
       "    x.observe(notebookContainer, {childList: true});\n",
       "}}\n",
       "\n",
       "// Listen for the clearing of the current output cell\n",
       "var outputEl = gd.closest('.output');\n",
       "if (outputEl) {{\n",
       "    x.observe(outputEl, {childList: true});\n",
       "}}\n",
       "\n",
       "                        })                };                });            </script>        </div>"
      ]
     },
     "metadata": {},
     "output_type": "display_data"
    }
   ],
   "source": [
    "domain_number = []\n",
    "time_ = pd.Timestamp(\"2010-01-01 00:00:00+0000\", tz=\"UTC\")\n",
    "year = pd.Timedelta(days=366)\n",
    "while time_ < pd.Timestamp.utcnow():\n",
    "    df_ = df[(df.date > time_) & (df.date <= time_ + year)]\n",
    "    for domain in df[\"domain\"].unique():\n",
    "        domain_number.append(\n",
    "            {\n",
    "                \"domain\": domain,\n",
    "                \"length\": len(df_[df_.domain == domain]),\n",
    "                \"type\": \"valid\" if (\"stiri\" in domain) or (\"\" == domain) else \"fake\",\n",
    "                \"year\": time_,\n",
    "            }\n",
    "        )\n",
    "    time_ += year\n",
    "\n",
    "\n",
    "fig = px.histogram(domain_number, x=\"domain\", y=\"length\", color=\"year\", text_auto=\".2s\")\n",
    "fig.show()\n"
   ]
  },
  {
   "cell_type": "markdown",
   "metadata": {},
   "source": [
    "word count by domain"
   ]
  },
  {
   "cell_type": "code",
   "execution_count": 15,
   "metadata": {},
   "outputs": [
    {
     "data": {
      "text/html": [
       "<div>                            <div id=\"0225939d-fe1e-4e55-826a-8ccf7fce9ee5\" class=\"plotly-graph-div\" style=\"height:525px; width:100%;\"></div>            <script type=\"text/javascript\">                require([\"plotly\"], function(Plotly) {                    window.PLOTLYENV=window.PLOTLYENV || {};                                    if (document.getElementById(\"0225939d-fe1e-4e55-826a-8ccf7fce9ee5\")) {                    Plotly.newPlot(                        \"0225939d-fe1e-4e55-826a-8ccf7fce9ee5\",                        [{\"alignmentgroup\":\"True\",\"bingroup\":\"x\",\"histfunc\":\"sum\",\"hovertemplate\":\"type=fake<br>domain=%{x}<br>sum of word_count=%{y}<extra></extra>\",\"legendgroup\":\"fake\",\"marker\":{\"color\":\"#636efa\",\"pattern\":{\"shape\":\"\"}},\"name\":\"fake\",\"offsetgroup\":\"fake\",\"orientation\":\"v\",\"showlegend\":true,\"texttemplate\":\"%{value:.2s}\",\"x\":[\"monden/\",\"it-stiinta/\",\"sport/\",\"politic/\",\"life-death/\"],\"xaxis\":\"x\",\"y\":[1149181,278642,223783,949319,1183053],\"yaxis\":\"y\",\"type\":\"histogram\"},{\"alignmentgroup\":\"True\",\"bingroup\":\"x\",\"histfunc\":\"sum\",\"hovertemplate\":\"type=valid<br>domain=%{x}<br>sum of word_count=%{y}<extra></extra>\",\"legendgroup\":\"valid\",\"marker\":{\"color\":\"#EF553B\",\"pattern\":{\"shape\":\"\"}},\"name\":\"valid\",\"offsetgroup\":\"valid\",\"orientation\":\"v\",\"showlegend\":true,\"texttemplate\":\"%{value:.2s}\",\"x\":[\"\",\"stiri/economie\",\"stiri/externe\",\"stiri/actualitate\",\"stiri/actualitate/politica\",\"stiri/sport\",\"stiri/sci-tech\"],\"xaxis\":\"x\",\"y\":[867360,7710927,9576541,15108344,12260613,1310005,956054],\"yaxis\":\"y\",\"type\":\"histogram\"}],                        {\"template\":{\"data\":{\"bar\":[{\"error_x\":{\"color\":\"#2a3f5f\"},\"error_y\":{\"color\":\"#2a3f5f\"},\"marker\":{\"line\":{\"color\":\"#E5ECF6\",\"width\":0.5},\"pattern\":{\"fillmode\":\"overlay\",\"size\":10,\"solidity\":0.2}},\"type\":\"bar\"}],\"barpolar\":[{\"marker\":{\"line\":{\"color\":\"#E5ECF6\",\"width\":0.5},\"pattern\":{\"fillmode\":\"overlay\",\"size\":10,\"solidity\":0.2}},\"type\":\"barpolar\"}],\"carpet\":[{\"aaxis\":{\"endlinecolor\":\"#2a3f5f\",\"gridcolor\":\"white\",\"linecolor\":\"white\",\"minorgridcolor\":\"white\",\"startlinecolor\":\"#2a3f5f\"},\"baxis\":{\"endlinecolor\":\"#2a3f5f\",\"gridcolor\":\"white\",\"linecolor\":\"white\",\"minorgridcolor\":\"white\",\"startlinecolor\":\"#2a3f5f\"},\"type\":\"carpet\"}],\"choropleth\":[{\"colorbar\":{\"outlinewidth\":0,\"ticks\":\"\"},\"type\":\"choropleth\"}],\"contour\":[{\"colorbar\":{\"outlinewidth\":0,\"ticks\":\"\"},\"colorscale\":[[0.0,\"#0d0887\"],[0.1111111111111111,\"#46039f\"],[0.2222222222222222,\"#7201a8\"],[0.3333333333333333,\"#9c179e\"],[0.4444444444444444,\"#bd3786\"],[0.5555555555555556,\"#d8576b\"],[0.6666666666666666,\"#ed7953\"],[0.7777777777777778,\"#fb9f3a\"],[0.8888888888888888,\"#fdca26\"],[1.0,\"#f0f921\"]],\"type\":\"contour\"}],\"contourcarpet\":[{\"colorbar\":{\"outlinewidth\":0,\"ticks\":\"\"},\"type\":\"contourcarpet\"}],\"heatmap\":[{\"colorbar\":{\"outlinewidth\":0,\"ticks\":\"\"},\"colorscale\":[[0.0,\"#0d0887\"],[0.1111111111111111,\"#46039f\"],[0.2222222222222222,\"#7201a8\"],[0.3333333333333333,\"#9c179e\"],[0.4444444444444444,\"#bd3786\"],[0.5555555555555556,\"#d8576b\"],[0.6666666666666666,\"#ed7953\"],[0.7777777777777778,\"#fb9f3a\"],[0.8888888888888888,\"#fdca26\"],[1.0,\"#f0f921\"]],\"type\":\"heatmap\"}],\"heatmapgl\":[{\"colorbar\":{\"outlinewidth\":0,\"ticks\":\"\"},\"colorscale\":[[0.0,\"#0d0887\"],[0.1111111111111111,\"#46039f\"],[0.2222222222222222,\"#7201a8\"],[0.3333333333333333,\"#9c179e\"],[0.4444444444444444,\"#bd3786\"],[0.5555555555555556,\"#d8576b\"],[0.6666666666666666,\"#ed7953\"],[0.7777777777777778,\"#fb9f3a\"],[0.8888888888888888,\"#fdca26\"],[1.0,\"#f0f921\"]],\"type\":\"heatmapgl\"}],\"histogram\":[{\"marker\":{\"pattern\":{\"fillmode\":\"overlay\",\"size\":10,\"solidity\":0.2}},\"type\":\"histogram\"}],\"histogram2d\":[{\"colorbar\":{\"outlinewidth\":0,\"ticks\":\"\"},\"colorscale\":[[0.0,\"#0d0887\"],[0.1111111111111111,\"#46039f\"],[0.2222222222222222,\"#7201a8\"],[0.3333333333333333,\"#9c179e\"],[0.4444444444444444,\"#bd3786\"],[0.5555555555555556,\"#d8576b\"],[0.6666666666666666,\"#ed7953\"],[0.7777777777777778,\"#fb9f3a\"],[0.8888888888888888,\"#fdca26\"],[1.0,\"#f0f921\"]],\"type\":\"histogram2d\"}],\"histogram2dcontour\":[{\"colorbar\":{\"outlinewidth\":0,\"ticks\":\"\"},\"colorscale\":[[0.0,\"#0d0887\"],[0.1111111111111111,\"#46039f\"],[0.2222222222222222,\"#7201a8\"],[0.3333333333333333,\"#9c179e\"],[0.4444444444444444,\"#bd3786\"],[0.5555555555555556,\"#d8576b\"],[0.6666666666666666,\"#ed7953\"],[0.7777777777777778,\"#fb9f3a\"],[0.8888888888888888,\"#fdca26\"],[1.0,\"#f0f921\"]],\"type\":\"histogram2dcontour\"}],\"mesh3d\":[{\"colorbar\":{\"outlinewidth\":0,\"ticks\":\"\"},\"type\":\"mesh3d\"}],\"parcoords\":[{\"line\":{\"colorbar\":{\"outlinewidth\":0,\"ticks\":\"\"}},\"type\":\"parcoords\"}],\"pie\":[{\"automargin\":true,\"type\":\"pie\"}],\"scatter\":[{\"marker\":{\"colorbar\":{\"outlinewidth\":0,\"ticks\":\"\"}},\"type\":\"scatter\"}],\"scatter3d\":[{\"line\":{\"colorbar\":{\"outlinewidth\":0,\"ticks\":\"\"}},\"marker\":{\"colorbar\":{\"outlinewidth\":0,\"ticks\":\"\"}},\"type\":\"scatter3d\"}],\"scattercarpet\":[{\"marker\":{\"colorbar\":{\"outlinewidth\":0,\"ticks\":\"\"}},\"type\":\"scattercarpet\"}],\"scattergeo\":[{\"marker\":{\"colorbar\":{\"outlinewidth\":0,\"ticks\":\"\"}},\"type\":\"scattergeo\"}],\"scattergl\":[{\"marker\":{\"colorbar\":{\"outlinewidth\":0,\"ticks\":\"\"}},\"type\":\"scattergl\"}],\"scattermapbox\":[{\"marker\":{\"colorbar\":{\"outlinewidth\":0,\"ticks\":\"\"}},\"type\":\"scattermapbox\"}],\"scatterpolar\":[{\"marker\":{\"colorbar\":{\"outlinewidth\":0,\"ticks\":\"\"}},\"type\":\"scatterpolar\"}],\"scatterpolargl\":[{\"marker\":{\"colorbar\":{\"outlinewidth\":0,\"ticks\":\"\"}},\"type\":\"scatterpolargl\"}],\"scatterternary\":[{\"marker\":{\"colorbar\":{\"outlinewidth\":0,\"ticks\":\"\"}},\"type\":\"scatterternary\"}],\"surface\":[{\"colorbar\":{\"outlinewidth\":0,\"ticks\":\"\"},\"colorscale\":[[0.0,\"#0d0887\"],[0.1111111111111111,\"#46039f\"],[0.2222222222222222,\"#7201a8\"],[0.3333333333333333,\"#9c179e\"],[0.4444444444444444,\"#bd3786\"],[0.5555555555555556,\"#d8576b\"],[0.6666666666666666,\"#ed7953\"],[0.7777777777777778,\"#fb9f3a\"],[0.8888888888888888,\"#fdca26\"],[1.0,\"#f0f921\"]],\"type\":\"surface\"}],\"table\":[{\"cells\":{\"fill\":{\"color\":\"#EBF0F8\"},\"line\":{\"color\":\"white\"}},\"header\":{\"fill\":{\"color\":\"#C8D4E3\"},\"line\":{\"color\":\"white\"}},\"type\":\"table\"}]},\"layout\":{\"annotationdefaults\":{\"arrowcolor\":\"#2a3f5f\",\"arrowhead\":0,\"arrowwidth\":1},\"autotypenumbers\":\"strict\",\"coloraxis\":{\"colorbar\":{\"outlinewidth\":0,\"ticks\":\"\"}},\"colorscale\":{\"diverging\":[[0,\"#8e0152\"],[0.1,\"#c51b7d\"],[0.2,\"#de77ae\"],[0.3,\"#f1b6da\"],[0.4,\"#fde0ef\"],[0.5,\"#f7f7f7\"],[0.6,\"#e6f5d0\"],[0.7,\"#b8e186\"],[0.8,\"#7fbc41\"],[0.9,\"#4d9221\"],[1,\"#276419\"]],\"sequential\":[[0.0,\"#0d0887\"],[0.1111111111111111,\"#46039f\"],[0.2222222222222222,\"#7201a8\"],[0.3333333333333333,\"#9c179e\"],[0.4444444444444444,\"#bd3786\"],[0.5555555555555556,\"#d8576b\"],[0.6666666666666666,\"#ed7953\"],[0.7777777777777778,\"#fb9f3a\"],[0.8888888888888888,\"#fdca26\"],[1.0,\"#f0f921\"]],\"sequentialminus\":[[0.0,\"#0d0887\"],[0.1111111111111111,\"#46039f\"],[0.2222222222222222,\"#7201a8\"],[0.3333333333333333,\"#9c179e\"],[0.4444444444444444,\"#bd3786\"],[0.5555555555555556,\"#d8576b\"],[0.6666666666666666,\"#ed7953\"],[0.7777777777777778,\"#fb9f3a\"],[0.8888888888888888,\"#fdca26\"],[1.0,\"#f0f921\"]]},\"colorway\":[\"#636efa\",\"#EF553B\",\"#00cc96\",\"#ab63fa\",\"#FFA15A\",\"#19d3f3\",\"#FF6692\",\"#B6E880\",\"#FF97FF\",\"#FECB52\"],\"font\":{\"color\":\"#2a3f5f\"},\"geo\":{\"bgcolor\":\"white\",\"lakecolor\":\"white\",\"landcolor\":\"#E5ECF6\",\"showlakes\":true,\"showland\":true,\"subunitcolor\":\"white\"},\"hoverlabel\":{\"align\":\"left\"},\"hovermode\":\"closest\",\"mapbox\":{\"style\":\"light\"},\"paper_bgcolor\":\"white\",\"plot_bgcolor\":\"#E5ECF6\",\"polar\":{\"angularaxis\":{\"gridcolor\":\"white\",\"linecolor\":\"white\",\"ticks\":\"\"},\"bgcolor\":\"#E5ECF6\",\"radialaxis\":{\"gridcolor\":\"white\",\"linecolor\":\"white\",\"ticks\":\"\"}},\"scene\":{\"xaxis\":{\"backgroundcolor\":\"#E5ECF6\",\"gridcolor\":\"white\",\"gridwidth\":2,\"linecolor\":\"white\",\"showbackground\":true,\"ticks\":\"\",\"zerolinecolor\":\"white\"},\"yaxis\":{\"backgroundcolor\":\"#E5ECF6\",\"gridcolor\":\"white\",\"gridwidth\":2,\"linecolor\":\"white\",\"showbackground\":true,\"ticks\":\"\",\"zerolinecolor\":\"white\"},\"zaxis\":{\"backgroundcolor\":\"#E5ECF6\",\"gridcolor\":\"white\",\"gridwidth\":2,\"linecolor\":\"white\",\"showbackground\":true,\"ticks\":\"\",\"zerolinecolor\":\"white\"}},\"shapedefaults\":{\"line\":{\"color\":\"#2a3f5f\"}},\"ternary\":{\"aaxis\":{\"gridcolor\":\"white\",\"linecolor\":\"white\",\"ticks\":\"\"},\"baxis\":{\"gridcolor\":\"white\",\"linecolor\":\"white\",\"ticks\":\"\"},\"bgcolor\":\"#E5ECF6\",\"caxis\":{\"gridcolor\":\"white\",\"linecolor\":\"white\",\"ticks\":\"\"}},\"title\":{\"x\":0.05},\"xaxis\":{\"automargin\":true,\"gridcolor\":\"white\",\"linecolor\":\"white\",\"ticks\":\"\",\"title\":{\"standoff\":15},\"zerolinecolor\":\"white\",\"zerolinewidth\":2},\"yaxis\":{\"automargin\":true,\"gridcolor\":\"white\",\"linecolor\":\"white\",\"ticks\":\"\",\"title\":{\"standoff\":15},\"zerolinecolor\":\"white\",\"zerolinewidth\":2}}},\"xaxis\":{\"anchor\":\"y\",\"domain\":[0.0,1.0],\"title\":{\"text\":\"domain\"}},\"yaxis\":{\"anchor\":\"x\",\"domain\":[0.0,1.0],\"title\":{\"text\":\"sum of word_count\"}},\"legend\":{\"title\":{\"text\":\"type\"},\"tracegroupgap\":0},\"margin\":{\"t\":60},\"barmode\":\"relative\"},                        {\"responsive\": true}                    ).then(function(){\n",
       "                            \n",
       "var gd = document.getElementById('0225939d-fe1e-4e55-826a-8ccf7fce9ee5');\n",
       "var x = new MutationObserver(function (mutations, observer) {{\n",
       "        var display = window.getComputedStyle(gd).display;\n",
       "        if (!display || display === 'none') {{\n",
       "            console.log([gd, 'removed!']);\n",
       "            Plotly.purge(gd);\n",
       "            observer.disconnect();\n",
       "        }}\n",
       "}});\n",
       "\n",
       "// Listen for the removal of the full notebook cells\n",
       "var notebookContainer = gd.closest('#notebook-container');\n",
       "if (notebookContainer) {{\n",
       "    x.observe(notebookContainer, {childList: true});\n",
       "}}\n",
       "\n",
       "// Listen for the clearing of the current output cell\n",
       "var outputEl = gd.closest('.output');\n",
       "if (outputEl) {{\n",
       "    x.observe(outputEl, {childList: true});\n",
       "}}\n",
       "\n",
       "                        })                };                });            </script>        </div>"
      ]
     },
     "metadata": {},
     "output_type": "display_data"
    }
   ],
   "source": [
    "domain_word_count = []\n",
    "for domain in df[\"domain\"].unique():\n",
    "    word_count: int = 0\n",
    "    for news in df[df.domain == domain][\"content\"]:\n",
    "        word_count += len(news.split(\" \"))\n",
    "    domain_word_count.append(\n",
    "        {\n",
    "            \"domain\": domain,\n",
    "            \"word_count\": word_count,\n",
    "            \"type\": \"valid\" if (\"stiri\" in domain) or (\"\" == domain) else \"fake\",\n",
    "        }\n",
    "    )\n",
    "\n",
    "\n",
    "fig = px.histogram(domain_word_count, x=\"domain\", y=\"word_count\", color=\"type\", text_auto=\".2s\")\n",
    "fig.show()\n"
   ]
  },
  {
   "cell_type": "code",
   "execution_count": 18,
   "metadata": {},
   "outputs": [
    {
     "data": {
      "text/html": [
       "<div>                            <div id=\"ad59f9ff-c1b4-4e9f-83bb-aa3ecc7ec4a6\" class=\"plotly-graph-div\" style=\"height:525px; width:100%;\"></div>            <script type=\"text/javascript\">                require([\"plotly\"], function(Plotly) {                    window.PLOTLYENV=window.PLOTLYENV || {};                                    if (document.getElementById(\"ad59f9ff-c1b4-4e9f-83bb-aa3ecc7ec4a6\")) {                    Plotly.newPlot(                        \"ad59f9ff-c1b4-4e9f-83bb-aa3ecc7ec4a6\",                        [{\"alignmentgroup\":\"True\",\"bingroup\":\"x\",\"histfunc\":\"sum\",\"hovertemplate\":\"year=2010-01-01 00:00:00+00:00<br>domain=%{x}<br>sum of word_count=%{y}<extra></extra>\",\"legendgroup\":\"2010-01-01 00:00:00+00:00\",\"marker\":{\"color\":\"#636efa\",\"pattern\":{\"shape\":\"\"}},\"name\":\"2010-01-01 00:00:00+00:00\",\"offsetgroup\":\"2010-01-01 00:00:00+00:00\",\"orientation\":\"v\",\"showlegend\":true,\"texttemplate\":\"%{value:.2s}\",\"x\":[\"monden/\",\"it-stiinta/\",\"sport/\",\"politic/\",\"life-death/\",\"\",\"stiri/economie\",\"stiri/externe\",\"stiri/actualitate\",\"stiri/actualitate/politica\",\"stiri/sport\",\"stiri/sci-tech\"],\"xaxis\":\"x\",\"y\":[37745,54,22638,63628,138278,0,0,0,0,0,0,0],\"yaxis\":\"y\",\"type\":\"histogram\"},{\"alignmentgroup\":\"True\",\"bingroup\":\"x\",\"histfunc\":\"sum\",\"hovertemplate\":\"year=2011-01-02 00:00:00+00:00<br>domain=%{x}<br>sum of word_count=%{y}<extra></extra>\",\"legendgroup\":\"2011-01-02 00:00:00+00:00\",\"marker\":{\"color\":\"#EF553B\",\"pattern\":{\"shape\":\"\"}},\"name\":\"2011-01-02 00:00:00+00:00\",\"offsetgroup\":\"2011-01-02 00:00:00+00:00\",\"orientation\":\"v\",\"showlegend\":true,\"texttemplate\":\"%{value:.2s}\",\"x\":[\"monden/\",\"it-stiinta/\",\"sport/\",\"politic/\",\"life-death/\",\"\",\"stiri/economie\",\"stiri/externe\",\"stiri/actualitate\",\"stiri/actualitate/politica\",\"stiri/sport\",\"stiri/sci-tech\"],\"xaxis\":\"x\",\"y\":[60006,407,15016,54046,73691,0,0,0,0,0,0,0],\"yaxis\":\"y\",\"type\":\"histogram\"},{\"alignmentgroup\":\"True\",\"bingroup\":\"x\",\"histfunc\":\"sum\",\"hovertemplate\":\"year=2012-01-03 00:00:00+00:00<br>domain=%{x}<br>sum of word_count=%{y}<extra></extra>\",\"legendgroup\":\"2012-01-03 00:00:00+00:00\",\"marker\":{\"color\":\"#00cc96\",\"pattern\":{\"shape\":\"\"}},\"name\":\"2012-01-03 00:00:00+00:00\",\"offsetgroup\":\"2012-01-03 00:00:00+00:00\",\"orientation\":\"v\",\"showlegend\":true,\"texttemplate\":\"%{value:.2s}\",\"x\":[\"monden/\",\"it-stiinta/\",\"sport/\",\"politic/\",\"life-death/\",\"\",\"stiri/economie\",\"stiri/externe\",\"stiri/actualitate\",\"stiri/actualitate/politica\",\"stiri/sport\",\"stiri/sci-tech\"],\"xaxis\":\"x\",\"y\":[80694,440,23031,82817,87644,0,0,0,0,0,0,0],\"yaxis\":\"y\",\"type\":\"histogram\"},{\"alignmentgroup\":\"True\",\"bingroup\":\"x\",\"histfunc\":\"sum\",\"hovertemplate\":\"year=2013-01-03 00:00:00+00:00<br>domain=%{x}<br>sum of word_count=%{y}<extra></extra>\",\"legendgroup\":\"2013-01-03 00:00:00+00:00\",\"marker\":{\"color\":\"#ab63fa\",\"pattern\":{\"shape\":\"\"}},\"name\":\"2013-01-03 00:00:00+00:00\",\"offsetgroup\":\"2013-01-03 00:00:00+00:00\",\"orientation\":\"v\",\"showlegend\":true,\"texttemplate\":\"%{value:.2s}\",\"x\":[\"monden/\",\"it-stiinta/\",\"sport/\",\"politic/\",\"life-death/\",\"\",\"stiri/economie\",\"stiri/externe\",\"stiri/actualitate\",\"stiri/actualitate/politica\",\"stiri/sport\",\"stiri/sci-tech\"],\"xaxis\":\"x\",\"y\":[96829,13492,34961,94943,98438,0,0,0,0,520755,0,0],\"yaxis\":\"y\",\"type\":\"histogram\"},{\"alignmentgroup\":\"True\",\"bingroup\":\"x\",\"histfunc\":\"sum\",\"hovertemplate\":\"year=2014-01-04 00:00:00+00:00<br>domain=%{x}<br>sum of word_count=%{y}<extra></extra>\",\"legendgroup\":\"2014-01-04 00:00:00+00:00\",\"marker\":{\"color\":\"#FFA15A\",\"pattern\":{\"shape\":\"\"}},\"name\":\"2014-01-04 00:00:00+00:00\",\"offsetgroup\":\"2014-01-04 00:00:00+00:00\",\"orientation\":\"v\",\"showlegend\":true,\"texttemplate\":\"%{value:.2s}\",\"x\":[\"monden/\",\"it-stiinta/\",\"sport/\",\"politic/\",\"life-death/\",\"\",\"stiri/economie\",\"stiri/externe\",\"stiri/actualitate\",\"stiri/actualitate/politica\",\"stiri/sport\",\"stiri/sci-tech\"],\"xaxis\":\"x\",\"y\":[96992,30095,28317,102358,78258,0,0,0,0,784902,0,0],\"yaxis\":\"y\",\"type\":\"histogram\"},{\"alignmentgroup\":\"True\",\"bingroup\":\"x\",\"histfunc\":\"sum\",\"hovertemplate\":\"year=2015-01-05 00:00:00+00:00<br>domain=%{x}<br>sum of word_count=%{y}<extra></extra>\",\"legendgroup\":\"2015-01-05 00:00:00+00:00\",\"marker\":{\"color\":\"#19d3f3\",\"pattern\":{\"shape\":\"\"}},\"name\":\"2015-01-05 00:00:00+00:00\",\"offsetgroup\":\"2015-01-05 00:00:00+00:00\",\"orientation\":\"v\",\"showlegend\":true,\"texttemplate\":\"%{value:.2s}\",\"x\":[\"monden/\",\"it-stiinta/\",\"sport/\",\"politic/\",\"life-death/\",\"\",\"stiri/economie\",\"stiri/externe\",\"stiri/actualitate\",\"stiri/actualitate/politica\",\"stiri/sport\",\"stiri/sci-tech\"],\"xaxis\":\"x\",\"y\":[98808,26205,16701,101176,79682,0,39081,0,0,684875,0,0],\"yaxis\":\"y\",\"type\":\"histogram\"},{\"alignmentgroup\":\"True\",\"bingroup\":\"x\",\"histfunc\":\"sum\",\"hovertemplate\":\"year=2016-01-06 00:00:00+00:00<br>domain=%{x}<br>sum of word_count=%{y}<extra></extra>\",\"legendgroup\":\"2016-01-06 00:00:00+00:00\",\"marker\":{\"color\":\"#FF6692\",\"pattern\":{\"shape\":\"\"}},\"name\":\"2016-01-06 00:00:00+00:00\",\"offsetgroup\":\"2016-01-06 00:00:00+00:00\",\"orientation\":\"v\",\"showlegend\":true,\"texttemplate\":\"%{value:.2s}\",\"x\":[\"monden/\",\"it-stiinta/\",\"sport/\",\"politic/\",\"life-death/\",\"\",\"stiri/economie\",\"stiri/externe\",\"stiri/actualitate\",\"stiri/actualitate/politica\",\"stiri/sport\",\"stiri/sci-tech\"],\"xaxis\":\"x\",\"y\":[100692,25136,13499,102473,90732,0,1033685,0,0,935508,0,0],\"yaxis\":\"y\",\"type\":\"histogram\"},{\"alignmentgroup\":\"True\",\"bingroup\":\"x\",\"histfunc\":\"sum\",\"hovertemplate\":\"year=2017-01-06 00:00:00+00:00<br>domain=%{x}<br>sum of word_count=%{y}<extra></extra>\",\"legendgroup\":\"2017-01-06 00:00:00+00:00\",\"marker\":{\"color\":\"#B6E880\",\"pattern\":{\"shape\":\"\"}},\"name\":\"2017-01-06 00:00:00+00:00\",\"offsetgroup\":\"2017-01-06 00:00:00+00:00\",\"orientation\":\"v\",\"showlegend\":true,\"texttemplate\":\"%{value:.2s}\",\"x\":[\"monden/\",\"it-stiinta/\",\"sport/\",\"politic/\",\"life-death/\",\"\",\"stiri/economie\",\"stiri/externe\",\"stiri/actualitate\",\"stiri/actualitate/politica\",\"stiri/sport\",\"stiri/sci-tech\"],\"xaxis\":\"x\",\"y\":[113381,31381,8851,102512,97348,0,2159719,0,0,1624011,0,0],\"yaxis\":\"y\",\"type\":\"histogram\"},{\"alignmentgroup\":\"True\",\"bingroup\":\"x\",\"histfunc\":\"sum\",\"hovertemplate\":\"year=2018-01-07 00:00:00+00:00<br>domain=%{x}<br>sum of word_count=%{y}<extra></extra>\",\"legendgroup\":\"2018-01-07 00:00:00+00:00\",\"marker\":{\"color\":\"#FF97FF\",\"pattern\":{\"shape\":\"\"}},\"name\":\"2018-01-07 00:00:00+00:00\",\"offsetgroup\":\"2018-01-07 00:00:00+00:00\",\"orientation\":\"v\",\"showlegend\":true,\"texttemplate\":\"%{value:.2s}\",\"x\":[\"monden/\",\"it-stiinta/\",\"sport/\",\"politic/\",\"life-death/\",\"\",\"stiri/economie\",\"stiri/externe\",\"stiri/actualitate\",\"stiri/actualitate/politica\",\"stiri/sport\",\"stiri/sci-tech\"],\"xaxis\":\"x\",\"y\":[102005,42459,11830,76739,93481,0,1606242,0,1789990,2213063,369812,0],\"yaxis\":\"y\",\"type\":\"histogram\"},{\"alignmentgroup\":\"True\",\"bingroup\":\"x\",\"histfunc\":\"sum\",\"hovertemplate\":\"year=2019-01-08 00:00:00+00:00<br>domain=%{x}<br>sum of word_count=%{y}<extra></extra>\",\"legendgroup\":\"2019-01-08 00:00:00+00:00\",\"marker\":{\"color\":\"#FECB52\",\"pattern\":{\"shape\":\"\"}},\"name\":\"2019-01-08 00:00:00+00:00\",\"offsetgroup\":\"2019-01-08 00:00:00+00:00\",\"orientation\":\"v\",\"showlegend\":true,\"texttemplate\":\"%{value:.2s}\",\"x\":[\"monden/\",\"it-stiinta/\",\"sport/\",\"politic/\",\"life-death/\",\"\",\"stiri/economie\",\"stiri/externe\",\"stiri/actualitate\",\"stiri/actualitate/politica\",\"stiri/sport\",\"stiri/sci-tech\"],\"xaxis\":\"x\",\"y\":[123082,37446,10796,61006,85406,0,950069,4874,5869373,2411833,439060,0],\"yaxis\":\"y\",\"type\":\"histogram\"},{\"alignmentgroup\":\"True\",\"bingroup\":\"x\",\"histfunc\":\"sum\",\"hovertemplate\":\"year=2020-01-09 00:00:00+00:00<br>domain=%{x}<br>sum of word_count=%{y}<extra></extra>\",\"legendgroup\":\"2020-01-09 00:00:00+00:00\",\"marker\":{\"color\":\"#636efa\",\"pattern\":{\"shape\":\"\"}},\"name\":\"2020-01-09 00:00:00+00:00\",\"offsetgroup\":\"2020-01-09 00:00:00+00:00\",\"orientation\":\"v\",\"showlegend\":true,\"texttemplate\":\"%{value:.2s}\",\"x\":[\"monden/\",\"it-stiinta/\",\"sport/\",\"politic/\",\"life-death/\",\"\",\"stiri/economie\",\"stiri/externe\",\"stiri/actualitate\",\"stiri/actualitate/politica\",\"stiri/sport\",\"stiri/sci-tech\"],\"xaxis\":\"x\",\"y\":[104427,33018,7678,45616,97600,0,927396,3740516,6031165,1426992,171681,295314],\"yaxis\":\"y\",\"type\":\"histogram\"},{\"alignmentgroup\":\"True\",\"bingroup\":\"x\",\"histfunc\":\"sum\",\"hovertemplate\":\"year=2021-01-09 00:00:00+00:00<br>domain=%{x}<br>sum of word_count=%{y}<extra></extra>\",\"legendgroup\":\"2021-01-09 00:00:00+00:00\",\"marker\":{\"color\":\"#EF553B\",\"pattern\":{\"shape\":\"\"}},\"name\":\"2021-01-09 00:00:00+00:00\",\"offsetgroup\":\"2021-01-09 00:00:00+00:00\",\"orientation\":\"v\",\"showlegend\":true,\"texttemplate\":\"%{value:.2s}\",\"x\":[\"monden/\",\"it-stiinta/\",\"sport/\",\"politic/\",\"life-death/\",\"\",\"stiri/economie\",\"stiri/externe\",\"stiri/actualitate\",\"stiri/actualitate/politica\",\"stiri/sport\",\"stiri/sci-tech\"],\"xaxis\":\"x\",\"y\":[109463,34185,18115,42295,99497,0,825250,4652050,1417816,1464759,286516,601256],\"yaxis\":\"y\",\"type\":\"histogram\"},{\"alignmentgroup\":\"True\",\"bingroup\":\"x\",\"histfunc\":\"sum\",\"hovertemplate\":\"year=2022-01-10 00:00:00+00:00<br>domain=%{x}<br>sum of word_count=%{y}<extra></extra>\",\"legendgroup\":\"2022-01-10 00:00:00+00:00\",\"marker\":{\"color\":\"#00cc96\",\"pattern\":{\"shape\":\"\"}},\"name\":\"2022-01-10 00:00:00+00:00\",\"offsetgroup\":\"2022-01-10 00:00:00+00:00\",\"orientation\":\"v\",\"showlegend\":true,\"texttemplate\":\"%{value:.2s}\",\"x\":[\"monden/\",\"it-stiinta/\",\"sport/\",\"politic/\",\"life-death/\",\"\",\"stiri/economie\",\"stiri/externe\",\"stiri/actualitate\",\"stiri/actualitate/politica\",\"stiri/sport\",\"stiri/sci-tech\"],\"xaxis\":\"x\",\"y\":[16396,4324,3764,9156,15657,867360,169485,1179101,0,193915,42936,59484],\"yaxis\":\"y\",\"type\":\"histogram\"}],                        {\"template\":{\"data\":{\"bar\":[{\"error_x\":{\"color\":\"#2a3f5f\"},\"error_y\":{\"color\":\"#2a3f5f\"},\"marker\":{\"line\":{\"color\":\"#E5ECF6\",\"width\":0.5},\"pattern\":{\"fillmode\":\"overlay\",\"size\":10,\"solidity\":0.2}},\"type\":\"bar\"}],\"barpolar\":[{\"marker\":{\"line\":{\"color\":\"#E5ECF6\",\"width\":0.5},\"pattern\":{\"fillmode\":\"overlay\",\"size\":10,\"solidity\":0.2}},\"type\":\"barpolar\"}],\"carpet\":[{\"aaxis\":{\"endlinecolor\":\"#2a3f5f\",\"gridcolor\":\"white\",\"linecolor\":\"white\",\"minorgridcolor\":\"white\",\"startlinecolor\":\"#2a3f5f\"},\"baxis\":{\"endlinecolor\":\"#2a3f5f\",\"gridcolor\":\"white\",\"linecolor\":\"white\",\"minorgridcolor\":\"white\",\"startlinecolor\":\"#2a3f5f\"},\"type\":\"carpet\"}],\"choropleth\":[{\"colorbar\":{\"outlinewidth\":0,\"ticks\":\"\"},\"type\":\"choropleth\"}],\"contour\":[{\"colorbar\":{\"outlinewidth\":0,\"ticks\":\"\"},\"colorscale\":[[0.0,\"#0d0887\"],[0.1111111111111111,\"#46039f\"],[0.2222222222222222,\"#7201a8\"],[0.3333333333333333,\"#9c179e\"],[0.4444444444444444,\"#bd3786\"],[0.5555555555555556,\"#d8576b\"],[0.6666666666666666,\"#ed7953\"],[0.7777777777777778,\"#fb9f3a\"],[0.8888888888888888,\"#fdca26\"],[1.0,\"#f0f921\"]],\"type\":\"contour\"}],\"contourcarpet\":[{\"colorbar\":{\"outlinewidth\":0,\"ticks\":\"\"},\"type\":\"contourcarpet\"}],\"heatmap\":[{\"colorbar\":{\"outlinewidth\":0,\"ticks\":\"\"},\"colorscale\":[[0.0,\"#0d0887\"],[0.1111111111111111,\"#46039f\"],[0.2222222222222222,\"#7201a8\"],[0.3333333333333333,\"#9c179e\"],[0.4444444444444444,\"#bd3786\"],[0.5555555555555556,\"#d8576b\"],[0.6666666666666666,\"#ed7953\"],[0.7777777777777778,\"#fb9f3a\"],[0.8888888888888888,\"#fdca26\"],[1.0,\"#f0f921\"]],\"type\":\"heatmap\"}],\"heatmapgl\":[{\"colorbar\":{\"outlinewidth\":0,\"ticks\":\"\"},\"colorscale\":[[0.0,\"#0d0887\"],[0.1111111111111111,\"#46039f\"],[0.2222222222222222,\"#7201a8\"],[0.3333333333333333,\"#9c179e\"],[0.4444444444444444,\"#bd3786\"],[0.5555555555555556,\"#d8576b\"],[0.6666666666666666,\"#ed7953\"],[0.7777777777777778,\"#fb9f3a\"],[0.8888888888888888,\"#fdca26\"],[1.0,\"#f0f921\"]],\"type\":\"heatmapgl\"}],\"histogram\":[{\"marker\":{\"pattern\":{\"fillmode\":\"overlay\",\"size\":10,\"solidity\":0.2}},\"type\":\"histogram\"}],\"histogram2d\":[{\"colorbar\":{\"outlinewidth\":0,\"ticks\":\"\"},\"colorscale\":[[0.0,\"#0d0887\"],[0.1111111111111111,\"#46039f\"],[0.2222222222222222,\"#7201a8\"],[0.3333333333333333,\"#9c179e\"],[0.4444444444444444,\"#bd3786\"],[0.5555555555555556,\"#d8576b\"],[0.6666666666666666,\"#ed7953\"],[0.7777777777777778,\"#fb9f3a\"],[0.8888888888888888,\"#fdca26\"],[1.0,\"#f0f921\"]],\"type\":\"histogram2d\"}],\"histogram2dcontour\":[{\"colorbar\":{\"outlinewidth\":0,\"ticks\":\"\"},\"colorscale\":[[0.0,\"#0d0887\"],[0.1111111111111111,\"#46039f\"],[0.2222222222222222,\"#7201a8\"],[0.3333333333333333,\"#9c179e\"],[0.4444444444444444,\"#bd3786\"],[0.5555555555555556,\"#d8576b\"],[0.6666666666666666,\"#ed7953\"],[0.7777777777777778,\"#fb9f3a\"],[0.8888888888888888,\"#fdca26\"],[1.0,\"#f0f921\"]],\"type\":\"histogram2dcontour\"}],\"mesh3d\":[{\"colorbar\":{\"outlinewidth\":0,\"ticks\":\"\"},\"type\":\"mesh3d\"}],\"parcoords\":[{\"line\":{\"colorbar\":{\"outlinewidth\":0,\"ticks\":\"\"}},\"type\":\"parcoords\"}],\"pie\":[{\"automargin\":true,\"type\":\"pie\"}],\"scatter\":[{\"marker\":{\"colorbar\":{\"outlinewidth\":0,\"ticks\":\"\"}},\"type\":\"scatter\"}],\"scatter3d\":[{\"line\":{\"colorbar\":{\"outlinewidth\":0,\"ticks\":\"\"}},\"marker\":{\"colorbar\":{\"outlinewidth\":0,\"ticks\":\"\"}},\"type\":\"scatter3d\"}],\"scattercarpet\":[{\"marker\":{\"colorbar\":{\"outlinewidth\":0,\"ticks\":\"\"}},\"type\":\"scattercarpet\"}],\"scattergeo\":[{\"marker\":{\"colorbar\":{\"outlinewidth\":0,\"ticks\":\"\"}},\"type\":\"scattergeo\"}],\"scattergl\":[{\"marker\":{\"colorbar\":{\"outlinewidth\":0,\"ticks\":\"\"}},\"type\":\"scattergl\"}],\"scattermapbox\":[{\"marker\":{\"colorbar\":{\"outlinewidth\":0,\"ticks\":\"\"}},\"type\":\"scattermapbox\"}],\"scatterpolar\":[{\"marker\":{\"colorbar\":{\"outlinewidth\":0,\"ticks\":\"\"}},\"type\":\"scatterpolar\"}],\"scatterpolargl\":[{\"marker\":{\"colorbar\":{\"outlinewidth\":0,\"ticks\":\"\"}},\"type\":\"scatterpolargl\"}],\"scatterternary\":[{\"marker\":{\"colorbar\":{\"outlinewidth\":0,\"ticks\":\"\"}},\"type\":\"scatterternary\"}],\"surface\":[{\"colorbar\":{\"outlinewidth\":0,\"ticks\":\"\"},\"colorscale\":[[0.0,\"#0d0887\"],[0.1111111111111111,\"#46039f\"],[0.2222222222222222,\"#7201a8\"],[0.3333333333333333,\"#9c179e\"],[0.4444444444444444,\"#bd3786\"],[0.5555555555555556,\"#d8576b\"],[0.6666666666666666,\"#ed7953\"],[0.7777777777777778,\"#fb9f3a\"],[0.8888888888888888,\"#fdca26\"],[1.0,\"#f0f921\"]],\"type\":\"surface\"}],\"table\":[{\"cells\":{\"fill\":{\"color\":\"#EBF0F8\"},\"line\":{\"color\":\"white\"}},\"header\":{\"fill\":{\"color\":\"#C8D4E3\"},\"line\":{\"color\":\"white\"}},\"type\":\"table\"}]},\"layout\":{\"annotationdefaults\":{\"arrowcolor\":\"#2a3f5f\",\"arrowhead\":0,\"arrowwidth\":1},\"autotypenumbers\":\"strict\",\"coloraxis\":{\"colorbar\":{\"outlinewidth\":0,\"ticks\":\"\"}},\"colorscale\":{\"diverging\":[[0,\"#8e0152\"],[0.1,\"#c51b7d\"],[0.2,\"#de77ae\"],[0.3,\"#f1b6da\"],[0.4,\"#fde0ef\"],[0.5,\"#f7f7f7\"],[0.6,\"#e6f5d0\"],[0.7,\"#b8e186\"],[0.8,\"#7fbc41\"],[0.9,\"#4d9221\"],[1,\"#276419\"]],\"sequential\":[[0.0,\"#0d0887\"],[0.1111111111111111,\"#46039f\"],[0.2222222222222222,\"#7201a8\"],[0.3333333333333333,\"#9c179e\"],[0.4444444444444444,\"#bd3786\"],[0.5555555555555556,\"#d8576b\"],[0.6666666666666666,\"#ed7953\"],[0.7777777777777778,\"#fb9f3a\"],[0.8888888888888888,\"#fdca26\"],[1.0,\"#f0f921\"]],\"sequentialminus\":[[0.0,\"#0d0887\"],[0.1111111111111111,\"#46039f\"],[0.2222222222222222,\"#7201a8\"],[0.3333333333333333,\"#9c179e\"],[0.4444444444444444,\"#bd3786\"],[0.5555555555555556,\"#d8576b\"],[0.6666666666666666,\"#ed7953\"],[0.7777777777777778,\"#fb9f3a\"],[0.8888888888888888,\"#fdca26\"],[1.0,\"#f0f921\"]]},\"colorway\":[\"#636efa\",\"#EF553B\",\"#00cc96\",\"#ab63fa\",\"#FFA15A\",\"#19d3f3\",\"#FF6692\",\"#B6E880\",\"#FF97FF\",\"#FECB52\"],\"font\":{\"color\":\"#2a3f5f\"},\"geo\":{\"bgcolor\":\"white\",\"lakecolor\":\"white\",\"landcolor\":\"#E5ECF6\",\"showlakes\":true,\"showland\":true,\"subunitcolor\":\"white\"},\"hoverlabel\":{\"align\":\"left\"},\"hovermode\":\"closest\",\"mapbox\":{\"style\":\"light\"},\"paper_bgcolor\":\"white\",\"plot_bgcolor\":\"#E5ECF6\",\"polar\":{\"angularaxis\":{\"gridcolor\":\"white\",\"linecolor\":\"white\",\"ticks\":\"\"},\"bgcolor\":\"#E5ECF6\",\"radialaxis\":{\"gridcolor\":\"white\",\"linecolor\":\"white\",\"ticks\":\"\"}},\"scene\":{\"xaxis\":{\"backgroundcolor\":\"#E5ECF6\",\"gridcolor\":\"white\",\"gridwidth\":2,\"linecolor\":\"white\",\"showbackground\":true,\"ticks\":\"\",\"zerolinecolor\":\"white\"},\"yaxis\":{\"backgroundcolor\":\"#E5ECF6\",\"gridcolor\":\"white\",\"gridwidth\":2,\"linecolor\":\"white\",\"showbackground\":true,\"ticks\":\"\",\"zerolinecolor\":\"white\"},\"zaxis\":{\"backgroundcolor\":\"#E5ECF6\",\"gridcolor\":\"white\",\"gridwidth\":2,\"linecolor\":\"white\",\"showbackground\":true,\"ticks\":\"\",\"zerolinecolor\":\"white\"}},\"shapedefaults\":{\"line\":{\"color\":\"#2a3f5f\"}},\"ternary\":{\"aaxis\":{\"gridcolor\":\"white\",\"linecolor\":\"white\",\"ticks\":\"\"},\"baxis\":{\"gridcolor\":\"white\",\"linecolor\":\"white\",\"ticks\":\"\"},\"bgcolor\":\"#E5ECF6\",\"caxis\":{\"gridcolor\":\"white\",\"linecolor\":\"white\",\"ticks\":\"\"}},\"title\":{\"x\":0.05},\"xaxis\":{\"automargin\":true,\"gridcolor\":\"white\",\"linecolor\":\"white\",\"ticks\":\"\",\"title\":{\"standoff\":15},\"zerolinecolor\":\"white\",\"zerolinewidth\":2},\"yaxis\":{\"automargin\":true,\"gridcolor\":\"white\",\"linecolor\":\"white\",\"ticks\":\"\",\"title\":{\"standoff\":15},\"zerolinecolor\":\"white\",\"zerolinewidth\":2}}},\"xaxis\":{\"anchor\":\"y\",\"domain\":[0.0,1.0],\"title\":{\"text\":\"domain\"}},\"yaxis\":{\"anchor\":\"x\",\"domain\":[0.0,1.0],\"title\":{\"text\":\"sum of word_count\"}},\"legend\":{\"title\":{\"text\":\"year\"},\"tracegroupgap\":0},\"margin\":{\"t\":60},\"barmode\":\"relative\"},                        {\"responsive\": true}                    ).then(function(){\n",
       "                            \n",
       "var gd = document.getElementById('ad59f9ff-c1b4-4e9f-83bb-aa3ecc7ec4a6');\n",
       "var x = new MutationObserver(function (mutations, observer) {{\n",
       "        var display = window.getComputedStyle(gd).display;\n",
       "        if (!display || display === 'none') {{\n",
       "            console.log([gd, 'removed!']);\n",
       "            Plotly.purge(gd);\n",
       "            observer.disconnect();\n",
       "        }}\n",
       "}});\n",
       "\n",
       "// Listen for the removal of the full notebook cells\n",
       "var notebookContainer = gd.closest('#notebook-container');\n",
       "if (notebookContainer) {{\n",
       "    x.observe(notebookContainer, {childList: true});\n",
       "}}\n",
       "\n",
       "// Listen for the clearing of the current output cell\n",
       "var outputEl = gd.closest('.output');\n",
       "if (outputEl) {{\n",
       "    x.observe(outputEl, {childList: true});\n",
       "}}\n",
       "\n",
       "                        })                };                });            </script>        </div>"
      ]
     },
     "metadata": {},
     "output_type": "display_data"
    }
   ],
   "source": [
    "domain_number = []\n",
    "time_ = pd.Timestamp(\"2010-01-01 00:00:00+0000\", tz=\"UTC\")\n",
    "year = pd.Timedelta(days=366)\n",
    "while time_ < pd.Timestamp.utcnow():\n",
    "    df_ = df[(df.date > time_) & (df.date <= time_ + year)]\n",
    "    for domain in df[\"domain\"].unique():\n",
    "        word_count: int = 0\n",
    "        for news in df_[df_.domain == domain][\"content\"]:\n",
    "            word_count += len(news.split(\" \"))\n",
    "        domain_number.append(\n",
    "            {\n",
    "                \"domain\": domain,\n",
    "                \"word_count\": word_count,\n",
    "                \"type\": \"valid\" if (\"stiri\" in domain) or (\"\" == domain) else \"fake\",\n",
    "                \"year\": time_,\n",
    "            }\n",
    "        )\n",
    "    time_ += year\n",
    "\n",
    "\n",
    "fig = px.histogram(domain_number, x=\"domain\", y=\"word_count\", color=\"year\", text_auto=\".2s\")\n",
    "fig.show()\n"
   ]
  },
  {
   "cell_type": "markdown",
   "metadata": {},
   "source": [
    "sentence count by domain"
   ]
  },
  {
   "cell_type": "code",
   "execution_count": 19,
   "metadata": {},
   "outputs": [
    {
     "data": {
      "text/html": [
       "<div>                            <div id=\"ba4bebfd-55e8-4fe5-a555-6577fc3473c1\" class=\"plotly-graph-div\" style=\"height:525px; width:100%;\"></div>            <script type=\"text/javascript\">                require([\"plotly\"], function(Plotly) {                    window.PLOTLYENV=window.PLOTLYENV || {};                                    if (document.getElementById(\"ba4bebfd-55e8-4fe5-a555-6577fc3473c1\")) {                    Plotly.newPlot(                        \"ba4bebfd-55e8-4fe5-a555-6577fc3473c1\",                        [{\"alignmentgroup\":\"True\",\"bingroup\":\"x\",\"histfunc\":\"sum\",\"hovertemplate\":\"type=fake<br>domain=%{x}<br>sum of sentence_count=%{y}<extra></extra>\",\"legendgroup\":\"fake\",\"marker\":{\"color\":\"#636efa\",\"pattern\":{\"shape\":\"\"}},\"name\":\"fake\",\"offsetgroup\":\"fake\",\"orientation\":\"v\",\"showlegend\":true,\"texttemplate\":\"%{value:.2s}\",\"x\":[\"monden/\",\"it-stiinta/\",\"sport/\",\"politic/\",\"life-death/\"],\"xaxis\":\"x\",\"y\":[54953,13232,10783,43574,56830],\"yaxis\":\"y\",\"type\":\"histogram\"},{\"alignmentgroup\":\"True\",\"bingroup\":\"x\",\"histfunc\":\"sum\",\"hovertemplate\":\"type=valid<br>domain=%{x}<br>sum of sentence_count=%{y}<extra></extra>\",\"legendgroup\":\"valid\",\"marker\":{\"color\":\"#EF553B\",\"pattern\":{\"shape\":\"\"}},\"name\":\"valid\",\"offsetgroup\":\"valid\",\"orientation\":\"v\",\"showlegend\":true,\"texttemplate\":\"%{value:.2s}\",\"x\":[\"\",\"stiri/economie\",\"stiri/externe\",\"stiri/actualitate\",\"stiri/actualitate/politica\",\"stiri/sport\",\"stiri/sci-tech\"],\"xaxis\":\"x\",\"y\":[48597,399396,479743,833700,640349,74486,46645],\"yaxis\":\"y\",\"type\":\"histogram\"}],                        {\"template\":{\"data\":{\"bar\":[{\"error_x\":{\"color\":\"#2a3f5f\"},\"error_y\":{\"color\":\"#2a3f5f\"},\"marker\":{\"line\":{\"color\":\"#E5ECF6\",\"width\":0.5},\"pattern\":{\"fillmode\":\"overlay\",\"size\":10,\"solidity\":0.2}},\"type\":\"bar\"}],\"barpolar\":[{\"marker\":{\"line\":{\"color\":\"#E5ECF6\",\"width\":0.5},\"pattern\":{\"fillmode\":\"overlay\",\"size\":10,\"solidity\":0.2}},\"type\":\"barpolar\"}],\"carpet\":[{\"aaxis\":{\"endlinecolor\":\"#2a3f5f\",\"gridcolor\":\"white\",\"linecolor\":\"white\",\"minorgridcolor\":\"white\",\"startlinecolor\":\"#2a3f5f\"},\"baxis\":{\"endlinecolor\":\"#2a3f5f\",\"gridcolor\":\"white\",\"linecolor\":\"white\",\"minorgridcolor\":\"white\",\"startlinecolor\":\"#2a3f5f\"},\"type\":\"carpet\"}],\"choropleth\":[{\"colorbar\":{\"outlinewidth\":0,\"ticks\":\"\"},\"type\":\"choropleth\"}],\"contour\":[{\"colorbar\":{\"outlinewidth\":0,\"ticks\":\"\"},\"colorscale\":[[0.0,\"#0d0887\"],[0.1111111111111111,\"#46039f\"],[0.2222222222222222,\"#7201a8\"],[0.3333333333333333,\"#9c179e\"],[0.4444444444444444,\"#bd3786\"],[0.5555555555555556,\"#d8576b\"],[0.6666666666666666,\"#ed7953\"],[0.7777777777777778,\"#fb9f3a\"],[0.8888888888888888,\"#fdca26\"],[1.0,\"#f0f921\"]],\"type\":\"contour\"}],\"contourcarpet\":[{\"colorbar\":{\"outlinewidth\":0,\"ticks\":\"\"},\"type\":\"contourcarpet\"}],\"heatmap\":[{\"colorbar\":{\"outlinewidth\":0,\"ticks\":\"\"},\"colorscale\":[[0.0,\"#0d0887\"],[0.1111111111111111,\"#46039f\"],[0.2222222222222222,\"#7201a8\"],[0.3333333333333333,\"#9c179e\"],[0.4444444444444444,\"#bd3786\"],[0.5555555555555556,\"#d8576b\"],[0.6666666666666666,\"#ed7953\"],[0.7777777777777778,\"#fb9f3a\"],[0.8888888888888888,\"#fdca26\"],[1.0,\"#f0f921\"]],\"type\":\"heatmap\"}],\"heatmapgl\":[{\"colorbar\":{\"outlinewidth\":0,\"ticks\":\"\"},\"colorscale\":[[0.0,\"#0d0887\"],[0.1111111111111111,\"#46039f\"],[0.2222222222222222,\"#7201a8\"],[0.3333333333333333,\"#9c179e\"],[0.4444444444444444,\"#bd3786\"],[0.5555555555555556,\"#d8576b\"],[0.6666666666666666,\"#ed7953\"],[0.7777777777777778,\"#fb9f3a\"],[0.8888888888888888,\"#fdca26\"],[1.0,\"#f0f921\"]],\"type\":\"heatmapgl\"}],\"histogram\":[{\"marker\":{\"pattern\":{\"fillmode\":\"overlay\",\"size\":10,\"solidity\":0.2}},\"type\":\"histogram\"}],\"histogram2d\":[{\"colorbar\":{\"outlinewidth\":0,\"ticks\":\"\"},\"colorscale\":[[0.0,\"#0d0887\"],[0.1111111111111111,\"#46039f\"],[0.2222222222222222,\"#7201a8\"],[0.3333333333333333,\"#9c179e\"],[0.4444444444444444,\"#bd3786\"],[0.5555555555555556,\"#d8576b\"],[0.6666666666666666,\"#ed7953\"],[0.7777777777777778,\"#fb9f3a\"],[0.8888888888888888,\"#fdca26\"],[1.0,\"#f0f921\"]],\"type\":\"histogram2d\"}],\"histogram2dcontour\":[{\"colorbar\":{\"outlinewidth\":0,\"ticks\":\"\"},\"colorscale\":[[0.0,\"#0d0887\"],[0.1111111111111111,\"#46039f\"],[0.2222222222222222,\"#7201a8\"],[0.3333333333333333,\"#9c179e\"],[0.4444444444444444,\"#bd3786\"],[0.5555555555555556,\"#d8576b\"],[0.6666666666666666,\"#ed7953\"],[0.7777777777777778,\"#fb9f3a\"],[0.8888888888888888,\"#fdca26\"],[1.0,\"#f0f921\"]],\"type\":\"histogram2dcontour\"}],\"mesh3d\":[{\"colorbar\":{\"outlinewidth\":0,\"ticks\":\"\"},\"type\":\"mesh3d\"}],\"parcoords\":[{\"line\":{\"colorbar\":{\"outlinewidth\":0,\"ticks\":\"\"}},\"type\":\"parcoords\"}],\"pie\":[{\"automargin\":true,\"type\":\"pie\"}],\"scatter\":[{\"marker\":{\"colorbar\":{\"outlinewidth\":0,\"ticks\":\"\"}},\"type\":\"scatter\"}],\"scatter3d\":[{\"line\":{\"colorbar\":{\"outlinewidth\":0,\"ticks\":\"\"}},\"marker\":{\"colorbar\":{\"outlinewidth\":0,\"ticks\":\"\"}},\"type\":\"scatter3d\"}],\"scattercarpet\":[{\"marker\":{\"colorbar\":{\"outlinewidth\":0,\"ticks\":\"\"}},\"type\":\"scattercarpet\"}],\"scattergeo\":[{\"marker\":{\"colorbar\":{\"outlinewidth\":0,\"ticks\":\"\"}},\"type\":\"scattergeo\"}],\"scattergl\":[{\"marker\":{\"colorbar\":{\"outlinewidth\":0,\"ticks\":\"\"}},\"type\":\"scattergl\"}],\"scattermapbox\":[{\"marker\":{\"colorbar\":{\"outlinewidth\":0,\"ticks\":\"\"}},\"type\":\"scattermapbox\"}],\"scatterpolar\":[{\"marker\":{\"colorbar\":{\"outlinewidth\":0,\"ticks\":\"\"}},\"type\":\"scatterpolar\"}],\"scatterpolargl\":[{\"marker\":{\"colorbar\":{\"outlinewidth\":0,\"ticks\":\"\"}},\"type\":\"scatterpolargl\"}],\"scatterternary\":[{\"marker\":{\"colorbar\":{\"outlinewidth\":0,\"ticks\":\"\"}},\"type\":\"scatterternary\"}],\"surface\":[{\"colorbar\":{\"outlinewidth\":0,\"ticks\":\"\"},\"colorscale\":[[0.0,\"#0d0887\"],[0.1111111111111111,\"#46039f\"],[0.2222222222222222,\"#7201a8\"],[0.3333333333333333,\"#9c179e\"],[0.4444444444444444,\"#bd3786\"],[0.5555555555555556,\"#d8576b\"],[0.6666666666666666,\"#ed7953\"],[0.7777777777777778,\"#fb9f3a\"],[0.8888888888888888,\"#fdca26\"],[1.0,\"#f0f921\"]],\"type\":\"surface\"}],\"table\":[{\"cells\":{\"fill\":{\"color\":\"#EBF0F8\"},\"line\":{\"color\":\"white\"}},\"header\":{\"fill\":{\"color\":\"#C8D4E3\"},\"line\":{\"color\":\"white\"}},\"type\":\"table\"}]},\"layout\":{\"annotationdefaults\":{\"arrowcolor\":\"#2a3f5f\",\"arrowhead\":0,\"arrowwidth\":1},\"autotypenumbers\":\"strict\",\"coloraxis\":{\"colorbar\":{\"outlinewidth\":0,\"ticks\":\"\"}},\"colorscale\":{\"diverging\":[[0,\"#8e0152\"],[0.1,\"#c51b7d\"],[0.2,\"#de77ae\"],[0.3,\"#f1b6da\"],[0.4,\"#fde0ef\"],[0.5,\"#f7f7f7\"],[0.6,\"#e6f5d0\"],[0.7,\"#b8e186\"],[0.8,\"#7fbc41\"],[0.9,\"#4d9221\"],[1,\"#276419\"]],\"sequential\":[[0.0,\"#0d0887\"],[0.1111111111111111,\"#46039f\"],[0.2222222222222222,\"#7201a8\"],[0.3333333333333333,\"#9c179e\"],[0.4444444444444444,\"#bd3786\"],[0.5555555555555556,\"#d8576b\"],[0.6666666666666666,\"#ed7953\"],[0.7777777777777778,\"#fb9f3a\"],[0.8888888888888888,\"#fdca26\"],[1.0,\"#f0f921\"]],\"sequentialminus\":[[0.0,\"#0d0887\"],[0.1111111111111111,\"#46039f\"],[0.2222222222222222,\"#7201a8\"],[0.3333333333333333,\"#9c179e\"],[0.4444444444444444,\"#bd3786\"],[0.5555555555555556,\"#d8576b\"],[0.6666666666666666,\"#ed7953\"],[0.7777777777777778,\"#fb9f3a\"],[0.8888888888888888,\"#fdca26\"],[1.0,\"#f0f921\"]]},\"colorway\":[\"#636efa\",\"#EF553B\",\"#00cc96\",\"#ab63fa\",\"#FFA15A\",\"#19d3f3\",\"#FF6692\",\"#B6E880\",\"#FF97FF\",\"#FECB52\"],\"font\":{\"color\":\"#2a3f5f\"},\"geo\":{\"bgcolor\":\"white\",\"lakecolor\":\"white\",\"landcolor\":\"#E5ECF6\",\"showlakes\":true,\"showland\":true,\"subunitcolor\":\"white\"},\"hoverlabel\":{\"align\":\"left\"},\"hovermode\":\"closest\",\"mapbox\":{\"style\":\"light\"},\"paper_bgcolor\":\"white\",\"plot_bgcolor\":\"#E5ECF6\",\"polar\":{\"angularaxis\":{\"gridcolor\":\"white\",\"linecolor\":\"white\",\"ticks\":\"\"},\"bgcolor\":\"#E5ECF6\",\"radialaxis\":{\"gridcolor\":\"white\",\"linecolor\":\"white\",\"ticks\":\"\"}},\"scene\":{\"xaxis\":{\"backgroundcolor\":\"#E5ECF6\",\"gridcolor\":\"white\",\"gridwidth\":2,\"linecolor\":\"white\",\"showbackground\":true,\"ticks\":\"\",\"zerolinecolor\":\"white\"},\"yaxis\":{\"backgroundcolor\":\"#E5ECF6\",\"gridcolor\":\"white\",\"gridwidth\":2,\"linecolor\":\"white\",\"showbackground\":true,\"ticks\":\"\",\"zerolinecolor\":\"white\"},\"zaxis\":{\"backgroundcolor\":\"#E5ECF6\",\"gridcolor\":\"white\",\"gridwidth\":2,\"linecolor\":\"white\",\"showbackground\":true,\"ticks\":\"\",\"zerolinecolor\":\"white\"}},\"shapedefaults\":{\"line\":{\"color\":\"#2a3f5f\"}},\"ternary\":{\"aaxis\":{\"gridcolor\":\"white\",\"linecolor\":\"white\",\"ticks\":\"\"},\"baxis\":{\"gridcolor\":\"white\",\"linecolor\":\"white\",\"ticks\":\"\"},\"bgcolor\":\"#E5ECF6\",\"caxis\":{\"gridcolor\":\"white\",\"linecolor\":\"white\",\"ticks\":\"\"}},\"title\":{\"x\":0.05},\"xaxis\":{\"automargin\":true,\"gridcolor\":\"white\",\"linecolor\":\"white\",\"ticks\":\"\",\"title\":{\"standoff\":15},\"zerolinecolor\":\"white\",\"zerolinewidth\":2},\"yaxis\":{\"automargin\":true,\"gridcolor\":\"white\",\"linecolor\":\"white\",\"ticks\":\"\",\"title\":{\"standoff\":15},\"zerolinecolor\":\"white\",\"zerolinewidth\":2}}},\"xaxis\":{\"anchor\":\"y\",\"domain\":[0.0,1.0],\"title\":{\"text\":\"domain\"}},\"yaxis\":{\"anchor\":\"x\",\"domain\":[0.0,1.0],\"title\":{\"text\":\"sum of sentence_count\"}},\"legend\":{\"title\":{\"text\":\"type\"},\"tracegroupgap\":0},\"margin\":{\"t\":60},\"barmode\":\"relative\"},                        {\"responsive\": true}                    ).then(function(){\n",
       "                            \n",
       "var gd = document.getElementById('ba4bebfd-55e8-4fe5-a555-6577fc3473c1');\n",
       "var x = new MutationObserver(function (mutations, observer) {{\n",
       "        var display = window.getComputedStyle(gd).display;\n",
       "        if (!display || display === 'none') {{\n",
       "            console.log([gd, 'removed!']);\n",
       "            Plotly.purge(gd);\n",
       "            observer.disconnect();\n",
       "        }}\n",
       "}});\n",
       "\n",
       "// Listen for the removal of the full notebook cells\n",
       "var notebookContainer = gd.closest('#notebook-container');\n",
       "if (notebookContainer) {{\n",
       "    x.observe(notebookContainer, {childList: true});\n",
       "}}\n",
       "\n",
       "// Listen for the clearing of the current output cell\n",
       "var outputEl = gd.closest('.output');\n",
       "if (outputEl) {{\n",
       "    x.observe(outputEl, {childList: true});\n",
       "}}\n",
       "\n",
       "                        })                };                });            </script>        </div>"
      ]
     },
     "metadata": {},
     "output_type": "display_data"
    }
   ],
   "source": [
    "domain_sentence_count = []\n",
    "for domain in df[\"domain\"].unique():\n",
    "    sentence_count: int = 0\n",
    "    for news in df[df.domain == domain][\"content\"]:\n",
    "        sentence_count += len(news.split(\".\"))\n",
    "    domain_sentence_count.append(\n",
    "        {\n",
    "            \"domain\": domain,\n",
    "            \"sentence_count\": sentence_count,\n",
    "            \"type\": \"valid\" if (\"stiri\" in domain) or (\"\" == domain) else \"fake\",\n",
    "        }\n",
    "    )\n",
    "\n",
    "\n",
    "fig = px.histogram(\n",
    "    domain_sentence_count, x=\"domain\", y=\"sentence_count\", color=\"type\", text_auto=\".2s\"\n",
    ")\n",
    "fig.show()\n"
   ]
  },
  {
   "cell_type": "code",
   "execution_count": 20,
   "metadata": {},
   "outputs": [
    {
     "data": {
      "text/html": [
       "<div>                            <div id=\"4ea8e23f-9050-4730-b755-96fd51e688fa\" class=\"plotly-graph-div\" style=\"height:525px; width:100%;\"></div>            <script type=\"text/javascript\">                require([\"plotly\"], function(Plotly) {                    window.PLOTLYENV=window.PLOTLYENV || {};                                    if (document.getElementById(\"4ea8e23f-9050-4730-b755-96fd51e688fa\")) {                    Plotly.newPlot(                        \"4ea8e23f-9050-4730-b755-96fd51e688fa\",                        [{\"alignmentgroup\":\"True\",\"bingroup\":\"x\",\"histfunc\":\"sum\",\"hovertemplate\":\"year=2010-01-01 00:00:00+00:00<br>domain=%{x}<br>sum of sentence_count=%{y}<extra></extra>\",\"legendgroup\":\"2010-01-01 00:00:00+00:00\",\"marker\":{\"color\":\"#636efa\",\"pattern\":{\"shape\":\"\"}},\"name\":\"2010-01-01 00:00:00+00:00\",\"offsetgroup\":\"2010-01-01 00:00:00+00:00\",\"orientation\":\"v\",\"showlegend\":true,\"texttemplate\":\"%{value:.2s}\",\"x\":[\"monden/\",\"it-stiinta/\",\"sport/\",\"politic/\",\"life-death/\",\"\",\"stiri/economie\",\"stiri/externe\",\"stiri/actualitate\",\"stiri/actualitate/politica\",\"stiri/sport\",\"stiri/sci-tech\"],\"xaxis\":\"x\",\"y\":[2029,8,1221,3458,7880,0,0,0,0,0,0,0],\"yaxis\":\"y\",\"type\":\"histogram\"},{\"alignmentgroup\":\"True\",\"bingroup\":\"x\",\"histfunc\":\"sum\",\"hovertemplate\":\"year=2011-01-02 00:00:00+00:00<br>domain=%{x}<br>sum of sentence_count=%{y}<extra></extra>\",\"legendgroup\":\"2011-01-02 00:00:00+00:00\",\"marker\":{\"color\":\"#EF553B\",\"pattern\":{\"shape\":\"\"}},\"name\":\"2011-01-02 00:00:00+00:00\",\"offsetgroup\":\"2011-01-02 00:00:00+00:00\",\"orientation\":\"v\",\"showlegend\":true,\"texttemplate\":\"%{value:.2s}\",\"x\":[\"monden/\",\"it-stiinta/\",\"sport/\",\"politic/\",\"life-death/\",\"\",\"stiri/economie\",\"stiri/externe\",\"stiri/actualitate\",\"stiri/actualitate/politica\",\"stiri/sport\",\"stiri/sci-tech\"],\"xaxis\":\"x\",\"y\":[3492,25,828,2937,4003,0,0,0,0,0,0,0],\"yaxis\":\"y\",\"type\":\"histogram\"},{\"alignmentgroup\":\"True\",\"bingroup\":\"x\",\"histfunc\":\"sum\",\"hovertemplate\":\"year=2012-01-03 00:00:00+00:00<br>domain=%{x}<br>sum of sentence_count=%{y}<extra></extra>\",\"legendgroup\":\"2012-01-03 00:00:00+00:00\",\"marker\":{\"color\":\"#00cc96\",\"pattern\":{\"shape\":\"\"}},\"name\":\"2012-01-03 00:00:00+00:00\",\"offsetgroup\":\"2012-01-03 00:00:00+00:00\",\"orientation\":\"v\",\"showlegend\":true,\"texttemplate\":\"%{value:.2s}\",\"x\":[\"monden/\",\"it-stiinta/\",\"sport/\",\"politic/\",\"life-death/\",\"\",\"stiri/economie\",\"stiri/externe\",\"stiri/actualitate\",\"stiri/actualitate/politica\",\"stiri/sport\",\"stiri/sci-tech\"],\"xaxis\":\"x\",\"y\":[3951,24,1182,3939,4102,0,0,0,0,0,0,0],\"yaxis\":\"y\",\"type\":\"histogram\"},{\"alignmentgroup\":\"True\",\"bingroup\":\"x\",\"histfunc\":\"sum\",\"hovertemplate\":\"year=2013-01-03 00:00:00+00:00<br>domain=%{x}<br>sum of sentence_count=%{y}<extra></extra>\",\"legendgroup\":\"2013-01-03 00:00:00+00:00\",\"marker\":{\"color\":\"#ab63fa\",\"pattern\":{\"shape\":\"\"}},\"name\":\"2013-01-03 00:00:00+00:00\",\"offsetgroup\":\"2013-01-03 00:00:00+00:00\",\"orientation\":\"v\",\"showlegend\":true,\"texttemplate\":\"%{value:.2s}\",\"x\":[\"monden/\",\"it-stiinta/\",\"sport/\",\"politic/\",\"life-death/\",\"\",\"stiri/economie\",\"stiri/externe\",\"stiri/actualitate\",\"stiri/actualitate/politica\",\"stiri/sport\",\"stiri/sci-tech\"],\"xaxis\":\"x\",\"y\":[4978,670,1715,4681,4821,0,0,0,0,28256,0,0],\"yaxis\":\"y\",\"type\":\"histogram\"},{\"alignmentgroup\":\"True\",\"bingroup\":\"x\",\"histfunc\":\"sum\",\"hovertemplate\":\"year=2014-01-04 00:00:00+00:00<br>domain=%{x}<br>sum of sentence_count=%{y}<extra></extra>\",\"legendgroup\":\"2014-01-04 00:00:00+00:00\",\"marker\":{\"color\":\"#FFA15A\",\"pattern\":{\"shape\":\"\"}},\"name\":\"2014-01-04 00:00:00+00:00\",\"offsetgroup\":\"2014-01-04 00:00:00+00:00\",\"orientation\":\"v\",\"showlegend\":true,\"texttemplate\":\"%{value:.2s}\",\"x\":[\"monden/\",\"it-stiinta/\",\"sport/\",\"politic/\",\"life-death/\",\"\",\"stiri/economie\",\"stiri/externe\",\"stiri/actualitate\",\"stiri/actualitate/politica\",\"stiri/sport\",\"stiri/sci-tech\"],\"xaxis\":\"x\",\"y\":[4524,1442,1208,4485,3495,0,0,0,0,44124,0,0],\"yaxis\":\"y\",\"type\":\"histogram\"},{\"alignmentgroup\":\"True\",\"bingroup\":\"x\",\"histfunc\":\"sum\",\"hovertemplate\":\"year=2015-01-05 00:00:00+00:00<br>domain=%{x}<br>sum of sentence_count=%{y}<extra></extra>\",\"legendgroup\":\"2015-01-05 00:00:00+00:00\",\"marker\":{\"color\":\"#19d3f3\",\"pattern\":{\"shape\":\"\"}},\"name\":\"2015-01-05 00:00:00+00:00\",\"offsetgroup\":\"2015-01-05 00:00:00+00:00\",\"orientation\":\"v\",\"showlegend\":true,\"texttemplate\":\"%{value:.2s}\",\"x\":[\"monden/\",\"it-stiinta/\",\"sport/\",\"politic/\",\"life-death/\",\"\",\"stiri/economie\",\"stiri/externe\",\"stiri/actualitate\",\"stiri/actualitate/politica\",\"stiri/sport\",\"stiri/sci-tech\"],\"xaxis\":\"x\",\"y\":[4533,1221,770,4494,3508,0,2215,0,0,38303,0,0],\"yaxis\":\"y\",\"type\":\"histogram\"},{\"alignmentgroup\":\"True\",\"bingroup\":\"x\",\"histfunc\":\"sum\",\"hovertemplate\":\"year=2016-01-06 00:00:00+00:00<br>domain=%{x}<br>sum of sentence_count=%{y}<extra></extra>\",\"legendgroup\":\"2016-01-06 00:00:00+00:00\",\"marker\":{\"color\":\"#FF6692\",\"pattern\":{\"shape\":\"\"}},\"name\":\"2016-01-06 00:00:00+00:00\",\"offsetgroup\":\"2016-01-06 00:00:00+00:00\",\"orientation\":\"v\",\"showlegend\":true,\"texttemplate\":\"%{value:.2s}\",\"x\":[\"monden/\",\"it-stiinta/\",\"sport/\",\"politic/\",\"life-death/\",\"\",\"stiri/economie\",\"stiri/externe\",\"stiri/actualitate\",\"stiri/actualitate/politica\",\"stiri/sport\",\"stiri/sci-tech\"],\"xaxis\":\"x\",\"y\":[4719,1251,605,4613,4259,0,55362,0,0,49397,0,0],\"yaxis\":\"y\",\"type\":\"histogram\"},{\"alignmentgroup\":\"True\",\"bingroup\":\"x\",\"histfunc\":\"sum\",\"hovertemplate\":\"year=2017-01-06 00:00:00+00:00<br>domain=%{x}<br>sum of sentence_count=%{y}<extra></extra>\",\"legendgroup\":\"2017-01-06 00:00:00+00:00\",\"marker\":{\"color\":\"#B6E880\",\"pattern\":{\"shape\":\"\"}},\"name\":\"2017-01-06 00:00:00+00:00\",\"offsetgroup\":\"2017-01-06 00:00:00+00:00\",\"orientation\":\"v\",\"showlegend\":true,\"texttemplate\":\"%{value:.2s}\",\"x\":[\"monden/\",\"it-stiinta/\",\"sport/\",\"politic/\",\"life-death/\",\"\",\"stiri/economie\",\"stiri/externe\",\"stiri/actualitate\",\"stiri/actualitate/politica\",\"stiri/sport\",\"stiri/sci-tech\"],\"xaxis\":\"x\",\"y\":[4941,1392,376,4108,4106,0,112592,0,0,84140,0,0],\"yaxis\":\"y\",\"type\":\"histogram\"},{\"alignmentgroup\":\"True\",\"bingroup\":\"x\",\"histfunc\":\"sum\",\"hovertemplate\":\"year=2018-01-07 00:00:00+00:00<br>domain=%{x}<br>sum of sentence_count=%{y}<extra></extra>\",\"legendgroup\":\"2018-01-07 00:00:00+00:00\",\"marker\":{\"color\":\"#FF97FF\",\"pattern\":{\"shape\":\"\"}},\"name\":\"2018-01-07 00:00:00+00:00\",\"offsetgroup\":\"2018-01-07 00:00:00+00:00\",\"orientation\":\"v\",\"showlegend\":true,\"texttemplate\":\"%{value:.2s}\",\"x\":[\"monden/\",\"it-stiinta/\",\"sport/\",\"politic/\",\"life-death/\",\"\",\"stiri/economie\",\"stiri/externe\",\"stiri/actualitate\",\"stiri/actualitate/politica\",\"stiri/sport\",\"stiri/sci-tech\"],\"xaxis\":\"x\",\"y\":[4448,1947,499,3077,4193,0,85359,0,96881,112523,22306,0],\"yaxis\":\"y\",\"type\":\"histogram\"},{\"alignmentgroup\":\"True\",\"bingroup\":\"x\",\"histfunc\":\"sum\",\"hovertemplate\":\"year=2019-01-08 00:00:00+00:00<br>domain=%{x}<br>sum of sentence_count=%{y}<extra></extra>\",\"legendgroup\":\"2019-01-08 00:00:00+00:00\",\"marker\":{\"color\":\"#FECB52\",\"pattern\":{\"shape\":\"\"}},\"name\":\"2019-01-08 00:00:00+00:00\",\"offsetgroup\":\"2019-01-08 00:00:00+00:00\",\"orientation\":\"v\",\"showlegend\":true,\"texttemplate\":\"%{value:.2s}\",\"x\":[\"monden/\",\"it-stiinta/\",\"sport/\",\"politic/\",\"life-death/\",\"\",\"stiri/economie\",\"stiri/externe\",\"stiri/actualitate\",\"stiri/actualitate/politica\",\"stiri/sport\",\"stiri/sci-tech\"],\"xaxis\":\"x\",\"y\":[5766,1734,445,2574,3807,0,50516,254,318203,123404,25475,0],\"yaxis\":\"y\",\"type\":\"histogram\"},{\"alignmentgroup\":\"True\",\"bingroup\":\"x\",\"histfunc\":\"sum\",\"hovertemplate\":\"year=2020-01-09 00:00:00+00:00<br>domain=%{x}<br>sum of sentence_count=%{y}<extra></extra>\",\"legendgroup\":\"2020-01-09 00:00:00+00:00\",\"marker\":{\"color\":\"#636efa\",\"pattern\":{\"shape\":\"\"}},\"name\":\"2020-01-09 00:00:00+00:00\",\"offsetgroup\":\"2020-01-09 00:00:00+00:00\",\"orientation\":\"v\",\"showlegend\":true,\"texttemplate\":\"%{value:.2s}\",\"x\":[\"monden/\",\"it-stiinta/\",\"sport/\",\"politic/\",\"life-death/\",\"\",\"stiri/economie\",\"stiri/externe\",\"stiri/actualitate\",\"stiri/actualitate/politica\",\"stiri/sport\",\"stiri/sci-tech\"],\"xaxis\":\"x\",\"y\":[5101,1648,373,2092,4624,0,45472,194673,339432,73533,9653,14553],\"yaxis\":\"y\",\"type\":\"histogram\"},{\"alignmentgroup\":\"True\",\"bingroup\":\"x\",\"histfunc\":\"sum\",\"hovertemplate\":\"year=2021-01-09 00:00:00+00:00<br>domain=%{x}<br>sum of sentence_count=%{y}<extra></extra>\",\"legendgroup\":\"2021-01-09 00:00:00+00:00\",\"marker\":{\"color\":\"#EF553B\",\"pattern\":{\"shape\":\"\"}},\"name\":\"2021-01-09 00:00:00+00:00\",\"offsetgroup\":\"2021-01-09 00:00:00+00:00\",\"orientation\":\"v\",\"showlegend\":true,\"texttemplate\":\"%{value:.2s}\",\"x\":[\"monden/\",\"it-stiinta/\",\"sport/\",\"politic/\",\"life-death/\",\"\",\"stiri/economie\",\"stiri/externe\",\"stiri/actualitate\",\"stiri/actualitate/politica\",\"stiri/sport\",\"stiri/sci-tech\"],\"xaxis\":\"x\",\"y\":[5193,1666,877,2059,4677,0,39919,228257,79184,77139,14998,29196],\"yaxis\":\"y\",\"type\":\"histogram\"},{\"alignmentgroup\":\"True\",\"bingroup\":\"x\",\"histfunc\":\"sum\",\"hovertemplate\":\"year=2022-01-10 00:00:00+00:00<br>domain=%{x}<br>sum of sentence_count=%{y}<extra></extra>\",\"legendgroup\":\"2022-01-10 00:00:00+00:00\",\"marker\":{\"color\":\"#00cc96\",\"pattern\":{\"shape\":\"\"}},\"name\":\"2022-01-10 00:00:00+00:00\",\"offsetgroup\":\"2022-01-10 00:00:00+00:00\",\"orientation\":\"v\",\"showlegend\":true,\"texttemplate\":\"%{value:.2s}\",\"x\":[\"monden/\",\"it-stiinta/\",\"sport/\",\"politic/\",\"life-death/\",\"\",\"stiri/economie\",\"stiri/externe\",\"stiri/actualitate\",\"stiri/actualitate/politica\",\"stiri/sport\",\"stiri/sci-tech\"],\"xaxis\":\"x\",\"y\":[797,204,185,444,711,48597,7961,56559,0,9530,2054,2896],\"yaxis\":\"y\",\"type\":\"histogram\"}],                        {\"template\":{\"data\":{\"bar\":[{\"error_x\":{\"color\":\"#2a3f5f\"},\"error_y\":{\"color\":\"#2a3f5f\"},\"marker\":{\"line\":{\"color\":\"#E5ECF6\",\"width\":0.5},\"pattern\":{\"fillmode\":\"overlay\",\"size\":10,\"solidity\":0.2}},\"type\":\"bar\"}],\"barpolar\":[{\"marker\":{\"line\":{\"color\":\"#E5ECF6\",\"width\":0.5},\"pattern\":{\"fillmode\":\"overlay\",\"size\":10,\"solidity\":0.2}},\"type\":\"barpolar\"}],\"carpet\":[{\"aaxis\":{\"endlinecolor\":\"#2a3f5f\",\"gridcolor\":\"white\",\"linecolor\":\"white\",\"minorgridcolor\":\"white\",\"startlinecolor\":\"#2a3f5f\"},\"baxis\":{\"endlinecolor\":\"#2a3f5f\",\"gridcolor\":\"white\",\"linecolor\":\"white\",\"minorgridcolor\":\"white\",\"startlinecolor\":\"#2a3f5f\"},\"type\":\"carpet\"}],\"choropleth\":[{\"colorbar\":{\"outlinewidth\":0,\"ticks\":\"\"},\"type\":\"choropleth\"}],\"contour\":[{\"colorbar\":{\"outlinewidth\":0,\"ticks\":\"\"},\"colorscale\":[[0.0,\"#0d0887\"],[0.1111111111111111,\"#46039f\"],[0.2222222222222222,\"#7201a8\"],[0.3333333333333333,\"#9c179e\"],[0.4444444444444444,\"#bd3786\"],[0.5555555555555556,\"#d8576b\"],[0.6666666666666666,\"#ed7953\"],[0.7777777777777778,\"#fb9f3a\"],[0.8888888888888888,\"#fdca26\"],[1.0,\"#f0f921\"]],\"type\":\"contour\"}],\"contourcarpet\":[{\"colorbar\":{\"outlinewidth\":0,\"ticks\":\"\"},\"type\":\"contourcarpet\"}],\"heatmap\":[{\"colorbar\":{\"outlinewidth\":0,\"ticks\":\"\"},\"colorscale\":[[0.0,\"#0d0887\"],[0.1111111111111111,\"#46039f\"],[0.2222222222222222,\"#7201a8\"],[0.3333333333333333,\"#9c179e\"],[0.4444444444444444,\"#bd3786\"],[0.5555555555555556,\"#d8576b\"],[0.6666666666666666,\"#ed7953\"],[0.7777777777777778,\"#fb9f3a\"],[0.8888888888888888,\"#fdca26\"],[1.0,\"#f0f921\"]],\"type\":\"heatmap\"}],\"heatmapgl\":[{\"colorbar\":{\"outlinewidth\":0,\"ticks\":\"\"},\"colorscale\":[[0.0,\"#0d0887\"],[0.1111111111111111,\"#46039f\"],[0.2222222222222222,\"#7201a8\"],[0.3333333333333333,\"#9c179e\"],[0.4444444444444444,\"#bd3786\"],[0.5555555555555556,\"#d8576b\"],[0.6666666666666666,\"#ed7953\"],[0.7777777777777778,\"#fb9f3a\"],[0.8888888888888888,\"#fdca26\"],[1.0,\"#f0f921\"]],\"type\":\"heatmapgl\"}],\"histogram\":[{\"marker\":{\"pattern\":{\"fillmode\":\"overlay\",\"size\":10,\"solidity\":0.2}},\"type\":\"histogram\"}],\"histogram2d\":[{\"colorbar\":{\"outlinewidth\":0,\"ticks\":\"\"},\"colorscale\":[[0.0,\"#0d0887\"],[0.1111111111111111,\"#46039f\"],[0.2222222222222222,\"#7201a8\"],[0.3333333333333333,\"#9c179e\"],[0.4444444444444444,\"#bd3786\"],[0.5555555555555556,\"#d8576b\"],[0.6666666666666666,\"#ed7953\"],[0.7777777777777778,\"#fb9f3a\"],[0.8888888888888888,\"#fdca26\"],[1.0,\"#f0f921\"]],\"type\":\"histogram2d\"}],\"histogram2dcontour\":[{\"colorbar\":{\"outlinewidth\":0,\"ticks\":\"\"},\"colorscale\":[[0.0,\"#0d0887\"],[0.1111111111111111,\"#46039f\"],[0.2222222222222222,\"#7201a8\"],[0.3333333333333333,\"#9c179e\"],[0.4444444444444444,\"#bd3786\"],[0.5555555555555556,\"#d8576b\"],[0.6666666666666666,\"#ed7953\"],[0.7777777777777778,\"#fb9f3a\"],[0.8888888888888888,\"#fdca26\"],[1.0,\"#f0f921\"]],\"type\":\"histogram2dcontour\"}],\"mesh3d\":[{\"colorbar\":{\"outlinewidth\":0,\"ticks\":\"\"},\"type\":\"mesh3d\"}],\"parcoords\":[{\"line\":{\"colorbar\":{\"outlinewidth\":0,\"ticks\":\"\"}},\"type\":\"parcoords\"}],\"pie\":[{\"automargin\":true,\"type\":\"pie\"}],\"scatter\":[{\"marker\":{\"colorbar\":{\"outlinewidth\":0,\"ticks\":\"\"}},\"type\":\"scatter\"}],\"scatter3d\":[{\"line\":{\"colorbar\":{\"outlinewidth\":0,\"ticks\":\"\"}},\"marker\":{\"colorbar\":{\"outlinewidth\":0,\"ticks\":\"\"}},\"type\":\"scatter3d\"}],\"scattercarpet\":[{\"marker\":{\"colorbar\":{\"outlinewidth\":0,\"ticks\":\"\"}},\"type\":\"scattercarpet\"}],\"scattergeo\":[{\"marker\":{\"colorbar\":{\"outlinewidth\":0,\"ticks\":\"\"}},\"type\":\"scattergeo\"}],\"scattergl\":[{\"marker\":{\"colorbar\":{\"outlinewidth\":0,\"ticks\":\"\"}},\"type\":\"scattergl\"}],\"scattermapbox\":[{\"marker\":{\"colorbar\":{\"outlinewidth\":0,\"ticks\":\"\"}},\"type\":\"scattermapbox\"}],\"scatterpolar\":[{\"marker\":{\"colorbar\":{\"outlinewidth\":0,\"ticks\":\"\"}},\"type\":\"scatterpolar\"}],\"scatterpolargl\":[{\"marker\":{\"colorbar\":{\"outlinewidth\":0,\"ticks\":\"\"}},\"type\":\"scatterpolargl\"}],\"scatterternary\":[{\"marker\":{\"colorbar\":{\"outlinewidth\":0,\"ticks\":\"\"}},\"type\":\"scatterternary\"}],\"surface\":[{\"colorbar\":{\"outlinewidth\":0,\"ticks\":\"\"},\"colorscale\":[[0.0,\"#0d0887\"],[0.1111111111111111,\"#46039f\"],[0.2222222222222222,\"#7201a8\"],[0.3333333333333333,\"#9c179e\"],[0.4444444444444444,\"#bd3786\"],[0.5555555555555556,\"#d8576b\"],[0.6666666666666666,\"#ed7953\"],[0.7777777777777778,\"#fb9f3a\"],[0.8888888888888888,\"#fdca26\"],[1.0,\"#f0f921\"]],\"type\":\"surface\"}],\"table\":[{\"cells\":{\"fill\":{\"color\":\"#EBF0F8\"},\"line\":{\"color\":\"white\"}},\"header\":{\"fill\":{\"color\":\"#C8D4E3\"},\"line\":{\"color\":\"white\"}},\"type\":\"table\"}]},\"layout\":{\"annotationdefaults\":{\"arrowcolor\":\"#2a3f5f\",\"arrowhead\":0,\"arrowwidth\":1},\"autotypenumbers\":\"strict\",\"coloraxis\":{\"colorbar\":{\"outlinewidth\":0,\"ticks\":\"\"}},\"colorscale\":{\"diverging\":[[0,\"#8e0152\"],[0.1,\"#c51b7d\"],[0.2,\"#de77ae\"],[0.3,\"#f1b6da\"],[0.4,\"#fde0ef\"],[0.5,\"#f7f7f7\"],[0.6,\"#e6f5d0\"],[0.7,\"#b8e186\"],[0.8,\"#7fbc41\"],[0.9,\"#4d9221\"],[1,\"#276419\"]],\"sequential\":[[0.0,\"#0d0887\"],[0.1111111111111111,\"#46039f\"],[0.2222222222222222,\"#7201a8\"],[0.3333333333333333,\"#9c179e\"],[0.4444444444444444,\"#bd3786\"],[0.5555555555555556,\"#d8576b\"],[0.6666666666666666,\"#ed7953\"],[0.7777777777777778,\"#fb9f3a\"],[0.8888888888888888,\"#fdca26\"],[1.0,\"#f0f921\"]],\"sequentialminus\":[[0.0,\"#0d0887\"],[0.1111111111111111,\"#46039f\"],[0.2222222222222222,\"#7201a8\"],[0.3333333333333333,\"#9c179e\"],[0.4444444444444444,\"#bd3786\"],[0.5555555555555556,\"#d8576b\"],[0.6666666666666666,\"#ed7953\"],[0.7777777777777778,\"#fb9f3a\"],[0.8888888888888888,\"#fdca26\"],[1.0,\"#f0f921\"]]},\"colorway\":[\"#636efa\",\"#EF553B\",\"#00cc96\",\"#ab63fa\",\"#FFA15A\",\"#19d3f3\",\"#FF6692\",\"#B6E880\",\"#FF97FF\",\"#FECB52\"],\"font\":{\"color\":\"#2a3f5f\"},\"geo\":{\"bgcolor\":\"white\",\"lakecolor\":\"white\",\"landcolor\":\"#E5ECF6\",\"showlakes\":true,\"showland\":true,\"subunitcolor\":\"white\"},\"hoverlabel\":{\"align\":\"left\"},\"hovermode\":\"closest\",\"mapbox\":{\"style\":\"light\"},\"paper_bgcolor\":\"white\",\"plot_bgcolor\":\"#E5ECF6\",\"polar\":{\"angularaxis\":{\"gridcolor\":\"white\",\"linecolor\":\"white\",\"ticks\":\"\"},\"bgcolor\":\"#E5ECF6\",\"radialaxis\":{\"gridcolor\":\"white\",\"linecolor\":\"white\",\"ticks\":\"\"}},\"scene\":{\"xaxis\":{\"backgroundcolor\":\"#E5ECF6\",\"gridcolor\":\"white\",\"gridwidth\":2,\"linecolor\":\"white\",\"showbackground\":true,\"ticks\":\"\",\"zerolinecolor\":\"white\"},\"yaxis\":{\"backgroundcolor\":\"#E5ECF6\",\"gridcolor\":\"white\",\"gridwidth\":2,\"linecolor\":\"white\",\"showbackground\":true,\"ticks\":\"\",\"zerolinecolor\":\"white\"},\"zaxis\":{\"backgroundcolor\":\"#E5ECF6\",\"gridcolor\":\"white\",\"gridwidth\":2,\"linecolor\":\"white\",\"showbackground\":true,\"ticks\":\"\",\"zerolinecolor\":\"white\"}},\"shapedefaults\":{\"line\":{\"color\":\"#2a3f5f\"}},\"ternary\":{\"aaxis\":{\"gridcolor\":\"white\",\"linecolor\":\"white\",\"ticks\":\"\"},\"baxis\":{\"gridcolor\":\"white\",\"linecolor\":\"white\",\"ticks\":\"\"},\"bgcolor\":\"#E5ECF6\",\"caxis\":{\"gridcolor\":\"white\",\"linecolor\":\"white\",\"ticks\":\"\"}},\"title\":{\"x\":0.05},\"xaxis\":{\"automargin\":true,\"gridcolor\":\"white\",\"linecolor\":\"white\",\"ticks\":\"\",\"title\":{\"standoff\":15},\"zerolinecolor\":\"white\",\"zerolinewidth\":2},\"yaxis\":{\"automargin\":true,\"gridcolor\":\"white\",\"linecolor\":\"white\",\"ticks\":\"\",\"title\":{\"standoff\":15},\"zerolinecolor\":\"white\",\"zerolinewidth\":2}}},\"xaxis\":{\"anchor\":\"y\",\"domain\":[0.0,1.0],\"title\":{\"text\":\"domain\"}},\"yaxis\":{\"anchor\":\"x\",\"domain\":[0.0,1.0],\"title\":{\"text\":\"sum of sentence_count\"}},\"legend\":{\"title\":{\"text\":\"year\"},\"tracegroupgap\":0},\"margin\":{\"t\":60},\"barmode\":\"relative\"},                        {\"responsive\": true}                    ).then(function(){\n",
       "                            \n",
       "var gd = document.getElementById('4ea8e23f-9050-4730-b755-96fd51e688fa');\n",
       "var x = new MutationObserver(function (mutations, observer) {{\n",
       "        var display = window.getComputedStyle(gd).display;\n",
       "        if (!display || display === 'none') {{\n",
       "            console.log([gd, 'removed!']);\n",
       "            Plotly.purge(gd);\n",
       "            observer.disconnect();\n",
       "        }}\n",
       "}});\n",
       "\n",
       "// Listen for the removal of the full notebook cells\n",
       "var notebookContainer = gd.closest('#notebook-container');\n",
       "if (notebookContainer) {{\n",
       "    x.observe(notebookContainer, {childList: true});\n",
       "}}\n",
       "\n",
       "// Listen for the clearing of the current output cell\n",
       "var outputEl = gd.closest('.output');\n",
       "if (outputEl) {{\n",
       "    x.observe(outputEl, {childList: true});\n",
       "}}\n",
       "\n",
       "                        })                };                });            </script>        </div>"
      ]
     },
     "metadata": {},
     "output_type": "display_data"
    }
   ],
   "source": [
    "domain_sentence_count = []\n",
    "time_ = pd.Timestamp(\"2010-01-01 00:00:00+0000\", tz=\"UTC\")\n",
    "year = pd.Timedelta(days=366)\n",
    "while time_ < pd.Timestamp.utcnow():\n",
    "    df_ = df[(df.date > time_) & (df.date <= time_ + year)]\n",
    "    for domain in df[\"domain\"].unique():\n",
    "        sentence_count: int = 0\n",
    "        for news in df_[df_.domain == domain][\"content\"]:\n",
    "            sentence_count += len(news.split(\".\"))\n",
    "        domain_sentence_count.append(\n",
    "            {\n",
    "                \"domain\": domain,\n",
    "                \"sentence_count\": sentence_count,\n",
    "                \"type\": \"valid\" if (\"stiri\" in domain) or (\"\" == domain) else \"fake\",\n",
    "                \"year\": time_,\n",
    "            }\n",
    "        )\n",
    "    time_ += year\n",
    "\n",
    "\n",
    "fig = px.histogram(\n",
    "    domain_sentence_count, x=\"domain\", y=\"sentence_count\", color=\"year\", text_auto=\".2s\"\n",
    ")\n",
    "fig.show()\n"
   ]
  },
  {
   "cell_type": "code",
   "execution_count": 27,
   "metadata": {},
   "outputs": [],
   "source": [
    "years = [domain[\"year\"] for domain in domain_sentence_count]\n",
    "fig = px.bar(domain_sentence_count, x=\"domain\", y=\"sentence_count\", color=\"domain\", barmode=\"group\",\n",
    "             facet_row=\"domain\", facet_col=\"year\",\n",
    "             category_orders={\"day\": [time_ ],\n",
    "                              \"domain\": [\"fake\", \"valid\"]})\n",
    "fig.show()"
   ]
  },
  {
   "cell_type": "markdown",
   "metadata": {},
   "source": [
    "average word length by domain"
   ]
  },
  {
   "cell_type": "code",
   "execution_count": 23,
   "metadata": {},
   "outputs": [
    {
     "data": {
      "text/html": [
       "<div>                            <div id=\"92663977-91c3-4cd1-9f82-045a708b4648\" class=\"plotly-graph-div\" style=\"height:525px; width:100%;\"></div>            <script type=\"text/javascript\">                require([\"plotly\"], function(Plotly) {                    window.PLOTLYENV=window.PLOTLYENV || {};                                    if (document.getElementById(\"92663977-91c3-4cd1-9f82-045a708b4648\")) {                    Plotly.newPlot(                        \"92663977-91c3-4cd1-9f82-045a708b4648\",                        [{\"alignmentgroup\":\"True\",\"bingroup\":\"x\",\"histfunc\":\"sum\",\"hovertemplate\":\"type=fake<br>domain=%{x}<br>sum of word_length_average=%{y}<extra></extra>\",\"legendgroup\":\"fake\",\"marker\":{\"color\":\"#636efa\",\"pattern\":{\"shape\":\"\"}},\"name\":\"fake\",\"offsetgroup\":\"fake\",\"orientation\":\"v\",\"showlegend\":true,\"texttemplate\":\"%{value:.2s}\",\"x\":[\"monden/\",\"it-stiinta/\",\"sport/\",\"politic/\",\"life-death/\"],\"xaxis\":\"x\",\"y\":[4.888690162356592,4.9503029124257845,4.868264737303008,4.952133478034182,4.908012748474728],\"yaxis\":\"y\",\"type\":\"histogram\"},{\"alignmentgroup\":\"True\",\"bingroup\":\"x\",\"histfunc\":\"sum\",\"hovertemplate\":\"type=valid<br>domain=%{x}<br>sum of word_length_average=%{y}<extra></extra>\",\"legendgroup\":\"valid\",\"marker\":{\"color\":\"#EF553B\",\"pattern\":{\"shape\":\"\"}},\"name\":\"valid\",\"offsetgroup\":\"valid\",\"orientation\":\"v\",\"showlegend\":true,\"texttemplate\":\"%{value:.2s}\",\"x\":[\"\",\"stiri/economie\",\"stiri/externe\",\"stiri/actualitate\",\"stiri/actualitate/politica\",\"stiri/sport\",\"stiri/sci-tech\"],\"xaxis\":\"x\",\"y\":[5.375557043633338,5.3869595228844815,5.386633427420776,5.332521603582695,5.358915641487116,5.102107109632754,5.334142353701894],\"yaxis\":\"y\",\"type\":\"histogram\"}],                        {\"template\":{\"data\":{\"bar\":[{\"error_x\":{\"color\":\"#2a3f5f\"},\"error_y\":{\"color\":\"#2a3f5f\"},\"marker\":{\"line\":{\"color\":\"#E5ECF6\",\"width\":0.5},\"pattern\":{\"fillmode\":\"overlay\",\"size\":10,\"solidity\":0.2}},\"type\":\"bar\"}],\"barpolar\":[{\"marker\":{\"line\":{\"color\":\"#E5ECF6\",\"width\":0.5},\"pattern\":{\"fillmode\":\"overlay\",\"size\":10,\"solidity\":0.2}},\"type\":\"barpolar\"}],\"carpet\":[{\"aaxis\":{\"endlinecolor\":\"#2a3f5f\",\"gridcolor\":\"white\",\"linecolor\":\"white\",\"minorgridcolor\":\"white\",\"startlinecolor\":\"#2a3f5f\"},\"baxis\":{\"endlinecolor\":\"#2a3f5f\",\"gridcolor\":\"white\",\"linecolor\":\"white\",\"minorgridcolor\":\"white\",\"startlinecolor\":\"#2a3f5f\"},\"type\":\"carpet\"}],\"choropleth\":[{\"colorbar\":{\"outlinewidth\":0,\"ticks\":\"\"},\"type\":\"choropleth\"}],\"contour\":[{\"colorbar\":{\"outlinewidth\":0,\"ticks\":\"\"},\"colorscale\":[[0.0,\"#0d0887\"],[0.1111111111111111,\"#46039f\"],[0.2222222222222222,\"#7201a8\"],[0.3333333333333333,\"#9c179e\"],[0.4444444444444444,\"#bd3786\"],[0.5555555555555556,\"#d8576b\"],[0.6666666666666666,\"#ed7953\"],[0.7777777777777778,\"#fb9f3a\"],[0.8888888888888888,\"#fdca26\"],[1.0,\"#f0f921\"]],\"type\":\"contour\"}],\"contourcarpet\":[{\"colorbar\":{\"outlinewidth\":0,\"ticks\":\"\"},\"type\":\"contourcarpet\"}],\"heatmap\":[{\"colorbar\":{\"outlinewidth\":0,\"ticks\":\"\"},\"colorscale\":[[0.0,\"#0d0887\"],[0.1111111111111111,\"#46039f\"],[0.2222222222222222,\"#7201a8\"],[0.3333333333333333,\"#9c179e\"],[0.4444444444444444,\"#bd3786\"],[0.5555555555555556,\"#d8576b\"],[0.6666666666666666,\"#ed7953\"],[0.7777777777777778,\"#fb9f3a\"],[0.8888888888888888,\"#fdca26\"],[1.0,\"#f0f921\"]],\"type\":\"heatmap\"}],\"heatmapgl\":[{\"colorbar\":{\"outlinewidth\":0,\"ticks\":\"\"},\"colorscale\":[[0.0,\"#0d0887\"],[0.1111111111111111,\"#46039f\"],[0.2222222222222222,\"#7201a8\"],[0.3333333333333333,\"#9c179e\"],[0.4444444444444444,\"#bd3786\"],[0.5555555555555556,\"#d8576b\"],[0.6666666666666666,\"#ed7953\"],[0.7777777777777778,\"#fb9f3a\"],[0.8888888888888888,\"#fdca26\"],[1.0,\"#f0f921\"]],\"type\":\"heatmapgl\"}],\"histogram\":[{\"marker\":{\"pattern\":{\"fillmode\":\"overlay\",\"size\":10,\"solidity\":0.2}},\"type\":\"histogram\"}],\"histogram2d\":[{\"colorbar\":{\"outlinewidth\":0,\"ticks\":\"\"},\"colorscale\":[[0.0,\"#0d0887\"],[0.1111111111111111,\"#46039f\"],[0.2222222222222222,\"#7201a8\"],[0.3333333333333333,\"#9c179e\"],[0.4444444444444444,\"#bd3786\"],[0.5555555555555556,\"#d8576b\"],[0.6666666666666666,\"#ed7953\"],[0.7777777777777778,\"#fb9f3a\"],[0.8888888888888888,\"#fdca26\"],[1.0,\"#f0f921\"]],\"type\":\"histogram2d\"}],\"histogram2dcontour\":[{\"colorbar\":{\"outlinewidth\":0,\"ticks\":\"\"},\"colorscale\":[[0.0,\"#0d0887\"],[0.1111111111111111,\"#46039f\"],[0.2222222222222222,\"#7201a8\"],[0.3333333333333333,\"#9c179e\"],[0.4444444444444444,\"#bd3786\"],[0.5555555555555556,\"#d8576b\"],[0.6666666666666666,\"#ed7953\"],[0.7777777777777778,\"#fb9f3a\"],[0.8888888888888888,\"#fdca26\"],[1.0,\"#f0f921\"]],\"type\":\"histogram2dcontour\"}],\"mesh3d\":[{\"colorbar\":{\"outlinewidth\":0,\"ticks\":\"\"},\"type\":\"mesh3d\"}],\"parcoords\":[{\"line\":{\"colorbar\":{\"outlinewidth\":0,\"ticks\":\"\"}},\"type\":\"parcoords\"}],\"pie\":[{\"automargin\":true,\"type\":\"pie\"}],\"scatter\":[{\"marker\":{\"colorbar\":{\"outlinewidth\":0,\"ticks\":\"\"}},\"type\":\"scatter\"}],\"scatter3d\":[{\"line\":{\"colorbar\":{\"outlinewidth\":0,\"ticks\":\"\"}},\"marker\":{\"colorbar\":{\"outlinewidth\":0,\"ticks\":\"\"}},\"type\":\"scatter3d\"}],\"scattercarpet\":[{\"marker\":{\"colorbar\":{\"outlinewidth\":0,\"ticks\":\"\"}},\"type\":\"scattercarpet\"}],\"scattergeo\":[{\"marker\":{\"colorbar\":{\"outlinewidth\":0,\"ticks\":\"\"}},\"type\":\"scattergeo\"}],\"scattergl\":[{\"marker\":{\"colorbar\":{\"outlinewidth\":0,\"ticks\":\"\"}},\"type\":\"scattergl\"}],\"scattermapbox\":[{\"marker\":{\"colorbar\":{\"outlinewidth\":0,\"ticks\":\"\"}},\"type\":\"scattermapbox\"}],\"scatterpolar\":[{\"marker\":{\"colorbar\":{\"outlinewidth\":0,\"ticks\":\"\"}},\"type\":\"scatterpolar\"}],\"scatterpolargl\":[{\"marker\":{\"colorbar\":{\"outlinewidth\":0,\"ticks\":\"\"}},\"type\":\"scatterpolargl\"}],\"scatterternary\":[{\"marker\":{\"colorbar\":{\"outlinewidth\":0,\"ticks\":\"\"}},\"type\":\"scatterternary\"}],\"surface\":[{\"colorbar\":{\"outlinewidth\":0,\"ticks\":\"\"},\"colorscale\":[[0.0,\"#0d0887\"],[0.1111111111111111,\"#46039f\"],[0.2222222222222222,\"#7201a8\"],[0.3333333333333333,\"#9c179e\"],[0.4444444444444444,\"#bd3786\"],[0.5555555555555556,\"#d8576b\"],[0.6666666666666666,\"#ed7953\"],[0.7777777777777778,\"#fb9f3a\"],[0.8888888888888888,\"#fdca26\"],[1.0,\"#f0f921\"]],\"type\":\"surface\"}],\"table\":[{\"cells\":{\"fill\":{\"color\":\"#EBF0F8\"},\"line\":{\"color\":\"white\"}},\"header\":{\"fill\":{\"color\":\"#C8D4E3\"},\"line\":{\"color\":\"white\"}},\"type\":\"table\"}]},\"layout\":{\"annotationdefaults\":{\"arrowcolor\":\"#2a3f5f\",\"arrowhead\":0,\"arrowwidth\":1},\"autotypenumbers\":\"strict\",\"coloraxis\":{\"colorbar\":{\"outlinewidth\":0,\"ticks\":\"\"}},\"colorscale\":{\"diverging\":[[0,\"#8e0152\"],[0.1,\"#c51b7d\"],[0.2,\"#de77ae\"],[0.3,\"#f1b6da\"],[0.4,\"#fde0ef\"],[0.5,\"#f7f7f7\"],[0.6,\"#e6f5d0\"],[0.7,\"#b8e186\"],[0.8,\"#7fbc41\"],[0.9,\"#4d9221\"],[1,\"#276419\"]],\"sequential\":[[0.0,\"#0d0887\"],[0.1111111111111111,\"#46039f\"],[0.2222222222222222,\"#7201a8\"],[0.3333333333333333,\"#9c179e\"],[0.4444444444444444,\"#bd3786\"],[0.5555555555555556,\"#d8576b\"],[0.6666666666666666,\"#ed7953\"],[0.7777777777777778,\"#fb9f3a\"],[0.8888888888888888,\"#fdca26\"],[1.0,\"#f0f921\"]],\"sequentialminus\":[[0.0,\"#0d0887\"],[0.1111111111111111,\"#46039f\"],[0.2222222222222222,\"#7201a8\"],[0.3333333333333333,\"#9c179e\"],[0.4444444444444444,\"#bd3786\"],[0.5555555555555556,\"#d8576b\"],[0.6666666666666666,\"#ed7953\"],[0.7777777777777778,\"#fb9f3a\"],[0.8888888888888888,\"#fdca26\"],[1.0,\"#f0f921\"]]},\"colorway\":[\"#636efa\",\"#EF553B\",\"#00cc96\",\"#ab63fa\",\"#FFA15A\",\"#19d3f3\",\"#FF6692\",\"#B6E880\",\"#FF97FF\",\"#FECB52\"],\"font\":{\"color\":\"#2a3f5f\"},\"geo\":{\"bgcolor\":\"white\",\"lakecolor\":\"white\",\"landcolor\":\"#E5ECF6\",\"showlakes\":true,\"showland\":true,\"subunitcolor\":\"white\"},\"hoverlabel\":{\"align\":\"left\"},\"hovermode\":\"closest\",\"mapbox\":{\"style\":\"light\"},\"paper_bgcolor\":\"white\",\"plot_bgcolor\":\"#E5ECF6\",\"polar\":{\"angularaxis\":{\"gridcolor\":\"white\",\"linecolor\":\"white\",\"ticks\":\"\"},\"bgcolor\":\"#E5ECF6\",\"radialaxis\":{\"gridcolor\":\"white\",\"linecolor\":\"white\",\"ticks\":\"\"}},\"scene\":{\"xaxis\":{\"backgroundcolor\":\"#E5ECF6\",\"gridcolor\":\"white\",\"gridwidth\":2,\"linecolor\":\"white\",\"showbackground\":true,\"ticks\":\"\",\"zerolinecolor\":\"white\"},\"yaxis\":{\"backgroundcolor\":\"#E5ECF6\",\"gridcolor\":\"white\",\"gridwidth\":2,\"linecolor\":\"white\",\"showbackground\":true,\"ticks\":\"\",\"zerolinecolor\":\"white\"},\"zaxis\":{\"backgroundcolor\":\"#E5ECF6\",\"gridcolor\":\"white\",\"gridwidth\":2,\"linecolor\":\"white\",\"showbackground\":true,\"ticks\":\"\",\"zerolinecolor\":\"white\"}},\"shapedefaults\":{\"line\":{\"color\":\"#2a3f5f\"}},\"ternary\":{\"aaxis\":{\"gridcolor\":\"white\",\"linecolor\":\"white\",\"ticks\":\"\"},\"baxis\":{\"gridcolor\":\"white\",\"linecolor\":\"white\",\"ticks\":\"\"},\"bgcolor\":\"#E5ECF6\",\"caxis\":{\"gridcolor\":\"white\",\"linecolor\":\"white\",\"ticks\":\"\"}},\"title\":{\"x\":0.05},\"xaxis\":{\"automargin\":true,\"gridcolor\":\"white\",\"linecolor\":\"white\",\"ticks\":\"\",\"title\":{\"standoff\":15},\"zerolinecolor\":\"white\",\"zerolinewidth\":2},\"yaxis\":{\"automargin\":true,\"gridcolor\":\"white\",\"linecolor\":\"white\",\"ticks\":\"\",\"title\":{\"standoff\":15},\"zerolinecolor\":\"white\",\"zerolinewidth\":2}}},\"xaxis\":{\"anchor\":\"y\",\"domain\":[0.0,1.0],\"title\":{\"text\":\"domain\"}},\"yaxis\":{\"anchor\":\"x\",\"domain\":[0.0,1.0],\"title\":{\"text\":\"sum of word_length_average\"}},\"legend\":{\"title\":{\"text\":\"type\"},\"tracegroupgap\":0},\"margin\":{\"t\":60},\"barmode\":\"relative\"},                        {\"responsive\": true}                    ).then(function(){\n",
       "                            \n",
       "var gd = document.getElementById('92663977-91c3-4cd1-9f82-045a708b4648');\n",
       "var x = new MutationObserver(function (mutations, observer) {{\n",
       "        var display = window.getComputedStyle(gd).display;\n",
       "        if (!display || display === 'none') {{\n",
       "            console.log([gd, 'removed!']);\n",
       "            Plotly.purge(gd);\n",
       "            observer.disconnect();\n",
       "        }}\n",
       "}});\n",
       "\n",
       "// Listen for the removal of the full notebook cells\n",
       "var notebookContainer = gd.closest('#notebook-container');\n",
       "if (notebookContainer) {{\n",
       "    x.observe(notebookContainer, {childList: true});\n",
       "}}\n",
       "\n",
       "// Listen for the clearing of the current output cell\n",
       "var outputEl = gd.closest('.output');\n",
       "if (outputEl) {{\n",
       "    x.observe(outputEl, {childList: true});\n",
       "}}\n",
       "\n",
       "                        })                };                });            </script>        </div>"
      ]
     },
     "metadata": {},
     "output_type": "display_data"
    }
   ],
   "source": [
    "domain_word_count = []\n",
    "for domain in df[\"domain\"].unique():\n",
    "    word_count: list[int] = []\n",
    "    for news in df[df.domain == domain][\"content\"]:\n",
    "        word_count.append(np.mean([len(news) for news in  news.split(\" \")]))\n",
    "    domain_word_count.append(\n",
    "        {\n",
    "            \"domain\": domain,\n",
    "            \"word_length_average\": np.mean(word_count),\n",
    "            \"type\": \"valid\" if (\"stiri\" in domain) or (\"\" == domain) else \"fake\",\n",
    "        }\n",
    "    )\n",
    "\n",
    "\n",
    "fig = px.histogram(\n",
    "    domain_word_count, x=\"domain\", y=\"word_length_average\", color=\"type\", text_auto=\".2s\"\n",
    ")\n",
    "fig.show()\n"
   ]
  },
  {
   "cell_type": "markdown",
   "metadata": {},
   "source": [
    "average sentence length by domain"
   ]
  },
  {
   "cell_type": "code",
   "execution_count": 26,
   "metadata": {},
   "outputs": [
    {
     "data": {
      "text/html": [
       "<div>                            <div id=\"442a4568-7aa6-4f7a-b5b2-2e585f4a409d\" class=\"plotly-graph-div\" style=\"height:525px; width:100%;\"></div>            <script type=\"text/javascript\">                require([\"plotly\"], function(Plotly) {                    window.PLOTLYENV=window.PLOTLYENV || {};                                    if (document.getElementById(\"442a4568-7aa6-4f7a-b5b2-2e585f4a409d\")) {                    Plotly.newPlot(                        \"442a4568-7aa6-4f7a-b5b2-2e585f4a409d\",                        [{\"alignmentgroup\":\"True\",\"bingroup\":\"x\",\"histfunc\":\"sum\",\"hovertemplate\":\"type=fake<br>domain=%{x}<br>sum of sentence_length_average=%{y}<extra></extra>\",\"legendgroup\":\"fake\",\"marker\":{\"color\":\"#636efa\",\"pattern\":{\"shape\":\"\"}},\"name\":\"fake\",\"offsetgroup\":\"fake\",\"orientation\":\"v\",\"showlegend\":true,\"texttemplate\":\"%{value:.2s}\",\"x\":[\"monden/\",\"it-stiinta/\",\"sport/\",\"politic/\",\"life-death/\"],\"xaxis\":\"x\",\"y\":[136.38759379496074,134.3937574261938,138.65957303071184,149.86279546021134,137.15723100322134],\"yaxis\":\"y\",\"type\":\"histogram\"},{\"alignmentgroup\":\"True\",\"bingroup\":\"x\",\"histfunc\":\"sum\",\"hovertemplate\":\"type=valid<br>domain=%{x}<br>sum of sentence_length_average=%{y}<extra></extra>\",\"legendgroup\":\"valid\",\"marker\":{\"color\":\"#EF553B\",\"pattern\":{\"shape\":\"\"}},\"name\":\"valid\",\"offsetgroup\":\"valid\",\"orientation\":\"v\",\"showlegend\":true,\"texttemplate\":\"%{value:.2s}\",\"x\":[\"\",\"stiri/economie\",\"stiri/externe\",\"stiri/actualitate\",\"stiri/actualitate/politica\",\"stiri/sport\",\"stiri/sci-tech\"],\"xaxis\":\"x\",\"y\":[131.3323351118454,128.4344668694659,127.34411931502002,122.47645881272842,129.0266018448421,112.43920548314165,128.7184720939303],\"yaxis\":\"y\",\"type\":\"histogram\"}],                        {\"template\":{\"data\":{\"bar\":[{\"error_x\":{\"color\":\"#2a3f5f\"},\"error_y\":{\"color\":\"#2a3f5f\"},\"marker\":{\"line\":{\"color\":\"#E5ECF6\",\"width\":0.5},\"pattern\":{\"fillmode\":\"overlay\",\"size\":10,\"solidity\":0.2}},\"type\":\"bar\"}],\"barpolar\":[{\"marker\":{\"line\":{\"color\":\"#E5ECF6\",\"width\":0.5},\"pattern\":{\"fillmode\":\"overlay\",\"size\":10,\"solidity\":0.2}},\"type\":\"barpolar\"}],\"carpet\":[{\"aaxis\":{\"endlinecolor\":\"#2a3f5f\",\"gridcolor\":\"white\",\"linecolor\":\"white\",\"minorgridcolor\":\"white\",\"startlinecolor\":\"#2a3f5f\"},\"baxis\":{\"endlinecolor\":\"#2a3f5f\",\"gridcolor\":\"white\",\"linecolor\":\"white\",\"minorgridcolor\":\"white\",\"startlinecolor\":\"#2a3f5f\"},\"type\":\"carpet\"}],\"choropleth\":[{\"colorbar\":{\"outlinewidth\":0,\"ticks\":\"\"},\"type\":\"choropleth\"}],\"contour\":[{\"colorbar\":{\"outlinewidth\":0,\"ticks\":\"\"},\"colorscale\":[[0.0,\"#0d0887\"],[0.1111111111111111,\"#46039f\"],[0.2222222222222222,\"#7201a8\"],[0.3333333333333333,\"#9c179e\"],[0.4444444444444444,\"#bd3786\"],[0.5555555555555556,\"#d8576b\"],[0.6666666666666666,\"#ed7953\"],[0.7777777777777778,\"#fb9f3a\"],[0.8888888888888888,\"#fdca26\"],[1.0,\"#f0f921\"]],\"type\":\"contour\"}],\"contourcarpet\":[{\"colorbar\":{\"outlinewidth\":0,\"ticks\":\"\"},\"type\":\"contourcarpet\"}],\"heatmap\":[{\"colorbar\":{\"outlinewidth\":0,\"ticks\":\"\"},\"colorscale\":[[0.0,\"#0d0887\"],[0.1111111111111111,\"#46039f\"],[0.2222222222222222,\"#7201a8\"],[0.3333333333333333,\"#9c179e\"],[0.4444444444444444,\"#bd3786\"],[0.5555555555555556,\"#d8576b\"],[0.6666666666666666,\"#ed7953\"],[0.7777777777777778,\"#fb9f3a\"],[0.8888888888888888,\"#fdca26\"],[1.0,\"#f0f921\"]],\"type\":\"heatmap\"}],\"heatmapgl\":[{\"colorbar\":{\"outlinewidth\":0,\"ticks\":\"\"},\"colorscale\":[[0.0,\"#0d0887\"],[0.1111111111111111,\"#46039f\"],[0.2222222222222222,\"#7201a8\"],[0.3333333333333333,\"#9c179e\"],[0.4444444444444444,\"#bd3786\"],[0.5555555555555556,\"#d8576b\"],[0.6666666666666666,\"#ed7953\"],[0.7777777777777778,\"#fb9f3a\"],[0.8888888888888888,\"#fdca26\"],[1.0,\"#f0f921\"]],\"type\":\"heatmapgl\"}],\"histogram\":[{\"marker\":{\"pattern\":{\"fillmode\":\"overlay\",\"size\":10,\"solidity\":0.2}},\"type\":\"histogram\"}],\"histogram2d\":[{\"colorbar\":{\"outlinewidth\":0,\"ticks\":\"\"},\"colorscale\":[[0.0,\"#0d0887\"],[0.1111111111111111,\"#46039f\"],[0.2222222222222222,\"#7201a8\"],[0.3333333333333333,\"#9c179e\"],[0.4444444444444444,\"#bd3786\"],[0.5555555555555556,\"#d8576b\"],[0.6666666666666666,\"#ed7953\"],[0.7777777777777778,\"#fb9f3a\"],[0.8888888888888888,\"#fdca26\"],[1.0,\"#f0f921\"]],\"type\":\"histogram2d\"}],\"histogram2dcontour\":[{\"colorbar\":{\"outlinewidth\":0,\"ticks\":\"\"},\"colorscale\":[[0.0,\"#0d0887\"],[0.1111111111111111,\"#46039f\"],[0.2222222222222222,\"#7201a8\"],[0.3333333333333333,\"#9c179e\"],[0.4444444444444444,\"#bd3786\"],[0.5555555555555556,\"#d8576b\"],[0.6666666666666666,\"#ed7953\"],[0.7777777777777778,\"#fb9f3a\"],[0.8888888888888888,\"#fdca26\"],[1.0,\"#f0f921\"]],\"type\":\"histogram2dcontour\"}],\"mesh3d\":[{\"colorbar\":{\"outlinewidth\":0,\"ticks\":\"\"},\"type\":\"mesh3d\"}],\"parcoords\":[{\"line\":{\"colorbar\":{\"outlinewidth\":0,\"ticks\":\"\"}},\"type\":\"parcoords\"}],\"pie\":[{\"automargin\":true,\"type\":\"pie\"}],\"scatter\":[{\"marker\":{\"colorbar\":{\"outlinewidth\":0,\"ticks\":\"\"}},\"type\":\"scatter\"}],\"scatter3d\":[{\"line\":{\"colorbar\":{\"outlinewidth\":0,\"ticks\":\"\"}},\"marker\":{\"colorbar\":{\"outlinewidth\":0,\"ticks\":\"\"}},\"type\":\"scatter3d\"}],\"scattercarpet\":[{\"marker\":{\"colorbar\":{\"outlinewidth\":0,\"ticks\":\"\"}},\"type\":\"scattercarpet\"}],\"scattergeo\":[{\"marker\":{\"colorbar\":{\"outlinewidth\":0,\"ticks\":\"\"}},\"type\":\"scattergeo\"}],\"scattergl\":[{\"marker\":{\"colorbar\":{\"outlinewidth\":0,\"ticks\":\"\"}},\"type\":\"scattergl\"}],\"scattermapbox\":[{\"marker\":{\"colorbar\":{\"outlinewidth\":0,\"ticks\":\"\"}},\"type\":\"scattermapbox\"}],\"scatterpolar\":[{\"marker\":{\"colorbar\":{\"outlinewidth\":0,\"ticks\":\"\"}},\"type\":\"scatterpolar\"}],\"scatterpolargl\":[{\"marker\":{\"colorbar\":{\"outlinewidth\":0,\"ticks\":\"\"}},\"type\":\"scatterpolargl\"}],\"scatterternary\":[{\"marker\":{\"colorbar\":{\"outlinewidth\":0,\"ticks\":\"\"}},\"type\":\"scatterternary\"}],\"surface\":[{\"colorbar\":{\"outlinewidth\":0,\"ticks\":\"\"},\"colorscale\":[[0.0,\"#0d0887\"],[0.1111111111111111,\"#46039f\"],[0.2222222222222222,\"#7201a8\"],[0.3333333333333333,\"#9c179e\"],[0.4444444444444444,\"#bd3786\"],[0.5555555555555556,\"#d8576b\"],[0.6666666666666666,\"#ed7953\"],[0.7777777777777778,\"#fb9f3a\"],[0.8888888888888888,\"#fdca26\"],[1.0,\"#f0f921\"]],\"type\":\"surface\"}],\"table\":[{\"cells\":{\"fill\":{\"color\":\"#EBF0F8\"},\"line\":{\"color\":\"white\"}},\"header\":{\"fill\":{\"color\":\"#C8D4E3\"},\"line\":{\"color\":\"white\"}},\"type\":\"table\"}]},\"layout\":{\"annotationdefaults\":{\"arrowcolor\":\"#2a3f5f\",\"arrowhead\":0,\"arrowwidth\":1},\"autotypenumbers\":\"strict\",\"coloraxis\":{\"colorbar\":{\"outlinewidth\":0,\"ticks\":\"\"}},\"colorscale\":{\"diverging\":[[0,\"#8e0152\"],[0.1,\"#c51b7d\"],[0.2,\"#de77ae\"],[0.3,\"#f1b6da\"],[0.4,\"#fde0ef\"],[0.5,\"#f7f7f7\"],[0.6,\"#e6f5d0\"],[0.7,\"#b8e186\"],[0.8,\"#7fbc41\"],[0.9,\"#4d9221\"],[1,\"#276419\"]],\"sequential\":[[0.0,\"#0d0887\"],[0.1111111111111111,\"#46039f\"],[0.2222222222222222,\"#7201a8\"],[0.3333333333333333,\"#9c179e\"],[0.4444444444444444,\"#bd3786\"],[0.5555555555555556,\"#d8576b\"],[0.6666666666666666,\"#ed7953\"],[0.7777777777777778,\"#fb9f3a\"],[0.8888888888888888,\"#fdca26\"],[1.0,\"#f0f921\"]],\"sequentialminus\":[[0.0,\"#0d0887\"],[0.1111111111111111,\"#46039f\"],[0.2222222222222222,\"#7201a8\"],[0.3333333333333333,\"#9c179e\"],[0.4444444444444444,\"#bd3786\"],[0.5555555555555556,\"#d8576b\"],[0.6666666666666666,\"#ed7953\"],[0.7777777777777778,\"#fb9f3a\"],[0.8888888888888888,\"#fdca26\"],[1.0,\"#f0f921\"]]},\"colorway\":[\"#636efa\",\"#EF553B\",\"#00cc96\",\"#ab63fa\",\"#FFA15A\",\"#19d3f3\",\"#FF6692\",\"#B6E880\",\"#FF97FF\",\"#FECB52\"],\"font\":{\"color\":\"#2a3f5f\"},\"geo\":{\"bgcolor\":\"white\",\"lakecolor\":\"white\",\"landcolor\":\"#E5ECF6\",\"showlakes\":true,\"showland\":true,\"subunitcolor\":\"white\"},\"hoverlabel\":{\"align\":\"left\"},\"hovermode\":\"closest\",\"mapbox\":{\"style\":\"light\"},\"paper_bgcolor\":\"white\",\"plot_bgcolor\":\"#E5ECF6\",\"polar\":{\"angularaxis\":{\"gridcolor\":\"white\",\"linecolor\":\"white\",\"ticks\":\"\"},\"bgcolor\":\"#E5ECF6\",\"radialaxis\":{\"gridcolor\":\"white\",\"linecolor\":\"white\",\"ticks\":\"\"}},\"scene\":{\"xaxis\":{\"backgroundcolor\":\"#E5ECF6\",\"gridcolor\":\"white\",\"gridwidth\":2,\"linecolor\":\"white\",\"showbackground\":true,\"ticks\":\"\",\"zerolinecolor\":\"white\"},\"yaxis\":{\"backgroundcolor\":\"#E5ECF6\",\"gridcolor\":\"white\",\"gridwidth\":2,\"linecolor\":\"white\",\"showbackground\":true,\"ticks\":\"\",\"zerolinecolor\":\"white\"},\"zaxis\":{\"backgroundcolor\":\"#E5ECF6\",\"gridcolor\":\"white\",\"gridwidth\":2,\"linecolor\":\"white\",\"showbackground\":true,\"ticks\":\"\",\"zerolinecolor\":\"white\"}},\"shapedefaults\":{\"line\":{\"color\":\"#2a3f5f\"}},\"ternary\":{\"aaxis\":{\"gridcolor\":\"white\",\"linecolor\":\"white\",\"ticks\":\"\"},\"baxis\":{\"gridcolor\":\"white\",\"linecolor\":\"white\",\"ticks\":\"\"},\"bgcolor\":\"#E5ECF6\",\"caxis\":{\"gridcolor\":\"white\",\"linecolor\":\"white\",\"ticks\":\"\"}},\"title\":{\"x\":0.05},\"xaxis\":{\"automargin\":true,\"gridcolor\":\"white\",\"linecolor\":\"white\",\"ticks\":\"\",\"title\":{\"standoff\":15},\"zerolinecolor\":\"white\",\"zerolinewidth\":2},\"yaxis\":{\"automargin\":true,\"gridcolor\":\"white\",\"linecolor\":\"white\",\"ticks\":\"\",\"title\":{\"standoff\":15},\"zerolinecolor\":\"white\",\"zerolinewidth\":2}}},\"xaxis\":{\"anchor\":\"y\",\"domain\":[0.0,1.0],\"title\":{\"text\":\"domain\"}},\"yaxis\":{\"anchor\":\"x\",\"domain\":[0.0,1.0],\"title\":{\"text\":\"sum of sentence_length_average\"}},\"legend\":{\"title\":{\"text\":\"type\"},\"tracegroupgap\":0},\"margin\":{\"t\":60},\"barmode\":\"relative\"},                        {\"responsive\": true}                    ).then(function(){\n",
       "                            \n",
       "var gd = document.getElementById('442a4568-7aa6-4f7a-b5b2-2e585f4a409d');\n",
       "var x = new MutationObserver(function (mutations, observer) {{\n",
       "        var display = window.getComputedStyle(gd).display;\n",
       "        if (!display || display === 'none') {{\n",
       "            console.log([gd, 'removed!']);\n",
       "            Plotly.purge(gd);\n",
       "            observer.disconnect();\n",
       "        }}\n",
       "}});\n",
       "\n",
       "// Listen for the removal of the full notebook cells\n",
       "var notebookContainer = gd.closest('#notebook-container');\n",
       "if (notebookContainer) {{\n",
       "    x.observe(notebookContainer, {childList: true});\n",
       "}}\n",
       "\n",
       "// Listen for the clearing of the current output cell\n",
       "var outputEl = gd.closest('.output');\n",
       "if (outputEl) {{\n",
       "    x.observe(outputEl, {childList: true});\n",
       "}}\n",
       "\n",
       "                        })                };                });            </script>        </div>"
      ]
     },
     "metadata": {},
     "output_type": "display_data"
    }
   ],
   "source": [
    "domain_word_count = []\n",
    "for domain in df[\"domain\"].unique():\n",
    "    sentence_average: list[int] = []\n",
    "    for news in df[df.domain == domain][\"content\"]:\n",
    "        sentence_average.append(np.mean([len(news) for news in  news.split(\".\")]))\n",
    "    domain_word_count.append(\n",
    "        {\n",
    "            \"domain\": domain,\n",
    "            \"sentence_length_average\": np.mean(sentence_average),\n",
    "            \"type\": \"valid\" if (\"stiri\" in domain) or (\"\" == domain) else \"fake\",\n",
    "        }\n",
    "    )\n",
    "\n",
    "\n",
    "fig = px.histogram(\n",
    "    domain_word_count, x=\"domain\", y=\"sentence_length_average\", color=\"type\", text_auto=\".2s\"\n",
    ")\n",
    "fig.show()\n"
   ]
  },
  {
   "cell_type": "markdown",
   "metadata": {},
   "source": [
    "sentiment analysis per domains"
   ]
  },
  {
   "cell_type": "code",
   "execution_count": null,
   "metadata": {},
   "outputs": [],
   "source": []
  },
  {
   "cell_type": "markdown",
   "metadata": {},
   "source": [
    "```\n",
    "pip install -U pip setuptools wheel\n",
    "pip install -U 'spacy[cuda113]'\n",
    "python -m spacy ro_core_news_sm\n",
    "```"
   ]
  },
  {
   "cell_type": "markdown",
   "metadata": {},
   "source": [
    "NER by domain"
   ]
  },
  {
   "cell_type": "code",
   "execution_count": 88,
   "metadata": {},
   "outputs": [
    {
     "name": "stdout",
     "output_type": "stream",
     "text": [
      "monden/\n"
     ]
    },
    {
     "name": "stderr",
     "output_type": "stream",
     "text": [
      " 78%|███████▊  | 4956/6360 [06:01<01:35, 14.75it/s]"
     ]
    }
   ],
   "source": [
    "nlp = spacy.load(\"ro_core_news_sm\")\n",
    "\n",
    "domain_word_count1 = []\n",
    "for domain in df[\"domain\"].unique():\n",
    "    ner_object_frequecy: dict[str, int] = {}\n",
    "    ner_tag_object: dict[str, list[str]] = {}\n",
    "\n",
    "    print(domain)\n",
    "\n",
    "    for news in tqdm.tqdm(df[df.domain == domain][\"content\"]):\n",
    "        doc = nlp(news)\n",
    "        for ent in doc.ents:\n",
    "\n",
    "            if ent.text not in ner_object_frequecy.keys():\n",
    "                ner_object_frequecy[ent.text] = 1\n",
    "            else:\n",
    "                ner_object_frequecy[ent.text] += 1\n",
    "\n",
    "            if ent.label_ not in ner_tag_object.keys():\n",
    "                ner_tag_object[ent.label_] = [ent.text]\n",
    "            else:\n",
    "                ner_tag_object[ent.label_].append(ent.text)\n",
    "    domain_word_count1.append(\n",
    "        {\n",
    "            \"domain\": domain,\n",
    "            \"ner_object_frequecy\": ner_object_frequecy,\n",
    "            \"ner_tag_object\": ner_tag_object,\n",
    "            \"type\": \"valid\" if (\"stiri\" in domain) or (\"\" == domain) else \"fake\",\n",
    "        }\n",
    "    )\n"
   ]
  },
  {
   "cell_type": "code",
   "execution_count": null,
   "metadata": {},
   "outputs": [],
   "source": [
    "import gzip\n",
    "import pickle\n",
    "with gzip.open(\"../models/pickles/ner_per_domain.gzip\", \"wb\") as o:\n",
    "    pickle.dump(domain_word_count1, o)"
   ]
  },
  {
   "cell_type": "code",
   "execution_count": null,
   "metadata": {},
   "outputs": [],
   "source": [
    "# import pickle\n",
    "# with open(\"../models/pickles/ner_per_domain.pickle\", \"wb\") as o:\n",
    "#     pickle.dump(domain_word_count, o)"
   ]
  },
  {
   "cell_type": "code",
   "execution_count": 43,
   "metadata": {},
   "outputs": [
    {
     "data": {
      "text/html": [
       "<div>                            <div id=\"abe5e528-93cd-43f5-9457-1a4a97c8745f\" class=\"plotly-graph-div\" style=\"height:525px; width:100%;\"></div>            <script type=\"text/javascript\">                require([\"plotly\"], function(Plotly) {                    window.PLOTLYENV=window.PLOTLYENV || {};                                    if (document.getElementById(\"abe5e528-93cd-43f5-9457-1a4a97c8745f\")) {                    Plotly.newPlot(                        \"abe5e528-93cd-43f5-9457-1a4a97c8745f\",                        [{\"alignmentgroup\":\"True\",\"bingroup\":\"x\",\"histfunc\":\"sum\",\"hovertemplate\":\"domain=monden/<br>tag=%{x}<br>sum of tag_length=%{y}<extra></extra>\",\"legendgroup\":\"monden/\",\"marker\":{\"color\":\"#636efa\",\"pattern\":{\"shape\":\"\"}},\"name\":\"monden/\",\"offsetgroup\":\"monden/\",\"orientation\":\"v\",\"showlegend\":true,\"texttemplate\":\"%{value:.2s}\",\"x\":[\"PERSON\",\"FACILITY\",\"GPE\",\"DATETIME\",\"NUMERIC_VALUE\",\"ORGANIZATION\",\"NAT_REL_POL\",\"PRODUCT\",\"LOC\",\"PERIOD\",\"WORK_OF_ART\",\"ORDINAL\",\"EVENT\",\"MONEY\",\"QUANTITY\",\"LANGUAGE\"],\"xaxis\":\"x\",\"y\":[42602,5688,15466,8321,6924,7761,6535,11855,3707,127,1073,2293,701,1193,821,175],\"yaxis\":\"y\",\"type\":\"histogram\"},{\"alignmentgroup\":\"True\",\"bingroup\":\"x\",\"histfunc\":\"sum\",\"hovertemplate\":\"domain=it-stiinta/<br>tag=%{x}<br>sum of tag_length=%{y}<extra></extra>\",\"legendgroup\":\"it-stiinta/\",\"marker\":{\"color\":\"#EF553B\",\"pattern\":{\"shape\":\"\"}},\"name\":\"it-stiinta/\",\"offsetgroup\":\"it-stiinta/\",\"orientation\":\"v\",\"showlegend\":true,\"texttemplate\":\"%{value:.2s}\",\"x\":[\"DATETIME\",\"LOC\",\"ORGANIZATION\",\"NAT_REL_POL\",\"PERSON\",\"NUMERIC_VALUE\",\"WORK_OF_ART\",\"GPE\",\"FACILITY\",\"PRODUCT\",\"ORDINAL\",\"LANGUAGE\",\"QUANTITY\",\"MONEY\",\"EVENT\",\"PERIOD\"],\"xaxis\":\"x\",\"y\":[1912,782,2044,2126,8856,1811,197,3282,1159,3381,598,41,245,294,121,45],\"yaxis\":\"y\",\"type\":\"histogram\"},{\"alignmentgroup\":\"True\",\"bingroup\":\"x\",\"histfunc\":\"sum\",\"hovertemplate\":\"domain=sport/<br>tag=%{x}<br>sum of tag_length=%{y}<extra></extra>\",\"legendgroup\":\"sport/\",\"marker\":{\"color\":\"#00cc96\",\"pattern\":{\"shape\":\"\"}},\"name\":\"sport/\",\"offsetgroup\":\"sport/\",\"orientation\":\"v\",\"showlegend\":true,\"texttemplate\":\"%{value:.2s}\",\"x\":[\"NUMERIC_VALUE\",\"PRODUCT\",\"GPE\",\"PERSON\",\"FACILITY\",\"ORGANIZATION\",\"NAT_REL_POL\",\"DATETIME\",\"EVENT\",\"WORK_OF_ART\",\"LOC\",\"ORDINAL\",\"LANGUAGE\",\"QUANTITY\",\"MONEY\",\"PERIOD\"],\"xaxis\":\"x\",\"y\":[1387,1703,3884,8585,894,2392,1465,1399,308,205,667,515,32,151,221,40],\"yaxis\":\"y\",\"type\":\"histogram\"},{\"alignmentgroup\":\"True\",\"bingroup\":\"x\",\"histfunc\":\"sum\",\"hovertemplate\":\"domain=politic/<br>tag=%{x}<br>sum of tag_length=%{y}<extra></extra>\",\"legendgroup\":\"politic/\",\"marker\":{\"color\":\"#ab63fa\",\"pattern\":{\"shape\":\"\"}},\"name\":\"politic/\",\"offsetgroup\":\"politic/\",\"orientation\":\"v\",\"showlegend\":true,\"texttemplate\":\"%{value:.2s}\",\"x\":[\"PERSON\",\"GPE\",\"PRODUCT\",\"FACILITY\",\"NAT_REL_POL\",\"DATETIME\",\"NUMERIC_VALUE\",\"LANGUAGE\",\"LOC\",\"ORGANIZATION\",\"QUANTITY\",\"MONEY\",\"ORDINAL\",\"EVENT\",\"WORK_OF_ART\",\"PERIOD\"],\"xaxis\":\"x\",\"y\":[38437,13984,7349,3996,6625,6276,5553,225,3081,10972,494,1090,1757,522,868,89],\"yaxis\":\"y\",\"type\":\"histogram\"},{\"alignmentgroup\":\"True\",\"bingroup\":\"x\",\"histfunc\":\"sum\",\"hovertemplate\":\"domain=life-death/<br>tag=%{x}<br>sum of tag_length=%{y}<extra></extra>\",\"legendgroup\":\"life-death/\",\"marker\":{\"color\":\"#FFA15A\",\"pattern\":{\"shape\":\"\"}},\"name\":\"life-death/\",\"offsetgroup\":\"life-death/\",\"orientation\":\"v\",\"showlegend\":true,\"texttemplate\":\"%{value:.2s}\",\"x\":[\"NUMERIC_VALUE\",\"PERSON\",\"FACILITY\",\"GPE\",\"NAT_REL_POL\",\"ORGANIZATION\",\"PRODUCT\",\"DATETIME\",\"QUANTITY\",\"ORDINAL\",\"WORK_OF_ART\",\"PERIOD\",\"LOC\",\"MONEY\",\"EVENT\",\"LANGUAGE\"],\"xaxis\":\"x\",\"y\":[7122,39540,6405,15681,7994,8474,12550,8596,953,2268,893,146,3197,1535,598,216],\"yaxis\":\"y\",\"type\":\"histogram\"},{\"alignmentgroup\":\"True\",\"bingroup\":\"x\",\"histfunc\":\"sum\",\"hovertemplate\":\"domain=<br>tag=%{x}<br>sum of tag_length=%{y}<extra></extra>\",\"legendgroup\":\"\",\"marker\":{\"color\":\"#19d3f3\",\"pattern\":{\"shape\":\"\"}},\"name\":\"\",\"offsetgroup\":\"\",\"orientation\":\"v\",\"showlegend\":false,\"texttemplate\":\"%{value:.2s}\",\"x\":[\"NAT_REL_POL\",\"FACILITY\",\"LOC\",\"PERSON\",\"GPE\",\"ORGANIZATION\",\"NUMERIC_VALUE\",\"DATETIME\",\"QUANTITY\",\"EVENT\",\"MONEY\",\"WORK_OF_ART\",\"PRODUCT\",\"ORDINAL\",\"PERIOD\",\"LANGUAGE\"],\"xaxis\":\"x\",\"y\":[4617,3481,2046,25393,35317,14878,31705,16085,1692,385,2220,263,4205,1949,759,49],\"yaxis\":\"y\",\"type\":\"histogram\"},{\"alignmentgroup\":\"True\",\"bingroup\":\"x\",\"histfunc\":\"sum\",\"hovertemplate\":\"domain=stiri/economie<br>tag=%{x}<br>sum of tag_length=%{y}<extra></extra>\",\"legendgroup\":\"stiri/economie\",\"marker\":{\"color\":\"#FF6692\",\"pattern\":{\"shape\":\"\"}},\"name\":\"stiri/economie\",\"offsetgroup\":\"stiri/economie\",\"orientation\":\"v\",\"showlegend\":true,\"texttemplate\":\"%{value:.2s}\",\"x\":[\"MONEY\",\"NUMERIC_VALUE\",\"PERSON\",\"NAT_REL_POL\",\"DATETIME\",\"ORGANIZATION\",\"GPE\",\"PRODUCT\",\"PERIOD\",\"FACILITY\",\"LOC\",\"QUANTITY\",\"ORDINAL\",\"WORK_OF_ART\",\"EVENT\",\"LANGUAGE\"],\"xaxis\":\"x\",\"y\":[53030,101942,173841,33572,124774,120739,126171,47474,4979,32833,19049,14977,15854,4423,2384,399],\"yaxis\":\"y\",\"type\":\"histogram\"},{\"alignmentgroup\":\"True\",\"bingroup\":\"x\",\"histfunc\":\"sum\",\"hovertemplate\":\"domain=stiri/externe<br>tag=%{x}<br>sum of tag_length=%{y}<extra></extra>\",\"legendgroup\":\"stiri/externe\",\"marker\":{\"color\":\"#B6E880\",\"pattern\":{\"shape\":\"\"}},\"name\":\"stiri/externe\",\"offsetgroup\":\"stiri/externe\",\"orientation\":\"v\",\"showlegend\":true,\"texttemplate\":\"%{value:.2s}\",\"x\":[\"GPE\",\"DATETIME\",\"PERSON\",\"MONEY\",\"NAT_REL_POL\",\"ORGANIZATION\",\"NUMERIC_VALUE\",\"QUANTITY\",\"FACILITY\",\"PRODUCT\",\"LOC\",\"ORDINAL\",\"EVENT\",\"WORK_OF_ART\",\"PERIOD\",\"LANGUAGE\"],\"xaxis\":\"x\",\"y\":[257532,142992,369097,19383,88713,134152,94205,9214,41040,57216,28278,21185,6776,5588,2982,1144],\"yaxis\":\"y\",\"type\":\"histogram\"},{\"alignmentgroup\":\"True\",\"bingroup\":\"x\",\"histfunc\":\"sum\",\"hovertemplate\":\"domain=stiri/actualitate<br>tag=%{x}<br>sum of tag_length=%{y}<extra></extra>\",\"legendgroup\":\"stiri/actualitate\",\"marker\":{\"color\":\"#FF97FF\",\"pattern\":{\"shape\":\"\"}},\"name\":\"stiri/actualitate\",\"offsetgroup\":\"stiri/actualitate\",\"orientation\":\"v\",\"showlegend\":true,\"texttemplate\":\"%{value:.2s}\",\"x\":[\"GPE\",\"DATETIME\",\"PERSON\",\"NAT_REL_POL\",\"ORGANIZATION\",\"ORDINAL\",\"PRODUCT\",\"NUMERIC_VALUE\",\"LOC\",\"QUANTITY\",\"FACILITY\",\"PERIOD\",\"MONEY\",\"WORK_OF_ART\",\"EVENT\",\"LANGUAGE\"],\"xaxis\":\"x\",\"y\":[243456,211136,571769,61396,275684,29964,80843,178495,33978,16545,67866,8428,31976,9993,8516,1733],\"yaxis\":\"y\",\"type\":\"histogram\"},{\"alignmentgroup\":\"True\",\"bingroup\":\"x\",\"histfunc\":\"sum\",\"hovertemplate\":\"domain=stiri/actualitate/politica<br>tag=%{x}<br>sum of tag_length=%{y}<extra></extra>\",\"legendgroup\":\"stiri/actualitate/politica\",\"marker\":{\"color\":\"#FECB52\",\"pattern\":{\"shape\":\"\"}},\"name\":\"stiri/actualitate/politica\",\"offsetgroup\":\"stiri/actualitate/politica\",\"orientation\":\"v\",\"showlegend\":true,\"texttemplate\":\"%{value:.2s}\",\"x\":[\"PERSON\",\"GPE\",\"ORGANIZATION\",\"DATETIME\",\"NUMERIC_VALUE\",\"MONEY\",\"NAT_REL_POL\",\"FACILITY\",\"PRODUCT\",\"ORDINAL\",\"LANGUAGE\",\"EVENT\",\"PERIOD\",\"WORK_OF_ART\",\"LOC\",\"QUANTITY\"],\"xaxis\":\"x\",\"y\":[508850,152477,311478,140188,92702,19936,52273,31842,39585,20748,1240,7649,4038,12191,21924,4143],\"yaxis\":\"y\",\"type\":\"histogram\"},{\"alignmentgroup\":\"True\",\"bingroup\":\"x\",\"histfunc\":\"sum\",\"hovertemplate\":\"domain=stiri/sport<br>tag=%{x}<br>sum of tag_length=%{y}<extra></extra>\",\"legendgroup\":\"stiri/sport\",\"marker\":{\"color\":\"#636efa\",\"pattern\":{\"shape\":\"\"}},\"name\":\"stiri/sport\",\"offsetgroup\":\"stiri/sport\",\"orientation\":\"v\",\"showlegend\":true,\"texttemplate\":\"%{value:.2s}\",\"x\":[\"ORGANIZATION\",\"ORDINAL\",\"LOC\",\"GPE\",\"NUMERIC_VALUE\",\"DATETIME\",\"FACILITY\",\"PERSON\",\"PRODUCT\",\"NAT_REL_POL\",\"EVENT\",\"WORK_OF_ART\",\"QUANTITY\",\"LANGUAGE\",\"MONEY\",\"PERIOD\"],\"xaxis\":\"x\",\"y\":[16827,11500,4652,36363,26240,26437,4603,54832,6367,8281,5062,705,2363,170,2693,1522],\"yaxis\":\"y\",\"type\":\"histogram\"},{\"alignmentgroup\":\"True\",\"bingroup\":\"x\",\"histfunc\":\"sum\",\"hovertemplate\":\"domain=stiri/sci-tech<br>tag=%{x}<br>sum of tag_length=%{y}<extra></extra>\",\"legendgroup\":\"stiri/sci-tech\",\"marker\":{\"color\":\"#EF553B\",\"pattern\":{\"shape\":\"\"}},\"name\":\"stiri/sci-tech\",\"offsetgroup\":\"stiri/sci-tech\",\"orientation\":\"v\",\"showlegend\":true,\"texttemplate\":\"%{value:.2s}\",\"x\":[\"PERSON\",\"NAT_REL_POL\",\"GPE\",\"ORGANIZATION\",\"PERIOD\",\"FACILITY\",\"MONEY\",\"QUANTITY\",\"NUMERIC_VALUE\",\"PRODUCT\",\"LOC\",\"ORDINAL\",\"DATETIME\",\"EVENT\",\"WORK_OF_ART\",\"LANGUAGE\"],\"xaxis\":\"x\",\"y\":[25916,3662,13553,11396,351,3668,2169,2145,8268,8554,3718,2238,11195,354,562,63],\"yaxis\":\"y\",\"type\":\"histogram\"}],                        {\"template\":{\"data\":{\"bar\":[{\"error_x\":{\"color\":\"#2a3f5f\"},\"error_y\":{\"color\":\"#2a3f5f\"},\"marker\":{\"line\":{\"color\":\"#E5ECF6\",\"width\":0.5},\"pattern\":{\"fillmode\":\"overlay\",\"size\":10,\"solidity\":0.2}},\"type\":\"bar\"}],\"barpolar\":[{\"marker\":{\"line\":{\"color\":\"#E5ECF6\",\"width\":0.5},\"pattern\":{\"fillmode\":\"overlay\",\"size\":10,\"solidity\":0.2}},\"type\":\"barpolar\"}],\"carpet\":[{\"aaxis\":{\"endlinecolor\":\"#2a3f5f\",\"gridcolor\":\"white\",\"linecolor\":\"white\",\"minorgridcolor\":\"white\",\"startlinecolor\":\"#2a3f5f\"},\"baxis\":{\"endlinecolor\":\"#2a3f5f\",\"gridcolor\":\"white\",\"linecolor\":\"white\",\"minorgridcolor\":\"white\",\"startlinecolor\":\"#2a3f5f\"},\"type\":\"carpet\"}],\"choropleth\":[{\"colorbar\":{\"outlinewidth\":0,\"ticks\":\"\"},\"type\":\"choropleth\"}],\"contour\":[{\"colorbar\":{\"outlinewidth\":0,\"ticks\":\"\"},\"colorscale\":[[0.0,\"#0d0887\"],[0.1111111111111111,\"#46039f\"],[0.2222222222222222,\"#7201a8\"],[0.3333333333333333,\"#9c179e\"],[0.4444444444444444,\"#bd3786\"],[0.5555555555555556,\"#d8576b\"],[0.6666666666666666,\"#ed7953\"],[0.7777777777777778,\"#fb9f3a\"],[0.8888888888888888,\"#fdca26\"],[1.0,\"#f0f921\"]],\"type\":\"contour\"}],\"contourcarpet\":[{\"colorbar\":{\"outlinewidth\":0,\"ticks\":\"\"},\"type\":\"contourcarpet\"}],\"heatmap\":[{\"colorbar\":{\"outlinewidth\":0,\"ticks\":\"\"},\"colorscale\":[[0.0,\"#0d0887\"],[0.1111111111111111,\"#46039f\"],[0.2222222222222222,\"#7201a8\"],[0.3333333333333333,\"#9c179e\"],[0.4444444444444444,\"#bd3786\"],[0.5555555555555556,\"#d8576b\"],[0.6666666666666666,\"#ed7953\"],[0.7777777777777778,\"#fb9f3a\"],[0.8888888888888888,\"#fdca26\"],[1.0,\"#f0f921\"]],\"type\":\"heatmap\"}],\"heatmapgl\":[{\"colorbar\":{\"outlinewidth\":0,\"ticks\":\"\"},\"colorscale\":[[0.0,\"#0d0887\"],[0.1111111111111111,\"#46039f\"],[0.2222222222222222,\"#7201a8\"],[0.3333333333333333,\"#9c179e\"],[0.4444444444444444,\"#bd3786\"],[0.5555555555555556,\"#d8576b\"],[0.6666666666666666,\"#ed7953\"],[0.7777777777777778,\"#fb9f3a\"],[0.8888888888888888,\"#fdca26\"],[1.0,\"#f0f921\"]],\"type\":\"heatmapgl\"}],\"histogram\":[{\"marker\":{\"pattern\":{\"fillmode\":\"overlay\",\"size\":10,\"solidity\":0.2}},\"type\":\"histogram\"}],\"histogram2d\":[{\"colorbar\":{\"outlinewidth\":0,\"ticks\":\"\"},\"colorscale\":[[0.0,\"#0d0887\"],[0.1111111111111111,\"#46039f\"],[0.2222222222222222,\"#7201a8\"],[0.3333333333333333,\"#9c179e\"],[0.4444444444444444,\"#bd3786\"],[0.5555555555555556,\"#d8576b\"],[0.6666666666666666,\"#ed7953\"],[0.7777777777777778,\"#fb9f3a\"],[0.8888888888888888,\"#fdca26\"],[1.0,\"#f0f921\"]],\"type\":\"histogram2d\"}],\"histogram2dcontour\":[{\"colorbar\":{\"outlinewidth\":0,\"ticks\":\"\"},\"colorscale\":[[0.0,\"#0d0887\"],[0.1111111111111111,\"#46039f\"],[0.2222222222222222,\"#7201a8\"],[0.3333333333333333,\"#9c179e\"],[0.4444444444444444,\"#bd3786\"],[0.5555555555555556,\"#d8576b\"],[0.6666666666666666,\"#ed7953\"],[0.7777777777777778,\"#fb9f3a\"],[0.8888888888888888,\"#fdca26\"],[1.0,\"#f0f921\"]],\"type\":\"histogram2dcontour\"}],\"mesh3d\":[{\"colorbar\":{\"outlinewidth\":0,\"ticks\":\"\"},\"type\":\"mesh3d\"}],\"parcoords\":[{\"line\":{\"colorbar\":{\"outlinewidth\":0,\"ticks\":\"\"}},\"type\":\"parcoords\"}],\"pie\":[{\"automargin\":true,\"type\":\"pie\"}],\"scatter\":[{\"marker\":{\"colorbar\":{\"outlinewidth\":0,\"ticks\":\"\"}},\"type\":\"scatter\"}],\"scatter3d\":[{\"line\":{\"colorbar\":{\"outlinewidth\":0,\"ticks\":\"\"}},\"marker\":{\"colorbar\":{\"outlinewidth\":0,\"ticks\":\"\"}},\"type\":\"scatter3d\"}],\"scattercarpet\":[{\"marker\":{\"colorbar\":{\"outlinewidth\":0,\"ticks\":\"\"}},\"type\":\"scattercarpet\"}],\"scattergeo\":[{\"marker\":{\"colorbar\":{\"outlinewidth\":0,\"ticks\":\"\"}},\"type\":\"scattergeo\"}],\"scattergl\":[{\"marker\":{\"colorbar\":{\"outlinewidth\":0,\"ticks\":\"\"}},\"type\":\"scattergl\"}],\"scattermapbox\":[{\"marker\":{\"colorbar\":{\"outlinewidth\":0,\"ticks\":\"\"}},\"type\":\"scattermapbox\"}],\"scatterpolar\":[{\"marker\":{\"colorbar\":{\"outlinewidth\":0,\"ticks\":\"\"}},\"type\":\"scatterpolar\"}],\"scatterpolargl\":[{\"marker\":{\"colorbar\":{\"outlinewidth\":0,\"ticks\":\"\"}},\"type\":\"scatterpolargl\"}],\"scatterternary\":[{\"marker\":{\"colorbar\":{\"outlinewidth\":0,\"ticks\":\"\"}},\"type\":\"scatterternary\"}],\"surface\":[{\"colorbar\":{\"outlinewidth\":0,\"ticks\":\"\"},\"colorscale\":[[0.0,\"#0d0887\"],[0.1111111111111111,\"#46039f\"],[0.2222222222222222,\"#7201a8\"],[0.3333333333333333,\"#9c179e\"],[0.4444444444444444,\"#bd3786\"],[0.5555555555555556,\"#d8576b\"],[0.6666666666666666,\"#ed7953\"],[0.7777777777777778,\"#fb9f3a\"],[0.8888888888888888,\"#fdca26\"],[1.0,\"#f0f921\"]],\"type\":\"surface\"}],\"table\":[{\"cells\":{\"fill\":{\"color\":\"#EBF0F8\"},\"line\":{\"color\":\"white\"}},\"header\":{\"fill\":{\"color\":\"#C8D4E3\"},\"line\":{\"color\":\"white\"}},\"type\":\"table\"}]},\"layout\":{\"annotationdefaults\":{\"arrowcolor\":\"#2a3f5f\",\"arrowhead\":0,\"arrowwidth\":1},\"autotypenumbers\":\"strict\",\"coloraxis\":{\"colorbar\":{\"outlinewidth\":0,\"ticks\":\"\"}},\"colorscale\":{\"diverging\":[[0,\"#8e0152\"],[0.1,\"#c51b7d\"],[0.2,\"#de77ae\"],[0.3,\"#f1b6da\"],[0.4,\"#fde0ef\"],[0.5,\"#f7f7f7\"],[0.6,\"#e6f5d0\"],[0.7,\"#b8e186\"],[0.8,\"#7fbc41\"],[0.9,\"#4d9221\"],[1,\"#276419\"]],\"sequential\":[[0.0,\"#0d0887\"],[0.1111111111111111,\"#46039f\"],[0.2222222222222222,\"#7201a8\"],[0.3333333333333333,\"#9c179e\"],[0.4444444444444444,\"#bd3786\"],[0.5555555555555556,\"#d8576b\"],[0.6666666666666666,\"#ed7953\"],[0.7777777777777778,\"#fb9f3a\"],[0.8888888888888888,\"#fdca26\"],[1.0,\"#f0f921\"]],\"sequentialminus\":[[0.0,\"#0d0887\"],[0.1111111111111111,\"#46039f\"],[0.2222222222222222,\"#7201a8\"],[0.3333333333333333,\"#9c179e\"],[0.4444444444444444,\"#bd3786\"],[0.5555555555555556,\"#d8576b\"],[0.6666666666666666,\"#ed7953\"],[0.7777777777777778,\"#fb9f3a\"],[0.8888888888888888,\"#fdca26\"],[1.0,\"#f0f921\"]]},\"colorway\":[\"#636efa\",\"#EF553B\",\"#00cc96\",\"#ab63fa\",\"#FFA15A\",\"#19d3f3\",\"#FF6692\",\"#B6E880\",\"#FF97FF\",\"#FECB52\"],\"font\":{\"color\":\"#2a3f5f\"},\"geo\":{\"bgcolor\":\"white\",\"lakecolor\":\"white\",\"landcolor\":\"#E5ECF6\",\"showlakes\":true,\"showland\":true,\"subunitcolor\":\"white\"},\"hoverlabel\":{\"align\":\"left\"},\"hovermode\":\"closest\",\"mapbox\":{\"style\":\"light\"},\"paper_bgcolor\":\"white\",\"plot_bgcolor\":\"#E5ECF6\",\"polar\":{\"angularaxis\":{\"gridcolor\":\"white\",\"linecolor\":\"white\",\"ticks\":\"\"},\"bgcolor\":\"#E5ECF6\",\"radialaxis\":{\"gridcolor\":\"white\",\"linecolor\":\"white\",\"ticks\":\"\"}},\"scene\":{\"xaxis\":{\"backgroundcolor\":\"#E5ECF6\",\"gridcolor\":\"white\",\"gridwidth\":2,\"linecolor\":\"white\",\"showbackground\":true,\"ticks\":\"\",\"zerolinecolor\":\"white\"},\"yaxis\":{\"backgroundcolor\":\"#E5ECF6\",\"gridcolor\":\"white\",\"gridwidth\":2,\"linecolor\":\"white\",\"showbackground\":true,\"ticks\":\"\",\"zerolinecolor\":\"white\"},\"zaxis\":{\"backgroundcolor\":\"#E5ECF6\",\"gridcolor\":\"white\",\"gridwidth\":2,\"linecolor\":\"white\",\"showbackground\":true,\"ticks\":\"\",\"zerolinecolor\":\"white\"}},\"shapedefaults\":{\"line\":{\"color\":\"#2a3f5f\"}},\"ternary\":{\"aaxis\":{\"gridcolor\":\"white\",\"linecolor\":\"white\",\"ticks\":\"\"},\"baxis\":{\"gridcolor\":\"white\",\"linecolor\":\"white\",\"ticks\":\"\"},\"bgcolor\":\"#E5ECF6\",\"caxis\":{\"gridcolor\":\"white\",\"linecolor\":\"white\",\"ticks\":\"\"}},\"title\":{\"x\":0.05},\"xaxis\":{\"automargin\":true,\"gridcolor\":\"white\",\"linecolor\":\"white\",\"ticks\":\"\",\"title\":{\"standoff\":15},\"zerolinecolor\":\"white\",\"zerolinewidth\":2},\"yaxis\":{\"automargin\":true,\"gridcolor\":\"white\",\"linecolor\":\"white\",\"ticks\":\"\",\"title\":{\"standoff\":15},\"zerolinecolor\":\"white\",\"zerolinewidth\":2}}},\"xaxis\":{\"anchor\":\"y\",\"domain\":[0.0,1.0],\"title\":{\"text\":\"tag\"}},\"yaxis\":{\"anchor\":\"x\",\"domain\":[0.0,1.0],\"title\":{\"text\":\"sum of tag_length\"}},\"legend\":{\"title\":{\"text\":\"domain\"},\"tracegroupgap\":0},\"margin\":{\"t\":60},\"barmode\":\"relative\"},                        {\"responsive\": true}                    ).then(function(){\n",
       "                            \n",
       "var gd = document.getElementById('abe5e528-93cd-43f5-9457-1a4a97c8745f');\n",
       "var x = new MutationObserver(function (mutations, observer) {{\n",
       "        var display = window.getComputedStyle(gd).display;\n",
       "        if (!display || display === 'none') {{\n",
       "            console.log([gd, 'removed!']);\n",
       "            Plotly.purge(gd);\n",
       "            observer.disconnect();\n",
       "        }}\n",
       "}});\n",
       "\n",
       "// Listen for the removal of the full notebook cells\n",
       "var notebookContainer = gd.closest('#notebook-container');\n",
       "if (notebookContainer) {{\n",
       "    x.observe(notebookContainer, {childList: true});\n",
       "}}\n",
       "\n",
       "// Listen for the clearing of the current output cell\n",
       "var outputEl = gd.closest('.output');\n",
       "if (outputEl) {{\n",
       "    x.observe(outputEl, {childList: true});\n",
       "}}\n",
       "\n",
       "                        })                };                });            </script>        </div>"
      ]
     },
     "metadata": {},
     "output_type": "display_data"
    }
   ],
   "source": [
    "domains = []\n",
    "for domain in domain_word_count:\n",
    "    for tag in domain[\"ner_tag_object\"]:\n",
    "        domains.append(\n",
    "            {\n",
    "                \"domain\": domain[\"domain\"],\n",
    "                \"type\": domain[\"type\"],\n",
    "                \"tag\": tag,\n",
    "                \"tag_length\": len(domain[\"ner_tag_object\"][tag]),\n",
    "            }\n",
    "        )\n",
    "        \n",
    "fig = px.histogram(\n",
    "    domains, x=\"tag\", y=\"tag_length\", color=\"domain\", text_auto=\".2s\"\n",
    ")\n",
    "fig.show()"
   ]
  },
  {
   "cell_type": "code",
   "execution_count": 46,
   "metadata": {},
   "outputs": [
    {
     "data": {
      "text/html": [
       "<div>                            <div id=\"b07dc29d-df8e-46df-81c5-5b935132bc59\" class=\"plotly-graph-div\" style=\"height:525px; width:100%;\"></div>            <script type=\"text/javascript\">                require([\"plotly\"], function(Plotly) {                    window.PLOTLYENV=window.PLOTLYENV || {};                                    if (document.getElementById(\"b07dc29d-df8e-46df-81c5-5b935132bc59\")) {                    Plotly.newPlot(                        \"b07dc29d-df8e-46df-81c5-5b935132bc59\",                        [{\"alignmentgroup\":\"True\",\"bingroup\":\"x\",\"histfunc\":\"sum\",\"hovertemplate\":\"tag=PERSON<br>domain=%{x}<br>sum of tag_length=%{y}<extra></extra>\",\"legendgroup\":\"PERSON\",\"marker\":{\"color\":\"#636efa\",\"pattern\":{\"shape\":\"\"}},\"name\":\"PERSON\",\"offsetgroup\":\"PERSON\",\"orientation\":\"v\",\"showlegend\":true,\"texttemplate\":\"%{value:.2s}\",\"x\":[\"monden/\",\"it-stiinta/\",\"sport/\",\"politic/\",\"life-death/\",\"\",\"stiri/economie\",\"stiri/externe\",\"stiri/actualitate\",\"stiri/actualitate/politica\",\"stiri/sport\",\"stiri/sci-tech\"],\"xaxis\":\"x\",\"y\":[42602,8856,8585,38437,39540,25393,173841,369097,571769,508850,54832,25916],\"yaxis\":\"y\",\"type\":\"histogram\"},{\"alignmentgroup\":\"True\",\"bingroup\":\"x\",\"histfunc\":\"sum\",\"hovertemplate\":\"tag=FACILITY<br>domain=%{x}<br>sum of tag_length=%{y}<extra></extra>\",\"legendgroup\":\"FACILITY\",\"marker\":{\"color\":\"#EF553B\",\"pattern\":{\"shape\":\"\"}},\"name\":\"FACILITY\",\"offsetgroup\":\"FACILITY\",\"orientation\":\"v\",\"showlegend\":true,\"texttemplate\":\"%{value:.2s}\",\"x\":[\"monden/\",\"it-stiinta/\",\"sport/\",\"politic/\",\"life-death/\",\"\",\"stiri/economie\",\"stiri/externe\",\"stiri/actualitate\",\"stiri/actualitate/politica\",\"stiri/sport\",\"stiri/sci-tech\"],\"xaxis\":\"x\",\"y\":[5688,1159,894,3996,6405,3481,32833,41040,67866,31842,4603,3668],\"yaxis\":\"y\",\"type\":\"histogram\"},{\"alignmentgroup\":\"True\",\"bingroup\":\"x\",\"histfunc\":\"sum\",\"hovertemplate\":\"tag=GPE<br>domain=%{x}<br>sum of tag_length=%{y}<extra></extra>\",\"legendgroup\":\"GPE\",\"marker\":{\"color\":\"#00cc96\",\"pattern\":{\"shape\":\"\"}},\"name\":\"GPE\",\"offsetgroup\":\"GPE\",\"orientation\":\"v\",\"showlegend\":true,\"texttemplate\":\"%{value:.2s}\",\"x\":[\"monden/\",\"it-stiinta/\",\"sport/\",\"politic/\",\"life-death/\",\"\",\"stiri/economie\",\"stiri/externe\",\"stiri/actualitate\",\"stiri/actualitate/politica\",\"stiri/sport\",\"stiri/sci-tech\"],\"xaxis\":\"x\",\"y\":[15466,3282,3884,13984,15681,35317,126171,257532,243456,152477,36363,13553],\"yaxis\":\"y\",\"type\":\"histogram\"},{\"alignmentgroup\":\"True\",\"bingroup\":\"x\",\"histfunc\":\"sum\",\"hovertemplate\":\"tag=DATETIME<br>domain=%{x}<br>sum of tag_length=%{y}<extra></extra>\",\"legendgroup\":\"DATETIME\",\"marker\":{\"color\":\"#ab63fa\",\"pattern\":{\"shape\":\"\"}},\"name\":\"DATETIME\",\"offsetgroup\":\"DATETIME\",\"orientation\":\"v\",\"showlegend\":true,\"texttemplate\":\"%{value:.2s}\",\"x\":[\"monden/\",\"it-stiinta/\",\"sport/\",\"politic/\",\"life-death/\",\"\",\"stiri/economie\",\"stiri/externe\",\"stiri/actualitate\",\"stiri/actualitate/politica\",\"stiri/sport\",\"stiri/sci-tech\"],\"xaxis\":\"x\",\"y\":[8321,1912,1399,6276,8596,16085,124774,142992,211136,140188,26437,11195],\"yaxis\":\"y\",\"type\":\"histogram\"},{\"alignmentgroup\":\"True\",\"bingroup\":\"x\",\"histfunc\":\"sum\",\"hovertemplate\":\"tag=NUMERIC_VALUE<br>domain=%{x}<br>sum of tag_length=%{y}<extra></extra>\",\"legendgroup\":\"NUMERIC_VALUE\",\"marker\":{\"color\":\"#FFA15A\",\"pattern\":{\"shape\":\"\"}},\"name\":\"NUMERIC_VALUE\",\"offsetgroup\":\"NUMERIC_VALUE\",\"orientation\":\"v\",\"showlegend\":true,\"texttemplate\":\"%{value:.2s}\",\"x\":[\"monden/\",\"it-stiinta/\",\"sport/\",\"politic/\",\"life-death/\",\"\",\"stiri/economie\",\"stiri/externe\",\"stiri/actualitate\",\"stiri/actualitate/politica\",\"stiri/sport\",\"stiri/sci-tech\"],\"xaxis\":\"x\",\"y\":[6924,1811,1387,5553,7122,31705,101942,94205,178495,92702,26240,8268],\"yaxis\":\"y\",\"type\":\"histogram\"},{\"alignmentgroup\":\"True\",\"bingroup\":\"x\",\"histfunc\":\"sum\",\"hovertemplate\":\"tag=ORGANIZATION<br>domain=%{x}<br>sum of tag_length=%{y}<extra></extra>\",\"legendgroup\":\"ORGANIZATION\",\"marker\":{\"color\":\"#19d3f3\",\"pattern\":{\"shape\":\"\"}},\"name\":\"ORGANIZATION\",\"offsetgroup\":\"ORGANIZATION\",\"orientation\":\"v\",\"showlegend\":true,\"texttemplate\":\"%{value:.2s}\",\"x\":[\"monden/\",\"it-stiinta/\",\"sport/\",\"politic/\",\"life-death/\",\"\",\"stiri/economie\",\"stiri/externe\",\"stiri/actualitate\",\"stiri/actualitate/politica\",\"stiri/sport\",\"stiri/sci-tech\"],\"xaxis\":\"x\",\"y\":[7761,2044,2392,10972,8474,14878,120739,134152,275684,311478,16827,11396],\"yaxis\":\"y\",\"type\":\"histogram\"},{\"alignmentgroup\":\"True\",\"bingroup\":\"x\",\"histfunc\":\"sum\",\"hovertemplate\":\"tag=NAT_REL_POL<br>domain=%{x}<br>sum of tag_length=%{y}<extra></extra>\",\"legendgroup\":\"NAT_REL_POL\",\"marker\":{\"color\":\"#FF6692\",\"pattern\":{\"shape\":\"\"}},\"name\":\"NAT_REL_POL\",\"offsetgroup\":\"NAT_REL_POL\",\"orientation\":\"v\",\"showlegend\":true,\"texttemplate\":\"%{value:.2s}\",\"x\":[\"monden/\",\"it-stiinta/\",\"sport/\",\"politic/\",\"life-death/\",\"\",\"stiri/economie\",\"stiri/externe\",\"stiri/actualitate\",\"stiri/actualitate/politica\",\"stiri/sport\",\"stiri/sci-tech\"],\"xaxis\":\"x\",\"y\":[6535,2126,1465,6625,7994,4617,33572,88713,61396,52273,8281,3662],\"yaxis\":\"y\",\"type\":\"histogram\"},{\"alignmentgroup\":\"True\",\"bingroup\":\"x\",\"histfunc\":\"sum\",\"hovertemplate\":\"tag=PRODUCT<br>domain=%{x}<br>sum of tag_length=%{y}<extra></extra>\",\"legendgroup\":\"PRODUCT\",\"marker\":{\"color\":\"#B6E880\",\"pattern\":{\"shape\":\"\"}},\"name\":\"PRODUCT\",\"offsetgroup\":\"PRODUCT\",\"orientation\":\"v\",\"showlegend\":true,\"texttemplate\":\"%{value:.2s}\",\"x\":[\"monden/\",\"it-stiinta/\",\"sport/\",\"politic/\",\"life-death/\",\"\",\"stiri/economie\",\"stiri/externe\",\"stiri/actualitate\",\"stiri/actualitate/politica\",\"stiri/sport\",\"stiri/sci-tech\"],\"xaxis\":\"x\",\"y\":[11855,3381,1703,7349,12550,4205,47474,57216,80843,39585,6367,8554],\"yaxis\":\"y\",\"type\":\"histogram\"},{\"alignmentgroup\":\"True\",\"bingroup\":\"x\",\"histfunc\":\"sum\",\"hovertemplate\":\"tag=LOC<br>domain=%{x}<br>sum of tag_length=%{y}<extra></extra>\",\"legendgroup\":\"LOC\",\"marker\":{\"color\":\"#FF97FF\",\"pattern\":{\"shape\":\"\"}},\"name\":\"LOC\",\"offsetgroup\":\"LOC\",\"orientation\":\"v\",\"showlegend\":true,\"texttemplate\":\"%{value:.2s}\",\"x\":[\"monden/\",\"it-stiinta/\",\"sport/\",\"politic/\",\"life-death/\",\"\",\"stiri/economie\",\"stiri/externe\",\"stiri/actualitate\",\"stiri/actualitate/politica\",\"stiri/sport\",\"stiri/sci-tech\"],\"xaxis\":\"x\",\"y\":[3707,782,667,3081,3197,2046,19049,28278,33978,21924,4652,3718],\"yaxis\":\"y\",\"type\":\"histogram\"},{\"alignmentgroup\":\"True\",\"bingroup\":\"x\",\"histfunc\":\"sum\",\"hovertemplate\":\"tag=PERIOD<br>domain=%{x}<br>sum of tag_length=%{y}<extra></extra>\",\"legendgroup\":\"PERIOD\",\"marker\":{\"color\":\"#FECB52\",\"pattern\":{\"shape\":\"\"}},\"name\":\"PERIOD\",\"offsetgroup\":\"PERIOD\",\"orientation\":\"v\",\"showlegend\":true,\"texttemplate\":\"%{value:.2s}\",\"x\":[\"monden/\",\"it-stiinta/\",\"sport/\",\"politic/\",\"life-death/\",\"\",\"stiri/economie\",\"stiri/externe\",\"stiri/actualitate\",\"stiri/actualitate/politica\",\"stiri/sport\",\"stiri/sci-tech\"],\"xaxis\":\"x\",\"y\":[127,45,40,89,146,759,4979,2982,8428,4038,1522,351],\"yaxis\":\"y\",\"type\":\"histogram\"},{\"alignmentgroup\":\"True\",\"bingroup\":\"x\",\"histfunc\":\"sum\",\"hovertemplate\":\"tag=WORK_OF_ART<br>domain=%{x}<br>sum of tag_length=%{y}<extra></extra>\",\"legendgroup\":\"WORK_OF_ART\",\"marker\":{\"color\":\"#636efa\",\"pattern\":{\"shape\":\"\"}},\"name\":\"WORK_OF_ART\",\"offsetgroup\":\"WORK_OF_ART\",\"orientation\":\"v\",\"showlegend\":true,\"texttemplate\":\"%{value:.2s}\",\"x\":[\"monden/\",\"it-stiinta/\",\"sport/\",\"politic/\",\"life-death/\",\"\",\"stiri/economie\",\"stiri/externe\",\"stiri/actualitate\",\"stiri/actualitate/politica\",\"stiri/sport\",\"stiri/sci-tech\"],\"xaxis\":\"x\",\"y\":[1073,197,205,868,893,263,4423,5588,9993,12191,705,562],\"yaxis\":\"y\",\"type\":\"histogram\"},{\"alignmentgroup\":\"True\",\"bingroup\":\"x\",\"histfunc\":\"sum\",\"hovertemplate\":\"tag=ORDINAL<br>domain=%{x}<br>sum of tag_length=%{y}<extra></extra>\",\"legendgroup\":\"ORDINAL\",\"marker\":{\"color\":\"#EF553B\",\"pattern\":{\"shape\":\"\"}},\"name\":\"ORDINAL\",\"offsetgroup\":\"ORDINAL\",\"orientation\":\"v\",\"showlegend\":true,\"texttemplate\":\"%{value:.2s}\",\"x\":[\"monden/\",\"it-stiinta/\",\"sport/\",\"politic/\",\"life-death/\",\"\",\"stiri/economie\",\"stiri/externe\",\"stiri/actualitate\",\"stiri/actualitate/politica\",\"stiri/sport\",\"stiri/sci-tech\"],\"xaxis\":\"x\",\"y\":[2293,598,515,1757,2268,1949,15854,21185,29964,20748,11500,2238],\"yaxis\":\"y\",\"type\":\"histogram\"},{\"alignmentgroup\":\"True\",\"bingroup\":\"x\",\"histfunc\":\"sum\",\"hovertemplate\":\"tag=EVENT<br>domain=%{x}<br>sum of tag_length=%{y}<extra></extra>\",\"legendgroup\":\"EVENT\",\"marker\":{\"color\":\"#00cc96\",\"pattern\":{\"shape\":\"\"}},\"name\":\"EVENT\",\"offsetgroup\":\"EVENT\",\"orientation\":\"v\",\"showlegend\":true,\"texttemplate\":\"%{value:.2s}\",\"x\":[\"monden/\",\"it-stiinta/\",\"sport/\",\"politic/\",\"life-death/\",\"\",\"stiri/economie\",\"stiri/externe\",\"stiri/actualitate\",\"stiri/actualitate/politica\",\"stiri/sport\",\"stiri/sci-tech\"],\"xaxis\":\"x\",\"y\":[701,121,308,522,598,385,2384,6776,8516,7649,5062,354],\"yaxis\":\"y\",\"type\":\"histogram\"},{\"alignmentgroup\":\"True\",\"bingroup\":\"x\",\"histfunc\":\"sum\",\"hovertemplate\":\"tag=MONEY<br>domain=%{x}<br>sum of tag_length=%{y}<extra></extra>\",\"legendgroup\":\"MONEY\",\"marker\":{\"color\":\"#ab63fa\",\"pattern\":{\"shape\":\"\"}},\"name\":\"MONEY\",\"offsetgroup\":\"MONEY\",\"orientation\":\"v\",\"showlegend\":true,\"texttemplate\":\"%{value:.2s}\",\"x\":[\"monden/\",\"it-stiinta/\",\"sport/\",\"politic/\",\"life-death/\",\"\",\"stiri/economie\",\"stiri/externe\",\"stiri/actualitate\",\"stiri/actualitate/politica\",\"stiri/sport\",\"stiri/sci-tech\"],\"xaxis\":\"x\",\"y\":[1193,294,221,1090,1535,2220,53030,19383,31976,19936,2693,2169],\"yaxis\":\"y\",\"type\":\"histogram\"},{\"alignmentgroup\":\"True\",\"bingroup\":\"x\",\"histfunc\":\"sum\",\"hovertemplate\":\"tag=QUANTITY<br>domain=%{x}<br>sum of tag_length=%{y}<extra></extra>\",\"legendgroup\":\"QUANTITY\",\"marker\":{\"color\":\"#FFA15A\",\"pattern\":{\"shape\":\"\"}},\"name\":\"QUANTITY\",\"offsetgroup\":\"QUANTITY\",\"orientation\":\"v\",\"showlegend\":true,\"texttemplate\":\"%{value:.2s}\",\"x\":[\"monden/\",\"it-stiinta/\",\"sport/\",\"politic/\",\"life-death/\",\"\",\"stiri/economie\",\"stiri/externe\",\"stiri/actualitate\",\"stiri/actualitate/politica\",\"stiri/sport\",\"stiri/sci-tech\"],\"xaxis\":\"x\",\"y\":[821,245,151,494,953,1692,14977,9214,16545,4143,2363,2145],\"yaxis\":\"y\",\"type\":\"histogram\"},{\"alignmentgroup\":\"True\",\"bingroup\":\"x\",\"histfunc\":\"sum\",\"hovertemplate\":\"tag=LANGUAGE<br>domain=%{x}<br>sum of tag_length=%{y}<extra></extra>\",\"legendgroup\":\"LANGUAGE\",\"marker\":{\"color\":\"#19d3f3\",\"pattern\":{\"shape\":\"\"}},\"name\":\"LANGUAGE\",\"offsetgroup\":\"LANGUAGE\",\"orientation\":\"v\",\"showlegend\":true,\"texttemplate\":\"%{value:.2s}\",\"x\":[\"monden/\",\"it-stiinta/\",\"sport/\",\"politic/\",\"life-death/\",\"\",\"stiri/economie\",\"stiri/externe\",\"stiri/actualitate\",\"stiri/actualitate/politica\",\"stiri/sport\",\"stiri/sci-tech\"],\"xaxis\":\"x\",\"y\":[175,41,32,225,216,49,399,1144,1733,1240,170,63],\"yaxis\":\"y\",\"type\":\"histogram\"}],                        {\"template\":{\"data\":{\"bar\":[{\"error_x\":{\"color\":\"#2a3f5f\"},\"error_y\":{\"color\":\"#2a3f5f\"},\"marker\":{\"line\":{\"color\":\"#E5ECF6\",\"width\":0.5},\"pattern\":{\"fillmode\":\"overlay\",\"size\":10,\"solidity\":0.2}},\"type\":\"bar\"}],\"barpolar\":[{\"marker\":{\"line\":{\"color\":\"#E5ECF6\",\"width\":0.5},\"pattern\":{\"fillmode\":\"overlay\",\"size\":10,\"solidity\":0.2}},\"type\":\"barpolar\"}],\"carpet\":[{\"aaxis\":{\"endlinecolor\":\"#2a3f5f\",\"gridcolor\":\"white\",\"linecolor\":\"white\",\"minorgridcolor\":\"white\",\"startlinecolor\":\"#2a3f5f\"},\"baxis\":{\"endlinecolor\":\"#2a3f5f\",\"gridcolor\":\"white\",\"linecolor\":\"white\",\"minorgridcolor\":\"white\",\"startlinecolor\":\"#2a3f5f\"},\"type\":\"carpet\"}],\"choropleth\":[{\"colorbar\":{\"outlinewidth\":0,\"ticks\":\"\"},\"type\":\"choropleth\"}],\"contour\":[{\"colorbar\":{\"outlinewidth\":0,\"ticks\":\"\"},\"colorscale\":[[0.0,\"#0d0887\"],[0.1111111111111111,\"#46039f\"],[0.2222222222222222,\"#7201a8\"],[0.3333333333333333,\"#9c179e\"],[0.4444444444444444,\"#bd3786\"],[0.5555555555555556,\"#d8576b\"],[0.6666666666666666,\"#ed7953\"],[0.7777777777777778,\"#fb9f3a\"],[0.8888888888888888,\"#fdca26\"],[1.0,\"#f0f921\"]],\"type\":\"contour\"}],\"contourcarpet\":[{\"colorbar\":{\"outlinewidth\":0,\"ticks\":\"\"},\"type\":\"contourcarpet\"}],\"heatmap\":[{\"colorbar\":{\"outlinewidth\":0,\"ticks\":\"\"},\"colorscale\":[[0.0,\"#0d0887\"],[0.1111111111111111,\"#46039f\"],[0.2222222222222222,\"#7201a8\"],[0.3333333333333333,\"#9c179e\"],[0.4444444444444444,\"#bd3786\"],[0.5555555555555556,\"#d8576b\"],[0.6666666666666666,\"#ed7953\"],[0.7777777777777778,\"#fb9f3a\"],[0.8888888888888888,\"#fdca26\"],[1.0,\"#f0f921\"]],\"type\":\"heatmap\"}],\"heatmapgl\":[{\"colorbar\":{\"outlinewidth\":0,\"ticks\":\"\"},\"colorscale\":[[0.0,\"#0d0887\"],[0.1111111111111111,\"#46039f\"],[0.2222222222222222,\"#7201a8\"],[0.3333333333333333,\"#9c179e\"],[0.4444444444444444,\"#bd3786\"],[0.5555555555555556,\"#d8576b\"],[0.6666666666666666,\"#ed7953\"],[0.7777777777777778,\"#fb9f3a\"],[0.8888888888888888,\"#fdca26\"],[1.0,\"#f0f921\"]],\"type\":\"heatmapgl\"}],\"histogram\":[{\"marker\":{\"pattern\":{\"fillmode\":\"overlay\",\"size\":10,\"solidity\":0.2}},\"type\":\"histogram\"}],\"histogram2d\":[{\"colorbar\":{\"outlinewidth\":0,\"ticks\":\"\"},\"colorscale\":[[0.0,\"#0d0887\"],[0.1111111111111111,\"#46039f\"],[0.2222222222222222,\"#7201a8\"],[0.3333333333333333,\"#9c179e\"],[0.4444444444444444,\"#bd3786\"],[0.5555555555555556,\"#d8576b\"],[0.6666666666666666,\"#ed7953\"],[0.7777777777777778,\"#fb9f3a\"],[0.8888888888888888,\"#fdca26\"],[1.0,\"#f0f921\"]],\"type\":\"histogram2d\"}],\"histogram2dcontour\":[{\"colorbar\":{\"outlinewidth\":0,\"ticks\":\"\"},\"colorscale\":[[0.0,\"#0d0887\"],[0.1111111111111111,\"#46039f\"],[0.2222222222222222,\"#7201a8\"],[0.3333333333333333,\"#9c179e\"],[0.4444444444444444,\"#bd3786\"],[0.5555555555555556,\"#d8576b\"],[0.6666666666666666,\"#ed7953\"],[0.7777777777777778,\"#fb9f3a\"],[0.8888888888888888,\"#fdca26\"],[1.0,\"#f0f921\"]],\"type\":\"histogram2dcontour\"}],\"mesh3d\":[{\"colorbar\":{\"outlinewidth\":0,\"ticks\":\"\"},\"type\":\"mesh3d\"}],\"parcoords\":[{\"line\":{\"colorbar\":{\"outlinewidth\":0,\"ticks\":\"\"}},\"type\":\"parcoords\"}],\"pie\":[{\"automargin\":true,\"type\":\"pie\"}],\"scatter\":[{\"marker\":{\"colorbar\":{\"outlinewidth\":0,\"ticks\":\"\"}},\"type\":\"scatter\"}],\"scatter3d\":[{\"line\":{\"colorbar\":{\"outlinewidth\":0,\"ticks\":\"\"}},\"marker\":{\"colorbar\":{\"outlinewidth\":0,\"ticks\":\"\"}},\"type\":\"scatter3d\"}],\"scattercarpet\":[{\"marker\":{\"colorbar\":{\"outlinewidth\":0,\"ticks\":\"\"}},\"type\":\"scattercarpet\"}],\"scattergeo\":[{\"marker\":{\"colorbar\":{\"outlinewidth\":0,\"ticks\":\"\"}},\"type\":\"scattergeo\"}],\"scattergl\":[{\"marker\":{\"colorbar\":{\"outlinewidth\":0,\"ticks\":\"\"}},\"type\":\"scattergl\"}],\"scattermapbox\":[{\"marker\":{\"colorbar\":{\"outlinewidth\":0,\"ticks\":\"\"}},\"type\":\"scattermapbox\"}],\"scatterpolar\":[{\"marker\":{\"colorbar\":{\"outlinewidth\":0,\"ticks\":\"\"}},\"type\":\"scatterpolar\"}],\"scatterpolargl\":[{\"marker\":{\"colorbar\":{\"outlinewidth\":0,\"ticks\":\"\"}},\"type\":\"scatterpolargl\"}],\"scatterternary\":[{\"marker\":{\"colorbar\":{\"outlinewidth\":0,\"ticks\":\"\"}},\"type\":\"scatterternary\"}],\"surface\":[{\"colorbar\":{\"outlinewidth\":0,\"ticks\":\"\"},\"colorscale\":[[0.0,\"#0d0887\"],[0.1111111111111111,\"#46039f\"],[0.2222222222222222,\"#7201a8\"],[0.3333333333333333,\"#9c179e\"],[0.4444444444444444,\"#bd3786\"],[0.5555555555555556,\"#d8576b\"],[0.6666666666666666,\"#ed7953\"],[0.7777777777777778,\"#fb9f3a\"],[0.8888888888888888,\"#fdca26\"],[1.0,\"#f0f921\"]],\"type\":\"surface\"}],\"table\":[{\"cells\":{\"fill\":{\"color\":\"#EBF0F8\"},\"line\":{\"color\":\"white\"}},\"header\":{\"fill\":{\"color\":\"#C8D4E3\"},\"line\":{\"color\":\"white\"}},\"type\":\"table\"}]},\"layout\":{\"annotationdefaults\":{\"arrowcolor\":\"#2a3f5f\",\"arrowhead\":0,\"arrowwidth\":1},\"autotypenumbers\":\"strict\",\"coloraxis\":{\"colorbar\":{\"outlinewidth\":0,\"ticks\":\"\"}},\"colorscale\":{\"diverging\":[[0,\"#8e0152\"],[0.1,\"#c51b7d\"],[0.2,\"#de77ae\"],[0.3,\"#f1b6da\"],[0.4,\"#fde0ef\"],[0.5,\"#f7f7f7\"],[0.6,\"#e6f5d0\"],[0.7,\"#b8e186\"],[0.8,\"#7fbc41\"],[0.9,\"#4d9221\"],[1,\"#276419\"]],\"sequential\":[[0.0,\"#0d0887\"],[0.1111111111111111,\"#46039f\"],[0.2222222222222222,\"#7201a8\"],[0.3333333333333333,\"#9c179e\"],[0.4444444444444444,\"#bd3786\"],[0.5555555555555556,\"#d8576b\"],[0.6666666666666666,\"#ed7953\"],[0.7777777777777778,\"#fb9f3a\"],[0.8888888888888888,\"#fdca26\"],[1.0,\"#f0f921\"]],\"sequentialminus\":[[0.0,\"#0d0887\"],[0.1111111111111111,\"#46039f\"],[0.2222222222222222,\"#7201a8\"],[0.3333333333333333,\"#9c179e\"],[0.4444444444444444,\"#bd3786\"],[0.5555555555555556,\"#d8576b\"],[0.6666666666666666,\"#ed7953\"],[0.7777777777777778,\"#fb9f3a\"],[0.8888888888888888,\"#fdca26\"],[1.0,\"#f0f921\"]]},\"colorway\":[\"#636efa\",\"#EF553B\",\"#00cc96\",\"#ab63fa\",\"#FFA15A\",\"#19d3f3\",\"#FF6692\",\"#B6E880\",\"#FF97FF\",\"#FECB52\"],\"font\":{\"color\":\"#2a3f5f\"},\"geo\":{\"bgcolor\":\"white\",\"lakecolor\":\"white\",\"landcolor\":\"#E5ECF6\",\"showlakes\":true,\"showland\":true,\"subunitcolor\":\"white\"},\"hoverlabel\":{\"align\":\"left\"},\"hovermode\":\"closest\",\"mapbox\":{\"style\":\"light\"},\"paper_bgcolor\":\"white\",\"plot_bgcolor\":\"#E5ECF6\",\"polar\":{\"angularaxis\":{\"gridcolor\":\"white\",\"linecolor\":\"white\",\"ticks\":\"\"},\"bgcolor\":\"#E5ECF6\",\"radialaxis\":{\"gridcolor\":\"white\",\"linecolor\":\"white\",\"ticks\":\"\"}},\"scene\":{\"xaxis\":{\"backgroundcolor\":\"#E5ECF6\",\"gridcolor\":\"white\",\"gridwidth\":2,\"linecolor\":\"white\",\"showbackground\":true,\"ticks\":\"\",\"zerolinecolor\":\"white\"},\"yaxis\":{\"backgroundcolor\":\"#E5ECF6\",\"gridcolor\":\"white\",\"gridwidth\":2,\"linecolor\":\"white\",\"showbackground\":true,\"ticks\":\"\",\"zerolinecolor\":\"white\"},\"zaxis\":{\"backgroundcolor\":\"#E5ECF6\",\"gridcolor\":\"white\",\"gridwidth\":2,\"linecolor\":\"white\",\"showbackground\":true,\"ticks\":\"\",\"zerolinecolor\":\"white\"}},\"shapedefaults\":{\"line\":{\"color\":\"#2a3f5f\"}},\"ternary\":{\"aaxis\":{\"gridcolor\":\"white\",\"linecolor\":\"white\",\"ticks\":\"\"},\"baxis\":{\"gridcolor\":\"white\",\"linecolor\":\"white\",\"ticks\":\"\"},\"bgcolor\":\"#E5ECF6\",\"caxis\":{\"gridcolor\":\"white\",\"linecolor\":\"white\",\"ticks\":\"\"}},\"title\":{\"x\":0.05},\"xaxis\":{\"automargin\":true,\"gridcolor\":\"white\",\"linecolor\":\"white\",\"ticks\":\"\",\"title\":{\"standoff\":15},\"zerolinecolor\":\"white\",\"zerolinewidth\":2},\"yaxis\":{\"automargin\":true,\"gridcolor\":\"white\",\"linecolor\":\"white\",\"ticks\":\"\",\"title\":{\"standoff\":15},\"zerolinecolor\":\"white\",\"zerolinewidth\":2}}},\"xaxis\":{\"anchor\":\"y\",\"domain\":[0.0,1.0],\"title\":{\"text\":\"domain\"}},\"yaxis\":{\"anchor\":\"x\",\"domain\":[0.0,1.0],\"title\":{\"text\":\"sum of tag_length\"}},\"legend\":{\"title\":{\"text\":\"tag\"},\"tracegroupgap\":0},\"margin\":{\"t\":60},\"barmode\":\"relative\"},                        {\"responsive\": true}                    ).then(function(){\n",
       "                            \n",
       "var gd = document.getElementById('b07dc29d-df8e-46df-81c5-5b935132bc59');\n",
       "var x = new MutationObserver(function (mutations, observer) {{\n",
       "        var display = window.getComputedStyle(gd).display;\n",
       "        if (!display || display === 'none') {{\n",
       "            console.log([gd, 'removed!']);\n",
       "            Plotly.purge(gd);\n",
       "            observer.disconnect();\n",
       "        }}\n",
       "}});\n",
       "\n",
       "// Listen for the removal of the full notebook cells\n",
       "var notebookContainer = gd.closest('#notebook-container');\n",
       "if (notebookContainer) {{\n",
       "    x.observe(notebookContainer, {childList: true});\n",
       "}}\n",
       "\n",
       "// Listen for the clearing of the current output cell\n",
       "var outputEl = gd.closest('.output');\n",
       "if (outputEl) {{\n",
       "    x.observe(outputEl, {childList: true});\n",
       "}}\n",
       "\n",
       "                        })                };                });            </script>        </div>"
      ]
     },
     "metadata": {},
     "output_type": "display_data"
    }
   ],
   "source": [
    "domains = []\n",
    "for domain in domain_word_count:\n",
    "    for tag in domain[\"ner_tag_object\"]:\n",
    "        domains.append(\n",
    "            {\n",
    "                \"domain\": domain[\"domain\"],\n",
    "                \"type\": domain[\"type\"],\n",
    "                \"tag\": tag,\n",
    "                \"tag_length\": len(domain[\"ner_tag_object\"][tag]),\n",
    "            }\n",
    "        )\n",
    "        \n",
    "fig = px.histogram(\n",
    "    domains, x=\"domain\", y=\"tag_length\", color=\"tag\", text_auto=\".2s\"\n",
    ")\n",
    "fig.show()"
   ]
  },
  {
   "cell_type": "code",
   "execution_count": 47,
   "metadata": {},
   "outputs": [
    {
     "data": {
      "text/html": [
       "<div>                            <div id=\"18045a1d-cc0d-40b2-a7c3-8717e88228d6\" class=\"plotly-graph-div\" style=\"height:525px; width:100%;\"></div>            <script type=\"text/javascript\">                require([\"plotly\"], function(Plotly) {                    window.PLOTLYENV=window.PLOTLYENV || {};                                    if (document.getElementById(\"18045a1d-cc0d-40b2-a7c3-8717e88228d6\")) {                    Plotly.newPlot(                        \"18045a1d-cc0d-40b2-a7c3-8717e88228d6\",                        [{\"alignmentgroup\":\"True\",\"bingroup\":\"x\",\"histfunc\":\"sum\",\"hovertemplate\":\"tag=PERSON<br>domain=%{x}<br>sum of tag_length=%{y}<extra></extra>\",\"legendgroup\":\"PERSON\",\"marker\":{\"color\":\"#636efa\",\"pattern\":{\"shape\":\"\"}},\"name\":\"PERSON\",\"offsetgroup\":\"PERSON\",\"orientation\":\"v\",\"showlegend\":true,\"texttemplate\":\"%{value:.2s}\",\"x\":[\"monden/\",\"it-stiinta/\",\"sport/\",\"politic/\",\"life-death/\",\"\",\"stiri/economie\",\"stiri/externe\",\"stiri/actualitate\",\"stiri/actualitate/politica\",\"stiri/sport\",\"stiri/sci-tech\"],\"xaxis\":\"x\",\"y\":[42602,8856,8585,38437,39540,25393,173841,369097,571769,508850,54832,25916],\"yaxis\":\"y\",\"type\":\"histogram\"},{\"alignmentgroup\":\"True\",\"bingroup\":\"x\",\"histfunc\":\"sum\",\"hovertemplate\":\"tag=FACILITY<br>domain=%{x}<br>sum of tag_length=%{y}<extra></extra>\",\"legendgroup\":\"FACILITY\",\"marker\":{\"color\":\"#EF553B\",\"pattern\":{\"shape\":\"\"}},\"name\":\"FACILITY\",\"offsetgroup\":\"FACILITY\",\"orientation\":\"v\",\"showlegend\":true,\"texttemplate\":\"%{value:.2s}\",\"x\":[\"monden/\",\"it-stiinta/\",\"sport/\",\"politic/\",\"life-death/\",\"\",\"stiri/economie\",\"stiri/externe\",\"stiri/actualitate\",\"stiri/actualitate/politica\",\"stiri/sport\",\"stiri/sci-tech\"],\"xaxis\":\"x\",\"y\":[5688,1159,894,3996,6405,3481,32833,41040,67866,31842,4603,3668],\"yaxis\":\"y\",\"type\":\"histogram\"},{\"alignmentgroup\":\"True\",\"bingroup\":\"x\",\"histfunc\":\"sum\",\"hovertemplate\":\"tag=GPE<br>domain=%{x}<br>sum of tag_length=%{y}<extra></extra>\",\"legendgroup\":\"GPE\",\"marker\":{\"color\":\"#00cc96\",\"pattern\":{\"shape\":\"\"}},\"name\":\"GPE\",\"offsetgroup\":\"GPE\",\"orientation\":\"v\",\"showlegend\":true,\"texttemplate\":\"%{value:.2s}\",\"x\":[\"monden/\",\"it-stiinta/\",\"sport/\",\"politic/\",\"life-death/\",\"\",\"stiri/economie\",\"stiri/externe\",\"stiri/actualitate\",\"stiri/actualitate/politica\",\"stiri/sport\",\"stiri/sci-tech\"],\"xaxis\":\"x\",\"y\":[15466,3282,3884,13984,15681,35317,126171,257532,243456,152477,36363,13553],\"yaxis\":\"y\",\"type\":\"histogram\"},{\"alignmentgroup\":\"True\",\"bingroup\":\"x\",\"histfunc\":\"sum\",\"hovertemplate\":\"tag=DATETIME<br>domain=%{x}<br>sum of tag_length=%{y}<extra></extra>\",\"legendgroup\":\"DATETIME\",\"marker\":{\"color\":\"#ab63fa\",\"pattern\":{\"shape\":\"\"}},\"name\":\"DATETIME\",\"offsetgroup\":\"DATETIME\",\"orientation\":\"v\",\"showlegend\":true,\"texttemplate\":\"%{value:.2s}\",\"x\":[\"monden/\",\"it-stiinta/\",\"sport/\",\"politic/\",\"life-death/\",\"\",\"stiri/economie\",\"stiri/externe\",\"stiri/actualitate\",\"stiri/actualitate/politica\",\"stiri/sport\",\"stiri/sci-tech\"],\"xaxis\":\"x\",\"y\":[8321,1912,1399,6276,8596,16085,124774,142992,211136,140188,26437,11195],\"yaxis\":\"y\",\"type\":\"histogram\"},{\"alignmentgroup\":\"True\",\"bingroup\":\"x\",\"histfunc\":\"sum\",\"hovertemplate\":\"tag=NUMERIC_VALUE<br>domain=%{x}<br>sum of tag_length=%{y}<extra></extra>\",\"legendgroup\":\"NUMERIC_VALUE\",\"marker\":{\"color\":\"#FFA15A\",\"pattern\":{\"shape\":\"\"}},\"name\":\"NUMERIC_VALUE\",\"offsetgroup\":\"NUMERIC_VALUE\",\"orientation\":\"v\",\"showlegend\":true,\"texttemplate\":\"%{value:.2s}\",\"x\":[\"monden/\",\"it-stiinta/\",\"sport/\",\"politic/\",\"life-death/\",\"\",\"stiri/economie\",\"stiri/externe\",\"stiri/actualitate\",\"stiri/actualitate/politica\",\"stiri/sport\",\"stiri/sci-tech\"],\"xaxis\":\"x\",\"y\":[6924,1811,1387,5553,7122,31705,101942,94205,178495,92702,26240,8268],\"yaxis\":\"y\",\"type\":\"histogram\"},{\"alignmentgroup\":\"True\",\"bingroup\":\"x\",\"histfunc\":\"sum\",\"hovertemplate\":\"tag=ORGANIZATION<br>domain=%{x}<br>sum of tag_length=%{y}<extra></extra>\",\"legendgroup\":\"ORGANIZATION\",\"marker\":{\"color\":\"#19d3f3\",\"pattern\":{\"shape\":\"\"}},\"name\":\"ORGANIZATION\",\"offsetgroup\":\"ORGANIZATION\",\"orientation\":\"v\",\"showlegend\":true,\"texttemplate\":\"%{value:.2s}\",\"x\":[\"monden/\",\"it-stiinta/\",\"sport/\",\"politic/\",\"life-death/\",\"\",\"stiri/economie\",\"stiri/externe\",\"stiri/actualitate\",\"stiri/actualitate/politica\",\"stiri/sport\",\"stiri/sci-tech\"],\"xaxis\":\"x\",\"y\":[7761,2044,2392,10972,8474,14878,120739,134152,275684,311478,16827,11396],\"yaxis\":\"y\",\"type\":\"histogram\"},{\"alignmentgroup\":\"True\",\"bingroup\":\"x\",\"histfunc\":\"sum\",\"hovertemplate\":\"tag=NAT_REL_POL<br>domain=%{x}<br>sum of tag_length=%{y}<extra></extra>\",\"legendgroup\":\"NAT_REL_POL\",\"marker\":{\"color\":\"#FF6692\",\"pattern\":{\"shape\":\"\"}},\"name\":\"NAT_REL_POL\",\"offsetgroup\":\"NAT_REL_POL\",\"orientation\":\"v\",\"showlegend\":true,\"texttemplate\":\"%{value:.2s}\",\"x\":[\"monden/\",\"it-stiinta/\",\"sport/\",\"politic/\",\"life-death/\",\"\",\"stiri/economie\",\"stiri/externe\",\"stiri/actualitate\",\"stiri/actualitate/politica\",\"stiri/sport\",\"stiri/sci-tech\"],\"xaxis\":\"x\",\"y\":[6535,2126,1465,6625,7994,4617,33572,88713,61396,52273,8281,3662],\"yaxis\":\"y\",\"type\":\"histogram\"},{\"alignmentgroup\":\"True\",\"bingroup\":\"x\",\"histfunc\":\"sum\",\"hovertemplate\":\"tag=PRODUCT<br>domain=%{x}<br>sum of tag_length=%{y}<extra></extra>\",\"legendgroup\":\"PRODUCT\",\"marker\":{\"color\":\"#B6E880\",\"pattern\":{\"shape\":\"\"}},\"name\":\"PRODUCT\",\"offsetgroup\":\"PRODUCT\",\"orientation\":\"v\",\"showlegend\":true,\"texttemplate\":\"%{value:.2s}\",\"x\":[\"monden/\",\"it-stiinta/\",\"sport/\",\"politic/\",\"life-death/\",\"\",\"stiri/economie\",\"stiri/externe\",\"stiri/actualitate\",\"stiri/actualitate/politica\",\"stiri/sport\",\"stiri/sci-tech\"],\"xaxis\":\"x\",\"y\":[11855,3381,1703,7349,12550,4205,47474,57216,80843,39585,6367,8554],\"yaxis\":\"y\",\"type\":\"histogram\"},{\"alignmentgroup\":\"True\",\"bingroup\":\"x\",\"histfunc\":\"sum\",\"hovertemplate\":\"tag=LOC<br>domain=%{x}<br>sum of tag_length=%{y}<extra></extra>\",\"legendgroup\":\"LOC\",\"marker\":{\"color\":\"#FF97FF\",\"pattern\":{\"shape\":\"\"}},\"name\":\"LOC\",\"offsetgroup\":\"LOC\",\"orientation\":\"v\",\"showlegend\":true,\"texttemplate\":\"%{value:.2s}\",\"x\":[\"monden/\",\"it-stiinta/\",\"sport/\",\"politic/\",\"life-death/\",\"\",\"stiri/economie\",\"stiri/externe\",\"stiri/actualitate\",\"stiri/actualitate/politica\",\"stiri/sport\",\"stiri/sci-tech\"],\"xaxis\":\"x\",\"y\":[3707,782,667,3081,3197,2046,19049,28278,33978,21924,4652,3718],\"yaxis\":\"y\",\"type\":\"histogram\"},{\"alignmentgroup\":\"True\",\"bingroup\":\"x\",\"histfunc\":\"sum\",\"hovertemplate\":\"tag=PERIOD<br>domain=%{x}<br>sum of tag_length=%{y}<extra></extra>\",\"legendgroup\":\"PERIOD\",\"marker\":{\"color\":\"#FECB52\",\"pattern\":{\"shape\":\"\"}},\"name\":\"PERIOD\",\"offsetgroup\":\"PERIOD\",\"orientation\":\"v\",\"showlegend\":true,\"texttemplate\":\"%{value:.2s}\",\"x\":[\"monden/\",\"it-stiinta/\",\"sport/\",\"politic/\",\"life-death/\",\"\",\"stiri/economie\",\"stiri/externe\",\"stiri/actualitate\",\"stiri/actualitate/politica\",\"stiri/sport\",\"stiri/sci-tech\"],\"xaxis\":\"x\",\"y\":[127,45,40,89,146,759,4979,2982,8428,4038,1522,351],\"yaxis\":\"y\",\"type\":\"histogram\"},{\"alignmentgroup\":\"True\",\"bingroup\":\"x\",\"histfunc\":\"sum\",\"hovertemplate\":\"tag=WORK_OF_ART<br>domain=%{x}<br>sum of tag_length=%{y}<extra></extra>\",\"legendgroup\":\"WORK_OF_ART\",\"marker\":{\"color\":\"#636efa\",\"pattern\":{\"shape\":\"\"}},\"name\":\"WORK_OF_ART\",\"offsetgroup\":\"WORK_OF_ART\",\"orientation\":\"v\",\"showlegend\":true,\"texttemplate\":\"%{value:.2s}\",\"x\":[\"monden/\",\"it-stiinta/\",\"sport/\",\"politic/\",\"life-death/\",\"\",\"stiri/economie\",\"stiri/externe\",\"stiri/actualitate\",\"stiri/actualitate/politica\",\"stiri/sport\",\"stiri/sci-tech\"],\"xaxis\":\"x\",\"y\":[1073,197,205,868,893,263,4423,5588,9993,12191,705,562],\"yaxis\":\"y\",\"type\":\"histogram\"},{\"alignmentgroup\":\"True\",\"bingroup\":\"x\",\"histfunc\":\"sum\",\"hovertemplate\":\"tag=ORDINAL<br>domain=%{x}<br>sum of tag_length=%{y}<extra></extra>\",\"legendgroup\":\"ORDINAL\",\"marker\":{\"color\":\"#EF553B\",\"pattern\":{\"shape\":\"\"}},\"name\":\"ORDINAL\",\"offsetgroup\":\"ORDINAL\",\"orientation\":\"v\",\"showlegend\":true,\"texttemplate\":\"%{value:.2s}\",\"x\":[\"monden/\",\"it-stiinta/\",\"sport/\",\"politic/\",\"life-death/\",\"\",\"stiri/economie\",\"stiri/externe\",\"stiri/actualitate\",\"stiri/actualitate/politica\",\"stiri/sport\",\"stiri/sci-tech\"],\"xaxis\":\"x\",\"y\":[2293,598,515,1757,2268,1949,15854,21185,29964,20748,11500,2238],\"yaxis\":\"y\",\"type\":\"histogram\"},{\"alignmentgroup\":\"True\",\"bingroup\":\"x\",\"histfunc\":\"sum\",\"hovertemplate\":\"tag=EVENT<br>domain=%{x}<br>sum of tag_length=%{y}<extra></extra>\",\"legendgroup\":\"EVENT\",\"marker\":{\"color\":\"#00cc96\",\"pattern\":{\"shape\":\"\"}},\"name\":\"EVENT\",\"offsetgroup\":\"EVENT\",\"orientation\":\"v\",\"showlegend\":true,\"texttemplate\":\"%{value:.2s}\",\"x\":[\"monden/\",\"it-stiinta/\",\"sport/\",\"politic/\",\"life-death/\",\"\",\"stiri/economie\",\"stiri/externe\",\"stiri/actualitate\",\"stiri/actualitate/politica\",\"stiri/sport\",\"stiri/sci-tech\"],\"xaxis\":\"x\",\"y\":[701,121,308,522,598,385,2384,6776,8516,7649,5062,354],\"yaxis\":\"y\",\"type\":\"histogram\"},{\"alignmentgroup\":\"True\",\"bingroup\":\"x\",\"histfunc\":\"sum\",\"hovertemplate\":\"tag=MONEY<br>domain=%{x}<br>sum of tag_length=%{y}<extra></extra>\",\"legendgroup\":\"MONEY\",\"marker\":{\"color\":\"#ab63fa\",\"pattern\":{\"shape\":\"\"}},\"name\":\"MONEY\",\"offsetgroup\":\"MONEY\",\"orientation\":\"v\",\"showlegend\":true,\"texttemplate\":\"%{value:.2s}\",\"x\":[\"monden/\",\"it-stiinta/\",\"sport/\",\"politic/\",\"life-death/\",\"\",\"stiri/economie\",\"stiri/externe\",\"stiri/actualitate\",\"stiri/actualitate/politica\",\"stiri/sport\",\"stiri/sci-tech\"],\"xaxis\":\"x\",\"y\":[1193,294,221,1090,1535,2220,53030,19383,31976,19936,2693,2169],\"yaxis\":\"y\",\"type\":\"histogram\"},{\"alignmentgroup\":\"True\",\"bingroup\":\"x\",\"histfunc\":\"sum\",\"hovertemplate\":\"tag=QUANTITY<br>domain=%{x}<br>sum of tag_length=%{y}<extra></extra>\",\"legendgroup\":\"QUANTITY\",\"marker\":{\"color\":\"#FFA15A\",\"pattern\":{\"shape\":\"\"}},\"name\":\"QUANTITY\",\"offsetgroup\":\"QUANTITY\",\"orientation\":\"v\",\"showlegend\":true,\"texttemplate\":\"%{value:.2s}\",\"x\":[\"monden/\",\"it-stiinta/\",\"sport/\",\"politic/\",\"life-death/\",\"\",\"stiri/economie\",\"stiri/externe\",\"stiri/actualitate\",\"stiri/actualitate/politica\",\"stiri/sport\",\"stiri/sci-tech\"],\"xaxis\":\"x\",\"y\":[821,245,151,494,953,1692,14977,9214,16545,4143,2363,2145],\"yaxis\":\"y\",\"type\":\"histogram\"},{\"alignmentgroup\":\"True\",\"bingroup\":\"x\",\"histfunc\":\"sum\",\"hovertemplate\":\"tag=LANGUAGE<br>domain=%{x}<br>sum of tag_length=%{y}<extra></extra>\",\"legendgroup\":\"LANGUAGE\",\"marker\":{\"color\":\"#19d3f3\",\"pattern\":{\"shape\":\"\"}},\"name\":\"LANGUAGE\",\"offsetgroup\":\"LANGUAGE\",\"orientation\":\"v\",\"showlegend\":true,\"texttemplate\":\"%{value:.2s}\",\"x\":[\"monden/\",\"it-stiinta/\",\"sport/\",\"politic/\",\"life-death/\",\"\",\"stiri/economie\",\"stiri/externe\",\"stiri/actualitate\",\"stiri/actualitate/politica\",\"stiri/sport\",\"stiri/sci-tech\"],\"xaxis\":\"x\",\"y\":[175,41,32,225,216,49,399,1144,1733,1240,170,63],\"yaxis\":\"y\",\"type\":\"histogram\"}],                        {\"template\":{\"data\":{\"bar\":[{\"error_x\":{\"color\":\"#2a3f5f\"},\"error_y\":{\"color\":\"#2a3f5f\"},\"marker\":{\"line\":{\"color\":\"#E5ECF6\",\"width\":0.5},\"pattern\":{\"fillmode\":\"overlay\",\"size\":10,\"solidity\":0.2}},\"type\":\"bar\"}],\"barpolar\":[{\"marker\":{\"line\":{\"color\":\"#E5ECF6\",\"width\":0.5},\"pattern\":{\"fillmode\":\"overlay\",\"size\":10,\"solidity\":0.2}},\"type\":\"barpolar\"}],\"carpet\":[{\"aaxis\":{\"endlinecolor\":\"#2a3f5f\",\"gridcolor\":\"white\",\"linecolor\":\"white\",\"minorgridcolor\":\"white\",\"startlinecolor\":\"#2a3f5f\"},\"baxis\":{\"endlinecolor\":\"#2a3f5f\",\"gridcolor\":\"white\",\"linecolor\":\"white\",\"minorgridcolor\":\"white\",\"startlinecolor\":\"#2a3f5f\"},\"type\":\"carpet\"}],\"choropleth\":[{\"colorbar\":{\"outlinewidth\":0,\"ticks\":\"\"},\"type\":\"choropleth\"}],\"contour\":[{\"colorbar\":{\"outlinewidth\":0,\"ticks\":\"\"},\"colorscale\":[[0.0,\"#0d0887\"],[0.1111111111111111,\"#46039f\"],[0.2222222222222222,\"#7201a8\"],[0.3333333333333333,\"#9c179e\"],[0.4444444444444444,\"#bd3786\"],[0.5555555555555556,\"#d8576b\"],[0.6666666666666666,\"#ed7953\"],[0.7777777777777778,\"#fb9f3a\"],[0.8888888888888888,\"#fdca26\"],[1.0,\"#f0f921\"]],\"type\":\"contour\"}],\"contourcarpet\":[{\"colorbar\":{\"outlinewidth\":0,\"ticks\":\"\"},\"type\":\"contourcarpet\"}],\"heatmap\":[{\"colorbar\":{\"outlinewidth\":0,\"ticks\":\"\"},\"colorscale\":[[0.0,\"#0d0887\"],[0.1111111111111111,\"#46039f\"],[0.2222222222222222,\"#7201a8\"],[0.3333333333333333,\"#9c179e\"],[0.4444444444444444,\"#bd3786\"],[0.5555555555555556,\"#d8576b\"],[0.6666666666666666,\"#ed7953\"],[0.7777777777777778,\"#fb9f3a\"],[0.8888888888888888,\"#fdca26\"],[1.0,\"#f0f921\"]],\"type\":\"heatmap\"}],\"heatmapgl\":[{\"colorbar\":{\"outlinewidth\":0,\"ticks\":\"\"},\"colorscale\":[[0.0,\"#0d0887\"],[0.1111111111111111,\"#46039f\"],[0.2222222222222222,\"#7201a8\"],[0.3333333333333333,\"#9c179e\"],[0.4444444444444444,\"#bd3786\"],[0.5555555555555556,\"#d8576b\"],[0.6666666666666666,\"#ed7953\"],[0.7777777777777778,\"#fb9f3a\"],[0.8888888888888888,\"#fdca26\"],[1.0,\"#f0f921\"]],\"type\":\"heatmapgl\"}],\"histogram\":[{\"marker\":{\"pattern\":{\"fillmode\":\"overlay\",\"size\":10,\"solidity\":0.2}},\"type\":\"histogram\"}],\"histogram2d\":[{\"colorbar\":{\"outlinewidth\":0,\"ticks\":\"\"},\"colorscale\":[[0.0,\"#0d0887\"],[0.1111111111111111,\"#46039f\"],[0.2222222222222222,\"#7201a8\"],[0.3333333333333333,\"#9c179e\"],[0.4444444444444444,\"#bd3786\"],[0.5555555555555556,\"#d8576b\"],[0.6666666666666666,\"#ed7953\"],[0.7777777777777778,\"#fb9f3a\"],[0.8888888888888888,\"#fdca26\"],[1.0,\"#f0f921\"]],\"type\":\"histogram2d\"}],\"histogram2dcontour\":[{\"colorbar\":{\"outlinewidth\":0,\"ticks\":\"\"},\"colorscale\":[[0.0,\"#0d0887\"],[0.1111111111111111,\"#46039f\"],[0.2222222222222222,\"#7201a8\"],[0.3333333333333333,\"#9c179e\"],[0.4444444444444444,\"#bd3786\"],[0.5555555555555556,\"#d8576b\"],[0.6666666666666666,\"#ed7953\"],[0.7777777777777778,\"#fb9f3a\"],[0.8888888888888888,\"#fdca26\"],[1.0,\"#f0f921\"]],\"type\":\"histogram2dcontour\"}],\"mesh3d\":[{\"colorbar\":{\"outlinewidth\":0,\"ticks\":\"\"},\"type\":\"mesh3d\"}],\"parcoords\":[{\"line\":{\"colorbar\":{\"outlinewidth\":0,\"ticks\":\"\"}},\"type\":\"parcoords\"}],\"pie\":[{\"automargin\":true,\"type\":\"pie\"}],\"scatter\":[{\"marker\":{\"colorbar\":{\"outlinewidth\":0,\"ticks\":\"\"}},\"type\":\"scatter\"}],\"scatter3d\":[{\"line\":{\"colorbar\":{\"outlinewidth\":0,\"ticks\":\"\"}},\"marker\":{\"colorbar\":{\"outlinewidth\":0,\"ticks\":\"\"}},\"type\":\"scatter3d\"}],\"scattercarpet\":[{\"marker\":{\"colorbar\":{\"outlinewidth\":0,\"ticks\":\"\"}},\"type\":\"scattercarpet\"}],\"scattergeo\":[{\"marker\":{\"colorbar\":{\"outlinewidth\":0,\"ticks\":\"\"}},\"type\":\"scattergeo\"}],\"scattergl\":[{\"marker\":{\"colorbar\":{\"outlinewidth\":0,\"ticks\":\"\"}},\"type\":\"scattergl\"}],\"scattermapbox\":[{\"marker\":{\"colorbar\":{\"outlinewidth\":0,\"ticks\":\"\"}},\"type\":\"scattermapbox\"}],\"scatterpolar\":[{\"marker\":{\"colorbar\":{\"outlinewidth\":0,\"ticks\":\"\"}},\"type\":\"scatterpolar\"}],\"scatterpolargl\":[{\"marker\":{\"colorbar\":{\"outlinewidth\":0,\"ticks\":\"\"}},\"type\":\"scatterpolargl\"}],\"scatterternary\":[{\"marker\":{\"colorbar\":{\"outlinewidth\":0,\"ticks\":\"\"}},\"type\":\"scatterternary\"}],\"surface\":[{\"colorbar\":{\"outlinewidth\":0,\"ticks\":\"\"},\"colorscale\":[[0.0,\"#0d0887\"],[0.1111111111111111,\"#46039f\"],[0.2222222222222222,\"#7201a8\"],[0.3333333333333333,\"#9c179e\"],[0.4444444444444444,\"#bd3786\"],[0.5555555555555556,\"#d8576b\"],[0.6666666666666666,\"#ed7953\"],[0.7777777777777778,\"#fb9f3a\"],[0.8888888888888888,\"#fdca26\"],[1.0,\"#f0f921\"]],\"type\":\"surface\"}],\"table\":[{\"cells\":{\"fill\":{\"color\":\"#EBF0F8\"},\"line\":{\"color\":\"white\"}},\"header\":{\"fill\":{\"color\":\"#C8D4E3\"},\"line\":{\"color\":\"white\"}},\"type\":\"table\"}]},\"layout\":{\"annotationdefaults\":{\"arrowcolor\":\"#2a3f5f\",\"arrowhead\":0,\"arrowwidth\":1},\"autotypenumbers\":\"strict\",\"coloraxis\":{\"colorbar\":{\"outlinewidth\":0,\"ticks\":\"\"}},\"colorscale\":{\"diverging\":[[0,\"#8e0152\"],[0.1,\"#c51b7d\"],[0.2,\"#de77ae\"],[0.3,\"#f1b6da\"],[0.4,\"#fde0ef\"],[0.5,\"#f7f7f7\"],[0.6,\"#e6f5d0\"],[0.7,\"#b8e186\"],[0.8,\"#7fbc41\"],[0.9,\"#4d9221\"],[1,\"#276419\"]],\"sequential\":[[0.0,\"#0d0887\"],[0.1111111111111111,\"#46039f\"],[0.2222222222222222,\"#7201a8\"],[0.3333333333333333,\"#9c179e\"],[0.4444444444444444,\"#bd3786\"],[0.5555555555555556,\"#d8576b\"],[0.6666666666666666,\"#ed7953\"],[0.7777777777777778,\"#fb9f3a\"],[0.8888888888888888,\"#fdca26\"],[1.0,\"#f0f921\"]],\"sequentialminus\":[[0.0,\"#0d0887\"],[0.1111111111111111,\"#46039f\"],[0.2222222222222222,\"#7201a8\"],[0.3333333333333333,\"#9c179e\"],[0.4444444444444444,\"#bd3786\"],[0.5555555555555556,\"#d8576b\"],[0.6666666666666666,\"#ed7953\"],[0.7777777777777778,\"#fb9f3a\"],[0.8888888888888888,\"#fdca26\"],[1.0,\"#f0f921\"]]},\"colorway\":[\"#636efa\",\"#EF553B\",\"#00cc96\",\"#ab63fa\",\"#FFA15A\",\"#19d3f3\",\"#FF6692\",\"#B6E880\",\"#FF97FF\",\"#FECB52\"],\"font\":{\"color\":\"#2a3f5f\"},\"geo\":{\"bgcolor\":\"white\",\"lakecolor\":\"white\",\"landcolor\":\"#E5ECF6\",\"showlakes\":true,\"showland\":true,\"subunitcolor\":\"white\"},\"hoverlabel\":{\"align\":\"left\"},\"hovermode\":\"closest\",\"mapbox\":{\"style\":\"light\"},\"paper_bgcolor\":\"white\",\"plot_bgcolor\":\"#E5ECF6\",\"polar\":{\"angularaxis\":{\"gridcolor\":\"white\",\"linecolor\":\"white\",\"ticks\":\"\"},\"bgcolor\":\"#E5ECF6\",\"radialaxis\":{\"gridcolor\":\"white\",\"linecolor\":\"white\",\"ticks\":\"\"}},\"scene\":{\"xaxis\":{\"backgroundcolor\":\"#E5ECF6\",\"gridcolor\":\"white\",\"gridwidth\":2,\"linecolor\":\"white\",\"showbackground\":true,\"ticks\":\"\",\"zerolinecolor\":\"white\"},\"yaxis\":{\"backgroundcolor\":\"#E5ECF6\",\"gridcolor\":\"white\",\"gridwidth\":2,\"linecolor\":\"white\",\"showbackground\":true,\"ticks\":\"\",\"zerolinecolor\":\"white\"},\"zaxis\":{\"backgroundcolor\":\"#E5ECF6\",\"gridcolor\":\"white\",\"gridwidth\":2,\"linecolor\":\"white\",\"showbackground\":true,\"ticks\":\"\",\"zerolinecolor\":\"white\"}},\"shapedefaults\":{\"line\":{\"color\":\"#2a3f5f\"}},\"ternary\":{\"aaxis\":{\"gridcolor\":\"white\",\"linecolor\":\"white\",\"ticks\":\"\"},\"baxis\":{\"gridcolor\":\"white\",\"linecolor\":\"white\",\"ticks\":\"\"},\"bgcolor\":\"#E5ECF6\",\"caxis\":{\"gridcolor\":\"white\",\"linecolor\":\"white\",\"ticks\":\"\"}},\"title\":{\"x\":0.05},\"xaxis\":{\"automargin\":true,\"gridcolor\":\"white\",\"linecolor\":\"white\",\"ticks\":\"\",\"title\":{\"standoff\":15},\"zerolinecolor\":\"white\",\"zerolinewidth\":2},\"yaxis\":{\"automargin\":true,\"gridcolor\":\"white\",\"linecolor\":\"white\",\"ticks\":\"\",\"title\":{\"standoff\":15},\"zerolinecolor\":\"white\",\"zerolinewidth\":2}}},\"xaxis\":{\"anchor\":\"y\",\"domain\":[0.0,1.0],\"title\":{\"text\":\"domain\"}},\"yaxis\":{\"anchor\":\"x\",\"domain\":[0.0,1.0],\"title\":{\"text\":\"sum of tag_length\"}},\"legend\":{\"title\":{\"text\":\"tag\"},\"tracegroupgap\":0},\"margin\":{\"t\":60},\"barmode\":\"group\"},                        {\"responsive\": true}                    ).then(function(){\n",
       "                            \n",
       "var gd = document.getElementById('18045a1d-cc0d-40b2-a7c3-8717e88228d6');\n",
       "var x = new MutationObserver(function (mutations, observer) {{\n",
       "        var display = window.getComputedStyle(gd).display;\n",
       "        if (!display || display === 'none') {{\n",
       "            console.log([gd, 'removed!']);\n",
       "            Plotly.purge(gd);\n",
       "            observer.disconnect();\n",
       "        }}\n",
       "}});\n",
       "\n",
       "// Listen for the removal of the full notebook cells\n",
       "var notebookContainer = gd.closest('#notebook-container');\n",
       "if (notebookContainer) {{\n",
       "    x.observe(notebookContainer, {childList: true});\n",
       "}}\n",
       "\n",
       "// Listen for the clearing of the current output cell\n",
       "var outputEl = gd.closest('.output');\n",
       "if (outputEl) {{\n",
       "    x.observe(outputEl, {childList: true});\n",
       "}}\n",
       "\n",
       "                        })                };                });            </script>        </div>"
      ]
     },
     "metadata": {},
     "output_type": "display_data"
    }
   ],
   "source": [
    "domains = []\n",
    "for domain in domain_word_count:\n",
    "    for tag in domain[\"ner_tag_object\"]:\n",
    "        domains.append(\n",
    "            {\n",
    "                \"domain\": domain[\"domain\"],\n",
    "                \"type\": domain[\"type\"],\n",
    "                \"tag\": tag,\n",
    "                \"tag_length\": len(domain[\"ner_tag_object\"][tag]),\n",
    "            }\n",
    "        )\n",
    "        \n",
    "fig = px.histogram(\n",
    "    domains, x=\"domain\", y=\"tag_length\", color=\"tag\", text_auto=\".2s\", barmode='group'\n",
    ")\n",
    "fig.show()"
   ]
  },
  {
   "cell_type": "code",
   "execution_count": 70,
   "metadata": {},
   "outputs": [
    {
     "data": {
      "text/html": [
       "<div>                            <div id=\"a1f382b9-e1af-4112-bace-a6097a11ebf7\" class=\"plotly-graph-div\" style=\"height:525px; width:100%;\"></div>            <script type=\"text/javascript\">                require([\"plotly\"], function(Plotly) {                    window.PLOTLYENV=window.PLOTLYENV || {};                                    if (document.getElementById(\"a1f382b9-e1af-4112-bace-a6097a11ebf7\")) {                    Plotly.newPlot(                        \"a1f382b9-e1af-4112-bace-a6097a11ebf7\",                        [{\"alignmentgroup\":\"True\",\"bingroup\":\"x\",\"histfunc\":\"sum\",\"hovertemplate\":\"word=el<br>domain=%{x}<br>sum of word_freq=%{y}<extra></extra>\",\"legendgroup\":\"el\",\"marker\":{\"color\":\"#636efa\",\"pattern\":{\"shape\":\"\"}},\"name\":\"el\",\"offsetgroup\":\"el\",\"orientation\":\"v\",\"showlegend\":true,\"texttemplate\":\"%{value:.2s}\",\"x\":[\"monden/\",\"it-stiinta/\",\"sport/\",\"politic/\",\"life-death/\",\"stiri/actualitate/politica\",\"stiri/sci-tech\"],\"xaxis\":\"x\",\"y\":[1026,194,251,812,836,6978,447],\"yaxis\":\"y\",\"type\":\"histogram\"},{\"alignmentgroup\":\"True\",\"bingroup\":\"x\",\"histfunc\":\"sum\",\"hovertemplate\":\"word=Rom\\u00e2nia<br>domain=%{x}<br>sum of word_freq=%{y}<extra></extra>\",\"legendgroup\":\"Rom\\u00e2nia\",\"marker\":{\"color\":\"#EF553B\",\"pattern\":{\"shape\":\"\"}},\"name\":\"Rom\\u00e2nia\",\"offsetgroup\":\"Rom\\u00e2nia\",\"orientation\":\"v\",\"showlegend\":true,\"texttemplate\":\"%{value:.2s}\",\"x\":[\"monden/\",\"it-stiinta/\",\"sport/\",\"politic/\",\"life-death/\",\"stiri/economie\",\"stiri/actualitate\",\"stiri/actualitate/politica\",\"stiri/sport\",\"stiri/sci-tech\"],\"xaxis\":\"x\",\"y\":[1012,302,231,1217,1304,20665,25462,26490,2335,823],\"yaxis\":\"y\",\"type\":\"histogram\"},{\"alignmentgroup\":\"True\",\"bingroup\":\"x\",\"histfunc\":\"sum\",\"hovertemplate\":\"word=rom\\u00e2ni<br>domain=%{x}<br>sum of word_freq=%{y}<extra></extra>\",\"legendgroup\":\"rom\\u00e2ni\",\"marker\":{\"color\":\"#00cc96\",\"pattern\":{\"shape\":\"\"}},\"name\":\"rom\\u00e2ni\",\"offsetgroup\":\"rom\\u00e2ni\",\"orientation\":\"v\",\"showlegend\":true,\"texttemplate\":\"%{value:.2s}\",\"x\":[\"monden/\",\"it-stiinta/\",\"sport/\",\"politic/\",\"life-death/\",\"\",\"stiri/actualitate\"],\"xaxis\":\"x\",\"y\":[900,308,201,809,1182,909,8205],\"yaxis\":\"y\",\"type\":\"histogram\"},{\"alignmentgroup\":\"True\",\"bingroup\":\"x\",\"histfunc\":\"sum\",\"hovertemplate\":\"word=dou\\u0103<br>domain=%{x}<br>sum of word_freq=%{y}<extra></extra>\",\"legendgroup\":\"dou\\u0103\",\"marker\":{\"color\":\"#ab63fa\",\"pattern\":{\"shape\":\"\"}},\"name\":\"dou\\u0103\",\"offsetgroup\":\"dou\\u0103\",\"orientation\":\"v\",\"showlegend\":true,\"texttemplate\":\"%{value:.2s}\",\"x\":[\"monden/\",\"it-stiinta/\",\"sport/\",\"politic/\",\"life-death/\",\"stiri/economie\",\"stiri/externe\",\"stiri/actualitate\",\"stiri/actualitate/politica\",\"stiri/sport\",\"stiri/sci-tech\"],\"xaxis\":\"x\",\"y\":[727,191,149,554,737,6535,7780,12830,10197,2434,706],\"yaxis\":\"y\",\"type\":\"histogram\"},{\"alignmentgroup\":\"True\",\"bingroup\":\"x\",\"histfunc\":\"sum\",\"hovertemplate\":\"word=Bucure\\u0219ti<br>domain=%{x}<br>sum of word_freq=%{y}<extra></extra>\",\"legendgroup\":\"Bucure\\u0219ti\",\"marker\":{\"color\":\"#FFA15A\",\"pattern\":{\"shape\":\"\"}},\"name\":\"Bucure\\u0219ti\",\"offsetgroup\":\"Bucure\\u0219ti\",\"orientation\":\"v\",\"showlegend\":true,\"texttemplate\":\"%{value:.2s}\",\"x\":[\"monden/\",\"it-stiinta/\",\"politic/\",\"life-death/\",\"stiri/economie\",\"stiri/actualitate\"],\"xaxis\":\"x\",\"y\":[593,120,530,775,4178,10261],\"yaxis\":\"y\",\"type\":\"histogram\"},{\"alignmentgroup\":\"True\",\"bingroup\":\"x\",\"histfunc\":\"sum\",\"hovertemplate\":\"word=rom\\u00e2n<br>domain=%{x}<br>sum of word_freq=%{y}<extra></extra>\",\"legendgroup\":\"rom\\u00e2n\",\"marker\":{\"color\":\"#19d3f3\",\"pattern\":{\"shape\":\"\"}},\"name\":\"rom\\u00e2n\",\"offsetgroup\":\"rom\\u00e2n\",\"orientation\":\"v\",\"showlegend\":true,\"texttemplate\":\"%{value:.2s}\",\"x\":[\"monden/\",\"it-stiinta/\",\"sport/\",\"life-death/\"],\"xaxis\":\"x\",\"y\":[582,245,136,635],\"yaxis\":\"y\",\"type\":\"histogram\"},{\"alignmentgroup\":\"True\",\"bingroup\":\"x\",\"histfunc\":\"sum\",\"hovertemplate\":\"word=prima<br>domain=%{x}<br>sum of word_freq=%{y}<extra></extra>\",\"legendgroup\":\"prima\",\"marker\":{\"color\":\"#FF6692\",\"pattern\":{\"shape\":\"\"}},\"name\":\"prima\",\"offsetgroup\":\"prima\",\"orientation\":\"v\",\"showlegend\":true,\"texttemplate\":\"%{value:.2s}\",\"x\":[\"monden/\",\"life-death/\",\"stiri/economie\",\"stiri/sport\",\"stiri/sci-tech\"],\"xaxis\":\"x\",\"y\":[511,461,2811,1479,583],\"yaxis\":\"y\",\"type\":\"histogram\"},{\"alignmentgroup\":\"True\",\"bingroup\":\"x\",\"histfunc\":\"sum\",\"hovertemplate\":\"word=rom\\u00e2nii<br>domain=%{x}<br>sum of word_freq=%{y}<extra></extra>\",\"legendgroup\":\"rom\\u00e2nii\",\"marker\":{\"color\":\"#B6E880\",\"pattern\":{\"shape\":\"\"}},\"name\":\"rom\\u00e2nii\",\"offsetgroup\":\"rom\\u00e2nii\",\"orientation\":\"v\",\"showlegend\":true,\"texttemplate\":\"%{value:.2s}\",\"x\":[\"monden/\",\"it-stiinta/\",\"politic/\",\"life-death/\"],\"xaxis\":\"x\",\"y\":[510,185,638,780],\"yaxis\":\"y\",\"type\":\"histogram\"},{\"alignmentgroup\":\"True\",\"bingroup\":\"x\",\"histfunc\":\"sum\",\"hovertemplate\":\"word=doi<br>domain=%{x}<br>sum of word_freq=%{y}<extra></extra>\",\"legendgroup\":\"doi\",\"marker\":{\"color\":\"#FF97FF\",\"pattern\":{\"shape\":\"\"}},\"name\":\"doi\",\"offsetgroup\":\"doi\",\"orientation\":\"v\",\"showlegend\":true,\"texttemplate\":\"%{value:.2s}\",\"x\":[\"monden/\"],\"xaxis\":\"x\",\"y\":[493],\"yaxis\":\"y\",\"type\":\"histogram\"},{\"alignmentgroup\":\"True\",\"bingroup\":\"x\",\"histfunc\":\"sum\",\"hovertemplate\":\"word=Decebal Popescu<br>domain=%{x}<br>sum of word_freq=%{y}<extra></extra>\",\"legendgroup\":\"Decebal Popescu\",\"marker\":{\"color\":\"#FECB52\",\"pattern\":{\"shape\":\"\"}},\"name\":\"Decebal Popescu\",\"offsetgroup\":\"Decebal Popescu\",\"orientation\":\"v\",\"showlegend\":true,\"texttemplate\":\"%{value:.2s}\",\"x\":[\"monden/\",\"it-stiinta/\"],\"xaxis\":\"x\",\"y\":[426,183],\"yaxis\":\"y\",\"type\":\"histogram\"},{\"alignmentgroup\":\"True\",\"bingroup\":\"x\",\"histfunc\":\"sum\",\"hovertemplate\":\"word=po\\u021bi<br>domain=%{x}<br>sum of word_freq=%{y}<extra></extra>\",\"legendgroup\":\"po\\u021bi\",\"marker\":{\"color\":\"#636efa\",\"pattern\":{\"shape\":\"\"}},\"name\":\"po\\u021bi\",\"offsetgroup\":\"po\\u021bi\",\"orientation\":\"v\",\"showlegend\":true,\"texttemplate\":\"%{value:.2s}\",\"x\":[\"it-stiinta/\"],\"xaxis\":\"x\",\"y\":[131],\"yaxis\":\"y\",\"type\":\"histogram\"},{\"alignmentgroup\":\"True\",\"bingroup\":\"x\",\"histfunc\":\"sum\",\"hovertemplate\":\"word=primul<br>domain=%{x}<br>sum of word_freq=%{y}<extra></extra>\",\"legendgroup\":\"primul\",\"marker\":{\"color\":\"#EF553B\",\"pattern\":{\"shape\":\"\"}},\"name\":\"primul\",\"offsetgroup\":\"primul\",\"orientation\":\"v\",\"showlegend\":true,\"texttemplate\":\"%{value:.2s}\",\"x\":[\"it-stiinta/\",\"life-death/\",\"stiri/sport\"],\"xaxis\":\"x\",\"y\":[129,426,2376],\"yaxis\":\"y\",\"type\":\"histogram\"},{\"alignmentgroup\":\"True\",\"bingroup\":\"x\",\"histfunc\":\"sum\",\"hovertemplate\":\"word=Gigi Becali<br>domain=%{x}<br>sum of word_freq=%{y}<extra></extra>\",\"legendgroup\":\"Gigi Becali\",\"marker\":{\"color\":\"#00cc96\",\"pattern\":{\"shape\":\"\"}},\"name\":\"Gigi Becali\",\"offsetgroup\":\"Gigi Becali\",\"orientation\":\"v\",\"showlegend\":true,\"texttemplate\":\"%{value:.2s}\",\"x\":[\"sport/\"],\"xaxis\":\"x\",\"y\":[299],\"yaxis\":\"y\",\"type\":\"histogram\"},{\"alignmentgroup\":\"True\",\"bingroup\":\"x\",\"histfunc\":\"sum\",\"hovertemplate\":\"word=Steaua<br>domain=%{x}<br>sum of word_freq=%{y}<extra></extra>\",\"legendgroup\":\"Steaua\",\"marker\":{\"color\":\"#ab63fa\",\"pattern\":{\"shape\":\"\"}},\"name\":\"Steaua\",\"offsetgroup\":\"Steaua\",\"orientation\":\"v\",\"showlegend\":true,\"texttemplate\":\"%{value:.2s}\",\"x\":[\"sport/\"],\"xaxis\":\"x\",\"y\":[199],\"yaxis\":\"y\",\"type\":\"histogram\"},{\"alignmentgroup\":\"True\",\"bingroup\":\"x\",\"histfunc\":\"sum\",\"hovertemplate\":\"word=Dinamo<br>domain=%{x}<br>sum of word_freq=%{y}<extra></extra>\",\"legendgroup\":\"Dinamo\",\"marker\":{\"color\":\"#FFA15A\",\"pattern\":{\"shape\":\"\"}},\"name\":\"Dinamo\",\"offsetgroup\":\"Dinamo\",\"orientation\":\"v\",\"showlegend\":true,\"texttemplate\":\"%{value:.2s}\",\"x\":[\"sport/\"],\"xaxis\":\"x\",\"y\":[192],\"yaxis\":\"y\",\"type\":\"histogram\"},{\"alignmentgroup\":\"True\",\"bingroup\":\"x\",\"histfunc\":\"sum\",\"hovertemplate\":\"word=Becali<br>domain=%{x}<br>sum of word_freq=%{y}<extra></extra>\",\"legendgroup\":\"Becali\",\"marker\":{\"color\":\"#19d3f3\",\"pattern\":{\"shape\":\"\"}},\"name\":\"Becali\",\"offsetgroup\":\"Becali\",\"orientation\":\"v\",\"showlegend\":true,\"texttemplate\":\"%{value:.2s}\",\"x\":[\"sport/\"],\"xaxis\":\"x\",\"y\":[163],\"yaxis\":\"y\",\"type\":\"histogram\"},{\"alignmentgroup\":\"True\",\"bingroup\":\"x\",\"histfunc\":\"sum\",\"hovertemplate\":\"word=juc\\u0103tori<br>domain=%{x}<br>sum of word_freq=%{y}<extra></extra>\",\"legendgroup\":\"juc\\u0103tori\",\"marker\":{\"color\":\"#FF6692\",\"pattern\":{\"shape\":\"\"}},\"name\":\"juc\\u0103tori\",\"offsetgroup\":\"juc\\u0103tori\",\"orientation\":\"v\",\"showlegend\":true,\"texttemplate\":\"%{value:.2s}\",\"x\":[\"sport/\"],\"xaxis\":\"x\",\"y\":[139],\"yaxis\":\"y\",\"type\":\"histogram\"},{\"alignmentgroup\":\"True\",\"bingroup\":\"x\",\"histfunc\":\"sum\",\"hovertemplate\":\"word=PSD<br>domain=%{x}<br>sum of word_freq=%{y}<extra></extra>\",\"legendgroup\":\"PSD\",\"marker\":{\"color\":\"#B6E880\",\"pattern\":{\"shape\":\"\"}},\"name\":\"PSD\",\"offsetgroup\":\"PSD\",\"orientation\":\"v\",\"showlegend\":true,\"texttemplate\":\"%{value:.2s}\",\"x\":[\"politic/\",\"stiri/actualitate\",\"stiri/actualitate/politica\"],\"xaxis\":\"x\",\"y\":[1201,20991,44733],\"yaxis\":\"y\",\"type\":\"histogram\"},{\"alignmentgroup\":\"True\",\"bingroup\":\"x\",\"histfunc\":\"sum\",\"hovertemplate\":\"word=Rom\\u00e2niei<br>domain=%{x}<br>sum of word_freq=%{y}<extra></extra>\",\"legendgroup\":\"Rom\\u00e2niei\",\"marker\":{\"color\":\"#FF97FF\",\"pattern\":{\"shape\":\"\"}},\"name\":\"Rom\\u00e2niei\",\"offsetgroup\":\"Rom\\u00e2niei\",\"orientation\":\"v\",\"showlegend\":true,\"texttemplate\":\"%{value:.2s}\",\"x\":[\"politic/\",\"stiri/economie\",\"stiri/actualitate\",\"stiri/actualitate/politica\",\"stiri/sport\"],\"xaxis\":\"x\",\"y\":[565,4283,10499,14169,1015],\"yaxis\":\"y\",\"type\":\"histogram\"},{\"alignmentgroup\":\"True\",\"bingroup\":\"x\",\"histfunc\":\"sum\",\"hovertemplate\":\"word=pre\\u0219edintele<br>domain=%{x}<br>sum of word_freq=%{y}<extra></extra>\",\"legendgroup\":\"pre\\u0219edintele\",\"marker\":{\"color\":\"#FECB52\",\"pattern\":{\"shape\":\"\"}},\"name\":\"pre\\u0219edintele\",\"offsetgroup\":\"pre\\u0219edintele\",\"orientation\":\"v\",\"showlegend\":true,\"texttemplate\":\"%{value:.2s}\",\"x\":[\"politic/\",\"stiri/actualitate/politica\"],\"xaxis\":\"x\",\"y\":[560,13963],\"yaxis\":\"y\",\"type\":\"histogram\"},{\"alignmentgroup\":\"True\",\"bingroup\":\"x\",\"histfunc\":\"sum\",\"hovertemplate\":\"word=B\\u0103sescu<br>domain=%{x}<br>sum of word_freq=%{y}<extra></extra>\",\"legendgroup\":\"B\\u0103sescu\",\"marker\":{\"color\":\"#636efa\",\"pattern\":{\"shape\":\"\"}},\"name\":\"B\\u0103sescu\",\"offsetgroup\":\"B\\u0103sescu\",\"orientation\":\"v\",\"showlegend\":true,\"texttemplate\":\"%{value:.2s}\",\"x\":[\"politic/\"],\"xaxis\":\"x\",\"y\":[514],\"yaxis\":\"y\",\"type\":\"histogram\"},{\"alignmentgroup\":\"True\",\"bingroup\":\"x\",\"histfunc\":\"sum\",\"hovertemplate\":\"word=oameni<br>domain=%{x}<br>sum of word_freq=%{y}<extra></extra>\",\"legendgroup\":\"oameni\",\"marker\":{\"color\":\"#EF553B\",\"pattern\":{\"shape\":\"\"}},\"name\":\"oameni\",\"offsetgroup\":\"oameni\",\"orientation\":\"v\",\"showlegend\":true,\"texttemplate\":\"%{value:.2s}\",\"x\":[\"life-death/\",\"stiri/externe\",\"stiri/sci-tech\"],\"xaxis\":\"x\",\"y\":[513,6746,515],\"yaxis\":\"y\",\"type\":\"histogram\"},{\"alignmentgroup\":\"True\",\"bingroup\":\"x\",\"histfunc\":\"sum\",\"hovertemplate\":\"word=2<br>domain=%{x}<br>sum of word_freq=%{y}<extra></extra>\",\"legendgroup\":\"2\",\"marker\":{\"color\":\"#00cc96\",\"pattern\":{\"shape\":\"\"}},\"name\":\"2\",\"offsetgroup\":\"2\",\"orientation\":\"v\",\"showlegend\":true,\"texttemplate\":\"%{value:.2s}\",\"x\":[\"\"],\"xaxis\":\"x\",\"y\":[2836],\"yaxis\":\"y\",\"type\":\"histogram\"},{\"alignmentgroup\":\"True\",\"bingroup\":\"x\",\"histfunc\":\"sum\",\"hovertemplate\":\"word=persoane<br>domain=%{x}<br>sum of word_freq=%{y}<extra></extra>\",\"legendgroup\":\"persoane\",\"marker\":{\"color\":\"#ab63fa\",\"pattern\":{\"shape\":\"\"}},\"name\":\"persoane\",\"offsetgroup\":\"persoane\",\"orientation\":\"v\",\"showlegend\":true,\"texttemplate\":\"%{value:.2s}\",\"x\":[\"\",\"stiri/externe\",\"stiri/actualitate\"],\"xaxis\":\"x\",\"y\":[2758,9077,14916],\"yaxis\":\"y\",\"type\":\"histogram\"},{\"alignmentgroup\":\"True\",\"bingroup\":\"x\",\"histfunc\":\"sum\",\"hovertemplate\":\"word=pacien\\u021bi<br>domain=%{x}<br>sum of word_freq=%{y}<extra></extra>\",\"legendgroup\":\"pacien\\u021bi\",\"marker\":{\"color\":\"#FFA15A\",\"pattern\":{\"shape\":\"\"}},\"name\":\"pacien\\u021bi\",\"offsetgroup\":\"pacien\\u021bi\",\"orientation\":\"v\",\"showlegend\":true,\"texttemplate\":\"%{value:.2s}\",\"x\":[\"\"],\"xaxis\":\"x\",\"y\":[2068],\"yaxis\":\"y\",\"type\":\"histogram\"},{\"alignmentgroup\":\"True\",\"bingroup\":\"x\",\"histfunc\":\"sum\",\"hovertemplate\":\"word=5<br>domain=%{x}<br>sum of word_freq=%{y}<extra></extra>\",\"legendgroup\":\"5\",\"marker\":{\"color\":\"#19d3f3\",\"pattern\":{\"shape\":\"\"}},\"name\":\"5\",\"offsetgroup\":\"5\",\"orientation\":\"v\",\"showlegend\":true,\"texttemplate\":\"%{value:.2s}\",\"x\":[\"\"],\"xaxis\":\"x\",\"y\":[1064],\"yaxis\":\"y\",\"type\":\"histogram\"},{\"alignmentgroup\":\"True\",\"bingroup\":\"x\",\"histfunc\":\"sum\",\"hovertemplate\":\"word=ATI<br>domain=%{x}<br>sum of word_freq=%{y}<extra></extra>\",\"legendgroup\":\"ATI\",\"marker\":{\"color\":\"#FF6692\",\"pattern\":{\"shape\":\"\"}},\"name\":\"ATI\",\"offsetgroup\":\"ATI\",\"orientation\":\"v\",\"showlegend\":true,\"texttemplate\":\"%{value:.2s}\",\"x\":[\"\"],\"xaxis\":\"x\",\"y\":[1063],\"yaxis\":\"y\",\"type\":\"histogram\"},{\"alignmentgroup\":\"True\",\"bingroup\":\"x\",\"histfunc\":\"sum\",\"hovertemplate\":\"word=Ucraina<br>domain=%{x}<br>sum of word_freq=%{y}<extra></extra>\",\"legendgroup\":\"Ucraina\",\"marker\":{\"color\":\"#B6E880\",\"pattern\":{\"shape\":\"\"}},\"name\":\"Ucraina\",\"offsetgroup\":\"Ucraina\",\"orientation\":\"v\",\"showlegend\":true,\"texttemplate\":\"%{value:.2s}\",\"x\":[\"\",\"stiri/externe\"],\"xaxis\":\"x\",\"y\":[1024,7415],\"yaxis\":\"y\",\"type\":\"histogram\"},{\"alignmentgroup\":\"True\",\"bingroup\":\"x\",\"histfunc\":\"sum\",\"hovertemplate\":\"word=SUA<br>domain=%{x}<br>sum of word_freq=%{y}<extra></extra>\",\"legendgroup\":\"SUA\",\"marker\":{\"color\":\"#FF97FF\",\"pattern\":{\"shape\":\"\"}},\"name\":\"SUA\",\"offsetgroup\":\"SUA\",\"orientation\":\"v\",\"showlegend\":true,\"texttemplate\":\"%{value:.2s}\",\"x\":[\"\",\"stiri/externe\"],\"xaxis\":\"x\",\"y\":[1008,9000],\"yaxis\":\"y\",\"type\":\"histogram\"},{\"alignmentgroup\":\"True\",\"bingroup\":\"x\",\"histfunc\":\"sum\",\"hovertemplate\":\"word=ultimele 24 de ore<br>domain=%{x}<br>sum of word_freq=%{y}<extra></extra>\",\"legendgroup\":\"ultimele 24 de ore\",\"marker\":{\"color\":\"#FECB52\",\"pattern\":{\"shape\":\"\"}},\"name\":\"ultimele 24 de ore\",\"offsetgroup\":\"ultimele 24 de ore\",\"orientation\":\"v\",\"showlegend\":true,\"texttemplate\":\"%{value:.2s}\",\"x\":[\"\"],\"xaxis\":\"x\",\"y\":[988],\"yaxis\":\"y\",\"type\":\"histogram\"},{\"alignmentgroup\":\"True\",\"bingroup\":\"x\",\"histfunc\":\"sum\",\"hovertemplate\":\"word=Rusia<br>domain=%{x}<br>sum of word_freq=%{y}<extra></extra>\",\"legendgroup\":\"Rusia\",\"marker\":{\"color\":\"#636efa\",\"pattern\":{\"shape\":\"\"}},\"name\":\"Rusia\",\"offsetgroup\":\"Rusia\",\"orientation\":\"v\",\"showlegend\":true,\"texttemplate\":\"%{value:.2s}\",\"x\":[\"\",\"stiri/externe\"],\"xaxis\":\"x\",\"y\":[907,11066],\"yaxis\":\"y\",\"type\":\"histogram\"},{\"alignmentgroup\":\"True\",\"bingroup\":\"x\",\"histfunc\":\"sum\",\"hovertemplate\":\"word=UE<br>domain=%{x}<br>sum of word_freq=%{y}<extra></extra>\",\"legendgroup\":\"UE\",\"marker\":{\"color\":\"#EF553B\",\"pattern\":{\"shape\":\"\"}},\"name\":\"UE\",\"offsetgroup\":\"UE\",\"orientation\":\"v\",\"showlegend\":true,\"texttemplate\":\"%{value:.2s}\",\"x\":[\"stiri/economie\",\"stiri/externe\"],\"xaxis\":\"x\",\"y\":[4273,8368],\"yaxis\":\"y\",\"type\":\"histogram\"},{\"alignmentgroup\":\"True\",\"bingroup\":\"x\",\"histfunc\":\"sum\",\"hovertemplate\":\"word=anul trecut<br>domain=%{x}<br>sum of word_freq=%{y}<extra></extra>\",\"legendgroup\":\"anul trecut\",\"marker\":{\"color\":\"#00cc96\",\"pattern\":{\"shape\":\"\"}},\"name\":\"anul trecut\",\"offsetgroup\":\"anul trecut\",\"orientation\":\"v\",\"showlegend\":true,\"texttemplate\":\"%{value:.2s}\",\"x\":[\"stiri/economie\"],\"xaxis\":\"x\",\"y\":[3395],\"yaxis\":\"y\",\"type\":\"histogram\"},{\"alignmentgroup\":\"True\",\"bingroup\":\"x\",\"histfunc\":\"sum\",\"hovertemplate\":\"word=europene<br>domain=%{x}<br>sum of word_freq=%{y}<extra></extra>\",\"legendgroup\":\"europene\",\"marker\":{\"color\":\"#ab63fa\",\"pattern\":{\"shape\":\"\"}},\"name\":\"europene\",\"offsetgroup\":\"europene\",\"orientation\":\"v\",\"showlegend\":true,\"texttemplate\":\"%{value:.2s}\",\"x\":[\"stiri/economie\"],\"xaxis\":\"x\",\"y\":[3254],\"yaxis\":\"y\",\"type\":\"histogram\"},{\"alignmentgroup\":\"True\",\"bingroup\":\"x\",\"histfunc\":\"sum\",\"hovertemplate\":\"word=trei<br>domain=%{x}<br>sum of word_freq=%{y}<extra></extra>\",\"legendgroup\":\"trei\",\"marker\":{\"color\":\"#FFA15A\",\"pattern\":{\"shape\":\"\"}},\"name\":\"trei\",\"offsetgroup\":\"trei\",\"orientation\":\"v\",\"showlegend\":true,\"texttemplate\":\"%{value:.2s}\",\"x\":[\"stiri/economie\",\"stiri/actualitate\",\"stiri/sport\"],\"xaxis\":\"x\",\"y\":[3097,6795,1363],\"yaxis\":\"y\",\"type\":\"histogram\"},{\"alignmentgroup\":\"True\",\"bingroup\":\"x\",\"histfunc\":\"sum\",\"hovertemplate\":\"word=Europa<br>domain=%{x}<br>sum of word_freq=%{y}<extra></extra>\",\"legendgroup\":\"Europa\",\"marker\":{\"color\":\"#19d3f3\",\"pattern\":{\"shape\":\"\"}},\"name\":\"Europa\",\"offsetgroup\":\"Europa\",\"orientation\":\"v\",\"showlegend\":true,\"texttemplate\":\"%{value:.2s}\",\"x\":[\"stiri/economie\"],\"xaxis\":\"x\",\"y\":[2802],\"yaxis\":\"y\",\"type\":\"histogram\"},{\"alignmentgroup\":\"True\",\"bingroup\":\"x\",\"histfunc\":\"sum\",\"hovertemplate\":\"word=Editor<br>domain=%{x}<br>sum of word_freq=%{y}<extra></extra>\",\"legendgroup\":\"Editor\",\"marker\":{\"color\":\"#FF6692\",\"pattern\":{\"shape\":\"\"}},\"name\":\"Editor\",\"offsetgroup\":\"Editor\",\"orientation\":\"v\",\"showlegend\":true,\"texttemplate\":\"%{value:.2s}\",\"x\":[\"stiri/externe\",\"stiri/actualitate\",\"stiri/sci-tech\"],\"xaxis\":\"x\",\"y\":[16192,10840,1357],\"yaxis\":\"y\",\"type\":\"histogram\"},{\"alignmentgroup\":\"True\",\"bingroup\":\"x\",\"histfunc\":\"sum\",\"hovertemplate\":\"word=Agerpres<br>domain=%{x}<br>sum of word_freq=%{y}<extra></extra>\",\"legendgroup\":\"Agerpres\",\"marker\":{\"color\":\"#B6E880\",\"pattern\":{\"shape\":\"\"}},\"name\":\"Agerpres\",\"offsetgroup\":\"Agerpres\",\"orientation\":\"v\",\"showlegend\":true,\"texttemplate\":\"%{value:.2s}\",\"x\":[\"stiri/externe\",\"stiri/sci-tech\"],\"xaxis\":\"x\",\"y\":[7076,412],\"yaxis\":\"y\",\"type\":\"histogram\"},{\"alignmentgroup\":\"True\",\"bingroup\":\"x\",\"histfunc\":\"sum\",\"hovertemplate\":\"word=China<br>domain=%{x}<br>sum of word_freq=%{y}<extra></extra>\",\"legendgroup\":\"China\",\"marker\":{\"color\":\"#FF97FF\",\"pattern\":{\"shape\":\"\"}},\"name\":\"China\",\"offsetgroup\":\"China\",\"orientation\":\"v\",\"showlegend\":true,\"texttemplate\":\"%{value:.2s}\",\"x\":[\"stiri/externe\"],\"xaxis\":\"x\",\"y\":[6395],\"yaxis\":\"y\",\"type\":\"histogram\"},{\"alignmentgroup\":\"True\",\"bingroup\":\"x\",\"histfunc\":\"sum\",\"hovertemplate\":\"word=PNL<br>domain=%{x}<br>sum of word_freq=%{y}<extra></extra>\",\"legendgroup\":\"PNL\",\"marker\":{\"color\":\"#FECB52\",\"pattern\":{\"shape\":\"\"}},\"name\":\"PNL\",\"offsetgroup\":\"PNL\",\"orientation\":\"v\",\"showlegend\":true,\"texttemplate\":\"%{value:.2s}\",\"x\":[\"stiri/actualitate\",\"stiri/actualitate/politica\"],\"xaxis\":\"x\",\"y\":[7823,21379],\"yaxis\":\"y\",\"type\":\"histogram\"},{\"alignmentgroup\":\"True\",\"bingroup\":\"x\",\"histfunc\":\"sum\",\"hovertemplate\":\"word=Parlament<br>domain=%{x}<br>sum of word_freq=%{y}<extra></extra>\",\"legendgroup\":\"Parlament\",\"marker\":{\"color\":\"#636efa\",\"pattern\":{\"shape\":\"\"}},\"name\":\"Parlament\",\"offsetgroup\":\"Parlament\",\"orientation\":\"v\",\"showlegend\":true,\"texttemplate\":\"%{value:.2s}\",\"x\":[\"stiri/actualitate/politica\"],\"xaxis\":\"x\",\"y\":[10136],\"yaxis\":\"y\",\"type\":\"histogram\"},{\"alignmentgroup\":\"True\",\"bingroup\":\"x\",\"histfunc\":\"sum\",\"hovertemplate\":\"word=Liviu Dragnea<br>domain=%{x}<br>sum of word_freq=%{y}<extra></extra>\",\"legendgroup\":\"Liviu Dragnea\",\"marker\":{\"color\":\"#EF553B\",\"pattern\":{\"shape\":\"\"}},\"name\":\"Liviu Dragnea\",\"offsetgroup\":\"Liviu Dragnea\",\"orientation\":\"v\",\"showlegend\":true,\"texttemplate\":\"%{value:.2s}\",\"x\":[\"stiri/actualitate/politica\"],\"xaxis\":\"x\",\"y\":[9331],\"yaxis\":\"y\",\"type\":\"histogram\"},{\"alignmentgroup\":\"True\",\"bingroup\":\"x\",\"histfunc\":\"sum\",\"hovertemplate\":\"word=Pre\\u0219edintele<br>domain=%{x}<br>sum of word_freq=%{y}<extra></extra>\",\"legendgroup\":\"Pre\\u0219edintele\",\"marker\":{\"color\":\"#00cc96\",\"pattern\":{\"shape\":\"\"}},\"name\":\"Pre\\u0219edintele\",\"offsetgroup\":\"Pre\\u0219edintele\",\"orientation\":\"v\",\"showlegend\":true,\"texttemplate\":\"%{value:.2s}\",\"x\":[\"stiri/actualitate/politica\"],\"xaxis\":\"x\",\"y\":[7654],\"yaxis\":\"y\",\"type\":\"histogram\"},{\"alignmentgroup\":\"True\",\"bingroup\":\"x\",\"histfunc\":\"sum\",\"hovertemplate\":\"word=Simona Halep<br>domain=%{x}<br>sum of word_freq=%{y}<extra></extra>\",\"legendgroup\":\"Simona Halep\",\"marker\":{\"color\":\"#ab63fa\",\"pattern\":{\"shape\":\"\"}},\"name\":\"Simona Halep\",\"offsetgroup\":\"Simona Halep\",\"orientation\":\"v\",\"showlegend\":true,\"texttemplate\":\"%{value:.2s}\",\"x\":[\"stiri/sport\"],\"xaxis\":\"x\",\"y\":[4018],\"yaxis\":\"y\",\"type\":\"histogram\"},{\"alignmentgroup\":\"True\",\"bingroup\":\"x\",\"histfunc\":\"sum\",\"hovertemplate\":\"word=Halep<br>domain=%{x}<br>sum of word_freq=%{y}<extra></extra>\",\"legendgroup\":\"Halep\",\"marker\":{\"color\":\"#FFA15A\",\"pattern\":{\"shape\":\"\"}},\"name\":\"Halep\",\"offsetgroup\":\"Halep\",\"orientation\":\"v\",\"showlegend\":true,\"texttemplate\":\"%{value:.2s}\",\"x\":[\"stiri/sport\"],\"xaxis\":\"x\",\"y\":[1194],\"yaxis\":\"y\",\"type\":\"histogram\"},{\"alignmentgroup\":\"True\",\"bingroup\":\"x\",\"histfunc\":\"sum\",\"hovertemplate\":\"word=al doilea<br>domain=%{x}<br>sum of word_freq=%{y}<extra></extra>\",\"legendgroup\":\"al doilea\",\"marker\":{\"color\":\"#19d3f3\",\"pattern\":{\"shape\":\"\"}},\"name\":\"al doilea\",\"offsetgroup\":\"al doilea\",\"orientation\":\"v\",\"showlegend\":true,\"texttemplate\":\"%{value:.2s}\",\"x\":[\"stiri/sport\"],\"xaxis\":\"x\",\"y\":[1045],\"yaxis\":\"y\",\"type\":\"histogram\"},{\"alignmentgroup\":\"True\",\"bingroup\":\"x\",\"histfunc\":\"sum\",\"hovertemplate\":\"word=Fran\\u021ba<br>domain=%{x}<br>sum of word_freq=%{y}<extra></extra>\",\"legendgroup\":\"Fran\\u021ba\",\"marker\":{\"color\":\"#FF6692\",\"pattern\":{\"shape\":\"\"}},\"name\":\"Fran\\u021ba\",\"offsetgroup\":\"Fran\\u021ba\",\"orientation\":\"v\",\"showlegend\":true,\"texttemplate\":\"%{value:.2s}\",\"x\":[\"stiri/sport\"],\"xaxis\":\"x\",\"y\":[775],\"yaxis\":\"y\",\"type\":\"histogram\"},{\"alignmentgroup\":\"True\",\"bingroup\":\"x\",\"histfunc\":\"sum\",\"hovertemplate\":\"word=NASA<br>domain=%{x}<br>sum of word_freq=%{y}<extra></extra>\",\"legendgroup\":\"NASA\",\"marker\":{\"color\":\"#B6E880\",\"pattern\":{\"shape\":\"\"}},\"name\":\"NASA\",\"offsetgroup\":\"NASA\",\"orientation\":\"v\",\"showlegend\":true,\"texttemplate\":\"%{value:.2s}\",\"x\":[\"stiri/sci-tech\"],\"xaxis\":\"x\",\"y\":[567],\"yaxis\":\"y\",\"type\":\"histogram\"},{\"alignmentgroup\":\"True\",\"bingroup\":\"x\",\"histfunc\":\"sum\",\"hovertemplate\":\"word=Marte<br>domain=%{x}<br>sum of word_freq=%{y}<extra></extra>\",\"legendgroup\":\"Marte\",\"marker\":{\"color\":\"#FF97FF\",\"pattern\":{\"shape\":\"\"}},\"name\":\"Marte\",\"offsetgroup\":\"Marte\",\"orientation\":\"v\",\"showlegend\":true,\"texttemplate\":\"%{value:.2s}\",\"x\":[\"stiri/sci-tech\"],\"xaxis\":\"x\",\"y\":[510],\"yaxis\":\"y\",\"type\":\"histogram\"},{\"alignmentgroup\":\"True\",\"bingroup\":\"x\",\"histfunc\":\"sum\",\"hovertemplate\":\"word=cercet\\u0103torii<br>domain=%{x}<br>sum of word_freq=%{y}<extra></extra>\",\"legendgroup\":\"cercet\\u0103torii\",\"marker\":{\"color\":\"#FECB52\",\"pattern\":{\"shape\":\"\"}},\"name\":\"cercet\\u0103torii\",\"offsetgroup\":\"cercet\\u0103torii\",\"orientation\":\"v\",\"showlegend\":true,\"texttemplate\":\"%{value:.2s}\",\"x\":[\"stiri/sci-tech\"],\"xaxis\":\"x\",\"y\":[415],\"yaxis\":\"y\",\"type\":\"histogram\"}],                        {\"template\":{\"data\":{\"bar\":[{\"error_x\":{\"color\":\"#2a3f5f\"},\"error_y\":{\"color\":\"#2a3f5f\"},\"marker\":{\"line\":{\"color\":\"#E5ECF6\",\"width\":0.5},\"pattern\":{\"fillmode\":\"overlay\",\"size\":10,\"solidity\":0.2}},\"type\":\"bar\"}],\"barpolar\":[{\"marker\":{\"line\":{\"color\":\"#E5ECF6\",\"width\":0.5},\"pattern\":{\"fillmode\":\"overlay\",\"size\":10,\"solidity\":0.2}},\"type\":\"barpolar\"}],\"carpet\":[{\"aaxis\":{\"endlinecolor\":\"#2a3f5f\",\"gridcolor\":\"white\",\"linecolor\":\"white\",\"minorgridcolor\":\"white\",\"startlinecolor\":\"#2a3f5f\"},\"baxis\":{\"endlinecolor\":\"#2a3f5f\",\"gridcolor\":\"white\",\"linecolor\":\"white\",\"minorgridcolor\":\"white\",\"startlinecolor\":\"#2a3f5f\"},\"type\":\"carpet\"}],\"choropleth\":[{\"colorbar\":{\"outlinewidth\":0,\"ticks\":\"\"},\"type\":\"choropleth\"}],\"contour\":[{\"colorbar\":{\"outlinewidth\":0,\"ticks\":\"\"},\"colorscale\":[[0.0,\"#0d0887\"],[0.1111111111111111,\"#46039f\"],[0.2222222222222222,\"#7201a8\"],[0.3333333333333333,\"#9c179e\"],[0.4444444444444444,\"#bd3786\"],[0.5555555555555556,\"#d8576b\"],[0.6666666666666666,\"#ed7953\"],[0.7777777777777778,\"#fb9f3a\"],[0.8888888888888888,\"#fdca26\"],[1.0,\"#f0f921\"]],\"type\":\"contour\"}],\"contourcarpet\":[{\"colorbar\":{\"outlinewidth\":0,\"ticks\":\"\"},\"type\":\"contourcarpet\"}],\"heatmap\":[{\"colorbar\":{\"outlinewidth\":0,\"ticks\":\"\"},\"colorscale\":[[0.0,\"#0d0887\"],[0.1111111111111111,\"#46039f\"],[0.2222222222222222,\"#7201a8\"],[0.3333333333333333,\"#9c179e\"],[0.4444444444444444,\"#bd3786\"],[0.5555555555555556,\"#d8576b\"],[0.6666666666666666,\"#ed7953\"],[0.7777777777777778,\"#fb9f3a\"],[0.8888888888888888,\"#fdca26\"],[1.0,\"#f0f921\"]],\"type\":\"heatmap\"}],\"heatmapgl\":[{\"colorbar\":{\"outlinewidth\":0,\"ticks\":\"\"},\"colorscale\":[[0.0,\"#0d0887\"],[0.1111111111111111,\"#46039f\"],[0.2222222222222222,\"#7201a8\"],[0.3333333333333333,\"#9c179e\"],[0.4444444444444444,\"#bd3786\"],[0.5555555555555556,\"#d8576b\"],[0.6666666666666666,\"#ed7953\"],[0.7777777777777778,\"#fb9f3a\"],[0.8888888888888888,\"#fdca26\"],[1.0,\"#f0f921\"]],\"type\":\"heatmapgl\"}],\"histogram\":[{\"marker\":{\"pattern\":{\"fillmode\":\"overlay\",\"size\":10,\"solidity\":0.2}},\"type\":\"histogram\"}],\"histogram2d\":[{\"colorbar\":{\"outlinewidth\":0,\"ticks\":\"\"},\"colorscale\":[[0.0,\"#0d0887\"],[0.1111111111111111,\"#46039f\"],[0.2222222222222222,\"#7201a8\"],[0.3333333333333333,\"#9c179e\"],[0.4444444444444444,\"#bd3786\"],[0.5555555555555556,\"#d8576b\"],[0.6666666666666666,\"#ed7953\"],[0.7777777777777778,\"#fb9f3a\"],[0.8888888888888888,\"#fdca26\"],[1.0,\"#f0f921\"]],\"type\":\"histogram2d\"}],\"histogram2dcontour\":[{\"colorbar\":{\"outlinewidth\":0,\"ticks\":\"\"},\"colorscale\":[[0.0,\"#0d0887\"],[0.1111111111111111,\"#46039f\"],[0.2222222222222222,\"#7201a8\"],[0.3333333333333333,\"#9c179e\"],[0.4444444444444444,\"#bd3786\"],[0.5555555555555556,\"#d8576b\"],[0.6666666666666666,\"#ed7953\"],[0.7777777777777778,\"#fb9f3a\"],[0.8888888888888888,\"#fdca26\"],[1.0,\"#f0f921\"]],\"type\":\"histogram2dcontour\"}],\"mesh3d\":[{\"colorbar\":{\"outlinewidth\":0,\"ticks\":\"\"},\"type\":\"mesh3d\"}],\"parcoords\":[{\"line\":{\"colorbar\":{\"outlinewidth\":0,\"ticks\":\"\"}},\"type\":\"parcoords\"}],\"pie\":[{\"automargin\":true,\"type\":\"pie\"}],\"scatter\":[{\"marker\":{\"colorbar\":{\"outlinewidth\":0,\"ticks\":\"\"}},\"type\":\"scatter\"}],\"scatter3d\":[{\"line\":{\"colorbar\":{\"outlinewidth\":0,\"ticks\":\"\"}},\"marker\":{\"colorbar\":{\"outlinewidth\":0,\"ticks\":\"\"}},\"type\":\"scatter3d\"}],\"scattercarpet\":[{\"marker\":{\"colorbar\":{\"outlinewidth\":0,\"ticks\":\"\"}},\"type\":\"scattercarpet\"}],\"scattergeo\":[{\"marker\":{\"colorbar\":{\"outlinewidth\":0,\"ticks\":\"\"}},\"type\":\"scattergeo\"}],\"scattergl\":[{\"marker\":{\"colorbar\":{\"outlinewidth\":0,\"ticks\":\"\"}},\"type\":\"scattergl\"}],\"scattermapbox\":[{\"marker\":{\"colorbar\":{\"outlinewidth\":0,\"ticks\":\"\"}},\"type\":\"scattermapbox\"}],\"scatterpolar\":[{\"marker\":{\"colorbar\":{\"outlinewidth\":0,\"ticks\":\"\"}},\"type\":\"scatterpolar\"}],\"scatterpolargl\":[{\"marker\":{\"colorbar\":{\"outlinewidth\":0,\"ticks\":\"\"}},\"type\":\"scatterpolargl\"}],\"scatterternary\":[{\"marker\":{\"colorbar\":{\"outlinewidth\":0,\"ticks\":\"\"}},\"type\":\"scatterternary\"}],\"surface\":[{\"colorbar\":{\"outlinewidth\":0,\"ticks\":\"\"},\"colorscale\":[[0.0,\"#0d0887\"],[0.1111111111111111,\"#46039f\"],[0.2222222222222222,\"#7201a8\"],[0.3333333333333333,\"#9c179e\"],[0.4444444444444444,\"#bd3786\"],[0.5555555555555556,\"#d8576b\"],[0.6666666666666666,\"#ed7953\"],[0.7777777777777778,\"#fb9f3a\"],[0.8888888888888888,\"#fdca26\"],[1.0,\"#f0f921\"]],\"type\":\"surface\"}],\"table\":[{\"cells\":{\"fill\":{\"color\":\"#EBF0F8\"},\"line\":{\"color\":\"white\"}},\"header\":{\"fill\":{\"color\":\"#C8D4E3\"},\"line\":{\"color\":\"white\"}},\"type\":\"table\"}]},\"layout\":{\"annotationdefaults\":{\"arrowcolor\":\"#2a3f5f\",\"arrowhead\":0,\"arrowwidth\":1},\"autotypenumbers\":\"strict\",\"coloraxis\":{\"colorbar\":{\"outlinewidth\":0,\"ticks\":\"\"}},\"colorscale\":{\"diverging\":[[0,\"#8e0152\"],[0.1,\"#c51b7d\"],[0.2,\"#de77ae\"],[0.3,\"#f1b6da\"],[0.4,\"#fde0ef\"],[0.5,\"#f7f7f7\"],[0.6,\"#e6f5d0\"],[0.7,\"#b8e186\"],[0.8,\"#7fbc41\"],[0.9,\"#4d9221\"],[1,\"#276419\"]],\"sequential\":[[0.0,\"#0d0887\"],[0.1111111111111111,\"#46039f\"],[0.2222222222222222,\"#7201a8\"],[0.3333333333333333,\"#9c179e\"],[0.4444444444444444,\"#bd3786\"],[0.5555555555555556,\"#d8576b\"],[0.6666666666666666,\"#ed7953\"],[0.7777777777777778,\"#fb9f3a\"],[0.8888888888888888,\"#fdca26\"],[1.0,\"#f0f921\"]],\"sequentialminus\":[[0.0,\"#0d0887\"],[0.1111111111111111,\"#46039f\"],[0.2222222222222222,\"#7201a8\"],[0.3333333333333333,\"#9c179e\"],[0.4444444444444444,\"#bd3786\"],[0.5555555555555556,\"#d8576b\"],[0.6666666666666666,\"#ed7953\"],[0.7777777777777778,\"#fb9f3a\"],[0.8888888888888888,\"#fdca26\"],[1.0,\"#f0f921\"]]},\"colorway\":[\"#636efa\",\"#EF553B\",\"#00cc96\",\"#ab63fa\",\"#FFA15A\",\"#19d3f3\",\"#FF6692\",\"#B6E880\",\"#FF97FF\",\"#FECB52\"],\"font\":{\"color\":\"#2a3f5f\"},\"geo\":{\"bgcolor\":\"white\",\"lakecolor\":\"white\",\"landcolor\":\"#E5ECF6\",\"showlakes\":true,\"showland\":true,\"subunitcolor\":\"white\"},\"hoverlabel\":{\"align\":\"left\"},\"hovermode\":\"closest\",\"mapbox\":{\"style\":\"light\"},\"paper_bgcolor\":\"white\",\"plot_bgcolor\":\"#E5ECF6\",\"polar\":{\"angularaxis\":{\"gridcolor\":\"white\",\"linecolor\":\"white\",\"ticks\":\"\"},\"bgcolor\":\"#E5ECF6\",\"radialaxis\":{\"gridcolor\":\"white\",\"linecolor\":\"white\",\"ticks\":\"\"}},\"scene\":{\"xaxis\":{\"backgroundcolor\":\"#E5ECF6\",\"gridcolor\":\"white\",\"gridwidth\":2,\"linecolor\":\"white\",\"showbackground\":true,\"ticks\":\"\",\"zerolinecolor\":\"white\"},\"yaxis\":{\"backgroundcolor\":\"#E5ECF6\",\"gridcolor\":\"white\",\"gridwidth\":2,\"linecolor\":\"white\",\"showbackground\":true,\"ticks\":\"\",\"zerolinecolor\":\"white\"},\"zaxis\":{\"backgroundcolor\":\"#E5ECF6\",\"gridcolor\":\"white\",\"gridwidth\":2,\"linecolor\":\"white\",\"showbackground\":true,\"ticks\":\"\",\"zerolinecolor\":\"white\"}},\"shapedefaults\":{\"line\":{\"color\":\"#2a3f5f\"}},\"ternary\":{\"aaxis\":{\"gridcolor\":\"white\",\"linecolor\":\"white\",\"ticks\":\"\"},\"baxis\":{\"gridcolor\":\"white\",\"linecolor\":\"white\",\"ticks\":\"\"},\"bgcolor\":\"#E5ECF6\",\"caxis\":{\"gridcolor\":\"white\",\"linecolor\":\"white\",\"ticks\":\"\"}},\"title\":{\"x\":0.05},\"xaxis\":{\"automargin\":true,\"gridcolor\":\"white\",\"linecolor\":\"white\",\"ticks\":\"\",\"title\":{\"standoff\":15},\"zerolinecolor\":\"white\",\"zerolinewidth\":2},\"yaxis\":{\"automargin\":true,\"gridcolor\":\"white\",\"linecolor\":\"white\",\"ticks\":\"\",\"title\":{\"standoff\":15},\"zerolinecolor\":\"white\",\"zerolinewidth\":2}}},\"xaxis\":{\"anchor\":\"y\",\"domain\":[0.0,1.0],\"title\":{\"text\":\"domain\"}},\"yaxis\":{\"anchor\":\"x\",\"domain\":[0.0,1.0],\"title\":{\"text\":\"sum of word_freq\"}},\"legend\":{\"title\":{\"text\":\"word\"},\"tracegroupgap\":0},\"margin\":{\"t\":60},\"barmode\":\"relative\"},                        {\"responsive\": true}                    ).then(function(){\n",
       "                            \n",
       "var gd = document.getElementById('a1f382b9-e1af-4112-bace-a6097a11ebf7');\n",
       "var x = new MutationObserver(function (mutations, observer) {{\n",
       "        var display = window.getComputedStyle(gd).display;\n",
       "        if (!display || display === 'none') {{\n",
       "            console.log([gd, 'removed!']);\n",
       "            Plotly.purge(gd);\n",
       "            observer.disconnect();\n",
       "        }}\n",
       "}});\n",
       "\n",
       "// Listen for the removal of the full notebook cells\n",
       "var notebookContainer = gd.closest('#notebook-container');\n",
       "if (notebookContainer) {{\n",
       "    x.observe(notebookContainer, {childList: true});\n",
       "}}\n",
       "\n",
       "// Listen for the clearing of the current output cell\n",
       "var outputEl = gd.closest('.output');\n",
       "if (outputEl) {{\n",
       "    x.observe(outputEl, {childList: true});\n",
       "}}\n",
       "\n",
       "                        })                };                });            </script>        </div>"
      ]
     },
     "metadata": {},
     "output_type": "display_data"
    }
   ],
   "source": [
    "domains = []\n",
    "for domain in domain_word_count:\n",
    "    sorted_tags = dict(sorted(domain[\"ner_object_frequecy\"].items(), key=lambda item: item[1],  reverse=True))\n",
    "    index: int = 10\n",
    "\n",
    "    for word in sorted_tags:\n",
    "        domains.append(\n",
    "            {\n",
    "                \"domain\": domain[\"domain\"],\n",
    "                \"type\": domain[\"type\"],\n",
    "                \"word\": word,\n",
    "                \"word_freq\": domain[\"ner_object_frequecy\"][word],\n",
    "            }\n",
    "        )\n",
    "        index -= 1\n",
    "        if index == 0:\n",
    "            break\n",
    "\n",
    "fig = px.histogram(\n",
    "    domains, x=\"domain\", y=\"word_freq\", color=\"word\", text_auto=\".2s\"\n",
    ")\n",
    "fig.show()"
   ]
  },
  {
   "cell_type": "code",
   "execution_count": 73,
   "metadata": {},
   "outputs": [
    {
     "data": {
      "text/html": [
       "<div>                            <div id=\"35940325-0543-4e97-b382-c361cd2ed52c\" class=\"plotly-graph-div\" style=\"height:525px; width:100%;\"></div>            <script type=\"text/javascript\">                require([\"plotly\"], function(Plotly) {                    window.PLOTLYENV=window.PLOTLYENV || {};                                    if (document.getElementById(\"35940325-0543-4e97-b382-c361cd2ed52c\")) {                    Plotly.newPlot(                        \"35940325-0543-4e97-b382-c361cd2ed52c\",                        [{\"alignmentgroup\":\"True\",\"bingroup\":\"x\",\"histfunc\":\"sum\",\"hovertemplate\":\"word=el<br>domain=%{x}<br>sum of word_freq=%{y}<extra></extra>\",\"legendgroup\":\"el\",\"marker\":{\"color\":\"#636efa\",\"pattern\":{\"shape\":\"\"}},\"name\":\"el\",\"offsetgroup\":\"el\",\"orientation\":\"v\",\"showlegend\":true,\"texttemplate\":\"%{value:.2s}\",\"x\":[\"monden/\",\"it-stiinta/\",\"sport/\",\"politic/\",\"life-death/\",\"stiri/actualitate/politica\",\"stiri/sci-tech\"],\"xaxis\":\"x\",\"y\":[1026,194,251,812,836,6978,447],\"yaxis\":\"y\",\"type\":\"histogram\"},{\"alignmentgroup\":\"True\",\"bingroup\":\"x\",\"histfunc\":\"sum\",\"hovertemplate\":\"word=Rom\\u00e2nia<br>domain=%{x}<br>sum of word_freq=%{y}<extra></extra>\",\"legendgroup\":\"Rom\\u00e2nia\",\"marker\":{\"color\":\"#EF553B\",\"pattern\":{\"shape\":\"\"}},\"name\":\"Rom\\u00e2nia\",\"offsetgroup\":\"Rom\\u00e2nia\",\"orientation\":\"v\",\"showlegend\":true,\"texttemplate\":\"%{value:.2s}\",\"x\":[\"monden/\",\"it-stiinta/\",\"sport/\",\"politic/\",\"life-death/\",\"stiri/economie\",\"stiri/actualitate\",\"stiri/actualitate/politica\",\"stiri/sport\",\"stiri/sci-tech\"],\"xaxis\":\"x\",\"y\":[1012,302,231,1217,1304,20665,25462,26490,2335,823],\"yaxis\":\"y\",\"type\":\"histogram\"},{\"alignmentgroup\":\"True\",\"bingroup\":\"x\",\"histfunc\":\"sum\",\"hovertemplate\":\"word=rom\\u00e2ni<br>domain=%{x}<br>sum of word_freq=%{y}<extra></extra>\",\"legendgroup\":\"rom\\u00e2ni\",\"marker\":{\"color\":\"#00cc96\",\"pattern\":{\"shape\":\"\"}},\"name\":\"rom\\u00e2ni\",\"offsetgroup\":\"rom\\u00e2ni\",\"orientation\":\"v\",\"showlegend\":true,\"texttemplate\":\"%{value:.2s}\",\"x\":[\"monden/\",\"it-stiinta/\",\"sport/\",\"politic/\",\"life-death/\",\"\",\"stiri/actualitate\"],\"xaxis\":\"x\",\"y\":[900,308,201,809,1182,909,8205],\"yaxis\":\"y\",\"type\":\"histogram\"},{\"alignmentgroup\":\"True\",\"bingroup\":\"x\",\"histfunc\":\"sum\",\"hovertemplate\":\"word=dou\\u0103<br>domain=%{x}<br>sum of word_freq=%{y}<extra></extra>\",\"legendgroup\":\"dou\\u0103\",\"marker\":{\"color\":\"#ab63fa\",\"pattern\":{\"shape\":\"\"}},\"name\":\"dou\\u0103\",\"offsetgroup\":\"dou\\u0103\",\"orientation\":\"v\",\"showlegend\":true,\"texttemplate\":\"%{value:.2s}\",\"x\":[\"monden/\",\"it-stiinta/\",\"sport/\",\"politic/\",\"life-death/\",\"stiri/economie\",\"stiri/externe\",\"stiri/actualitate\",\"stiri/actualitate/politica\",\"stiri/sport\",\"stiri/sci-tech\"],\"xaxis\":\"x\",\"y\":[727,191,149,554,737,6535,7780,12830,10197,2434,706],\"yaxis\":\"y\",\"type\":\"histogram\"},{\"alignmentgroup\":\"True\",\"bingroup\":\"x\",\"histfunc\":\"sum\",\"hovertemplate\":\"word=Bucure\\u0219ti<br>domain=%{x}<br>sum of word_freq=%{y}<extra></extra>\",\"legendgroup\":\"Bucure\\u0219ti\",\"marker\":{\"color\":\"#FFA15A\",\"pattern\":{\"shape\":\"\"}},\"name\":\"Bucure\\u0219ti\",\"offsetgroup\":\"Bucure\\u0219ti\",\"orientation\":\"v\",\"showlegend\":true,\"texttemplate\":\"%{value:.2s}\",\"x\":[\"monden/\",\"it-stiinta/\",\"politic/\",\"life-death/\",\"stiri/economie\",\"stiri/actualitate\"],\"xaxis\":\"x\",\"y\":[593,120,530,775,4178,10261],\"yaxis\":\"y\",\"type\":\"histogram\"},{\"alignmentgroup\":\"True\",\"bingroup\":\"x\",\"histfunc\":\"sum\",\"hovertemplate\":\"word=rom\\u00e2n<br>domain=%{x}<br>sum of word_freq=%{y}<extra></extra>\",\"legendgroup\":\"rom\\u00e2n\",\"marker\":{\"color\":\"#19d3f3\",\"pattern\":{\"shape\":\"\"}},\"name\":\"rom\\u00e2n\",\"offsetgroup\":\"rom\\u00e2n\",\"orientation\":\"v\",\"showlegend\":true,\"texttemplate\":\"%{value:.2s}\",\"x\":[\"monden/\",\"it-stiinta/\",\"sport/\",\"life-death/\"],\"xaxis\":\"x\",\"y\":[582,245,136,635],\"yaxis\":\"y\",\"type\":\"histogram\"},{\"alignmentgroup\":\"True\",\"bingroup\":\"x\",\"histfunc\":\"sum\",\"hovertemplate\":\"word=prima<br>domain=%{x}<br>sum of word_freq=%{y}<extra></extra>\",\"legendgroup\":\"prima\",\"marker\":{\"color\":\"#FF6692\",\"pattern\":{\"shape\":\"\"}},\"name\":\"prima\",\"offsetgroup\":\"prima\",\"orientation\":\"v\",\"showlegend\":true,\"texttemplate\":\"%{value:.2s}\",\"x\":[\"monden/\",\"life-death/\",\"stiri/economie\",\"stiri/sport\",\"stiri/sci-tech\"],\"xaxis\":\"x\",\"y\":[511,461,2811,1479,583],\"yaxis\":\"y\",\"type\":\"histogram\"},{\"alignmentgroup\":\"True\",\"bingroup\":\"x\",\"histfunc\":\"sum\",\"hovertemplate\":\"word=rom\\u00e2nii<br>domain=%{x}<br>sum of word_freq=%{y}<extra></extra>\",\"legendgroup\":\"rom\\u00e2nii\",\"marker\":{\"color\":\"#B6E880\",\"pattern\":{\"shape\":\"\"}},\"name\":\"rom\\u00e2nii\",\"offsetgroup\":\"rom\\u00e2nii\",\"orientation\":\"v\",\"showlegend\":true,\"texttemplate\":\"%{value:.2s}\",\"x\":[\"monden/\",\"it-stiinta/\",\"politic/\",\"life-death/\"],\"xaxis\":\"x\",\"y\":[510,185,638,780],\"yaxis\":\"y\",\"type\":\"histogram\"},{\"alignmentgroup\":\"True\",\"bingroup\":\"x\",\"histfunc\":\"sum\",\"hovertemplate\":\"word=doi<br>domain=%{x}<br>sum of word_freq=%{y}<extra></extra>\",\"legendgroup\":\"doi\",\"marker\":{\"color\":\"#FF97FF\",\"pattern\":{\"shape\":\"\"}},\"name\":\"doi\",\"offsetgroup\":\"doi\",\"orientation\":\"v\",\"showlegend\":true,\"texttemplate\":\"%{value:.2s}\",\"x\":[\"monden/\"],\"xaxis\":\"x\",\"y\":[493],\"yaxis\":\"y\",\"type\":\"histogram\"},{\"alignmentgroup\":\"True\",\"bingroup\":\"x\",\"histfunc\":\"sum\",\"hovertemplate\":\"word=Decebal Popescu<br>domain=%{x}<br>sum of word_freq=%{y}<extra></extra>\",\"legendgroup\":\"Decebal Popescu\",\"marker\":{\"color\":\"#FECB52\",\"pattern\":{\"shape\":\"\"}},\"name\":\"Decebal Popescu\",\"offsetgroup\":\"Decebal Popescu\",\"orientation\":\"v\",\"showlegend\":true,\"texttemplate\":\"%{value:.2s}\",\"x\":[\"monden/\",\"it-stiinta/\"],\"xaxis\":\"x\",\"y\":[426,183],\"yaxis\":\"y\",\"type\":\"histogram\"},{\"alignmentgroup\":\"True\",\"bingroup\":\"x\",\"histfunc\":\"sum\",\"hovertemplate\":\"word=po\\u021bi<br>domain=%{x}<br>sum of word_freq=%{y}<extra></extra>\",\"legendgroup\":\"po\\u021bi\",\"marker\":{\"color\":\"#636efa\",\"pattern\":{\"shape\":\"\"}},\"name\":\"po\\u021bi\",\"offsetgroup\":\"po\\u021bi\",\"orientation\":\"v\",\"showlegend\":true,\"texttemplate\":\"%{value:.2s}\",\"x\":[\"it-stiinta/\"],\"xaxis\":\"x\",\"y\":[131],\"yaxis\":\"y\",\"type\":\"histogram\"},{\"alignmentgroup\":\"True\",\"bingroup\":\"x\",\"histfunc\":\"sum\",\"hovertemplate\":\"word=primul<br>domain=%{x}<br>sum of word_freq=%{y}<extra></extra>\",\"legendgroup\":\"primul\",\"marker\":{\"color\":\"#EF553B\",\"pattern\":{\"shape\":\"\"}},\"name\":\"primul\",\"offsetgroup\":\"primul\",\"orientation\":\"v\",\"showlegend\":true,\"texttemplate\":\"%{value:.2s}\",\"x\":[\"it-stiinta/\",\"life-death/\",\"stiri/sport\"],\"xaxis\":\"x\",\"y\":[129,426,2376],\"yaxis\":\"y\",\"type\":\"histogram\"},{\"alignmentgroup\":\"True\",\"bingroup\":\"x\",\"histfunc\":\"sum\",\"hovertemplate\":\"word=Gigi Becali<br>domain=%{x}<br>sum of word_freq=%{y}<extra></extra>\",\"legendgroup\":\"Gigi Becali\",\"marker\":{\"color\":\"#00cc96\",\"pattern\":{\"shape\":\"\"}},\"name\":\"Gigi Becali\",\"offsetgroup\":\"Gigi Becali\",\"orientation\":\"v\",\"showlegend\":true,\"texttemplate\":\"%{value:.2s}\",\"x\":[\"sport/\"],\"xaxis\":\"x\",\"y\":[299],\"yaxis\":\"y\",\"type\":\"histogram\"},{\"alignmentgroup\":\"True\",\"bingroup\":\"x\",\"histfunc\":\"sum\",\"hovertemplate\":\"word=Steaua<br>domain=%{x}<br>sum of word_freq=%{y}<extra></extra>\",\"legendgroup\":\"Steaua\",\"marker\":{\"color\":\"#ab63fa\",\"pattern\":{\"shape\":\"\"}},\"name\":\"Steaua\",\"offsetgroup\":\"Steaua\",\"orientation\":\"v\",\"showlegend\":true,\"texttemplate\":\"%{value:.2s}\",\"x\":[\"sport/\"],\"xaxis\":\"x\",\"y\":[199],\"yaxis\":\"y\",\"type\":\"histogram\"},{\"alignmentgroup\":\"True\",\"bingroup\":\"x\",\"histfunc\":\"sum\",\"hovertemplate\":\"word=Dinamo<br>domain=%{x}<br>sum of word_freq=%{y}<extra></extra>\",\"legendgroup\":\"Dinamo\",\"marker\":{\"color\":\"#FFA15A\",\"pattern\":{\"shape\":\"\"}},\"name\":\"Dinamo\",\"offsetgroup\":\"Dinamo\",\"orientation\":\"v\",\"showlegend\":true,\"texttemplate\":\"%{value:.2s}\",\"x\":[\"sport/\"],\"xaxis\":\"x\",\"y\":[192],\"yaxis\":\"y\",\"type\":\"histogram\"},{\"alignmentgroup\":\"True\",\"bingroup\":\"x\",\"histfunc\":\"sum\",\"hovertemplate\":\"word=Becali<br>domain=%{x}<br>sum of word_freq=%{y}<extra></extra>\",\"legendgroup\":\"Becali\",\"marker\":{\"color\":\"#19d3f3\",\"pattern\":{\"shape\":\"\"}},\"name\":\"Becali\",\"offsetgroup\":\"Becali\",\"orientation\":\"v\",\"showlegend\":true,\"texttemplate\":\"%{value:.2s}\",\"x\":[\"sport/\"],\"xaxis\":\"x\",\"y\":[163],\"yaxis\":\"y\",\"type\":\"histogram\"},{\"alignmentgroup\":\"True\",\"bingroup\":\"x\",\"histfunc\":\"sum\",\"hovertemplate\":\"word=juc\\u0103tori<br>domain=%{x}<br>sum of word_freq=%{y}<extra></extra>\",\"legendgroup\":\"juc\\u0103tori\",\"marker\":{\"color\":\"#FF6692\",\"pattern\":{\"shape\":\"\"}},\"name\":\"juc\\u0103tori\",\"offsetgroup\":\"juc\\u0103tori\",\"orientation\":\"v\",\"showlegend\":true,\"texttemplate\":\"%{value:.2s}\",\"x\":[\"sport/\"],\"xaxis\":\"x\",\"y\":[139],\"yaxis\":\"y\",\"type\":\"histogram\"},{\"alignmentgroup\":\"True\",\"bingroup\":\"x\",\"histfunc\":\"sum\",\"hovertemplate\":\"word=PSD<br>domain=%{x}<br>sum of word_freq=%{y}<extra></extra>\",\"legendgroup\":\"PSD\",\"marker\":{\"color\":\"#B6E880\",\"pattern\":{\"shape\":\"\"}},\"name\":\"PSD\",\"offsetgroup\":\"PSD\",\"orientation\":\"v\",\"showlegend\":true,\"texttemplate\":\"%{value:.2s}\",\"x\":[\"politic/\",\"stiri/actualitate\",\"stiri/actualitate/politica\"],\"xaxis\":\"x\",\"y\":[1201,20991,44733],\"yaxis\":\"y\",\"type\":\"histogram\"},{\"alignmentgroup\":\"True\",\"bingroup\":\"x\",\"histfunc\":\"sum\",\"hovertemplate\":\"word=Rom\\u00e2niei<br>domain=%{x}<br>sum of word_freq=%{y}<extra></extra>\",\"legendgroup\":\"Rom\\u00e2niei\",\"marker\":{\"color\":\"#FF97FF\",\"pattern\":{\"shape\":\"\"}},\"name\":\"Rom\\u00e2niei\",\"offsetgroup\":\"Rom\\u00e2niei\",\"orientation\":\"v\",\"showlegend\":true,\"texttemplate\":\"%{value:.2s}\",\"x\":[\"politic/\",\"stiri/economie\",\"stiri/actualitate\",\"stiri/actualitate/politica\",\"stiri/sport\"],\"xaxis\":\"x\",\"y\":[565,4283,10499,14169,1015],\"yaxis\":\"y\",\"type\":\"histogram\"},{\"alignmentgroup\":\"True\",\"bingroup\":\"x\",\"histfunc\":\"sum\",\"hovertemplate\":\"word=pre\\u0219edintele<br>domain=%{x}<br>sum of word_freq=%{y}<extra></extra>\",\"legendgroup\":\"pre\\u0219edintele\",\"marker\":{\"color\":\"#FECB52\",\"pattern\":{\"shape\":\"\"}},\"name\":\"pre\\u0219edintele\",\"offsetgroup\":\"pre\\u0219edintele\",\"orientation\":\"v\",\"showlegend\":true,\"texttemplate\":\"%{value:.2s}\",\"x\":[\"politic/\",\"stiri/actualitate/politica\"],\"xaxis\":\"x\",\"y\":[560,13963],\"yaxis\":\"y\",\"type\":\"histogram\"},{\"alignmentgroup\":\"True\",\"bingroup\":\"x\",\"histfunc\":\"sum\",\"hovertemplate\":\"word=B\\u0103sescu<br>domain=%{x}<br>sum of word_freq=%{y}<extra></extra>\",\"legendgroup\":\"B\\u0103sescu\",\"marker\":{\"color\":\"#636efa\",\"pattern\":{\"shape\":\"\"}},\"name\":\"B\\u0103sescu\",\"offsetgroup\":\"B\\u0103sescu\",\"orientation\":\"v\",\"showlegend\":true,\"texttemplate\":\"%{value:.2s}\",\"x\":[\"politic/\"],\"xaxis\":\"x\",\"y\":[514],\"yaxis\":\"y\",\"type\":\"histogram\"},{\"alignmentgroup\":\"True\",\"bingroup\":\"x\",\"histfunc\":\"sum\",\"hovertemplate\":\"word=oameni<br>domain=%{x}<br>sum of word_freq=%{y}<extra></extra>\",\"legendgroup\":\"oameni\",\"marker\":{\"color\":\"#EF553B\",\"pattern\":{\"shape\":\"\"}},\"name\":\"oameni\",\"offsetgroup\":\"oameni\",\"orientation\":\"v\",\"showlegend\":true,\"texttemplate\":\"%{value:.2s}\",\"x\":[\"life-death/\",\"stiri/externe\",\"stiri/sci-tech\"],\"xaxis\":\"x\",\"y\":[513,6746,515],\"yaxis\":\"y\",\"type\":\"histogram\"},{\"alignmentgroup\":\"True\",\"bingroup\":\"x\",\"histfunc\":\"sum\",\"hovertemplate\":\"word=2<br>domain=%{x}<br>sum of word_freq=%{y}<extra></extra>\",\"legendgroup\":\"2\",\"marker\":{\"color\":\"#00cc96\",\"pattern\":{\"shape\":\"\"}},\"name\":\"2\",\"offsetgroup\":\"2\",\"orientation\":\"v\",\"showlegend\":true,\"texttemplate\":\"%{value:.2s}\",\"x\":[\"\"],\"xaxis\":\"x\",\"y\":[2836],\"yaxis\":\"y\",\"type\":\"histogram\"},{\"alignmentgroup\":\"True\",\"bingroup\":\"x\",\"histfunc\":\"sum\",\"hovertemplate\":\"word=persoane<br>domain=%{x}<br>sum of word_freq=%{y}<extra></extra>\",\"legendgroup\":\"persoane\",\"marker\":{\"color\":\"#ab63fa\",\"pattern\":{\"shape\":\"\"}},\"name\":\"persoane\",\"offsetgroup\":\"persoane\",\"orientation\":\"v\",\"showlegend\":true,\"texttemplate\":\"%{value:.2s}\",\"x\":[\"\",\"stiri/externe\",\"stiri/actualitate\"],\"xaxis\":\"x\",\"y\":[2758,9077,14916],\"yaxis\":\"y\",\"type\":\"histogram\"},{\"alignmentgroup\":\"True\",\"bingroup\":\"x\",\"histfunc\":\"sum\",\"hovertemplate\":\"word=pacien\\u021bi<br>domain=%{x}<br>sum of word_freq=%{y}<extra></extra>\",\"legendgroup\":\"pacien\\u021bi\",\"marker\":{\"color\":\"#FFA15A\",\"pattern\":{\"shape\":\"\"}},\"name\":\"pacien\\u021bi\",\"offsetgroup\":\"pacien\\u021bi\",\"orientation\":\"v\",\"showlegend\":true,\"texttemplate\":\"%{value:.2s}\",\"x\":[\"\"],\"xaxis\":\"x\",\"y\":[2068],\"yaxis\":\"y\",\"type\":\"histogram\"},{\"alignmentgroup\":\"True\",\"bingroup\":\"x\",\"histfunc\":\"sum\",\"hovertemplate\":\"word=5<br>domain=%{x}<br>sum of word_freq=%{y}<extra></extra>\",\"legendgroup\":\"5\",\"marker\":{\"color\":\"#19d3f3\",\"pattern\":{\"shape\":\"\"}},\"name\":\"5\",\"offsetgroup\":\"5\",\"orientation\":\"v\",\"showlegend\":true,\"texttemplate\":\"%{value:.2s}\",\"x\":[\"\"],\"xaxis\":\"x\",\"y\":[1064],\"yaxis\":\"y\",\"type\":\"histogram\"},{\"alignmentgroup\":\"True\",\"bingroup\":\"x\",\"histfunc\":\"sum\",\"hovertemplate\":\"word=ATI<br>domain=%{x}<br>sum of word_freq=%{y}<extra></extra>\",\"legendgroup\":\"ATI\",\"marker\":{\"color\":\"#FF6692\",\"pattern\":{\"shape\":\"\"}},\"name\":\"ATI\",\"offsetgroup\":\"ATI\",\"orientation\":\"v\",\"showlegend\":true,\"texttemplate\":\"%{value:.2s}\",\"x\":[\"\"],\"xaxis\":\"x\",\"y\":[1063],\"yaxis\":\"y\",\"type\":\"histogram\"},{\"alignmentgroup\":\"True\",\"bingroup\":\"x\",\"histfunc\":\"sum\",\"hovertemplate\":\"word=Ucraina<br>domain=%{x}<br>sum of word_freq=%{y}<extra></extra>\",\"legendgroup\":\"Ucraina\",\"marker\":{\"color\":\"#B6E880\",\"pattern\":{\"shape\":\"\"}},\"name\":\"Ucraina\",\"offsetgroup\":\"Ucraina\",\"orientation\":\"v\",\"showlegend\":true,\"texttemplate\":\"%{value:.2s}\",\"x\":[\"\",\"stiri/externe\"],\"xaxis\":\"x\",\"y\":[1024,7415],\"yaxis\":\"y\",\"type\":\"histogram\"},{\"alignmentgroup\":\"True\",\"bingroup\":\"x\",\"histfunc\":\"sum\",\"hovertemplate\":\"word=SUA<br>domain=%{x}<br>sum of word_freq=%{y}<extra></extra>\",\"legendgroup\":\"SUA\",\"marker\":{\"color\":\"#FF97FF\",\"pattern\":{\"shape\":\"\"}},\"name\":\"SUA\",\"offsetgroup\":\"SUA\",\"orientation\":\"v\",\"showlegend\":true,\"texttemplate\":\"%{value:.2s}\",\"x\":[\"\",\"stiri/externe\"],\"xaxis\":\"x\",\"y\":[1008,9000],\"yaxis\":\"y\",\"type\":\"histogram\"},{\"alignmentgroup\":\"True\",\"bingroup\":\"x\",\"histfunc\":\"sum\",\"hovertemplate\":\"word=ultimele 24 de ore<br>domain=%{x}<br>sum of word_freq=%{y}<extra></extra>\",\"legendgroup\":\"ultimele 24 de ore\",\"marker\":{\"color\":\"#FECB52\",\"pattern\":{\"shape\":\"\"}},\"name\":\"ultimele 24 de ore\",\"offsetgroup\":\"ultimele 24 de ore\",\"orientation\":\"v\",\"showlegend\":true,\"texttemplate\":\"%{value:.2s}\",\"x\":[\"\"],\"xaxis\":\"x\",\"y\":[988],\"yaxis\":\"y\",\"type\":\"histogram\"},{\"alignmentgroup\":\"True\",\"bingroup\":\"x\",\"histfunc\":\"sum\",\"hovertemplate\":\"word=Rusia<br>domain=%{x}<br>sum of word_freq=%{y}<extra></extra>\",\"legendgroup\":\"Rusia\",\"marker\":{\"color\":\"#636efa\",\"pattern\":{\"shape\":\"\"}},\"name\":\"Rusia\",\"offsetgroup\":\"Rusia\",\"orientation\":\"v\",\"showlegend\":true,\"texttemplate\":\"%{value:.2s}\",\"x\":[\"\",\"stiri/externe\"],\"xaxis\":\"x\",\"y\":[907,11066],\"yaxis\":\"y\",\"type\":\"histogram\"},{\"alignmentgroup\":\"True\",\"bingroup\":\"x\",\"histfunc\":\"sum\",\"hovertemplate\":\"word=UE<br>domain=%{x}<br>sum of word_freq=%{y}<extra></extra>\",\"legendgroup\":\"UE\",\"marker\":{\"color\":\"#EF553B\",\"pattern\":{\"shape\":\"\"}},\"name\":\"UE\",\"offsetgroup\":\"UE\",\"orientation\":\"v\",\"showlegend\":true,\"texttemplate\":\"%{value:.2s}\",\"x\":[\"stiri/economie\",\"stiri/externe\"],\"xaxis\":\"x\",\"y\":[4273,8368],\"yaxis\":\"y\",\"type\":\"histogram\"},{\"alignmentgroup\":\"True\",\"bingroup\":\"x\",\"histfunc\":\"sum\",\"hovertemplate\":\"word=anul trecut<br>domain=%{x}<br>sum of word_freq=%{y}<extra></extra>\",\"legendgroup\":\"anul trecut\",\"marker\":{\"color\":\"#00cc96\",\"pattern\":{\"shape\":\"\"}},\"name\":\"anul trecut\",\"offsetgroup\":\"anul trecut\",\"orientation\":\"v\",\"showlegend\":true,\"texttemplate\":\"%{value:.2s}\",\"x\":[\"stiri/economie\"],\"xaxis\":\"x\",\"y\":[3395],\"yaxis\":\"y\",\"type\":\"histogram\"},{\"alignmentgroup\":\"True\",\"bingroup\":\"x\",\"histfunc\":\"sum\",\"hovertemplate\":\"word=europene<br>domain=%{x}<br>sum of word_freq=%{y}<extra></extra>\",\"legendgroup\":\"europene\",\"marker\":{\"color\":\"#ab63fa\",\"pattern\":{\"shape\":\"\"}},\"name\":\"europene\",\"offsetgroup\":\"europene\",\"orientation\":\"v\",\"showlegend\":true,\"texttemplate\":\"%{value:.2s}\",\"x\":[\"stiri/economie\"],\"xaxis\":\"x\",\"y\":[3254],\"yaxis\":\"y\",\"type\":\"histogram\"},{\"alignmentgroup\":\"True\",\"bingroup\":\"x\",\"histfunc\":\"sum\",\"hovertemplate\":\"word=trei<br>domain=%{x}<br>sum of word_freq=%{y}<extra></extra>\",\"legendgroup\":\"trei\",\"marker\":{\"color\":\"#FFA15A\",\"pattern\":{\"shape\":\"\"}},\"name\":\"trei\",\"offsetgroup\":\"trei\",\"orientation\":\"v\",\"showlegend\":true,\"texttemplate\":\"%{value:.2s}\",\"x\":[\"stiri/economie\",\"stiri/actualitate\",\"stiri/sport\"],\"xaxis\":\"x\",\"y\":[3097,6795,1363],\"yaxis\":\"y\",\"type\":\"histogram\"},{\"alignmentgroup\":\"True\",\"bingroup\":\"x\",\"histfunc\":\"sum\",\"hovertemplate\":\"word=Europa<br>domain=%{x}<br>sum of word_freq=%{y}<extra></extra>\",\"legendgroup\":\"Europa\",\"marker\":{\"color\":\"#19d3f3\",\"pattern\":{\"shape\":\"\"}},\"name\":\"Europa\",\"offsetgroup\":\"Europa\",\"orientation\":\"v\",\"showlegend\":true,\"texttemplate\":\"%{value:.2s}\",\"x\":[\"stiri/economie\"],\"xaxis\":\"x\",\"y\":[2802],\"yaxis\":\"y\",\"type\":\"histogram\"},{\"alignmentgroup\":\"True\",\"bingroup\":\"x\",\"histfunc\":\"sum\",\"hovertemplate\":\"word=Editor<br>domain=%{x}<br>sum of word_freq=%{y}<extra></extra>\",\"legendgroup\":\"Editor\",\"marker\":{\"color\":\"#FF6692\",\"pattern\":{\"shape\":\"\"}},\"name\":\"Editor\",\"offsetgroup\":\"Editor\",\"orientation\":\"v\",\"showlegend\":true,\"texttemplate\":\"%{value:.2s}\",\"x\":[\"stiri/externe\",\"stiri/actualitate\",\"stiri/sci-tech\"],\"xaxis\":\"x\",\"y\":[16192,10840,1357],\"yaxis\":\"y\",\"type\":\"histogram\"},{\"alignmentgroup\":\"True\",\"bingroup\":\"x\",\"histfunc\":\"sum\",\"hovertemplate\":\"word=Agerpres<br>domain=%{x}<br>sum of word_freq=%{y}<extra></extra>\",\"legendgroup\":\"Agerpres\",\"marker\":{\"color\":\"#B6E880\",\"pattern\":{\"shape\":\"\"}},\"name\":\"Agerpres\",\"offsetgroup\":\"Agerpres\",\"orientation\":\"v\",\"showlegend\":true,\"texttemplate\":\"%{value:.2s}\",\"x\":[\"stiri/externe\",\"stiri/sci-tech\"],\"xaxis\":\"x\",\"y\":[7076,412],\"yaxis\":\"y\",\"type\":\"histogram\"},{\"alignmentgroup\":\"True\",\"bingroup\":\"x\",\"histfunc\":\"sum\",\"hovertemplate\":\"word=China<br>domain=%{x}<br>sum of word_freq=%{y}<extra></extra>\",\"legendgroup\":\"China\",\"marker\":{\"color\":\"#FF97FF\",\"pattern\":{\"shape\":\"\"}},\"name\":\"China\",\"offsetgroup\":\"China\",\"orientation\":\"v\",\"showlegend\":true,\"texttemplate\":\"%{value:.2s}\",\"x\":[\"stiri/externe\"],\"xaxis\":\"x\",\"y\":[6395],\"yaxis\":\"y\",\"type\":\"histogram\"},{\"alignmentgroup\":\"True\",\"bingroup\":\"x\",\"histfunc\":\"sum\",\"hovertemplate\":\"word=PNL<br>domain=%{x}<br>sum of word_freq=%{y}<extra></extra>\",\"legendgroup\":\"PNL\",\"marker\":{\"color\":\"#FECB52\",\"pattern\":{\"shape\":\"\"}},\"name\":\"PNL\",\"offsetgroup\":\"PNL\",\"orientation\":\"v\",\"showlegend\":true,\"texttemplate\":\"%{value:.2s}\",\"x\":[\"stiri/actualitate\",\"stiri/actualitate/politica\"],\"xaxis\":\"x\",\"y\":[7823,21379],\"yaxis\":\"y\",\"type\":\"histogram\"},{\"alignmentgroup\":\"True\",\"bingroup\":\"x\",\"histfunc\":\"sum\",\"hovertemplate\":\"word=Parlament<br>domain=%{x}<br>sum of word_freq=%{y}<extra></extra>\",\"legendgroup\":\"Parlament\",\"marker\":{\"color\":\"#636efa\",\"pattern\":{\"shape\":\"\"}},\"name\":\"Parlament\",\"offsetgroup\":\"Parlament\",\"orientation\":\"v\",\"showlegend\":true,\"texttemplate\":\"%{value:.2s}\",\"x\":[\"stiri/actualitate/politica\"],\"xaxis\":\"x\",\"y\":[10136],\"yaxis\":\"y\",\"type\":\"histogram\"},{\"alignmentgroup\":\"True\",\"bingroup\":\"x\",\"histfunc\":\"sum\",\"hovertemplate\":\"word=Liviu Dragnea<br>domain=%{x}<br>sum of word_freq=%{y}<extra></extra>\",\"legendgroup\":\"Liviu Dragnea\",\"marker\":{\"color\":\"#EF553B\",\"pattern\":{\"shape\":\"\"}},\"name\":\"Liviu Dragnea\",\"offsetgroup\":\"Liviu Dragnea\",\"orientation\":\"v\",\"showlegend\":true,\"texttemplate\":\"%{value:.2s}\",\"x\":[\"stiri/actualitate/politica\"],\"xaxis\":\"x\",\"y\":[9331],\"yaxis\":\"y\",\"type\":\"histogram\"},{\"alignmentgroup\":\"True\",\"bingroup\":\"x\",\"histfunc\":\"sum\",\"hovertemplate\":\"word=Pre\\u0219edintele<br>domain=%{x}<br>sum of word_freq=%{y}<extra></extra>\",\"legendgroup\":\"Pre\\u0219edintele\",\"marker\":{\"color\":\"#00cc96\",\"pattern\":{\"shape\":\"\"}},\"name\":\"Pre\\u0219edintele\",\"offsetgroup\":\"Pre\\u0219edintele\",\"orientation\":\"v\",\"showlegend\":true,\"texttemplate\":\"%{value:.2s}\",\"x\":[\"stiri/actualitate/politica\"],\"xaxis\":\"x\",\"y\":[7654],\"yaxis\":\"y\",\"type\":\"histogram\"},{\"alignmentgroup\":\"True\",\"bingroup\":\"x\",\"histfunc\":\"sum\",\"hovertemplate\":\"word=Simona Halep<br>domain=%{x}<br>sum of word_freq=%{y}<extra></extra>\",\"legendgroup\":\"Simona Halep\",\"marker\":{\"color\":\"#ab63fa\",\"pattern\":{\"shape\":\"\"}},\"name\":\"Simona Halep\",\"offsetgroup\":\"Simona Halep\",\"orientation\":\"v\",\"showlegend\":true,\"texttemplate\":\"%{value:.2s}\",\"x\":[\"stiri/sport\"],\"xaxis\":\"x\",\"y\":[4018],\"yaxis\":\"y\",\"type\":\"histogram\"},{\"alignmentgroup\":\"True\",\"bingroup\":\"x\",\"histfunc\":\"sum\",\"hovertemplate\":\"word=Halep<br>domain=%{x}<br>sum of word_freq=%{y}<extra></extra>\",\"legendgroup\":\"Halep\",\"marker\":{\"color\":\"#FFA15A\",\"pattern\":{\"shape\":\"\"}},\"name\":\"Halep\",\"offsetgroup\":\"Halep\",\"orientation\":\"v\",\"showlegend\":true,\"texttemplate\":\"%{value:.2s}\",\"x\":[\"stiri/sport\"],\"xaxis\":\"x\",\"y\":[1194],\"yaxis\":\"y\",\"type\":\"histogram\"},{\"alignmentgroup\":\"True\",\"bingroup\":\"x\",\"histfunc\":\"sum\",\"hovertemplate\":\"word=al doilea<br>domain=%{x}<br>sum of word_freq=%{y}<extra></extra>\",\"legendgroup\":\"al doilea\",\"marker\":{\"color\":\"#19d3f3\",\"pattern\":{\"shape\":\"\"}},\"name\":\"al doilea\",\"offsetgroup\":\"al doilea\",\"orientation\":\"v\",\"showlegend\":true,\"texttemplate\":\"%{value:.2s}\",\"x\":[\"stiri/sport\"],\"xaxis\":\"x\",\"y\":[1045],\"yaxis\":\"y\",\"type\":\"histogram\"},{\"alignmentgroup\":\"True\",\"bingroup\":\"x\",\"histfunc\":\"sum\",\"hovertemplate\":\"word=Fran\\u021ba<br>domain=%{x}<br>sum of word_freq=%{y}<extra></extra>\",\"legendgroup\":\"Fran\\u021ba\",\"marker\":{\"color\":\"#FF6692\",\"pattern\":{\"shape\":\"\"}},\"name\":\"Fran\\u021ba\",\"offsetgroup\":\"Fran\\u021ba\",\"orientation\":\"v\",\"showlegend\":true,\"texttemplate\":\"%{value:.2s}\",\"x\":[\"stiri/sport\"],\"xaxis\":\"x\",\"y\":[775],\"yaxis\":\"y\",\"type\":\"histogram\"},{\"alignmentgroup\":\"True\",\"bingroup\":\"x\",\"histfunc\":\"sum\",\"hovertemplate\":\"word=NASA<br>domain=%{x}<br>sum of word_freq=%{y}<extra></extra>\",\"legendgroup\":\"NASA\",\"marker\":{\"color\":\"#B6E880\",\"pattern\":{\"shape\":\"\"}},\"name\":\"NASA\",\"offsetgroup\":\"NASA\",\"orientation\":\"v\",\"showlegend\":true,\"texttemplate\":\"%{value:.2s}\",\"x\":[\"stiri/sci-tech\"],\"xaxis\":\"x\",\"y\":[567],\"yaxis\":\"y\",\"type\":\"histogram\"},{\"alignmentgroup\":\"True\",\"bingroup\":\"x\",\"histfunc\":\"sum\",\"hovertemplate\":\"word=Marte<br>domain=%{x}<br>sum of word_freq=%{y}<extra></extra>\",\"legendgroup\":\"Marte\",\"marker\":{\"color\":\"#FF97FF\",\"pattern\":{\"shape\":\"\"}},\"name\":\"Marte\",\"offsetgroup\":\"Marte\",\"orientation\":\"v\",\"showlegend\":true,\"texttemplate\":\"%{value:.2s}\",\"x\":[\"stiri/sci-tech\"],\"xaxis\":\"x\",\"y\":[510],\"yaxis\":\"y\",\"type\":\"histogram\"},{\"alignmentgroup\":\"True\",\"bingroup\":\"x\",\"histfunc\":\"sum\",\"hovertemplate\":\"word=cercet\\u0103torii<br>domain=%{x}<br>sum of word_freq=%{y}<extra></extra>\",\"legendgroup\":\"cercet\\u0103torii\",\"marker\":{\"color\":\"#FECB52\",\"pattern\":{\"shape\":\"\"}},\"name\":\"cercet\\u0103torii\",\"offsetgroup\":\"cercet\\u0103torii\",\"orientation\":\"v\",\"showlegend\":true,\"texttemplate\":\"%{value:.2s}\",\"x\":[\"stiri/sci-tech\"],\"xaxis\":\"x\",\"y\":[415],\"yaxis\":\"y\",\"type\":\"histogram\"}],                        {\"template\":{\"data\":{\"bar\":[{\"error_x\":{\"color\":\"#2a3f5f\"},\"error_y\":{\"color\":\"#2a3f5f\"},\"marker\":{\"line\":{\"color\":\"#E5ECF6\",\"width\":0.5},\"pattern\":{\"fillmode\":\"overlay\",\"size\":10,\"solidity\":0.2}},\"type\":\"bar\"}],\"barpolar\":[{\"marker\":{\"line\":{\"color\":\"#E5ECF6\",\"width\":0.5},\"pattern\":{\"fillmode\":\"overlay\",\"size\":10,\"solidity\":0.2}},\"type\":\"barpolar\"}],\"carpet\":[{\"aaxis\":{\"endlinecolor\":\"#2a3f5f\",\"gridcolor\":\"white\",\"linecolor\":\"white\",\"minorgridcolor\":\"white\",\"startlinecolor\":\"#2a3f5f\"},\"baxis\":{\"endlinecolor\":\"#2a3f5f\",\"gridcolor\":\"white\",\"linecolor\":\"white\",\"minorgridcolor\":\"white\",\"startlinecolor\":\"#2a3f5f\"},\"type\":\"carpet\"}],\"choropleth\":[{\"colorbar\":{\"outlinewidth\":0,\"ticks\":\"\"},\"type\":\"choropleth\"}],\"contour\":[{\"colorbar\":{\"outlinewidth\":0,\"ticks\":\"\"},\"colorscale\":[[0.0,\"#0d0887\"],[0.1111111111111111,\"#46039f\"],[0.2222222222222222,\"#7201a8\"],[0.3333333333333333,\"#9c179e\"],[0.4444444444444444,\"#bd3786\"],[0.5555555555555556,\"#d8576b\"],[0.6666666666666666,\"#ed7953\"],[0.7777777777777778,\"#fb9f3a\"],[0.8888888888888888,\"#fdca26\"],[1.0,\"#f0f921\"]],\"type\":\"contour\"}],\"contourcarpet\":[{\"colorbar\":{\"outlinewidth\":0,\"ticks\":\"\"},\"type\":\"contourcarpet\"}],\"heatmap\":[{\"colorbar\":{\"outlinewidth\":0,\"ticks\":\"\"},\"colorscale\":[[0.0,\"#0d0887\"],[0.1111111111111111,\"#46039f\"],[0.2222222222222222,\"#7201a8\"],[0.3333333333333333,\"#9c179e\"],[0.4444444444444444,\"#bd3786\"],[0.5555555555555556,\"#d8576b\"],[0.6666666666666666,\"#ed7953\"],[0.7777777777777778,\"#fb9f3a\"],[0.8888888888888888,\"#fdca26\"],[1.0,\"#f0f921\"]],\"type\":\"heatmap\"}],\"heatmapgl\":[{\"colorbar\":{\"outlinewidth\":0,\"ticks\":\"\"},\"colorscale\":[[0.0,\"#0d0887\"],[0.1111111111111111,\"#46039f\"],[0.2222222222222222,\"#7201a8\"],[0.3333333333333333,\"#9c179e\"],[0.4444444444444444,\"#bd3786\"],[0.5555555555555556,\"#d8576b\"],[0.6666666666666666,\"#ed7953\"],[0.7777777777777778,\"#fb9f3a\"],[0.8888888888888888,\"#fdca26\"],[1.0,\"#f0f921\"]],\"type\":\"heatmapgl\"}],\"histogram\":[{\"marker\":{\"pattern\":{\"fillmode\":\"overlay\",\"size\":10,\"solidity\":0.2}},\"type\":\"histogram\"}],\"histogram2d\":[{\"colorbar\":{\"outlinewidth\":0,\"ticks\":\"\"},\"colorscale\":[[0.0,\"#0d0887\"],[0.1111111111111111,\"#46039f\"],[0.2222222222222222,\"#7201a8\"],[0.3333333333333333,\"#9c179e\"],[0.4444444444444444,\"#bd3786\"],[0.5555555555555556,\"#d8576b\"],[0.6666666666666666,\"#ed7953\"],[0.7777777777777778,\"#fb9f3a\"],[0.8888888888888888,\"#fdca26\"],[1.0,\"#f0f921\"]],\"type\":\"histogram2d\"}],\"histogram2dcontour\":[{\"colorbar\":{\"outlinewidth\":0,\"ticks\":\"\"},\"colorscale\":[[0.0,\"#0d0887\"],[0.1111111111111111,\"#46039f\"],[0.2222222222222222,\"#7201a8\"],[0.3333333333333333,\"#9c179e\"],[0.4444444444444444,\"#bd3786\"],[0.5555555555555556,\"#d8576b\"],[0.6666666666666666,\"#ed7953\"],[0.7777777777777778,\"#fb9f3a\"],[0.8888888888888888,\"#fdca26\"],[1.0,\"#f0f921\"]],\"type\":\"histogram2dcontour\"}],\"mesh3d\":[{\"colorbar\":{\"outlinewidth\":0,\"ticks\":\"\"},\"type\":\"mesh3d\"}],\"parcoords\":[{\"line\":{\"colorbar\":{\"outlinewidth\":0,\"ticks\":\"\"}},\"type\":\"parcoords\"}],\"pie\":[{\"automargin\":true,\"type\":\"pie\"}],\"scatter\":[{\"marker\":{\"colorbar\":{\"outlinewidth\":0,\"ticks\":\"\"}},\"type\":\"scatter\"}],\"scatter3d\":[{\"line\":{\"colorbar\":{\"outlinewidth\":0,\"ticks\":\"\"}},\"marker\":{\"colorbar\":{\"outlinewidth\":0,\"ticks\":\"\"}},\"type\":\"scatter3d\"}],\"scattercarpet\":[{\"marker\":{\"colorbar\":{\"outlinewidth\":0,\"ticks\":\"\"}},\"type\":\"scattercarpet\"}],\"scattergeo\":[{\"marker\":{\"colorbar\":{\"outlinewidth\":0,\"ticks\":\"\"}},\"type\":\"scattergeo\"}],\"scattergl\":[{\"marker\":{\"colorbar\":{\"outlinewidth\":0,\"ticks\":\"\"}},\"type\":\"scattergl\"}],\"scattermapbox\":[{\"marker\":{\"colorbar\":{\"outlinewidth\":0,\"ticks\":\"\"}},\"type\":\"scattermapbox\"}],\"scatterpolar\":[{\"marker\":{\"colorbar\":{\"outlinewidth\":0,\"ticks\":\"\"}},\"type\":\"scatterpolar\"}],\"scatterpolargl\":[{\"marker\":{\"colorbar\":{\"outlinewidth\":0,\"ticks\":\"\"}},\"type\":\"scatterpolargl\"}],\"scatterternary\":[{\"marker\":{\"colorbar\":{\"outlinewidth\":0,\"ticks\":\"\"}},\"type\":\"scatterternary\"}],\"surface\":[{\"colorbar\":{\"outlinewidth\":0,\"ticks\":\"\"},\"colorscale\":[[0.0,\"#0d0887\"],[0.1111111111111111,\"#46039f\"],[0.2222222222222222,\"#7201a8\"],[0.3333333333333333,\"#9c179e\"],[0.4444444444444444,\"#bd3786\"],[0.5555555555555556,\"#d8576b\"],[0.6666666666666666,\"#ed7953\"],[0.7777777777777778,\"#fb9f3a\"],[0.8888888888888888,\"#fdca26\"],[1.0,\"#f0f921\"]],\"type\":\"surface\"}],\"table\":[{\"cells\":{\"fill\":{\"color\":\"#EBF0F8\"},\"line\":{\"color\":\"white\"}},\"header\":{\"fill\":{\"color\":\"#C8D4E3\"},\"line\":{\"color\":\"white\"}},\"type\":\"table\"}]},\"layout\":{\"annotationdefaults\":{\"arrowcolor\":\"#2a3f5f\",\"arrowhead\":0,\"arrowwidth\":1},\"autotypenumbers\":\"strict\",\"coloraxis\":{\"colorbar\":{\"outlinewidth\":0,\"ticks\":\"\"}},\"colorscale\":{\"diverging\":[[0,\"#8e0152\"],[0.1,\"#c51b7d\"],[0.2,\"#de77ae\"],[0.3,\"#f1b6da\"],[0.4,\"#fde0ef\"],[0.5,\"#f7f7f7\"],[0.6,\"#e6f5d0\"],[0.7,\"#b8e186\"],[0.8,\"#7fbc41\"],[0.9,\"#4d9221\"],[1,\"#276419\"]],\"sequential\":[[0.0,\"#0d0887\"],[0.1111111111111111,\"#46039f\"],[0.2222222222222222,\"#7201a8\"],[0.3333333333333333,\"#9c179e\"],[0.4444444444444444,\"#bd3786\"],[0.5555555555555556,\"#d8576b\"],[0.6666666666666666,\"#ed7953\"],[0.7777777777777778,\"#fb9f3a\"],[0.8888888888888888,\"#fdca26\"],[1.0,\"#f0f921\"]],\"sequentialminus\":[[0.0,\"#0d0887\"],[0.1111111111111111,\"#46039f\"],[0.2222222222222222,\"#7201a8\"],[0.3333333333333333,\"#9c179e\"],[0.4444444444444444,\"#bd3786\"],[0.5555555555555556,\"#d8576b\"],[0.6666666666666666,\"#ed7953\"],[0.7777777777777778,\"#fb9f3a\"],[0.8888888888888888,\"#fdca26\"],[1.0,\"#f0f921\"]]},\"colorway\":[\"#636efa\",\"#EF553B\",\"#00cc96\",\"#ab63fa\",\"#FFA15A\",\"#19d3f3\",\"#FF6692\",\"#B6E880\",\"#FF97FF\",\"#FECB52\"],\"font\":{\"color\":\"#2a3f5f\"},\"geo\":{\"bgcolor\":\"white\",\"lakecolor\":\"white\",\"landcolor\":\"#E5ECF6\",\"showlakes\":true,\"showland\":true,\"subunitcolor\":\"white\"},\"hoverlabel\":{\"align\":\"left\"},\"hovermode\":\"closest\",\"mapbox\":{\"style\":\"light\"},\"paper_bgcolor\":\"white\",\"plot_bgcolor\":\"#E5ECF6\",\"polar\":{\"angularaxis\":{\"gridcolor\":\"white\",\"linecolor\":\"white\",\"ticks\":\"\"},\"bgcolor\":\"#E5ECF6\",\"radialaxis\":{\"gridcolor\":\"white\",\"linecolor\":\"white\",\"ticks\":\"\"}},\"scene\":{\"xaxis\":{\"backgroundcolor\":\"#E5ECF6\",\"gridcolor\":\"white\",\"gridwidth\":2,\"linecolor\":\"white\",\"showbackground\":true,\"ticks\":\"\",\"zerolinecolor\":\"white\"},\"yaxis\":{\"backgroundcolor\":\"#E5ECF6\",\"gridcolor\":\"white\",\"gridwidth\":2,\"linecolor\":\"white\",\"showbackground\":true,\"ticks\":\"\",\"zerolinecolor\":\"white\"},\"zaxis\":{\"backgroundcolor\":\"#E5ECF6\",\"gridcolor\":\"white\",\"gridwidth\":2,\"linecolor\":\"white\",\"showbackground\":true,\"ticks\":\"\",\"zerolinecolor\":\"white\"}},\"shapedefaults\":{\"line\":{\"color\":\"#2a3f5f\"}},\"ternary\":{\"aaxis\":{\"gridcolor\":\"white\",\"linecolor\":\"white\",\"ticks\":\"\"},\"baxis\":{\"gridcolor\":\"white\",\"linecolor\":\"white\",\"ticks\":\"\"},\"bgcolor\":\"#E5ECF6\",\"caxis\":{\"gridcolor\":\"white\",\"linecolor\":\"white\",\"ticks\":\"\"}},\"title\":{\"x\":0.05},\"xaxis\":{\"automargin\":true,\"gridcolor\":\"white\",\"linecolor\":\"white\",\"ticks\":\"\",\"title\":{\"standoff\":15},\"zerolinecolor\":\"white\",\"zerolinewidth\":2},\"yaxis\":{\"automargin\":true,\"gridcolor\":\"white\",\"linecolor\":\"white\",\"ticks\":\"\",\"title\":{\"standoff\":15},\"zerolinecolor\":\"white\",\"zerolinewidth\":2}}},\"xaxis\":{\"anchor\":\"y\",\"domain\":[0.0,1.0],\"title\":{\"text\":\"domain\"}},\"yaxis\":{\"anchor\":\"x\",\"domain\":[0.0,1.0],\"title\":{\"text\":\"sum of word_freq\"}},\"legend\":{\"title\":{\"text\":\"word\"},\"tracegroupgap\":0},\"margin\":{\"t\":60},\"barmode\":\"group\"},                        {\"responsive\": true}                    ).then(function(){\n",
       "                            \n",
       "var gd = document.getElementById('35940325-0543-4e97-b382-c361cd2ed52c');\n",
       "var x = new MutationObserver(function (mutations, observer) {{\n",
       "        var display = window.getComputedStyle(gd).display;\n",
       "        if (!display || display === 'none') {{\n",
       "            console.log([gd, 'removed!']);\n",
       "            Plotly.purge(gd);\n",
       "            observer.disconnect();\n",
       "        }}\n",
       "}});\n",
       "\n",
       "// Listen for the removal of the full notebook cells\n",
       "var notebookContainer = gd.closest('#notebook-container');\n",
       "if (notebookContainer) {{\n",
       "    x.observe(notebookContainer, {childList: true});\n",
       "}}\n",
       "\n",
       "// Listen for the clearing of the current output cell\n",
       "var outputEl = gd.closest('.output');\n",
       "if (outputEl) {{\n",
       "    x.observe(outputEl, {childList: true});\n",
       "}}\n",
       "\n",
       "                        })                };                });            </script>        </div>"
      ]
     },
     "metadata": {},
     "output_type": "display_data"
    }
   ],
   "source": [
    "domains = []\n",
    "for domain in domain_word_count:\n",
    "    sorted_tags = dict(\n",
    "        sorted(domain[\"ner_object_frequecy\"].items(), key=lambda item: item[1], reverse=True)\n",
    "    )\n",
    "    index: int = 10\n",
    "\n",
    "    for word in sorted_tags:\n",
    "        tag_: str = \"\"\n",
    "        for tag in domain[\"ner_tag_object\"]:\n",
    "            if word in domain[\"ner_tag_object\"][tag]:\n",
    "                tag_ = tag\n",
    "                break\n",
    "\n",
    "        domains.append(\n",
    "            {\n",
    "                \"domain\": domain[\"domain\"],\n",
    "                \"type\": domain[\"type\"],\n",
    "                \"word\": word,\n",
    "                \"word_freq\": domain[\"ner_object_frequecy\"][word],\n",
    "                \"tag\": tag_,\n",
    "            }\n",
    "        )\n",
    "        index -= 1\n",
    "        if index == 0:\n",
    "            break\n",
    "\n",
    "\n",
    "fig = px.histogram(\n",
    "    domains, x=\"domain\", y=\"word_freq\", color=\"word\", text_auto=\".2s\", barmode='group'\n",
    ")\n",
    "fig.show()"
   ]
  },
  {
   "cell_type": "code",
   "execution_count": 74,
   "metadata": {},
   "outputs": [
    {
     "data": {
      "text/html": [
       "<div>                            <div id=\"5d08045c-86ab-4c15-9e84-ec9ab6365f1b\" class=\"plotly-graph-div\" style=\"height:525px; width:100%;\"></div>            <script type=\"text/javascript\">                require([\"plotly\"], function(Plotly) {                    window.PLOTLYENV=window.PLOTLYENV || {};                                    if (document.getElementById(\"5d08045c-86ab-4c15-9e84-ec9ab6365f1b\")) {                    Plotly.newPlot(                        \"5d08045c-86ab-4c15-9e84-ec9ab6365f1b\",                        [{\"alignmentgroup\":\"True\",\"bingroup\":\"x\",\"histfunc\":\"sum\",\"hovertemplate\":\"tag=PERSON<br>domain=%{x}<br>sum of word_freq=%{y}<extra></extra>\",\"legendgroup\":\"PERSON\",\"marker\":{\"color\":\"#636efa\",\"pattern\":{\"shape\":\"\"}},\"name\":\"PERSON\",\"offsetgroup\":\"PERSON\",\"orientation\":\"v\",\"showlegend\":true,\"texttemplate\":\"%{value:.2s}\",\"x\":[\"monden/\",\"monden/\",\"it-stiinta/\",\"it-stiinta/\",\"it-stiinta/\",\"sport/\",\"sport/\",\"politic/\",\"politic/\",\"politic/\",\"life-death/\",\"life-death/\",\"\",\"\",\"stiri/economie\",\"stiri/externe\",\"stiri/externe\",\"stiri/externe\",\"stiri/externe\",\"stiri/actualitate\",\"stiri/actualitate\",\"stiri/actualitate/politica\",\"stiri/actualitate/politica\",\"stiri/actualitate/politica\",\"stiri/actualitate/politica\",\"stiri/sci-tech\",\"stiri/sci-tech\",\"stiri/sci-tech\",\"stiri/sci-tech\",\"stiri/sci-tech\",\"stiri/sci-tech\"],\"xaxis\":\"x\",\"y\":[1026,426,194,183,131,251,139,812,560,514,836,513,2758,2068,2802,16192,9077,7076,6746,14916,10840,13963,9331,7654,6978,1357,515,510,447,415,412],\"yaxis\":\"y\",\"type\":\"histogram\"},{\"alignmentgroup\":\"True\",\"bingroup\":\"x\",\"histfunc\":\"sum\",\"hovertemplate\":\"tag=GPE<br>domain=%{x}<br>sum of word_freq=%{y}<extra></extra>\",\"legendgroup\":\"GPE\",\"marker\":{\"color\":\"#EF553B\",\"pattern\":{\"shape\":\"\"}},\"name\":\"GPE\",\"offsetgroup\":\"GPE\",\"orientation\":\"v\",\"showlegend\":true,\"texttemplate\":\"%{value:.2s}\",\"x\":[\"monden/\",\"monden/\",\"it-stiinta/\",\"it-stiinta/\",\"sport/\",\"sport/\",\"sport/\",\"sport/\",\"sport/\",\"politic/\",\"politic/\",\"politic/\",\"life-death/\",\"life-death/\",\"\",\"\",\"\",\"stiri/economie\",\"stiri/economie\",\"stiri/economie\",\"stiri/externe\",\"stiri/externe\",\"stiri/externe\",\"stiri/externe\",\"stiri/externe\",\"stiri/actualitate\",\"stiri/actualitate\",\"stiri/actualitate\",\"stiri/actualitate/politica\",\"stiri/actualitate/politica\",\"stiri/sport\",\"stiri/sport\",\"stiri/sci-tech\"],\"xaxis\":\"x\",\"y\":[1012,593,302,120,299,231,199,192,163,1217,565,530,1304,775,1024,1008,907,20665,4283,4178,11066,9000,8368,7415,6395,25462,10499,10261,26490,14169,2335,1015,823],\"yaxis\":\"y\",\"type\":\"histogram\"},{\"alignmentgroup\":\"True\",\"bingroup\":\"x\",\"histfunc\":\"sum\",\"hovertemplate\":\"tag=NAT_REL_POL<br>domain=%{x}<br>sum of word_freq=%{y}<extra></extra>\",\"legendgroup\":\"NAT_REL_POL\",\"marker\":{\"color\":\"#00cc96\",\"pattern\":{\"shape\":\"\"}},\"name\":\"NAT_REL_POL\",\"offsetgroup\":\"NAT_REL_POL\",\"orientation\":\"v\",\"showlegend\":true,\"texttemplate\":\"%{value:.2s}\",\"x\":[\"monden/\",\"monden/\",\"monden/\",\"monden/\",\"it-stiinta/\",\"it-stiinta/\",\"it-stiinta/\",\"sport/\",\"sport/\",\"politic/\",\"politic/\",\"life-death/\",\"life-death/\",\"life-death/\",\"life-death/\",\"\",\"stiri/economie\",\"stiri/economie\",\"stiri/actualitate\",\"stiri/sci-tech\"],\"xaxis\":\"x\",\"y\":[900,582,511,510,308,245,185,201,136,809,638,1182,780,635,461,909,3254,2811,8205,567],\"yaxis\":\"y\",\"type\":\"histogram\"},{\"alignmentgroup\":\"True\",\"bingroup\":\"x\",\"histfunc\":\"sum\",\"hovertemplate\":\"tag=DATETIME<br>domain=%{x}<br>sum of word_freq=%{y}<extra></extra>\",\"legendgroup\":\"DATETIME\",\"marker\":{\"color\":\"#ab63fa\",\"pattern\":{\"shape\":\"\"}},\"name\":\"DATETIME\",\"offsetgroup\":\"DATETIME\",\"orientation\":\"v\",\"showlegend\":true,\"texttemplate\":\"%{value:.2s}\",\"x\":[\"monden/\",\"monden/\",\"it-stiinta/\",\"politic/\",\"\",\"stiri/economie\",\"stiri/externe\",\"stiri/actualitate\",\"stiri/actualitate\",\"stiri/actualitate/politica\"],\"xaxis\":\"x\",\"y\":[727,493,191,554,988,3395,7780,12830,6795,10197],\"yaxis\":\"y\",\"type\":\"histogram\"},{\"alignmentgroup\":\"True\",\"bingroup\":\"x\",\"histfunc\":\"sum\",\"hovertemplate\":\"tag=ORDINAL<br>domain=%{x}<br>sum of word_freq=%{y}<extra></extra>\",\"legendgroup\":\"ORDINAL\",\"marker\":{\"color\":\"#FFA15A\",\"pattern\":{\"shape\":\"\"}},\"name\":\"ORDINAL\",\"offsetgroup\":\"ORDINAL\",\"orientation\":\"v\",\"showlegend\":true,\"texttemplate\":\"%{value:.2s}\",\"x\":[\"it-stiinta/\",\"stiri/sport\",\"stiri/sport\",\"stiri/sport\",\"stiri/sci-tech\"],\"xaxis\":\"x\",\"y\":[129,2376,1479,1045,583],\"yaxis\":\"y\",\"type\":\"histogram\"},{\"alignmentgroup\":\"True\",\"bingroup\":\"x\",\"histfunc\":\"sum\",\"hovertemplate\":\"tag=NUMERIC_VALUE<br>domain=%{x}<br>sum of word_freq=%{y}<extra></extra>\",\"legendgroup\":\"NUMERIC_VALUE\",\"marker\":{\"color\":\"#19d3f3\",\"pattern\":{\"shape\":\"\"}},\"name\":\"NUMERIC_VALUE\",\"offsetgroup\":\"NUMERIC_VALUE\",\"orientation\":\"v\",\"showlegend\":true,\"texttemplate\":\"%{value:.2s}\",\"x\":[\"sport/\",\"life-death/\",\"life-death/\",\"\",\"\",\"stiri/economie\",\"stiri/sport\",\"stiri/sport\"],\"xaxis\":\"x\",\"y\":[149,737,426,2836,1064,3097,2434,1363],\"yaxis\":\"y\",\"type\":\"histogram\"},{\"alignmentgroup\":\"True\",\"bingroup\":\"x\",\"histfunc\":\"sum\",\"hovertemplate\":\"tag=ORGANIZATION<br>domain=%{x}<br>sum of word_freq=%{y}<extra></extra>\",\"legendgroup\":\"ORGANIZATION\",\"marker\":{\"color\":\"#FF6692\",\"pattern\":{\"shape\":\"\"}},\"name\":\"ORGANIZATION\",\"offsetgroup\":\"ORGANIZATION\",\"orientation\":\"v\",\"showlegend\":true,\"texttemplate\":\"%{value:.2s}\",\"x\":[\"politic/\",\"stiri/economie\",\"stiri/actualitate\",\"stiri/actualitate\",\"stiri/actualitate/politica\",\"stiri/actualitate/politica\",\"stiri/actualitate/politica\",\"stiri/sport\",\"stiri/sport\",\"stiri/sport\"],\"xaxis\":\"x\",\"y\":[1201,4273,20991,7823,44733,21379,10136,4018,1194,775],\"yaxis\":\"y\",\"type\":\"histogram\"},{\"alignmentgroup\":\"True\",\"bingroup\":\"x\",\"histfunc\":\"sum\",\"hovertemplate\":\"tag=FACILITY<br>domain=%{x}<br>sum of word_freq=%{y}<extra></extra>\",\"legendgroup\":\"FACILITY\",\"marker\":{\"color\":\"#B6E880\",\"pattern\":{\"shape\":\"\"}},\"name\":\"FACILITY\",\"offsetgroup\":\"FACILITY\",\"orientation\":\"v\",\"showlegend\":true,\"texttemplate\":\"%{value:.2s}\",\"x\":[\"\"],\"xaxis\":\"x\",\"y\":[1063],\"yaxis\":\"y\",\"type\":\"histogram\"},{\"alignmentgroup\":\"True\",\"bingroup\":\"x\",\"histfunc\":\"sum\",\"hovertemplate\":\"tag=MONEY<br>domain=%{x}<br>sum of word_freq=%{y}<extra></extra>\",\"legendgroup\":\"MONEY\",\"marker\":{\"color\":\"#FF97FF\",\"pattern\":{\"shape\":\"\"}},\"name\":\"MONEY\",\"offsetgroup\":\"MONEY\",\"orientation\":\"v\",\"showlegend\":true,\"texttemplate\":\"%{value:.2s}\",\"x\":[\"stiri/economie\",\"stiri/sci-tech\"],\"xaxis\":\"x\",\"y\":[6535,706],\"yaxis\":\"y\",\"type\":\"histogram\"}],                        {\"template\":{\"data\":{\"bar\":[{\"error_x\":{\"color\":\"#2a3f5f\"},\"error_y\":{\"color\":\"#2a3f5f\"},\"marker\":{\"line\":{\"color\":\"#E5ECF6\",\"width\":0.5},\"pattern\":{\"fillmode\":\"overlay\",\"size\":10,\"solidity\":0.2}},\"type\":\"bar\"}],\"barpolar\":[{\"marker\":{\"line\":{\"color\":\"#E5ECF6\",\"width\":0.5},\"pattern\":{\"fillmode\":\"overlay\",\"size\":10,\"solidity\":0.2}},\"type\":\"barpolar\"}],\"carpet\":[{\"aaxis\":{\"endlinecolor\":\"#2a3f5f\",\"gridcolor\":\"white\",\"linecolor\":\"white\",\"minorgridcolor\":\"white\",\"startlinecolor\":\"#2a3f5f\"},\"baxis\":{\"endlinecolor\":\"#2a3f5f\",\"gridcolor\":\"white\",\"linecolor\":\"white\",\"minorgridcolor\":\"white\",\"startlinecolor\":\"#2a3f5f\"},\"type\":\"carpet\"}],\"choropleth\":[{\"colorbar\":{\"outlinewidth\":0,\"ticks\":\"\"},\"type\":\"choropleth\"}],\"contour\":[{\"colorbar\":{\"outlinewidth\":0,\"ticks\":\"\"},\"colorscale\":[[0.0,\"#0d0887\"],[0.1111111111111111,\"#46039f\"],[0.2222222222222222,\"#7201a8\"],[0.3333333333333333,\"#9c179e\"],[0.4444444444444444,\"#bd3786\"],[0.5555555555555556,\"#d8576b\"],[0.6666666666666666,\"#ed7953\"],[0.7777777777777778,\"#fb9f3a\"],[0.8888888888888888,\"#fdca26\"],[1.0,\"#f0f921\"]],\"type\":\"contour\"}],\"contourcarpet\":[{\"colorbar\":{\"outlinewidth\":0,\"ticks\":\"\"},\"type\":\"contourcarpet\"}],\"heatmap\":[{\"colorbar\":{\"outlinewidth\":0,\"ticks\":\"\"},\"colorscale\":[[0.0,\"#0d0887\"],[0.1111111111111111,\"#46039f\"],[0.2222222222222222,\"#7201a8\"],[0.3333333333333333,\"#9c179e\"],[0.4444444444444444,\"#bd3786\"],[0.5555555555555556,\"#d8576b\"],[0.6666666666666666,\"#ed7953\"],[0.7777777777777778,\"#fb9f3a\"],[0.8888888888888888,\"#fdca26\"],[1.0,\"#f0f921\"]],\"type\":\"heatmap\"}],\"heatmapgl\":[{\"colorbar\":{\"outlinewidth\":0,\"ticks\":\"\"},\"colorscale\":[[0.0,\"#0d0887\"],[0.1111111111111111,\"#46039f\"],[0.2222222222222222,\"#7201a8\"],[0.3333333333333333,\"#9c179e\"],[0.4444444444444444,\"#bd3786\"],[0.5555555555555556,\"#d8576b\"],[0.6666666666666666,\"#ed7953\"],[0.7777777777777778,\"#fb9f3a\"],[0.8888888888888888,\"#fdca26\"],[1.0,\"#f0f921\"]],\"type\":\"heatmapgl\"}],\"histogram\":[{\"marker\":{\"pattern\":{\"fillmode\":\"overlay\",\"size\":10,\"solidity\":0.2}},\"type\":\"histogram\"}],\"histogram2d\":[{\"colorbar\":{\"outlinewidth\":0,\"ticks\":\"\"},\"colorscale\":[[0.0,\"#0d0887\"],[0.1111111111111111,\"#46039f\"],[0.2222222222222222,\"#7201a8\"],[0.3333333333333333,\"#9c179e\"],[0.4444444444444444,\"#bd3786\"],[0.5555555555555556,\"#d8576b\"],[0.6666666666666666,\"#ed7953\"],[0.7777777777777778,\"#fb9f3a\"],[0.8888888888888888,\"#fdca26\"],[1.0,\"#f0f921\"]],\"type\":\"histogram2d\"}],\"histogram2dcontour\":[{\"colorbar\":{\"outlinewidth\":0,\"ticks\":\"\"},\"colorscale\":[[0.0,\"#0d0887\"],[0.1111111111111111,\"#46039f\"],[0.2222222222222222,\"#7201a8\"],[0.3333333333333333,\"#9c179e\"],[0.4444444444444444,\"#bd3786\"],[0.5555555555555556,\"#d8576b\"],[0.6666666666666666,\"#ed7953\"],[0.7777777777777778,\"#fb9f3a\"],[0.8888888888888888,\"#fdca26\"],[1.0,\"#f0f921\"]],\"type\":\"histogram2dcontour\"}],\"mesh3d\":[{\"colorbar\":{\"outlinewidth\":0,\"ticks\":\"\"},\"type\":\"mesh3d\"}],\"parcoords\":[{\"line\":{\"colorbar\":{\"outlinewidth\":0,\"ticks\":\"\"}},\"type\":\"parcoords\"}],\"pie\":[{\"automargin\":true,\"type\":\"pie\"}],\"scatter\":[{\"marker\":{\"colorbar\":{\"outlinewidth\":0,\"ticks\":\"\"}},\"type\":\"scatter\"}],\"scatter3d\":[{\"line\":{\"colorbar\":{\"outlinewidth\":0,\"ticks\":\"\"}},\"marker\":{\"colorbar\":{\"outlinewidth\":0,\"ticks\":\"\"}},\"type\":\"scatter3d\"}],\"scattercarpet\":[{\"marker\":{\"colorbar\":{\"outlinewidth\":0,\"ticks\":\"\"}},\"type\":\"scattercarpet\"}],\"scattergeo\":[{\"marker\":{\"colorbar\":{\"outlinewidth\":0,\"ticks\":\"\"}},\"type\":\"scattergeo\"}],\"scattergl\":[{\"marker\":{\"colorbar\":{\"outlinewidth\":0,\"ticks\":\"\"}},\"type\":\"scattergl\"}],\"scattermapbox\":[{\"marker\":{\"colorbar\":{\"outlinewidth\":0,\"ticks\":\"\"}},\"type\":\"scattermapbox\"}],\"scatterpolar\":[{\"marker\":{\"colorbar\":{\"outlinewidth\":0,\"ticks\":\"\"}},\"type\":\"scatterpolar\"}],\"scatterpolargl\":[{\"marker\":{\"colorbar\":{\"outlinewidth\":0,\"ticks\":\"\"}},\"type\":\"scatterpolargl\"}],\"scatterternary\":[{\"marker\":{\"colorbar\":{\"outlinewidth\":0,\"ticks\":\"\"}},\"type\":\"scatterternary\"}],\"surface\":[{\"colorbar\":{\"outlinewidth\":0,\"ticks\":\"\"},\"colorscale\":[[0.0,\"#0d0887\"],[0.1111111111111111,\"#46039f\"],[0.2222222222222222,\"#7201a8\"],[0.3333333333333333,\"#9c179e\"],[0.4444444444444444,\"#bd3786\"],[0.5555555555555556,\"#d8576b\"],[0.6666666666666666,\"#ed7953\"],[0.7777777777777778,\"#fb9f3a\"],[0.8888888888888888,\"#fdca26\"],[1.0,\"#f0f921\"]],\"type\":\"surface\"}],\"table\":[{\"cells\":{\"fill\":{\"color\":\"#EBF0F8\"},\"line\":{\"color\":\"white\"}},\"header\":{\"fill\":{\"color\":\"#C8D4E3\"},\"line\":{\"color\":\"white\"}},\"type\":\"table\"}]},\"layout\":{\"annotationdefaults\":{\"arrowcolor\":\"#2a3f5f\",\"arrowhead\":0,\"arrowwidth\":1},\"autotypenumbers\":\"strict\",\"coloraxis\":{\"colorbar\":{\"outlinewidth\":0,\"ticks\":\"\"}},\"colorscale\":{\"diverging\":[[0,\"#8e0152\"],[0.1,\"#c51b7d\"],[0.2,\"#de77ae\"],[0.3,\"#f1b6da\"],[0.4,\"#fde0ef\"],[0.5,\"#f7f7f7\"],[0.6,\"#e6f5d0\"],[0.7,\"#b8e186\"],[0.8,\"#7fbc41\"],[0.9,\"#4d9221\"],[1,\"#276419\"]],\"sequential\":[[0.0,\"#0d0887\"],[0.1111111111111111,\"#46039f\"],[0.2222222222222222,\"#7201a8\"],[0.3333333333333333,\"#9c179e\"],[0.4444444444444444,\"#bd3786\"],[0.5555555555555556,\"#d8576b\"],[0.6666666666666666,\"#ed7953\"],[0.7777777777777778,\"#fb9f3a\"],[0.8888888888888888,\"#fdca26\"],[1.0,\"#f0f921\"]],\"sequentialminus\":[[0.0,\"#0d0887\"],[0.1111111111111111,\"#46039f\"],[0.2222222222222222,\"#7201a8\"],[0.3333333333333333,\"#9c179e\"],[0.4444444444444444,\"#bd3786\"],[0.5555555555555556,\"#d8576b\"],[0.6666666666666666,\"#ed7953\"],[0.7777777777777778,\"#fb9f3a\"],[0.8888888888888888,\"#fdca26\"],[1.0,\"#f0f921\"]]},\"colorway\":[\"#636efa\",\"#EF553B\",\"#00cc96\",\"#ab63fa\",\"#FFA15A\",\"#19d3f3\",\"#FF6692\",\"#B6E880\",\"#FF97FF\",\"#FECB52\"],\"font\":{\"color\":\"#2a3f5f\"},\"geo\":{\"bgcolor\":\"white\",\"lakecolor\":\"white\",\"landcolor\":\"#E5ECF6\",\"showlakes\":true,\"showland\":true,\"subunitcolor\":\"white\"},\"hoverlabel\":{\"align\":\"left\"},\"hovermode\":\"closest\",\"mapbox\":{\"style\":\"light\"},\"paper_bgcolor\":\"white\",\"plot_bgcolor\":\"#E5ECF6\",\"polar\":{\"angularaxis\":{\"gridcolor\":\"white\",\"linecolor\":\"white\",\"ticks\":\"\"},\"bgcolor\":\"#E5ECF6\",\"radialaxis\":{\"gridcolor\":\"white\",\"linecolor\":\"white\",\"ticks\":\"\"}},\"scene\":{\"xaxis\":{\"backgroundcolor\":\"#E5ECF6\",\"gridcolor\":\"white\",\"gridwidth\":2,\"linecolor\":\"white\",\"showbackground\":true,\"ticks\":\"\",\"zerolinecolor\":\"white\"},\"yaxis\":{\"backgroundcolor\":\"#E5ECF6\",\"gridcolor\":\"white\",\"gridwidth\":2,\"linecolor\":\"white\",\"showbackground\":true,\"ticks\":\"\",\"zerolinecolor\":\"white\"},\"zaxis\":{\"backgroundcolor\":\"#E5ECF6\",\"gridcolor\":\"white\",\"gridwidth\":2,\"linecolor\":\"white\",\"showbackground\":true,\"ticks\":\"\",\"zerolinecolor\":\"white\"}},\"shapedefaults\":{\"line\":{\"color\":\"#2a3f5f\"}},\"ternary\":{\"aaxis\":{\"gridcolor\":\"white\",\"linecolor\":\"white\",\"ticks\":\"\"},\"baxis\":{\"gridcolor\":\"white\",\"linecolor\":\"white\",\"ticks\":\"\"},\"bgcolor\":\"#E5ECF6\",\"caxis\":{\"gridcolor\":\"white\",\"linecolor\":\"white\",\"ticks\":\"\"}},\"title\":{\"x\":0.05},\"xaxis\":{\"automargin\":true,\"gridcolor\":\"white\",\"linecolor\":\"white\",\"ticks\":\"\",\"title\":{\"standoff\":15},\"zerolinecolor\":\"white\",\"zerolinewidth\":2},\"yaxis\":{\"automargin\":true,\"gridcolor\":\"white\",\"linecolor\":\"white\",\"ticks\":\"\",\"title\":{\"standoff\":15},\"zerolinecolor\":\"white\",\"zerolinewidth\":2}}},\"xaxis\":{\"anchor\":\"y\",\"domain\":[0.0,1.0],\"title\":{\"text\":\"domain\"}},\"yaxis\":{\"anchor\":\"x\",\"domain\":[0.0,1.0],\"title\":{\"text\":\"sum of word_freq\"}},\"legend\":{\"title\":{\"text\":\"tag\"},\"tracegroupgap\":0},\"margin\":{\"t\":60},\"barmode\":\"group\"},                        {\"responsive\": true}                    ).then(function(){\n",
       "                            \n",
       "var gd = document.getElementById('5d08045c-86ab-4c15-9e84-ec9ab6365f1b');\n",
       "var x = new MutationObserver(function (mutations, observer) {{\n",
       "        var display = window.getComputedStyle(gd).display;\n",
       "        if (!display || display === 'none') {{\n",
       "            console.log([gd, 'removed!']);\n",
       "            Plotly.purge(gd);\n",
       "            observer.disconnect();\n",
       "        }}\n",
       "}});\n",
       "\n",
       "// Listen for the removal of the full notebook cells\n",
       "var notebookContainer = gd.closest('#notebook-container');\n",
       "if (notebookContainer) {{\n",
       "    x.observe(notebookContainer, {childList: true});\n",
       "}}\n",
       "\n",
       "// Listen for the clearing of the current output cell\n",
       "var outputEl = gd.closest('.output');\n",
       "if (outputEl) {{\n",
       "    x.observe(outputEl, {childList: true});\n",
       "}}\n",
       "\n",
       "                        })                };                });            </script>        </div>"
      ]
     },
     "metadata": {},
     "output_type": "display_data"
    }
   ],
   "source": [
    "domains = []\n",
    "for domain in domain_word_count:\n",
    "    sorted_tags = dict(\n",
    "        sorted(domain[\"ner_object_frequecy\"].items(), key=lambda item: item[1], reverse=True)\n",
    "    )\n",
    "    index: int = 10\n",
    "\n",
    "    for word in sorted_tags:\n",
    "        tag_: str = \"\"\n",
    "        for tag in domain[\"ner_tag_object\"]:\n",
    "            if word in domain[\"ner_tag_object\"][tag]:\n",
    "                tag_ = tag\n",
    "                break\n",
    "\n",
    "        domains.append(\n",
    "            {\n",
    "                \"domain\": domain[\"domain\"],\n",
    "                \"type\": domain[\"type\"],\n",
    "                \"word\": word,\n",
    "                \"word_freq\": domain[\"ner_object_frequecy\"][word],\n",
    "                \"tag\": tag_,\n",
    "            }\n",
    "        )\n",
    "        index -= 1\n",
    "        if index == 0:\n",
    "            break\n",
    "\n",
    "fig = px.histogram(domains, x=\"domain\", y=\"word_freq\", color=\"tag\", text_auto=\".2s\", barmode='group')\n",
    "fig.show()"
   ]
  },
  {
   "cell_type": "code",
   "execution_count": 26,
   "metadata": {},
   "outputs": [],
   "source": [
    "# import pickle\n",
    "# with open(\"../models/pickles/ner_per_domain.pickle\", \"wb\") as o:\n",
    "#     pickle.dump(domain_word_count, o)"
   ]
  },
  {
   "cell_type": "code",
   "execution_count": 27,
   "metadata": {},
   "outputs": [],
   "source": [
    "# import gzip\n",
    "# import pickle\n",
    "# with gzip.open(\"../models/pickles/ner_per_domain.gzip\", \"wb\") as o:\n",
    "    # pickle.dump(domain_word_count, o)"
   ]
  },
  {
   "cell_type": "markdown",
   "metadata": {},
   "source": [
    "N-grams"
   ]
  },
  {
   "cell_type": "markdown",
   "metadata": {},
   "source": [
    "keyword extraction"
   ]
  },
  {
   "cell_type": "markdown",
   "metadata": {},
   "source": [
    "TF-IDF"
   ]
  },
  {
   "cell_type": "markdown",
   "metadata": {},
   "source": [
    "POS"
   ]
  },
  {
   "cell_type": "code",
   "execution_count": 75,
   "metadata": {},
   "outputs": [],
   "source": [
    "import tqdm"
   ]
  },
  {
   "cell_type": "code",
   "execution_count": 78,
   "metadata": {},
   "outputs": [
    {
     "name": "stdout",
     "output_type": "stream",
     "text": [
      "monden/\n"
     ]
    },
    {
     "name": "stderr",
     "output_type": "stream",
     "text": [
      "100%|██████████| 6360/6360 [07:40<00:00, 13.80it/s]\n"
     ]
    },
    {
     "name": "stdout",
     "output_type": "stream",
     "text": [
      "it-stiinta/\n"
     ]
    },
    {
     "name": "stderr",
     "output_type": "stream",
     "text": [
      "100%|██████████| 1503/1503 [02:02<00:00, 12.31it/s]\n"
     ]
    },
    {
     "name": "stdout",
     "output_type": "stream",
     "text": [
      "sport/\n"
     ]
    },
    {
     "name": "stderr",
     "output_type": "stream",
     "text": [
      "100%|██████████| 1167/1167 [01:34<00:00, 12.41it/s]\n"
     ]
    },
    {
     "name": "stdout",
     "output_type": "stream",
     "text": [
      "politic/\n"
     ]
    },
    {
     "name": "stderr",
     "output_type": "stream",
     "text": [
      "100%|██████████| 5209/5209 [06:03<00:00, 14.35it/s]\n"
     ]
    },
    {
     "name": "stdout",
     "output_type": "stream",
     "text": [
      "life-death/\n"
     ]
    },
    {
     "name": "stderr",
     "output_type": "stream",
     "text": [
      "100%|██████████| 6264/6264 [06:43<00:00, 15.51it/s]\n"
     ]
    },
    {
     "name": "stdout",
     "output_type": "stream",
     "text": [
      "\n"
     ]
    },
    {
     "name": "stderr",
     "output_type": "stream",
     "text": [
      "100%|██████████| 2772/2772 [04:42<00:00,  9.82it/s]\n"
     ]
    },
    {
     "name": "stdout",
     "output_type": "stream",
     "text": [
      "stiri/economie\n"
     ]
    },
    {
     "name": "stderr",
     "output_type": "stream",
     "text": [
      "100%|██████████| 19362/19362 [34:28<00:00,  9.36it/s] \n"
     ]
    },
    {
     "name": "stdout",
     "output_type": "stream",
     "text": [
      "stiri/externe\n"
     ]
    },
    {
     "name": "stderr",
     "output_type": "stream",
     "text": [
      "100%|██████████| 26892/26892 [45:12<00:00,  9.91it/s]  \n"
     ]
    },
    {
     "name": "stdout",
     "output_type": "stream",
     "text": [
      "stiri/actualitate\n"
     ]
    },
    {
     "name": "stderr",
     "output_type": "stream",
     "text": [
      "100%|██████████| 40760/40760 [1:10:44<00:00,  9.60it/s]\n"
     ]
    },
    {
     "name": "stdout",
     "output_type": "stream",
     "text": [
      "stiri/actualitate/politica\n"
     ]
    },
    {
     "name": "stderr",
     "output_type": "stream",
     "text": [
      "100%|██████████| 32783/32783 [57:27<00:00,  9.51it/s]  \n"
     ]
    },
    {
     "name": "stdout",
     "output_type": "stream",
     "text": [
      "stiri/sport\n"
     ]
    },
    {
     "name": "stderr",
     "output_type": "stream",
     "text": [
      "100%|██████████| 3404/3404 [06:14<00:00,  9.09it/s]\n"
     ]
    },
    {
     "name": "stdout",
     "output_type": "stream",
     "text": [
      "stiri/sci-tech\n"
     ]
    },
    {
     "name": "stderr",
     "output_type": "stream",
     "text": [
      "100%|██████████| 2208/2208 [04:19<00:00,  8.51it/s]\n"
     ]
    }
   ],
   "source": [
    "nlp = spacy.load(\"ro_core_news_sm\")\n",
    "\n",
    "domain_word_count = []\n",
    "for domain in df[\"domain\"].unique():\n",
    "    print(domain)\n",
    "    pos_object_frequecy: dict[str, int] = {}\n",
    "    pos_tag_object: dict[str, list[str]] = {}\n",
    "\n",
    "    for news in tqdm.tqdm(df[df.domain == domain][\"content\"]):\n",
    "        doc = nlp(news)\n",
    "        for ent in doc:\n",
    "\n",
    "            if ent.text not in pos_object_frequecy.keys():\n",
    "                pos_object_frequecy[ent.text] = 1\n",
    "            else:\n",
    "                pos_object_frequecy[ent.text] += 1\n",
    "\n",
    "            if ent.pos_ not in pos_tag_object.keys():\n",
    "                pos_tag_object[ent.pos_] = [ent.text]\n",
    "            else:\n",
    "                pos_tag_object[ent.pos_].append(ent.text)\n",
    "    domain_word_count.append(\n",
    "        {\n",
    "            \"domain\": domain,\n",
    "            \"pos_object_frequecy\": pos_object_frequecy,\n",
    "            \"pos_tag_object\": pos_tag_object,\n",
    "            \"type\": \"valid\" if (\"stiri\" in domain) or (\"\" == domain) else \"fake\",\n",
    "        }\n",
    "    )\n"
   ]
  },
  {
   "cell_type": "code",
   "execution_count": 81,
   "metadata": {},
   "outputs": [],
   "source": [
    "# import gzip\n",
    "# import pickle\n",
    "# with gzip.open(\"../models/pickles/pos_per_domain.gzip\", \"wb\") as o:\n",
    "#     pickle.dump(domain_word_count, o)"
   ]
  },
  {
   "cell_type": "code",
   "execution_count": 82,
   "metadata": {},
   "outputs": [
    {
     "data": {
      "text/html": [
       "<div>                            <div id=\"cafee346-8121-4bda-b9be-81cd073ff45f\" class=\"plotly-graph-div\" style=\"height:525px; width:100%;\"></div>            <script type=\"text/javascript\">                require([\"plotly\"], function(Plotly) {                    window.PLOTLYENV=window.PLOTLYENV || {};                                    if (document.getElementById(\"cafee346-8121-4bda-b9be-81cd073ff45f\")) {                    Plotly.newPlot(                        \"cafee346-8121-4bda-b9be-81cd073ff45f\",                        [{\"alignmentgroup\":\"True\",\"bingroup\":\"x\",\"histfunc\":\"sum\",\"hovertemplate\":\"domain=monden/<br>tag=%{x}<br>sum of tag_length=%{y}<extra></extra>\",\"legendgroup\":\"monden/\",\"marker\":{\"color\":\"#636efa\",\"pattern\":{\"shape\":\"\"}},\"name\":\"monden/\",\"offsetgroup\":\"monden/\",\"orientation\":\"v\",\"showlegend\":true,\"texttemplate\":\"%{value:.2s}\",\"x\":[\"ADV\",\"PART\",\"AUX\",\"SCONJ\",\"ADJ\",\"PUNCT\",\"PROPN\",\"VERB\",\"NOUN\",\"ADP\",\"DET\",\"PRON\",\"\",\"CCONJ\",\"NUM\",\"INTJ\",\"X\",\"SYM\"],\"xaxis\":\"x\",\"y\":[86599,48364,149659,27172,60198,172318,59026,96738,270063,175025,68594,96625,7866,37178,9552,606,322,343],\"yaxis\":\"y\",\"type\":\"histogram\"},{\"alignmentgroup\":\"True\",\"bingroup\":\"x\",\"histfunc\":\"sum\",\"hovertemplate\":\"domain=it-stiinta/<br>tag=%{x}<br>sum of tag_length=%{y}<extra></extra>\",\"legendgroup\":\"it-stiinta/\",\"marker\":{\"color\":\"#EF553B\",\"pattern\":{\"shape\":\"\"}},\"name\":\"it-stiinta/\",\"offsetgroup\":\"it-stiinta/\",\"orientation\":\"v\",\"showlegend\":true,\"texttemplate\":\"%{value:.2s}\",\"x\":[\"PROPN\",\"ADP\",\"NOUN\",\"ADJ\",\"PUNCT\",\"NUM\",\"AUX\",\"VERB\",\"ADV\",\"DET\",\"PRON\",\"PART\",\"SCONJ\",\"CCONJ\",\"\",\"INTJ\",\"SYM\",\"X\"],\"xaxis\":\"x\",\"y\":[11724,42506,67357,16105,39641,2400,35187,22900,21137,16577,21601,11356,6778,9836,2148,121,85,105],\"yaxis\":\"y\",\"type\":\"histogram\"},{\"alignmentgroup\":\"True\",\"bingroup\":\"x\",\"histfunc\":\"sum\",\"hovertemplate\":\"domain=sport/<br>tag=%{x}<br>sum of tag_length=%{y}<extra></extra>\",\"legendgroup\":\"sport/\",\"marker\":{\"color\":\"#00cc96\",\"pattern\":{\"shape\":\"\"}},\"name\":\"sport/\",\"offsetgroup\":\"sport/\",\"orientation\":\"v\",\"showlegend\":true,\"texttemplate\":\"%{value:.2s}\",\"x\":[\"ADP\",\"NOUN\",\"PART\",\"ADV\",\"PRON\",\"VERB\",\"ADJ\",\"PUNCT\",\"DET\",\"NUM\",\"AUX\",\"SCONJ\",\"CCONJ\",\"PROPN\",\"\",\"X\",\"INTJ\",\"SYM\"],\"xaxis\":\"x\",\"y\":[33974,51240,9740,17191,18237,19241,11035,32784,12739,1992,29553,5793,6519,13223,1492,48,97,62],\"yaxis\":\"y\",\"type\":\"histogram\"},{\"alignmentgroup\":\"True\",\"bingroup\":\"x\",\"histfunc\":\"sum\",\"hovertemplate\":\"domain=politic/<br>tag=%{x}<br>sum of tag_length=%{y}<extra></extra>\",\"legendgroup\":\"politic/\",\"marker\":{\"color\":\"#ab63fa\",\"pattern\":{\"shape\":\"\"}},\"name\":\"politic/\",\"offsetgroup\":\"politic/\",\"orientation\":\"v\",\"showlegend\":true,\"texttemplate\":\"%{value:.2s}\",\"x\":[\"NOUN\",\"PROPN\",\"ADJ\",\"AUX\",\"VERB\",\"ADP\",\"DET\",\"PRON\",\"PUNCT\",\"SCONJ\",\"ADV\",\"PART\",\"NUM\",\"\",\"CCONJ\",\"X\",\"INTJ\",\"SYM\"],\"xaxis\":\"x\",\"y\":[222679,55777,49547,123226,81853,142227,54420,75268,136797,23454,69244,41450,7735,6362,29247,230,471,198],\"yaxis\":\"y\",\"type\":\"histogram\"},{\"alignmentgroup\":\"True\",\"bingroup\":\"x\",\"histfunc\":\"sum\",\"hovertemplate\":\"domain=life-death/<br>tag=%{x}<br>sum of tag_length=%{y}<extra></extra>\",\"legendgroup\":\"life-death/\",\"marker\":{\"color\":\"#FFA15A\",\"pattern\":{\"shape\":\"\"}},\"name\":\"life-death/\",\"offsetgroup\":\"life-death/\",\"orientation\":\"v\",\"showlegend\":true,\"texttemplate\":\"%{value:.2s}\",\"x\":[\"NUM\",\"NOUN\",\"ADJ\",\"AUX\",\"VERB\",\"ADP\",\"DET\",\"PROPN\",\"PRON\",\"ADV\",\"PUNCT\",\"SCONJ\",\"\",\"PART\",\"CCONJ\",\"INTJ\",\"X\",\"SYM\"],\"xaxis\":\"x\",\"y\":[9906,291213,62448,150854,100284,184967,67216,46224,95237,87869,168298,27954,8593,50740,38747,592,299,180],\"yaxis\":\"y\",\"type\":\"histogram\"},{\"alignmentgroup\":\"True\",\"bingroup\":\"x\",\"histfunc\":\"sum\",\"hovertemplate\":\"domain=<br>tag=%{x}<br>sum of tag_length=%{y}<extra></extra>\",\"legendgroup\":\"\",\"marker\":{\"color\":\"#19d3f3\",\"pattern\":{\"shape\":\"\"}},\"name\":\"\",\"offsetgroup\":\"\",\"orientation\":\"v\",\"showlegend\":false,\"texttemplate\":\"%{value:.2s}\",\"x\":[\"PUNCT\",\"AUX\",\"VERB\",\"ADV\",\"NOUN\",\"ADJ\",\"PART\",\"PRON\",\"ADP\",\"PROPN\",\"DET\",\"SCONJ\",\"CCONJ\",\"NUM\",\"\",\"X\",\"SYM\",\"INTJ\",\"SPACE\"],\"xaxis\":\"x\",\"y\":[134612,71917,64524,36171,229447,61190,14308,31420,161125,67273,41912,10546,24686,13741,41152,450,373,62,1],\"yaxis\":\"y\",\"type\":\"histogram\"},{\"alignmentgroup\":\"True\",\"bingroup\":\"x\",\"histfunc\":\"sum\",\"hovertemplate\":\"domain=stiri/economie<br>tag=%{x}<br>sum of tag_length=%{y}<extra></extra>\",\"legendgroup\":\"stiri/economie\",\"marker\":{\"color\":\"#FF6692\",\"pattern\":{\"shape\":\"\"}},\"name\":\"stiri/economie\",\"offsetgroup\":\"stiri/economie\",\"orientation\":\"v\",\"showlegend\":true,\"texttemplate\":\"%{value:.2s}\",\"x\":[\"NOUN\",\"AUX\",\"VERB\",\"ADV\",\"SCONJ\",\"\",\"NUM\",\"ADP\",\"PRON\",\"DET\",\"ADJ\",\"PROPN\",\"PUNCT\",\"CCONJ\",\"PART\",\"SYM\",\"X\",\"INTJ\",\"SPACE\"],\"xaxis\":\"x\",\"y\":[2223445,715938,583693,404056,104094,176625,143958,1382718,363517,437122,535787,375639,1040420,236187,187911,1792,2195,1192,7],\"yaxis\":\"y\",\"type\":\"histogram\"},{\"alignmentgroup\":\"True\",\"bingroup\":\"x\",\"histfunc\":\"sum\",\"hovertemplate\":\"domain=stiri/externe<br>tag=%{x}<br>sum of tag_length=%{y}<extra></extra>\",\"legendgroup\":\"stiri/externe\",\"marker\":{\"color\":\"#B6E880\",\"pattern\":{\"shape\":\"\"}},\"name\":\"stiri/externe\",\"offsetgroup\":\"stiri/externe\",\"orientation\":\"v\",\"showlegend\":true,\"texttemplate\":\"%{value:.2s}\",\"x\":[\"NOUN\",\"PRON\",\"AUX\",\"VERB\",\"ADP\",\"PROPN\",\"\",\"DET\",\"ADV\",\"PUNCT\",\"ADJ\",\"SCONJ\",\"CCONJ\",\"PART\",\"INTJ\",\"X\",\"NUM\",\"SYM\",\"SPACE\"],\"xaxis\":\"x\",\"y\":[2612563,475237,993862,846317,1638771,651983,141579,601952,446667,1302130,675416,143407,282056,238678,1033,1786,118529,839,132],\"yaxis\":\"y\",\"type\":\"histogram\"},{\"alignmentgroup\":\"True\",\"bingroup\":\"x\",\"histfunc\":\"sum\",\"hovertemplate\":\"domain=stiri/actualitate<br>tag=%{x}<br>sum of tag_length=%{y}<extra></extra>\",\"legendgroup\":\"stiri/actualitate\",\"marker\":{\"color\":\"#FF97FF\",\"pattern\":{\"shape\":\"\"}},\"name\":\"stiri/actualitate\",\"offsetgroup\":\"stiri/actualitate\",\"orientation\":\"v\",\"showlegend\":true,\"texttemplate\":\"%{value:.2s}\",\"x\":[\"DET\",\"NOUN\",\"ADP\",\"PROPN\",\"AUX\",\"VERB\",\"PUNCT\",\"ADJ\",\"NUM\",\"SCONJ\",\"PART\",\"PRON\",\"CCONJ\",\"ADV\",\"\",\"X\",\"INTJ\",\"SYM\",\"SPACE\"],\"xaxis\":\"x\",\"y\":[848612,4236061,2540221,855658,1594336,1263577,2205994,936633,169745,249208,433746,856828,482147,739561,287278,3165,4253,2531,2],\"yaxis\":\"y\",\"type\":\"histogram\"},{\"alignmentgroup\":\"True\",\"bingroup\":\"x\",\"histfunc\":\"sum\",\"hovertemplate\":\"domain=stiri/actualitate/politica<br>tag=%{x}<br>sum of tag_length=%{y}<extra></extra>\",\"legendgroup\":\"stiri/actualitate/politica\",\"marker\":{\"color\":\"#FECB52\",\"pattern\":{\"shape\":\"\"}},\"name\":\"stiri/actualitate/politica\",\"offsetgroup\":\"stiri/actualitate/politica\",\"orientation\":\"v\",\"showlegend\":true,\"texttemplate\":\"%{value:.2s}\",\"x\":[\"PROPN\",\"PUNCT\",\"ADP\",\"DET\",\"NOUN\",\"SCONJ\",\"PRON\",\"AUX\",\"VERB\",\"ADJ\",\"PART\",\"CCONJ\",\"ADV\",\"\",\"SYM\",\"NUM\",\"INTJ\",\"X\",\"SPACE\"],\"xaxis\":\"x\",\"y\":[786971,1795534,1885649,730506,3323875,253055,751078,1364999,1036616,735227,428051,401717,609041,139849,2315,119745,4591,2736,4],\"yaxis\":\"y\",\"type\":\"histogram\"},{\"alignmentgroup\":\"True\",\"bingroup\":\"x\",\"histfunc\":\"sum\",\"hovertemplate\":\"domain=stiri/sport<br>tag=%{x}<br>sum of tag_length=%{y}<extra></extra>\",\"legendgroup\":\"stiri/sport\",\"marker\":{\"color\":\"#636efa\",\"pattern\":{\"shape\":\"\"}},\"name\":\"stiri/sport\",\"offsetgroup\":\"stiri/sport\",\"orientation\":\"v\",\"showlegend\":true,\"texttemplate\":\"%{value:.2s}\",\"x\":[\"PROPN\",\"AUX\",\"VERB\",\"ADP\",\"DET\",\"NUM\",\"NOUN\",\"PUNCT\",\"PRON\",\"ADV\",\"ADJ\",\"\",\"CCONJ\",\"PART\",\"SCONJ\",\"INTJ\",\"X\",\"SYM\",\"SPACE\"],\"xaxis\":\"x\",\"y\":[153348,142387,104277,216261,69449,29868,309217,225336,68180,64416,64405,41340,38533,29488,15190,344,411,467,5],\"yaxis\":\"y\",\"type\":\"histogram\"},{\"alignmentgroup\":\"True\",\"bingroup\":\"x\",\"histfunc\":\"sum\",\"hovertemplate\":\"domain=stiri/sci-tech<br>tag=%{x}<br>sum of tag_length=%{y}<extra></extra>\",\"legendgroup\":\"stiri/sci-tech\",\"marker\":{\"color\":\"#EF553B\",\"pattern\":{\"shape\":\"\"}},\"name\":\"stiri/sci-tech\",\"offsetgroup\":\"stiri/sci-tech\",\"orientation\":\"v\",\"showlegend\":true,\"texttemplate\":\"%{value:.2s}\",\"x\":[\"ADJ\",\"PROPN\",\"AUX\",\"VERB\",\"SCONJ\",\"PART\",\"NOUN\",\"ADP\",\"PRON\",\"PUNCT\",\"ADV\",\"DET\",\"CCONJ\",\"\",\"NUM\",\"X\",\"SYM\",\"INTJ\",\"SPACE\"],\"xaxis\":\"x\",\"y\":[70878,48794,93971,80108,13513,23323,265117,163662,49193,126118,54467,61944,29892,13956,11512,217,125,106,11],\"yaxis\":\"y\",\"type\":\"histogram\"}],                        {\"template\":{\"data\":{\"bar\":[{\"error_x\":{\"color\":\"#2a3f5f\"},\"error_y\":{\"color\":\"#2a3f5f\"},\"marker\":{\"line\":{\"color\":\"#E5ECF6\",\"width\":0.5},\"pattern\":{\"fillmode\":\"overlay\",\"size\":10,\"solidity\":0.2}},\"type\":\"bar\"}],\"barpolar\":[{\"marker\":{\"line\":{\"color\":\"#E5ECF6\",\"width\":0.5},\"pattern\":{\"fillmode\":\"overlay\",\"size\":10,\"solidity\":0.2}},\"type\":\"barpolar\"}],\"carpet\":[{\"aaxis\":{\"endlinecolor\":\"#2a3f5f\",\"gridcolor\":\"white\",\"linecolor\":\"white\",\"minorgridcolor\":\"white\",\"startlinecolor\":\"#2a3f5f\"},\"baxis\":{\"endlinecolor\":\"#2a3f5f\",\"gridcolor\":\"white\",\"linecolor\":\"white\",\"minorgridcolor\":\"white\",\"startlinecolor\":\"#2a3f5f\"},\"type\":\"carpet\"}],\"choropleth\":[{\"colorbar\":{\"outlinewidth\":0,\"ticks\":\"\"},\"type\":\"choropleth\"}],\"contour\":[{\"colorbar\":{\"outlinewidth\":0,\"ticks\":\"\"},\"colorscale\":[[0.0,\"#0d0887\"],[0.1111111111111111,\"#46039f\"],[0.2222222222222222,\"#7201a8\"],[0.3333333333333333,\"#9c179e\"],[0.4444444444444444,\"#bd3786\"],[0.5555555555555556,\"#d8576b\"],[0.6666666666666666,\"#ed7953\"],[0.7777777777777778,\"#fb9f3a\"],[0.8888888888888888,\"#fdca26\"],[1.0,\"#f0f921\"]],\"type\":\"contour\"}],\"contourcarpet\":[{\"colorbar\":{\"outlinewidth\":0,\"ticks\":\"\"},\"type\":\"contourcarpet\"}],\"heatmap\":[{\"colorbar\":{\"outlinewidth\":0,\"ticks\":\"\"},\"colorscale\":[[0.0,\"#0d0887\"],[0.1111111111111111,\"#46039f\"],[0.2222222222222222,\"#7201a8\"],[0.3333333333333333,\"#9c179e\"],[0.4444444444444444,\"#bd3786\"],[0.5555555555555556,\"#d8576b\"],[0.6666666666666666,\"#ed7953\"],[0.7777777777777778,\"#fb9f3a\"],[0.8888888888888888,\"#fdca26\"],[1.0,\"#f0f921\"]],\"type\":\"heatmap\"}],\"heatmapgl\":[{\"colorbar\":{\"outlinewidth\":0,\"ticks\":\"\"},\"colorscale\":[[0.0,\"#0d0887\"],[0.1111111111111111,\"#46039f\"],[0.2222222222222222,\"#7201a8\"],[0.3333333333333333,\"#9c179e\"],[0.4444444444444444,\"#bd3786\"],[0.5555555555555556,\"#d8576b\"],[0.6666666666666666,\"#ed7953\"],[0.7777777777777778,\"#fb9f3a\"],[0.8888888888888888,\"#fdca26\"],[1.0,\"#f0f921\"]],\"type\":\"heatmapgl\"}],\"histogram\":[{\"marker\":{\"pattern\":{\"fillmode\":\"overlay\",\"size\":10,\"solidity\":0.2}},\"type\":\"histogram\"}],\"histogram2d\":[{\"colorbar\":{\"outlinewidth\":0,\"ticks\":\"\"},\"colorscale\":[[0.0,\"#0d0887\"],[0.1111111111111111,\"#46039f\"],[0.2222222222222222,\"#7201a8\"],[0.3333333333333333,\"#9c179e\"],[0.4444444444444444,\"#bd3786\"],[0.5555555555555556,\"#d8576b\"],[0.6666666666666666,\"#ed7953\"],[0.7777777777777778,\"#fb9f3a\"],[0.8888888888888888,\"#fdca26\"],[1.0,\"#f0f921\"]],\"type\":\"histogram2d\"}],\"histogram2dcontour\":[{\"colorbar\":{\"outlinewidth\":0,\"ticks\":\"\"},\"colorscale\":[[0.0,\"#0d0887\"],[0.1111111111111111,\"#46039f\"],[0.2222222222222222,\"#7201a8\"],[0.3333333333333333,\"#9c179e\"],[0.4444444444444444,\"#bd3786\"],[0.5555555555555556,\"#d8576b\"],[0.6666666666666666,\"#ed7953\"],[0.7777777777777778,\"#fb9f3a\"],[0.8888888888888888,\"#fdca26\"],[1.0,\"#f0f921\"]],\"type\":\"histogram2dcontour\"}],\"mesh3d\":[{\"colorbar\":{\"outlinewidth\":0,\"ticks\":\"\"},\"type\":\"mesh3d\"}],\"parcoords\":[{\"line\":{\"colorbar\":{\"outlinewidth\":0,\"ticks\":\"\"}},\"type\":\"parcoords\"}],\"pie\":[{\"automargin\":true,\"type\":\"pie\"}],\"scatter\":[{\"marker\":{\"colorbar\":{\"outlinewidth\":0,\"ticks\":\"\"}},\"type\":\"scatter\"}],\"scatter3d\":[{\"line\":{\"colorbar\":{\"outlinewidth\":0,\"ticks\":\"\"}},\"marker\":{\"colorbar\":{\"outlinewidth\":0,\"ticks\":\"\"}},\"type\":\"scatter3d\"}],\"scattercarpet\":[{\"marker\":{\"colorbar\":{\"outlinewidth\":0,\"ticks\":\"\"}},\"type\":\"scattercarpet\"}],\"scattergeo\":[{\"marker\":{\"colorbar\":{\"outlinewidth\":0,\"ticks\":\"\"}},\"type\":\"scattergeo\"}],\"scattergl\":[{\"marker\":{\"colorbar\":{\"outlinewidth\":0,\"ticks\":\"\"}},\"type\":\"scattergl\"}],\"scattermapbox\":[{\"marker\":{\"colorbar\":{\"outlinewidth\":0,\"ticks\":\"\"}},\"type\":\"scattermapbox\"}],\"scatterpolar\":[{\"marker\":{\"colorbar\":{\"outlinewidth\":0,\"ticks\":\"\"}},\"type\":\"scatterpolar\"}],\"scatterpolargl\":[{\"marker\":{\"colorbar\":{\"outlinewidth\":0,\"ticks\":\"\"}},\"type\":\"scatterpolargl\"}],\"scatterternary\":[{\"marker\":{\"colorbar\":{\"outlinewidth\":0,\"ticks\":\"\"}},\"type\":\"scatterternary\"}],\"surface\":[{\"colorbar\":{\"outlinewidth\":0,\"ticks\":\"\"},\"colorscale\":[[0.0,\"#0d0887\"],[0.1111111111111111,\"#46039f\"],[0.2222222222222222,\"#7201a8\"],[0.3333333333333333,\"#9c179e\"],[0.4444444444444444,\"#bd3786\"],[0.5555555555555556,\"#d8576b\"],[0.6666666666666666,\"#ed7953\"],[0.7777777777777778,\"#fb9f3a\"],[0.8888888888888888,\"#fdca26\"],[1.0,\"#f0f921\"]],\"type\":\"surface\"}],\"table\":[{\"cells\":{\"fill\":{\"color\":\"#EBF0F8\"},\"line\":{\"color\":\"white\"}},\"header\":{\"fill\":{\"color\":\"#C8D4E3\"},\"line\":{\"color\":\"white\"}},\"type\":\"table\"}]},\"layout\":{\"annotationdefaults\":{\"arrowcolor\":\"#2a3f5f\",\"arrowhead\":0,\"arrowwidth\":1},\"autotypenumbers\":\"strict\",\"coloraxis\":{\"colorbar\":{\"outlinewidth\":0,\"ticks\":\"\"}},\"colorscale\":{\"diverging\":[[0,\"#8e0152\"],[0.1,\"#c51b7d\"],[0.2,\"#de77ae\"],[0.3,\"#f1b6da\"],[0.4,\"#fde0ef\"],[0.5,\"#f7f7f7\"],[0.6,\"#e6f5d0\"],[0.7,\"#b8e186\"],[0.8,\"#7fbc41\"],[0.9,\"#4d9221\"],[1,\"#276419\"]],\"sequential\":[[0.0,\"#0d0887\"],[0.1111111111111111,\"#46039f\"],[0.2222222222222222,\"#7201a8\"],[0.3333333333333333,\"#9c179e\"],[0.4444444444444444,\"#bd3786\"],[0.5555555555555556,\"#d8576b\"],[0.6666666666666666,\"#ed7953\"],[0.7777777777777778,\"#fb9f3a\"],[0.8888888888888888,\"#fdca26\"],[1.0,\"#f0f921\"]],\"sequentialminus\":[[0.0,\"#0d0887\"],[0.1111111111111111,\"#46039f\"],[0.2222222222222222,\"#7201a8\"],[0.3333333333333333,\"#9c179e\"],[0.4444444444444444,\"#bd3786\"],[0.5555555555555556,\"#d8576b\"],[0.6666666666666666,\"#ed7953\"],[0.7777777777777778,\"#fb9f3a\"],[0.8888888888888888,\"#fdca26\"],[1.0,\"#f0f921\"]]},\"colorway\":[\"#636efa\",\"#EF553B\",\"#00cc96\",\"#ab63fa\",\"#FFA15A\",\"#19d3f3\",\"#FF6692\",\"#B6E880\",\"#FF97FF\",\"#FECB52\"],\"font\":{\"color\":\"#2a3f5f\"},\"geo\":{\"bgcolor\":\"white\",\"lakecolor\":\"white\",\"landcolor\":\"#E5ECF6\",\"showlakes\":true,\"showland\":true,\"subunitcolor\":\"white\"},\"hoverlabel\":{\"align\":\"left\"},\"hovermode\":\"closest\",\"mapbox\":{\"style\":\"light\"},\"paper_bgcolor\":\"white\",\"plot_bgcolor\":\"#E5ECF6\",\"polar\":{\"angularaxis\":{\"gridcolor\":\"white\",\"linecolor\":\"white\",\"ticks\":\"\"},\"bgcolor\":\"#E5ECF6\",\"radialaxis\":{\"gridcolor\":\"white\",\"linecolor\":\"white\",\"ticks\":\"\"}},\"scene\":{\"xaxis\":{\"backgroundcolor\":\"#E5ECF6\",\"gridcolor\":\"white\",\"gridwidth\":2,\"linecolor\":\"white\",\"showbackground\":true,\"ticks\":\"\",\"zerolinecolor\":\"white\"},\"yaxis\":{\"backgroundcolor\":\"#E5ECF6\",\"gridcolor\":\"white\",\"gridwidth\":2,\"linecolor\":\"white\",\"showbackground\":true,\"ticks\":\"\",\"zerolinecolor\":\"white\"},\"zaxis\":{\"backgroundcolor\":\"#E5ECF6\",\"gridcolor\":\"white\",\"gridwidth\":2,\"linecolor\":\"white\",\"showbackground\":true,\"ticks\":\"\",\"zerolinecolor\":\"white\"}},\"shapedefaults\":{\"line\":{\"color\":\"#2a3f5f\"}},\"ternary\":{\"aaxis\":{\"gridcolor\":\"white\",\"linecolor\":\"white\",\"ticks\":\"\"},\"baxis\":{\"gridcolor\":\"white\",\"linecolor\":\"white\",\"ticks\":\"\"},\"bgcolor\":\"#E5ECF6\",\"caxis\":{\"gridcolor\":\"white\",\"linecolor\":\"white\",\"ticks\":\"\"}},\"title\":{\"x\":0.05},\"xaxis\":{\"automargin\":true,\"gridcolor\":\"white\",\"linecolor\":\"white\",\"ticks\":\"\",\"title\":{\"standoff\":15},\"zerolinecolor\":\"white\",\"zerolinewidth\":2},\"yaxis\":{\"automargin\":true,\"gridcolor\":\"white\",\"linecolor\":\"white\",\"ticks\":\"\",\"title\":{\"standoff\":15},\"zerolinecolor\":\"white\",\"zerolinewidth\":2}}},\"xaxis\":{\"anchor\":\"y\",\"domain\":[0.0,1.0],\"title\":{\"text\":\"tag\"}},\"yaxis\":{\"anchor\":\"x\",\"domain\":[0.0,1.0],\"title\":{\"text\":\"sum of tag_length\"}},\"legend\":{\"title\":{\"text\":\"domain\"},\"tracegroupgap\":0},\"margin\":{\"t\":60},\"barmode\":\"relative\"},                        {\"responsive\": true}                    ).then(function(){\n",
       "                            \n",
       "var gd = document.getElementById('cafee346-8121-4bda-b9be-81cd073ff45f');\n",
       "var x = new MutationObserver(function (mutations, observer) {{\n",
       "        var display = window.getComputedStyle(gd).display;\n",
       "        if (!display || display === 'none') {{\n",
       "            console.log([gd, 'removed!']);\n",
       "            Plotly.purge(gd);\n",
       "            observer.disconnect();\n",
       "        }}\n",
       "}});\n",
       "\n",
       "// Listen for the removal of the full notebook cells\n",
       "var notebookContainer = gd.closest('#notebook-container');\n",
       "if (notebookContainer) {{\n",
       "    x.observe(notebookContainer, {childList: true});\n",
       "}}\n",
       "\n",
       "// Listen for the clearing of the current output cell\n",
       "var outputEl = gd.closest('.output');\n",
       "if (outputEl) {{\n",
       "    x.observe(outputEl, {childList: true});\n",
       "}}\n",
       "\n",
       "                        })                };                });            </script>        </div>"
      ]
     },
     "metadata": {},
     "output_type": "display_data"
    }
   ],
   "source": [
    "domains = []\n",
    "for domain in domain_word_count:\n",
    "    for tag in domain[\"pos_tag_object\"]:\n",
    "        domains.append(\n",
    "            {\n",
    "                \"domain\": domain[\"domain\"],\n",
    "                \"type\": domain[\"type\"],\n",
    "                \"tag\": tag,\n",
    "                \"tag_length\": len(domain[\"pos_tag_object\"][tag]),\n",
    "            }\n",
    "        )\n",
    "        \n",
    "fig = px.histogram(\n",
    "    domains, x=\"tag\", y=\"tag_length\", color=\"domain\", text_auto=\".2s\"\n",
    ")\n",
    "fig.show()"
   ]
  },
  {
   "cell_type": "code",
   "execution_count": 83,
   "metadata": {},
   "outputs": [
    {
     "data": {
      "text/html": [
       "<div>                            <div id=\"c942aeeb-bb22-4bbd-a879-0645cc23965d\" class=\"plotly-graph-div\" style=\"height:525px; width:100%;\"></div>            <script type=\"text/javascript\">                require([\"plotly\"], function(Plotly) {                    window.PLOTLYENV=window.PLOTLYENV || {};                                    if (document.getElementById(\"c942aeeb-bb22-4bbd-a879-0645cc23965d\")) {                    Plotly.newPlot(                        \"c942aeeb-bb22-4bbd-a879-0645cc23965d\",                        [{\"alignmentgroup\":\"True\",\"bingroup\":\"x\",\"histfunc\":\"sum\",\"hovertemplate\":\"tag=ADV<br>domain=%{x}<br>sum of tag_length=%{y}<extra></extra>\",\"legendgroup\":\"ADV\",\"marker\":{\"color\":\"#636efa\",\"pattern\":{\"shape\":\"\"}},\"name\":\"ADV\",\"offsetgroup\":\"ADV\",\"orientation\":\"v\",\"showlegend\":true,\"texttemplate\":\"%{value:.2s}\",\"x\":[\"monden/\",\"it-stiinta/\",\"sport/\",\"politic/\",\"life-death/\",\"\",\"stiri/economie\",\"stiri/externe\",\"stiri/actualitate\",\"stiri/actualitate/politica\",\"stiri/sport\",\"stiri/sci-tech\"],\"xaxis\":\"x\",\"y\":[86599,21137,17191,69244,87869,36171,404056,446667,739561,609041,64416,54467],\"yaxis\":\"y\",\"type\":\"histogram\"},{\"alignmentgroup\":\"True\",\"bingroup\":\"x\",\"histfunc\":\"sum\",\"hovertemplate\":\"tag=PART<br>domain=%{x}<br>sum of tag_length=%{y}<extra></extra>\",\"legendgroup\":\"PART\",\"marker\":{\"color\":\"#EF553B\",\"pattern\":{\"shape\":\"\"}},\"name\":\"PART\",\"offsetgroup\":\"PART\",\"orientation\":\"v\",\"showlegend\":true,\"texttemplate\":\"%{value:.2s}\",\"x\":[\"monden/\",\"it-stiinta/\",\"sport/\",\"politic/\",\"life-death/\",\"\",\"stiri/economie\",\"stiri/externe\",\"stiri/actualitate\",\"stiri/actualitate/politica\",\"stiri/sport\",\"stiri/sci-tech\"],\"xaxis\":\"x\",\"y\":[48364,11356,9740,41450,50740,14308,187911,238678,433746,428051,29488,23323],\"yaxis\":\"y\",\"type\":\"histogram\"},{\"alignmentgroup\":\"True\",\"bingroup\":\"x\",\"histfunc\":\"sum\",\"hovertemplate\":\"tag=AUX<br>domain=%{x}<br>sum of tag_length=%{y}<extra></extra>\",\"legendgroup\":\"AUX\",\"marker\":{\"color\":\"#00cc96\",\"pattern\":{\"shape\":\"\"}},\"name\":\"AUX\",\"offsetgroup\":\"AUX\",\"orientation\":\"v\",\"showlegend\":true,\"texttemplate\":\"%{value:.2s}\",\"x\":[\"monden/\",\"it-stiinta/\",\"sport/\",\"politic/\",\"life-death/\",\"\",\"stiri/economie\",\"stiri/externe\",\"stiri/actualitate\",\"stiri/actualitate/politica\",\"stiri/sport\",\"stiri/sci-tech\"],\"xaxis\":\"x\",\"y\":[149659,35187,29553,123226,150854,71917,715938,993862,1594336,1364999,142387,93971],\"yaxis\":\"y\",\"type\":\"histogram\"},{\"alignmentgroup\":\"True\",\"bingroup\":\"x\",\"histfunc\":\"sum\",\"hovertemplate\":\"tag=SCONJ<br>domain=%{x}<br>sum of tag_length=%{y}<extra></extra>\",\"legendgroup\":\"SCONJ\",\"marker\":{\"color\":\"#ab63fa\",\"pattern\":{\"shape\":\"\"}},\"name\":\"SCONJ\",\"offsetgroup\":\"SCONJ\",\"orientation\":\"v\",\"showlegend\":true,\"texttemplate\":\"%{value:.2s}\",\"x\":[\"monden/\",\"it-stiinta/\",\"sport/\",\"politic/\",\"life-death/\",\"\",\"stiri/economie\",\"stiri/externe\",\"stiri/actualitate\",\"stiri/actualitate/politica\",\"stiri/sport\",\"stiri/sci-tech\"],\"xaxis\":\"x\",\"y\":[27172,6778,5793,23454,27954,10546,104094,143407,249208,253055,15190,13513],\"yaxis\":\"y\",\"type\":\"histogram\"},{\"alignmentgroup\":\"True\",\"bingroup\":\"x\",\"histfunc\":\"sum\",\"hovertemplate\":\"tag=ADJ<br>domain=%{x}<br>sum of tag_length=%{y}<extra></extra>\",\"legendgroup\":\"ADJ\",\"marker\":{\"color\":\"#FFA15A\",\"pattern\":{\"shape\":\"\"}},\"name\":\"ADJ\",\"offsetgroup\":\"ADJ\",\"orientation\":\"v\",\"showlegend\":true,\"texttemplate\":\"%{value:.2s}\",\"x\":[\"monden/\",\"it-stiinta/\",\"sport/\",\"politic/\",\"life-death/\",\"\",\"stiri/economie\",\"stiri/externe\",\"stiri/actualitate\",\"stiri/actualitate/politica\",\"stiri/sport\",\"stiri/sci-tech\"],\"xaxis\":\"x\",\"y\":[60198,16105,11035,49547,62448,61190,535787,675416,936633,735227,64405,70878],\"yaxis\":\"y\",\"type\":\"histogram\"},{\"alignmentgroup\":\"True\",\"bingroup\":\"x\",\"histfunc\":\"sum\",\"hovertemplate\":\"tag=PUNCT<br>domain=%{x}<br>sum of tag_length=%{y}<extra></extra>\",\"legendgroup\":\"PUNCT\",\"marker\":{\"color\":\"#19d3f3\",\"pattern\":{\"shape\":\"\"}},\"name\":\"PUNCT\",\"offsetgroup\":\"PUNCT\",\"orientation\":\"v\",\"showlegend\":true,\"texttemplate\":\"%{value:.2s}\",\"x\":[\"monden/\",\"it-stiinta/\",\"sport/\",\"politic/\",\"life-death/\",\"\",\"stiri/economie\",\"stiri/externe\",\"stiri/actualitate\",\"stiri/actualitate/politica\",\"stiri/sport\",\"stiri/sci-tech\"],\"xaxis\":\"x\",\"y\":[172318,39641,32784,136797,168298,134612,1040420,1302130,2205994,1795534,225336,126118],\"yaxis\":\"y\",\"type\":\"histogram\"},{\"alignmentgroup\":\"True\",\"bingroup\":\"x\",\"histfunc\":\"sum\",\"hovertemplate\":\"tag=PROPN<br>domain=%{x}<br>sum of tag_length=%{y}<extra></extra>\",\"legendgroup\":\"PROPN\",\"marker\":{\"color\":\"#FF6692\",\"pattern\":{\"shape\":\"\"}},\"name\":\"PROPN\",\"offsetgroup\":\"PROPN\",\"orientation\":\"v\",\"showlegend\":true,\"texttemplate\":\"%{value:.2s}\",\"x\":[\"monden/\",\"it-stiinta/\",\"sport/\",\"politic/\",\"life-death/\",\"\",\"stiri/economie\",\"stiri/externe\",\"stiri/actualitate\",\"stiri/actualitate/politica\",\"stiri/sport\",\"stiri/sci-tech\"],\"xaxis\":\"x\",\"y\":[59026,11724,13223,55777,46224,67273,375639,651983,855658,786971,153348,48794],\"yaxis\":\"y\",\"type\":\"histogram\"},{\"alignmentgroup\":\"True\",\"bingroup\":\"x\",\"histfunc\":\"sum\",\"hovertemplate\":\"tag=VERB<br>domain=%{x}<br>sum of tag_length=%{y}<extra></extra>\",\"legendgroup\":\"VERB\",\"marker\":{\"color\":\"#B6E880\",\"pattern\":{\"shape\":\"\"}},\"name\":\"VERB\",\"offsetgroup\":\"VERB\",\"orientation\":\"v\",\"showlegend\":true,\"texttemplate\":\"%{value:.2s}\",\"x\":[\"monden/\",\"it-stiinta/\",\"sport/\",\"politic/\",\"life-death/\",\"\",\"stiri/economie\",\"stiri/externe\",\"stiri/actualitate\",\"stiri/actualitate/politica\",\"stiri/sport\",\"stiri/sci-tech\"],\"xaxis\":\"x\",\"y\":[96738,22900,19241,81853,100284,64524,583693,846317,1263577,1036616,104277,80108],\"yaxis\":\"y\",\"type\":\"histogram\"},{\"alignmentgroup\":\"True\",\"bingroup\":\"x\",\"histfunc\":\"sum\",\"hovertemplate\":\"tag=NOUN<br>domain=%{x}<br>sum of tag_length=%{y}<extra></extra>\",\"legendgroup\":\"NOUN\",\"marker\":{\"color\":\"#FF97FF\",\"pattern\":{\"shape\":\"\"}},\"name\":\"NOUN\",\"offsetgroup\":\"NOUN\",\"orientation\":\"v\",\"showlegend\":true,\"texttemplate\":\"%{value:.2s}\",\"x\":[\"monden/\",\"it-stiinta/\",\"sport/\",\"politic/\",\"life-death/\",\"\",\"stiri/economie\",\"stiri/externe\",\"stiri/actualitate\",\"stiri/actualitate/politica\",\"stiri/sport\",\"stiri/sci-tech\"],\"xaxis\":\"x\",\"y\":[270063,67357,51240,222679,291213,229447,2223445,2612563,4236061,3323875,309217,265117],\"yaxis\":\"y\",\"type\":\"histogram\"},{\"alignmentgroup\":\"True\",\"bingroup\":\"x\",\"histfunc\":\"sum\",\"hovertemplate\":\"tag=ADP<br>domain=%{x}<br>sum of tag_length=%{y}<extra></extra>\",\"legendgroup\":\"ADP\",\"marker\":{\"color\":\"#FECB52\",\"pattern\":{\"shape\":\"\"}},\"name\":\"ADP\",\"offsetgroup\":\"ADP\",\"orientation\":\"v\",\"showlegend\":true,\"texttemplate\":\"%{value:.2s}\",\"x\":[\"monden/\",\"it-stiinta/\",\"sport/\",\"politic/\",\"life-death/\",\"\",\"stiri/economie\",\"stiri/externe\",\"stiri/actualitate\",\"stiri/actualitate/politica\",\"stiri/sport\",\"stiri/sci-tech\"],\"xaxis\":\"x\",\"y\":[175025,42506,33974,142227,184967,161125,1382718,1638771,2540221,1885649,216261,163662],\"yaxis\":\"y\",\"type\":\"histogram\"},{\"alignmentgroup\":\"True\",\"bingroup\":\"x\",\"histfunc\":\"sum\",\"hovertemplate\":\"tag=DET<br>domain=%{x}<br>sum of tag_length=%{y}<extra></extra>\",\"legendgroup\":\"DET\",\"marker\":{\"color\":\"#636efa\",\"pattern\":{\"shape\":\"\"}},\"name\":\"DET\",\"offsetgroup\":\"DET\",\"orientation\":\"v\",\"showlegend\":true,\"texttemplate\":\"%{value:.2s}\",\"x\":[\"monden/\",\"it-stiinta/\",\"sport/\",\"politic/\",\"life-death/\",\"\",\"stiri/economie\",\"stiri/externe\",\"stiri/actualitate\",\"stiri/actualitate/politica\",\"stiri/sport\",\"stiri/sci-tech\"],\"xaxis\":\"x\",\"y\":[68594,16577,12739,54420,67216,41912,437122,601952,848612,730506,69449,61944],\"yaxis\":\"y\",\"type\":\"histogram\"},{\"alignmentgroup\":\"True\",\"bingroup\":\"x\",\"histfunc\":\"sum\",\"hovertemplate\":\"tag=PRON<br>domain=%{x}<br>sum of tag_length=%{y}<extra></extra>\",\"legendgroup\":\"PRON\",\"marker\":{\"color\":\"#EF553B\",\"pattern\":{\"shape\":\"\"}},\"name\":\"PRON\",\"offsetgroup\":\"PRON\",\"orientation\":\"v\",\"showlegend\":true,\"texttemplate\":\"%{value:.2s}\",\"x\":[\"monden/\",\"it-stiinta/\",\"sport/\",\"politic/\",\"life-death/\",\"\",\"stiri/economie\",\"stiri/externe\",\"stiri/actualitate\",\"stiri/actualitate/politica\",\"stiri/sport\",\"stiri/sci-tech\"],\"xaxis\":\"x\",\"y\":[96625,21601,18237,75268,95237,31420,363517,475237,856828,751078,68180,49193],\"yaxis\":\"y\",\"type\":\"histogram\"},{\"alignmentgroup\":\"True\",\"bingroup\":\"x\",\"histfunc\":\"sum\",\"hovertemplate\":\"tag=<br>domain=%{x}<br>sum of tag_length=%{y}<extra></extra>\",\"legendgroup\":\"\",\"marker\":{\"color\":\"#00cc96\",\"pattern\":{\"shape\":\"\"}},\"name\":\"\",\"offsetgroup\":\"\",\"orientation\":\"v\",\"showlegend\":false,\"texttemplate\":\"%{value:.2s}\",\"x\":[\"monden/\",\"it-stiinta/\",\"sport/\",\"politic/\",\"life-death/\",\"\",\"stiri/economie\",\"stiri/externe\",\"stiri/actualitate\",\"stiri/actualitate/politica\",\"stiri/sport\",\"stiri/sci-tech\"],\"xaxis\":\"x\",\"y\":[7866,2148,1492,6362,8593,41152,176625,141579,287278,139849,41340,13956],\"yaxis\":\"y\",\"type\":\"histogram\"},{\"alignmentgroup\":\"True\",\"bingroup\":\"x\",\"histfunc\":\"sum\",\"hovertemplate\":\"tag=CCONJ<br>domain=%{x}<br>sum of tag_length=%{y}<extra></extra>\",\"legendgroup\":\"CCONJ\",\"marker\":{\"color\":\"#ab63fa\",\"pattern\":{\"shape\":\"\"}},\"name\":\"CCONJ\",\"offsetgroup\":\"CCONJ\",\"orientation\":\"v\",\"showlegend\":true,\"texttemplate\":\"%{value:.2s}\",\"x\":[\"monden/\",\"it-stiinta/\",\"sport/\",\"politic/\",\"life-death/\",\"\",\"stiri/economie\",\"stiri/externe\",\"stiri/actualitate\",\"stiri/actualitate/politica\",\"stiri/sport\",\"stiri/sci-tech\"],\"xaxis\":\"x\",\"y\":[37178,9836,6519,29247,38747,24686,236187,282056,482147,401717,38533,29892],\"yaxis\":\"y\",\"type\":\"histogram\"},{\"alignmentgroup\":\"True\",\"bingroup\":\"x\",\"histfunc\":\"sum\",\"hovertemplate\":\"tag=NUM<br>domain=%{x}<br>sum of tag_length=%{y}<extra></extra>\",\"legendgroup\":\"NUM\",\"marker\":{\"color\":\"#FFA15A\",\"pattern\":{\"shape\":\"\"}},\"name\":\"NUM\",\"offsetgroup\":\"NUM\",\"orientation\":\"v\",\"showlegend\":true,\"texttemplate\":\"%{value:.2s}\",\"x\":[\"monden/\",\"it-stiinta/\",\"sport/\",\"politic/\",\"life-death/\",\"\",\"stiri/economie\",\"stiri/externe\",\"stiri/actualitate\",\"stiri/actualitate/politica\",\"stiri/sport\",\"stiri/sci-tech\"],\"xaxis\":\"x\",\"y\":[9552,2400,1992,7735,9906,13741,143958,118529,169745,119745,29868,11512],\"yaxis\":\"y\",\"type\":\"histogram\"},{\"alignmentgroup\":\"True\",\"bingroup\":\"x\",\"histfunc\":\"sum\",\"hovertemplate\":\"tag=INTJ<br>domain=%{x}<br>sum of tag_length=%{y}<extra></extra>\",\"legendgroup\":\"INTJ\",\"marker\":{\"color\":\"#19d3f3\",\"pattern\":{\"shape\":\"\"}},\"name\":\"INTJ\",\"offsetgroup\":\"INTJ\",\"orientation\":\"v\",\"showlegend\":true,\"texttemplate\":\"%{value:.2s}\",\"x\":[\"monden/\",\"it-stiinta/\",\"sport/\",\"politic/\",\"life-death/\",\"\",\"stiri/economie\",\"stiri/externe\",\"stiri/actualitate\",\"stiri/actualitate/politica\",\"stiri/sport\",\"stiri/sci-tech\"],\"xaxis\":\"x\",\"y\":[606,121,97,471,592,62,1192,1033,4253,4591,344,106],\"yaxis\":\"y\",\"type\":\"histogram\"},{\"alignmentgroup\":\"True\",\"bingroup\":\"x\",\"histfunc\":\"sum\",\"hovertemplate\":\"tag=X<br>domain=%{x}<br>sum of tag_length=%{y}<extra></extra>\",\"legendgroup\":\"X\",\"marker\":{\"color\":\"#FF6692\",\"pattern\":{\"shape\":\"\"}},\"name\":\"X\",\"offsetgroup\":\"X\",\"orientation\":\"v\",\"showlegend\":true,\"texttemplate\":\"%{value:.2s}\",\"x\":[\"monden/\",\"it-stiinta/\",\"sport/\",\"politic/\",\"life-death/\",\"\",\"stiri/economie\",\"stiri/externe\",\"stiri/actualitate\",\"stiri/actualitate/politica\",\"stiri/sport\",\"stiri/sci-tech\"],\"xaxis\":\"x\",\"y\":[322,105,48,230,299,450,2195,1786,3165,2736,411,217],\"yaxis\":\"y\",\"type\":\"histogram\"},{\"alignmentgroup\":\"True\",\"bingroup\":\"x\",\"histfunc\":\"sum\",\"hovertemplate\":\"tag=SYM<br>domain=%{x}<br>sum of tag_length=%{y}<extra></extra>\",\"legendgroup\":\"SYM\",\"marker\":{\"color\":\"#B6E880\",\"pattern\":{\"shape\":\"\"}},\"name\":\"SYM\",\"offsetgroup\":\"SYM\",\"orientation\":\"v\",\"showlegend\":true,\"texttemplate\":\"%{value:.2s}\",\"x\":[\"monden/\",\"it-stiinta/\",\"sport/\",\"politic/\",\"life-death/\",\"\",\"stiri/economie\",\"stiri/externe\",\"stiri/actualitate\",\"stiri/actualitate/politica\",\"stiri/sport\",\"stiri/sci-tech\"],\"xaxis\":\"x\",\"y\":[343,85,62,198,180,373,1792,839,2531,2315,467,125],\"yaxis\":\"y\",\"type\":\"histogram\"},{\"alignmentgroup\":\"True\",\"bingroup\":\"x\",\"histfunc\":\"sum\",\"hovertemplate\":\"tag=SPACE<br>domain=%{x}<br>sum of tag_length=%{y}<extra></extra>\",\"legendgroup\":\"SPACE\",\"marker\":{\"color\":\"#FF97FF\",\"pattern\":{\"shape\":\"\"}},\"name\":\"SPACE\",\"offsetgroup\":\"SPACE\",\"orientation\":\"v\",\"showlegend\":true,\"texttemplate\":\"%{value:.2s}\",\"x\":[\"\",\"stiri/economie\",\"stiri/externe\",\"stiri/actualitate\",\"stiri/actualitate/politica\",\"stiri/sport\",\"stiri/sci-tech\"],\"xaxis\":\"x\",\"y\":[1,7,132,2,4,5,11],\"yaxis\":\"y\",\"type\":\"histogram\"}],                        {\"template\":{\"data\":{\"bar\":[{\"error_x\":{\"color\":\"#2a3f5f\"},\"error_y\":{\"color\":\"#2a3f5f\"},\"marker\":{\"line\":{\"color\":\"#E5ECF6\",\"width\":0.5},\"pattern\":{\"fillmode\":\"overlay\",\"size\":10,\"solidity\":0.2}},\"type\":\"bar\"}],\"barpolar\":[{\"marker\":{\"line\":{\"color\":\"#E5ECF6\",\"width\":0.5},\"pattern\":{\"fillmode\":\"overlay\",\"size\":10,\"solidity\":0.2}},\"type\":\"barpolar\"}],\"carpet\":[{\"aaxis\":{\"endlinecolor\":\"#2a3f5f\",\"gridcolor\":\"white\",\"linecolor\":\"white\",\"minorgridcolor\":\"white\",\"startlinecolor\":\"#2a3f5f\"},\"baxis\":{\"endlinecolor\":\"#2a3f5f\",\"gridcolor\":\"white\",\"linecolor\":\"white\",\"minorgridcolor\":\"white\",\"startlinecolor\":\"#2a3f5f\"},\"type\":\"carpet\"}],\"choropleth\":[{\"colorbar\":{\"outlinewidth\":0,\"ticks\":\"\"},\"type\":\"choropleth\"}],\"contour\":[{\"colorbar\":{\"outlinewidth\":0,\"ticks\":\"\"},\"colorscale\":[[0.0,\"#0d0887\"],[0.1111111111111111,\"#46039f\"],[0.2222222222222222,\"#7201a8\"],[0.3333333333333333,\"#9c179e\"],[0.4444444444444444,\"#bd3786\"],[0.5555555555555556,\"#d8576b\"],[0.6666666666666666,\"#ed7953\"],[0.7777777777777778,\"#fb9f3a\"],[0.8888888888888888,\"#fdca26\"],[1.0,\"#f0f921\"]],\"type\":\"contour\"}],\"contourcarpet\":[{\"colorbar\":{\"outlinewidth\":0,\"ticks\":\"\"},\"type\":\"contourcarpet\"}],\"heatmap\":[{\"colorbar\":{\"outlinewidth\":0,\"ticks\":\"\"},\"colorscale\":[[0.0,\"#0d0887\"],[0.1111111111111111,\"#46039f\"],[0.2222222222222222,\"#7201a8\"],[0.3333333333333333,\"#9c179e\"],[0.4444444444444444,\"#bd3786\"],[0.5555555555555556,\"#d8576b\"],[0.6666666666666666,\"#ed7953\"],[0.7777777777777778,\"#fb9f3a\"],[0.8888888888888888,\"#fdca26\"],[1.0,\"#f0f921\"]],\"type\":\"heatmap\"}],\"heatmapgl\":[{\"colorbar\":{\"outlinewidth\":0,\"ticks\":\"\"},\"colorscale\":[[0.0,\"#0d0887\"],[0.1111111111111111,\"#46039f\"],[0.2222222222222222,\"#7201a8\"],[0.3333333333333333,\"#9c179e\"],[0.4444444444444444,\"#bd3786\"],[0.5555555555555556,\"#d8576b\"],[0.6666666666666666,\"#ed7953\"],[0.7777777777777778,\"#fb9f3a\"],[0.8888888888888888,\"#fdca26\"],[1.0,\"#f0f921\"]],\"type\":\"heatmapgl\"}],\"histogram\":[{\"marker\":{\"pattern\":{\"fillmode\":\"overlay\",\"size\":10,\"solidity\":0.2}},\"type\":\"histogram\"}],\"histogram2d\":[{\"colorbar\":{\"outlinewidth\":0,\"ticks\":\"\"},\"colorscale\":[[0.0,\"#0d0887\"],[0.1111111111111111,\"#46039f\"],[0.2222222222222222,\"#7201a8\"],[0.3333333333333333,\"#9c179e\"],[0.4444444444444444,\"#bd3786\"],[0.5555555555555556,\"#d8576b\"],[0.6666666666666666,\"#ed7953\"],[0.7777777777777778,\"#fb9f3a\"],[0.8888888888888888,\"#fdca26\"],[1.0,\"#f0f921\"]],\"type\":\"histogram2d\"}],\"histogram2dcontour\":[{\"colorbar\":{\"outlinewidth\":0,\"ticks\":\"\"},\"colorscale\":[[0.0,\"#0d0887\"],[0.1111111111111111,\"#46039f\"],[0.2222222222222222,\"#7201a8\"],[0.3333333333333333,\"#9c179e\"],[0.4444444444444444,\"#bd3786\"],[0.5555555555555556,\"#d8576b\"],[0.6666666666666666,\"#ed7953\"],[0.7777777777777778,\"#fb9f3a\"],[0.8888888888888888,\"#fdca26\"],[1.0,\"#f0f921\"]],\"type\":\"histogram2dcontour\"}],\"mesh3d\":[{\"colorbar\":{\"outlinewidth\":0,\"ticks\":\"\"},\"type\":\"mesh3d\"}],\"parcoords\":[{\"line\":{\"colorbar\":{\"outlinewidth\":0,\"ticks\":\"\"}},\"type\":\"parcoords\"}],\"pie\":[{\"automargin\":true,\"type\":\"pie\"}],\"scatter\":[{\"marker\":{\"colorbar\":{\"outlinewidth\":0,\"ticks\":\"\"}},\"type\":\"scatter\"}],\"scatter3d\":[{\"line\":{\"colorbar\":{\"outlinewidth\":0,\"ticks\":\"\"}},\"marker\":{\"colorbar\":{\"outlinewidth\":0,\"ticks\":\"\"}},\"type\":\"scatter3d\"}],\"scattercarpet\":[{\"marker\":{\"colorbar\":{\"outlinewidth\":0,\"ticks\":\"\"}},\"type\":\"scattercarpet\"}],\"scattergeo\":[{\"marker\":{\"colorbar\":{\"outlinewidth\":0,\"ticks\":\"\"}},\"type\":\"scattergeo\"}],\"scattergl\":[{\"marker\":{\"colorbar\":{\"outlinewidth\":0,\"ticks\":\"\"}},\"type\":\"scattergl\"}],\"scattermapbox\":[{\"marker\":{\"colorbar\":{\"outlinewidth\":0,\"ticks\":\"\"}},\"type\":\"scattermapbox\"}],\"scatterpolar\":[{\"marker\":{\"colorbar\":{\"outlinewidth\":0,\"ticks\":\"\"}},\"type\":\"scatterpolar\"}],\"scatterpolargl\":[{\"marker\":{\"colorbar\":{\"outlinewidth\":0,\"ticks\":\"\"}},\"type\":\"scatterpolargl\"}],\"scatterternary\":[{\"marker\":{\"colorbar\":{\"outlinewidth\":0,\"ticks\":\"\"}},\"type\":\"scatterternary\"}],\"surface\":[{\"colorbar\":{\"outlinewidth\":0,\"ticks\":\"\"},\"colorscale\":[[0.0,\"#0d0887\"],[0.1111111111111111,\"#46039f\"],[0.2222222222222222,\"#7201a8\"],[0.3333333333333333,\"#9c179e\"],[0.4444444444444444,\"#bd3786\"],[0.5555555555555556,\"#d8576b\"],[0.6666666666666666,\"#ed7953\"],[0.7777777777777778,\"#fb9f3a\"],[0.8888888888888888,\"#fdca26\"],[1.0,\"#f0f921\"]],\"type\":\"surface\"}],\"table\":[{\"cells\":{\"fill\":{\"color\":\"#EBF0F8\"},\"line\":{\"color\":\"white\"}},\"header\":{\"fill\":{\"color\":\"#C8D4E3\"},\"line\":{\"color\":\"white\"}},\"type\":\"table\"}]},\"layout\":{\"annotationdefaults\":{\"arrowcolor\":\"#2a3f5f\",\"arrowhead\":0,\"arrowwidth\":1},\"autotypenumbers\":\"strict\",\"coloraxis\":{\"colorbar\":{\"outlinewidth\":0,\"ticks\":\"\"}},\"colorscale\":{\"diverging\":[[0,\"#8e0152\"],[0.1,\"#c51b7d\"],[0.2,\"#de77ae\"],[0.3,\"#f1b6da\"],[0.4,\"#fde0ef\"],[0.5,\"#f7f7f7\"],[0.6,\"#e6f5d0\"],[0.7,\"#b8e186\"],[0.8,\"#7fbc41\"],[0.9,\"#4d9221\"],[1,\"#276419\"]],\"sequential\":[[0.0,\"#0d0887\"],[0.1111111111111111,\"#46039f\"],[0.2222222222222222,\"#7201a8\"],[0.3333333333333333,\"#9c179e\"],[0.4444444444444444,\"#bd3786\"],[0.5555555555555556,\"#d8576b\"],[0.6666666666666666,\"#ed7953\"],[0.7777777777777778,\"#fb9f3a\"],[0.8888888888888888,\"#fdca26\"],[1.0,\"#f0f921\"]],\"sequentialminus\":[[0.0,\"#0d0887\"],[0.1111111111111111,\"#46039f\"],[0.2222222222222222,\"#7201a8\"],[0.3333333333333333,\"#9c179e\"],[0.4444444444444444,\"#bd3786\"],[0.5555555555555556,\"#d8576b\"],[0.6666666666666666,\"#ed7953\"],[0.7777777777777778,\"#fb9f3a\"],[0.8888888888888888,\"#fdca26\"],[1.0,\"#f0f921\"]]},\"colorway\":[\"#636efa\",\"#EF553B\",\"#00cc96\",\"#ab63fa\",\"#FFA15A\",\"#19d3f3\",\"#FF6692\",\"#B6E880\",\"#FF97FF\",\"#FECB52\"],\"font\":{\"color\":\"#2a3f5f\"},\"geo\":{\"bgcolor\":\"white\",\"lakecolor\":\"white\",\"landcolor\":\"#E5ECF6\",\"showlakes\":true,\"showland\":true,\"subunitcolor\":\"white\"},\"hoverlabel\":{\"align\":\"left\"},\"hovermode\":\"closest\",\"mapbox\":{\"style\":\"light\"},\"paper_bgcolor\":\"white\",\"plot_bgcolor\":\"#E5ECF6\",\"polar\":{\"angularaxis\":{\"gridcolor\":\"white\",\"linecolor\":\"white\",\"ticks\":\"\"},\"bgcolor\":\"#E5ECF6\",\"radialaxis\":{\"gridcolor\":\"white\",\"linecolor\":\"white\",\"ticks\":\"\"}},\"scene\":{\"xaxis\":{\"backgroundcolor\":\"#E5ECF6\",\"gridcolor\":\"white\",\"gridwidth\":2,\"linecolor\":\"white\",\"showbackground\":true,\"ticks\":\"\",\"zerolinecolor\":\"white\"},\"yaxis\":{\"backgroundcolor\":\"#E5ECF6\",\"gridcolor\":\"white\",\"gridwidth\":2,\"linecolor\":\"white\",\"showbackground\":true,\"ticks\":\"\",\"zerolinecolor\":\"white\"},\"zaxis\":{\"backgroundcolor\":\"#E5ECF6\",\"gridcolor\":\"white\",\"gridwidth\":2,\"linecolor\":\"white\",\"showbackground\":true,\"ticks\":\"\",\"zerolinecolor\":\"white\"}},\"shapedefaults\":{\"line\":{\"color\":\"#2a3f5f\"}},\"ternary\":{\"aaxis\":{\"gridcolor\":\"white\",\"linecolor\":\"white\",\"ticks\":\"\"},\"baxis\":{\"gridcolor\":\"white\",\"linecolor\":\"white\",\"ticks\":\"\"},\"bgcolor\":\"#E5ECF6\",\"caxis\":{\"gridcolor\":\"white\",\"linecolor\":\"white\",\"ticks\":\"\"}},\"title\":{\"x\":0.05},\"xaxis\":{\"automargin\":true,\"gridcolor\":\"white\",\"linecolor\":\"white\",\"ticks\":\"\",\"title\":{\"standoff\":15},\"zerolinecolor\":\"white\",\"zerolinewidth\":2},\"yaxis\":{\"automargin\":true,\"gridcolor\":\"white\",\"linecolor\":\"white\",\"ticks\":\"\",\"title\":{\"standoff\":15},\"zerolinecolor\":\"white\",\"zerolinewidth\":2}}},\"xaxis\":{\"anchor\":\"y\",\"domain\":[0.0,1.0],\"title\":{\"text\":\"domain\"}},\"yaxis\":{\"anchor\":\"x\",\"domain\":[0.0,1.0],\"title\":{\"text\":\"sum of tag_length\"}},\"legend\":{\"title\":{\"text\":\"tag\"},\"tracegroupgap\":0},\"margin\":{\"t\":60},\"barmode\":\"relative\"},                        {\"responsive\": true}                    ).then(function(){\n",
       "                            \n",
       "var gd = document.getElementById('c942aeeb-bb22-4bbd-a879-0645cc23965d');\n",
       "var x = new MutationObserver(function (mutations, observer) {{\n",
       "        var display = window.getComputedStyle(gd).display;\n",
       "        if (!display || display === 'none') {{\n",
       "            console.log([gd, 'removed!']);\n",
       "            Plotly.purge(gd);\n",
       "            observer.disconnect();\n",
       "        }}\n",
       "}});\n",
       "\n",
       "// Listen for the removal of the full notebook cells\n",
       "var notebookContainer = gd.closest('#notebook-container');\n",
       "if (notebookContainer) {{\n",
       "    x.observe(notebookContainer, {childList: true});\n",
       "}}\n",
       "\n",
       "// Listen for the clearing of the current output cell\n",
       "var outputEl = gd.closest('.output');\n",
       "if (outputEl) {{\n",
       "    x.observe(outputEl, {childList: true});\n",
       "}}\n",
       "\n",
       "                        })                };                });            </script>        </div>"
      ]
     },
     "metadata": {},
     "output_type": "display_data"
    }
   ],
   "source": [
    "domains = []\n",
    "for domain in domain_word_count:\n",
    "    for tag in domain[\"pos_tag_object\"]:\n",
    "        domains.append(\n",
    "            {\n",
    "                \"domain\": domain[\"domain\"],\n",
    "                \"type\": domain[\"type\"],\n",
    "                \"tag\": tag,\n",
    "                \"tag_length\": len(domain[\"pos_tag_object\"][tag]),\n",
    "            }\n",
    "        )\n",
    "        \n",
    "fig = px.histogram(\n",
    "    domains, x=\"domain\", y=\"tag_length\", color=\"tag\", text_auto=\".2s\"\n",
    ")\n",
    "fig.show()"
   ]
  },
  {
   "cell_type": "code",
   "execution_count": 84,
   "metadata": {},
   "outputs": [
    {
     "data": {
      "text/html": [
       "<div>                            <div id=\"bb605077-1e7c-4848-90f6-abf5f07def65\" class=\"plotly-graph-div\" style=\"height:525px; width:100%;\"></div>            <script type=\"text/javascript\">                require([\"plotly\"], function(Plotly) {                    window.PLOTLYENV=window.PLOTLYENV || {};                                    if (document.getElementById(\"bb605077-1e7c-4848-90f6-abf5f07def65\")) {                    Plotly.newPlot(                        \"bb605077-1e7c-4848-90f6-abf5f07def65\",                        [{\"alignmentgroup\":\"True\",\"bingroup\":\"x\",\"histfunc\":\"sum\",\"hovertemplate\":\"tag=ADV<br>domain=%{x}<br>sum of tag_length=%{y}<extra></extra>\",\"legendgroup\":\"ADV\",\"marker\":{\"color\":\"#636efa\",\"pattern\":{\"shape\":\"\"}},\"name\":\"ADV\",\"offsetgroup\":\"ADV\",\"orientation\":\"v\",\"showlegend\":true,\"texttemplate\":\"%{value:.2s}\",\"x\":[\"monden/\",\"it-stiinta/\",\"sport/\",\"politic/\",\"life-death/\",\"\",\"stiri/economie\",\"stiri/externe\",\"stiri/actualitate\",\"stiri/actualitate/politica\",\"stiri/sport\",\"stiri/sci-tech\"],\"xaxis\":\"x\",\"y\":[86599,21137,17191,69244,87869,36171,404056,446667,739561,609041,64416,54467],\"yaxis\":\"y\",\"type\":\"histogram\"},{\"alignmentgroup\":\"True\",\"bingroup\":\"x\",\"histfunc\":\"sum\",\"hovertemplate\":\"tag=PART<br>domain=%{x}<br>sum of tag_length=%{y}<extra></extra>\",\"legendgroup\":\"PART\",\"marker\":{\"color\":\"#EF553B\",\"pattern\":{\"shape\":\"\"}},\"name\":\"PART\",\"offsetgroup\":\"PART\",\"orientation\":\"v\",\"showlegend\":true,\"texttemplate\":\"%{value:.2s}\",\"x\":[\"monden/\",\"it-stiinta/\",\"sport/\",\"politic/\",\"life-death/\",\"\",\"stiri/economie\",\"stiri/externe\",\"stiri/actualitate\",\"stiri/actualitate/politica\",\"stiri/sport\",\"stiri/sci-tech\"],\"xaxis\":\"x\",\"y\":[48364,11356,9740,41450,50740,14308,187911,238678,433746,428051,29488,23323],\"yaxis\":\"y\",\"type\":\"histogram\"},{\"alignmentgroup\":\"True\",\"bingroup\":\"x\",\"histfunc\":\"sum\",\"hovertemplate\":\"tag=AUX<br>domain=%{x}<br>sum of tag_length=%{y}<extra></extra>\",\"legendgroup\":\"AUX\",\"marker\":{\"color\":\"#00cc96\",\"pattern\":{\"shape\":\"\"}},\"name\":\"AUX\",\"offsetgroup\":\"AUX\",\"orientation\":\"v\",\"showlegend\":true,\"texttemplate\":\"%{value:.2s}\",\"x\":[\"monden/\",\"it-stiinta/\",\"sport/\",\"politic/\",\"life-death/\",\"\",\"stiri/economie\",\"stiri/externe\",\"stiri/actualitate\",\"stiri/actualitate/politica\",\"stiri/sport\",\"stiri/sci-tech\"],\"xaxis\":\"x\",\"y\":[149659,35187,29553,123226,150854,71917,715938,993862,1594336,1364999,142387,93971],\"yaxis\":\"y\",\"type\":\"histogram\"},{\"alignmentgroup\":\"True\",\"bingroup\":\"x\",\"histfunc\":\"sum\",\"hovertemplate\":\"tag=SCONJ<br>domain=%{x}<br>sum of tag_length=%{y}<extra></extra>\",\"legendgroup\":\"SCONJ\",\"marker\":{\"color\":\"#ab63fa\",\"pattern\":{\"shape\":\"\"}},\"name\":\"SCONJ\",\"offsetgroup\":\"SCONJ\",\"orientation\":\"v\",\"showlegend\":true,\"texttemplate\":\"%{value:.2s}\",\"x\":[\"monden/\",\"it-stiinta/\",\"sport/\",\"politic/\",\"life-death/\",\"\",\"stiri/economie\",\"stiri/externe\",\"stiri/actualitate\",\"stiri/actualitate/politica\",\"stiri/sport\",\"stiri/sci-tech\"],\"xaxis\":\"x\",\"y\":[27172,6778,5793,23454,27954,10546,104094,143407,249208,253055,15190,13513],\"yaxis\":\"y\",\"type\":\"histogram\"},{\"alignmentgroup\":\"True\",\"bingroup\":\"x\",\"histfunc\":\"sum\",\"hovertemplate\":\"tag=ADJ<br>domain=%{x}<br>sum of tag_length=%{y}<extra></extra>\",\"legendgroup\":\"ADJ\",\"marker\":{\"color\":\"#FFA15A\",\"pattern\":{\"shape\":\"\"}},\"name\":\"ADJ\",\"offsetgroup\":\"ADJ\",\"orientation\":\"v\",\"showlegend\":true,\"texttemplate\":\"%{value:.2s}\",\"x\":[\"monden/\",\"it-stiinta/\",\"sport/\",\"politic/\",\"life-death/\",\"\",\"stiri/economie\",\"stiri/externe\",\"stiri/actualitate\",\"stiri/actualitate/politica\",\"stiri/sport\",\"stiri/sci-tech\"],\"xaxis\":\"x\",\"y\":[60198,16105,11035,49547,62448,61190,535787,675416,936633,735227,64405,70878],\"yaxis\":\"y\",\"type\":\"histogram\"},{\"alignmentgroup\":\"True\",\"bingroup\":\"x\",\"histfunc\":\"sum\",\"hovertemplate\":\"tag=PUNCT<br>domain=%{x}<br>sum of tag_length=%{y}<extra></extra>\",\"legendgroup\":\"PUNCT\",\"marker\":{\"color\":\"#19d3f3\",\"pattern\":{\"shape\":\"\"}},\"name\":\"PUNCT\",\"offsetgroup\":\"PUNCT\",\"orientation\":\"v\",\"showlegend\":true,\"texttemplate\":\"%{value:.2s}\",\"x\":[\"monden/\",\"it-stiinta/\",\"sport/\",\"politic/\",\"life-death/\",\"\",\"stiri/economie\",\"stiri/externe\",\"stiri/actualitate\",\"stiri/actualitate/politica\",\"stiri/sport\",\"stiri/sci-tech\"],\"xaxis\":\"x\",\"y\":[172318,39641,32784,136797,168298,134612,1040420,1302130,2205994,1795534,225336,126118],\"yaxis\":\"y\",\"type\":\"histogram\"},{\"alignmentgroup\":\"True\",\"bingroup\":\"x\",\"histfunc\":\"sum\",\"hovertemplate\":\"tag=PROPN<br>domain=%{x}<br>sum of tag_length=%{y}<extra></extra>\",\"legendgroup\":\"PROPN\",\"marker\":{\"color\":\"#FF6692\",\"pattern\":{\"shape\":\"\"}},\"name\":\"PROPN\",\"offsetgroup\":\"PROPN\",\"orientation\":\"v\",\"showlegend\":true,\"texttemplate\":\"%{value:.2s}\",\"x\":[\"monden/\",\"it-stiinta/\",\"sport/\",\"politic/\",\"life-death/\",\"\",\"stiri/economie\",\"stiri/externe\",\"stiri/actualitate\",\"stiri/actualitate/politica\",\"stiri/sport\",\"stiri/sci-tech\"],\"xaxis\":\"x\",\"y\":[59026,11724,13223,55777,46224,67273,375639,651983,855658,786971,153348,48794],\"yaxis\":\"y\",\"type\":\"histogram\"},{\"alignmentgroup\":\"True\",\"bingroup\":\"x\",\"histfunc\":\"sum\",\"hovertemplate\":\"tag=VERB<br>domain=%{x}<br>sum of tag_length=%{y}<extra></extra>\",\"legendgroup\":\"VERB\",\"marker\":{\"color\":\"#B6E880\",\"pattern\":{\"shape\":\"\"}},\"name\":\"VERB\",\"offsetgroup\":\"VERB\",\"orientation\":\"v\",\"showlegend\":true,\"texttemplate\":\"%{value:.2s}\",\"x\":[\"monden/\",\"it-stiinta/\",\"sport/\",\"politic/\",\"life-death/\",\"\",\"stiri/economie\",\"stiri/externe\",\"stiri/actualitate\",\"stiri/actualitate/politica\",\"stiri/sport\",\"stiri/sci-tech\"],\"xaxis\":\"x\",\"y\":[96738,22900,19241,81853,100284,64524,583693,846317,1263577,1036616,104277,80108],\"yaxis\":\"y\",\"type\":\"histogram\"},{\"alignmentgroup\":\"True\",\"bingroup\":\"x\",\"histfunc\":\"sum\",\"hovertemplate\":\"tag=NOUN<br>domain=%{x}<br>sum of tag_length=%{y}<extra></extra>\",\"legendgroup\":\"NOUN\",\"marker\":{\"color\":\"#FF97FF\",\"pattern\":{\"shape\":\"\"}},\"name\":\"NOUN\",\"offsetgroup\":\"NOUN\",\"orientation\":\"v\",\"showlegend\":true,\"texttemplate\":\"%{value:.2s}\",\"x\":[\"monden/\",\"it-stiinta/\",\"sport/\",\"politic/\",\"life-death/\",\"\",\"stiri/economie\",\"stiri/externe\",\"stiri/actualitate\",\"stiri/actualitate/politica\",\"stiri/sport\",\"stiri/sci-tech\"],\"xaxis\":\"x\",\"y\":[270063,67357,51240,222679,291213,229447,2223445,2612563,4236061,3323875,309217,265117],\"yaxis\":\"y\",\"type\":\"histogram\"},{\"alignmentgroup\":\"True\",\"bingroup\":\"x\",\"histfunc\":\"sum\",\"hovertemplate\":\"tag=ADP<br>domain=%{x}<br>sum of tag_length=%{y}<extra></extra>\",\"legendgroup\":\"ADP\",\"marker\":{\"color\":\"#FECB52\",\"pattern\":{\"shape\":\"\"}},\"name\":\"ADP\",\"offsetgroup\":\"ADP\",\"orientation\":\"v\",\"showlegend\":true,\"texttemplate\":\"%{value:.2s}\",\"x\":[\"monden/\",\"it-stiinta/\",\"sport/\",\"politic/\",\"life-death/\",\"\",\"stiri/economie\",\"stiri/externe\",\"stiri/actualitate\",\"stiri/actualitate/politica\",\"stiri/sport\",\"stiri/sci-tech\"],\"xaxis\":\"x\",\"y\":[175025,42506,33974,142227,184967,161125,1382718,1638771,2540221,1885649,216261,163662],\"yaxis\":\"y\",\"type\":\"histogram\"},{\"alignmentgroup\":\"True\",\"bingroup\":\"x\",\"histfunc\":\"sum\",\"hovertemplate\":\"tag=DET<br>domain=%{x}<br>sum of tag_length=%{y}<extra></extra>\",\"legendgroup\":\"DET\",\"marker\":{\"color\":\"#636efa\",\"pattern\":{\"shape\":\"\"}},\"name\":\"DET\",\"offsetgroup\":\"DET\",\"orientation\":\"v\",\"showlegend\":true,\"texttemplate\":\"%{value:.2s}\",\"x\":[\"monden/\",\"it-stiinta/\",\"sport/\",\"politic/\",\"life-death/\",\"\",\"stiri/economie\",\"stiri/externe\",\"stiri/actualitate\",\"stiri/actualitate/politica\",\"stiri/sport\",\"stiri/sci-tech\"],\"xaxis\":\"x\",\"y\":[68594,16577,12739,54420,67216,41912,437122,601952,848612,730506,69449,61944],\"yaxis\":\"y\",\"type\":\"histogram\"},{\"alignmentgroup\":\"True\",\"bingroup\":\"x\",\"histfunc\":\"sum\",\"hovertemplate\":\"tag=PRON<br>domain=%{x}<br>sum of tag_length=%{y}<extra></extra>\",\"legendgroup\":\"PRON\",\"marker\":{\"color\":\"#EF553B\",\"pattern\":{\"shape\":\"\"}},\"name\":\"PRON\",\"offsetgroup\":\"PRON\",\"orientation\":\"v\",\"showlegend\":true,\"texttemplate\":\"%{value:.2s}\",\"x\":[\"monden/\",\"it-stiinta/\",\"sport/\",\"politic/\",\"life-death/\",\"\",\"stiri/economie\",\"stiri/externe\",\"stiri/actualitate\",\"stiri/actualitate/politica\",\"stiri/sport\",\"stiri/sci-tech\"],\"xaxis\":\"x\",\"y\":[96625,21601,18237,75268,95237,31420,363517,475237,856828,751078,68180,49193],\"yaxis\":\"y\",\"type\":\"histogram\"},{\"alignmentgroup\":\"True\",\"bingroup\":\"x\",\"histfunc\":\"sum\",\"hovertemplate\":\"tag=<br>domain=%{x}<br>sum of tag_length=%{y}<extra></extra>\",\"legendgroup\":\"\",\"marker\":{\"color\":\"#00cc96\",\"pattern\":{\"shape\":\"\"}},\"name\":\"\",\"offsetgroup\":\"\",\"orientation\":\"v\",\"showlegend\":false,\"texttemplate\":\"%{value:.2s}\",\"x\":[\"monden/\",\"it-stiinta/\",\"sport/\",\"politic/\",\"life-death/\",\"\",\"stiri/economie\",\"stiri/externe\",\"stiri/actualitate\",\"stiri/actualitate/politica\",\"stiri/sport\",\"stiri/sci-tech\"],\"xaxis\":\"x\",\"y\":[7866,2148,1492,6362,8593,41152,176625,141579,287278,139849,41340,13956],\"yaxis\":\"y\",\"type\":\"histogram\"},{\"alignmentgroup\":\"True\",\"bingroup\":\"x\",\"histfunc\":\"sum\",\"hovertemplate\":\"tag=CCONJ<br>domain=%{x}<br>sum of tag_length=%{y}<extra></extra>\",\"legendgroup\":\"CCONJ\",\"marker\":{\"color\":\"#ab63fa\",\"pattern\":{\"shape\":\"\"}},\"name\":\"CCONJ\",\"offsetgroup\":\"CCONJ\",\"orientation\":\"v\",\"showlegend\":true,\"texttemplate\":\"%{value:.2s}\",\"x\":[\"monden/\",\"it-stiinta/\",\"sport/\",\"politic/\",\"life-death/\",\"\",\"stiri/economie\",\"stiri/externe\",\"stiri/actualitate\",\"stiri/actualitate/politica\",\"stiri/sport\",\"stiri/sci-tech\"],\"xaxis\":\"x\",\"y\":[37178,9836,6519,29247,38747,24686,236187,282056,482147,401717,38533,29892],\"yaxis\":\"y\",\"type\":\"histogram\"},{\"alignmentgroup\":\"True\",\"bingroup\":\"x\",\"histfunc\":\"sum\",\"hovertemplate\":\"tag=NUM<br>domain=%{x}<br>sum of tag_length=%{y}<extra></extra>\",\"legendgroup\":\"NUM\",\"marker\":{\"color\":\"#FFA15A\",\"pattern\":{\"shape\":\"\"}},\"name\":\"NUM\",\"offsetgroup\":\"NUM\",\"orientation\":\"v\",\"showlegend\":true,\"texttemplate\":\"%{value:.2s}\",\"x\":[\"monden/\",\"it-stiinta/\",\"sport/\",\"politic/\",\"life-death/\",\"\",\"stiri/economie\",\"stiri/externe\",\"stiri/actualitate\",\"stiri/actualitate/politica\",\"stiri/sport\",\"stiri/sci-tech\"],\"xaxis\":\"x\",\"y\":[9552,2400,1992,7735,9906,13741,143958,118529,169745,119745,29868,11512],\"yaxis\":\"y\",\"type\":\"histogram\"},{\"alignmentgroup\":\"True\",\"bingroup\":\"x\",\"histfunc\":\"sum\",\"hovertemplate\":\"tag=INTJ<br>domain=%{x}<br>sum of tag_length=%{y}<extra></extra>\",\"legendgroup\":\"INTJ\",\"marker\":{\"color\":\"#19d3f3\",\"pattern\":{\"shape\":\"\"}},\"name\":\"INTJ\",\"offsetgroup\":\"INTJ\",\"orientation\":\"v\",\"showlegend\":true,\"texttemplate\":\"%{value:.2s}\",\"x\":[\"monden/\",\"it-stiinta/\",\"sport/\",\"politic/\",\"life-death/\",\"\",\"stiri/economie\",\"stiri/externe\",\"stiri/actualitate\",\"stiri/actualitate/politica\",\"stiri/sport\",\"stiri/sci-tech\"],\"xaxis\":\"x\",\"y\":[606,121,97,471,592,62,1192,1033,4253,4591,344,106],\"yaxis\":\"y\",\"type\":\"histogram\"},{\"alignmentgroup\":\"True\",\"bingroup\":\"x\",\"histfunc\":\"sum\",\"hovertemplate\":\"tag=X<br>domain=%{x}<br>sum of tag_length=%{y}<extra></extra>\",\"legendgroup\":\"X\",\"marker\":{\"color\":\"#FF6692\",\"pattern\":{\"shape\":\"\"}},\"name\":\"X\",\"offsetgroup\":\"X\",\"orientation\":\"v\",\"showlegend\":true,\"texttemplate\":\"%{value:.2s}\",\"x\":[\"monden/\",\"it-stiinta/\",\"sport/\",\"politic/\",\"life-death/\",\"\",\"stiri/economie\",\"stiri/externe\",\"stiri/actualitate\",\"stiri/actualitate/politica\",\"stiri/sport\",\"stiri/sci-tech\"],\"xaxis\":\"x\",\"y\":[322,105,48,230,299,450,2195,1786,3165,2736,411,217],\"yaxis\":\"y\",\"type\":\"histogram\"},{\"alignmentgroup\":\"True\",\"bingroup\":\"x\",\"histfunc\":\"sum\",\"hovertemplate\":\"tag=SYM<br>domain=%{x}<br>sum of tag_length=%{y}<extra></extra>\",\"legendgroup\":\"SYM\",\"marker\":{\"color\":\"#B6E880\",\"pattern\":{\"shape\":\"\"}},\"name\":\"SYM\",\"offsetgroup\":\"SYM\",\"orientation\":\"v\",\"showlegend\":true,\"texttemplate\":\"%{value:.2s}\",\"x\":[\"monden/\",\"it-stiinta/\",\"sport/\",\"politic/\",\"life-death/\",\"\",\"stiri/economie\",\"stiri/externe\",\"stiri/actualitate\",\"stiri/actualitate/politica\",\"stiri/sport\",\"stiri/sci-tech\"],\"xaxis\":\"x\",\"y\":[343,85,62,198,180,373,1792,839,2531,2315,467,125],\"yaxis\":\"y\",\"type\":\"histogram\"},{\"alignmentgroup\":\"True\",\"bingroup\":\"x\",\"histfunc\":\"sum\",\"hovertemplate\":\"tag=SPACE<br>domain=%{x}<br>sum of tag_length=%{y}<extra></extra>\",\"legendgroup\":\"SPACE\",\"marker\":{\"color\":\"#FF97FF\",\"pattern\":{\"shape\":\"\"}},\"name\":\"SPACE\",\"offsetgroup\":\"SPACE\",\"orientation\":\"v\",\"showlegend\":true,\"texttemplate\":\"%{value:.2s}\",\"x\":[\"\",\"stiri/economie\",\"stiri/externe\",\"stiri/actualitate\",\"stiri/actualitate/politica\",\"stiri/sport\",\"stiri/sci-tech\"],\"xaxis\":\"x\",\"y\":[1,7,132,2,4,5,11],\"yaxis\":\"y\",\"type\":\"histogram\"}],                        {\"template\":{\"data\":{\"bar\":[{\"error_x\":{\"color\":\"#2a3f5f\"},\"error_y\":{\"color\":\"#2a3f5f\"},\"marker\":{\"line\":{\"color\":\"#E5ECF6\",\"width\":0.5},\"pattern\":{\"fillmode\":\"overlay\",\"size\":10,\"solidity\":0.2}},\"type\":\"bar\"}],\"barpolar\":[{\"marker\":{\"line\":{\"color\":\"#E5ECF6\",\"width\":0.5},\"pattern\":{\"fillmode\":\"overlay\",\"size\":10,\"solidity\":0.2}},\"type\":\"barpolar\"}],\"carpet\":[{\"aaxis\":{\"endlinecolor\":\"#2a3f5f\",\"gridcolor\":\"white\",\"linecolor\":\"white\",\"minorgridcolor\":\"white\",\"startlinecolor\":\"#2a3f5f\"},\"baxis\":{\"endlinecolor\":\"#2a3f5f\",\"gridcolor\":\"white\",\"linecolor\":\"white\",\"minorgridcolor\":\"white\",\"startlinecolor\":\"#2a3f5f\"},\"type\":\"carpet\"}],\"choropleth\":[{\"colorbar\":{\"outlinewidth\":0,\"ticks\":\"\"},\"type\":\"choropleth\"}],\"contour\":[{\"colorbar\":{\"outlinewidth\":0,\"ticks\":\"\"},\"colorscale\":[[0.0,\"#0d0887\"],[0.1111111111111111,\"#46039f\"],[0.2222222222222222,\"#7201a8\"],[0.3333333333333333,\"#9c179e\"],[0.4444444444444444,\"#bd3786\"],[0.5555555555555556,\"#d8576b\"],[0.6666666666666666,\"#ed7953\"],[0.7777777777777778,\"#fb9f3a\"],[0.8888888888888888,\"#fdca26\"],[1.0,\"#f0f921\"]],\"type\":\"contour\"}],\"contourcarpet\":[{\"colorbar\":{\"outlinewidth\":0,\"ticks\":\"\"},\"type\":\"contourcarpet\"}],\"heatmap\":[{\"colorbar\":{\"outlinewidth\":0,\"ticks\":\"\"},\"colorscale\":[[0.0,\"#0d0887\"],[0.1111111111111111,\"#46039f\"],[0.2222222222222222,\"#7201a8\"],[0.3333333333333333,\"#9c179e\"],[0.4444444444444444,\"#bd3786\"],[0.5555555555555556,\"#d8576b\"],[0.6666666666666666,\"#ed7953\"],[0.7777777777777778,\"#fb9f3a\"],[0.8888888888888888,\"#fdca26\"],[1.0,\"#f0f921\"]],\"type\":\"heatmap\"}],\"heatmapgl\":[{\"colorbar\":{\"outlinewidth\":0,\"ticks\":\"\"},\"colorscale\":[[0.0,\"#0d0887\"],[0.1111111111111111,\"#46039f\"],[0.2222222222222222,\"#7201a8\"],[0.3333333333333333,\"#9c179e\"],[0.4444444444444444,\"#bd3786\"],[0.5555555555555556,\"#d8576b\"],[0.6666666666666666,\"#ed7953\"],[0.7777777777777778,\"#fb9f3a\"],[0.8888888888888888,\"#fdca26\"],[1.0,\"#f0f921\"]],\"type\":\"heatmapgl\"}],\"histogram\":[{\"marker\":{\"pattern\":{\"fillmode\":\"overlay\",\"size\":10,\"solidity\":0.2}},\"type\":\"histogram\"}],\"histogram2d\":[{\"colorbar\":{\"outlinewidth\":0,\"ticks\":\"\"},\"colorscale\":[[0.0,\"#0d0887\"],[0.1111111111111111,\"#46039f\"],[0.2222222222222222,\"#7201a8\"],[0.3333333333333333,\"#9c179e\"],[0.4444444444444444,\"#bd3786\"],[0.5555555555555556,\"#d8576b\"],[0.6666666666666666,\"#ed7953\"],[0.7777777777777778,\"#fb9f3a\"],[0.8888888888888888,\"#fdca26\"],[1.0,\"#f0f921\"]],\"type\":\"histogram2d\"}],\"histogram2dcontour\":[{\"colorbar\":{\"outlinewidth\":0,\"ticks\":\"\"},\"colorscale\":[[0.0,\"#0d0887\"],[0.1111111111111111,\"#46039f\"],[0.2222222222222222,\"#7201a8\"],[0.3333333333333333,\"#9c179e\"],[0.4444444444444444,\"#bd3786\"],[0.5555555555555556,\"#d8576b\"],[0.6666666666666666,\"#ed7953\"],[0.7777777777777778,\"#fb9f3a\"],[0.8888888888888888,\"#fdca26\"],[1.0,\"#f0f921\"]],\"type\":\"histogram2dcontour\"}],\"mesh3d\":[{\"colorbar\":{\"outlinewidth\":0,\"ticks\":\"\"},\"type\":\"mesh3d\"}],\"parcoords\":[{\"line\":{\"colorbar\":{\"outlinewidth\":0,\"ticks\":\"\"}},\"type\":\"parcoords\"}],\"pie\":[{\"automargin\":true,\"type\":\"pie\"}],\"scatter\":[{\"marker\":{\"colorbar\":{\"outlinewidth\":0,\"ticks\":\"\"}},\"type\":\"scatter\"}],\"scatter3d\":[{\"line\":{\"colorbar\":{\"outlinewidth\":0,\"ticks\":\"\"}},\"marker\":{\"colorbar\":{\"outlinewidth\":0,\"ticks\":\"\"}},\"type\":\"scatter3d\"}],\"scattercarpet\":[{\"marker\":{\"colorbar\":{\"outlinewidth\":0,\"ticks\":\"\"}},\"type\":\"scattercarpet\"}],\"scattergeo\":[{\"marker\":{\"colorbar\":{\"outlinewidth\":0,\"ticks\":\"\"}},\"type\":\"scattergeo\"}],\"scattergl\":[{\"marker\":{\"colorbar\":{\"outlinewidth\":0,\"ticks\":\"\"}},\"type\":\"scattergl\"}],\"scattermapbox\":[{\"marker\":{\"colorbar\":{\"outlinewidth\":0,\"ticks\":\"\"}},\"type\":\"scattermapbox\"}],\"scatterpolar\":[{\"marker\":{\"colorbar\":{\"outlinewidth\":0,\"ticks\":\"\"}},\"type\":\"scatterpolar\"}],\"scatterpolargl\":[{\"marker\":{\"colorbar\":{\"outlinewidth\":0,\"ticks\":\"\"}},\"type\":\"scatterpolargl\"}],\"scatterternary\":[{\"marker\":{\"colorbar\":{\"outlinewidth\":0,\"ticks\":\"\"}},\"type\":\"scatterternary\"}],\"surface\":[{\"colorbar\":{\"outlinewidth\":0,\"ticks\":\"\"},\"colorscale\":[[0.0,\"#0d0887\"],[0.1111111111111111,\"#46039f\"],[0.2222222222222222,\"#7201a8\"],[0.3333333333333333,\"#9c179e\"],[0.4444444444444444,\"#bd3786\"],[0.5555555555555556,\"#d8576b\"],[0.6666666666666666,\"#ed7953\"],[0.7777777777777778,\"#fb9f3a\"],[0.8888888888888888,\"#fdca26\"],[1.0,\"#f0f921\"]],\"type\":\"surface\"}],\"table\":[{\"cells\":{\"fill\":{\"color\":\"#EBF0F8\"},\"line\":{\"color\":\"white\"}},\"header\":{\"fill\":{\"color\":\"#C8D4E3\"},\"line\":{\"color\":\"white\"}},\"type\":\"table\"}]},\"layout\":{\"annotationdefaults\":{\"arrowcolor\":\"#2a3f5f\",\"arrowhead\":0,\"arrowwidth\":1},\"autotypenumbers\":\"strict\",\"coloraxis\":{\"colorbar\":{\"outlinewidth\":0,\"ticks\":\"\"}},\"colorscale\":{\"diverging\":[[0,\"#8e0152\"],[0.1,\"#c51b7d\"],[0.2,\"#de77ae\"],[0.3,\"#f1b6da\"],[0.4,\"#fde0ef\"],[0.5,\"#f7f7f7\"],[0.6,\"#e6f5d0\"],[0.7,\"#b8e186\"],[0.8,\"#7fbc41\"],[0.9,\"#4d9221\"],[1,\"#276419\"]],\"sequential\":[[0.0,\"#0d0887\"],[0.1111111111111111,\"#46039f\"],[0.2222222222222222,\"#7201a8\"],[0.3333333333333333,\"#9c179e\"],[0.4444444444444444,\"#bd3786\"],[0.5555555555555556,\"#d8576b\"],[0.6666666666666666,\"#ed7953\"],[0.7777777777777778,\"#fb9f3a\"],[0.8888888888888888,\"#fdca26\"],[1.0,\"#f0f921\"]],\"sequentialminus\":[[0.0,\"#0d0887\"],[0.1111111111111111,\"#46039f\"],[0.2222222222222222,\"#7201a8\"],[0.3333333333333333,\"#9c179e\"],[0.4444444444444444,\"#bd3786\"],[0.5555555555555556,\"#d8576b\"],[0.6666666666666666,\"#ed7953\"],[0.7777777777777778,\"#fb9f3a\"],[0.8888888888888888,\"#fdca26\"],[1.0,\"#f0f921\"]]},\"colorway\":[\"#636efa\",\"#EF553B\",\"#00cc96\",\"#ab63fa\",\"#FFA15A\",\"#19d3f3\",\"#FF6692\",\"#B6E880\",\"#FF97FF\",\"#FECB52\"],\"font\":{\"color\":\"#2a3f5f\"},\"geo\":{\"bgcolor\":\"white\",\"lakecolor\":\"white\",\"landcolor\":\"#E5ECF6\",\"showlakes\":true,\"showland\":true,\"subunitcolor\":\"white\"},\"hoverlabel\":{\"align\":\"left\"},\"hovermode\":\"closest\",\"mapbox\":{\"style\":\"light\"},\"paper_bgcolor\":\"white\",\"plot_bgcolor\":\"#E5ECF6\",\"polar\":{\"angularaxis\":{\"gridcolor\":\"white\",\"linecolor\":\"white\",\"ticks\":\"\"},\"bgcolor\":\"#E5ECF6\",\"radialaxis\":{\"gridcolor\":\"white\",\"linecolor\":\"white\",\"ticks\":\"\"}},\"scene\":{\"xaxis\":{\"backgroundcolor\":\"#E5ECF6\",\"gridcolor\":\"white\",\"gridwidth\":2,\"linecolor\":\"white\",\"showbackground\":true,\"ticks\":\"\",\"zerolinecolor\":\"white\"},\"yaxis\":{\"backgroundcolor\":\"#E5ECF6\",\"gridcolor\":\"white\",\"gridwidth\":2,\"linecolor\":\"white\",\"showbackground\":true,\"ticks\":\"\",\"zerolinecolor\":\"white\"},\"zaxis\":{\"backgroundcolor\":\"#E5ECF6\",\"gridcolor\":\"white\",\"gridwidth\":2,\"linecolor\":\"white\",\"showbackground\":true,\"ticks\":\"\",\"zerolinecolor\":\"white\"}},\"shapedefaults\":{\"line\":{\"color\":\"#2a3f5f\"}},\"ternary\":{\"aaxis\":{\"gridcolor\":\"white\",\"linecolor\":\"white\",\"ticks\":\"\"},\"baxis\":{\"gridcolor\":\"white\",\"linecolor\":\"white\",\"ticks\":\"\"},\"bgcolor\":\"#E5ECF6\",\"caxis\":{\"gridcolor\":\"white\",\"linecolor\":\"white\",\"ticks\":\"\"}},\"title\":{\"x\":0.05},\"xaxis\":{\"automargin\":true,\"gridcolor\":\"white\",\"linecolor\":\"white\",\"ticks\":\"\",\"title\":{\"standoff\":15},\"zerolinecolor\":\"white\",\"zerolinewidth\":2},\"yaxis\":{\"automargin\":true,\"gridcolor\":\"white\",\"linecolor\":\"white\",\"ticks\":\"\",\"title\":{\"standoff\":15},\"zerolinecolor\":\"white\",\"zerolinewidth\":2}}},\"xaxis\":{\"anchor\":\"y\",\"domain\":[0.0,1.0],\"title\":{\"text\":\"domain\"}},\"yaxis\":{\"anchor\":\"x\",\"domain\":[0.0,1.0],\"title\":{\"text\":\"sum of tag_length\"}},\"legend\":{\"title\":{\"text\":\"tag\"},\"tracegroupgap\":0},\"margin\":{\"t\":60},\"barmode\":\"group\"},                        {\"responsive\": true}                    ).then(function(){\n",
       "                            \n",
       "var gd = document.getElementById('bb605077-1e7c-4848-90f6-abf5f07def65');\n",
       "var x = new MutationObserver(function (mutations, observer) {{\n",
       "        var display = window.getComputedStyle(gd).display;\n",
       "        if (!display || display === 'none') {{\n",
       "            console.log([gd, 'removed!']);\n",
       "            Plotly.purge(gd);\n",
       "            observer.disconnect();\n",
       "        }}\n",
       "}});\n",
       "\n",
       "// Listen for the removal of the full notebook cells\n",
       "var notebookContainer = gd.closest('#notebook-container');\n",
       "if (notebookContainer) {{\n",
       "    x.observe(notebookContainer, {childList: true});\n",
       "}}\n",
       "\n",
       "// Listen for the clearing of the current output cell\n",
       "var outputEl = gd.closest('.output');\n",
       "if (outputEl) {{\n",
       "    x.observe(outputEl, {childList: true});\n",
       "}}\n",
       "\n",
       "                        })                };                });            </script>        </div>"
      ]
     },
     "metadata": {},
     "output_type": "display_data"
    }
   ],
   "source": [
    "domains = []\n",
    "for domain in domain_word_count:\n",
    "    for tag in domain[\"pos_tag_object\"]:\n",
    "        domains.append(\n",
    "            {\n",
    "                \"domain\": domain[\"domain\"],\n",
    "                \"type\": domain[\"type\"],\n",
    "                \"tag\": tag,\n",
    "                \"tag_length\": len(domain[\"pos_tag_object\"][tag]),\n",
    "            }\n",
    "        )\n",
    "        \n",
    "fig = px.histogram(\n",
    "    domains, x=\"domain\", y=\"tag_length\", color=\"tag\", text_auto=\".2s\", barmode='group'\n",
    ")\n",
    "fig.show()"
   ]
  },
  {
   "cell_type": "code",
   "execution_count": 85,
   "metadata": {},
   "outputs": [
    {
     "data": {
      "text/html": [
       "<div>                            <div id=\"0f84d8f3-312a-4d3a-88ac-5d1fea05f93d\" class=\"plotly-graph-div\" style=\"height:525px; width:100%;\"></div>            <script type=\"text/javascript\">                require([\"plotly\"], function(Plotly) {                    window.PLOTLYENV=window.PLOTLYENV || {};                                    if (document.getElementById(\"0f84d8f3-312a-4d3a-88ac-5d1fea05f93d\")) {                    Plotly.newPlot(                        \"0f84d8f3-312a-4d3a-88ac-5d1fea05f93d\",                        [{\"alignmentgroup\":\"True\",\"bingroup\":\"x\",\"histfunc\":\"sum\",\"hovertemplate\":\"word=,<br>domain=%{x}<br>sum of word_freq=%{y}<extra></extra>\",\"legendgroup\":\",\",\"marker\":{\"color\":\"#636efa\",\"pattern\":{\"shape\":\"\"}},\"name\":\",\",\"offsetgroup\":\",\",\"orientation\":\"v\",\"showlegend\":true,\"texttemplate\":\"%{value:.2s}\",\"x\":[\"monden/\",\"it-stiinta/\",\"sport/\",\"politic/\",\"life-death/\",\"\",\"stiri/economie\",\"stiri/externe\",\"stiri/actualitate\",\"stiri/actualitate/politica\",\"stiri/sport\",\"stiri/sci-tech\"],\"xaxis\":\"x\",\"y\":[86971,20720,16417,69441,85956,75348,548798,678789,1173048,926071,117904,66084],\"yaxis\":\"y\",\"type\":\"histogram\"},{\"alignmentgroup\":\"True\",\"bingroup\":\"x\",\"histfunc\":\"sum\",\"hovertemplate\":\"word=de<br>domain=%{x}<br>sum of word_freq=%{y}<extra></extra>\",\"legendgroup\":\"de\",\"marker\":{\"color\":\"#EF553B\",\"pattern\":{\"shape\":\"\"}},\"name\":\"de\",\"offsetgroup\":\"de\",\"orientation\":\"v\",\"showlegend\":true,\"texttemplate\":\"%{value:.2s}\",\"x\":[\"monden/\",\"it-stiinta/\",\"sport/\",\"politic/\",\"life-death/\",\"\",\"stiri/economie\",\"stiri/externe\",\"stiri/actualitate\",\"stiri/actualitate/politica\",\"stiri/sport\",\"stiri/sci-tech\"],\"xaxis\":\"x\",\"y\":[51448,13106,9619,41499,55902,52433,481773,518556,800179,566457,59805,55568],\"yaxis\":\"y\",\"type\":\"histogram\"},{\"alignmentgroup\":\"True\",\"bingroup\":\"x\",\"histfunc\":\"sum\",\"hovertemplate\":\"word=.<br>domain=%{x}<br>sum of word_freq=%{y}<extra></extra>\",\"legendgroup\":\".\",\"marker\":{\"color\":\"#00cc96\",\"pattern\":{\"shape\":\"\"}},\"name\":\".\",\"offsetgroup\":\".\",\"orientation\":\"v\",\"showlegend\":true,\"texttemplate\":\"%{value:.2s}\",\"x\":[\"monden/\",\"it-stiinta/\",\"sport/\",\"politic/\",\"life-death/\",\"\",\"stiri/economie\",\"stiri/externe\",\"stiri/actualitate\",\"stiri/actualitate/politica\",\"stiri/sport\",\"stiri/sci-tech\"],\"xaxis\":\"x\",\"y\":[46692,11243,9176,36727,48363,32368,301795,370234,602421,487834,55082,37112],\"yaxis\":\"y\",\"type\":\"histogram\"},{\"alignmentgroup\":\"True\",\"bingroup\":\"x\",\"histfunc\":\"sum\",\"hovertemplate\":\"word=a<br>domain=%{x}<br>sum of word_freq=%{y}<extra></extra>\",\"legendgroup\":\"a\",\"marker\":{\"color\":\"#ab63fa\",\"pattern\":{\"shape\":\"\"}},\"name\":\"a\",\"offsetgroup\":\"a\",\"orientation\":\"v\",\"showlegend\":true,\"texttemplate\":\"%{value:.2s}\",\"x\":[\"monden/\",\"it-stiinta/\",\"sport/\",\"politic/\",\"life-death/\",\"\",\"stiri/economie\",\"stiri/externe\",\"stiri/actualitate\",\"stiri/actualitate/politica\",\"stiri/sport\",\"stiri/sci-tech\"],\"xaxis\":\"x\",\"y\":[31381,6136,6810,27960,28046,22559,207866,368012,464402,410804,54483,27904],\"yaxis\":\"y\",\"type\":\"histogram\"},{\"alignmentgroup\":\"True\",\"bingroup\":\"x\",\"histfunc\":\"sum\",\"hovertemplate\":\"word=s\\u0103<br>domain=%{x}<br>sum of word_freq=%{y}<extra></extra>\",\"legendgroup\":\"s\\u0103\",\"marker\":{\"color\":\"#FFA15A\",\"pattern\":{\"shape\":\"\"}},\"name\":\"s\\u0103\",\"offsetgroup\":\"s\\u0103\",\"orientation\":\"v\",\"showlegend\":true,\"texttemplate\":\"%{value:.2s}\",\"x\":[\"monden/\",\"it-stiinta/\",\"sport/\",\"politic/\",\"life-death/\",\"stiri/economie\",\"stiri/externe\",\"stiri/actualitate\",\"stiri/actualitate/politica\",\"stiri/sport\",\"stiri/sci-tech\"],\"xaxis\":\"x\",\"y\":[26496,6293,5176,22732,27890,98651,123380,219218,215210,15661,12114],\"yaxis\":\"y\",\"type\":\"histogram\"},{\"alignmentgroup\":\"True\",\"bingroup\":\"x\",\"histfunc\":\"sum\",\"hovertemplate\":\"word=\\u0219i<br>domain=%{x}<br>sum of word_freq=%{y}<extra></extra>\",\"legendgroup\":\"\\u0219i\",\"marker\":{\"color\":\"#19d3f3\",\"pattern\":{\"shape\":\"\"}},\"name\":\"\\u0219i\",\"offsetgroup\":\"\\u0219i\",\"orientation\":\"v\",\"showlegend\":true,\"texttemplate\":\"%{value:.2s}\",\"x\":[\"monden/\",\"it-stiinta/\",\"sport/\",\"politic/\",\"life-death/\",\"\",\"stiri/economie\",\"stiri/externe\",\"stiri/actualitate\",\"stiri/actualitate/politica\",\"stiri/sport\",\"stiri/sci-tech\"],\"xaxis\":\"x\",\"y\":[25661,6839,4407,20607,27574,20383,180814,224751,376601,311158,30272,22796],\"yaxis\":\"y\",\"type\":\"histogram\"},{\"alignmentgroup\":\"True\",\"bingroup\":\"x\",\"histfunc\":\"sum\",\"hovertemplate\":\"word=\\u00een<br>domain=%{x}<br>sum of word_freq=%{y}<extra></extra>\",\"legendgroup\":\"\\u00een\",\"marker\":{\"color\":\"#FF6692\",\"pattern\":{\"shape\":\"\"}},\"name\":\"\\u00een\",\"offsetgroup\":\"\\u00een\",\"orientation\":\"v\",\"showlegend\":true,\"texttemplate\":\"%{value:.2s}\",\"x\":[\"monden/\",\"it-stiinta/\",\"sport/\",\"politic/\",\"life-death/\",\"\",\"stiri/economie\",\"stiri/externe\",\"stiri/actualitate\",\"stiri/actualitate/politica\",\"stiri/sport\",\"stiri/sci-tech\"],\"xaxis\":\"x\",\"y\":[23988,5767,4769,20651,26050,34125,219468,283829,438295,318292,37135,26352],\"yaxis\":\"y\",\"type\":\"histogram\"},{\"alignmentgroup\":\"True\",\"bingroup\":\"x\",\"histfunc\":\"sum\",\"hovertemplate\":\"word=la<br>domain=%{x}<br>sum of word_freq=%{y}<extra></extra>\",\"legendgroup\":\"la\",\"marker\":{\"color\":\"#B6E880\",\"pattern\":{\"shape\":\"\"}},\"name\":\"la\",\"offsetgroup\":\"la\",\"orientation\":\"v\",\"showlegend\":true,\"texttemplate\":\"%{value:.2s}\",\"x\":[\"monden/\",\"it-stiinta/\",\"sport/\",\"politic/\",\"life-death/\",\"\",\"stiri/economie\",\"stiri/externe\",\"stiri/actualitate\",\"stiri/actualitate/politica\",\"stiri/sport\",\"stiri/sci-tech\"],\"xaxis\":\"x\",\"y\":[21300,4961,4511,17381,22418,16416,145424,153596,288663,224982,31577,14583],\"yaxis\":\"y\",\"type\":\"histogram\"},{\"alignmentgroup\":\"True\",\"bingroup\":\"x\",\"histfunc\":\"sum\",\"hovertemplate\":\"word=c\\u0103<br>domain=%{x}<br>sum of word_freq=%{y}<extra></extra>\",\"legendgroup\":\"c\\u0103\",\"marker\":{\"color\":\"#FF97FF\",\"pattern\":{\"shape\":\"\"}},\"name\":\"c\\u0103\",\"offsetgroup\":\"c\\u0103\",\"orientation\":\"v\",\"showlegend\":true,\"texttemplate\":\"%{value:.2s}\",\"x\":[\"monden/\",\"it-stiinta/\",\"sport/\",\"politic/\",\"life-death/\",\"stiri/actualitate\",\"stiri/actualitate/politica\"],\"xaxis\":\"x\",\"y\":[20728,5097,4425,17983,21112,191331,200222],\"yaxis\":\"y\",\"type\":\"histogram\"},{\"alignmentgroup\":\"True\",\"bingroup\":\"x\",\"histfunc\":\"sum\",\"hovertemplate\":\"word=\\\"<br>domain=%{x}<br>sum of word_freq=%{y}<extra></extra>\",\"legendgroup\":\"\\\"\",\"marker\":{\"color\":\"#FECB52\",\"pattern\":{\"shape\":\"\"}},\"name\":\"\\\"\",\"offsetgroup\":\"\\\"\",\"orientation\":\"v\",\"showlegend\":true,\"texttemplate\":\"%{value:.2s}\",\"x\":[\"monden/\",\"it-stiinta/\",\"sport/\",\"politic/\",\"life-death/\",\"stiri/externe\",\"stiri/actualitate/politica\"],\"xaxis\":\"x\",\"y\":[19364,4042,3561,14973,16814,136092,178963],\"yaxis\":\"y\",\"type\":\"histogram\"},{\"alignmentgroup\":\"True\",\"bingroup\":\"x\",\"histfunc\":\"sum\",\"hovertemplate\":\"word=au<br>domain=%{x}<br>sum of word_freq=%{y}<extra></extra>\",\"legendgroup\":\"au\",\"marker\":{\"color\":\"#636efa\",\"pattern\":{\"shape\":\"\"}},\"name\":\"au\",\"offsetgroup\":\"au\",\"orientation\":\"v\",\"showlegend\":true,\"texttemplate\":\"%{value:.2s}\",\"x\":[\"\"],\"xaxis\":\"x\",\"y\":[11682],\"yaxis\":\"y\",\"type\":\"histogram\"},{\"alignmentgroup\":\"True\",\"bingroup\":\"x\",\"histfunc\":\"sum\",\"hovertemplate\":\"word=cu<br>domain=%{x}<br>sum of word_freq=%{y}<extra></extra>\",\"legendgroup\":\"cu\",\"marker\":{\"color\":\"#EF553B\",\"pattern\":{\"shape\":\"\"}},\"name\":\"cu\",\"offsetgroup\":\"cu\",\"orientation\":\"v\",\"showlegend\":true,\"texttemplate\":\"%{value:.2s}\",\"x\":[\"\",\"stiri/sport\"],\"xaxis\":\"x\",\"y\":[11036,17175],\"yaxis\":\"y\",\"type\":\"histogram\"},{\"alignmentgroup\":\"True\",\"bingroup\":\"x\",\"histfunc\":\"sum\",\"hovertemplate\":\"word=care<br>domain=%{x}<br>sum of word_freq=%{y}<extra></extra>\",\"legendgroup\":\"care\",\"marker\":{\"color\":\"#00cc96\",\"pattern\":{\"shape\":\"\"}},\"name\":\"care\",\"offsetgroup\":\"care\",\"orientation\":\"v\",\"showlegend\":true,\"texttemplate\":\"%{value:.2s}\",\"x\":[\"\",\"stiri/economie\",\"stiri/actualitate\",\"stiri/sci-tech\"],\"xaxis\":\"x\",\"y\":[8999,90292,198757,13262],\"yaxis\":\"y\",\"type\":\"histogram\"},{\"alignmentgroup\":\"True\",\"bingroup\":\"x\",\"histfunc\":\"sum\",\"hovertemplate\":\"word=din<br>domain=%{x}<br>sum of word_freq=%{y}<extra></extra>\",\"legendgroup\":\"din\",\"marker\":{\"color\":\"#ab63fa\",\"pattern\":{\"shape\":\"\"}},\"name\":\"din\",\"offsetgroup\":\"din\",\"orientation\":\"v\",\"showlegend\":true,\"texttemplate\":\"%{value:.2s}\",\"x\":[\"stiri/economie\",\"stiri/externe\",\"stiri/sci-tech\"],\"xaxis\":\"x\",\"y\":[97445,132725,12619],\"yaxis\":\"y\",\"type\":\"histogram\"},{\"alignmentgroup\":\"True\",\"bingroup\":\"x\",\"histfunc\":\"sum\",\"hovertemplate\":\"word=pe<br>domain=%{x}<br>sum of word_freq=%{y}<extra></extra>\",\"legendgroup\":\"pe\",\"marker\":{\"color\":\"#FFA15A\",\"pattern\":{\"shape\":\"\"}},\"name\":\"pe\",\"offsetgroup\":\"pe\",\"orientation\":\"v\",\"showlegend\":true,\"texttemplate\":\"%{value:.2s}\",\"x\":[\"stiri/sport\"],\"xaxis\":\"x\",\"y\":[16110],\"yaxis\":\"y\",\"type\":\"histogram\"}],                        {\"template\":{\"data\":{\"bar\":[{\"error_x\":{\"color\":\"#2a3f5f\"},\"error_y\":{\"color\":\"#2a3f5f\"},\"marker\":{\"line\":{\"color\":\"#E5ECF6\",\"width\":0.5},\"pattern\":{\"fillmode\":\"overlay\",\"size\":10,\"solidity\":0.2}},\"type\":\"bar\"}],\"barpolar\":[{\"marker\":{\"line\":{\"color\":\"#E5ECF6\",\"width\":0.5},\"pattern\":{\"fillmode\":\"overlay\",\"size\":10,\"solidity\":0.2}},\"type\":\"barpolar\"}],\"carpet\":[{\"aaxis\":{\"endlinecolor\":\"#2a3f5f\",\"gridcolor\":\"white\",\"linecolor\":\"white\",\"minorgridcolor\":\"white\",\"startlinecolor\":\"#2a3f5f\"},\"baxis\":{\"endlinecolor\":\"#2a3f5f\",\"gridcolor\":\"white\",\"linecolor\":\"white\",\"minorgridcolor\":\"white\",\"startlinecolor\":\"#2a3f5f\"},\"type\":\"carpet\"}],\"choropleth\":[{\"colorbar\":{\"outlinewidth\":0,\"ticks\":\"\"},\"type\":\"choropleth\"}],\"contour\":[{\"colorbar\":{\"outlinewidth\":0,\"ticks\":\"\"},\"colorscale\":[[0.0,\"#0d0887\"],[0.1111111111111111,\"#46039f\"],[0.2222222222222222,\"#7201a8\"],[0.3333333333333333,\"#9c179e\"],[0.4444444444444444,\"#bd3786\"],[0.5555555555555556,\"#d8576b\"],[0.6666666666666666,\"#ed7953\"],[0.7777777777777778,\"#fb9f3a\"],[0.8888888888888888,\"#fdca26\"],[1.0,\"#f0f921\"]],\"type\":\"contour\"}],\"contourcarpet\":[{\"colorbar\":{\"outlinewidth\":0,\"ticks\":\"\"},\"type\":\"contourcarpet\"}],\"heatmap\":[{\"colorbar\":{\"outlinewidth\":0,\"ticks\":\"\"},\"colorscale\":[[0.0,\"#0d0887\"],[0.1111111111111111,\"#46039f\"],[0.2222222222222222,\"#7201a8\"],[0.3333333333333333,\"#9c179e\"],[0.4444444444444444,\"#bd3786\"],[0.5555555555555556,\"#d8576b\"],[0.6666666666666666,\"#ed7953\"],[0.7777777777777778,\"#fb9f3a\"],[0.8888888888888888,\"#fdca26\"],[1.0,\"#f0f921\"]],\"type\":\"heatmap\"}],\"heatmapgl\":[{\"colorbar\":{\"outlinewidth\":0,\"ticks\":\"\"},\"colorscale\":[[0.0,\"#0d0887\"],[0.1111111111111111,\"#46039f\"],[0.2222222222222222,\"#7201a8\"],[0.3333333333333333,\"#9c179e\"],[0.4444444444444444,\"#bd3786\"],[0.5555555555555556,\"#d8576b\"],[0.6666666666666666,\"#ed7953\"],[0.7777777777777778,\"#fb9f3a\"],[0.8888888888888888,\"#fdca26\"],[1.0,\"#f0f921\"]],\"type\":\"heatmapgl\"}],\"histogram\":[{\"marker\":{\"pattern\":{\"fillmode\":\"overlay\",\"size\":10,\"solidity\":0.2}},\"type\":\"histogram\"}],\"histogram2d\":[{\"colorbar\":{\"outlinewidth\":0,\"ticks\":\"\"},\"colorscale\":[[0.0,\"#0d0887\"],[0.1111111111111111,\"#46039f\"],[0.2222222222222222,\"#7201a8\"],[0.3333333333333333,\"#9c179e\"],[0.4444444444444444,\"#bd3786\"],[0.5555555555555556,\"#d8576b\"],[0.6666666666666666,\"#ed7953\"],[0.7777777777777778,\"#fb9f3a\"],[0.8888888888888888,\"#fdca26\"],[1.0,\"#f0f921\"]],\"type\":\"histogram2d\"}],\"histogram2dcontour\":[{\"colorbar\":{\"outlinewidth\":0,\"ticks\":\"\"},\"colorscale\":[[0.0,\"#0d0887\"],[0.1111111111111111,\"#46039f\"],[0.2222222222222222,\"#7201a8\"],[0.3333333333333333,\"#9c179e\"],[0.4444444444444444,\"#bd3786\"],[0.5555555555555556,\"#d8576b\"],[0.6666666666666666,\"#ed7953\"],[0.7777777777777778,\"#fb9f3a\"],[0.8888888888888888,\"#fdca26\"],[1.0,\"#f0f921\"]],\"type\":\"histogram2dcontour\"}],\"mesh3d\":[{\"colorbar\":{\"outlinewidth\":0,\"ticks\":\"\"},\"type\":\"mesh3d\"}],\"parcoords\":[{\"line\":{\"colorbar\":{\"outlinewidth\":0,\"ticks\":\"\"}},\"type\":\"parcoords\"}],\"pie\":[{\"automargin\":true,\"type\":\"pie\"}],\"scatter\":[{\"marker\":{\"colorbar\":{\"outlinewidth\":0,\"ticks\":\"\"}},\"type\":\"scatter\"}],\"scatter3d\":[{\"line\":{\"colorbar\":{\"outlinewidth\":0,\"ticks\":\"\"}},\"marker\":{\"colorbar\":{\"outlinewidth\":0,\"ticks\":\"\"}},\"type\":\"scatter3d\"}],\"scattercarpet\":[{\"marker\":{\"colorbar\":{\"outlinewidth\":0,\"ticks\":\"\"}},\"type\":\"scattercarpet\"}],\"scattergeo\":[{\"marker\":{\"colorbar\":{\"outlinewidth\":0,\"ticks\":\"\"}},\"type\":\"scattergeo\"}],\"scattergl\":[{\"marker\":{\"colorbar\":{\"outlinewidth\":0,\"ticks\":\"\"}},\"type\":\"scattergl\"}],\"scattermapbox\":[{\"marker\":{\"colorbar\":{\"outlinewidth\":0,\"ticks\":\"\"}},\"type\":\"scattermapbox\"}],\"scatterpolar\":[{\"marker\":{\"colorbar\":{\"outlinewidth\":0,\"ticks\":\"\"}},\"type\":\"scatterpolar\"}],\"scatterpolargl\":[{\"marker\":{\"colorbar\":{\"outlinewidth\":0,\"ticks\":\"\"}},\"type\":\"scatterpolargl\"}],\"scatterternary\":[{\"marker\":{\"colorbar\":{\"outlinewidth\":0,\"ticks\":\"\"}},\"type\":\"scatterternary\"}],\"surface\":[{\"colorbar\":{\"outlinewidth\":0,\"ticks\":\"\"},\"colorscale\":[[0.0,\"#0d0887\"],[0.1111111111111111,\"#46039f\"],[0.2222222222222222,\"#7201a8\"],[0.3333333333333333,\"#9c179e\"],[0.4444444444444444,\"#bd3786\"],[0.5555555555555556,\"#d8576b\"],[0.6666666666666666,\"#ed7953\"],[0.7777777777777778,\"#fb9f3a\"],[0.8888888888888888,\"#fdca26\"],[1.0,\"#f0f921\"]],\"type\":\"surface\"}],\"table\":[{\"cells\":{\"fill\":{\"color\":\"#EBF0F8\"},\"line\":{\"color\":\"white\"}},\"header\":{\"fill\":{\"color\":\"#C8D4E3\"},\"line\":{\"color\":\"white\"}},\"type\":\"table\"}]},\"layout\":{\"annotationdefaults\":{\"arrowcolor\":\"#2a3f5f\",\"arrowhead\":0,\"arrowwidth\":1},\"autotypenumbers\":\"strict\",\"coloraxis\":{\"colorbar\":{\"outlinewidth\":0,\"ticks\":\"\"}},\"colorscale\":{\"diverging\":[[0,\"#8e0152\"],[0.1,\"#c51b7d\"],[0.2,\"#de77ae\"],[0.3,\"#f1b6da\"],[0.4,\"#fde0ef\"],[0.5,\"#f7f7f7\"],[0.6,\"#e6f5d0\"],[0.7,\"#b8e186\"],[0.8,\"#7fbc41\"],[0.9,\"#4d9221\"],[1,\"#276419\"]],\"sequential\":[[0.0,\"#0d0887\"],[0.1111111111111111,\"#46039f\"],[0.2222222222222222,\"#7201a8\"],[0.3333333333333333,\"#9c179e\"],[0.4444444444444444,\"#bd3786\"],[0.5555555555555556,\"#d8576b\"],[0.6666666666666666,\"#ed7953\"],[0.7777777777777778,\"#fb9f3a\"],[0.8888888888888888,\"#fdca26\"],[1.0,\"#f0f921\"]],\"sequentialminus\":[[0.0,\"#0d0887\"],[0.1111111111111111,\"#46039f\"],[0.2222222222222222,\"#7201a8\"],[0.3333333333333333,\"#9c179e\"],[0.4444444444444444,\"#bd3786\"],[0.5555555555555556,\"#d8576b\"],[0.6666666666666666,\"#ed7953\"],[0.7777777777777778,\"#fb9f3a\"],[0.8888888888888888,\"#fdca26\"],[1.0,\"#f0f921\"]]},\"colorway\":[\"#636efa\",\"#EF553B\",\"#00cc96\",\"#ab63fa\",\"#FFA15A\",\"#19d3f3\",\"#FF6692\",\"#B6E880\",\"#FF97FF\",\"#FECB52\"],\"font\":{\"color\":\"#2a3f5f\"},\"geo\":{\"bgcolor\":\"white\",\"lakecolor\":\"white\",\"landcolor\":\"#E5ECF6\",\"showlakes\":true,\"showland\":true,\"subunitcolor\":\"white\"},\"hoverlabel\":{\"align\":\"left\"},\"hovermode\":\"closest\",\"mapbox\":{\"style\":\"light\"},\"paper_bgcolor\":\"white\",\"plot_bgcolor\":\"#E5ECF6\",\"polar\":{\"angularaxis\":{\"gridcolor\":\"white\",\"linecolor\":\"white\",\"ticks\":\"\"},\"bgcolor\":\"#E5ECF6\",\"radialaxis\":{\"gridcolor\":\"white\",\"linecolor\":\"white\",\"ticks\":\"\"}},\"scene\":{\"xaxis\":{\"backgroundcolor\":\"#E5ECF6\",\"gridcolor\":\"white\",\"gridwidth\":2,\"linecolor\":\"white\",\"showbackground\":true,\"ticks\":\"\",\"zerolinecolor\":\"white\"},\"yaxis\":{\"backgroundcolor\":\"#E5ECF6\",\"gridcolor\":\"white\",\"gridwidth\":2,\"linecolor\":\"white\",\"showbackground\":true,\"ticks\":\"\",\"zerolinecolor\":\"white\"},\"zaxis\":{\"backgroundcolor\":\"#E5ECF6\",\"gridcolor\":\"white\",\"gridwidth\":2,\"linecolor\":\"white\",\"showbackground\":true,\"ticks\":\"\",\"zerolinecolor\":\"white\"}},\"shapedefaults\":{\"line\":{\"color\":\"#2a3f5f\"}},\"ternary\":{\"aaxis\":{\"gridcolor\":\"white\",\"linecolor\":\"white\",\"ticks\":\"\"},\"baxis\":{\"gridcolor\":\"white\",\"linecolor\":\"white\",\"ticks\":\"\"},\"bgcolor\":\"#E5ECF6\",\"caxis\":{\"gridcolor\":\"white\",\"linecolor\":\"white\",\"ticks\":\"\"}},\"title\":{\"x\":0.05},\"xaxis\":{\"automargin\":true,\"gridcolor\":\"white\",\"linecolor\":\"white\",\"ticks\":\"\",\"title\":{\"standoff\":15},\"zerolinecolor\":\"white\",\"zerolinewidth\":2},\"yaxis\":{\"automargin\":true,\"gridcolor\":\"white\",\"linecolor\":\"white\",\"ticks\":\"\",\"title\":{\"standoff\":15},\"zerolinecolor\":\"white\",\"zerolinewidth\":2}}},\"xaxis\":{\"anchor\":\"y\",\"domain\":[0.0,1.0],\"title\":{\"text\":\"domain\"}},\"yaxis\":{\"anchor\":\"x\",\"domain\":[0.0,1.0],\"title\":{\"text\":\"sum of word_freq\"}},\"legend\":{\"title\":{\"text\":\"word\"},\"tracegroupgap\":0},\"margin\":{\"t\":60},\"barmode\":\"relative\"},                        {\"responsive\": true}                    ).then(function(){\n",
       "                            \n",
       "var gd = document.getElementById('0f84d8f3-312a-4d3a-88ac-5d1fea05f93d');\n",
       "var x = new MutationObserver(function (mutations, observer) {{\n",
       "        var display = window.getComputedStyle(gd).display;\n",
       "        if (!display || display === 'none') {{\n",
       "            console.log([gd, 'removed!']);\n",
       "            Plotly.purge(gd);\n",
       "            observer.disconnect();\n",
       "        }}\n",
       "}});\n",
       "\n",
       "// Listen for the removal of the full notebook cells\n",
       "var notebookContainer = gd.closest('#notebook-container');\n",
       "if (notebookContainer) {{\n",
       "    x.observe(notebookContainer, {childList: true});\n",
       "}}\n",
       "\n",
       "// Listen for the clearing of the current output cell\n",
       "var outputEl = gd.closest('.output');\n",
       "if (outputEl) {{\n",
       "    x.observe(outputEl, {childList: true});\n",
       "}}\n",
       "\n",
       "                        })                };                });            </script>        </div>"
      ]
     },
     "metadata": {},
     "output_type": "display_data"
    }
   ],
   "source": [
    "domains = []\n",
    "for domain in domain_word_count:\n",
    "    sorted_tags = dict(sorted(domain[\"pos_object_frequecy\"].items(), key=lambda item: item[1],  reverse=True))\n",
    "    index: int = 10\n",
    "\n",
    "    for word in sorted_tags:\n",
    "        domains.append(\n",
    "            {\n",
    "                \"domain\": domain[\"domain\"],\n",
    "                \"type\": domain[\"type\"],\n",
    "                \"word\": word,\n",
    "                \"word_freq\": domain[\"pos_object_frequecy\"][word],\n",
    "            }\n",
    "        )\n",
    "        index -= 1\n",
    "        if index == 0:\n",
    "            break\n",
    "\n",
    "fig = px.histogram(\n",
    "    domains, x=\"domain\", y=\"word_freq\", color=\"word\", text_auto=\".2s\"\n",
    ")\n",
    "fig.show()"
   ]
  },
  {
   "cell_type": "code",
   "execution_count": 86,
   "metadata": {},
   "outputs": [
    {
     "data": {
      "text/html": [
       "<div>                            <div id=\"dac62dd5-1c2e-47c1-95da-985d733141e9\" class=\"plotly-graph-div\" style=\"height:525px; width:100%;\"></div>            <script type=\"text/javascript\">                require([\"plotly\"], function(Plotly) {                    window.PLOTLYENV=window.PLOTLYENV || {};                                    if (document.getElementById(\"dac62dd5-1c2e-47c1-95da-985d733141e9\")) {                    Plotly.newPlot(                        \"dac62dd5-1c2e-47c1-95da-985d733141e9\",                        [{\"alignmentgroup\":\"True\",\"bingroup\":\"x\",\"histfunc\":\"sum\",\"hovertemplate\":\"word=,<br>domain=%{x}<br>sum of word_freq=%{y}<extra></extra>\",\"legendgroup\":\",\",\"marker\":{\"color\":\"#636efa\",\"pattern\":{\"shape\":\"\"}},\"name\":\",\",\"offsetgroup\":\",\",\"orientation\":\"v\",\"showlegend\":true,\"texttemplate\":\"%{value:.2s}\",\"x\":[\"monden/\",\"it-stiinta/\",\"sport/\",\"politic/\",\"life-death/\",\"\",\"stiri/economie\",\"stiri/externe\",\"stiri/actualitate\",\"stiri/actualitate/politica\",\"stiri/sport\",\"stiri/sci-tech\"],\"xaxis\":\"x\",\"y\":[86971,20720,16417,69441,85956,75348,548798,678789,1173048,926071,117904,66084],\"yaxis\":\"y\",\"type\":\"histogram\"},{\"alignmentgroup\":\"True\",\"bingroup\":\"x\",\"histfunc\":\"sum\",\"hovertemplate\":\"word=de<br>domain=%{x}<br>sum of word_freq=%{y}<extra></extra>\",\"legendgroup\":\"de\",\"marker\":{\"color\":\"#EF553B\",\"pattern\":{\"shape\":\"\"}},\"name\":\"de\",\"offsetgroup\":\"de\",\"orientation\":\"v\",\"showlegend\":true,\"texttemplate\":\"%{value:.2s}\",\"x\":[\"monden/\",\"it-stiinta/\",\"sport/\",\"politic/\",\"life-death/\",\"\",\"stiri/economie\",\"stiri/externe\",\"stiri/actualitate\",\"stiri/actualitate/politica\",\"stiri/sport\",\"stiri/sci-tech\"],\"xaxis\":\"x\",\"y\":[51448,13106,9619,41499,55902,52433,481773,518556,800179,566457,59805,55568],\"yaxis\":\"y\",\"type\":\"histogram\"},{\"alignmentgroup\":\"True\",\"bingroup\":\"x\",\"histfunc\":\"sum\",\"hovertemplate\":\"word=.<br>domain=%{x}<br>sum of word_freq=%{y}<extra></extra>\",\"legendgroup\":\".\",\"marker\":{\"color\":\"#00cc96\",\"pattern\":{\"shape\":\"\"}},\"name\":\".\",\"offsetgroup\":\".\",\"orientation\":\"v\",\"showlegend\":true,\"texttemplate\":\"%{value:.2s}\",\"x\":[\"monden/\",\"it-stiinta/\",\"sport/\",\"politic/\",\"life-death/\",\"\",\"stiri/economie\",\"stiri/externe\",\"stiri/actualitate\",\"stiri/actualitate/politica\",\"stiri/sport\",\"stiri/sci-tech\"],\"xaxis\":\"x\",\"y\":[46692,11243,9176,36727,48363,32368,301795,370234,602421,487834,55082,37112],\"yaxis\":\"y\",\"type\":\"histogram\"},{\"alignmentgroup\":\"True\",\"bingroup\":\"x\",\"histfunc\":\"sum\",\"hovertemplate\":\"word=a<br>domain=%{x}<br>sum of word_freq=%{y}<extra></extra>\",\"legendgroup\":\"a\",\"marker\":{\"color\":\"#ab63fa\",\"pattern\":{\"shape\":\"\"}},\"name\":\"a\",\"offsetgroup\":\"a\",\"orientation\":\"v\",\"showlegend\":true,\"texttemplate\":\"%{value:.2s}\",\"x\":[\"monden/\",\"it-stiinta/\",\"sport/\",\"politic/\",\"life-death/\",\"\",\"stiri/economie\",\"stiri/externe\",\"stiri/actualitate\",\"stiri/actualitate/politica\",\"stiri/sport\",\"stiri/sci-tech\"],\"xaxis\":\"x\",\"y\":[31381,6136,6810,27960,28046,22559,207866,368012,464402,410804,54483,27904],\"yaxis\":\"y\",\"type\":\"histogram\"},{\"alignmentgroup\":\"True\",\"bingroup\":\"x\",\"histfunc\":\"sum\",\"hovertemplate\":\"word=s\\u0103<br>domain=%{x}<br>sum of word_freq=%{y}<extra></extra>\",\"legendgroup\":\"s\\u0103\",\"marker\":{\"color\":\"#FFA15A\",\"pattern\":{\"shape\":\"\"}},\"name\":\"s\\u0103\",\"offsetgroup\":\"s\\u0103\",\"orientation\":\"v\",\"showlegend\":true,\"texttemplate\":\"%{value:.2s}\",\"x\":[\"monden/\",\"it-stiinta/\",\"sport/\",\"politic/\",\"life-death/\",\"stiri/economie\",\"stiri/externe\",\"stiri/actualitate\",\"stiri/actualitate/politica\",\"stiri/sport\",\"stiri/sci-tech\"],\"xaxis\":\"x\",\"y\":[26496,6293,5176,22732,27890,98651,123380,219218,215210,15661,12114],\"yaxis\":\"y\",\"type\":\"histogram\"},{\"alignmentgroup\":\"True\",\"bingroup\":\"x\",\"histfunc\":\"sum\",\"hovertemplate\":\"word=\\u0219i<br>domain=%{x}<br>sum of word_freq=%{y}<extra></extra>\",\"legendgroup\":\"\\u0219i\",\"marker\":{\"color\":\"#19d3f3\",\"pattern\":{\"shape\":\"\"}},\"name\":\"\\u0219i\",\"offsetgroup\":\"\\u0219i\",\"orientation\":\"v\",\"showlegend\":true,\"texttemplate\":\"%{value:.2s}\",\"x\":[\"monden/\",\"it-stiinta/\",\"sport/\",\"politic/\",\"life-death/\",\"\",\"stiri/economie\",\"stiri/externe\",\"stiri/actualitate\",\"stiri/actualitate/politica\",\"stiri/sport\",\"stiri/sci-tech\"],\"xaxis\":\"x\",\"y\":[25661,6839,4407,20607,27574,20383,180814,224751,376601,311158,30272,22796],\"yaxis\":\"y\",\"type\":\"histogram\"},{\"alignmentgroup\":\"True\",\"bingroup\":\"x\",\"histfunc\":\"sum\",\"hovertemplate\":\"word=\\u00een<br>domain=%{x}<br>sum of word_freq=%{y}<extra></extra>\",\"legendgroup\":\"\\u00een\",\"marker\":{\"color\":\"#FF6692\",\"pattern\":{\"shape\":\"\"}},\"name\":\"\\u00een\",\"offsetgroup\":\"\\u00een\",\"orientation\":\"v\",\"showlegend\":true,\"texttemplate\":\"%{value:.2s}\",\"x\":[\"monden/\",\"it-stiinta/\",\"sport/\",\"politic/\",\"life-death/\",\"\",\"stiri/economie\",\"stiri/externe\",\"stiri/actualitate\",\"stiri/actualitate/politica\",\"stiri/sport\",\"stiri/sci-tech\"],\"xaxis\":\"x\",\"y\":[23988,5767,4769,20651,26050,34125,219468,283829,438295,318292,37135,26352],\"yaxis\":\"y\",\"type\":\"histogram\"},{\"alignmentgroup\":\"True\",\"bingroup\":\"x\",\"histfunc\":\"sum\",\"hovertemplate\":\"word=la<br>domain=%{x}<br>sum of word_freq=%{y}<extra></extra>\",\"legendgroup\":\"la\",\"marker\":{\"color\":\"#B6E880\",\"pattern\":{\"shape\":\"\"}},\"name\":\"la\",\"offsetgroup\":\"la\",\"orientation\":\"v\",\"showlegend\":true,\"texttemplate\":\"%{value:.2s}\",\"x\":[\"monden/\",\"it-stiinta/\",\"sport/\",\"politic/\",\"life-death/\",\"\",\"stiri/economie\",\"stiri/externe\",\"stiri/actualitate\",\"stiri/actualitate/politica\",\"stiri/sport\",\"stiri/sci-tech\"],\"xaxis\":\"x\",\"y\":[21300,4961,4511,17381,22418,16416,145424,153596,288663,224982,31577,14583],\"yaxis\":\"y\",\"type\":\"histogram\"},{\"alignmentgroup\":\"True\",\"bingroup\":\"x\",\"histfunc\":\"sum\",\"hovertemplate\":\"word=c\\u0103<br>domain=%{x}<br>sum of word_freq=%{y}<extra></extra>\",\"legendgroup\":\"c\\u0103\",\"marker\":{\"color\":\"#FF97FF\",\"pattern\":{\"shape\":\"\"}},\"name\":\"c\\u0103\",\"offsetgroup\":\"c\\u0103\",\"orientation\":\"v\",\"showlegend\":true,\"texttemplate\":\"%{value:.2s}\",\"x\":[\"monden/\",\"it-stiinta/\",\"sport/\",\"politic/\",\"life-death/\",\"stiri/actualitate\",\"stiri/actualitate/politica\"],\"xaxis\":\"x\",\"y\":[20728,5097,4425,17983,21112,191331,200222],\"yaxis\":\"y\",\"type\":\"histogram\"},{\"alignmentgroup\":\"True\",\"bingroup\":\"x\",\"histfunc\":\"sum\",\"hovertemplate\":\"word=\\\"<br>domain=%{x}<br>sum of word_freq=%{y}<extra></extra>\",\"legendgroup\":\"\\\"\",\"marker\":{\"color\":\"#FECB52\",\"pattern\":{\"shape\":\"\"}},\"name\":\"\\\"\",\"offsetgroup\":\"\\\"\",\"orientation\":\"v\",\"showlegend\":true,\"texttemplate\":\"%{value:.2s}\",\"x\":[\"monden/\",\"it-stiinta/\",\"sport/\",\"politic/\",\"life-death/\",\"stiri/externe\",\"stiri/actualitate/politica\"],\"xaxis\":\"x\",\"y\":[19364,4042,3561,14973,16814,136092,178963],\"yaxis\":\"y\",\"type\":\"histogram\"},{\"alignmentgroup\":\"True\",\"bingroup\":\"x\",\"histfunc\":\"sum\",\"hovertemplate\":\"word=au<br>domain=%{x}<br>sum of word_freq=%{y}<extra></extra>\",\"legendgroup\":\"au\",\"marker\":{\"color\":\"#636efa\",\"pattern\":{\"shape\":\"\"}},\"name\":\"au\",\"offsetgroup\":\"au\",\"orientation\":\"v\",\"showlegend\":true,\"texttemplate\":\"%{value:.2s}\",\"x\":[\"\"],\"xaxis\":\"x\",\"y\":[11682],\"yaxis\":\"y\",\"type\":\"histogram\"},{\"alignmentgroup\":\"True\",\"bingroup\":\"x\",\"histfunc\":\"sum\",\"hovertemplate\":\"word=cu<br>domain=%{x}<br>sum of word_freq=%{y}<extra></extra>\",\"legendgroup\":\"cu\",\"marker\":{\"color\":\"#EF553B\",\"pattern\":{\"shape\":\"\"}},\"name\":\"cu\",\"offsetgroup\":\"cu\",\"orientation\":\"v\",\"showlegend\":true,\"texttemplate\":\"%{value:.2s}\",\"x\":[\"\",\"stiri/sport\"],\"xaxis\":\"x\",\"y\":[11036,17175],\"yaxis\":\"y\",\"type\":\"histogram\"},{\"alignmentgroup\":\"True\",\"bingroup\":\"x\",\"histfunc\":\"sum\",\"hovertemplate\":\"word=care<br>domain=%{x}<br>sum of word_freq=%{y}<extra></extra>\",\"legendgroup\":\"care\",\"marker\":{\"color\":\"#00cc96\",\"pattern\":{\"shape\":\"\"}},\"name\":\"care\",\"offsetgroup\":\"care\",\"orientation\":\"v\",\"showlegend\":true,\"texttemplate\":\"%{value:.2s}\",\"x\":[\"\",\"stiri/economie\",\"stiri/actualitate\",\"stiri/sci-tech\"],\"xaxis\":\"x\",\"y\":[8999,90292,198757,13262],\"yaxis\":\"y\",\"type\":\"histogram\"},{\"alignmentgroup\":\"True\",\"bingroup\":\"x\",\"histfunc\":\"sum\",\"hovertemplate\":\"word=din<br>domain=%{x}<br>sum of word_freq=%{y}<extra></extra>\",\"legendgroup\":\"din\",\"marker\":{\"color\":\"#ab63fa\",\"pattern\":{\"shape\":\"\"}},\"name\":\"din\",\"offsetgroup\":\"din\",\"orientation\":\"v\",\"showlegend\":true,\"texttemplate\":\"%{value:.2s}\",\"x\":[\"stiri/economie\",\"stiri/externe\",\"stiri/sci-tech\"],\"xaxis\":\"x\",\"y\":[97445,132725,12619],\"yaxis\":\"y\",\"type\":\"histogram\"},{\"alignmentgroup\":\"True\",\"bingroup\":\"x\",\"histfunc\":\"sum\",\"hovertemplate\":\"word=pe<br>domain=%{x}<br>sum of word_freq=%{y}<extra></extra>\",\"legendgroup\":\"pe\",\"marker\":{\"color\":\"#FFA15A\",\"pattern\":{\"shape\":\"\"}},\"name\":\"pe\",\"offsetgroup\":\"pe\",\"orientation\":\"v\",\"showlegend\":true,\"texttemplate\":\"%{value:.2s}\",\"x\":[\"stiri/sport\"],\"xaxis\":\"x\",\"y\":[16110],\"yaxis\":\"y\",\"type\":\"histogram\"}],                        {\"template\":{\"data\":{\"bar\":[{\"error_x\":{\"color\":\"#2a3f5f\"},\"error_y\":{\"color\":\"#2a3f5f\"},\"marker\":{\"line\":{\"color\":\"#E5ECF6\",\"width\":0.5},\"pattern\":{\"fillmode\":\"overlay\",\"size\":10,\"solidity\":0.2}},\"type\":\"bar\"}],\"barpolar\":[{\"marker\":{\"line\":{\"color\":\"#E5ECF6\",\"width\":0.5},\"pattern\":{\"fillmode\":\"overlay\",\"size\":10,\"solidity\":0.2}},\"type\":\"barpolar\"}],\"carpet\":[{\"aaxis\":{\"endlinecolor\":\"#2a3f5f\",\"gridcolor\":\"white\",\"linecolor\":\"white\",\"minorgridcolor\":\"white\",\"startlinecolor\":\"#2a3f5f\"},\"baxis\":{\"endlinecolor\":\"#2a3f5f\",\"gridcolor\":\"white\",\"linecolor\":\"white\",\"minorgridcolor\":\"white\",\"startlinecolor\":\"#2a3f5f\"},\"type\":\"carpet\"}],\"choropleth\":[{\"colorbar\":{\"outlinewidth\":0,\"ticks\":\"\"},\"type\":\"choropleth\"}],\"contour\":[{\"colorbar\":{\"outlinewidth\":0,\"ticks\":\"\"},\"colorscale\":[[0.0,\"#0d0887\"],[0.1111111111111111,\"#46039f\"],[0.2222222222222222,\"#7201a8\"],[0.3333333333333333,\"#9c179e\"],[0.4444444444444444,\"#bd3786\"],[0.5555555555555556,\"#d8576b\"],[0.6666666666666666,\"#ed7953\"],[0.7777777777777778,\"#fb9f3a\"],[0.8888888888888888,\"#fdca26\"],[1.0,\"#f0f921\"]],\"type\":\"contour\"}],\"contourcarpet\":[{\"colorbar\":{\"outlinewidth\":0,\"ticks\":\"\"},\"type\":\"contourcarpet\"}],\"heatmap\":[{\"colorbar\":{\"outlinewidth\":0,\"ticks\":\"\"},\"colorscale\":[[0.0,\"#0d0887\"],[0.1111111111111111,\"#46039f\"],[0.2222222222222222,\"#7201a8\"],[0.3333333333333333,\"#9c179e\"],[0.4444444444444444,\"#bd3786\"],[0.5555555555555556,\"#d8576b\"],[0.6666666666666666,\"#ed7953\"],[0.7777777777777778,\"#fb9f3a\"],[0.8888888888888888,\"#fdca26\"],[1.0,\"#f0f921\"]],\"type\":\"heatmap\"}],\"heatmapgl\":[{\"colorbar\":{\"outlinewidth\":0,\"ticks\":\"\"},\"colorscale\":[[0.0,\"#0d0887\"],[0.1111111111111111,\"#46039f\"],[0.2222222222222222,\"#7201a8\"],[0.3333333333333333,\"#9c179e\"],[0.4444444444444444,\"#bd3786\"],[0.5555555555555556,\"#d8576b\"],[0.6666666666666666,\"#ed7953\"],[0.7777777777777778,\"#fb9f3a\"],[0.8888888888888888,\"#fdca26\"],[1.0,\"#f0f921\"]],\"type\":\"heatmapgl\"}],\"histogram\":[{\"marker\":{\"pattern\":{\"fillmode\":\"overlay\",\"size\":10,\"solidity\":0.2}},\"type\":\"histogram\"}],\"histogram2d\":[{\"colorbar\":{\"outlinewidth\":0,\"ticks\":\"\"},\"colorscale\":[[0.0,\"#0d0887\"],[0.1111111111111111,\"#46039f\"],[0.2222222222222222,\"#7201a8\"],[0.3333333333333333,\"#9c179e\"],[0.4444444444444444,\"#bd3786\"],[0.5555555555555556,\"#d8576b\"],[0.6666666666666666,\"#ed7953\"],[0.7777777777777778,\"#fb9f3a\"],[0.8888888888888888,\"#fdca26\"],[1.0,\"#f0f921\"]],\"type\":\"histogram2d\"}],\"histogram2dcontour\":[{\"colorbar\":{\"outlinewidth\":0,\"ticks\":\"\"},\"colorscale\":[[0.0,\"#0d0887\"],[0.1111111111111111,\"#46039f\"],[0.2222222222222222,\"#7201a8\"],[0.3333333333333333,\"#9c179e\"],[0.4444444444444444,\"#bd3786\"],[0.5555555555555556,\"#d8576b\"],[0.6666666666666666,\"#ed7953\"],[0.7777777777777778,\"#fb9f3a\"],[0.8888888888888888,\"#fdca26\"],[1.0,\"#f0f921\"]],\"type\":\"histogram2dcontour\"}],\"mesh3d\":[{\"colorbar\":{\"outlinewidth\":0,\"ticks\":\"\"},\"type\":\"mesh3d\"}],\"parcoords\":[{\"line\":{\"colorbar\":{\"outlinewidth\":0,\"ticks\":\"\"}},\"type\":\"parcoords\"}],\"pie\":[{\"automargin\":true,\"type\":\"pie\"}],\"scatter\":[{\"marker\":{\"colorbar\":{\"outlinewidth\":0,\"ticks\":\"\"}},\"type\":\"scatter\"}],\"scatter3d\":[{\"line\":{\"colorbar\":{\"outlinewidth\":0,\"ticks\":\"\"}},\"marker\":{\"colorbar\":{\"outlinewidth\":0,\"ticks\":\"\"}},\"type\":\"scatter3d\"}],\"scattercarpet\":[{\"marker\":{\"colorbar\":{\"outlinewidth\":0,\"ticks\":\"\"}},\"type\":\"scattercarpet\"}],\"scattergeo\":[{\"marker\":{\"colorbar\":{\"outlinewidth\":0,\"ticks\":\"\"}},\"type\":\"scattergeo\"}],\"scattergl\":[{\"marker\":{\"colorbar\":{\"outlinewidth\":0,\"ticks\":\"\"}},\"type\":\"scattergl\"}],\"scattermapbox\":[{\"marker\":{\"colorbar\":{\"outlinewidth\":0,\"ticks\":\"\"}},\"type\":\"scattermapbox\"}],\"scatterpolar\":[{\"marker\":{\"colorbar\":{\"outlinewidth\":0,\"ticks\":\"\"}},\"type\":\"scatterpolar\"}],\"scatterpolargl\":[{\"marker\":{\"colorbar\":{\"outlinewidth\":0,\"ticks\":\"\"}},\"type\":\"scatterpolargl\"}],\"scatterternary\":[{\"marker\":{\"colorbar\":{\"outlinewidth\":0,\"ticks\":\"\"}},\"type\":\"scatterternary\"}],\"surface\":[{\"colorbar\":{\"outlinewidth\":0,\"ticks\":\"\"},\"colorscale\":[[0.0,\"#0d0887\"],[0.1111111111111111,\"#46039f\"],[0.2222222222222222,\"#7201a8\"],[0.3333333333333333,\"#9c179e\"],[0.4444444444444444,\"#bd3786\"],[0.5555555555555556,\"#d8576b\"],[0.6666666666666666,\"#ed7953\"],[0.7777777777777778,\"#fb9f3a\"],[0.8888888888888888,\"#fdca26\"],[1.0,\"#f0f921\"]],\"type\":\"surface\"}],\"table\":[{\"cells\":{\"fill\":{\"color\":\"#EBF0F8\"},\"line\":{\"color\":\"white\"}},\"header\":{\"fill\":{\"color\":\"#C8D4E3\"},\"line\":{\"color\":\"white\"}},\"type\":\"table\"}]},\"layout\":{\"annotationdefaults\":{\"arrowcolor\":\"#2a3f5f\",\"arrowhead\":0,\"arrowwidth\":1},\"autotypenumbers\":\"strict\",\"coloraxis\":{\"colorbar\":{\"outlinewidth\":0,\"ticks\":\"\"}},\"colorscale\":{\"diverging\":[[0,\"#8e0152\"],[0.1,\"#c51b7d\"],[0.2,\"#de77ae\"],[0.3,\"#f1b6da\"],[0.4,\"#fde0ef\"],[0.5,\"#f7f7f7\"],[0.6,\"#e6f5d0\"],[0.7,\"#b8e186\"],[0.8,\"#7fbc41\"],[0.9,\"#4d9221\"],[1,\"#276419\"]],\"sequential\":[[0.0,\"#0d0887\"],[0.1111111111111111,\"#46039f\"],[0.2222222222222222,\"#7201a8\"],[0.3333333333333333,\"#9c179e\"],[0.4444444444444444,\"#bd3786\"],[0.5555555555555556,\"#d8576b\"],[0.6666666666666666,\"#ed7953\"],[0.7777777777777778,\"#fb9f3a\"],[0.8888888888888888,\"#fdca26\"],[1.0,\"#f0f921\"]],\"sequentialminus\":[[0.0,\"#0d0887\"],[0.1111111111111111,\"#46039f\"],[0.2222222222222222,\"#7201a8\"],[0.3333333333333333,\"#9c179e\"],[0.4444444444444444,\"#bd3786\"],[0.5555555555555556,\"#d8576b\"],[0.6666666666666666,\"#ed7953\"],[0.7777777777777778,\"#fb9f3a\"],[0.8888888888888888,\"#fdca26\"],[1.0,\"#f0f921\"]]},\"colorway\":[\"#636efa\",\"#EF553B\",\"#00cc96\",\"#ab63fa\",\"#FFA15A\",\"#19d3f3\",\"#FF6692\",\"#B6E880\",\"#FF97FF\",\"#FECB52\"],\"font\":{\"color\":\"#2a3f5f\"},\"geo\":{\"bgcolor\":\"white\",\"lakecolor\":\"white\",\"landcolor\":\"#E5ECF6\",\"showlakes\":true,\"showland\":true,\"subunitcolor\":\"white\"},\"hoverlabel\":{\"align\":\"left\"},\"hovermode\":\"closest\",\"mapbox\":{\"style\":\"light\"},\"paper_bgcolor\":\"white\",\"plot_bgcolor\":\"#E5ECF6\",\"polar\":{\"angularaxis\":{\"gridcolor\":\"white\",\"linecolor\":\"white\",\"ticks\":\"\"},\"bgcolor\":\"#E5ECF6\",\"radialaxis\":{\"gridcolor\":\"white\",\"linecolor\":\"white\",\"ticks\":\"\"}},\"scene\":{\"xaxis\":{\"backgroundcolor\":\"#E5ECF6\",\"gridcolor\":\"white\",\"gridwidth\":2,\"linecolor\":\"white\",\"showbackground\":true,\"ticks\":\"\",\"zerolinecolor\":\"white\"},\"yaxis\":{\"backgroundcolor\":\"#E5ECF6\",\"gridcolor\":\"white\",\"gridwidth\":2,\"linecolor\":\"white\",\"showbackground\":true,\"ticks\":\"\",\"zerolinecolor\":\"white\"},\"zaxis\":{\"backgroundcolor\":\"#E5ECF6\",\"gridcolor\":\"white\",\"gridwidth\":2,\"linecolor\":\"white\",\"showbackground\":true,\"ticks\":\"\",\"zerolinecolor\":\"white\"}},\"shapedefaults\":{\"line\":{\"color\":\"#2a3f5f\"}},\"ternary\":{\"aaxis\":{\"gridcolor\":\"white\",\"linecolor\":\"white\",\"ticks\":\"\"},\"baxis\":{\"gridcolor\":\"white\",\"linecolor\":\"white\",\"ticks\":\"\"},\"bgcolor\":\"#E5ECF6\",\"caxis\":{\"gridcolor\":\"white\",\"linecolor\":\"white\",\"ticks\":\"\"}},\"title\":{\"x\":0.05},\"xaxis\":{\"automargin\":true,\"gridcolor\":\"white\",\"linecolor\":\"white\",\"ticks\":\"\",\"title\":{\"standoff\":15},\"zerolinecolor\":\"white\",\"zerolinewidth\":2},\"yaxis\":{\"automargin\":true,\"gridcolor\":\"white\",\"linecolor\":\"white\",\"ticks\":\"\",\"title\":{\"standoff\":15},\"zerolinecolor\":\"white\",\"zerolinewidth\":2}}},\"xaxis\":{\"anchor\":\"y\",\"domain\":[0.0,1.0],\"title\":{\"text\":\"domain\"}},\"yaxis\":{\"anchor\":\"x\",\"domain\":[0.0,1.0],\"title\":{\"text\":\"sum of word_freq\"}},\"legend\":{\"title\":{\"text\":\"word\"},\"tracegroupgap\":0},\"margin\":{\"t\":60},\"barmode\":\"group\"},                        {\"responsive\": true}                    ).then(function(){\n",
       "                            \n",
       "var gd = document.getElementById('dac62dd5-1c2e-47c1-95da-985d733141e9');\n",
       "var x = new MutationObserver(function (mutations, observer) {{\n",
       "        var display = window.getComputedStyle(gd).display;\n",
       "        if (!display || display === 'none') {{\n",
       "            console.log([gd, 'removed!']);\n",
       "            Plotly.purge(gd);\n",
       "            observer.disconnect();\n",
       "        }}\n",
       "}});\n",
       "\n",
       "// Listen for the removal of the full notebook cells\n",
       "var notebookContainer = gd.closest('#notebook-container');\n",
       "if (notebookContainer) {{\n",
       "    x.observe(notebookContainer, {childList: true});\n",
       "}}\n",
       "\n",
       "// Listen for the clearing of the current output cell\n",
       "var outputEl = gd.closest('.output');\n",
       "if (outputEl) {{\n",
       "    x.observe(outputEl, {childList: true});\n",
       "}}\n",
       "\n",
       "                        })                };                });            </script>        </div>"
      ]
     },
     "metadata": {},
     "output_type": "display_data"
    }
   ],
   "source": [
    "domains = []\n",
    "for domain in domain_word_count:\n",
    "    sorted_tags = dict(\n",
    "        sorted(domain[\"pos_object_frequecy\"].items(), key=lambda item: item[1], reverse=True)\n",
    "    )\n",
    "    index: int = 10\n",
    "\n",
    "    for word in sorted_tags:\n",
    "        tag_: str = \"\"\n",
    "        for tag in domain[\"pos_tag_object\"]:\n",
    "            if word in domain[\"pos_tag_object\"][tag]:\n",
    "                tag_ = tag\n",
    "                break\n",
    "\n",
    "        domains.append(\n",
    "            {\n",
    "                \"domain\": domain[\"domain\"],\n",
    "                \"type\": domain[\"type\"],\n",
    "                \"word\": word,\n",
    "                \"word_freq\": domain[\"pos_object_frequecy\"][word],\n",
    "                \"tag\": tag_,\n",
    "            }\n",
    "        )\n",
    "        index -= 1\n",
    "        if index == 0:\n",
    "            break\n",
    "\n",
    "\n",
    "fig = px.histogram(\n",
    "    domains, x=\"domain\", y=\"word_freq\", color=\"word\", text_auto=\".2s\", barmode='group'\n",
    ")\n",
    "fig.show()"
   ]
  },
  {
   "cell_type": "code",
   "execution_count": 87,
   "metadata": {},
   "outputs": [
    {
     "data": {
      "text/html": [
       "<div>                            <div id=\"a86ae9f5-2c7d-438d-915d-c853a8672203\" class=\"plotly-graph-div\" style=\"height:525px; width:100%;\"></div>            <script type=\"text/javascript\">                require([\"plotly\"], function(Plotly) {                    window.PLOTLYENV=window.PLOTLYENV || {};                                    if (document.getElementById(\"a86ae9f5-2c7d-438d-915d-c853a8672203\")) {                    Plotly.newPlot(                        \"a86ae9f5-2c7d-438d-915d-c853a8672203\",                        [{\"alignmentgroup\":\"True\",\"bingroup\":\"x\",\"histfunc\":\"sum\",\"hovertemplate\":\"tag=PUNCT<br>domain=%{x}<br>sum of word_freq=%{y}<extra></extra>\",\"legendgroup\":\"PUNCT\",\"marker\":{\"color\":\"#636efa\",\"pattern\":{\"shape\":\"\"}},\"name\":\"PUNCT\",\"offsetgroup\":\"PUNCT\",\"orientation\":\"v\",\"showlegend\":true,\"texttemplate\":\"%{value:.2s}\",\"x\":[\"monden/\",\"monden/\",\"monden/\",\"it-stiinta/\",\"it-stiinta/\",\"sport/\",\"sport/\",\"politic/\",\"life-death/\",\"\",\"\",\"stiri/externe\",\"stiri/actualitate/politica\",\"stiri/actualitate/politica\",\"stiri/actualitate/politica\"],\"xaxis\":\"x\",\"y\":[86971,46692,19364,20720,4042,16417,3561,14973,16814,75348,32368,136092,926071,487834,178963],\"yaxis\":\"y\",\"type\":\"histogram\"},{\"alignmentgroup\":\"True\",\"bingroup\":\"x\",\"histfunc\":\"sum\",\"hovertemplate\":\"tag=ADP<br>domain=%{x}<br>sum of word_freq=%{y}<extra></extra>\",\"legendgroup\":\"ADP\",\"marker\":{\"color\":\"#EF553B\",\"pattern\":{\"shape\":\"\"}},\"name\":\"ADP\",\"offsetgroup\":\"ADP\",\"orientation\":\"v\",\"showlegend\":true,\"texttemplate\":\"%{value:.2s}\",\"x\":[\"monden/\",\"monden/\",\"monden/\",\"it-stiinta/\",\"it-stiinta/\",\"it-stiinta/\",\"it-stiinta/\",\"sport/\",\"sport/\",\"sport/\",\"sport/\",\"politic/\",\"politic/\",\"politic/\",\"life-death/\",\"life-death/\",\"life-death/\",\"\",\"\",\"\",\"\",\"stiri/economie\",\"stiri/economie\",\"stiri/economie\",\"stiri/economie\",\"stiri/externe\",\"stiri/externe\",\"stiri/externe\",\"stiri/externe\",\"stiri/actualitate\",\"stiri/actualitate\",\"stiri/actualitate\",\"stiri/actualitate/politica\",\"stiri/actualitate/politica\",\"stiri/actualitate/politica\",\"stiri/actualitate/politica\",\"stiri/sport\",\"stiri/sport\",\"stiri/sport\",\"stiri/sport\",\"stiri/sport\",\"stiri/sci-tech\",\"stiri/sci-tech\",\"stiri/sci-tech\",\"stiri/sci-tech\"],\"xaxis\":\"x\",\"y\":[51448,23988,21300,13106,6136,5767,4961,9619,6810,4769,4511,41499,20651,17381,55902,26050,22418,52433,34125,16416,11036,481773,219468,145424,97445,518556,283829,153596,132725,800179,438295,288663,566457,410804,318292,224982,59805,37135,31577,17175,16110,55568,26352,14583,12619],\"yaxis\":\"y\",\"type\":\"histogram\"},{\"alignmentgroup\":\"True\",\"bingroup\":\"x\",\"histfunc\":\"sum\",\"hovertemplate\":\"tag=PART<br>domain=%{x}<br>sum of word_freq=%{y}<extra></extra>\",\"legendgroup\":\"PART\",\"marker\":{\"color\":\"#00cc96\",\"pattern\":{\"shape\":\"\"}},\"name\":\"PART\",\"offsetgroup\":\"PART\",\"orientation\":\"v\",\"showlegend\":true,\"texttemplate\":\"%{value:.2s}\",\"x\":[\"monden/\",\"monden/\",\"it-stiinta/\",\"sport/\",\"politic/\",\"life-death/\",\"stiri/economie\",\"stiri/externe\",\"stiri/actualitate\",\"stiri/actualitate/politica\",\"stiri/sport\",\"stiri/sci-tech\"],\"xaxis\":\"x\",\"y\":[31381,26496,6293,5176,22732,27890,98651,123380,219218,215210,15661,12114],\"yaxis\":\"y\",\"type\":\"histogram\"},{\"alignmentgroup\":\"True\",\"bingroup\":\"x\",\"histfunc\":\"sum\",\"hovertemplate\":\"tag=PRON<br>domain=%{x}<br>sum of word_freq=%{y}<extra></extra>\",\"legendgroup\":\"PRON\",\"marker\":{\"color\":\"#ab63fa\",\"pattern\":{\"shape\":\"\"}},\"name\":\"PRON\",\"offsetgroup\":\"PRON\",\"orientation\":\"v\",\"showlegend\":true,\"texttemplate\":\"%{value:.2s}\",\"x\":[\"monden/\",\"it-stiinta/\",\"sport/\",\"politic/\",\"life-death/\",\"\",\"\",\"stiri/economie\",\"stiri/economie\",\"stiri/externe\",\"stiri/actualitate\",\"stiri/actualitate/politica\",\"stiri/sport\",\"stiri/sci-tech\",\"stiri/sci-tech\"],\"xaxis\":\"x\",\"y\":[25661,6839,4407,20607,27574,20383,8999,180814,90292,224751,376601,311158,30272,22796,13262],\"yaxis\":\"y\",\"type\":\"histogram\"},{\"alignmentgroup\":\"True\",\"bingroup\":\"x\",\"histfunc\":\"sum\",\"hovertemplate\":\"tag=SCONJ<br>domain=%{x}<br>sum of word_freq=%{y}<extra></extra>\",\"legendgroup\":\"SCONJ\",\"marker\":{\"color\":\"#FFA15A\",\"pattern\":{\"shape\":\"\"}},\"name\":\"SCONJ\",\"offsetgroup\":\"SCONJ\",\"orientation\":\"v\",\"showlegend\":true,\"texttemplate\":\"%{value:.2s}\",\"x\":[\"monden/\",\"it-stiinta/\",\"sport/\",\"politic/\",\"life-death/\",\"stiri/actualitate\",\"stiri/actualitate/politica\"],\"xaxis\":\"x\",\"y\":[20728,5097,4425,17983,21112,191331,200222],\"yaxis\":\"y\",\"type\":\"histogram\"},{\"alignmentgroup\":\"True\",\"bingroup\":\"x\",\"histfunc\":\"sum\",\"hovertemplate\":\"tag=NOUN<br>domain=%{x}<br>sum of word_freq=%{y}<extra></extra>\",\"legendgroup\":\"NOUN\",\"marker\":{\"color\":\"#19d3f3\",\"pattern\":{\"shape\":\"\"}},\"name\":\"NOUN\",\"offsetgroup\":\"NOUN\",\"orientation\":\"v\",\"showlegend\":true,\"texttemplate\":\"%{value:.2s}\",\"x\":[\"it-stiinta/\",\"sport/\",\"politic/\",\"politic/\",\"politic/\",\"life-death/\",\"life-death/\",\"life-death/\",\"stiri/economie\",\"stiri/economie\",\"stiri/economie\",\"stiri/externe\",\"stiri/externe\",\"stiri/externe\",\"stiri/actualitate\",\"stiri/actualitate\",\"stiri/sport\",\"stiri/sport\",\"stiri/sci-tech\",\"stiri/sci-tech\"],\"xaxis\":\"x\",\"y\":[11243,9176,69441,36727,27960,85956,48363,28046,548798,301795,207866,678789,370234,368012,1173048,602421,117904,55082,66084,37112],\"yaxis\":\"y\",\"type\":\"histogram\"},{\"alignmentgroup\":\"True\",\"bingroup\":\"x\",\"histfunc\":\"sum\",\"hovertemplate\":\"tag=AUX<br>domain=%{x}<br>sum of word_freq=%{y}<extra></extra>\",\"legendgroup\":\"AUX\",\"marker\":{\"color\":\"#FF6692\",\"pattern\":{\"shape\":\"\"}},\"name\":\"AUX\",\"offsetgroup\":\"AUX\",\"orientation\":\"v\",\"showlegend\":true,\"texttemplate\":\"%{value:.2s}\",\"x\":[\"\",\"\",\"stiri/sport\",\"stiri/sci-tech\"],\"xaxis\":\"x\",\"y\":[22559,11682,54483,27904],\"yaxis\":\"y\",\"type\":\"histogram\"},{\"alignmentgroup\":\"True\",\"bingroup\":\"x\",\"histfunc\":\"sum\",\"hovertemplate\":\"tag=DET<br>domain=%{x}<br>sum of word_freq=%{y}<extra></extra>\",\"legendgroup\":\"DET\",\"marker\":{\"color\":\"#B6E880\",\"pattern\":{\"shape\":\"\"}},\"name\":\"DET\",\"offsetgroup\":\"DET\",\"orientation\":\"v\",\"showlegend\":true,\"texttemplate\":\"%{value:.2s}\",\"x\":[\"stiri/actualitate\",\"stiri/actualitate\"],\"xaxis\":\"x\",\"y\":[464402,198757],\"yaxis\":\"y\",\"type\":\"histogram\"}],                        {\"template\":{\"data\":{\"bar\":[{\"error_x\":{\"color\":\"#2a3f5f\"},\"error_y\":{\"color\":\"#2a3f5f\"},\"marker\":{\"line\":{\"color\":\"#E5ECF6\",\"width\":0.5},\"pattern\":{\"fillmode\":\"overlay\",\"size\":10,\"solidity\":0.2}},\"type\":\"bar\"}],\"barpolar\":[{\"marker\":{\"line\":{\"color\":\"#E5ECF6\",\"width\":0.5},\"pattern\":{\"fillmode\":\"overlay\",\"size\":10,\"solidity\":0.2}},\"type\":\"barpolar\"}],\"carpet\":[{\"aaxis\":{\"endlinecolor\":\"#2a3f5f\",\"gridcolor\":\"white\",\"linecolor\":\"white\",\"minorgridcolor\":\"white\",\"startlinecolor\":\"#2a3f5f\"},\"baxis\":{\"endlinecolor\":\"#2a3f5f\",\"gridcolor\":\"white\",\"linecolor\":\"white\",\"minorgridcolor\":\"white\",\"startlinecolor\":\"#2a3f5f\"},\"type\":\"carpet\"}],\"choropleth\":[{\"colorbar\":{\"outlinewidth\":0,\"ticks\":\"\"},\"type\":\"choropleth\"}],\"contour\":[{\"colorbar\":{\"outlinewidth\":0,\"ticks\":\"\"},\"colorscale\":[[0.0,\"#0d0887\"],[0.1111111111111111,\"#46039f\"],[0.2222222222222222,\"#7201a8\"],[0.3333333333333333,\"#9c179e\"],[0.4444444444444444,\"#bd3786\"],[0.5555555555555556,\"#d8576b\"],[0.6666666666666666,\"#ed7953\"],[0.7777777777777778,\"#fb9f3a\"],[0.8888888888888888,\"#fdca26\"],[1.0,\"#f0f921\"]],\"type\":\"contour\"}],\"contourcarpet\":[{\"colorbar\":{\"outlinewidth\":0,\"ticks\":\"\"},\"type\":\"contourcarpet\"}],\"heatmap\":[{\"colorbar\":{\"outlinewidth\":0,\"ticks\":\"\"},\"colorscale\":[[0.0,\"#0d0887\"],[0.1111111111111111,\"#46039f\"],[0.2222222222222222,\"#7201a8\"],[0.3333333333333333,\"#9c179e\"],[0.4444444444444444,\"#bd3786\"],[0.5555555555555556,\"#d8576b\"],[0.6666666666666666,\"#ed7953\"],[0.7777777777777778,\"#fb9f3a\"],[0.8888888888888888,\"#fdca26\"],[1.0,\"#f0f921\"]],\"type\":\"heatmap\"}],\"heatmapgl\":[{\"colorbar\":{\"outlinewidth\":0,\"ticks\":\"\"},\"colorscale\":[[0.0,\"#0d0887\"],[0.1111111111111111,\"#46039f\"],[0.2222222222222222,\"#7201a8\"],[0.3333333333333333,\"#9c179e\"],[0.4444444444444444,\"#bd3786\"],[0.5555555555555556,\"#d8576b\"],[0.6666666666666666,\"#ed7953\"],[0.7777777777777778,\"#fb9f3a\"],[0.8888888888888888,\"#fdca26\"],[1.0,\"#f0f921\"]],\"type\":\"heatmapgl\"}],\"histogram\":[{\"marker\":{\"pattern\":{\"fillmode\":\"overlay\",\"size\":10,\"solidity\":0.2}},\"type\":\"histogram\"}],\"histogram2d\":[{\"colorbar\":{\"outlinewidth\":0,\"ticks\":\"\"},\"colorscale\":[[0.0,\"#0d0887\"],[0.1111111111111111,\"#46039f\"],[0.2222222222222222,\"#7201a8\"],[0.3333333333333333,\"#9c179e\"],[0.4444444444444444,\"#bd3786\"],[0.5555555555555556,\"#d8576b\"],[0.6666666666666666,\"#ed7953\"],[0.7777777777777778,\"#fb9f3a\"],[0.8888888888888888,\"#fdca26\"],[1.0,\"#f0f921\"]],\"type\":\"histogram2d\"}],\"histogram2dcontour\":[{\"colorbar\":{\"outlinewidth\":0,\"ticks\":\"\"},\"colorscale\":[[0.0,\"#0d0887\"],[0.1111111111111111,\"#46039f\"],[0.2222222222222222,\"#7201a8\"],[0.3333333333333333,\"#9c179e\"],[0.4444444444444444,\"#bd3786\"],[0.5555555555555556,\"#d8576b\"],[0.6666666666666666,\"#ed7953\"],[0.7777777777777778,\"#fb9f3a\"],[0.8888888888888888,\"#fdca26\"],[1.0,\"#f0f921\"]],\"type\":\"histogram2dcontour\"}],\"mesh3d\":[{\"colorbar\":{\"outlinewidth\":0,\"ticks\":\"\"},\"type\":\"mesh3d\"}],\"parcoords\":[{\"line\":{\"colorbar\":{\"outlinewidth\":0,\"ticks\":\"\"}},\"type\":\"parcoords\"}],\"pie\":[{\"automargin\":true,\"type\":\"pie\"}],\"scatter\":[{\"marker\":{\"colorbar\":{\"outlinewidth\":0,\"ticks\":\"\"}},\"type\":\"scatter\"}],\"scatter3d\":[{\"line\":{\"colorbar\":{\"outlinewidth\":0,\"ticks\":\"\"}},\"marker\":{\"colorbar\":{\"outlinewidth\":0,\"ticks\":\"\"}},\"type\":\"scatter3d\"}],\"scattercarpet\":[{\"marker\":{\"colorbar\":{\"outlinewidth\":0,\"ticks\":\"\"}},\"type\":\"scattercarpet\"}],\"scattergeo\":[{\"marker\":{\"colorbar\":{\"outlinewidth\":0,\"ticks\":\"\"}},\"type\":\"scattergeo\"}],\"scattergl\":[{\"marker\":{\"colorbar\":{\"outlinewidth\":0,\"ticks\":\"\"}},\"type\":\"scattergl\"}],\"scattermapbox\":[{\"marker\":{\"colorbar\":{\"outlinewidth\":0,\"ticks\":\"\"}},\"type\":\"scattermapbox\"}],\"scatterpolar\":[{\"marker\":{\"colorbar\":{\"outlinewidth\":0,\"ticks\":\"\"}},\"type\":\"scatterpolar\"}],\"scatterpolargl\":[{\"marker\":{\"colorbar\":{\"outlinewidth\":0,\"ticks\":\"\"}},\"type\":\"scatterpolargl\"}],\"scatterternary\":[{\"marker\":{\"colorbar\":{\"outlinewidth\":0,\"ticks\":\"\"}},\"type\":\"scatterternary\"}],\"surface\":[{\"colorbar\":{\"outlinewidth\":0,\"ticks\":\"\"},\"colorscale\":[[0.0,\"#0d0887\"],[0.1111111111111111,\"#46039f\"],[0.2222222222222222,\"#7201a8\"],[0.3333333333333333,\"#9c179e\"],[0.4444444444444444,\"#bd3786\"],[0.5555555555555556,\"#d8576b\"],[0.6666666666666666,\"#ed7953\"],[0.7777777777777778,\"#fb9f3a\"],[0.8888888888888888,\"#fdca26\"],[1.0,\"#f0f921\"]],\"type\":\"surface\"}],\"table\":[{\"cells\":{\"fill\":{\"color\":\"#EBF0F8\"},\"line\":{\"color\":\"white\"}},\"header\":{\"fill\":{\"color\":\"#C8D4E3\"},\"line\":{\"color\":\"white\"}},\"type\":\"table\"}]},\"layout\":{\"annotationdefaults\":{\"arrowcolor\":\"#2a3f5f\",\"arrowhead\":0,\"arrowwidth\":1},\"autotypenumbers\":\"strict\",\"coloraxis\":{\"colorbar\":{\"outlinewidth\":0,\"ticks\":\"\"}},\"colorscale\":{\"diverging\":[[0,\"#8e0152\"],[0.1,\"#c51b7d\"],[0.2,\"#de77ae\"],[0.3,\"#f1b6da\"],[0.4,\"#fde0ef\"],[0.5,\"#f7f7f7\"],[0.6,\"#e6f5d0\"],[0.7,\"#b8e186\"],[0.8,\"#7fbc41\"],[0.9,\"#4d9221\"],[1,\"#276419\"]],\"sequential\":[[0.0,\"#0d0887\"],[0.1111111111111111,\"#46039f\"],[0.2222222222222222,\"#7201a8\"],[0.3333333333333333,\"#9c179e\"],[0.4444444444444444,\"#bd3786\"],[0.5555555555555556,\"#d8576b\"],[0.6666666666666666,\"#ed7953\"],[0.7777777777777778,\"#fb9f3a\"],[0.8888888888888888,\"#fdca26\"],[1.0,\"#f0f921\"]],\"sequentialminus\":[[0.0,\"#0d0887\"],[0.1111111111111111,\"#46039f\"],[0.2222222222222222,\"#7201a8\"],[0.3333333333333333,\"#9c179e\"],[0.4444444444444444,\"#bd3786\"],[0.5555555555555556,\"#d8576b\"],[0.6666666666666666,\"#ed7953\"],[0.7777777777777778,\"#fb9f3a\"],[0.8888888888888888,\"#fdca26\"],[1.0,\"#f0f921\"]]},\"colorway\":[\"#636efa\",\"#EF553B\",\"#00cc96\",\"#ab63fa\",\"#FFA15A\",\"#19d3f3\",\"#FF6692\",\"#B6E880\",\"#FF97FF\",\"#FECB52\"],\"font\":{\"color\":\"#2a3f5f\"},\"geo\":{\"bgcolor\":\"white\",\"lakecolor\":\"white\",\"landcolor\":\"#E5ECF6\",\"showlakes\":true,\"showland\":true,\"subunitcolor\":\"white\"},\"hoverlabel\":{\"align\":\"left\"},\"hovermode\":\"closest\",\"mapbox\":{\"style\":\"light\"},\"paper_bgcolor\":\"white\",\"plot_bgcolor\":\"#E5ECF6\",\"polar\":{\"angularaxis\":{\"gridcolor\":\"white\",\"linecolor\":\"white\",\"ticks\":\"\"},\"bgcolor\":\"#E5ECF6\",\"radialaxis\":{\"gridcolor\":\"white\",\"linecolor\":\"white\",\"ticks\":\"\"}},\"scene\":{\"xaxis\":{\"backgroundcolor\":\"#E5ECF6\",\"gridcolor\":\"white\",\"gridwidth\":2,\"linecolor\":\"white\",\"showbackground\":true,\"ticks\":\"\",\"zerolinecolor\":\"white\"},\"yaxis\":{\"backgroundcolor\":\"#E5ECF6\",\"gridcolor\":\"white\",\"gridwidth\":2,\"linecolor\":\"white\",\"showbackground\":true,\"ticks\":\"\",\"zerolinecolor\":\"white\"},\"zaxis\":{\"backgroundcolor\":\"#E5ECF6\",\"gridcolor\":\"white\",\"gridwidth\":2,\"linecolor\":\"white\",\"showbackground\":true,\"ticks\":\"\",\"zerolinecolor\":\"white\"}},\"shapedefaults\":{\"line\":{\"color\":\"#2a3f5f\"}},\"ternary\":{\"aaxis\":{\"gridcolor\":\"white\",\"linecolor\":\"white\",\"ticks\":\"\"},\"baxis\":{\"gridcolor\":\"white\",\"linecolor\":\"white\",\"ticks\":\"\"},\"bgcolor\":\"#E5ECF6\",\"caxis\":{\"gridcolor\":\"white\",\"linecolor\":\"white\",\"ticks\":\"\"}},\"title\":{\"x\":0.05},\"xaxis\":{\"automargin\":true,\"gridcolor\":\"white\",\"linecolor\":\"white\",\"ticks\":\"\",\"title\":{\"standoff\":15},\"zerolinecolor\":\"white\",\"zerolinewidth\":2},\"yaxis\":{\"automargin\":true,\"gridcolor\":\"white\",\"linecolor\":\"white\",\"ticks\":\"\",\"title\":{\"standoff\":15},\"zerolinecolor\":\"white\",\"zerolinewidth\":2}}},\"xaxis\":{\"anchor\":\"y\",\"domain\":[0.0,1.0],\"title\":{\"text\":\"domain\"}},\"yaxis\":{\"anchor\":\"x\",\"domain\":[0.0,1.0],\"title\":{\"text\":\"sum of word_freq\"}},\"legend\":{\"title\":{\"text\":\"tag\"},\"tracegroupgap\":0},\"margin\":{\"t\":60},\"barmode\":\"group\"},                        {\"responsive\": true}                    ).then(function(){\n",
       "                            \n",
       "var gd = document.getElementById('a86ae9f5-2c7d-438d-915d-c853a8672203');\n",
       "var x = new MutationObserver(function (mutations, observer) {{\n",
       "        var display = window.getComputedStyle(gd).display;\n",
       "        if (!display || display === 'none') {{\n",
       "            console.log([gd, 'removed!']);\n",
       "            Plotly.purge(gd);\n",
       "            observer.disconnect();\n",
       "        }}\n",
       "}});\n",
       "\n",
       "// Listen for the removal of the full notebook cells\n",
       "var notebookContainer = gd.closest('#notebook-container');\n",
       "if (notebookContainer) {{\n",
       "    x.observe(notebookContainer, {childList: true});\n",
       "}}\n",
       "\n",
       "// Listen for the clearing of the current output cell\n",
       "var outputEl = gd.closest('.output');\n",
       "if (outputEl) {{\n",
       "    x.observe(outputEl, {childList: true});\n",
       "}}\n",
       "\n",
       "                        })                };                });            </script>        </div>"
      ]
     },
     "metadata": {},
     "output_type": "display_data"
    }
   ],
   "source": [
    "domains = []\n",
    "for domain in domain_word_count:\n",
    "    sorted_tags = dict(\n",
    "        sorted(domain[\"pos_object_frequecy\"].items(), key=lambda item: item[1], reverse=True)\n",
    "    )\n",
    "    index: int = 10\n",
    "\n",
    "    for word in sorted_tags:\n",
    "        tag_: str = \"\"\n",
    "        for tag in domain[\"pos_tag_object\"]:\n",
    "            if word in domain[\"pos_tag_object\"][tag]:\n",
    "                tag_ = tag\n",
    "                break\n",
    "\n",
    "        domains.append(\n",
    "            {\n",
    "                \"domain\": domain[\"domain\"],\n",
    "                \"type\": domain[\"type\"],\n",
    "                \"word\": word,\n",
    "                \"word_freq\": domain[\"pos_object_frequecy\"][word],\n",
    "                \"tag\": tag_,\n",
    "            }\n",
    "        )\n",
    "        index -= 1\n",
    "        if index == 0:\n",
    "            break\n",
    "\n",
    "fig = px.histogram(domains, x=\"domain\", y=\"word_freq\", color=\"tag\", text_auto=\".2s\", barmode='group')\n",
    "fig.show()"
   ]
  }
 ],
 "metadata": {
  "interpreter": {
   "hash": "ad6fb52b133632c022ef432d36f1fb015b2521118402e90bfda3af52f5ffd485"
  },
  "kernelspec": {
   "display_name": "Python 3.10.2 ('licenta-env': venv)",
   "language": "python",
   "name": "python3"
  },
  "language_info": {
   "codemirror_mode": {
    "name": "ipython",
    "version": 3
   },
   "file_extension": ".py",
   "mimetype": "text/x-python",
   "name": "python",
   "nbconvert_exporter": "python",
   "pygments_lexer": "ipython3",
   "version": "3.10.2"
  },
  "orig_nbformat": 4
 },
 "nbformat": 4,
 "nbformat_minor": 2
}
