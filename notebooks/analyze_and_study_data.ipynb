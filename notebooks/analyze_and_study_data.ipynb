{
 "cells": [
  {
   "cell_type": "code",
   "execution_count": 138,
   "metadata": {},
   "outputs": [],
   "source": [
    "import re\n",
    "import pickle\n",
    "import pandas as pd\n",
    "\n",
    "from src.cleaner.model import Cleaner\n"
   ]
  },
  {
   "cell_type": "code",
   "execution_count": 139,
   "metadata": {},
   "outputs": [],
   "source": [
    "df = pd.read_parquet(\"../data/processed/scrapped_cleaned.gzip\")"
   ]
  },
  {
   "cell_type": "code",
   "execution_count": 135,
   "metadata": {},
   "outputs": [
    {
     "data": {
      "text/plain": [
       "Index(['_id', 'site', 'domain', 'title', 'content', 'date', 'link',\n",
       "       'title_skipped_because_min_length', 'title_skipped_alpha_count',\n",
       "       'title_skipped_because_max_numeric',\n",
       "       'title_skipped_because_max_non_ascii',\n",
       "       'title_skipped_because_forbidden_chars',\n",
       "       'content_skipped_because_min_length', 'content_skipped_alpha_count',\n",
       "       'content_skipped_because_max_numeric',\n",
       "       'content_skipped_because_max_non_ascii',\n",
       "       'content_skipped_because_forbidden_chars'],\n",
       "      dtype='object')"
      ]
     },
     "execution_count": 135,
     "metadata": {},
     "output_type": "execute_result"
    }
   ],
   "source": [
    "df.columns"
   ]
  },
  {
   "cell_type": "code",
   "execution_count": 136,
   "metadata": {},
   "outputs": [],
   "source": [
    "with open(\"../data/processed/stats/scrapped.pickle\", \"rb\") as o:\n",
    "    stats = pickle.load(o)"
   ]
  },
  {
   "cell_type": "code",
   "execution_count": 41,
   "metadata": {},
   "outputs": [
    {
     "data": {
      "text/plain": [
       "{'title_skipped_because_min_length': array([7714,   75], dtype=uint64),\n",
       " 'title_skipped_alpha_count': array([  7, 476], dtype=uint64),\n",
       " 'title_skipped_because_max_numeric': array([  59, 3983], dtype=uint64),\n",
       " 'title_skipped_because_max_non_ascii': array([0, 0], dtype=uint64),\n",
       " 'title_skipped_because_forbidden_chars': array([  7, 591], dtype=uint64),\n",
       " 'content_skipped_because_min_length': array([   9325, 1081111], dtype=uint64),\n",
       " 'content_skipped_alpha_count': array([    38, 118124], dtype=uint64),\n",
       " 'content_skipped_because_max_numeric': array([   26, 35149], dtype=uint64),\n",
       " 'content_skipped_because_max_non_ascii': array([0, 0], dtype=uint64),\n",
       " 'content_skipped_because_forbidden_chars': array([    63, 213157], dtype=uint64)}"
      ]
     },
     "execution_count": 41,
     "metadata": {},
     "output_type": "execute_result"
    }
   ],
   "source": [
    "stats"
   ]
  },
  {
   "cell_type": "code",
   "execution_count": 42,
   "metadata": {},
   "outputs": [
    {
     "name": "stdout",
     "output_type": "stream",
     "text": [
      "\n",
      "Cleaning statistics:\n",
      "title Skipped because line length was below minimum (lines/chars): [7714   75]\n",
      "title Skipped because line had forbidden characters (lines/chars): [  7 591]\n",
      "title Skipped because alpha count was below minimum (lines/chars): [  7 476]\n",
      "title Skipped because digit count was above maximum (lines/chars): [  59 3983]\n",
      "title Skipped because too many non-ascii characters (lines/chars): [0 0]\n",
      "content Skipped because line length was below minimum (lines/chars): [   9325 1081111]\n",
      "content Skipped because line had forbidden characters (lines/chars): [    63 213157]\n",
      "content Skipped because alpha count was below minimum (lines/chars): [    38 118124]\n",
      "content Skipped because digit count was above maximum (lines/chars): [   26 35149]\n",
      "content Skipped because too many non-ascii characters (lines/chars): [0 0]\n"
     ]
    }
   ],
   "source": [
    "cleaner = Cleaner(columns=[\"title\", \"content\"])\n",
    "\n",
    "cleaner.print_stats(stats=stats)"
   ]
  },
  {
   "cell_type": "code",
   "execution_count": 137,
   "metadata": {},
   "outputs": [],
   "source": [
    "with open(\"contents.txt\", \"w\") as o:\n",
    "    o.write(\"\\n\\n\".join([title for title in df[\"content\"]]))"
   ]
  },
  {
   "cell_type": "code",
   "execution_count": 62,
   "metadata": {},
   "outputs": [
    {
     "data": {
      "text/plain": [
       "'Prima reacție a celor 18.000 de angajați Microsoft în momentul în care au fost anunțați că sunt concediați a fost ”Are you sure you want to fire me? Yes / No / Cancel”;'"
      ]
     },
     "execution_count": 62,
     "metadata": {},
     "output_type": "execute_result"
    }
   ],
   "source": [
    "line = \"- Prima reacție a celor 18.000 de angajați Microsoft în momentul în care au fost anunțați că sunt concediați a fost ”Are you sure you want to fire me? Yes / No / Cancel”;\"\n",
    "r6 = re.compile(r\"- \")\n",
    "\n",
    "r6.sub(\"\", line)"
   ]
  },
  {
   "cell_type": "code",
   "execution_count": 109,
   "metadata": {},
   "outputs": [
    {
     "data": {
      "text/plain": [
       "'(a)'"
      ]
     },
     "execution_count": 109,
     "metadata": {},
     "output_type": "execute_result"
    }
   ],
   "source": [
    "line = \"( a)\"\n",
    "a = re.compile(r\"\\( (.+)\\)\")\n",
    "a.sub(r\"(\\1)\", line)"
   ]
  },
  {
   "cell_type": "code",
   "execution_count": 111,
   "metadata": {},
   "outputs": [
    {
     "data": {
      "text/plain": [
       "'a asd fds erw red'"
      ]
     },
     "execution_count": 111,
     "metadata": {},
     "output_type": "execute_result"
    }
   ],
   "source": [
    "line = \"<a asd fds erw red>\"\n",
    "a = re.compile(r\"<(.+)>\")\n",
    "a.sub(r\"\\1\", line)"
   ]
  },
  {
   "cell_type": "code",
   "execution_count": 123,
   "metadata": {},
   "outputs": [
    {
     "data": {
      "text/plain": [
       "' În satul Olimpic fiecare se cunoaște cu fiecare, asta și pentru că au numele scrise pe tricouri. Cel mai bogat om din sat e preotul satului Olimpic, fiindcă are o biserică medaliată toată cu aur. Primarul satului olimpic i-a împroprietărit pe țăranii din sat cu loturi olimpice. În localitate există și curva satului Olimpic, care face sex cu clanul sportivilor. Țăranii din satul Olimpic au intrat în campanie agricolă și recoltează de pe câmp sulițe, discuri și ciocane. Există o veche rivalitate între satul Olimpic și satul vecin. Principalele canale media sunt postul de radio Antena Satelor Olimpice și emisiunea TV Viața Satului Olimpic . Bătrânii satului Olimpic au o vorbă: Sportivul care e fără de păcat are voie să arunce primul cu sulița. Primarul satului a cerut Comitetului Olimpic ca satul Olimpic să devină municipiu10. Primarul din satul Olimpic le-a promis sătenilor că dacă va fi reales le va face și un teren de sport.'"
      ]
     },
     "execution_count": 123,
     "metadata": {},
     "output_type": "execute_result"
    }
   ],
   "source": [
    "line = \"\"\"\n",
    "1. În satul Olimpic fiecare se cunoaște cu fiecare, asta și pentru că au numele scrise pe tricouri.\n",
    "2. Cel mai bogat om din sat e preotul satului Olimpic, fiindcă are o biserică medaliată toată cu aur.\n",
    "3. Primarul satului olimpic i-a împroprietărit pe țăranii din sat cu loturi olimpice.4. În localitate există și curva satului Olimpic, care face sex cu clanul sportivilor.\n",
    "5. Țăranii din satul Olimpic au intrat în campanie agricolă și recoltează de pe câmp sulițe, discuri și ciocane.\n",
    "6. Există o veche rivalitate între satul Olimpic și satul vecin.\n",
    "7. Principalele canale media sunt postul de radio Antena Satelor Olimpice și emisiunea TV Viața Satului Olimpic .\n",
    "8. Bătrânii satului Olimpic au o vorbă: Sportivul care e fără de păcat are voie să arunce primul cu sulița.\n",
    "9. Primarul satului a cerut Comitetului Olimpic ca satul Olimpic să devină municipiu\n",
    "10. Primarul din satul Olimpic le-a promis sătenilor că dacă va fi reales le va face și un teren de sport.\n",
    "\"\"\"\n",
    "\n",
    "r6 = re.compile(r\"[1-9]+\\.\")\n",
    "\n",
    "line = r6.sub(\"\", line)\n",
    "line = line.replace(\"\\n\", '')\n",
    "\n",
    "line"
   ]
  },
  {
   "cell_type": "code",
   "execution_count": 129,
   "metadata": {},
   "outputs": [
    {
     "data": {
      "text/plain": [
       "' O rachetă balistică lansată din Tiraspol ajunge la București în 35 de minute. Calculați înălțimea maximă atinsă. (1 punct.) Estimați numărul de victime. (2 puncte); O brigadă de tancuri pleacă din Moscova simultan cu o brigadă care pleacă din Odessa. Desenați un AK-47, tancurile oricum sunt pe drum; (1 punct); Se dă o populație în Crimeea. Care este intersecția dintre mulțimea celor care vor anexarea și mulțimea celor deportați în Siberia? (1 punct;) Relieful României este:a.) Favorabil unei invazii pe mare;b) Favorabil unui desant aerian;c) E suficient Vasile Ernu; Sașa are un lagăr cu 50 de locuri în Siberia. În fiecare zi îi vin 2 prizonieri și îi moare unul. După cât timp va trebui Sașa să mai construiască un lagăr? Se dă următorul enunț în limba română: “Ana are mere”. Este adevărat că Ana are mere?a) Nu știu, eu vorbesc doar limba moldovenească (1 punct;);b) Da (deportat Siberia). Vladimir Putin se află într-o pădure cu 2000 de urși, dar are doar 6 gloanțe pe țeavă. În cât timp va omorî el toți urșii?a.) Depinde de debitul de apă al pârâului în care îi îneacă (2 puncte);b) Urșii au fost îndepărtați deja pentru că amenințau drepturile minorității ruse din pădure (1 punct). Limba oficială a României estea) Limba română (0 puncte);b) Limba maghiară (3 puncte);c) Davai ceas (9 puncte); Versurile “Ce-ți doresc eu ție, dulce Românie” vă sugerează:a.) Dezmembrarea Poloniei;b) Invadarea Cehoslovaciei;c) Cernobîl;10. Primul gulag a fost înființat în 1918 iar KGB-ul a luat ființă în  Calculați vârsta lui Ion Iliescu.* Se acordă o invazie din oficiu'"
      ]
     },
     "execution_count": 129,
     "metadata": {},
     "output_type": "execute_result"
    }
   ],
   "source": [
    "line = \"\"\"\n",
    "1. O rachetă balistică lansată din Tiraspol ajunge la București în 35 de minute. Calculați înălțimea maximă atinsă. (1 punct.) Estimați numărul de victime. (2 puncte);2. O brigadă de tancuri pleacă din Moscova simultan cu o brigadă care pleacă din Odessa. Desenați un AK-47, tancurile oricum sunt pe drum; (1 punct);3. Se dă o populație în Crimeea. Care este intersecția dintre mulțimea celor care vor anexarea și mulțimea celor deportați în Siberia? (1 punct;)4. Relieful României este:\n",
    "a.) Favorabil unei invazii pe mare;\n",
    "b) Favorabil unui desant aerian;\n",
    "c) E suficient Vasile Ernu;5. Sașa are un lagăr cu 50 de locuri în Siberia. În fiecare zi îi vin 2 prizonieri și îi moare unul. După cât timp va trebui Sașa să mai construiască un lagăr?6. Se dă următorul enunț în limba română: “Ana are mere”. Este adevărat că Ana are mere?\n",
    "a) Nu știu, eu vorbesc doar limba moldovenească (1 punct;);\n",
    "b) Da (deportat Siberia).7. Vladimir Putin se află într-o pădure cu 2000 de urși, dar are doar 6 gloanțe pe țeavă. În cât timp va omorî el toți urșii?\n",
    "a.) Depinde de debitul de apă al pârâului în care îi îneacă (2 puncte);\n",
    "b) Urșii au fost îndepărtați deja pentru că amenințau drepturile minorității ruse din pădure (1 punct).8. Limba oficială a României este\n",
    "a) Limba română (0 puncte);\n",
    "b) Limba maghiară (3 puncte);\n",
    "c) Davai ceas (9 puncte);9. Versurile “Ce-ți doresc eu ție, dulce Românie” vă sugerează:\n",
    "a.) Dezmembrarea Poloniei;\n",
    "b) Invadarea Cehoslovaciei;\n",
    "c) Cernobîl;10. Primul gulag a fost înființat în 1918 iar KGB-ul a luat ființă în 1954. Calculați vârsta lui Ion Iliescu.* Se acordă o invazie din oficiu\n",
    "\"\"\"\n",
    "\n",
    "r6 = re.compile(r\"[1-9]+\\.\")\n",
    "r14 = re.compile(r\"\\b[a-zA-Z]\\.?\\)\\b\")\n",
    "\n",
    "line = r6.sub(\"\", line)\n",
    "line = r14.sub(\"\", line)\n",
    "line = line.replace(\"\\n\", '')\n",
    "\n",
    "\n",
    "line"
   ]
  },
  {
   "cell_type": "code",
   "execution_count": 128,
   "metadata": {},
   "outputs": [
    {
     "data": {
      "text/plain": [
       "'\\nMai multe asociații civice participă, sâmbătă, la o manifestație de solidaritate cu poporul ucrainean în fața Ambasadei Ucrainei la București, potrivit News.ro. S-a scandat ”Ucraina” și ”Zelenski”, fiind intonat imnul țării vecine. Apoi, participanții s-au deplasat la Ambasada Rusiei pentru a protesta față de invadarea Ucrainei și pentru a cere oprirea războiului. Un tânăr a aruncat cu ouă înspre clădirea Ambasadei, fiind luat de jandarmi pentru verificări.\\n\\nProteste mult mai ample decât la București au avut loc în alte capitale europene. La Londra, Paris, Nicosia, Berlin, Atena, Helsinki, Madrid și Milano zeci de mii de oameni au defilat cu steaguri ucrainene și cu pancarde împotriva războiului.\\nUn miting pe care organizatorii l-au estimat la 20.000 de persoane a avut loc în capitala Elveției, Berna, unde steagul ucrainean a fost arborat deasupra sediului consiliului municipal.\\n\\nÎn America Latină, protestatarii s-au alăturat mitingurilor de vineri din Argentina, Brazilia, Mexic și Peru, scandând “Trăiască Ucraina”.\\nLa Sidney, câteva sute de oameni au mărșăluit printr-o ploaie torențială, scandând “Ucraina va învinge!”, în timp ce protestatarii de la Tokyo au cerut expulzarea Rusiei din Consiliul de Securitate al Națiunilor Unite.\\nSurse alternative: Reuters, BBC, News.ro\\nEchipa Biziday nu a solicitat și nu a acceptat nicio formă de finanțare din fonduri guvernamentale. Spațiile de publicitate sunt limitate, iar reclama neinvazivă.\\nDacă îți place ce facem, poți contribui tu pentru susținerea echipei Biziday.\\nSusține echipa Biziday\\nMai multe știri\\n'"
      ]
     },
     "execution_count": 128,
     "metadata": {},
     "output_type": "execute_result"
    }
   ],
   "source": [
    "line = \"\"\"\n",
    "Mai multe asociații civice participă, sâmbătă, la o manifestație de solidaritate cu poporul ucrainean în fața Ambasadei Ucrainei la București, potrivit News.ro. S-a scandat ”Ucraina” și ”Zelenski”, fiind intonat imnul țării vecine. Apoi, participanții s-au deplasat la Ambasada Rusiei pentru a protesta față de invadarea Ucrainei și pentru a cere oprirea războiului. Un tânăr a aruncat cu ouă înspre clădirea Ambasadei, fiind luat de jandarmi pentru verificări.\n",
    "/* (c)AdOcean 2003-2019, thinkdigital_ro.biziday.ro.Allsite.inread */ ado.slave('adoceanthinkdigitalrowpirewlpdy', {myMaster: 'GSn6F4G5Q0eNI0MxfDC.T321AeMGSQbf6B3d2t8hqU3.L7'});\n",
    "Proteste mult mai ample decât la București au avut loc în alte capitale europene. La Londra, Paris, Nicosia, Berlin, Atena, Helsinki, Madrid și Milano zeci de mii de oameni au defilat cu steaguri ucrainene și cu pancarde împotriva războiului.\n",
    "Un miting pe care organizatorii l-au estimat la 20.000 de persoane a avut loc în capitala Elveției, Berna, unde steagul ucrainean a fost arborat deasupra sediului consiliului municipal.\n",
    "/* (c)AdOcean 2003-2019, thinkdigital_ro.biziday.ro.Allsite.rectangle_300x250_2 */ ado.slave('adoceanthinkdigitalrouaniqssjrc', {myMaster: 'GSn6F4G5Q0eNI0MxfDC.T321AeMGSQbf6B3d2t8hqU3.L7'});\n",
    "În America Latină, protestatarii s-au alăturat mitingurilor de vineri din Argentina, Brazilia, Mexic și Peru, scandând “Trăiască Ucraina”.\n",
    "La Sidney, câteva sute de oameni au mărșăluit printr-o ploaie torențială, scandând “Ucraina va învinge!”, în timp ce protestatarii de la Tokyo au cerut expulzarea Rusiei din Consiliul de Securitate al Națiunilor Unite.\n",
    "Surse alternative: Reuters, BBC, News.ro\n",
    "Echipa Biziday nu a solicitat și nu a acceptat nicio formă de finanțare din fonduri guvernamentale. Spațiile de publicitate sunt limitate, iar reclama neinvazivă.\n",
    "Dacă îți place ce facem, poți contribui tu pentru susținerea echipei Biziday.\n",
    "Susține echipa Biziday\n",
    "Mai multe știri\n",
    "\"\"\"\n",
    "\n",
    "r6 = re.compile(r\"\\/\\*.+\")\n",
    "\n",
    "line = r6.sub(\"\", line)\n",
    "line"
   ]
  },
  {
   "cell_type": "code",
   "execution_count": 130,
   "metadata": {},
   "outputs": [
    {
     "data": {
      "text/plain": [
       "'\\n\\nTotuși, un răspuns din partea guvernului de la Ankara care să confirme afirmațiile liderului ucrainean nu a venit încă. Conform Convenției de la Montreux cu privire la statutul strâmtorilor, din 1936, Turcia deține controlul asupra strâmtorilor Bosfor și Dardanele și poate limita trecerea navelor de luptă în timpul războiului sau dacă se simte amenințată.\\nVineri, ministrul turc de externe a precizat că nu poate restricționa accesul navelor de război rusești în Marea Neagră prin strâmtorile sale, așa cum a cerut Ucraina, din cauza unei clauze regăsite într-un pact internațional care prevede că navele au dreptul să se întoarcă la bazele militare de unde au fost detașate.\\nEchipa Biziday nu a solicitat și nu a acceptat nicio formă de finanțare din fonduri guvernamentale. Spațiile de publicitate sunt limitate, iar reclama neinvazivă.\\nDacă îți place ce facem, poți contribui tu pentru susținerea echipei Biziday.\\nSusține echipa Biziday\\nMai multe știri\\n\\n\\n'"
      ]
     },
     "execution_count": 130,
     "metadata": {},
     "output_type": "execute_result"
    }
   ],
   "source": [
    "line = \"\"\"\n",
    "@ZelenskyyUa) February 26,2022\n",
    "Totuși, un răspuns din partea guvernului de la Ankara care să confirme afirmațiile liderului ucrainean nu a venit încă. Conform Convenției de la Montreux cu privire la statutul strâmtorilor, din 1936, Turcia deține controlul asupra strâmtorilor Bosfor și Dardanele și poate limita trecerea navelor de luptă în timpul războiului sau dacă se simte amenințată.\n",
    "Vineri, ministrul turc de externe a precizat că nu poate restricționa accesul navelor de război rusești în Marea Neagră prin strâmtorile sale, așa cum a cerut Ucraina, din cauza unei clauze regăsite într-un pact internațional care prevede că navele au dreptul să se întoarcă la bazele militare de unde au fost detașate.\n",
    "Echipa Biziday nu a solicitat și nu a acceptat nicio formă de finanțare din fonduri guvernamentale. Spațiile de publicitate sunt limitate, iar reclama neinvazivă.\n",
    "Dacă îți place ce facem, poți contribui tu pentru susținerea echipei Biziday.\n",
    "Susține echipa Biziday\n",
    "Mai multe știri\n",
    "\n",
    "@@@@@@@RALee85 @200_zoka @jpg2t785 @Danspiun @TheDeadDistrict @Rebel44CZ @@\n",
    "\"\"\"\n",
    "\n",
    "r6 = re.compile(r\"@.+\")\n",
    "\n",
    "line = r6.sub(\"\", line)\n",
    "line"
   ]
  },
  {
   "cell_type": "code",
   "execution_count": 132,
   "metadata": {},
   "outputs": [
    {
     "data": {
      "text/plain": [
       "'\\nAmbasada Rusiei în Franța a solicitat explicații din partea autorităților de la Paris cu privire la oprirea navei de marfă.\\nStatele membre UE au convenit vineri să înghețe activele europene ale președintelui rus Vladimir Putin și ale lui Serghei Lavrov, ministrul de Externe al Rusiei. Anterior, atât UE cât și SUA au anunțat un set de sancțiuni economice care vizează mai multe persoane și companii rusești, ca răspuns la invazia Ucrainei.\\n\\n \\n \\n \\n \\n'"
      ]
     },
     "execution_count": 132,
     "metadata": {},
     "output_type": "execute_result"
    }
   ],
   "source": [
    "line = \"\"\"\n",
    "Ambasada Rusiei în Franța a solicitat explicații din partea autorităților de la Paris cu privire la oprirea navei de marfă.\n",
    "Statele membre UE au convenit vineri să înghețe activele europene ale președintelui rus Vladimir Putin și ale lui Serghei Lavrov, ministrul de Externe al Rusiei. Anterior, atât UE cât și SUA au anunțat un set de sancțiuni economice care vizează mai multe persoane și companii rusești, ca răspuns la invazia Ucrainei.\n",
    "Surse alternative: Sky News, Reuters\n",
    "Echipa Biziday nu a solicitat și nu a acceptat nicio formă de finanțare din fonduri guvernamentale. Spațiile de publicitate sunt limitate, iar reclama neinvazivă.\n",
    "Dacă îți place ce facem, poți contribui tu pentru susținerea echipei Biziday.\n",
    "Susține echipa Biziday\n",
    "Mai multe știri\n",
    "\"\"\"\n",
    "\n",
    "r17 = re.compile(r\"Surse alternative:.+\")\n",
    "\n",
    "line = line.replace(\"Mai multe știri\", \" \")\n",
    "line = line.replace(\"Susține echipa Biziday\", \" \")\n",
    "line = line.replace(\n",
    "    \"Dacă îți place ce facem, poți contribui tu pentru susținerea echipei Biziday.\", \" \"\n",
    ")\n",
    "line = line.replace(\n",
    "    \"Echipa Biziday nu a solicitat și nu a acceptat nicio\"\n",
    "    + \" formă de finanțare din fonduri guvernamentale. Spațiile de publicitate sunt limitate, iar reclama neinvazivă.\",\n",
    "    \" \",\n",
    ")\n",
    "r17.sub(\"\", line)"
   ]
  },
  {
   "cell_type": "markdown",
   "metadata": {},
   "source": [
    "REZULTATE BACALAUREAT\n",
    "\n",
    "REZULTATE EVALUARE NAȚIONALĂ\n",
    "\n",
    "Rezultate Admitere Liceu\n",
    "\n",
    "Prezența la vot în județul\n",
    "\n",
    "Răspuns: \n"
   ]
  },
  {
   "cell_type": "code",
   "execution_count": 226,
   "metadata": {},
   "outputs": [],
   "source": [
    "from wordcloud import WordCloud\n",
    "import time\n",
    "import advertools as adv\n",
    "\n",
    "wc = WordCloud(background_color = 'white', width = 3840, height = 2160)"
   ]
  },
  {
   "cell_type": "markdown",
   "metadata": {},
   "source": [
    "Min date: Timestamp('2007-03-29 00:00:00+0000', tz='UTC')"
   ]
  },
  {
   "cell_type": "code",
   "execution_count": 227,
   "metadata": {},
   "outputs": [],
   "source": [
    "stop_words = adv.stopwords[\"romanian\"]\n",
    "stop_words.add(\"însă\")\n",
    "stop_words.add(\"și\")\n",
    "stop_words.add(\"şi\")\n",
    "stop_words.add(\"Şi\")\n",
    "stop_words.add(\"de\")\n",
    "stop_words.add(\"cu\")\n",
    "stop_words.add(\"în\")\n",
    "stop_words.add(\"din\")\n",
    "stop_words.add(\"spune\")\n",
    "stop_words.add(\"spus\")\n",
    "stop_words.add(\"trebuie\")\n",
    "stop_words.add(\"într o\")\n",
    "stop_words.add(\"într un\")\n",
    "stop_words.add(\"făcut\")\n",
    "stop_words.add(\"dacă\")\n",
    "stop_words.add(\"așa\")\n",
    "stop_words.add(\"s au\")\n",
    "stop_words.add(\"într\")\n"
   ]
  },
  {
   "cell_type": "code",
   "execution_count": 225,
   "metadata": {},
   "outputs": [],
   "source": [
    "time_ = pd.Timestamp(\"2010-01-01 00:00:00+0000\", tz=\"UTC\")\n",
    "year = pd.Timedelta(days=365)\n",
    "while time_ < pd.Timestamp.utcnow():\n",
    "    sentences = \"\"\n",
    "    for sentence in df[(df.date > time_) & (df.date <= time_ + year)][\"content\"]:\n",
    "        sentences += sentence\n",
    "    for stop_word in stop_words:\n",
    "        sentences = re.sub(fr\"\\b({stop_word})\\b\", \" \", sentences, flags=re.I)\n",
    "    sentences = re.sub(r\"\\b[a-zA-Z1-9]\\b\", \" \", sentences, flags=re.I)\n",
    "    sentences = re.sub(r\"\\bs\\b\", \" \", sentences)\n",
    "    sentences = re.sub(r\"\\bS\\b\", \" \", sentences)\n",
    "    sentences = re.sub(\" +\", \" \", sentences).strip()\n",
    "\n",
    "    wc.generate_from_text(sentences)\n",
    "    num_words = len(sentences.split(\" \"))\n",
    "    wc.to_file(f\"content_{time_}_{num_words}.png\")\n",
    "    time_ += year\n"
   ]
  },
  {
   "cell_type": "code",
   "execution_count": 229,
   "metadata": {},
   "outputs": [
    {
     "data": {
      "text/plain": [
       "274"
      ]
     },
     "execution_count": 229,
     "metadata": {},
     "output_type": "execute_result"
    }
   ],
   "source": [
    "from stop_words import get_stop_words\n",
    "stop_words = get_stop_words('ro')\n",
    "len(stop_words)"
   ]
  },
  {
   "cell_type": "code",
   "execution_count": 213,
   "metadata": {},
   "outputs": [],
   "source": [
    "sentences = \"\"\"\n",
    "1. În satul Olimpic fiecare se cunoaște cu fiecare, asta și pentru că au numele scrise pe tricouri.\n",
    "2. Cel mai bogat om din sat e preotul satului Olimpic, fiindcă are o biserică medaliată toată cu aur.\n",
    "3. Primarul satului olimpic i-a împroprietărit pe țăranii din sat cu loturi olimpice.\n",
    "4. În localitate există și curva satului Olimpic, care face sex cu clanul sportivilor.\n",
    "5. Țăranii din satul Olimpic au intrat în campanie agricolă și recoltează de pe câmp sulițe, discuri și ciocane.\n",
    "6. Există o veche rivalitate între satul Olimpic și satul vecin.\n",
    "7. Principalele canale media sunt postul de radio Antena Satelor Olimpice și emisiunea TV Viața Satului Olimpic .\n",
    "8. Bătrânii satului Olimpic au o vorbă: Sportivul care e fără de păcat are voie să arunce primul cu sulița.\n",
    "9. Primarul satului a cerut Comitetului Olimpic ca satul Olimpic să devină municipiu\n",
    "10. Primarul din satul Olimpic le-a promis sătenilor că dacă va fi reales le va face și un teren de sport.\n",
    "\"\"\"\n",
    "for stop_word in stop_words:\n",
    "    sentences = re.sub(fr\" {stop_word} \", \" \", sentences, flags=re.I)\n"
   ]
  },
  {
   "cell_type": "code",
   "execution_count": 214,
   "metadata": {},
   "outputs": [
    {
     "data": {
      "text/plain": [
       "'\\n1. satul Olimpic cunoaște fiecare, numele scrise tricouri.\\n2. bogat om sat preotul satului Olimpic, fiindcă biserică medaliată aur.\\n3. Primarul satului olimpic i-a împroprietărit țăranii sat loturi olimpice.4. localitate există curva satului Olimpic, sex clanul sportivilor.\\n5. Țăranii satul Olimpic intrat campanie agricolă recoltează câmp sulițe, discuri ciocane.\\n6. Există veche rivalitate satul Olimpic satul vecin.\\n7. Principalele canale media postul radio Antena Satelor Olimpice emisiunea TV Viața Satului Olimpic .\\n8. Bătrânii satului Olimpic vorbă: Sportivul păcat voie arunce sulița.\\n9. Primarul satului cerut Comitetului Olimpic satul Olimpic devină municipiu\\n10. Primarul satul Olimpic le-a promis sătenilor reales teren sport.\\n'"
      ]
     },
     "execution_count": 214,
     "metadata": {},
     "output_type": "execute_result"
    }
   ],
   "source": [
    "sentences"
   ]
  },
  {
   "cell_type": "code",
   "execution_count": 191,
   "metadata": {},
   "outputs": [
    {
     "data": {
      "text/plain": [
       "'Ana  mere   pere faine   ana  sda  '"
      ]
     },
     "execution_count": 191,
     "metadata": {},
     "output_type": "execute_result"
    }
   ],
   "source": [
    "sentences = \"Ana are mere multe si pere faine si la ana la sda la \"\n",
    "for stop_word in stop_words:\n",
    "    sentences = re.sub(fr\"\\b{stop_word}\\b\", \"\", sentences)\n",
    "\n",
    "sentences"
   ]
  },
  {
   "cell_type": "code",
   "execution_count": null,
   "metadata": {},
   "outputs": [],
   "source": [
    "sentences = \"Ana are mere multe si pere faine si la la la\"\n",
    "\n",
    "for stop_word in adv.stopwords[\"romanian\"]:\n",
    "    sentences = re.sub(fr\" {stop_word} \",\" \", sentences)\n",
    "\n",
    "sentences"
   ]
  }
 ],
 "metadata": {
  "interpreter": {
   "hash": "ad6fb52b133632c022ef432d36f1fb015b2521118402e90bfda3af52f5ffd485"
  },
  "kernelspec": {
   "display_name": "Python 3.10.2 ('licenta-env': venv)",
   "language": "python",
   "name": "python3"
  },
  "language_info": {
   "codemirror_mode": {
    "name": "ipython",
    "version": 3
   },
   "file_extension": ".py",
   "mimetype": "text/x-python",
   "name": "python",
   "nbconvert_exporter": "python",
   "pygments_lexer": "ipython3",
   "version": "3.10.2"
  },
  "orig_nbformat": 4
 },
 "nbformat": 4,
 "nbformat_minor": 2
}
